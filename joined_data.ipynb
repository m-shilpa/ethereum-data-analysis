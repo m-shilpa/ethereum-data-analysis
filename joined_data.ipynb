{
  "nbformat": 4,
  "nbformat_minor": 0,
  "metadata": {
    "colab": {
      "name": "joined data.ipynb",
      "provenance": [],
      "authorship_tag": "ABX9TyMuhSUjYo0+2BHtlU3ILdiq",
      "include_colab_link": true
    },
    "kernelspec": {
      "name": "python3",
      "display_name": "Python 3"
    }
  },
  "cells": [
    {
      "cell_type": "markdown",
      "metadata": {
        "id": "view-in-github",
        "colab_type": "text"
      },
      "source": [
        "<a href=\"https://colab.research.google.com/github/mshilpaa/ethereum-data-analysis/blob/master/joined_data.ipynb\" target=\"_parent\"><img src=\"https://colab.research.google.com/assets/colab-badge.svg\" alt=\"Open In Colab\"/></a>"
      ]
    },
    {
      "cell_type": "code",
      "metadata": {
        "id": "LyBVp18JqRZQ",
        "colab_type": "code",
        "outputId": "9920ccd8-acbf-4ee7-f0e6-7fcb7494f15e",
        "colab": {
          "base_uri": "https://localhost:8080/",
          "height": 34
        }
      },
      "source": [
        "from google.colab import drive\n",
        "drive.mount('/content/gdrive')"
      ],
      "execution_count": 2,
      "outputs": [
        {
          "output_type": "stream",
          "text": [
            "Drive already mounted at /content/gdrive; to attempt to forcibly remount, call drive.mount(\"/content/gdrive\", force_remount=True).\n"
          ],
          "name": "stdout"
        }
      ]
    },
    {
      "cell_type": "code",
      "metadata": {
        "id": "1ZiLQP1ot9bf",
        "colab_type": "code",
        "colab": {}
      },
      "source": [
        "\n",
        "import pandas as pd\n",
        "import numpy as np\n",
        "import matplotlib.pyplot as plt"
      ],
      "execution_count": 0,
      "outputs": []
    },
    {
      "cell_type": "code",
      "metadata": {
        "id": "EX66Vnk28GPK",
        "colab_type": "code",
        "colab": {
          "base_uri": "https://localhost:8080/",
          "height": 50
        },
        "outputId": "cee8e3b6-de0a-4931-b00c-bb545abcd49d"
      },
      "source": [
        "in_txn = pd.read_csv('/content/gdrive/My Drive/project_data/in_txn.csv')\n",
        "out_txn = pd.read_csv('/content/gdrive/My Drive/project_data/out_txn.csv')"
      ],
      "execution_count": 4,
      "outputs": [
        {
          "output_type": "stream",
          "text": [
            "/usr/local/lib/python3.6/dist-packages/IPython/core/interactiveshell.py:2718: DtypeWarning: Columns (2) have mixed types. Specify dtype option on import or set low_memory=False.\n",
            "  interactivity=interactivity, compiler=compiler, result=result)\n"
          ],
          "name": "stderr"
        }
      ]
    },
    {
      "cell_type": "code",
      "metadata": {
        "id": "U6P6Ly_18XqA",
        "colab_type": "code",
        "colab": {
          "base_uri": "https://localhost:8080/",
          "height": 34
        },
        "outputId": "ef5abd14-fd0a-4db8-ffc3-4f20fa75ab54"
      },
      "source": [
        "in_txn.shape"
      ],
      "execution_count": 5,
      "outputs": [
        {
          "output_type": "execute_result",
          "data": {
            "text/plain": [
              "(2207451, 4)"
            ]
          },
          "metadata": {
            "tags": []
          },
          "execution_count": 5
        }
      ]
    },
    {
      "cell_type": "code",
      "metadata": {
        "id": "E0Z43pCD8gh_",
        "colab_type": "code",
        "colab": {
          "base_uri": "https://localhost:8080/",
          "height": 101
        },
        "outputId": "5e1ec36c-47a8-4473-b775-64abcc5b65b7"
      },
      "source": [
        "in_txn.dtypes"
      ],
      "execution_count": 6,
      "outputs": [
        {
          "output_type": "execute_result",
          "data": {
            "text/plain": [
              "address                  object\n",
              "no_of_in_transactions     int64\n",
              "tot_ether_recieved       object\n",
              "tax_type                 object\n",
              "dtype: object"
            ]
          },
          "metadata": {
            "tags": []
          },
          "execution_count": 6
        }
      ]
    },
    {
      "cell_type": "code",
      "metadata": {
        "id": "bD-oMKAG8dJe",
        "colab_type": "code",
        "colab": {
          "base_uri": "https://localhost:8080/",
          "height": 34
        },
        "outputId": "acf14e0c-fcf8-4daf-a63b-e6d2260a6bf1"
      },
      "source": [
        "out_txn.shape"
      ],
      "execution_count": 7,
      "outputs": [
        {
          "output_type": "execute_result",
          "data": {
            "text/plain": [
              "(2290371, 4)"
            ]
          },
          "metadata": {
            "tags": []
          },
          "execution_count": 7
        }
      ]
    },
    {
      "cell_type": "code",
      "metadata": {
        "id": "SlFWVupl8ffY",
        "colab_type": "code",
        "colab": {
          "base_uri": "https://localhost:8080/",
          "height": 101
        },
        "outputId": "48e2eab7-7472-4828-ff68-87f41611edd8"
      },
      "source": [
        "out_txn.dtypes"
      ],
      "execution_count": 8,
      "outputs": [
        {
          "output_type": "execute_result",
          "data": {
            "text/plain": [
              "address                   object\n",
              "no_of_out_transactions     int64\n",
              "tot_ether_sent            object\n",
              "tax_type                  object\n",
              "dtype: object"
            ]
          },
          "metadata": {
            "tags": []
          },
          "execution_count": 8
        }
      ]
    },
    {
      "cell_type": "code",
      "metadata": {
        "id": "iCeMfSEX8mDb",
        "colab_type": "code",
        "colab": {
          "base_uri": "https://localhost:8080/",
          "height": 34
        },
        "outputId": "a557a705-8d73-4e8e-9173-c8f684dbcc8d"
      },
      "source": [
        "in_out_txn = pd.merge(in_txn, out_txn, on='address', how='inner')\n",
        "in_out_txn.shape"
      ],
      "execution_count": 13,
      "outputs": [
        {
          "output_type": "execute_result",
          "data": {
            "text/plain": [
              "(2207451, 7)"
            ]
          },
          "metadata": {
            "tags": []
          },
          "execution_count": 13
        }
      ]
    },
    {
      "cell_type": "code",
      "metadata": {
        "id": "v6o0dkmo8qJP",
        "colab_type": "code",
        "colab": {
          "base_uri": "https://localhost:8080/",
          "height": 402
        },
        "outputId": "7d2ad8f5-00f6-4cc1-937c-be6abd17f47a"
      },
      "source": [
        "in_out_txn"
      ],
      "execution_count": 14,
      "outputs": [
        {
          "output_type": "execute_result",
          "data": {
            "text/html": [
              "<div>\n",
              "<style scoped>\n",
              "    .dataframe tbody tr th:only-of-type {\n",
              "        vertical-align: middle;\n",
              "    }\n",
              "\n",
              "    .dataframe tbody tr th {\n",
              "        vertical-align: top;\n",
              "    }\n",
              "\n",
              "    .dataframe thead th {\n",
              "        text-align: right;\n",
              "    }\n",
              "</style>\n",
              "<table border=\"1\" class=\"dataframe\">\n",
              "  <thead>\n",
              "    <tr style=\"text-align: right;\">\n",
              "      <th></th>\n",
              "      <th>address</th>\n",
              "      <th>no_of_in_transactions</th>\n",
              "      <th>tot_ether_recieved</th>\n",
              "      <th>tax_type_x</th>\n",
              "      <th>no_of_out_transactions</th>\n",
              "      <th>tot_ether_sent</th>\n",
              "      <th>tax_type_y</th>\n",
              "    </tr>\n",
              "  </thead>\n",
              "  <tbody>\n",
              "    <tr>\n",
              "      <th>0</th>\n",
              "      <td>0xd4f8e83864c80ea703dd148c78b937cbec200243</td>\n",
              "      <td>9</td>\n",
              "      <td>27000000000000000</td>\n",
              "      <td>IN</td>\n",
              "      <td>97</td>\n",
              "      <td>19448289831436946</td>\n",
              "      <td>OUT</td>\n",
              "    </tr>\n",
              "    <tr>\n",
              "      <th>1</th>\n",
              "      <td>0x2bbed5e19de4fef234845c9ccdddbbef7cd531ba</td>\n",
              "      <td>9</td>\n",
              "      <td>12175785825760000000</td>\n",
              "      <td>IN</td>\n",
              "      <td>4</td>\n",
              "      <td>7355983090000000000</td>\n",
              "      <td>OUT</td>\n",
              "    </tr>\n",
              "    <tr>\n",
              "      <th>2</th>\n",
              "      <td>0xd9052a62ee61eec200c1972aa2a19fa3d5396b6d</td>\n",
              "      <td>14</td>\n",
              "      <td>10342497563429364</td>\n",
              "      <td>IN</td>\n",
              "      <td>32</td>\n",
              "      <td>0</td>\n",
              "      <td>OUT</td>\n",
              "    </tr>\n",
              "    <tr>\n",
              "      <th>3</th>\n",
              "      <td>0xe6b4a32cc822980d652bb185b33db6be69d39a13</td>\n",
              "      <td>17</td>\n",
              "      <td>16776853680000000000</td>\n",
              "      <td>IN</td>\n",
              "      <td>86</td>\n",
              "      <td>21009302000000000000</td>\n",
              "      <td>OUT</td>\n",
              "    </tr>\n",
              "    <tr>\n",
              "      <th>4</th>\n",
              "      <td>0x450fbad4690c9800bbd3b3bb7f051e6bfc886b62</td>\n",
              "      <td>12</td>\n",
              "      <td>2222479280000000000</td>\n",
              "      <td>IN</td>\n",
              "      <td>10</td>\n",
              "      <td>2211335110000000000</td>\n",
              "      <td>OUT</td>\n",
              "    </tr>\n",
              "    <tr>\n",
              "      <th>...</th>\n",
              "      <td>...</td>\n",
              "      <td>...</td>\n",
              "      <td>...</td>\n",
              "      <td>...</td>\n",
              "      <td>...</td>\n",
              "      <td>...</td>\n",
              "      <td>...</td>\n",
              "    </tr>\n",
              "    <tr>\n",
              "      <th>2207446</th>\n",
              "      <td>0x3e89863292284e8bfd0522c6a3c3734df4b5c472</td>\n",
              "      <td>8</td>\n",
              "      <td>101000000000000000000</td>\n",
              "      <td>IN</td>\n",
              "      <td>8</td>\n",
              "      <td>100996472000000000000</td>\n",
              "      <td>OUT</td>\n",
              "    </tr>\n",
              "    <tr>\n",
              "      <th>2207447</th>\n",
              "      <td>0x81d275b2a6ad50efc907ab067a875494b906449d</td>\n",
              "      <td>8</td>\n",
              "      <td>101000000000000000000</td>\n",
              "      <td>IN</td>\n",
              "      <td>8</td>\n",
              "      <td>100996472000000000000</td>\n",
              "      <td>OUT</td>\n",
              "    </tr>\n",
              "    <tr>\n",
              "      <th>2207448</th>\n",
              "      <td>0x04d68481505b6c93d9a2e0e8292bc7895bbfd20f</td>\n",
              "      <td>8</td>\n",
              "      <td>101000000000000000000</td>\n",
              "      <td>IN</td>\n",
              "      <td>9</td>\n",
              "      <td>100996031000000000000</td>\n",
              "      <td>OUT</td>\n",
              "    </tr>\n",
              "    <tr>\n",
              "      <th>2207449</th>\n",
              "      <td>0xa48c4c5d56220d44e4536b61a9e04910ff91ee67</td>\n",
              "      <td>8</td>\n",
              "      <td>101000000000000000000</td>\n",
              "      <td>IN</td>\n",
              "      <td>5</td>\n",
              "      <td>100996451000000000000</td>\n",
              "      <td>OUT</td>\n",
              "    </tr>\n",
              "    <tr>\n",
              "      <th>2207450</th>\n",
              "      <td>0xa2499e68670785b0192bcf74cff5cf250bcf3662</td>\n",
              "      <td>8</td>\n",
              "      <td>101000000000000000000</td>\n",
              "      <td>IN</td>\n",
              "      <td>3</td>\n",
              "      <td>100998677000000000000</td>\n",
              "      <td>OUT</td>\n",
              "    </tr>\n",
              "  </tbody>\n",
              "</table>\n",
              "<p>2207451 rows × 7 columns</p>\n",
              "</div>"
            ],
            "text/plain": [
              "                                            address  ...  tax_type_y\n",
              "0        0xd4f8e83864c80ea703dd148c78b937cbec200243  ...         OUT\n",
              "1        0x2bbed5e19de4fef234845c9ccdddbbef7cd531ba  ...         OUT\n",
              "2        0xd9052a62ee61eec200c1972aa2a19fa3d5396b6d  ...         OUT\n",
              "3        0xe6b4a32cc822980d652bb185b33db6be69d39a13  ...         OUT\n",
              "4        0x450fbad4690c9800bbd3b3bb7f051e6bfc886b62  ...         OUT\n",
              "...                                             ...  ...         ...\n",
              "2207446  0x3e89863292284e8bfd0522c6a3c3734df4b5c472  ...         OUT\n",
              "2207447  0x81d275b2a6ad50efc907ab067a875494b906449d  ...         OUT\n",
              "2207448  0x04d68481505b6c93d9a2e0e8292bc7895bbfd20f  ...         OUT\n",
              "2207449  0xa48c4c5d56220d44e4536b61a9e04910ff91ee67  ...         OUT\n",
              "2207450  0xa2499e68670785b0192bcf74cff5cf250bcf3662  ...         OUT\n",
              "\n",
              "[2207451 rows x 7 columns]"
            ]
          },
          "metadata": {
            "tags": []
          },
          "execution_count": 14
        }
      ]
    },
    {
      "cell_type": "code",
      "metadata": {
        "id": "vyfs5YG48tjg",
        "colab_type": "code",
        "colab": {}
      },
      "source": [
        "tokens_recieved = pd.read_csv('/content/gdrive/My Drive/project_data/tokens_recieved.csv')\n",
        "tokens_sent =pd.read_csv('/content/gdrive/My Drive/project_data/tokens_sent.csv')"
      ],
      "execution_count": 0,
      "outputs": []
    },
    {
      "cell_type": "code",
      "metadata": {
        "id": "nlCK6QrZHFA4",
        "colab_type": "code",
        "colab": {
          "base_uri": "https://localhost:8080/",
          "height": 118
        },
        "outputId": "10eff42d-491b-4a69-8e6e-3895a0559138"
      },
      "source": [
        "print(tokens_recieved.shape)\n",
        "print(tokens_recieved.dtypes)"
      ],
      "execution_count": 15,
      "outputs": [
        {
          "output_type": "stream",
          "text": [
            "(935362, 4)\n",
            "address                          object\n",
            "tot_distinct_tokens_recieved      int64\n",
            "tot_tokens_recieved               int64\n",
            "tot_token_value_recieved        float64\n",
            "dtype: object\n"
          ],
          "name": "stdout"
        }
      ]
    },
    {
      "cell_type": "code",
      "metadata": {
        "id": "OwhZ7Z9nHPus",
        "colab_type": "code",
        "colab": {
          "base_uri": "https://localhost:8080/",
          "height": 118
        },
        "outputId": "5d339450-6f8d-4648-82d8-6597a35476ba"
      },
      "source": [
        "print(tokens_sent.shape)\n",
        "print(tokens_sent.dtypes)"
      ],
      "execution_count": 16,
      "outputs": [
        {
          "output_type": "stream",
          "text": [
            "(793284, 4)\n",
            "address                      object\n",
            "tot_distinct_tokens_sent      int64\n",
            "tot_tokens_sent               int64\n",
            "tot_token_value_sent        float64\n",
            "dtype: object\n"
          ],
          "name": "stdout"
        }
      ]
    },
    {
      "cell_type": "code",
      "metadata": {
        "id": "zZkkMfHHGYai",
        "colab_type": "code",
        "colab": {
          "base_uri": "https://localhost:8080/",
          "height": 34
        },
        "outputId": "f6a26159-6d2c-4f68-d0a4-741a388d5902"
      },
      "source": [
        "in_out_token_sent = pd.merge(in_out_txn,tokens_recieved, on='address', how='inner')\n",
        "in_out_token_sent.shape"
      ],
      "execution_count": 19,
      "outputs": [
        {
          "output_type": "execute_result",
          "data": {
            "text/plain": [
              "(935362, 10)"
            ]
          },
          "metadata": {
            "tags": []
          },
          "execution_count": 19
        }
      ]
    },
    {
      "cell_type": "code",
      "metadata": {
        "id": "xUKR_A9bH1Rl",
        "colab_type": "code",
        "colab": {
          "base_uri": "https://localhost:8080/",
          "height": 422
        },
        "outputId": "e614dff2-5bf1-4435-d85b-87f69994d215"
      },
      "source": [
        "in_out_token_sent"
      ],
      "execution_count": 20,
      "outputs": [
        {
          "output_type": "execute_result",
          "data": {
            "text/html": [
              "<div>\n",
              "<style scoped>\n",
              "    .dataframe tbody tr th:only-of-type {\n",
              "        vertical-align: middle;\n",
              "    }\n",
              "\n",
              "    .dataframe tbody tr th {\n",
              "        vertical-align: top;\n",
              "    }\n",
              "\n",
              "    .dataframe thead th {\n",
              "        text-align: right;\n",
              "    }\n",
              "</style>\n",
              "<table border=\"1\" class=\"dataframe\">\n",
              "  <thead>\n",
              "    <tr style=\"text-align: right;\">\n",
              "      <th></th>\n",
              "      <th>address</th>\n",
              "      <th>no_of_in_transactions</th>\n",
              "      <th>tot_ether_recieved</th>\n",
              "      <th>tax_type_x</th>\n",
              "      <th>no_of_out_transactions</th>\n",
              "      <th>tot_ether_sent</th>\n",
              "      <th>tax_type_y</th>\n",
              "      <th>tot_distinct_tokens_recieved</th>\n",
              "      <th>tot_tokens_recieved</th>\n",
              "      <th>tot_token_value_recieved</th>\n",
              "    </tr>\n",
              "  </thead>\n",
              "  <tbody>\n",
              "    <tr>\n",
              "      <th>0</th>\n",
              "      <td>0xd4f8e83864c80ea703dd148c78b937cbec200243</td>\n",
              "      <td>9</td>\n",
              "      <td>27000000000000000</td>\n",
              "      <td>IN</td>\n",
              "      <td>97</td>\n",
              "      <td>19448289831436946</td>\n",
              "      <td>OUT</td>\n",
              "      <td>1</td>\n",
              "      <td>32</td>\n",
              "      <td>9.393942e+06</td>\n",
              "    </tr>\n",
              "    <tr>\n",
              "      <th>1</th>\n",
              "      <td>0x2bbed5e19de4fef234845c9ccdddbbef7cd531ba</td>\n",
              "      <td>9</td>\n",
              "      <td>12175785825760000000</td>\n",
              "      <td>IN</td>\n",
              "      <td>4</td>\n",
              "      <td>7355983090000000000</td>\n",
              "      <td>OUT</td>\n",
              "      <td>1</td>\n",
              "      <td>1</td>\n",
              "      <td>8.888880e+13</td>\n",
              "    </tr>\n",
              "    <tr>\n",
              "      <th>2</th>\n",
              "      <td>0xd9052a62ee61eec200c1972aa2a19fa3d5396b6d</td>\n",
              "      <td>14</td>\n",
              "      <td>10342497563429364</td>\n",
              "      <td>IN</td>\n",
              "      <td>32</td>\n",
              "      <td>0</td>\n",
              "      <td>OUT</td>\n",
              "      <td>1</td>\n",
              "      <td>32</td>\n",
              "      <td>1.870353e+11</td>\n",
              "    </tr>\n",
              "    <tr>\n",
              "      <th>3</th>\n",
              "      <td>0xe6b4a32cc822980d652bb185b33db6be69d39a13</td>\n",
              "      <td>17</td>\n",
              "      <td>16776853680000000000</td>\n",
              "      <td>IN</td>\n",
              "      <td>86</td>\n",
              "      <td>21009302000000000000</td>\n",
              "      <td>OUT</td>\n",
              "      <td>15</td>\n",
              "      <td>20</td>\n",
              "      <td>4.639691e+22</td>\n",
              "    </tr>\n",
              "    <tr>\n",
              "      <th>4</th>\n",
              "      <td>0x9f265a9675dea8f97139015f62c84af1f6d687ae</td>\n",
              "      <td>15</td>\n",
              "      <td>2100000000000000000</td>\n",
              "      <td>IN</td>\n",
              "      <td>3</td>\n",
              "      <td>2099000000000000000</td>\n",
              "      <td>OUT</td>\n",
              "      <td>3</td>\n",
              "      <td>3</td>\n",
              "      <td>2.000000e+20</td>\n",
              "    </tr>\n",
              "    <tr>\n",
              "      <th>...</th>\n",
              "      <td>...</td>\n",
              "      <td>...</td>\n",
              "      <td>...</td>\n",
              "      <td>...</td>\n",
              "      <td>...</td>\n",
              "      <td>...</td>\n",
              "      <td>...</td>\n",
              "      <td>...</td>\n",
              "      <td>...</td>\n",
              "      <td>...</td>\n",
              "    </tr>\n",
              "    <tr>\n",
              "      <th>935357</th>\n",
              "      <td>0xc9205a6851ea79d3f77ace712bb7e28c12159234</td>\n",
              "      <td>3</td>\n",
              "      <td>101000000000000000000</td>\n",
              "      <td>IN</td>\n",
              "      <td>3</td>\n",
              "      <td>100994330000000000000</td>\n",
              "      <td>OUT</td>\n",
              "      <td>1</td>\n",
              "      <td>1</td>\n",
              "      <td>1.009642e+24</td>\n",
              "    </tr>\n",
              "    <tr>\n",
              "      <th>935358</th>\n",
              "      <td>0x3dbab7d401918c51e2023f359253f25f00acb778</td>\n",
              "      <td>3</td>\n",
              "      <td>101000000000000000000</td>\n",
              "      <td>IN</td>\n",
              "      <td>3</td>\n",
              "      <td>100998723320000000000</td>\n",
              "      <td>OUT</td>\n",
              "      <td>1</td>\n",
              "      <td>1</td>\n",
              "      <td>9.110000e+02</td>\n",
              "    </tr>\n",
              "    <tr>\n",
              "      <th>935359</th>\n",
              "      <td>0x53a7100dafa3f83deea60faf9a7e15c96ec9dac9</td>\n",
              "      <td>3</td>\n",
              "      <td>101000000000000000000</td>\n",
              "      <td>IN</td>\n",
              "      <td>29</td>\n",
              "      <td>100825319706000000000</td>\n",
              "      <td>OUT</td>\n",
              "      <td>13</td>\n",
              "      <td>14</td>\n",
              "      <td>7.026999e+21</td>\n",
              "    </tr>\n",
              "    <tr>\n",
              "      <th>935360</th>\n",
              "      <td>0x2245d0f353a978ca6bb00f5f7079c1aa21bd6622</td>\n",
              "      <td>4</td>\n",
              "      <td>101000000000000000000</td>\n",
              "      <td>IN</td>\n",
              "      <td>3</td>\n",
              "      <td>100998110000000000000</td>\n",
              "      <td>OUT</td>\n",
              "      <td>1</td>\n",
              "      <td>1</td>\n",
              "      <td>7.204710e+23</td>\n",
              "    </tr>\n",
              "    <tr>\n",
              "      <th>935361</th>\n",
              "      <td>0x28ee172f7a9efc4ca3423391a1c160031c056ab1</td>\n",
              "      <td>6</td>\n",
              "      <td>101000000000000000000</td>\n",
              "      <td>IN</td>\n",
              "      <td>54</td>\n",
              "      <td>100866500000000000000</td>\n",
              "      <td>OUT</td>\n",
              "      <td>4</td>\n",
              "      <td>21</td>\n",
              "      <td>4.996547e+24</td>\n",
              "    </tr>\n",
              "  </tbody>\n",
              "</table>\n",
              "<p>935362 rows × 10 columns</p>\n",
              "</div>"
            ],
            "text/plain": [
              "                                           address  ...  tot_token_value_recieved\n",
              "0       0xd4f8e83864c80ea703dd148c78b937cbec200243  ...              9.393942e+06\n",
              "1       0x2bbed5e19de4fef234845c9ccdddbbef7cd531ba  ...              8.888880e+13\n",
              "2       0xd9052a62ee61eec200c1972aa2a19fa3d5396b6d  ...              1.870353e+11\n",
              "3       0xe6b4a32cc822980d652bb185b33db6be69d39a13  ...              4.639691e+22\n",
              "4       0x9f265a9675dea8f97139015f62c84af1f6d687ae  ...              2.000000e+20\n",
              "...                                            ...  ...                       ...\n",
              "935357  0xc9205a6851ea79d3f77ace712bb7e28c12159234  ...              1.009642e+24\n",
              "935358  0x3dbab7d401918c51e2023f359253f25f00acb778  ...              9.110000e+02\n",
              "935359  0x53a7100dafa3f83deea60faf9a7e15c96ec9dac9  ...              7.026999e+21\n",
              "935360  0x2245d0f353a978ca6bb00f5f7079c1aa21bd6622  ...              7.204710e+23\n",
              "935361  0x28ee172f7a9efc4ca3423391a1c160031c056ab1  ...              4.996547e+24\n",
              "\n",
              "[935362 rows x 10 columns]"
            ]
          },
          "metadata": {
            "tags": []
          },
          "execution_count": 20
        }
      ]
    },
    {
      "cell_type": "code",
      "metadata": {
        "id": "sVCOVaOoG8pD",
        "colab_type": "code",
        "colab": {
          "base_uri": "https://localhost:8080/",
          "height": 34
        },
        "outputId": "c15e81ca-2fbb-4afa-891b-7040f532613b"
      },
      "source": [
        "data = pd.merge(in_out_token_sent,tokens_sent, on='address', how='inner')\n",
        "data.shape"
      ],
      "execution_count": 21,
      "outputs": [
        {
          "output_type": "execute_result",
          "data": {
            "text/plain": [
              "(776499, 13)"
            ]
          },
          "metadata": {
            "tags": []
          },
          "execution_count": 21
        }
      ]
    },
    {
      "cell_type": "code",
      "metadata": {
        "id": "6oveoTO-IJZz",
        "colab_type": "code",
        "colab": {
          "base_uri": "https://localhost:8080/",
          "height": 422
        },
        "outputId": "99b1caa3-b131-425f-a0f9-7d2188482f0d"
      },
      "source": [
        "data"
      ],
      "execution_count": 22,
      "outputs": [
        {
          "output_type": "execute_result",
          "data": {
            "text/html": [
              "<div>\n",
              "<style scoped>\n",
              "    .dataframe tbody tr th:only-of-type {\n",
              "        vertical-align: middle;\n",
              "    }\n",
              "\n",
              "    .dataframe tbody tr th {\n",
              "        vertical-align: top;\n",
              "    }\n",
              "\n",
              "    .dataframe thead th {\n",
              "        text-align: right;\n",
              "    }\n",
              "</style>\n",
              "<table border=\"1\" class=\"dataframe\">\n",
              "  <thead>\n",
              "    <tr style=\"text-align: right;\">\n",
              "      <th></th>\n",
              "      <th>address</th>\n",
              "      <th>no_of_in_transactions</th>\n",
              "      <th>tot_ether_recieved</th>\n",
              "      <th>tax_type_x</th>\n",
              "      <th>no_of_out_transactions</th>\n",
              "      <th>tot_ether_sent</th>\n",
              "      <th>tax_type_y</th>\n",
              "      <th>tot_distinct_tokens_recieved</th>\n",
              "      <th>tot_tokens_recieved</th>\n",
              "      <th>tot_token_value_recieved</th>\n",
              "      <th>tot_distinct_tokens_sent</th>\n",
              "      <th>tot_tokens_sent</th>\n",
              "      <th>tot_token_value_sent</th>\n",
              "    </tr>\n",
              "  </thead>\n",
              "  <tbody>\n",
              "    <tr>\n",
              "      <th>0</th>\n",
              "      <td>0xd4f8e83864c80ea703dd148c78b937cbec200243</td>\n",
              "      <td>9</td>\n",
              "      <td>27000000000000000</td>\n",
              "      <td>IN</td>\n",
              "      <td>97</td>\n",
              "      <td>19448289831436946</td>\n",
              "      <td>OUT</td>\n",
              "      <td>1</td>\n",
              "      <td>32</td>\n",
              "      <td>9.393942e+06</td>\n",
              "      <td>1</td>\n",
              "      <td>32</td>\n",
              "      <td>9.393942e+06</td>\n",
              "    </tr>\n",
              "    <tr>\n",
              "      <th>1</th>\n",
              "      <td>0xd9052a62ee61eec200c1972aa2a19fa3d5396b6d</td>\n",
              "      <td>14</td>\n",
              "      <td>10342497563429364</td>\n",
              "      <td>IN</td>\n",
              "      <td>32</td>\n",
              "      <td>0</td>\n",
              "      <td>OUT</td>\n",
              "      <td>1</td>\n",
              "      <td>32</td>\n",
              "      <td>1.870353e+11</td>\n",
              "      <td>1</td>\n",
              "      <td>32</td>\n",
              "      <td>1.870353e+11</td>\n",
              "    </tr>\n",
              "    <tr>\n",
              "      <th>2</th>\n",
              "      <td>0xe6b4a32cc822980d652bb185b33db6be69d39a13</td>\n",
              "      <td>17</td>\n",
              "      <td>16776853680000000000</td>\n",
              "      <td>IN</td>\n",
              "      <td>86</td>\n",
              "      <td>21009302000000000000</td>\n",
              "      <td>OUT</td>\n",
              "      <td>15</td>\n",
              "      <td>20</td>\n",
              "      <td>4.639691e+22</td>\n",
              "      <td>5</td>\n",
              "      <td>9</td>\n",
              "      <td>4.260856e+22</td>\n",
              "    </tr>\n",
              "    <tr>\n",
              "      <th>3</th>\n",
              "      <td>0x9f265a9675dea8f97139015f62c84af1f6d687ae</td>\n",
              "      <td>15</td>\n",
              "      <td>2100000000000000000</td>\n",
              "      <td>IN</td>\n",
              "      <td>3</td>\n",
              "      <td>2099000000000000000</td>\n",
              "      <td>OUT</td>\n",
              "      <td>3</td>\n",
              "      <td>3</td>\n",
              "      <td>2.000000e+20</td>\n",
              "      <td>2</td>\n",
              "      <td>2</td>\n",
              "      <td>2.000000e+20</td>\n",
              "    </tr>\n",
              "    <tr>\n",
              "      <th>4</th>\n",
              "      <td>0xbad9298ef9a0c40ed1fb299a5e42269589aa15af</td>\n",
              "      <td>142</td>\n",
              "      <td>17850287239292549380</td>\n",
              "      <td>IN</td>\n",
              "      <td>57</td>\n",
              "      <td>17813824239292549380</td>\n",
              "      <td>OUT</td>\n",
              "      <td>2</td>\n",
              "      <td>2</td>\n",
              "      <td>3.000000e+18</td>\n",
              "      <td>1</td>\n",
              "      <td>1</td>\n",
              "      <td>1.000000e+20</td>\n",
              "    </tr>\n",
              "    <tr>\n",
              "      <th>...</th>\n",
              "      <td>...</td>\n",
              "      <td>...</td>\n",
              "      <td>...</td>\n",
              "      <td>...</td>\n",
              "      <td>...</td>\n",
              "      <td>...</td>\n",
              "      <td>...</td>\n",
              "      <td>...</td>\n",
              "      <td>...</td>\n",
              "      <td>...</td>\n",
              "      <td>...</td>\n",
              "      <td>...</td>\n",
              "      <td>...</td>\n",
              "    </tr>\n",
              "    <tr>\n",
              "      <th>776494</th>\n",
              "      <td>0xb19404a929989fc0c77f2666c114b3774ec59491</td>\n",
              "      <td>8</td>\n",
              "      <td>1000000000000000000</td>\n",
              "      <td>IN</td>\n",
              "      <td>103</td>\n",
              "      <td>1377914848211935073</td>\n",
              "      <td>OUT</td>\n",
              "      <td>1</td>\n",
              "      <td>31</td>\n",
              "      <td>4.199133e+06</td>\n",
              "      <td>1</td>\n",
              "      <td>18</td>\n",
              "      <td>2.662393e+06</td>\n",
              "    </tr>\n",
              "    <tr>\n",
              "      <th>776495</th>\n",
              "      <td>0x652eefae4b3a297a7cf9ef382d0dac5d880ae5cd</td>\n",
              "      <td>1</td>\n",
              "      <td>101000000000000000000</td>\n",
              "      <td>IN</td>\n",
              "      <td>11</td>\n",
              "      <td>100872794420000000000</td>\n",
              "      <td>OUT</td>\n",
              "      <td>2</td>\n",
              "      <td>3</td>\n",
              "      <td>2.599873e+20</td>\n",
              "      <td>3</td>\n",
              "      <td>3</td>\n",
              "      <td>3.599863e+20</td>\n",
              "    </tr>\n",
              "    <tr>\n",
              "      <th>776496</th>\n",
              "      <td>0x31749690f34f696282c4e10923c46d96ebcabebe</td>\n",
              "      <td>2</td>\n",
              "      <td>101000000000000000000</td>\n",
              "      <td>IN</td>\n",
              "      <td>4</td>\n",
              "      <td>101214251755000000000</td>\n",
              "      <td>OUT</td>\n",
              "      <td>1</td>\n",
              "      <td>1</td>\n",
              "      <td>2.171251e+20</td>\n",
              "      <td>1</td>\n",
              "      <td>1</td>\n",
              "      <td>2.171251e+20</td>\n",
              "    </tr>\n",
              "    <tr>\n",
              "      <th>776497</th>\n",
              "      <td>0x53a7100dafa3f83deea60faf9a7e15c96ec9dac9</td>\n",
              "      <td>3</td>\n",
              "      <td>101000000000000000000</td>\n",
              "      <td>IN</td>\n",
              "      <td>29</td>\n",
              "      <td>100825319706000000000</td>\n",
              "      <td>OUT</td>\n",
              "      <td>13</td>\n",
              "      <td>14</td>\n",
              "      <td>7.026999e+21</td>\n",
              "      <td>10</td>\n",
              "      <td>12</td>\n",
              "      <td>6.336999e+21</td>\n",
              "    </tr>\n",
              "    <tr>\n",
              "      <th>776498</th>\n",
              "      <td>0x28ee172f7a9efc4ca3423391a1c160031c056ab1</td>\n",
              "      <td>6</td>\n",
              "      <td>101000000000000000000</td>\n",
              "      <td>IN</td>\n",
              "      <td>54</td>\n",
              "      <td>100866500000000000000</td>\n",
              "      <td>OUT</td>\n",
              "      <td>4</td>\n",
              "      <td>21</td>\n",
              "      <td>4.996547e+24</td>\n",
              "      <td>4</td>\n",
              "      <td>46</td>\n",
              "      <td>4.996547e+24</td>\n",
              "    </tr>\n",
              "  </tbody>\n",
              "</table>\n",
              "<p>776499 rows × 13 columns</p>\n",
              "</div>"
            ],
            "text/plain": [
              "                                           address  ...  tot_token_value_sent\n",
              "0       0xd4f8e83864c80ea703dd148c78b937cbec200243  ...          9.393942e+06\n",
              "1       0xd9052a62ee61eec200c1972aa2a19fa3d5396b6d  ...          1.870353e+11\n",
              "2       0xe6b4a32cc822980d652bb185b33db6be69d39a13  ...          4.260856e+22\n",
              "3       0x9f265a9675dea8f97139015f62c84af1f6d687ae  ...          2.000000e+20\n",
              "4       0xbad9298ef9a0c40ed1fb299a5e42269589aa15af  ...          1.000000e+20\n",
              "...                                            ...  ...                   ...\n",
              "776494  0xb19404a929989fc0c77f2666c114b3774ec59491  ...          2.662393e+06\n",
              "776495  0x652eefae4b3a297a7cf9ef382d0dac5d880ae5cd  ...          3.599863e+20\n",
              "776496  0x31749690f34f696282c4e10923c46d96ebcabebe  ...          2.171251e+20\n",
              "776497  0x53a7100dafa3f83deea60faf9a7e15c96ec9dac9  ...          6.336999e+21\n",
              "776498  0x28ee172f7a9efc4ca3423391a1c160031c056ab1  ...          4.996547e+24\n",
              "\n",
              "[776499 rows x 13 columns]"
            ]
          },
          "metadata": {
            "tags": []
          },
          "execution_count": 22
        }
      ]
    },
    {
      "cell_type": "code",
      "metadata": {
        "id": "FHVWjroQILsu",
        "colab_type": "code",
        "colab": {}
      },
      "source": [
        "data.to_csv(r'/content/gdrive/My Drive/project_data/data.csv', index = False)"
      ],
      "execution_count": 0,
      "outputs": []
    },
    {
      "cell_type": "code",
      "metadata": {
        "id": "lgmVnkBqJkUT",
        "colab_type": "code",
        "colab": {}
      },
      "source": [
        ""
      ],
      "execution_count": 0,
      "outputs": []
    }
  ]
}