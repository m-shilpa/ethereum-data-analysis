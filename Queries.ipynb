{
  "nbformat": 4,
  "nbformat_minor": 0,
  "metadata": {
    "colab": {
      "name": "Untitled9.ipynb",
      "provenance": [],
      "authorship_tag": "ABX9TyML3c5pd9/NrILSuDXwS7M4",
      "include_colab_link": true
    },
    "kernelspec": {
      "name": "python3",
      "display_name": "Python 3"
    }
  },
  "cells": [
    {
      "cell_type": "markdown",
      "metadata": {
        "id": "view-in-github",
        "colab_type": "text"
      },
      "source": [
        "<a href=\"https://colab.research.google.com/github/mshilpaa/ethereum-data-analysis/blob/master/Queries.ipynb\" target=\"_parent\"><img src=\"https://colab.research.google.com/assets/colab-badge.svg\" alt=\"Open In Colab\"/></a>"
      ]
    },
    {
      "cell_type": "markdown",
      "metadata": {
        "id": "TT9SNbMXy8On",
        "colab_type": "text"
      },
      "source": [
        "Out going transactions:\n",
        "```\n",
        "create table `civic-bruin-270815.ethereum.out_transaction` as (SELECT from_address as address, count(*) as no_of_out_transactions, sum(value) as tot_ether_sent,'OUT' as tax_type FROM `bigquery-public-data.crypto_ethereum.transactions` WHERE from_address in (select address from `bigquery-public-data.crypto_ethereum.balances` LIMIT 400000) group by from_address) \n",
        "```"
      ]
    },
    {
      "cell_type": "markdown",
      "metadata": {
        "id": "efRGrWAtzHKg",
        "colab_type": "text"
      },
      "source": [
        "Incoiming transactions\n",
        "```\n",
        "create table `civic-bruin-270815.ethereum.in_transaction` as (SELECT to_address as address, count(*) as no_of_in_transactions, sum(value) as tot_ether_recieved,'IN' as tax_type FROM `bigquery-public-data.crypto_ethereum.transactions` WHERE to_address in (select address from `civic-bruin-270815.ethereum.in_transaction` LIMIT 2290371) group by to_address) \n",
        "```"
      ]
    },
    {
      "cell_type": "markdown",
      "metadata": {
        "id": "P5AOC04gEIYb",
        "colab_type": "text"
      },
      "source": [
        "join the two tables\n",
        "```\n",
        "create table `civic-bruin-270815.ethereum.in_out_transaction` as (SELECT out_txn.address, out_txn.no_of_out_transactions, out_txn.tot_ether_sent, in_txn.no_of_in_transactions, in_txn.tot_ether_recieved from `civic-bruin-270815.ethereum.in_transaction` as in_txn inner join `civic-bruin-270815.ethereum.out_transaction` as out_txn on in_txn.address = out_txn.address) \n",
        "```"
      ]
    },
    {
      "cell_type": "markdown",
      "metadata": {
        "id": "WaxdCFx1zh-k",
        "colab_type": "text"
      },
      "source": [
        "tokens recieved\n",
        "```\n",
        "SELECT to_address as address, count(distinct token_address) as tot_distinct_tokens_recieved, count(*) as tot_tokens_recieved, sum(safe_cast(value as FLOAT64)) as tot_token_value_recieved FROM `bigquery-public-data.crypto_ethereum.token_transfers` WHERE to_address in ( select address from `civic-bruin-270815.ethereum.in_out_transaction`) group by to_address\n",
        "```"
      ]
    },
    {
      "cell_type": "markdown",
      "metadata": {
        "id": "0617i2axD_Wq",
        "colab_type": "text"
      },
      "source": [
        "tokens sent\n",
        "```\n",
        "SELECT from_address as address, count(distinct token_address) as tot_distinct_tokens_sent, count(*) as tot_tokens_sent, sum(safe_cast(value as FLOAT64)) as tot_token_value_sent FROM `bigquery-public-data.crypto_ethereum.token_transfers` WHERE from_address in ( select address from `civic-bruin-270815.ethereum.in_out_transaction`) group by from_address \n",
        "```"
      ]
    }
  ]
}