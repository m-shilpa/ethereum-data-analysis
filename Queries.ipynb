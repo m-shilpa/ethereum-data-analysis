{
  "nbformat": 4,
  "nbformat_minor": 0,
  "metadata": {
    "colab": {
      "name": "Queries.ipynb",
      "provenance": [],
      "include_colab_link": true
    },
    "kernelspec": {
      "name": "python3",
      "display_name": "Python 3"
    }
  },
  "cells": [
    {
      "cell_type": "markdown",
      "metadata": {
        "id": "view-in-github",
        "colab_type": "text"
      },
      "source": [
        "<a href=\"https://colab.research.google.com/github/mshilpaa/ethereum-data-analysis/blob/master/Queries.ipynb\" target=\"_parent\"><img src=\"https://colab.research.google.com/assets/colab-badge.svg\" alt=\"Open In Colab\"/></a>"
      ]
    },
    {
      "cell_type": "markdown",
      "metadata": {
        "id": "TT9SNbMXy8On",
        "colab_type": "text"
      },
      "source": [
        "**Outgoing transactions:**\n",
        "```\n",
        "create table `civic-bruin-270815.ethereum.out_transaction` as (SELECT from_address as address, count(*) as no_of_out_transactions, sum(value) as tot_ether_sent,'OUT' as tax_type FROM `bigquery-public-data.crypto_ethereum.transactions` WHERE from_address in (select address from `bigquery-public-data.crypto_ethereum.balances` LIMIT 400000) group by from_address) \n",
        "```"
      ]
    },
    {
      "cell_type": "markdown",
      "metadata": {
        "id": "efRGrWAtzHKg",
        "colab_type": "text"
      },
      "source": [
        "**Incoming transactions**\n",
        "```\n",
        "create table `civic-bruin-270815.ethereum.in_transaction` as (SELECT to_address as address, count(*) as no_of_in_transactions, sum(value) as tot_ether_recieved,'IN' as tax_type FROM `bigquery-public-data.crypto_ethereum.transactions` WHERE to_address in (select address from `civic-bruin-270815.ethereum.in_transaction` LIMIT 2290371) group by to_address) \n",
        "```"
      ]
    },
    {
      "cell_type": "markdown",
      "metadata": {
        "id": "P5AOC04gEIYb",
        "colab_type": "text"
      },
      "source": [
        "**Join the two tables**\n",
        "```\n",
        "create table `civic-bruin-270815.ethereum.in_out_transaction` as (SELECT out_txn.address, out_txn.no_of_out_transactions, out_txn.tot_ether_sent, in_txn.no_of_in_transactions, in_txn.tot_ether_recieved from `civic-bruin-270815.ethereum.in_transaction` as in_txn inner join `civic-bruin-270815.ethereum.out_transaction` as out_txn on in_txn.address = out_txn.address) \n",
        "```"
      ]
    },
    {
      "cell_type": "markdown",
      "metadata": {
        "id": "3VyxVLDybz77",
        "colab_type": "text"
      },
      "source": [
        "**Balance**\n",
        "```\n",
        "SELECT address, eth_balance FROM `bigquery-public-data.crypto_ethereum.balances` where address in (SELECT address FROM ``civic-bruin-270815.ethereum.in_out`)\n",
        "```"
      ]
    },
    {
      "cell_type": "markdown",
      "metadata": {
        "id": "WaxdCFx1zh-k",
        "colab_type": "text"
      },
      "source": [
        "**Tokens recieved**\n",
        "```\n",
        "SELECT to_address as address, count(distinct token_address) as tot_distinct_tokens_recieved, count(*) as tot_tokens_recieved, sum(safe_cast(value as FLOAT64)) as tot_token_value_recieved FROM `bigquery-public-data.crypto_ethereum.token_transfers` WHERE to_address in ( select address from `civic-bruin-270815.ethereum.in_out_transaction`) group by to_address\n",
        "```"
      ]
    },
    {
      "cell_type": "markdown",
      "metadata": {
        "id": "0617i2axD_Wq",
        "colab_type": "text"
      },
      "source": [
        "**Tokens sent**\n",
        "```\n",
        "SELECT from_address as address, count(distinct token_address) as tot_distinct_tokens_sent, count(*) as tot_tokens_sent, sum(safe_cast(value as FLOAT64)) as tot_token_value_sent FROM `bigquery-public-data.crypto_ethereum.token_transfers` WHERE from_address in ( select address from `civic-bruin-270815.ethereum.in_out_transaction`) group by from_address \n",
        "```"
      ]
    },
    {
      "cell_type": "markdown",
      "metadata": {
        "id": "_TYyaNTzje9l",
        "colab_type": "text"
      },
      "source": [
        "# **Sushmitha's Query**"
      ]
    },
    {
      "cell_type": "markdown",
      "metadata": {
        "id": "QZFIGlLLghiJ",
        "colab_type": "text"
      },
      "source": [
        "**Time between incoming Transaction**\n",
        "\n",
        "\n",
        "\n",
        "```\n",
        "create table `psychic-timing-271718.ethereum.time_between_income_transaction` as (SELECT to_address as address, TIMESTAMP_DIFF(max(block_timestamp), min(block_timestamp),second)  as no_of_in_transactions, count(block_timestamp) as total_count, FROM `bigquery-public-data.crypto_ethereum.transactions` WHERE to_address in (select address from `psychic-timing-271718.ethereum.in_out_transaction`) group by to_address)\n",
        "```\n",
        "\n"
      ]
    },
    {
      "cell_type": "markdown",
      "metadata": {
        "id": "4DFbrkPng3IX",
        "colab_type": "text"
      },
      "source": [
        "**Time between outgoing Transaction**\n",
        "\n",
        "\n",
        "\n",
        "```\n",
        "create table `psychic-timing-271718.ethereum.time_between_out_transaction` as (SELECT from_address as address, TIMESTAMP_DIFF(max(block_timestamp), min(block_timestamp),second)  as no_of_out_transactions, count(block_timestamp) as total_out_count, FROM `bigquery-public-data.crypto_ethereum.transactions` WHERE from_address in (select address from `psychic-timing-271718.ethereum.in_out_transaction`) group by from_address)\n",
        "```\n",
        "\n"
      ]
    },
    {
      "cell_type": "markdown",
      "metadata": {
        "id": "gbqhEtcmhiMH",
        "colab_type": "text"
      },
      "source": [
        "**Active Months**\n",
        "\n",
        "\n",
        "```\n",
        "with traces_clean as (\n",
        "    select * from `bigquery-public-data.crypto_ethereum.transactions` \n",
        "    \n",
        "), tx_received as (\n",
        "    select \n",
        "        TIMESTAMP_TRUNC(block_timestamp, MONTH, 'UTC') as month, \n",
        "        to_address,\n",
        "        count(*) as number_tx_received\n",
        "    from traces_clean\n",
        "    where to_address in (select address from psychic-timing-271718.ethereum.in_out_transaction)\n",
        "    group by TIMESTAMP_TRUNC(block_timestamp, MONTH, 'UTC'), to_address\n",
        "    \n",
        "), tx_sent as (\n",
        "    select \n",
        "        TIMESTAMP_TRUNC(block_timestamp, MONTH, 'UTC') as month, \n",
        "        from_address,\n",
        "        count(*) as number_tx_sent\n",
        "    from traces_clean\n",
        "    where from_address in (select address from psychic-timing-271718.ethereum.in_out_transaction)\n",
        "    group by TIMESTAMP_TRUNC(block_timestamp, MONTH, 'UTC'), from_address\n",
        "    \n",
        "), monthly_tx as (\n",
        "    select \n",
        "        CASE  \n",
        "          WHEN tx_sent.from_address IS NOT NULL THEN tx_sent.from_address\n",
        "          WHEN tx_received.to_address IS NOT NULL THEN tx_received.to_address\n",
        "        END AS address,\n",
        "        CASE  \n",
        "          WHEN tx_sent.month IS NOT NULL THEN tx_sent.month\n",
        "          WHEN tx_received.month IS NOT NULL THEN tx_received.month\n",
        "        END AS month,\n",
        "        ifnull(number_tx_sent,0) as number_tx_sent, \n",
        "        ifnull(number_tx_received,0) as number_tx_received \n",
        "    from tx_sent full join tx_received \n",
        "        on (tx_sent.from_address = tx_received.to_address and tx_sent.month = tx_received.month)\n",
        ")\n",
        "\n",
        "select address, countif(number_tx_sent > 0 or number_tx_received > 0) as active_months from monthly_tx group by address ;\n",
        "```\n",
        "\n"
      ]
    },
    {
      "cell_type": "markdown",
      "metadata": {
        "id": "Sngzhlb9h19U",
        "colab_type": "text"
      },
      "source": [
        "**Mothly_Outgoing_Transactions**\n",
        "\n",
        "\n",
        "\n",
        "```\n",
        "with traces_clean as (\n",
        "    select * from `bigquery-public-data.crypto_ethereum.transactions` \n",
        "    \n",
        ")\n",
        "select \n",
        "        TIMESTAMP_TRUNC(block_timestamp, MONTH, 'UTC') as month, \n",
        "        from_address,\n",
        "        count(*) as number_tx_sent\n",
        "    from traces_clean\n",
        "    where from_address in (select address from psychic-timing-271718.ethereum.in_out_transaction)\n",
        "    group by TIMESTAMP_TRUNC(block_timestamp, MONTH, 'UTC'), from_address\n",
        "```\n",
        "\n",
        "**After executing the above query, I have saved that as txn_sent table. Finally I have queried like below to get monthly_out_txn**\n",
        "\n",
        "\n",
        "```\n",
        "select from_address as address, sum(number_tx_sent)/count(month) as monthly_out_txn from psychic-timing-271718.ethereum.txn_sent group by from_address\n",
        "```\n",
        "\n",
        "\n"
      ]
    },
    {
      "cell_type": "markdown",
      "metadata": {
        "id": "ZvWtYvURis-h",
        "colab_type": "text"
      },
      "source": [
        "**Monthly Incoming Transaations**\n",
        "\n",
        "\n",
        "\n",
        "```\n",
        "with traces_clean as (\n",
        "    select * from `bigquery-public-data.crypto_ethereum.transactions` \n",
        "    \n",
        ")\n",
        "    select \n",
        "        TIMESTAMP_TRUNC(block_timestamp, MONTH, 'UTC') as month, \n",
        "        to_address,\n",
        "        count(*) as number_tx_received\n",
        "    from traces_clean\n",
        "    where to_address in (select address from psychic-timing-271718.ethereum.in_out_transaction)\n",
        "    group by TIMESTAMP_TRUNC(block_timestamp, MONTH, 'UTC'), to_address\n",
        "```\n",
        "\n",
        "**This I saved as txn_recived and queried as below to get monthly_in_transaction**\n",
        "\n",
        "```\n",
        "select to_address as address, sum(number_tx_received)/count(month) as monthly_in_txn from psychic-timing-271718.ethereum.txn_recived group by to_address\n",
        "```\n",
        "\n"
      ]
    }
  ]
}