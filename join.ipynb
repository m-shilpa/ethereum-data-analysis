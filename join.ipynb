{
  "nbformat": 4,
  "nbformat_minor": 0,
  "metadata": {
    "colab": {
      "name": "Untitled8.ipynb",
      "provenance": [],
      "authorship_tag": "ABX9TyN8Ig9v6jAmyUdMGfTi7Fbr",
      "include_colab_link": true
    },
    "kernelspec": {
      "name": "python3",
      "display_name": "Python 3"
    }
  },
  "cells": [
    {
      "cell_type": "markdown",
      "metadata": {
        "id": "view-in-github",
        "colab_type": "text"
      },
      "source": [
        "<a href=\"https://colab.research.google.com/github/mshilpaa/ethereum-data-analysis/blob/master/join.ipynb\" target=\"_parent\"><img src=\"https://colab.research.google.com/assets/colab-badge.svg\" alt=\"Open In Colab\"/></a>"
      ]
    },
    {
      "cell_type": "code",
      "metadata": {
        "id": "LyBVp18JqRZQ",
        "colab_type": "code",
        "colab": {
          "base_uri": "https://localhost:8080/",
          "height": 34
        },
        "outputId": "bf022e5b-52a4-40c8-9c20-7b9940a54e92"
      },
      "source": [
        "from google.colab import drive\n",
        "drive.mount('/content/gdrive')"
      ],
      "execution_count": 1,
      "outputs": [
        {
          "output_type": "stream",
          "text": [
            "Drive already mounted at /content/gdrive; to attempt to forcibly remount, call drive.mount(\"/content/gdrive\", force_remount=True).\n"
          ],
          "name": "stdout"
        }
      ]
    },
    {
      "cell_type": "code",
      "metadata": {
        "id": "1ZiLQP1ot9bf",
        "colab_type": "code",
        "colab": {}
      },
      "source": [
        "\n",
        "import pandas as pd\n",
        "import numpy as np\n",
        "import matplotlib.pyplot as plt"
      ],
      "execution_count": 0,
      "outputs": []
    },
    {
      "cell_type": "code",
      "metadata": {
        "id": "PSP97l8WrsoN",
        "colab_type": "code",
        "colab": {
          "base_uri": "https://localhost:8080/",
          "height": 50
        },
        "outputId": "94738084-765f-43af-c95d-46bfc2a895dc"
      },
      "source": [
        "in_txn = pd.read_csv('/content/gdrive/My Drive/1 project - bq-eth-data/in_transaction.csv',names=['address', 'tot_in_transactions', 'tot_ether_recieved', 'txn_type1','avg_ether_recieved'])\n",
        "out_txn = pd.read_csv('/content/gdrive/My Drive/1 project - bq-eth-data/out_transaction.csv',names=['address', 'tot_out_transactions', 'tot_ether_sent', 'txn_type2','avg_ether_sent'])\n",
        "active_months = pd.read_csv('/content/gdrive/My Drive/1 project - bq-eth-data/ActiveMonths.csv')"
      ],
      "execution_count": 3,
      "outputs": [
        {
          "output_type": "stream",
          "text": [
            "/usr/local/lib/python3.6/dist-packages/IPython/core/interactiveshell.py:2718: DtypeWarning: Columns (1) have mixed types. Specify dtype option on import or set low_memory=False.\n",
            "  interactivity=interactivity, compiler=compiler, result=result)\n"
          ],
          "name": "stderr"
        }
      ]
    },
    {
      "cell_type": "code",
      "metadata": {
        "id": "fvsu4M97v8bC",
        "colab_type": "code",
        "colab": {
          "base_uri": "https://localhost:8080/",
          "height": 195
        },
        "outputId": "4952f7da-3f64-4e32-dc38-ecbb534c4bf8"
      },
      "source": [
        "in_txn.head(5)"
      ],
      "execution_count": 4,
      "outputs": [
        {
          "output_type": "execute_result",
          "data": {
            "text/html": [
              "<div>\n",
              "<style scoped>\n",
              "    .dataframe tbody tr th:only-of-type {\n",
              "        vertical-align: middle;\n",
              "    }\n",
              "\n",
              "    .dataframe tbody tr th {\n",
              "        vertical-align: top;\n",
              "    }\n",
              "\n",
              "    .dataframe thead th {\n",
              "        text-align: right;\n",
              "    }\n",
              "</style>\n",
              "<table border=\"1\" class=\"dataframe\">\n",
              "  <thead>\n",
              "    <tr style=\"text-align: right;\">\n",
              "      <th></th>\n",
              "      <th>address</th>\n",
              "      <th>tot_in_transactions</th>\n",
              "      <th>tot_ether_recieved</th>\n",
              "      <th>txn_type1</th>\n",
              "      <th>avg_ether_recieved</th>\n",
              "    </tr>\n",
              "  </thead>\n",
              "  <tbody>\n",
              "    <tr>\n",
              "      <th>0</th>\n",
              "      <td>to_address</td>\n",
              "      <td>tot_in_transactions</td>\n",
              "      <td>tot_ether_recieved</td>\n",
              "      <td>txn_type</td>\n",
              "      <td>avg_ether_recieved</td>\n",
              "    </tr>\n",
              "    <tr>\n",
              "      <th>1</th>\n",
              "      <td>0x1a862e3e81dc01602c62bd0925ea8c2675eb9acd</td>\n",
              "      <td>133</td>\n",
              "      <td>132882270461195663600</td>\n",
              "      <td>IN</td>\n",
              "      <td>999114815497711756.390977444</td>\n",
              "    </tr>\n",
              "    <tr>\n",
              "      <th>2</th>\n",
              "      <td>0x7a2dfc770e24368131b7847795f203f3d50d5b56</td>\n",
              "      <td>381</td>\n",
              "      <td>2599609510232580413904</td>\n",
              "      <td>IN</td>\n",
              "      <td>6823122074101260928.881889764</td>\n",
              "    </tr>\n",
              "    <tr>\n",
              "      <th>3</th>\n",
              "      <td>0x31a204f032d84b4a20913b3f9954a5e5b731108d</td>\n",
              "      <td>185</td>\n",
              "      <td>56905571716693916942</td>\n",
              "      <td>IN</td>\n",
              "      <td>307597684955102253.740540541</td>\n",
              "    </tr>\n",
              "    <tr>\n",
              "      <th>4</th>\n",
              "      <td>0xff7a9c981a23d29f9858346e19288d8d959f9659</td>\n",
              "      <td>46</td>\n",
              "      <td>6379274209602349477800</td>\n",
              "      <td>IN</td>\n",
              "      <td>138679874121790206039.130434783</td>\n",
              "    </tr>\n",
              "  </tbody>\n",
              "</table>\n",
              "</div>"
            ],
            "text/plain": [
              "                                      address  ...               avg_ether_recieved\n",
              "0                                  to_address  ...               avg_ether_recieved\n",
              "1  0x1a862e3e81dc01602c62bd0925ea8c2675eb9acd  ...     999114815497711756.390977444\n",
              "2  0x7a2dfc770e24368131b7847795f203f3d50d5b56  ...    6823122074101260928.881889764\n",
              "3  0x31a204f032d84b4a20913b3f9954a5e5b731108d  ...     307597684955102253.740540541\n",
              "4  0xff7a9c981a23d29f9858346e19288d8d959f9659  ...  138679874121790206039.130434783\n",
              "\n",
              "[5 rows x 5 columns]"
            ]
          },
          "metadata": {
            "tags": []
          },
          "execution_count": 4
        }
      ]
    },
    {
      "cell_type": "code",
      "metadata": {
        "id": "sLBipCxdv7pO",
        "colab_type": "code",
        "colab": {}
      },
      "source": [
        "\n",
        "# drop the row with column names\n",
        "in_txn = in_txn.drop([0],axis = 0)\n",
        "in_txn.reset_index(drop=True, inplace=True)\n",
        "\n",
        "out_txn = out_txn.drop([0],axis = 0)\n",
        "out_txn.reset_index(drop=True, inplace=True)"
      ],
      "execution_count": 0,
      "outputs": []
    },
    {
      "cell_type": "code",
      "metadata": {
        "id": "P7lYEvgXuWf5",
        "colab_type": "code",
        "colab": {
          "base_uri": "https://localhost:8080/",
          "height": 34
        },
        "outputId": "d41a8922-5dbb-41c5-fa64-633cf9dcf63a"
      },
      "source": [
        "in_txn.shape"
      ],
      "execution_count": 6,
      "outputs": [
        {
          "output_type": "execute_result",
          "data": {
            "text/plain": [
              "(243555, 5)"
            ]
          },
          "metadata": {
            "tags": []
          },
          "execution_count": 6
        }
      ]
    },
    {
      "cell_type": "code",
      "metadata": {
        "id": "-YDBHNIZuh3a",
        "colab_type": "code",
        "colab": {
          "base_uri": "https://localhost:8080/",
          "height": 118
        },
        "outputId": "ef1d9860-eae1-4688-d429-3f23849fe396"
      },
      "source": [
        "in_txn.dtypes"
      ],
      "execution_count": 7,
      "outputs": [
        {
          "output_type": "execute_result",
          "data": {
            "text/plain": [
              "address                object\n",
              "tot_in_transactions    object\n",
              "tot_ether_recieved     object\n",
              "txn_type1              object\n",
              "avg_ether_recieved     object\n",
              "dtype: object"
            ]
          },
          "metadata": {
            "tags": []
          },
          "execution_count": 7
        }
      ]
    },
    {
      "cell_type": "code",
      "metadata": {
        "id": "_dpx_iB4ue8K",
        "colab_type": "code",
        "colab": {
          "base_uri": "https://localhost:8080/",
          "height": 34
        },
        "outputId": "04658803-d57e-43d8-d74a-4e8124fcf775"
      },
      "source": [
        "out_txn.shape"
      ],
      "execution_count": 8,
      "outputs": [
        {
          "output_type": "execute_result",
          "data": {
            "text/plain": [
              "(228058, 5)"
            ]
          },
          "metadata": {
            "tags": []
          },
          "execution_count": 8
        }
      ]
    },
    {
      "cell_type": "code",
      "metadata": {
        "id": "cnwc-7x5u5YO",
        "colab_type": "code",
        "colab": {
          "base_uri": "https://localhost:8080/",
          "height": 118
        },
        "outputId": "eda95d11-3547-4fd1-98e9-78afbb7132c4"
      },
      "source": [
        "out_txn.dtypes"
      ],
      "execution_count": 9,
      "outputs": [
        {
          "output_type": "execute_result",
          "data": {
            "text/plain": [
              "address                 object\n",
              "tot_out_transactions    object\n",
              "tot_ether_sent          object\n",
              "txn_type2               object\n",
              "avg_ether_sent          object\n",
              "dtype: object"
            ]
          },
          "metadata": {
            "tags": []
          },
          "execution_count": 9
        }
      ]
    },
    {
      "cell_type": "code",
      "metadata": {
        "id": "KRA5a5M8vc5R",
        "colab_type": "code",
        "colab": {
          "base_uri": "https://localhost:8080/",
          "height": 67
        },
        "outputId": "3aa0ec5b-9078-4873-c215-58517a1e093e"
      },
      "source": [
        "active_months.dtypes"
      ],
      "execution_count": 10,
      "outputs": [
        {
          "output_type": "execute_result",
          "data": {
            "text/plain": [
              "address          object\n",
              "active_months     int64\n",
              "dtype: object"
            ]
          },
          "metadata": {
            "tags": []
          },
          "execution_count": 10
        }
      ]
    },
    {
      "cell_type": "code",
      "metadata": {
        "id": "KvgiXwGmw1zP",
        "colab_type": "code",
        "colab": {
          "base_uri": "https://localhost:8080/",
          "height": 195
        },
        "outputId": "396b424f-e83c-4682-8bf3-2d697a10482f"
      },
      "source": [
        "in_txn.head()"
      ],
      "execution_count": 11,
      "outputs": [
        {
          "output_type": "execute_result",
          "data": {
            "text/html": [
              "<div>\n",
              "<style scoped>\n",
              "    .dataframe tbody tr th:only-of-type {\n",
              "        vertical-align: middle;\n",
              "    }\n",
              "\n",
              "    .dataframe tbody tr th {\n",
              "        vertical-align: top;\n",
              "    }\n",
              "\n",
              "    .dataframe thead th {\n",
              "        text-align: right;\n",
              "    }\n",
              "</style>\n",
              "<table border=\"1\" class=\"dataframe\">\n",
              "  <thead>\n",
              "    <tr style=\"text-align: right;\">\n",
              "      <th></th>\n",
              "      <th>address</th>\n",
              "      <th>tot_in_transactions</th>\n",
              "      <th>tot_ether_recieved</th>\n",
              "      <th>txn_type1</th>\n",
              "      <th>avg_ether_recieved</th>\n",
              "    </tr>\n",
              "  </thead>\n",
              "  <tbody>\n",
              "    <tr>\n",
              "      <th>0</th>\n",
              "      <td>0x1a862e3e81dc01602c62bd0925ea8c2675eb9acd</td>\n",
              "      <td>133</td>\n",
              "      <td>132882270461195663600</td>\n",
              "      <td>IN</td>\n",
              "      <td>999114815497711756.390977444</td>\n",
              "    </tr>\n",
              "    <tr>\n",
              "      <th>1</th>\n",
              "      <td>0x7a2dfc770e24368131b7847795f203f3d50d5b56</td>\n",
              "      <td>381</td>\n",
              "      <td>2599609510232580413904</td>\n",
              "      <td>IN</td>\n",
              "      <td>6823122074101260928.881889764</td>\n",
              "    </tr>\n",
              "    <tr>\n",
              "      <th>2</th>\n",
              "      <td>0x31a204f032d84b4a20913b3f9954a5e5b731108d</td>\n",
              "      <td>185</td>\n",
              "      <td>56905571716693916942</td>\n",
              "      <td>IN</td>\n",
              "      <td>307597684955102253.740540541</td>\n",
              "    </tr>\n",
              "    <tr>\n",
              "      <th>3</th>\n",
              "      <td>0xff7a9c981a23d29f9858346e19288d8d959f9659</td>\n",
              "      <td>46</td>\n",
              "      <td>6379274209602349477800</td>\n",
              "      <td>IN</td>\n",
              "      <td>138679874121790206039.130434783</td>\n",
              "    </tr>\n",
              "    <tr>\n",
              "      <th>4</th>\n",
              "      <td>0xaf07c4eeb852d72d1d36429fc54bb86d9f93b4b3</td>\n",
              "      <td>205</td>\n",
              "      <td>13735059759443445476</td>\n",
              "      <td>IN</td>\n",
              "      <td>67000291509480221.834146341</td>\n",
              "    </tr>\n",
              "  </tbody>\n",
              "</table>\n",
              "</div>"
            ],
            "text/plain": [
              "                                      address  ...               avg_ether_recieved\n",
              "0  0x1a862e3e81dc01602c62bd0925ea8c2675eb9acd  ...     999114815497711756.390977444\n",
              "1  0x7a2dfc770e24368131b7847795f203f3d50d5b56  ...    6823122074101260928.881889764\n",
              "2  0x31a204f032d84b4a20913b3f9954a5e5b731108d  ...     307597684955102253.740540541\n",
              "3  0xff7a9c981a23d29f9858346e19288d8d959f9659  ...  138679874121790206039.130434783\n",
              "4  0xaf07c4eeb852d72d1d36429fc54bb86d9f93b4b3  ...      67000291509480221.834146341\n",
              "\n",
              "[5 rows x 5 columns]"
            ]
          },
          "metadata": {
            "tags": []
          },
          "execution_count": 11
        }
      ]
    },
    {
      "cell_type": "code",
      "metadata": {
        "id": "99oNYOeEw5C_",
        "colab_type": "code",
        "colab": {
          "base_uri": "https://localhost:8080/",
          "height": 195
        },
        "outputId": "98aa29a7-7116-4169-ce61-9f14346fa910"
      },
      "source": [
        "out_txn.head()"
      ],
      "execution_count": 12,
      "outputs": [
        {
          "output_type": "execute_result",
          "data": {
            "text/html": [
              "<div>\n",
              "<style scoped>\n",
              "    .dataframe tbody tr th:only-of-type {\n",
              "        vertical-align: middle;\n",
              "    }\n",
              "\n",
              "    .dataframe tbody tr th {\n",
              "        vertical-align: top;\n",
              "    }\n",
              "\n",
              "    .dataframe thead th {\n",
              "        text-align: right;\n",
              "    }\n",
              "</style>\n",
              "<table border=\"1\" class=\"dataframe\">\n",
              "  <thead>\n",
              "    <tr style=\"text-align: right;\">\n",
              "      <th></th>\n",
              "      <th>address</th>\n",
              "      <th>tot_out_transactions</th>\n",
              "      <th>tot_ether_sent</th>\n",
              "      <th>txn_type2</th>\n",
              "      <th>avg_ether_sent</th>\n",
              "    </tr>\n",
              "  </thead>\n",
              "  <tbody>\n",
              "    <tr>\n",
              "      <th>0</th>\n",
              "      <td>0xd92bc63c64807dc6eb13888d49d393193dfe9aee</td>\n",
              "      <td>495</td>\n",
              "      <td>129433007433749652256</td>\n",
              "      <td>OUT</td>\n",
              "      <td>261480823098484145.971717172</td>\n",
              "    </tr>\n",
              "    <tr>\n",
              "      <th>1</th>\n",
              "      <td>0x8eaa2a778b6d6d8db6d0827b05047d6938a99ca2</td>\n",
              "      <td>53</td>\n",
              "      <td>105905040850000000000</td>\n",
              "      <td>OUT</td>\n",
              "      <td>1998208317924528301.886792453</td>\n",
              "    </tr>\n",
              "    <tr>\n",
              "      <th>2</th>\n",
              "      <td>0x7758d79c8fa4747a44577b8780ed8534d5e1945f</td>\n",
              "      <td>295</td>\n",
              "      <td>41540282421619954308</td>\n",
              "      <td>OUT</td>\n",
              "      <td>140814516683457472.230508475</td>\n",
              "    </tr>\n",
              "    <tr>\n",
              "      <th>3</th>\n",
              "      <td>0xe7196bc5c6d8d589668e8d2a2ed7789ae26f8486</td>\n",
              "      <td>41</td>\n",
              "      <td>2082254342329572754649</td>\n",
              "      <td>OUT</td>\n",
              "      <td>50786691276331042796.317073171</td>\n",
              "    </tr>\n",
              "    <tr>\n",
              "      <th>4</th>\n",
              "      <td>0xf34b14de6005db81d58118d2fbb47fa3cca40b50</td>\n",
              "      <td>732</td>\n",
              "      <td>3190757331971230080000</td>\n",
              "      <td>OUT</td>\n",
              "      <td>4358958103785833442.62295082</td>\n",
              "    </tr>\n",
              "  </tbody>\n",
              "</table>\n",
              "</div>"
            ],
            "text/plain": [
              "                                      address  ...                  avg_ether_sent\n",
              "0  0xd92bc63c64807dc6eb13888d49d393193dfe9aee  ...    261480823098484145.971717172\n",
              "1  0x8eaa2a778b6d6d8db6d0827b05047d6938a99ca2  ...   1998208317924528301.886792453\n",
              "2  0x7758d79c8fa4747a44577b8780ed8534d5e1945f  ...    140814516683457472.230508475\n",
              "3  0xe7196bc5c6d8d589668e8d2a2ed7789ae26f8486  ...  50786691276331042796.317073171\n",
              "4  0xf34b14de6005db81d58118d2fbb47fa3cca40b50  ...    4358958103785833442.62295082\n",
              "\n",
              "[5 rows x 5 columns]"
            ]
          },
          "metadata": {
            "tags": []
          },
          "execution_count": 12
        }
      ]
    },
    {
      "cell_type": "code",
      "metadata": {
        "id": "2T8sTePRt7xw",
        "colab_type": "code",
        "colab": {
          "base_uri": "https://localhost:8080/",
          "height": 422
        },
        "outputId": "1ca5b961-6f7b-40a7-8a07-6adce9321fde"
      },
      "source": [
        "in_out_txn = in_txn.set_index('address').combine_first(out_txn.set_index('address')).reset_index()\n",
        "in_out_txn"
      ],
      "execution_count": 13,
      "outputs": [
        {
          "output_type": "execute_result",
          "data": {
            "text/html": [
              "<div>\n",
              "<style scoped>\n",
              "    .dataframe tbody tr th:only-of-type {\n",
              "        vertical-align: middle;\n",
              "    }\n",
              "\n",
              "    .dataframe tbody tr th {\n",
              "        vertical-align: top;\n",
              "    }\n",
              "\n",
              "    .dataframe thead th {\n",
              "        text-align: right;\n",
              "    }\n",
              "</style>\n",
              "<table border=\"1\" class=\"dataframe\">\n",
              "  <thead>\n",
              "    <tr style=\"text-align: right;\">\n",
              "      <th></th>\n",
              "      <th>address</th>\n",
              "      <th>avg_ether_recieved</th>\n",
              "      <th>avg_ether_sent</th>\n",
              "      <th>tot_ether_recieved</th>\n",
              "      <th>tot_ether_sent</th>\n",
              "      <th>tot_in_transactions</th>\n",
              "      <th>tot_out_transactions</th>\n",
              "      <th>txn_type1</th>\n",
              "      <th>txn_type2</th>\n",
              "    </tr>\n",
              "  </thead>\n",
              "  <tbody>\n",
              "    <tr>\n",
              "      <th>0</th>\n",
              "      <td>0x00000000000000000000000000000000ceded112</td>\n",
              "      <td>20000000000000000</td>\n",
              "      <td>NaN</td>\n",
              "      <td>40000000000000000</td>\n",
              "      <td>NaN</td>\n",
              "      <td>2</td>\n",
              "      <td>NaN</td>\n",
              "      <td>IN</td>\n",
              "      <td>NaN</td>\n",
              "    </tr>\n",
              "    <tr>\n",
              "      <th>1</th>\n",
              "      <td>0x00000000000000000000783ca9a35f62b9903342</td>\n",
              "      <td>10000000000000000</td>\n",
              "      <td>NaN</td>\n",
              "      <td>10000000000000000</td>\n",
              "      <td>NaN</td>\n",
              "      <td>1</td>\n",
              "      <td>NaN</td>\n",
              "      <td>IN</td>\n",
              "      <td>NaN</td>\n",
              "    </tr>\n",
              "    <tr>\n",
              "      <th>2</th>\n",
              "      <td>0x00000000000000000000d93ec846014b97a5cfe8</td>\n",
              "      <td>10000000000000000</td>\n",
              "      <td>NaN</td>\n",
              "      <td>10000000000000000</td>\n",
              "      <td>NaN</td>\n",
              "      <td>1</td>\n",
              "      <td>NaN</td>\n",
              "      <td>IN</td>\n",
              "      <td>NaN</td>\n",
              "    </tr>\n",
              "    <tr>\n",
              "      <th>3</th>\n",
              "      <td>0x0000000103026f36d9f2ba6468d2816cd5dce83a</td>\n",
              "      <td>100000000000000000</td>\n",
              "      <td>NaN</td>\n",
              "      <td>100000000000000000</td>\n",
              "      <td>NaN</td>\n",
              "      <td>1</td>\n",
              "      <td>NaN</td>\n",
              "      <td>IN</td>\n",
              "      <td>NaN</td>\n",
              "    </tr>\n",
              "    <tr>\n",
              "      <th>4</th>\n",
              "      <td>0x000000ea435472a1a3dd7c7b3a4a143bbe7ed7dc</td>\n",
              "      <td>NaN</td>\n",
              "      <td>0.000000e+00</td>\n",
              "      <td>NaN</td>\n",
              "      <td>0.000000e+00</td>\n",
              "      <td>NaN</td>\n",
              "      <td>43.0</td>\n",
              "      <td>NaN</td>\n",
              "      <td>OUT</td>\n",
              "    </tr>\n",
              "    <tr>\n",
              "      <th>...</th>\n",
              "      <td>...</td>\n",
              "      <td>...</td>\n",
              "      <td>...</td>\n",
              "      <td>...</td>\n",
              "      <td>...</td>\n",
              "      <td>...</td>\n",
              "      <td>...</td>\n",
              "      <td>...</td>\n",
              "      <td>...</td>\n",
              "    </tr>\n",
              "    <tr>\n",
              "      <th>471608</th>\n",
              "      <td>0xffffa42add7d614ede3fef9edc69d7058feba401</td>\n",
              "      <td>NaN</td>\n",
              "      <td>3.366625e+19</td>\n",
              "      <td>NaN</td>\n",
              "      <td>1.009987e+20</td>\n",
              "      <td>NaN</td>\n",
              "      <td>3.0</td>\n",
              "      <td>NaN</td>\n",
              "      <td>OUT</td>\n",
              "    </tr>\n",
              "    <tr>\n",
              "      <th>471609</th>\n",
              "      <td>0xffffa6aed42f787abd181670d492387a51128a8d</td>\n",
              "      <td>NaN</td>\n",
              "      <td>1.000000e+18</td>\n",
              "      <td>NaN</td>\n",
              "      <td>1.000000e+18</td>\n",
              "      <td>NaN</td>\n",
              "      <td>1.0</td>\n",
              "      <td>NaN</td>\n",
              "      <td>OUT</td>\n",
              "    </tr>\n",
              "    <tr>\n",
              "      <th>471610</th>\n",
              "      <td>0xffffc0935611200467d8bb98506a91cc4934a7e4</td>\n",
              "      <td>NaN</td>\n",
              "      <td>7.816000e+15</td>\n",
              "      <td>NaN</td>\n",
              "      <td>7.816000e+15</td>\n",
              "      <td>NaN</td>\n",
              "      <td>1.0</td>\n",
              "      <td>NaN</td>\n",
              "      <td>OUT</td>\n",
              "    </tr>\n",
              "    <tr>\n",
              "      <th>471611</th>\n",
              "      <td>0xffffc638d3766af972e67cecc737ae2caa9964de</td>\n",
              "      <td>20378410000000000</td>\n",
              "      <td>NaN</td>\n",
              "      <td>40756820000000000</td>\n",
              "      <td>NaN</td>\n",
              "      <td>2</td>\n",
              "      <td>NaN</td>\n",
              "      <td>IN</td>\n",
              "      <td>NaN</td>\n",
              "    </tr>\n",
              "    <tr>\n",
              "      <th>471612</th>\n",
              "      <td>0xffffcf18008673b4852f79417d1e1be1cafdc06e</td>\n",
              "      <td>NaN</td>\n",
              "      <td>3.325000e+17</td>\n",
              "      <td>NaN</td>\n",
              "      <td>1.330000e+18</td>\n",
              "      <td>NaN</td>\n",
              "      <td>4.0</td>\n",
              "      <td>NaN</td>\n",
              "      <td>OUT</td>\n",
              "    </tr>\n",
              "  </tbody>\n",
              "</table>\n",
              "<p>471613 rows × 9 columns</p>\n",
              "</div>"
            ],
            "text/plain": [
              "                                           address  ... txn_type2\n",
              "0       0x00000000000000000000000000000000ceded112  ...       NaN\n",
              "1       0x00000000000000000000783ca9a35f62b9903342  ...       NaN\n",
              "2       0x00000000000000000000d93ec846014b97a5cfe8  ...       NaN\n",
              "3       0x0000000103026f36d9f2ba6468d2816cd5dce83a  ...       NaN\n",
              "4       0x000000ea435472a1a3dd7c7b3a4a143bbe7ed7dc  ...       OUT\n",
              "...                                            ...  ...       ...\n",
              "471608  0xffffa42add7d614ede3fef9edc69d7058feba401  ...       OUT\n",
              "471609  0xffffa6aed42f787abd181670d492387a51128a8d  ...       OUT\n",
              "471610  0xffffc0935611200467d8bb98506a91cc4934a7e4  ...       OUT\n",
              "471611  0xffffc638d3766af972e67cecc737ae2caa9964de  ...       NaN\n",
              "471612  0xffffcf18008673b4852f79417d1e1be1cafdc06e  ...       OUT\n",
              "\n",
              "[471613 rows x 9 columns]"
            ]
          },
          "metadata": {
            "tags": []
          },
          "execution_count": 13
        }
      ]
    },
    {
      "cell_type": "code",
      "metadata": {
        "id": "RVeQv3X1xQ3X",
        "colab_type": "code",
        "colab": {
          "base_uri": "https://localhost:8080/",
          "height": 34
        },
        "outputId": "38fa34e0-1242-4d4d-8ace-08915894ca02"
      },
      "source": [
        "d = pd.merge(in_txn, out_txn, on='address', how='inner')\n",
        "d.shape"
      ],
      "execution_count": 14,
      "outputs": [
        {
          "output_type": "execute_result",
          "data": {
            "text/plain": [
              "(0, 9)"
            ]
          },
          "metadata": {
            "tags": []
          },
          "execution_count": 14
        }
      ]
    },
    {
      "cell_type": "code",
      "metadata": {
        "id": "B_QytaY-wqfN",
        "colab_type": "code",
        "colab": {}
      },
      "source": [
        ""
      ],
      "execution_count": 0,
      "outputs": []
    },
    {
      "cell_type": "code",
      "metadata": {
        "id": "CcYiTC5Bx6CY",
        "colab_type": "code",
        "colab": {
          "base_uri": "https://localhost:8080/",
          "height": 34
        },
        "outputId": "ad6b50c7-84ba-440b-d1fc-b470da17e1ad"
      },
      "source": [
        "d = pd.merge(out_txn, active_months, on='address', how='inner')\n",
        "d.shape"
      ],
      "execution_count": 15,
      "outputs": [
        {
          "output_type": "execute_result",
          "data": {
            "text/plain": [
              "(1551, 6)"
            ]
          },
          "metadata": {
            "tags": []
          },
          "execution_count": 15
        }
      ]
    },
    {
      "cell_type": "code",
      "metadata": {
        "id": "04tbtmn5yLiZ",
        "colab_type": "code",
        "colab": {
          "base_uri": "https://localhost:8080/",
          "height": 34
        },
        "outputId": "1262da70-326d-4ec9-a44f-6146e6c8f199"
      },
      "source": [
        "active_months.shape"
      ],
      "execution_count": 16,
      "outputs": [
        {
          "output_type": "execute_result",
          "data": {
            "text/plain": [
              "(472483, 2)"
            ]
          },
          "metadata": {
            "tags": []
          },
          "execution_count": 16
        }
      ]
    },
    {
      "cell_type": "code",
      "metadata": {
        "id": "Y7Mvfpeizs63",
        "colab_type": "code",
        "colab": {}
      },
      "source": [
        ""
      ],
      "execution_count": 0,
      "outputs": []
    }
  ]
}