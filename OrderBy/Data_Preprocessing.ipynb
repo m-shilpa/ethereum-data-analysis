{
  "nbformat": 4,
  "nbformat_minor": 0,
  "metadata": {
    "colab": {
      "name": "joined data.ipynb",
      "provenance": [],
      "collapsed_sections": [],
      "include_colab_link": true
    },
    "kernelspec": {
      "name": "python3",
      "display_name": "Python 3"
    },
    "accelerator": "GPU"
  },
  "cells": [
    {
      "cell_type": "markdown",
      "metadata": {
        "id": "view-in-github",
        "colab_type": "text"
      },
      "source": [
        "<a href=\"https://colab.research.google.com/github/mshilpaa/ethereum-data-analysis/blob/master/OrderBy/Data_Preprocessing.ipynb\" target=\"_parent\"><img src=\"https://colab.research.google.com/assets/colab-badge.svg\" alt=\"Open In Colab\"/></a>"
      ]
    },
    {
      "cell_type": "code",
      "metadata": {
        "id": "LyBVp18JqRZQ",
        "colab_type": "code",
        "outputId": "68c2309d-46d8-47f2-bf40-4bee98005e2c",
        "colab": {
          "base_uri": "https://localhost:8080/",
          "height": 122
        }
      },
      "source": [
        "from google.colab import drive\n",
        "drive.mount('/content/gdrive')"
      ],
      "execution_count": 1,
      "outputs": [
        {
          "output_type": "stream",
          "text": [
            "Go to this URL in a browser: https://accounts.google.com/o/oauth2/auth?client_id=947318989803-6bn6qk8qdgf4n4g3pfee6491hc0brc4i.apps.googleusercontent.com&redirect_uri=urn%3aietf%3awg%3aoauth%3a2.0%3aoob&response_type=code&scope=email%20https%3a%2f%2fwww.googleapis.com%2fauth%2fdocs.test%20https%3a%2f%2fwww.googleapis.com%2fauth%2fdrive%20https%3a%2f%2fwww.googleapis.com%2fauth%2fdrive.photos.readonly%20https%3a%2f%2fwww.googleapis.com%2fauth%2fpeopleapi.readonly\n",
            "\n",
            "Enter your authorization code:\n",
            "··········\n",
            "Mounted at /content/gdrive\n"
          ],
          "name": "stdout"
        }
      ]
    },
    {
      "cell_type": "code",
      "metadata": {
        "id": "1ZiLQP1ot9bf",
        "colab_type": "code",
        "colab": {}
      },
      "source": [
        "import pandas as pd\n",
        "import numpy as np\n",
        "import matplotlib.pyplot as plt"
      ],
      "execution_count": 0,
      "outputs": []
    },
    {
      "cell_type": "code",
      "metadata": {
        "id": "EX66Vnk28GPK",
        "colab_type": "code",
        "colab": {}
      },
      "source": [
        "balance = pd.read_csv('/content/gdrive/My Drive/data/balance.csv')\n",
        "in_out = pd.read_csv('/content/gdrive/My Drive/data/in_out.csv')"
      ],
      "execution_count": 0,
      "outputs": []
    },
    {
      "cell_type": "code",
      "metadata": {
        "id": "R5D2oI1qUz3-",
        "colab_type": "code",
        "outputId": "180044a4-eb3f-49c9-842a-a6faf83c3a44",
        "colab": {
          "base_uri": "https://localhost:8080/",
          "height": 272
        }
      },
      "source": [
        "print(balance.shape)\n",
        "print(balance.dtypes)\n",
        "balance.head(5)"
      ],
      "execution_count": 7,
      "outputs": [
        {
          "output_type": "stream",
          "text": [
            "(230388, 2)\n",
            "address        object\n",
            "eth_balance    object\n",
            "dtype: object\n"
          ],
          "name": "stdout"
        },
        {
          "output_type": "execute_result",
          "data": {
            "text/html": [
              "<div>\n",
              "<style scoped>\n",
              "    .dataframe tbody tr th:only-of-type {\n",
              "        vertical-align: middle;\n",
              "    }\n",
              "\n",
              "    .dataframe tbody tr th {\n",
              "        vertical-align: top;\n",
              "    }\n",
              "\n",
              "    .dataframe thead th {\n",
              "        text-align: right;\n",
              "    }\n",
              "</style>\n",
              "<table border=\"1\" class=\"dataframe\">\n",
              "  <thead>\n",
              "    <tr style=\"text-align: right;\">\n",
              "      <th></th>\n",
              "      <th>address</th>\n",
              "      <th>eth_balance</th>\n",
              "    </tr>\n",
              "  </thead>\n",
              "  <tbody>\n",
              "    <tr>\n",
              "      <th>0</th>\n",
              "      <td>0x742d35cc6634c0532925a3b844bc454e4438f44e</td>\n",
              "      <td>3766950585232841500000001</td>\n",
              "    </tr>\n",
              "    <tr>\n",
              "      <th>1</th>\n",
              "      <td>0xdc76cd25977e0a5ae17155770273ad58648900d3</td>\n",
              "      <td>3125760535463887010445000</td>\n",
              "    </tr>\n",
              "    <tr>\n",
              "      <th>2</th>\n",
              "      <td>0xbe0eb53f46cd790cd13851d5eff43d12404d33e8</td>\n",
              "      <td>2507764455210705136041544</td>\n",
              "    </tr>\n",
              "    <tr>\n",
              "      <th>3</th>\n",
              "      <td>0x53d284357ec70ce289d6d64134dfac8e511c8a3d</td>\n",
              "      <td>1378754144654898911481302</td>\n",
              "    </tr>\n",
              "    <tr>\n",
              "      <th>4</th>\n",
              "      <td>0xe853c56864a2ebe4576a807d26fdc4a0ada51919</td>\n",
              "      <td>801052799959724594886000</td>\n",
              "    </tr>\n",
              "  </tbody>\n",
              "</table>\n",
              "</div>"
            ],
            "text/plain": [
              "                                      address                eth_balance\n",
              "0  0x742d35cc6634c0532925a3b844bc454e4438f44e  3766950585232841500000001\n",
              "1  0xdc76cd25977e0a5ae17155770273ad58648900d3  3125760535463887010445000\n",
              "2  0xbe0eb53f46cd790cd13851d5eff43d12404d33e8  2507764455210705136041544\n",
              "3  0x53d284357ec70ce289d6d64134dfac8e511c8a3d  1378754144654898911481302\n",
              "4  0xe853c56864a2ebe4576a807d26fdc4a0ada51919   801052799959724594886000"
            ]
          },
          "metadata": {
            "tags": []
          },
          "execution_count": 7
        }
      ]
    },
    {
      "cell_type": "code",
      "metadata": {
        "id": "35_nH4UVcf0w",
        "colab_type": "code",
        "outputId": "b91605fb-5ac4-4135-aa5c-cfd7566764e1",
        "colab": {
          "base_uri": "https://localhost:8080/",
          "height": 224
        }
      },
      "source": [
        "in_out.head(5)"
      ],
      "execution_count": 8,
      "outputs": [
        {
          "output_type": "execute_result",
          "data": {
            "text/html": [
              "<div>\n",
              "<style scoped>\n",
              "    .dataframe tbody tr th:only-of-type {\n",
              "        vertical-align: middle;\n",
              "    }\n",
              "\n",
              "    .dataframe tbody tr th {\n",
              "        vertical-align: top;\n",
              "    }\n",
              "\n",
              "    .dataframe thead th {\n",
              "        text-align: right;\n",
              "    }\n",
              "</style>\n",
              "<table border=\"1\" class=\"dataframe\">\n",
              "  <thead>\n",
              "    <tr style=\"text-align: right;\">\n",
              "      <th></th>\n",
              "      <th>address</th>\n",
              "      <th>no_of_out_transactions</th>\n",
              "      <th>tot_ether_sent</th>\n",
              "      <th>no_of_in_transactions</th>\n",
              "      <th>tot_ether_recieved</th>\n",
              "    </tr>\n",
              "  </thead>\n",
              "  <tbody>\n",
              "    <tr>\n",
              "      <th>0</th>\n",
              "      <td>0x009397bc32484a7cf17733ecb73031ce991c985a</td>\n",
              "      <td>1</td>\n",
              "      <td>2382000000000000000</td>\n",
              "      <td>256</td>\n",
              "      <td>18909285394285401856</td>\n",
              "    </tr>\n",
              "    <tr>\n",
              "      <th>1</th>\n",
              "      <td>0x71b3cf6391e811d3bb14f801f92c0b3a7d6af3b6</td>\n",
              "      <td>1</td>\n",
              "      <td>182000000000000000000</td>\n",
              "      <td>256</td>\n",
              "      <td>384450821769458619620</td>\n",
              "    </tr>\n",
              "    <tr>\n",
              "      <th>2</th>\n",
              "      <td>0x61b343eff40366274bf360f414d422a0dafb30e1</td>\n",
              "      <td>1</td>\n",
              "      <td>51145658440000000000</td>\n",
              "      <td>256</td>\n",
              "      <td>70054063101365460417</td>\n",
              "    </tr>\n",
              "    <tr>\n",
              "      <th>3</th>\n",
              "      <td>0xee42c0affa3aef8bf92254b254faabd540899e6f</td>\n",
              "      <td>1</td>\n",
              "      <td>2000000000000000000</td>\n",
              "      <td>256</td>\n",
              "      <td>8565631618907502600</td>\n",
              "    </tr>\n",
              "    <tr>\n",
              "      <th>4</th>\n",
              "      <td>0x7f284b98a43dc5c447fc75f28d5986448acf2a9f</td>\n",
              "      <td>2</td>\n",
              "      <td>5360000000000000000</td>\n",
              "      <td>256</td>\n",
              "      <td>25124266874035927834</td>\n",
              "    </tr>\n",
              "  </tbody>\n",
              "</table>\n",
              "</div>"
            ],
            "text/plain": [
              "                                      address  ...     tot_ether_recieved\n",
              "0  0x009397bc32484a7cf17733ecb73031ce991c985a  ...   18909285394285401856\n",
              "1  0x71b3cf6391e811d3bb14f801f92c0b3a7d6af3b6  ...  384450821769458619620\n",
              "2  0x61b343eff40366274bf360f414d422a0dafb30e1  ...   70054063101365460417\n",
              "3  0xee42c0affa3aef8bf92254b254faabd540899e6f  ...    8565631618907502600\n",
              "4  0x7f284b98a43dc5c447fc75f28d5986448acf2a9f  ...   25124266874035927834\n",
              "\n",
              "[5 rows x 5 columns]"
            ]
          },
          "metadata": {
            "tags": []
          },
          "execution_count": 8
        }
      ]
    },
    {
      "cell_type": "code",
      "metadata": {
        "id": "U6P6Ly_18XqA",
        "colab_type": "code",
        "outputId": "5365e694-3c90-42c7-8f89-500bee312107",
        "colab": {
          "base_uri": "https://localhost:8080/",
          "height": 34
        }
      },
      "source": [
        "in_out.shape"
      ],
      "execution_count": 9,
      "outputs": [
        {
          "output_type": "execute_result",
          "data": {
            "text/plain": [
              "(230388, 5)"
            ]
          },
          "metadata": {
            "tags": []
          },
          "execution_count": 9
        }
      ]
    },
    {
      "cell_type": "code",
      "metadata": {
        "id": "E0Z43pCD8gh_",
        "colab_type": "code",
        "outputId": "33234d03-c217-494b-8889-b2c1474fd58a",
        "colab": {
          "base_uri": "https://localhost:8080/",
          "height": 119
        }
      },
      "source": [
        "in_out.dtypes"
      ],
      "execution_count": 10,
      "outputs": [
        {
          "output_type": "execute_result",
          "data": {
            "text/plain": [
              "address                   object\n",
              "no_of_out_transactions     int64\n",
              "tot_ether_sent            object\n",
              "no_of_in_transactions      int64\n",
              "tot_ether_recieved        object\n",
              "dtype: object"
            ]
          },
          "metadata": {
            "tags": []
          },
          "execution_count": 10
        }
      ]
    },
    {
      "cell_type": "code",
      "metadata": {
        "id": "KHRRve45U8YJ",
        "colab_type": "code",
        "outputId": "be914e02-7e4b-4cb6-9822-2a4cdc94b423",
        "colab": {
          "base_uri": "https://localhost:8080/",
          "height": 34
        }
      },
      "source": [
        "b_in_txn = pd.merge(in_out, balance, on='address', how='inner')\n",
        "b_in_txn.shape"
      ],
      "execution_count": 11,
      "outputs": [
        {
          "output_type": "execute_result",
          "data": {
            "text/plain": [
              "(230388, 6)"
            ]
          },
          "metadata": {
            "tags": []
          },
          "execution_count": 11
        }
      ]
    },
    {
      "cell_type": "code",
      "metadata": {
        "id": "ulI8kzR0WGbM",
        "colab_type": "code",
        "outputId": "d9ea0353-d722-49fb-b433-1622bd5fdf1e",
        "colab": {
          "base_uri": "https://localhost:8080/",
          "height": 224
        }
      },
      "source": [
        "b_in_txn.head(5)"
      ],
      "execution_count": 12,
      "outputs": [
        {
          "output_type": "execute_result",
          "data": {
            "text/html": [
              "<div>\n",
              "<style scoped>\n",
              "    .dataframe tbody tr th:only-of-type {\n",
              "        vertical-align: middle;\n",
              "    }\n",
              "\n",
              "    .dataframe tbody tr th {\n",
              "        vertical-align: top;\n",
              "    }\n",
              "\n",
              "    .dataframe thead th {\n",
              "        text-align: right;\n",
              "    }\n",
              "</style>\n",
              "<table border=\"1\" class=\"dataframe\">\n",
              "  <thead>\n",
              "    <tr style=\"text-align: right;\">\n",
              "      <th></th>\n",
              "      <th>address</th>\n",
              "      <th>no_of_out_transactions</th>\n",
              "      <th>tot_ether_sent</th>\n",
              "      <th>no_of_in_transactions</th>\n",
              "      <th>tot_ether_recieved</th>\n",
              "      <th>eth_balance</th>\n",
              "    </tr>\n",
              "  </thead>\n",
              "  <tbody>\n",
              "    <tr>\n",
              "      <th>0</th>\n",
              "      <td>0x009397bc32484a7cf17733ecb73031ce991c985a</td>\n",
              "      <td>1</td>\n",
              "      <td>2382000000000000000</td>\n",
              "      <td>256</td>\n",
              "      <td>18909285394285401856</td>\n",
              "      <td>16526865394285401856</td>\n",
              "    </tr>\n",
              "    <tr>\n",
              "      <th>1</th>\n",
              "      <td>0x71b3cf6391e811d3bb14f801f92c0b3a7d6af3b6</td>\n",
              "      <td>1</td>\n",
              "      <td>182000000000000000000</td>\n",
              "      <td>256</td>\n",
              "      <td>384450821769458619620</td>\n",
              "      <td>202450720129458619620</td>\n",
              "    </tr>\n",
              "    <tr>\n",
              "      <th>2</th>\n",
              "      <td>0x61b343eff40366274bf360f414d422a0dafb30e1</td>\n",
              "      <td>1</td>\n",
              "      <td>51145658440000000000</td>\n",
              "      <td>256</td>\n",
              "      <td>70054063101365460417</td>\n",
              "      <td>18907564661365460417</td>\n",
              "    </tr>\n",
              "    <tr>\n",
              "      <th>3</th>\n",
              "      <td>0xee42c0affa3aef8bf92254b254faabd540899e6f</td>\n",
              "      <td>1</td>\n",
              "      <td>2000000000000000000</td>\n",
              "      <td>256</td>\n",
              "      <td>8565631618907502600</td>\n",
              "      <td>6565568618907502600</td>\n",
              "    </tr>\n",
              "    <tr>\n",
              "      <th>4</th>\n",
              "      <td>0x7f284b98a43dc5c447fc75f28d5986448acf2a9f</td>\n",
              "      <td>2</td>\n",
              "      <td>5360000000000000000</td>\n",
              "      <td>256</td>\n",
              "      <td>25124266874035927834</td>\n",
              "      <td>19713997846577476085</td>\n",
              "    </tr>\n",
              "  </tbody>\n",
              "</table>\n",
              "</div>"
            ],
            "text/plain": [
              "                                      address  ...            eth_balance\n",
              "0  0x009397bc32484a7cf17733ecb73031ce991c985a  ...   16526865394285401856\n",
              "1  0x71b3cf6391e811d3bb14f801f92c0b3a7d6af3b6  ...  202450720129458619620\n",
              "2  0x61b343eff40366274bf360f414d422a0dafb30e1  ...   18907564661365460417\n",
              "3  0xee42c0affa3aef8bf92254b254faabd540899e6f  ...    6565568618907502600\n",
              "4  0x7f284b98a43dc5c447fc75f28d5986448acf2a9f  ...   19713997846577476085\n",
              "\n",
              "[5 rows x 6 columns]"
            ]
          },
          "metadata": {
            "tags": []
          },
          "execution_count": 12
        }
      ]
    },
    {
      "cell_type": "code",
      "metadata": {
        "id": "iCeMfSEX8mDb",
        "colab_type": "code",
        "outputId": "af6f109a-6ac8-4461-940f-b9f1a9e0473c",
        "colab": {
          "base_uri": "https://localhost:8080/",
          "height": 34
        }
      },
      "source": [
        "in_out_txn = b_in_txn\n",
        "in_out_txn.shape"
      ],
      "execution_count": 13,
      "outputs": [
        {
          "output_type": "execute_result",
          "data": {
            "text/plain": [
              "(230388, 6)"
            ]
          },
          "metadata": {
            "tags": []
          },
          "execution_count": 13
        }
      ]
    },
    {
      "cell_type": "code",
      "metadata": {
        "id": "dh0PgZUuTc2-",
        "colab_type": "code",
        "outputId": "48d14277-aabe-485e-936e-7e96616f8d11",
        "colab": {
          "base_uri": "https://localhost:8080/",
          "height": 136
        }
      },
      "source": [
        "in_out_txn.dtypes"
      ],
      "execution_count": 14,
      "outputs": [
        {
          "output_type": "execute_result",
          "data": {
            "text/plain": [
              "address                   object\n",
              "no_of_out_transactions     int64\n",
              "tot_ether_sent            object\n",
              "no_of_in_transactions      int64\n",
              "tot_ether_recieved        object\n",
              "eth_balance               object\n",
              "dtype: object"
            ]
          },
          "metadata": {
            "tags": []
          },
          "execution_count": 14
        }
      ]
    },
    {
      "cell_type": "code",
      "metadata": {
        "id": "v6o0dkmo8qJP",
        "colab_type": "code",
        "outputId": "89666394-01df-4d36-8ba8-e3148b2ea3d5",
        "colab": {
          "base_uri": "https://localhost:8080/",
          "height": 224
        }
      },
      "source": [
        "in_out_txn.head(5)"
      ],
      "execution_count": 15,
      "outputs": [
        {
          "output_type": "execute_result",
          "data": {
            "text/html": [
              "<div>\n",
              "<style scoped>\n",
              "    .dataframe tbody tr th:only-of-type {\n",
              "        vertical-align: middle;\n",
              "    }\n",
              "\n",
              "    .dataframe tbody tr th {\n",
              "        vertical-align: top;\n",
              "    }\n",
              "\n",
              "    .dataframe thead th {\n",
              "        text-align: right;\n",
              "    }\n",
              "</style>\n",
              "<table border=\"1\" class=\"dataframe\">\n",
              "  <thead>\n",
              "    <tr style=\"text-align: right;\">\n",
              "      <th></th>\n",
              "      <th>address</th>\n",
              "      <th>no_of_out_transactions</th>\n",
              "      <th>tot_ether_sent</th>\n",
              "      <th>no_of_in_transactions</th>\n",
              "      <th>tot_ether_recieved</th>\n",
              "      <th>eth_balance</th>\n",
              "    </tr>\n",
              "  </thead>\n",
              "  <tbody>\n",
              "    <tr>\n",
              "      <th>0</th>\n",
              "      <td>0x009397bc32484a7cf17733ecb73031ce991c985a</td>\n",
              "      <td>1</td>\n",
              "      <td>2382000000000000000</td>\n",
              "      <td>256</td>\n",
              "      <td>18909285394285401856</td>\n",
              "      <td>16526865394285401856</td>\n",
              "    </tr>\n",
              "    <tr>\n",
              "      <th>1</th>\n",
              "      <td>0x71b3cf6391e811d3bb14f801f92c0b3a7d6af3b6</td>\n",
              "      <td>1</td>\n",
              "      <td>182000000000000000000</td>\n",
              "      <td>256</td>\n",
              "      <td>384450821769458619620</td>\n",
              "      <td>202450720129458619620</td>\n",
              "    </tr>\n",
              "    <tr>\n",
              "      <th>2</th>\n",
              "      <td>0x61b343eff40366274bf360f414d422a0dafb30e1</td>\n",
              "      <td>1</td>\n",
              "      <td>51145658440000000000</td>\n",
              "      <td>256</td>\n",
              "      <td>70054063101365460417</td>\n",
              "      <td>18907564661365460417</td>\n",
              "    </tr>\n",
              "    <tr>\n",
              "      <th>3</th>\n",
              "      <td>0xee42c0affa3aef8bf92254b254faabd540899e6f</td>\n",
              "      <td>1</td>\n",
              "      <td>2000000000000000000</td>\n",
              "      <td>256</td>\n",
              "      <td>8565631618907502600</td>\n",
              "      <td>6565568618907502600</td>\n",
              "    </tr>\n",
              "    <tr>\n",
              "      <th>4</th>\n",
              "      <td>0x7f284b98a43dc5c447fc75f28d5986448acf2a9f</td>\n",
              "      <td>2</td>\n",
              "      <td>5360000000000000000</td>\n",
              "      <td>256</td>\n",
              "      <td>25124266874035927834</td>\n",
              "      <td>19713997846577476085</td>\n",
              "    </tr>\n",
              "  </tbody>\n",
              "</table>\n",
              "</div>"
            ],
            "text/plain": [
              "                                      address  ...            eth_balance\n",
              "0  0x009397bc32484a7cf17733ecb73031ce991c985a  ...   16526865394285401856\n",
              "1  0x71b3cf6391e811d3bb14f801f92c0b3a7d6af3b6  ...  202450720129458619620\n",
              "2  0x61b343eff40366274bf360f414d422a0dafb30e1  ...   18907564661365460417\n",
              "3  0xee42c0affa3aef8bf92254b254faabd540899e6f  ...    6565568618907502600\n",
              "4  0x7f284b98a43dc5c447fc75f28d5986448acf2a9f  ...   19713997846577476085\n",
              "\n",
              "[5 rows x 6 columns]"
            ]
          },
          "metadata": {
            "tags": []
          },
          "execution_count": 15
        }
      ]
    },
    {
      "cell_type": "code",
      "metadata": {
        "id": "vyfs5YG48tjg",
        "colab_type": "code",
        "colab": {}
      },
      "source": [
        "tokens_recieved = pd.read_csv('/content/gdrive/My Drive/data/token_recieved.csv')\n",
        "tokens_sent =pd.read_csv('/content/gdrive/My Drive/data/tokens_sent.csv')"
      ],
      "execution_count": 0,
      "outputs": []
    },
    {
      "cell_type": "code",
      "metadata": {
        "id": "A8rZryT0ctcS",
        "colab_type": "code",
        "outputId": "1ba69830-fc65-4b2c-f66b-cb0b5e0592e8",
        "colab": {
          "base_uri": "https://localhost:8080/",
          "height": 224
        }
      },
      "source": [
        "tokens_recieved.head(5)"
      ],
      "execution_count": 17,
      "outputs": [
        {
          "output_type": "execute_result",
          "data": {
            "text/html": [
              "<div>\n",
              "<style scoped>\n",
              "    .dataframe tbody tr th:only-of-type {\n",
              "        vertical-align: middle;\n",
              "    }\n",
              "\n",
              "    .dataframe tbody tr th {\n",
              "        vertical-align: top;\n",
              "    }\n",
              "\n",
              "    .dataframe thead th {\n",
              "        text-align: right;\n",
              "    }\n",
              "</style>\n",
              "<table border=\"1\" class=\"dataframe\">\n",
              "  <thead>\n",
              "    <tr style=\"text-align: right;\">\n",
              "      <th></th>\n",
              "      <th>address</th>\n",
              "      <th>tot_distinct_tokens_recieved</th>\n",
              "      <th>tot_tokens_recieved</th>\n",
              "      <th>tot_token_value_recieved</th>\n",
              "    </tr>\n",
              "  </thead>\n",
              "  <tbody>\n",
              "    <tr>\n",
              "      <th>0</th>\n",
              "      <td>0xbc2486e56084155e7aaca06d0db146969eb5bde5</td>\n",
              "      <td>1</td>\n",
              "      <td>1</td>\n",
              "      <td>8.888880e+13</td>\n",
              "    </tr>\n",
              "    <tr>\n",
              "      <th>1</th>\n",
              "      <td>0xa618c91e22abb237a0e064c92df8f68aa2c4eb13</td>\n",
              "      <td>1</td>\n",
              "      <td>1</td>\n",
              "      <td>6.023340e+19</td>\n",
              "    </tr>\n",
              "    <tr>\n",
              "      <th>2</th>\n",
              "      <td>0x701dd50695cc1f6204cad3ac509cacb87be88213</td>\n",
              "      <td>1</td>\n",
              "      <td>1</td>\n",
              "      <td>6.490041e+18</td>\n",
              "    </tr>\n",
              "    <tr>\n",
              "      <th>3</th>\n",
              "      <td>0xed10b9b0b2e56ae601d38c0bd70db6baf4298a79</td>\n",
              "      <td>1</td>\n",
              "      <td>1</td>\n",
              "      <td>8.888880e+13</td>\n",
              "    </tr>\n",
              "    <tr>\n",
              "      <th>4</th>\n",
              "      <td>0x9d99475d67bf78bf39122c1827458f196f295eed</td>\n",
              "      <td>1</td>\n",
              "      <td>1</td>\n",
              "      <td>9.003769e+18</td>\n",
              "    </tr>\n",
              "  </tbody>\n",
              "</table>\n",
              "</div>"
            ],
            "text/plain": [
              "                                      address  ...  tot_token_value_recieved\n",
              "0  0xbc2486e56084155e7aaca06d0db146969eb5bde5  ...              8.888880e+13\n",
              "1  0xa618c91e22abb237a0e064c92df8f68aa2c4eb13  ...              6.023340e+19\n",
              "2  0x701dd50695cc1f6204cad3ac509cacb87be88213  ...              6.490041e+18\n",
              "3  0xed10b9b0b2e56ae601d38c0bd70db6baf4298a79  ...              8.888880e+13\n",
              "4  0x9d99475d67bf78bf39122c1827458f196f295eed  ...              9.003769e+18\n",
              "\n",
              "[5 rows x 4 columns]"
            ]
          },
          "metadata": {
            "tags": []
          },
          "execution_count": 17
        }
      ]
    },
    {
      "cell_type": "code",
      "metadata": {
        "id": "nlCK6QrZHFA4",
        "colab_type": "code",
        "outputId": "45d5c5d5-d4b0-45e7-a013-fef73da2f2f9",
        "colab": {
          "base_uri": "https://localhost:8080/",
          "height": 119
        }
      },
      "source": [
        "print(tokens_recieved.shape)\n",
        "print(tokens_recieved.dtypes)"
      ],
      "execution_count": 18,
      "outputs": [
        {
          "output_type": "stream",
          "text": [
            "(224860, 4)\n",
            "address                          object\n",
            "tot_distinct_tokens_recieved      int64\n",
            "tot_tokens_recieved               int64\n",
            "tot_token_value_recieved        float64\n",
            "dtype: object\n"
          ],
          "name": "stdout"
        }
      ]
    },
    {
      "cell_type": "code",
      "metadata": {
        "id": "vVt3ZZwicxAR",
        "colab_type": "code",
        "outputId": "5047ff90-929d-4141-ec6b-10c688f4e9de",
        "colab": {
          "base_uri": "https://localhost:8080/",
          "height": 204
        }
      },
      "source": [
        "tokens_sent.head(5)"
      ],
      "execution_count": 19,
      "outputs": [
        {
          "output_type": "execute_result",
          "data": {
            "text/html": [
              "<div>\n",
              "<style scoped>\n",
              "    .dataframe tbody tr th:only-of-type {\n",
              "        vertical-align: middle;\n",
              "    }\n",
              "\n",
              "    .dataframe tbody tr th {\n",
              "        vertical-align: top;\n",
              "    }\n",
              "\n",
              "    .dataframe thead th {\n",
              "        text-align: right;\n",
              "    }\n",
              "</style>\n",
              "<table border=\"1\" class=\"dataframe\">\n",
              "  <thead>\n",
              "    <tr style=\"text-align: right;\">\n",
              "      <th></th>\n",
              "      <th>address</th>\n",
              "      <th>tot_distinct_tokens_sent</th>\n",
              "      <th>tot_tokens_sent</th>\n",
              "      <th>tot_token_value_sent</th>\n",
              "    </tr>\n",
              "  </thead>\n",
              "  <tbody>\n",
              "    <tr>\n",
              "      <th>0</th>\n",
              "      <td>0xa4e62e8bc1eed15e5994d2b249992d63d525887e</td>\n",
              "      <td>1</td>\n",
              "      <td>256</td>\n",
              "      <td>1.174306e+22</td>\n",
              "    </tr>\n",
              "    <tr>\n",
              "      <th>1</th>\n",
              "      <td>0x100d720fbbfdba8bce6fb6fb152561553ed2bda0</td>\n",
              "      <td>1</td>\n",
              "      <td>256</td>\n",
              "      <td>4.547000e+10</td>\n",
              "    </tr>\n",
              "    <tr>\n",
              "      <th>2</th>\n",
              "      <td>0xfd47bf56a9ce93b7907034a3ba057ee179cb60af</td>\n",
              "      <td>1</td>\n",
              "      <td>512</td>\n",
              "      <td>4.532303e+11</td>\n",
              "    </tr>\n",
              "    <tr>\n",
              "      <th>3</th>\n",
              "      <td>0xb7776f4d6523c853112b2d47ed3285e23698b272</td>\n",
              "      <td>1</td>\n",
              "      <td>512</td>\n",
              "      <td>1.230936e+22</td>\n",
              "    </tr>\n",
              "    <tr>\n",
              "      <th>4</th>\n",
              "      <td>0x00abd7926c4cb8eee4756ab141ac3ec290a78ebe</td>\n",
              "      <td>1</td>\n",
              "      <td>512</td>\n",
              "      <td>8.930030e+23</td>\n",
              "    </tr>\n",
              "  </tbody>\n",
              "</table>\n",
              "</div>"
            ],
            "text/plain": [
              "                                      address  ...  tot_token_value_sent\n",
              "0  0xa4e62e8bc1eed15e5994d2b249992d63d525887e  ...          1.174306e+22\n",
              "1  0x100d720fbbfdba8bce6fb6fb152561553ed2bda0  ...          4.547000e+10\n",
              "2  0xfd47bf56a9ce93b7907034a3ba057ee179cb60af  ...          4.532303e+11\n",
              "3  0xb7776f4d6523c853112b2d47ed3285e23698b272  ...          1.230936e+22\n",
              "4  0x00abd7926c4cb8eee4756ab141ac3ec290a78ebe  ...          8.930030e+23\n",
              "\n",
              "[5 rows x 4 columns]"
            ]
          },
          "metadata": {
            "tags": []
          },
          "execution_count": 19
        }
      ]
    },
    {
      "cell_type": "code",
      "metadata": {
        "id": "OwhZ7Z9nHPus",
        "colab_type": "code",
        "outputId": "d43a0e50-b8af-4860-b785-9573be42541f",
        "colab": {
          "base_uri": "https://localhost:8080/",
          "height": 119
        }
      },
      "source": [
        "print(tokens_sent.shape)\n",
        "print(tokens_sent.dtypes)"
      ],
      "execution_count": 20,
      "outputs": [
        {
          "output_type": "stream",
          "text": [
            "(98230, 4)\n",
            "address                      object\n",
            "tot_distinct_tokens_sent      int64\n",
            "tot_tokens_sent               int64\n",
            "tot_token_value_sent        float64\n",
            "dtype: object\n"
          ],
          "name": "stdout"
        }
      ]
    },
    {
      "cell_type": "code",
      "metadata": {
        "id": "zZkkMfHHGYai",
        "colab_type": "code",
        "outputId": "6797b62f-9cfd-4bbd-a3d1-abe6b44bbc8b",
        "colab": {
          "base_uri": "https://localhost:8080/",
          "height": 34
        }
      },
      "source": [
        "in_out_token_sent = pd.merge(in_out_txn,tokens_recieved, on='address', how='inner')\n",
        "in_out_token_sent.shape"
      ],
      "execution_count": 21,
      "outputs": [
        {
          "output_type": "execute_result",
          "data": {
            "text/plain": [
              "(224860, 9)"
            ]
          },
          "metadata": {
            "tags": []
          },
          "execution_count": 21
        }
      ]
    },
    {
      "cell_type": "code",
      "metadata": {
        "id": "PhxkkwAeTnkd",
        "colab_type": "code",
        "outputId": "92801cb5-e91d-4fc4-f79e-000e8e3d1933",
        "colab": {
          "base_uri": "https://localhost:8080/",
          "height": 187
        }
      },
      "source": [
        "in_out_token_sent.dtypes"
      ],
      "execution_count": 22,
      "outputs": [
        {
          "output_type": "execute_result",
          "data": {
            "text/plain": [
              "address                          object\n",
              "no_of_out_transactions            int64\n",
              "tot_ether_sent                   object\n",
              "no_of_in_transactions             int64\n",
              "tot_ether_recieved               object\n",
              "eth_balance                      object\n",
              "tot_distinct_tokens_recieved      int64\n",
              "tot_tokens_recieved               int64\n",
              "tot_token_value_recieved        float64\n",
              "dtype: object"
            ]
          },
          "metadata": {
            "tags": []
          },
          "execution_count": 22
        }
      ]
    },
    {
      "cell_type": "code",
      "metadata": {
        "id": "xUKR_A9bH1Rl",
        "colab_type": "code",
        "outputId": "ac6ab47a-40fe-4d2d-b448-89c570f79613",
        "colab": {
          "base_uri": "https://localhost:8080/",
          "height": 224
        }
      },
      "source": [
        "in_out_token_sent.head(5)"
      ],
      "execution_count": 23,
      "outputs": [
        {
          "output_type": "execute_result",
          "data": {
            "text/html": [
              "<div>\n",
              "<style scoped>\n",
              "    .dataframe tbody tr th:only-of-type {\n",
              "        vertical-align: middle;\n",
              "    }\n",
              "\n",
              "    .dataframe tbody tr th {\n",
              "        vertical-align: top;\n",
              "    }\n",
              "\n",
              "    .dataframe thead th {\n",
              "        text-align: right;\n",
              "    }\n",
              "</style>\n",
              "<table border=\"1\" class=\"dataframe\">\n",
              "  <thead>\n",
              "    <tr style=\"text-align: right;\">\n",
              "      <th></th>\n",
              "      <th>address</th>\n",
              "      <th>no_of_out_transactions</th>\n",
              "      <th>tot_ether_sent</th>\n",
              "      <th>no_of_in_transactions</th>\n",
              "      <th>tot_ether_recieved</th>\n",
              "      <th>eth_balance</th>\n",
              "      <th>tot_distinct_tokens_recieved</th>\n",
              "      <th>tot_tokens_recieved</th>\n",
              "      <th>tot_token_value_recieved</th>\n",
              "    </tr>\n",
              "  </thead>\n",
              "  <tbody>\n",
              "    <tr>\n",
              "      <th>0</th>\n",
              "      <td>0x009397bc32484a7cf17733ecb73031ce991c985a</td>\n",
              "      <td>1</td>\n",
              "      <td>2382000000000000000</td>\n",
              "      <td>256</td>\n",
              "      <td>18909285394285401856</td>\n",
              "      <td>16526865394285401856</td>\n",
              "      <td>9</td>\n",
              "      <td>9</td>\n",
              "      <td>6.433577e+22</td>\n",
              "    </tr>\n",
              "    <tr>\n",
              "      <th>1</th>\n",
              "      <td>0x71b3cf6391e811d3bb14f801f92c0b3a7d6af3b6</td>\n",
              "      <td>1</td>\n",
              "      <td>182000000000000000000</td>\n",
              "      <td>256</td>\n",
              "      <td>384450821769458619620</td>\n",
              "      <td>202450720129458619620</td>\n",
              "      <td>7</td>\n",
              "      <td>7</td>\n",
              "      <td>1.531765e+22</td>\n",
              "    </tr>\n",
              "    <tr>\n",
              "      <th>2</th>\n",
              "      <td>0x61b343eff40366274bf360f414d422a0dafb30e1</td>\n",
              "      <td>1</td>\n",
              "      <td>51145658440000000000</td>\n",
              "      <td>256</td>\n",
              "      <td>70054063101365460417</td>\n",
              "      <td>18907564661365460417</td>\n",
              "      <td>9</td>\n",
              "      <td>9</td>\n",
              "      <td>1.576596e+21</td>\n",
              "    </tr>\n",
              "    <tr>\n",
              "      <th>3</th>\n",
              "      <td>0xee42c0affa3aef8bf92254b254faabd540899e6f</td>\n",
              "      <td>1</td>\n",
              "      <td>2000000000000000000</td>\n",
              "      <td>256</td>\n",
              "      <td>8565631618907502600</td>\n",
              "      <td>6565568618907502600</td>\n",
              "      <td>8</td>\n",
              "      <td>8</td>\n",
              "      <td>1.964063e+22</td>\n",
              "    </tr>\n",
              "    <tr>\n",
              "      <th>4</th>\n",
              "      <td>0x7f284b98a43dc5c447fc75f28d5986448acf2a9f</td>\n",
              "      <td>2</td>\n",
              "      <td>5360000000000000000</td>\n",
              "      <td>256</td>\n",
              "      <td>25124266874035927834</td>\n",
              "      <td>19713997846577476085</td>\n",
              "      <td>11</td>\n",
              "      <td>11</td>\n",
              "      <td>1.900797e+21</td>\n",
              "    </tr>\n",
              "  </tbody>\n",
              "</table>\n",
              "</div>"
            ],
            "text/plain": [
              "                                      address  ...  tot_token_value_recieved\n",
              "0  0x009397bc32484a7cf17733ecb73031ce991c985a  ...              6.433577e+22\n",
              "1  0x71b3cf6391e811d3bb14f801f92c0b3a7d6af3b6  ...              1.531765e+22\n",
              "2  0x61b343eff40366274bf360f414d422a0dafb30e1  ...              1.576596e+21\n",
              "3  0xee42c0affa3aef8bf92254b254faabd540899e6f  ...              1.964063e+22\n",
              "4  0x7f284b98a43dc5c447fc75f28d5986448acf2a9f  ...              1.900797e+21\n",
              "\n",
              "[5 rows x 9 columns]"
            ]
          },
          "metadata": {
            "tags": []
          },
          "execution_count": 23
        }
      ]
    },
    {
      "cell_type": "code",
      "metadata": {
        "id": "sVCOVaOoG8pD",
        "colab_type": "code",
        "outputId": "fa7a7a3e-2c00-4d29-a19e-87fddfecd990",
        "colab": {
          "base_uri": "https://localhost:8080/",
          "height": 34
        }
      },
      "source": [
        "data1 = pd.merge(in_out_token_sent,tokens_sent, on='address', how='inner')\n",
        "data1.shape"
      ],
      "execution_count": 24,
      "outputs": [
        {
          "output_type": "execute_result",
          "data": {
            "text/plain": [
              "(98230, 12)"
            ]
          },
          "metadata": {
            "tags": []
          },
          "execution_count": 24
        }
      ]
    },
    {
      "cell_type": "code",
      "metadata": {
        "id": "6oveoTO-IJZz",
        "colab_type": "code",
        "outputId": "4e941a79-2850-4894-bb10-9c69f95476ad",
        "colab": {
          "base_uri": "https://localhost:8080/",
          "height": 224
        }
      },
      "source": [
        "data1.head(5)"
      ],
      "execution_count": 25,
      "outputs": [
        {
          "output_type": "execute_result",
          "data": {
            "text/html": [
              "<div>\n",
              "<style scoped>\n",
              "    .dataframe tbody tr th:only-of-type {\n",
              "        vertical-align: middle;\n",
              "    }\n",
              "\n",
              "    .dataframe tbody tr th {\n",
              "        vertical-align: top;\n",
              "    }\n",
              "\n",
              "    .dataframe thead th {\n",
              "        text-align: right;\n",
              "    }\n",
              "</style>\n",
              "<table border=\"1\" class=\"dataframe\">\n",
              "  <thead>\n",
              "    <tr style=\"text-align: right;\">\n",
              "      <th></th>\n",
              "      <th>address</th>\n",
              "      <th>no_of_out_transactions</th>\n",
              "      <th>tot_ether_sent</th>\n",
              "      <th>no_of_in_transactions</th>\n",
              "      <th>tot_ether_recieved</th>\n",
              "      <th>eth_balance</th>\n",
              "      <th>tot_distinct_tokens_recieved</th>\n",
              "      <th>tot_tokens_recieved</th>\n",
              "      <th>tot_token_value_recieved</th>\n",
              "      <th>tot_distinct_tokens_sent</th>\n",
              "      <th>tot_tokens_sent</th>\n",
              "      <th>tot_token_value_sent</th>\n",
              "    </tr>\n",
              "  </thead>\n",
              "  <tbody>\n",
              "    <tr>\n",
              "      <th>0</th>\n",
              "      <td>0x61b343eff40366274bf360f414d422a0dafb30e1</td>\n",
              "      <td>1</td>\n",
              "      <td>51145658440000000000</td>\n",
              "      <td>256</td>\n",
              "      <td>70054063101365460417</td>\n",
              "      <td>18907564661365460417</td>\n",
              "      <td>9</td>\n",
              "      <td>9</td>\n",
              "      <td>1.576596e+21</td>\n",
              "      <td>1</td>\n",
              "      <td>1</td>\n",
              "      <td>1.000000e+20</td>\n",
              "    </tr>\n",
              "    <tr>\n",
              "      <th>1</th>\n",
              "      <td>0xee42c0affa3aef8bf92254b254faabd540899e6f</td>\n",
              "      <td>1</td>\n",
              "      <td>2000000000000000000</td>\n",
              "      <td>256</td>\n",
              "      <td>8565631618907502600</td>\n",
              "      <td>6565568618907502600</td>\n",
              "      <td>8</td>\n",
              "      <td>8</td>\n",
              "      <td>1.964063e+22</td>\n",
              "      <td>1</td>\n",
              "      <td>1</td>\n",
              "      <td>1.000000e+20</td>\n",
              "    </tr>\n",
              "    <tr>\n",
              "      <th>2</th>\n",
              "      <td>0xc1d0bb46ac0e6d34dc94de4f3c64b1d1fd846bc8</td>\n",
              "      <td>4</td>\n",
              "      <td>14400000000000000000</td>\n",
              "      <td>256</td>\n",
              "      <td>32732503485899520498</td>\n",
              "      <td>18329461557149520498</td>\n",
              "      <td>12</td>\n",
              "      <td>12</td>\n",
              "      <td>1.932021e+21</td>\n",
              "      <td>1</td>\n",
              "      <td>1</td>\n",
              "      <td>1.000000e+20</td>\n",
              "    </tr>\n",
              "    <tr>\n",
              "      <th>3</th>\n",
              "      <td>0x11bc4233e44e270f51ddd372471e251552f8b593</td>\n",
              "      <td>4</td>\n",
              "      <td>3310000000000000000</td>\n",
              "      <td>256</td>\n",
              "      <td>13451411063000000000</td>\n",
              "      <td>10139731063000000000</td>\n",
              "      <td>3</td>\n",
              "      <td>3</td>\n",
              "      <td>1.113982e+19</td>\n",
              "      <td>1</td>\n",
              "      <td>1</td>\n",
              "      <td>1.000000e+20</td>\n",
              "    </tr>\n",
              "    <tr>\n",
              "      <th>4</th>\n",
              "      <td>0xae083ff8f14b5b831b331c59d4f192bbbe170e21</td>\n",
              "      <td>5</td>\n",
              "      <td>41547922050171563314</td>\n",
              "      <td>256</td>\n",
              "      <td>70494065651365407371</td>\n",
              "      <td>28943539601193844057</td>\n",
              "      <td>16</td>\n",
              "      <td>16</td>\n",
              "      <td>4.675494e+22</td>\n",
              "      <td>1</td>\n",
              "      <td>1</td>\n",
              "      <td>1.000000e+20</td>\n",
              "    </tr>\n",
              "  </tbody>\n",
              "</table>\n",
              "</div>"
            ],
            "text/plain": [
              "                                      address  ...  tot_token_value_sent\n",
              "0  0x61b343eff40366274bf360f414d422a0dafb30e1  ...          1.000000e+20\n",
              "1  0xee42c0affa3aef8bf92254b254faabd540899e6f  ...          1.000000e+20\n",
              "2  0xc1d0bb46ac0e6d34dc94de4f3c64b1d1fd846bc8  ...          1.000000e+20\n",
              "3  0x11bc4233e44e270f51ddd372471e251552f8b593  ...          1.000000e+20\n",
              "4  0xae083ff8f14b5b831b331c59d4f192bbbe170e21  ...          1.000000e+20\n",
              "\n",
              "[5 rows x 12 columns]"
            ]
          },
          "metadata": {
            "tags": []
          },
          "execution_count": 25
        }
      ]
    },
    {
      "cell_type": "code",
      "metadata": {
        "id": "9Pcijkz3plUS",
        "colab_type": "code",
        "colab": {}
      },
      "source": [
        "time_in = pd.read_csv('/content/gdrive/My Drive/data/avg_incoming_trans.csv')"
      ],
      "execution_count": 0,
      "outputs": []
    },
    {
      "cell_type": "code",
      "metadata": {
        "id": "dizVjLKJNG8o",
        "colab_type": "code",
        "outputId": "3539e423-2b78-489f-8b5e-69bf9b463b9a",
        "colab": {
          "base_uri": "https://localhost:8080/",
          "height": 289
        }
      },
      "source": [
        "print(time_in.shape)\n",
        "print(time_in.dtypes)\n",
        "time_in.head(5)"
      ],
      "execution_count": 27,
      "outputs": [
        {
          "output_type": "stream",
          "text": [
            "(98230, 3)\n",
            "address                  object\n",
            "no_of_in_transactions     int64\n",
            "total_count               int64\n",
            "dtype: object\n"
          ],
          "name": "stdout"
        },
        {
          "output_type": "execute_result",
          "data": {
            "text/html": [
              "<div>\n",
              "<style scoped>\n",
              "    .dataframe tbody tr th:only-of-type {\n",
              "        vertical-align: middle;\n",
              "    }\n",
              "\n",
              "    .dataframe tbody tr th {\n",
              "        vertical-align: top;\n",
              "    }\n",
              "\n",
              "    .dataframe thead th {\n",
              "        text-align: right;\n",
              "    }\n",
              "</style>\n",
              "<table border=\"1\" class=\"dataframe\">\n",
              "  <thead>\n",
              "    <tr style=\"text-align: right;\">\n",
              "      <th></th>\n",
              "      <th>address</th>\n",
              "      <th>no_of_in_transactions</th>\n",
              "      <th>total_count</th>\n",
              "    </tr>\n",
              "  </thead>\n",
              "  <tbody>\n",
              "    <tr>\n",
              "      <th>0</th>\n",
              "      <td>0x076656146d0226c60b0ac92c406e7e32dd71d666</td>\n",
              "      <td>73215500</td>\n",
              "      <td>256</td>\n",
              "    </tr>\n",
              "    <tr>\n",
              "      <th>1</th>\n",
              "      <td>0x0409e760194055418c34045193704cc32f9ea80d</td>\n",
              "      <td>58189798</td>\n",
              "      <td>256</td>\n",
              "    </tr>\n",
              "    <tr>\n",
              "      <th>2</th>\n",
              "      <td>0xae083ff8f14b5b831b331c59d4f192bbbe170e21</td>\n",
              "      <td>51728841</td>\n",
              "      <td>256</td>\n",
              "    </tr>\n",
              "    <tr>\n",
              "      <th>3</th>\n",
              "      <td>0x6c77462e7d7fc34a7f5177f04b37cf297509fa2a</td>\n",
              "      <td>114171191</td>\n",
              "      <td>256</td>\n",
              "    </tr>\n",
              "    <tr>\n",
              "      <th>4</th>\n",
              "      <td>0xc1d0bb46ac0e6d34dc94de4f3c64b1d1fd846bc8</td>\n",
              "      <td>39308613</td>\n",
              "      <td>256</td>\n",
              "    </tr>\n",
              "  </tbody>\n",
              "</table>\n",
              "</div>"
            ],
            "text/plain": [
              "                                      address  ...  total_count\n",
              "0  0x076656146d0226c60b0ac92c406e7e32dd71d666  ...          256\n",
              "1  0x0409e760194055418c34045193704cc32f9ea80d  ...          256\n",
              "2  0xae083ff8f14b5b831b331c59d4f192bbbe170e21  ...          256\n",
              "3  0x6c77462e7d7fc34a7f5177f04b37cf297509fa2a  ...          256\n",
              "4  0xc1d0bb46ac0e6d34dc94de4f3c64b1d1fd846bc8  ...          256\n",
              "\n",
              "[5 rows x 3 columns]"
            ]
          },
          "metadata": {
            "tags": []
          },
          "execution_count": 27
        }
      ]
    },
    {
      "cell_type": "code",
      "metadata": {
        "id": "-cGV56LkRETR",
        "colab_type": "code",
        "outputId": "3630a7b0-9bbe-4689-d63b-79cc85a865b0",
        "colab": {
          "base_uri": "https://localhost:8080/",
          "height": 204
        }
      },
      "source": [
        "time_in['time_b/w_in_txn'] = time_in['no_of_in_transactions']/time_in['total_count']\n",
        "time_in.head(5)"
      ],
      "execution_count": 28,
      "outputs": [
        {
          "output_type": "execute_result",
          "data": {
            "text/html": [
              "<div>\n",
              "<style scoped>\n",
              "    .dataframe tbody tr th:only-of-type {\n",
              "        vertical-align: middle;\n",
              "    }\n",
              "\n",
              "    .dataframe tbody tr th {\n",
              "        vertical-align: top;\n",
              "    }\n",
              "\n",
              "    .dataframe thead th {\n",
              "        text-align: right;\n",
              "    }\n",
              "</style>\n",
              "<table border=\"1\" class=\"dataframe\">\n",
              "  <thead>\n",
              "    <tr style=\"text-align: right;\">\n",
              "      <th></th>\n",
              "      <th>address</th>\n",
              "      <th>no_of_in_transactions</th>\n",
              "      <th>total_count</th>\n",
              "      <th>time_b/w_in_txn</th>\n",
              "    </tr>\n",
              "  </thead>\n",
              "  <tbody>\n",
              "    <tr>\n",
              "      <th>0</th>\n",
              "      <td>0x076656146d0226c60b0ac92c406e7e32dd71d666</td>\n",
              "      <td>73215500</td>\n",
              "      <td>256</td>\n",
              "      <td>285998.046875</td>\n",
              "    </tr>\n",
              "    <tr>\n",
              "      <th>1</th>\n",
              "      <td>0x0409e760194055418c34045193704cc32f9ea80d</td>\n",
              "      <td>58189798</td>\n",
              "      <td>256</td>\n",
              "      <td>227303.898438</td>\n",
              "    </tr>\n",
              "    <tr>\n",
              "      <th>2</th>\n",
              "      <td>0xae083ff8f14b5b831b331c59d4f192bbbe170e21</td>\n",
              "      <td>51728841</td>\n",
              "      <td>256</td>\n",
              "      <td>202065.785156</td>\n",
              "    </tr>\n",
              "    <tr>\n",
              "      <th>3</th>\n",
              "      <td>0x6c77462e7d7fc34a7f5177f04b37cf297509fa2a</td>\n",
              "      <td>114171191</td>\n",
              "      <td>256</td>\n",
              "      <td>445981.214844</td>\n",
              "    </tr>\n",
              "    <tr>\n",
              "      <th>4</th>\n",
              "      <td>0xc1d0bb46ac0e6d34dc94de4f3c64b1d1fd846bc8</td>\n",
              "      <td>39308613</td>\n",
              "      <td>256</td>\n",
              "      <td>153549.269531</td>\n",
              "    </tr>\n",
              "  </tbody>\n",
              "</table>\n",
              "</div>"
            ],
            "text/plain": [
              "                                      address  ...  time_b/w_in_txn\n",
              "0  0x076656146d0226c60b0ac92c406e7e32dd71d666  ...    285998.046875\n",
              "1  0x0409e760194055418c34045193704cc32f9ea80d  ...    227303.898438\n",
              "2  0xae083ff8f14b5b831b331c59d4f192bbbe170e21  ...    202065.785156\n",
              "3  0x6c77462e7d7fc34a7f5177f04b37cf297509fa2a  ...    445981.214844\n",
              "4  0xc1d0bb46ac0e6d34dc94de4f3c64b1d1fd846bc8  ...    153549.269531\n",
              "\n",
              "[5 rows x 4 columns]"
            ]
          },
          "metadata": {
            "tags": []
          },
          "execution_count": 28
        }
      ]
    },
    {
      "cell_type": "code",
      "metadata": {
        "id": "UvSYFu1VXfUd",
        "colab_type": "code",
        "colab": {}
      },
      "source": [
        "time_in = time_in.drop('no_of_in_transactions',axis=1)\n",
        "time_in = time_in.drop('total_count',axis=1)"
      ],
      "execution_count": 0,
      "outputs": []
    },
    {
      "cell_type": "code",
      "metadata": {
        "id": "zakkRr5JRQKW",
        "colab_type": "code",
        "outputId": "a485c0a8-be99-41c4-bc9f-b89d30356ffe",
        "colab": {
          "base_uri": "https://localhost:8080/",
          "height": 68
        }
      },
      "source": [
        "time_in.isna().sum()"
      ],
      "execution_count": 30,
      "outputs": [
        {
          "output_type": "execute_result",
          "data": {
            "text/plain": [
              "address            0\n",
              "time_b/w_in_txn    0\n",
              "dtype: int64"
            ]
          },
          "metadata": {
            "tags": []
          },
          "execution_count": 30
        }
      ]
    },
    {
      "cell_type": "code",
      "metadata": {
        "id": "khBEswwnqK5L",
        "colab_type": "code",
        "outputId": "459cae46-212e-4eec-864b-8793162be321",
        "colab": {
          "base_uri": "https://localhost:8080/",
          "height": 34
        }
      },
      "source": [
        "data2 = pd.merge(data1,time_in, on='address',how='inner')\n",
        "data2.shape"
      ],
      "execution_count": 31,
      "outputs": [
        {
          "output_type": "execute_result",
          "data": {
            "text/plain": [
              "(98230, 13)"
            ]
          },
          "metadata": {
            "tags": []
          },
          "execution_count": 31
        }
      ]
    },
    {
      "cell_type": "code",
      "metadata": {
        "id": "LdKbQY6IYEc-",
        "colab_type": "code",
        "outputId": "0382ab2c-b1bf-4021-fb54-597cbf8c1f69",
        "colab": {
          "base_uri": "https://localhost:8080/",
          "height": 224
        }
      },
      "source": [
        "data2.head(5)"
      ],
      "execution_count": 32,
      "outputs": [
        {
          "output_type": "execute_result",
          "data": {
            "text/html": [
              "<div>\n",
              "<style scoped>\n",
              "    .dataframe tbody tr th:only-of-type {\n",
              "        vertical-align: middle;\n",
              "    }\n",
              "\n",
              "    .dataframe tbody tr th {\n",
              "        vertical-align: top;\n",
              "    }\n",
              "\n",
              "    .dataframe thead th {\n",
              "        text-align: right;\n",
              "    }\n",
              "</style>\n",
              "<table border=\"1\" class=\"dataframe\">\n",
              "  <thead>\n",
              "    <tr style=\"text-align: right;\">\n",
              "      <th></th>\n",
              "      <th>address</th>\n",
              "      <th>no_of_out_transactions</th>\n",
              "      <th>tot_ether_sent</th>\n",
              "      <th>no_of_in_transactions</th>\n",
              "      <th>tot_ether_recieved</th>\n",
              "      <th>eth_balance</th>\n",
              "      <th>tot_distinct_tokens_recieved</th>\n",
              "      <th>tot_tokens_recieved</th>\n",
              "      <th>tot_token_value_recieved</th>\n",
              "      <th>tot_distinct_tokens_sent</th>\n",
              "      <th>tot_tokens_sent</th>\n",
              "      <th>tot_token_value_sent</th>\n",
              "      <th>time_b/w_in_txn</th>\n",
              "    </tr>\n",
              "  </thead>\n",
              "  <tbody>\n",
              "    <tr>\n",
              "      <th>0</th>\n",
              "      <td>0x61b343eff40366274bf360f414d422a0dafb30e1</td>\n",
              "      <td>1</td>\n",
              "      <td>51145658440000000000</td>\n",
              "      <td>256</td>\n",
              "      <td>70054063101365460417</td>\n",
              "      <td>18907564661365460417</td>\n",
              "      <td>9</td>\n",
              "      <td>9</td>\n",
              "      <td>1.576596e+21</td>\n",
              "      <td>1</td>\n",
              "      <td>1</td>\n",
              "      <td>1.000000e+20</td>\n",
              "      <td>222806.843750</td>\n",
              "    </tr>\n",
              "    <tr>\n",
              "      <th>1</th>\n",
              "      <td>0xee42c0affa3aef8bf92254b254faabd540899e6f</td>\n",
              "      <td>1</td>\n",
              "      <td>2000000000000000000</td>\n",
              "      <td>256</td>\n",
              "      <td>8565631618907502600</td>\n",
              "      <td>6565568618907502600</td>\n",
              "      <td>8</td>\n",
              "      <td>8</td>\n",
              "      <td>1.964063e+22</td>\n",
              "      <td>1</td>\n",
              "      <td>1</td>\n",
              "      <td>1.000000e+20</td>\n",
              "      <td>102862.480469</td>\n",
              "    </tr>\n",
              "    <tr>\n",
              "      <th>2</th>\n",
              "      <td>0xc1d0bb46ac0e6d34dc94de4f3c64b1d1fd846bc8</td>\n",
              "      <td>4</td>\n",
              "      <td>14400000000000000000</td>\n",
              "      <td>256</td>\n",
              "      <td>32732503485899520498</td>\n",
              "      <td>18329461557149520498</td>\n",
              "      <td>12</td>\n",
              "      <td>12</td>\n",
              "      <td>1.932021e+21</td>\n",
              "      <td>1</td>\n",
              "      <td>1</td>\n",
              "      <td>1.000000e+20</td>\n",
              "      <td>153549.269531</td>\n",
              "    </tr>\n",
              "    <tr>\n",
              "      <th>3</th>\n",
              "      <td>0x11bc4233e44e270f51ddd372471e251552f8b593</td>\n",
              "      <td>4</td>\n",
              "      <td>3310000000000000000</td>\n",
              "      <td>256</td>\n",
              "      <td>13451411063000000000</td>\n",
              "      <td>10139731063000000000</td>\n",
              "      <td>3</td>\n",
              "      <td>3</td>\n",
              "      <td>1.113982e+19</td>\n",
              "      <td>1</td>\n",
              "      <td>1</td>\n",
              "      <td>1.000000e+20</td>\n",
              "      <td>82704.714844</td>\n",
              "    </tr>\n",
              "    <tr>\n",
              "      <th>4</th>\n",
              "      <td>0xae083ff8f14b5b831b331c59d4f192bbbe170e21</td>\n",
              "      <td>5</td>\n",
              "      <td>41547922050171563314</td>\n",
              "      <td>256</td>\n",
              "      <td>70494065651365407371</td>\n",
              "      <td>28943539601193844057</td>\n",
              "      <td>16</td>\n",
              "      <td>16</td>\n",
              "      <td>4.675494e+22</td>\n",
              "      <td>1</td>\n",
              "      <td>1</td>\n",
              "      <td>1.000000e+20</td>\n",
              "      <td>202065.785156</td>\n",
              "    </tr>\n",
              "  </tbody>\n",
              "</table>\n",
              "</div>"
            ],
            "text/plain": [
              "                                      address  ...  time_b/w_in_txn\n",
              "0  0x61b343eff40366274bf360f414d422a0dafb30e1  ...    222806.843750\n",
              "1  0xee42c0affa3aef8bf92254b254faabd540899e6f  ...    102862.480469\n",
              "2  0xc1d0bb46ac0e6d34dc94de4f3c64b1d1fd846bc8  ...    153549.269531\n",
              "3  0x11bc4233e44e270f51ddd372471e251552f8b593  ...     82704.714844\n",
              "4  0xae083ff8f14b5b831b331c59d4f192bbbe170e21  ...    202065.785156\n",
              "\n",
              "[5 rows x 13 columns]"
            ]
          },
          "metadata": {
            "tags": []
          },
          "execution_count": 32
        }
      ]
    },
    {
      "cell_type": "code",
      "metadata": {
        "id": "aLsSY_kz3hiA",
        "colab_type": "code",
        "colab": {}
      },
      "source": [
        "time_out = pd.read_csv('/content/gdrive/My Drive/data/avg_outgoing_trans.csv')"
      ],
      "execution_count": 0,
      "outputs": []
    },
    {
      "cell_type": "code",
      "metadata": {
        "id": "bK9jXaSINH3a",
        "colab_type": "code",
        "outputId": "9bccbf90-d72c-4390-b470-897b6f702668",
        "colab": {
          "base_uri": "https://localhost:8080/",
          "height": 289
        }
      },
      "source": [
        "print(time_out.shape)\n",
        "print(time_out.dtypes)\n",
        "time_out.head(5)"
      ],
      "execution_count": 34,
      "outputs": [
        {
          "output_type": "stream",
          "text": [
            "(98230, 3)\n",
            "address                   object\n",
            "no_of_out_transactions     int64\n",
            "total_out_count            int64\n",
            "dtype: object\n"
          ],
          "name": "stdout"
        },
        {
          "output_type": "execute_result",
          "data": {
            "text/html": [
              "<div>\n",
              "<style scoped>\n",
              "    .dataframe tbody tr th:only-of-type {\n",
              "        vertical-align: middle;\n",
              "    }\n",
              "\n",
              "    .dataframe tbody tr th {\n",
              "        vertical-align: top;\n",
              "    }\n",
              "\n",
              "    .dataframe thead th {\n",
              "        text-align: right;\n",
              "    }\n",
              "</style>\n",
              "<table border=\"1\" class=\"dataframe\">\n",
              "  <thead>\n",
              "    <tr style=\"text-align: right;\">\n",
              "      <th></th>\n",
              "      <th>address</th>\n",
              "      <th>no_of_out_transactions</th>\n",
              "      <th>total_out_count</th>\n",
              "    </tr>\n",
              "  </thead>\n",
              "  <tbody>\n",
              "    <tr>\n",
              "      <th>0</th>\n",
              "      <td>0x168a7ed63aa0219365b174a94ac24384c8b53416</td>\n",
              "      <td>10470377</td>\n",
              "      <td>256</td>\n",
              "    </tr>\n",
              "    <tr>\n",
              "      <th>1</th>\n",
              "      <td>0x002b254abdcef1f9af4e56f0e9776bc1feea1edc</td>\n",
              "      <td>49096214</td>\n",
              "      <td>256</td>\n",
              "    </tr>\n",
              "    <tr>\n",
              "      <th>2</th>\n",
              "      <td>0x7019cb06a837f96f6cf85c3c37eecc7878306e11</td>\n",
              "      <td>78122280</td>\n",
              "      <td>256</td>\n",
              "    </tr>\n",
              "    <tr>\n",
              "      <th>3</th>\n",
              "      <td>0x0092ffc5168da524adfc077eb13ff105eda5dbeb</td>\n",
              "      <td>62316640</td>\n",
              "      <td>256</td>\n",
              "    </tr>\n",
              "    <tr>\n",
              "      <th>4</th>\n",
              "      <td>0x8a88be150dc28e45150281d4cc834b7e4cb8260c</td>\n",
              "      <td>65762567</td>\n",
              "      <td>256</td>\n",
              "    </tr>\n",
              "  </tbody>\n",
              "</table>\n",
              "</div>"
            ],
            "text/plain": [
              "                                      address  ...  total_out_count\n",
              "0  0x168a7ed63aa0219365b174a94ac24384c8b53416  ...              256\n",
              "1  0x002b254abdcef1f9af4e56f0e9776bc1feea1edc  ...              256\n",
              "2  0x7019cb06a837f96f6cf85c3c37eecc7878306e11  ...              256\n",
              "3  0x0092ffc5168da524adfc077eb13ff105eda5dbeb  ...              256\n",
              "4  0x8a88be150dc28e45150281d4cc834b7e4cb8260c  ...              256\n",
              "\n",
              "[5 rows x 3 columns]"
            ]
          },
          "metadata": {
            "tags": []
          },
          "execution_count": 34
        }
      ]
    },
    {
      "cell_type": "code",
      "metadata": {
        "id": "rgI_5IWGQGUs",
        "colab_type": "code",
        "colab": {}
      },
      "source": [
        "time_out['time_b/w_out_txn'] = time_out['no_of_out_transactions']/time_out['total_out_count']"
      ],
      "execution_count": 0,
      "outputs": []
    },
    {
      "cell_type": "markdown",
      "metadata": {
        "id": "yBbka8s5Wmf8",
        "colab_type": "text"
      },
      "source": [
        "Find no. of values with inf"
      ]
    },
    {
      "cell_type": "code",
      "metadata": {
        "id": "mskddO-LYQYe",
        "colab_type": "code",
        "outputId": "5011aa85-cd42-4d54-9203-403263607953",
        "colab": {
          "base_uri": "https://localhost:8080/",
          "height": 34
        }
      },
      "source": [
        "len(time_out['time_b/w_out_txn'].index[np.isinf(time_out['time_b/w_out_txn'])])"
      ],
      "execution_count": 36,
      "outputs": [
        {
          "output_type": "execute_result",
          "data": {
            "text/plain": [
              "0"
            ]
          },
          "metadata": {
            "tags": []
          },
          "execution_count": 36
        }
      ]
    },
    {
      "cell_type": "code",
      "metadata": {
        "id": "DUfhl91JYRId",
        "colab_type": "code",
        "colab": {}
      },
      "source": [
        "time_out = time_out.drop('no_of_out_transactions',axis=1)\n",
        "time_out = time_out.drop('total_out_count',axis=1)"
      ],
      "execution_count": 0,
      "outputs": []
    },
    {
      "cell_type": "code",
      "metadata": {
        "id": "fdRkNbbLQeHg",
        "colab_type": "code",
        "outputId": "ecab333b-08ed-4ca0-cfed-b36f2cd0f0f9",
        "colab": {
          "base_uri": "https://localhost:8080/",
          "height": 204
        }
      },
      "source": [
        "time_out.head(5)"
      ],
      "execution_count": 38,
      "outputs": [
        {
          "output_type": "execute_result",
          "data": {
            "text/html": [
              "<div>\n",
              "<style scoped>\n",
              "    .dataframe tbody tr th:only-of-type {\n",
              "        vertical-align: middle;\n",
              "    }\n",
              "\n",
              "    .dataframe tbody tr th {\n",
              "        vertical-align: top;\n",
              "    }\n",
              "\n",
              "    .dataframe thead th {\n",
              "        text-align: right;\n",
              "    }\n",
              "</style>\n",
              "<table border=\"1\" class=\"dataframe\">\n",
              "  <thead>\n",
              "    <tr style=\"text-align: right;\">\n",
              "      <th></th>\n",
              "      <th>address</th>\n",
              "      <th>time_b/w_out_txn</th>\n",
              "    </tr>\n",
              "  </thead>\n",
              "  <tbody>\n",
              "    <tr>\n",
              "      <th>0</th>\n",
              "      <td>0x168a7ed63aa0219365b174a94ac24384c8b53416</td>\n",
              "      <td>40899.910156</td>\n",
              "    </tr>\n",
              "    <tr>\n",
              "      <th>1</th>\n",
              "      <td>0x002b254abdcef1f9af4e56f0e9776bc1feea1edc</td>\n",
              "      <td>191782.085938</td>\n",
              "    </tr>\n",
              "    <tr>\n",
              "      <th>2</th>\n",
              "      <td>0x7019cb06a837f96f6cf85c3c37eecc7878306e11</td>\n",
              "      <td>305165.156250</td>\n",
              "    </tr>\n",
              "    <tr>\n",
              "      <th>3</th>\n",
              "      <td>0x0092ffc5168da524adfc077eb13ff105eda5dbeb</td>\n",
              "      <td>243424.375000</td>\n",
              "    </tr>\n",
              "    <tr>\n",
              "      <th>4</th>\n",
              "      <td>0x8a88be150dc28e45150281d4cc834b7e4cb8260c</td>\n",
              "      <td>256885.027344</td>\n",
              "    </tr>\n",
              "  </tbody>\n",
              "</table>\n",
              "</div>"
            ],
            "text/plain": [
              "                                      address  time_b/w_out_txn\n",
              "0  0x168a7ed63aa0219365b174a94ac24384c8b53416      40899.910156\n",
              "1  0x002b254abdcef1f9af4e56f0e9776bc1feea1edc     191782.085938\n",
              "2  0x7019cb06a837f96f6cf85c3c37eecc7878306e11     305165.156250\n",
              "3  0x0092ffc5168da524adfc077eb13ff105eda5dbeb     243424.375000\n",
              "4  0x8a88be150dc28e45150281d4cc834b7e4cb8260c     256885.027344"
            ]
          },
          "metadata": {
            "tags": []
          },
          "execution_count": 38
        }
      ]
    },
    {
      "cell_type": "code",
      "metadata": {
        "id": "QQKivPZzQoIA",
        "colab_type": "code",
        "outputId": "aa44c4de-73b9-409d-8a50-b0f1bf7f877c",
        "colab": {
          "base_uri": "https://localhost:8080/",
          "height": 68
        }
      },
      "source": [
        "time_out.isna().sum()"
      ],
      "execution_count": 39,
      "outputs": [
        {
          "output_type": "execute_result",
          "data": {
            "text/plain": [
              "address             0\n",
              "time_b/w_out_txn    0\n",
              "dtype: int64"
            ]
          },
          "metadata": {
            "tags": []
          },
          "execution_count": 39
        }
      ]
    },
    {
      "cell_type": "code",
      "metadata": {
        "id": "hAfCWbZ03llb",
        "colab_type": "code",
        "outputId": "f8c99aa6-ad83-471e-ad32-4a5e16a29f15",
        "colab": {
          "base_uri": "https://localhost:8080/",
          "height": 34
        }
      },
      "source": [
        "data3 = pd.merge(data2,time_out, on='address',how='inner')\n",
        "data3.shape"
      ],
      "execution_count": 40,
      "outputs": [
        {
          "output_type": "execute_result",
          "data": {
            "text/plain": [
              "(98230, 14)"
            ]
          },
          "metadata": {
            "tags": []
          },
          "execution_count": 40
        }
      ]
    },
    {
      "cell_type": "code",
      "metadata": {
        "id": "Ciopqi-UHnJi",
        "colab_type": "code",
        "colab": {}
      },
      "source": [
        "active_months = pd.read_csv('/content/gdrive/My Drive/data/active_months.csv')"
      ],
      "execution_count": 0,
      "outputs": []
    },
    {
      "cell_type": "code",
      "metadata": {
        "id": "YDHh9FtEaryg",
        "colab_type": "code",
        "outputId": "48554f85-fcdb-4ecc-a580-7d2dbbd68d0e",
        "colab": {
          "base_uri": "https://localhost:8080/",
          "height": 272
        }
      },
      "source": [
        "print(active_months.shape)\n",
        "print(active_months.dtypes)\n",
        "active_months.head(5)"
      ],
      "execution_count": 43,
      "outputs": [
        {
          "output_type": "stream",
          "text": [
            "(98230, 2)\n",
            "address          object\n",
            "active_months     int64\n",
            "dtype: object\n"
          ],
          "name": "stdout"
        },
        {
          "output_type": "execute_result",
          "data": {
            "text/html": [
              "<div>\n",
              "<style scoped>\n",
              "    .dataframe tbody tr th:only-of-type {\n",
              "        vertical-align: middle;\n",
              "    }\n",
              "\n",
              "    .dataframe tbody tr th {\n",
              "        vertical-align: top;\n",
              "    }\n",
              "\n",
              "    .dataframe thead th {\n",
              "        text-align: right;\n",
              "    }\n",
              "</style>\n",
              "<table border=\"1\" class=\"dataframe\">\n",
              "  <thead>\n",
              "    <tr style=\"text-align: right;\">\n",
              "      <th></th>\n",
              "      <th>address</th>\n",
              "      <th>active_months</th>\n",
              "    </tr>\n",
              "  </thead>\n",
              "  <tbody>\n",
              "    <tr>\n",
              "      <th>0</th>\n",
              "      <td>0x1dad7f567f6b3eecd45e9b6b97664b1b068a57e9</td>\n",
              "      <td>1</td>\n",
              "    </tr>\n",
              "    <tr>\n",
              "      <th>1</th>\n",
              "      <td>0xb327202255b22ae90f1de88e9d164f6acc715e3d</td>\n",
              "      <td>1</td>\n",
              "    </tr>\n",
              "    <tr>\n",
              "      <th>2</th>\n",
              "      <td>0x759b5506280c686cd2cab9d50db03efbe30bf739</td>\n",
              "      <td>1</td>\n",
              "    </tr>\n",
              "    <tr>\n",
              "      <th>3</th>\n",
              "      <td>0x06d582c0def7bca79844a308ca6e67424a806618</td>\n",
              "      <td>1</td>\n",
              "    </tr>\n",
              "    <tr>\n",
              "      <th>4</th>\n",
              "      <td>0xee115bcec11be4f6b8f058dd183347a4c15e9f49</td>\n",
              "      <td>1</td>\n",
              "    </tr>\n",
              "  </tbody>\n",
              "</table>\n",
              "</div>"
            ],
            "text/plain": [
              "                                      address  active_months\n",
              "0  0x1dad7f567f6b3eecd45e9b6b97664b1b068a57e9              1\n",
              "1  0xb327202255b22ae90f1de88e9d164f6acc715e3d              1\n",
              "2  0x759b5506280c686cd2cab9d50db03efbe30bf739              1\n",
              "3  0x06d582c0def7bca79844a308ca6e67424a806618              1\n",
              "4  0xee115bcec11be4f6b8f058dd183347a4c15e9f49              1"
            ]
          },
          "metadata": {
            "tags": []
          },
          "execution_count": 43
        }
      ]
    },
    {
      "cell_type": "code",
      "metadata": {
        "id": "3ms-HH_FHoM0",
        "colab_type": "code",
        "outputId": "6f21a1b7-f7eb-4982-89fb-47968b984b0c",
        "colab": {
          "base_uri": "https://localhost:8080/",
          "height": 241
        }
      },
      "source": [
        "data4 = pd.merge(data3,active_months, on='address',how='inner')\n",
        "print(data4.shape)\n",
        "data4.head(5)"
      ],
      "execution_count": 44,
      "outputs": [
        {
          "output_type": "stream",
          "text": [
            "(98230, 15)\n"
          ],
          "name": "stdout"
        },
        {
          "output_type": "execute_result",
          "data": {
            "text/html": [
              "<div>\n",
              "<style scoped>\n",
              "    .dataframe tbody tr th:only-of-type {\n",
              "        vertical-align: middle;\n",
              "    }\n",
              "\n",
              "    .dataframe tbody tr th {\n",
              "        vertical-align: top;\n",
              "    }\n",
              "\n",
              "    .dataframe thead th {\n",
              "        text-align: right;\n",
              "    }\n",
              "</style>\n",
              "<table border=\"1\" class=\"dataframe\">\n",
              "  <thead>\n",
              "    <tr style=\"text-align: right;\">\n",
              "      <th></th>\n",
              "      <th>address</th>\n",
              "      <th>no_of_out_transactions</th>\n",
              "      <th>tot_ether_sent</th>\n",
              "      <th>no_of_in_transactions</th>\n",
              "      <th>tot_ether_recieved</th>\n",
              "      <th>eth_balance</th>\n",
              "      <th>tot_distinct_tokens_recieved</th>\n",
              "      <th>tot_tokens_recieved</th>\n",
              "      <th>tot_token_value_recieved</th>\n",
              "      <th>tot_distinct_tokens_sent</th>\n",
              "      <th>tot_tokens_sent</th>\n",
              "      <th>tot_token_value_sent</th>\n",
              "      <th>time_b/w_in_txn</th>\n",
              "      <th>time_b/w_out_txn</th>\n",
              "      <th>active_months</th>\n",
              "    </tr>\n",
              "  </thead>\n",
              "  <tbody>\n",
              "    <tr>\n",
              "      <th>0</th>\n",
              "      <td>0x61b343eff40366274bf360f414d422a0dafb30e1</td>\n",
              "      <td>1</td>\n",
              "      <td>51145658440000000000</td>\n",
              "      <td>256</td>\n",
              "      <td>70054063101365460417</td>\n",
              "      <td>18907564661365460417</td>\n",
              "      <td>9</td>\n",
              "      <td>9</td>\n",
              "      <td>1.576596e+21</td>\n",
              "      <td>1</td>\n",
              "      <td>1</td>\n",
              "      <td>1.000000e+20</td>\n",
              "      <td>222806.843750</td>\n",
              "      <td>0.00</td>\n",
              "      <td>23</td>\n",
              "    </tr>\n",
              "    <tr>\n",
              "      <th>1</th>\n",
              "      <td>0xee42c0affa3aef8bf92254b254faabd540899e6f</td>\n",
              "      <td>1</td>\n",
              "      <td>2000000000000000000</td>\n",
              "      <td>256</td>\n",
              "      <td>8565631618907502600</td>\n",
              "      <td>6565568618907502600</td>\n",
              "      <td>8</td>\n",
              "      <td>8</td>\n",
              "      <td>1.964063e+22</td>\n",
              "      <td>1</td>\n",
              "      <td>1</td>\n",
              "      <td>1.000000e+20</td>\n",
              "      <td>102862.480469</td>\n",
              "      <td>0.00</td>\n",
              "      <td>11</td>\n",
              "    </tr>\n",
              "    <tr>\n",
              "      <th>2</th>\n",
              "      <td>0xc1d0bb46ac0e6d34dc94de4f3c64b1d1fd846bc8</td>\n",
              "      <td>4</td>\n",
              "      <td>14400000000000000000</td>\n",
              "      <td>256</td>\n",
              "      <td>32732503485899520498</td>\n",
              "      <td>18329461557149520498</td>\n",
              "      <td>12</td>\n",
              "      <td>12</td>\n",
              "      <td>1.932021e+21</td>\n",
              "      <td>1</td>\n",
              "      <td>1</td>\n",
              "      <td>1.000000e+20</td>\n",
              "      <td>153549.269531</td>\n",
              "      <td>1232720.25</td>\n",
              "      <td>16</td>\n",
              "    </tr>\n",
              "    <tr>\n",
              "      <th>3</th>\n",
              "      <td>0x11bc4233e44e270f51ddd372471e251552f8b593</td>\n",
              "      <td>4</td>\n",
              "      <td>3310000000000000000</td>\n",
              "      <td>256</td>\n",
              "      <td>13451411063000000000</td>\n",
              "      <td>10139731063000000000</td>\n",
              "      <td>3</td>\n",
              "      <td>3</td>\n",
              "      <td>1.113982e+19</td>\n",
              "      <td>1</td>\n",
              "      <td>1</td>\n",
              "      <td>1.000000e+20</td>\n",
              "      <td>82704.714844</td>\n",
              "      <td>2730443.75</td>\n",
              "      <td>9</td>\n",
              "    </tr>\n",
              "    <tr>\n",
              "      <th>4</th>\n",
              "      <td>0xae083ff8f14b5b831b331c59d4f192bbbe170e21</td>\n",
              "      <td>5</td>\n",
              "      <td>41547922050171563314</td>\n",
              "      <td>256</td>\n",
              "      <td>70494065651365407371</td>\n",
              "      <td>28943539601193844057</td>\n",
              "      <td>16</td>\n",
              "      <td>16</td>\n",
              "      <td>4.675494e+22</td>\n",
              "      <td>1</td>\n",
              "      <td>1</td>\n",
              "      <td>1.000000e+20</td>\n",
              "      <td>202065.785156</td>\n",
              "      <td>3387412.80</td>\n",
              "      <td>20</td>\n",
              "    </tr>\n",
              "  </tbody>\n",
              "</table>\n",
              "</div>"
            ],
            "text/plain": [
              "                                      address  ...  active_months\n",
              "0  0x61b343eff40366274bf360f414d422a0dafb30e1  ...             23\n",
              "1  0xee42c0affa3aef8bf92254b254faabd540899e6f  ...             11\n",
              "2  0xc1d0bb46ac0e6d34dc94de4f3c64b1d1fd846bc8  ...             16\n",
              "3  0x11bc4233e44e270f51ddd372471e251552f8b593  ...              9\n",
              "4  0xae083ff8f14b5b831b331c59d4f192bbbe170e21  ...             20\n",
              "\n",
              "[5 rows x 15 columns]"
            ]
          },
          "metadata": {
            "tags": []
          },
          "execution_count": 44
        }
      ]
    },
    {
      "cell_type": "markdown",
      "metadata": {
        "id": "tv8dTN0QWczf",
        "colab_type": "text"
      },
      "source": [
        "**Monthly Outgoing Transactions**"
      ]
    },
    {
      "cell_type": "code",
      "metadata": {
        "id": "scD198YKN2n3",
        "colab_type": "code",
        "colab": {}
      },
      "source": [
        "monthly_out_txn = pd.read_csv('/content/gdrive/My Drive/data/monthly_out_trans.csv',names=['address','monthly_out_txn'])"
      ],
      "execution_count": 0,
      "outputs": []
    },
    {
      "cell_type": "code",
      "metadata": {
        "id": "GVABnxtTOA92",
        "colab_type": "code",
        "colab": {}
      },
      "source": [
        "monthly_out_txn = monthly_out_txn.drop([0],axis=0)"
      ],
      "execution_count": 0,
      "outputs": []
    },
    {
      "cell_type": "code",
      "metadata": {
        "id": "JykOajGNNI5m",
        "colab_type": "code",
        "outputId": "99a772f6-6f6d-45eb-91f0-3a378bfe35dc",
        "colab": {
          "base_uri": "https://localhost:8080/",
          "height": 272
        }
      },
      "source": [
        "print(monthly_out_txn.shape)\n",
        "print(monthly_out_txn.dtypes)\n",
        "monthly_out_txn.head(5)"
      ],
      "execution_count": 47,
      "outputs": [
        {
          "output_type": "stream",
          "text": [
            "(98230, 2)\n",
            "address            object\n",
            "monthly_out_txn    object\n",
            "dtype: object\n"
          ],
          "name": "stdout"
        },
        {
          "output_type": "execute_result",
          "data": {
            "text/html": [
              "<div>\n",
              "<style scoped>\n",
              "    .dataframe tbody tr th:only-of-type {\n",
              "        vertical-align: middle;\n",
              "    }\n",
              "\n",
              "    .dataframe tbody tr th {\n",
              "        vertical-align: top;\n",
              "    }\n",
              "\n",
              "    .dataframe thead th {\n",
              "        text-align: right;\n",
              "    }\n",
              "</style>\n",
              "<table border=\"1\" class=\"dataframe\">\n",
              "  <thead>\n",
              "    <tr style=\"text-align: right;\">\n",
              "      <th></th>\n",
              "      <th>address</th>\n",
              "      <th>monthly_out_txn</th>\n",
              "    </tr>\n",
              "  </thead>\n",
              "  <tbody>\n",
              "    <tr>\n",
              "      <th>1</th>\n",
              "      <td>0xcdc2d99c55b7da63d776b59a33785b6066a46023</td>\n",
              "      <td>2</td>\n",
              "    </tr>\n",
              "    <tr>\n",
              "      <th>2</th>\n",
              "      <td>0xe75f5225c56a74bf04e8c4b2f3d36355772cddc3</td>\n",
              "      <td>2</td>\n",
              "    </tr>\n",
              "    <tr>\n",
              "      <th>3</th>\n",
              "      <td>0xc1b1c4b8d6fe98a8668dba5f422737566142f100</td>\n",
              "      <td>2</td>\n",
              "    </tr>\n",
              "    <tr>\n",
              "      <th>4</th>\n",
              "      <td>0x65b1b0391c637623a67527d75d3a87637a58457d</td>\n",
              "      <td>2</td>\n",
              "    </tr>\n",
              "    <tr>\n",
              "      <th>5</th>\n",
              "      <td>0x25150ae86241d8128edda5039c0fff7762d62f90</td>\n",
              "      <td>2</td>\n",
              "    </tr>\n",
              "  </tbody>\n",
              "</table>\n",
              "</div>"
            ],
            "text/plain": [
              "                                      address monthly_out_txn\n",
              "1  0xcdc2d99c55b7da63d776b59a33785b6066a46023               2\n",
              "2  0xe75f5225c56a74bf04e8c4b2f3d36355772cddc3               2\n",
              "3  0xc1b1c4b8d6fe98a8668dba5f422737566142f100               2\n",
              "4  0x65b1b0391c637623a67527d75d3a87637a58457d               2\n",
              "5  0x25150ae86241d8128edda5039c0fff7762d62f90               2"
            ]
          },
          "metadata": {
            "tags": []
          },
          "execution_count": 47
        }
      ]
    },
    {
      "cell_type": "code",
      "metadata": {
        "id": "LIsk-1FfNpt1",
        "colab_type": "code",
        "outputId": "b8915e6c-db6f-4ae3-e462-e744685da54c",
        "colab": {
          "base_uri": "https://localhost:8080/",
          "height": 241
        }
      },
      "source": [
        "data5 = pd.merge(data4,monthly_out_txn, on='address',how='inner')\n",
        "print(data5.shape)\n",
        "data5.head(5)"
      ],
      "execution_count": 48,
      "outputs": [
        {
          "output_type": "stream",
          "text": [
            "(98230, 16)\n"
          ],
          "name": "stdout"
        },
        {
          "output_type": "execute_result",
          "data": {
            "text/html": [
              "<div>\n",
              "<style scoped>\n",
              "    .dataframe tbody tr th:only-of-type {\n",
              "        vertical-align: middle;\n",
              "    }\n",
              "\n",
              "    .dataframe tbody tr th {\n",
              "        vertical-align: top;\n",
              "    }\n",
              "\n",
              "    .dataframe thead th {\n",
              "        text-align: right;\n",
              "    }\n",
              "</style>\n",
              "<table border=\"1\" class=\"dataframe\">\n",
              "  <thead>\n",
              "    <tr style=\"text-align: right;\">\n",
              "      <th></th>\n",
              "      <th>address</th>\n",
              "      <th>no_of_out_transactions</th>\n",
              "      <th>tot_ether_sent</th>\n",
              "      <th>no_of_in_transactions</th>\n",
              "      <th>tot_ether_recieved</th>\n",
              "      <th>eth_balance</th>\n",
              "      <th>tot_distinct_tokens_recieved</th>\n",
              "      <th>tot_tokens_recieved</th>\n",
              "      <th>tot_token_value_recieved</th>\n",
              "      <th>tot_distinct_tokens_sent</th>\n",
              "      <th>tot_tokens_sent</th>\n",
              "      <th>tot_token_value_sent</th>\n",
              "      <th>time_b/w_in_txn</th>\n",
              "      <th>time_b/w_out_txn</th>\n",
              "      <th>active_months</th>\n",
              "      <th>monthly_out_txn</th>\n",
              "    </tr>\n",
              "  </thead>\n",
              "  <tbody>\n",
              "    <tr>\n",
              "      <th>0</th>\n",
              "      <td>0x61b343eff40366274bf360f414d422a0dafb30e1</td>\n",
              "      <td>1</td>\n",
              "      <td>51145658440000000000</td>\n",
              "      <td>256</td>\n",
              "      <td>70054063101365460417</td>\n",
              "      <td>18907564661365460417</td>\n",
              "      <td>9</td>\n",
              "      <td>9</td>\n",
              "      <td>1.576596e+21</td>\n",
              "      <td>1</td>\n",
              "      <td>1</td>\n",
              "      <td>1.000000e+20</td>\n",
              "      <td>222806.843750</td>\n",
              "      <td>0.00</td>\n",
              "      <td>23</td>\n",
              "      <td>1</td>\n",
              "    </tr>\n",
              "    <tr>\n",
              "      <th>1</th>\n",
              "      <td>0xee42c0affa3aef8bf92254b254faabd540899e6f</td>\n",
              "      <td>1</td>\n",
              "      <td>2000000000000000000</td>\n",
              "      <td>256</td>\n",
              "      <td>8565631618907502600</td>\n",
              "      <td>6565568618907502600</td>\n",
              "      <td>8</td>\n",
              "      <td>8</td>\n",
              "      <td>1.964063e+22</td>\n",
              "      <td>1</td>\n",
              "      <td>1</td>\n",
              "      <td>1.000000e+20</td>\n",
              "      <td>102862.480469</td>\n",
              "      <td>0.00</td>\n",
              "      <td>11</td>\n",
              "      <td>1</td>\n",
              "    </tr>\n",
              "    <tr>\n",
              "      <th>2</th>\n",
              "      <td>0xc1d0bb46ac0e6d34dc94de4f3c64b1d1fd846bc8</td>\n",
              "      <td>4</td>\n",
              "      <td>14400000000000000000</td>\n",
              "      <td>256</td>\n",
              "      <td>32732503485899520498</td>\n",
              "      <td>18329461557149520498</td>\n",
              "      <td>12</td>\n",
              "      <td>12</td>\n",
              "      <td>1.932021e+21</td>\n",
              "      <td>1</td>\n",
              "      <td>1</td>\n",
              "      <td>1.000000e+20</td>\n",
              "      <td>153549.269531</td>\n",
              "      <td>1232720.25</td>\n",
              "      <td>16</td>\n",
              "      <td>1.3333333333333333</td>\n",
              "    </tr>\n",
              "    <tr>\n",
              "      <th>3</th>\n",
              "      <td>0x11bc4233e44e270f51ddd372471e251552f8b593</td>\n",
              "      <td>4</td>\n",
              "      <td>3310000000000000000</td>\n",
              "      <td>256</td>\n",
              "      <td>13451411063000000000</td>\n",
              "      <td>10139731063000000000</td>\n",
              "      <td>3</td>\n",
              "      <td>3</td>\n",
              "      <td>1.113982e+19</td>\n",
              "      <td>1</td>\n",
              "      <td>1</td>\n",
              "      <td>1.000000e+20</td>\n",
              "      <td>82704.714844</td>\n",
              "      <td>2730443.75</td>\n",
              "      <td>9</td>\n",
              "      <td>1.3333333333333333</td>\n",
              "    </tr>\n",
              "    <tr>\n",
              "      <th>4</th>\n",
              "      <td>0xae083ff8f14b5b831b331c59d4f192bbbe170e21</td>\n",
              "      <td>5</td>\n",
              "      <td>41547922050171563314</td>\n",
              "      <td>256</td>\n",
              "      <td>70494065651365407371</td>\n",
              "      <td>28943539601193844057</td>\n",
              "      <td>16</td>\n",
              "      <td>16</td>\n",
              "      <td>4.675494e+22</td>\n",
              "      <td>1</td>\n",
              "      <td>1</td>\n",
              "      <td>1.000000e+20</td>\n",
              "      <td>202065.785156</td>\n",
              "      <td>3387412.80</td>\n",
              "      <td>20</td>\n",
              "      <td>1</td>\n",
              "    </tr>\n",
              "  </tbody>\n",
              "</table>\n",
              "</div>"
            ],
            "text/plain": [
              "                                      address  ...     monthly_out_txn\n",
              "0  0x61b343eff40366274bf360f414d422a0dafb30e1  ...                   1\n",
              "1  0xee42c0affa3aef8bf92254b254faabd540899e6f  ...                   1\n",
              "2  0xc1d0bb46ac0e6d34dc94de4f3c64b1d1fd846bc8  ...  1.3333333333333333\n",
              "3  0x11bc4233e44e270f51ddd372471e251552f8b593  ...  1.3333333333333333\n",
              "4  0xae083ff8f14b5b831b331c59d4f192bbbe170e21  ...                   1\n",
              "\n",
              "[5 rows x 16 columns]"
            ]
          },
          "metadata": {
            "tags": []
          },
          "execution_count": 48
        }
      ]
    },
    {
      "cell_type": "code",
      "metadata": {
        "id": "lgmVnkBqJkUT",
        "colab_type": "code",
        "colab": {}
      },
      "source": [
        "monthly_in_txn =pd.read_csv('/content/gdrive/My Drive/data/monthy_in_trans.csv')"
      ],
      "execution_count": 0,
      "outputs": []
    },
    {
      "cell_type": "code",
      "metadata": {
        "id": "ipgNCaVfNJ15",
        "colab_type": "code",
        "outputId": "6b861661-09ab-41c0-c1bf-9f8cfecd97d5",
        "colab": {
          "base_uri": "https://localhost:8080/",
          "height": 272
        }
      },
      "source": [
        "print(monthly_in_txn.shape)\n",
        "print(monthly_in_txn.dtypes)\n",
        "monthly_in_txn.head(5)"
      ],
      "execution_count": 50,
      "outputs": [
        {
          "output_type": "stream",
          "text": [
            "(98230, 2)\n",
            "address            object\n",
            "monthly_in_txn    float64\n",
            "dtype: object\n"
          ],
          "name": "stdout"
        },
        {
          "output_type": "execute_result",
          "data": {
            "text/html": [
              "<div>\n",
              "<style scoped>\n",
              "    .dataframe tbody tr th:only-of-type {\n",
              "        vertical-align: middle;\n",
              "    }\n",
              "\n",
              "    .dataframe tbody tr th {\n",
              "        vertical-align: top;\n",
              "    }\n",
              "\n",
              "    .dataframe thead th {\n",
              "        text-align: right;\n",
              "    }\n",
              "</style>\n",
              "<table border=\"1\" class=\"dataframe\">\n",
              "  <thead>\n",
              "    <tr style=\"text-align: right;\">\n",
              "      <th></th>\n",
              "      <th>address</th>\n",
              "      <th>monthly_in_txn</th>\n",
              "    </tr>\n",
              "  </thead>\n",
              "  <tbody>\n",
              "    <tr>\n",
              "      <th>0</th>\n",
              "      <td>0x15fc6e3642c132e91dbce769b4dbac553d0091d4</td>\n",
              "      <td>2.0</td>\n",
              "    </tr>\n",
              "    <tr>\n",
              "      <th>1</th>\n",
              "      <td>0xb4b627ed0d96b5483dffb1b9bc497b933430f2cf</td>\n",
              "      <td>2.0</td>\n",
              "    </tr>\n",
              "    <tr>\n",
              "      <th>2</th>\n",
              "      <td>0x7ff6650479088c6e29a7496219bb80d971b4fa5b</td>\n",
              "      <td>2.0</td>\n",
              "    </tr>\n",
              "    <tr>\n",
              "      <th>3</th>\n",
              "      <td>0x3263ce236bcfefb762693d9c754c37ff9d16932a</td>\n",
              "      <td>2.0</td>\n",
              "    </tr>\n",
              "    <tr>\n",
              "      <th>4</th>\n",
              "      <td>0x54722bc4b823b9c46da6c6dc84f28df3e7eba07c</td>\n",
              "      <td>2.0</td>\n",
              "    </tr>\n",
              "  </tbody>\n",
              "</table>\n",
              "</div>"
            ],
            "text/plain": [
              "                                      address  monthly_in_txn\n",
              "0  0x15fc6e3642c132e91dbce769b4dbac553d0091d4             2.0\n",
              "1  0xb4b627ed0d96b5483dffb1b9bc497b933430f2cf             2.0\n",
              "2  0x7ff6650479088c6e29a7496219bb80d971b4fa5b             2.0\n",
              "3  0x3263ce236bcfefb762693d9c754c37ff9d16932a             2.0\n",
              "4  0x54722bc4b823b9c46da6c6dc84f28df3e7eba07c             2.0"
            ]
          },
          "metadata": {
            "tags": []
          },
          "execution_count": 50
        }
      ]
    },
    {
      "cell_type": "code",
      "metadata": {
        "id": "AF6h926JLEmc",
        "colab_type": "code",
        "outputId": "a5d04607-a659-4324-d7fa-3da84a001962",
        "colab": {
          "base_uri": "https://localhost:8080/",
          "height": 34
        }
      },
      "source": [
        "data = pd.merge(data5,monthly_in_txn, on='address',how='inner')\n",
        "data.shape"
      ],
      "execution_count": 51,
      "outputs": [
        {
          "output_type": "execute_result",
          "data": {
            "text/plain": [
              "(98230, 17)"
            ]
          },
          "metadata": {
            "tags": []
          },
          "execution_count": 51
        }
      ]
    },
    {
      "cell_type": "code",
      "metadata": {
        "id": "gdEjqDAdPrPg",
        "colab_type": "code",
        "outputId": "215f3134-710b-4257-c012-cce461fc27f5",
        "colab": {
          "base_uri": "https://localhost:8080/",
          "height": 224
        }
      },
      "source": [
        "data.head(5)"
      ],
      "execution_count": 52,
      "outputs": [
        {
          "output_type": "execute_result",
          "data": {
            "text/html": [
              "<div>\n",
              "<style scoped>\n",
              "    .dataframe tbody tr th:only-of-type {\n",
              "        vertical-align: middle;\n",
              "    }\n",
              "\n",
              "    .dataframe tbody tr th {\n",
              "        vertical-align: top;\n",
              "    }\n",
              "\n",
              "    .dataframe thead th {\n",
              "        text-align: right;\n",
              "    }\n",
              "</style>\n",
              "<table border=\"1\" class=\"dataframe\">\n",
              "  <thead>\n",
              "    <tr style=\"text-align: right;\">\n",
              "      <th></th>\n",
              "      <th>address</th>\n",
              "      <th>no_of_out_transactions</th>\n",
              "      <th>tot_ether_sent</th>\n",
              "      <th>no_of_in_transactions</th>\n",
              "      <th>tot_ether_recieved</th>\n",
              "      <th>eth_balance</th>\n",
              "      <th>tot_distinct_tokens_recieved</th>\n",
              "      <th>tot_tokens_recieved</th>\n",
              "      <th>tot_token_value_recieved</th>\n",
              "      <th>tot_distinct_tokens_sent</th>\n",
              "      <th>tot_tokens_sent</th>\n",
              "      <th>tot_token_value_sent</th>\n",
              "      <th>time_b/w_in_txn</th>\n",
              "      <th>time_b/w_out_txn</th>\n",
              "      <th>active_months</th>\n",
              "      <th>monthly_out_txn</th>\n",
              "      <th>monthly_in_txn</th>\n",
              "    </tr>\n",
              "  </thead>\n",
              "  <tbody>\n",
              "    <tr>\n",
              "      <th>0</th>\n",
              "      <td>0x61b343eff40366274bf360f414d422a0dafb30e1</td>\n",
              "      <td>1</td>\n",
              "      <td>51145658440000000000</td>\n",
              "      <td>256</td>\n",
              "      <td>70054063101365460417</td>\n",
              "      <td>18907564661365460417</td>\n",
              "      <td>9</td>\n",
              "      <td>9</td>\n",
              "      <td>1.576596e+21</td>\n",
              "      <td>1</td>\n",
              "      <td>1</td>\n",
              "      <td>1.000000e+20</td>\n",
              "      <td>222806.843750</td>\n",
              "      <td>0.00</td>\n",
              "      <td>23</td>\n",
              "      <td>1</td>\n",
              "      <td>11.130435</td>\n",
              "    </tr>\n",
              "    <tr>\n",
              "      <th>1</th>\n",
              "      <td>0xee42c0affa3aef8bf92254b254faabd540899e6f</td>\n",
              "      <td>1</td>\n",
              "      <td>2000000000000000000</td>\n",
              "      <td>256</td>\n",
              "      <td>8565631618907502600</td>\n",
              "      <td>6565568618907502600</td>\n",
              "      <td>8</td>\n",
              "      <td>8</td>\n",
              "      <td>1.964063e+22</td>\n",
              "      <td>1</td>\n",
              "      <td>1</td>\n",
              "      <td>1.000000e+20</td>\n",
              "      <td>102862.480469</td>\n",
              "      <td>0.00</td>\n",
              "      <td>11</td>\n",
              "      <td>1</td>\n",
              "      <td>23.272727</td>\n",
              "    </tr>\n",
              "    <tr>\n",
              "      <th>2</th>\n",
              "      <td>0xc1d0bb46ac0e6d34dc94de4f3c64b1d1fd846bc8</td>\n",
              "      <td>4</td>\n",
              "      <td>14400000000000000000</td>\n",
              "      <td>256</td>\n",
              "      <td>32732503485899520498</td>\n",
              "      <td>18329461557149520498</td>\n",
              "      <td>12</td>\n",
              "      <td>12</td>\n",
              "      <td>1.932021e+21</td>\n",
              "      <td>1</td>\n",
              "      <td>1</td>\n",
              "      <td>1.000000e+20</td>\n",
              "      <td>153549.269531</td>\n",
              "      <td>1232720.25</td>\n",
              "      <td>16</td>\n",
              "      <td>1.3333333333333333</td>\n",
              "      <td>16.000000</td>\n",
              "    </tr>\n",
              "    <tr>\n",
              "      <th>3</th>\n",
              "      <td>0x11bc4233e44e270f51ddd372471e251552f8b593</td>\n",
              "      <td>4</td>\n",
              "      <td>3310000000000000000</td>\n",
              "      <td>256</td>\n",
              "      <td>13451411063000000000</td>\n",
              "      <td>10139731063000000000</td>\n",
              "      <td>3</td>\n",
              "      <td>3</td>\n",
              "      <td>1.113982e+19</td>\n",
              "      <td>1</td>\n",
              "      <td>1</td>\n",
              "      <td>1.000000e+20</td>\n",
              "      <td>82704.714844</td>\n",
              "      <td>2730443.75</td>\n",
              "      <td>9</td>\n",
              "      <td>1.3333333333333333</td>\n",
              "      <td>28.444444</td>\n",
              "    </tr>\n",
              "    <tr>\n",
              "      <th>4</th>\n",
              "      <td>0xae083ff8f14b5b831b331c59d4f192bbbe170e21</td>\n",
              "      <td>5</td>\n",
              "      <td>41547922050171563314</td>\n",
              "      <td>256</td>\n",
              "      <td>70494065651365407371</td>\n",
              "      <td>28943539601193844057</td>\n",
              "      <td>16</td>\n",
              "      <td>16</td>\n",
              "      <td>4.675494e+22</td>\n",
              "      <td>1</td>\n",
              "      <td>1</td>\n",
              "      <td>1.000000e+20</td>\n",
              "      <td>202065.785156</td>\n",
              "      <td>3387412.80</td>\n",
              "      <td>20</td>\n",
              "      <td>1</td>\n",
              "      <td>12.800000</td>\n",
              "    </tr>\n",
              "  </tbody>\n",
              "</table>\n",
              "</div>"
            ],
            "text/plain": [
              "                                      address  ...  monthly_in_txn\n",
              "0  0x61b343eff40366274bf360f414d422a0dafb30e1  ...       11.130435\n",
              "1  0xee42c0affa3aef8bf92254b254faabd540899e6f  ...       23.272727\n",
              "2  0xc1d0bb46ac0e6d34dc94de4f3c64b1d1fd846bc8  ...       16.000000\n",
              "3  0x11bc4233e44e270f51ddd372471e251552f8b593  ...       28.444444\n",
              "4  0xae083ff8f14b5b831b331c59d4f192bbbe170e21  ...       12.800000\n",
              "\n",
              "[5 rows x 17 columns]"
            ]
          },
          "metadata": {
            "tags": []
          },
          "execution_count": 52
        }
      ]
    },
    {
      "cell_type": "markdown",
      "metadata": {
        "id": "um6p3V82WQSp",
        "colab_type": "text"
      },
      "source": [
        "**Drop unnecessary columns**"
      ]
    },
    {
      "cell_type": "code",
      "metadata": {
        "id": "_3x1JyBJYvX5",
        "colab_type": "code",
        "colab": {}
      },
      "source": [
        "#data = data.drop('tax_type_x',axis=1)\n",
        "#data = data.drop('tax_type_y',axis=1)\n",
        "data = data.drop('tot_distinct_tokens_recieved',axis=1)\n",
        "data = data.drop('tot_tokens_recieved',axis=1)\n",
        "data = data.drop('tot_distinct_tokens_sent',axis=1)\n",
        "data = data.drop('tot_tokens_sent',axis=1)"
      ],
      "execution_count": 0,
      "outputs": []
    },
    {
      "cell_type": "code",
      "metadata": {
        "id": "sQHBq-ABZaCy",
        "colab_type": "code",
        "outputId": "e31b0ce9-f69a-44da-ff1f-f4244c7c13a0",
        "colab": {
          "base_uri": "https://localhost:8080/",
          "height": 272
        }
      },
      "source": [
        "print(data.shape)\n",
        "print(data.dtypes)"
      ],
      "execution_count": 55,
      "outputs": [
        {
          "output_type": "stream",
          "text": [
            "(98230, 13)\n",
            "address                      object\n",
            "no_of_out_transactions        int64\n",
            "tot_ether_sent               object\n",
            "no_of_in_transactions         int64\n",
            "tot_ether_recieved           object\n",
            "eth_balance                  object\n",
            "tot_token_value_recieved    float64\n",
            "tot_token_value_sent        float64\n",
            "time_b/w_in_txn             float64\n",
            "time_b/w_out_txn            float64\n",
            "active_months                 int64\n",
            "monthly_out_txn              object\n",
            "monthly_in_txn              float64\n",
            "dtype: object\n"
          ],
          "name": "stdout"
        }
      ]
    },
    {
      "cell_type": "code",
      "metadata": {
        "id": "GdCUNEjRXxOW",
        "colab_type": "code",
        "colab": {}
      },
      "source": [
        "data['eth_balance'] = pd.to_numeric(data['eth_balance'], downcast=\"float\",errors='coerce')\n",
        "data['monthly_out_txn'] = pd.to_numeric(data['monthly_out_txn'], downcast=\"float\",errors='coerce')"
      ],
      "execution_count": 0,
      "outputs": []
    },
    {
      "cell_type": "code",
      "metadata": {
        "id": "WA-z_yy2ZRRI",
        "colab_type": "code",
        "colab": {}
      },
      "source": [
        "data['tot_ether_sent'] = pd.to_numeric(data['tot_ether_sent'], downcast=\"float\",errors='coerce')\n",
        "data['tot_ether_recieved'] = pd.to_numeric(data['tot_ether_recieved'], downcast=\"float\",errors='coerce')"
      ],
      "execution_count": 0,
      "outputs": []
    },
    {
      "cell_type": "code",
      "metadata": {
        "id": "UUX-ObP-PVTg",
        "colab_type": "code",
        "colab": {}
      },
      "source": [
        "data['monthly_ether_sent']=0\n",
        "data['monthly_ether_recieved']=0\n",
        "data['monthly_ether_sent']= data['tot_ether_sent' ].div(data['active_months'])\n",
        "data['monthly_ether_recieved']= data['tot_ether_recieved'].div(data['active_months'])"
      ],
      "execution_count": 0,
      "outputs": []
    },
    {
      "cell_type": "code",
      "metadata": {
        "id": "H8V944YnR7UP",
        "colab_type": "code",
        "outputId": "6baa1112-07a7-4ec2-872c-125ad16c52e6",
        "colab": {
          "base_uri": "https://localhost:8080/",
          "height": 51
        }
      },
      "source": [
        "print('inf in monthly_ether_sent',len(data['tot_ether_recieved'].index[np.isinf(data['tot_ether_recieved'])]))\n",
        "print('inf in monthly_ether_recieved',len(data['tot_ether_sent'].index[np.isinf(data['tot_ether_sent'])]))"
      ],
      "execution_count": 59,
      "outputs": [
        {
          "output_type": "stream",
          "text": [
            "inf in monthly_ether_sent 0\n",
            "inf in monthly_ether_recieved 0\n"
          ],
          "name": "stdout"
        }
      ]
    },
    {
      "cell_type": "markdown",
      "metadata": {
        "id": "deLuW-G2lnj1",
        "colab_type": "text"
      },
      "source": [
        "**wei to ether conversion**  - Some attributes in the table are all in wei.They are converted to ether using the conversion: 1 ether = 1x10^18 wei"
      ]
    },
    {
      "cell_type": "code",
      "metadata": {
        "id": "L4GcYBA4PUDl",
        "colab_type": "code",
        "outputId": "b4a781d7-5502-4ced-a03a-d2072b03d658",
        "colab": {
          "base_uri": "https://localhost:8080/",
          "height": 379
        }
      },
      "source": [
        "wei = pow(10,18) \n",
        "attributes = ['eth_balance', 'tot_ether_recieved', 'tot_ether_sent', 'tot_token_value_recieved','tot_token_value_sent', 'monthly_ether_sent', 'monthly_ether_recieved']\n",
        "for attr in attributes:\n",
        "  if data[attr].dtype == 'object':\n",
        "    data[attr] = pd.to_numeric(data[attr], errors='coerce')\n",
        "  data[attr] = data[attr].div(wei)\n",
        "\n",
        "data.head(10)"
      ],
      "execution_count": 60,
      "outputs": [
        {
          "output_type": "execute_result",
          "data": {
            "text/html": [
              "<div>\n",
              "<style scoped>\n",
              "    .dataframe tbody tr th:only-of-type {\n",
              "        vertical-align: middle;\n",
              "    }\n",
              "\n",
              "    .dataframe tbody tr th {\n",
              "        vertical-align: top;\n",
              "    }\n",
              "\n",
              "    .dataframe thead th {\n",
              "        text-align: right;\n",
              "    }\n",
              "</style>\n",
              "<table border=\"1\" class=\"dataframe\">\n",
              "  <thead>\n",
              "    <tr style=\"text-align: right;\">\n",
              "      <th></th>\n",
              "      <th>address</th>\n",
              "      <th>no_of_out_transactions</th>\n",
              "      <th>tot_ether_sent</th>\n",
              "      <th>no_of_in_transactions</th>\n",
              "      <th>tot_ether_recieved</th>\n",
              "      <th>eth_balance</th>\n",
              "      <th>tot_token_value_recieved</th>\n",
              "      <th>tot_token_value_sent</th>\n",
              "      <th>time_b/w_in_txn</th>\n",
              "      <th>time_b/w_out_txn</th>\n",
              "      <th>active_months</th>\n",
              "      <th>monthly_out_txn</th>\n",
              "      <th>monthly_in_txn</th>\n",
              "      <th>monthly_ether_sent</th>\n",
              "      <th>monthly_ether_recieved</th>\n",
              "    </tr>\n",
              "  </thead>\n",
              "  <tbody>\n",
              "    <tr>\n",
              "      <th>0</th>\n",
              "      <td>0x61b343eff40366274bf360f414d422a0dafb30e1</td>\n",
              "      <td>1</td>\n",
              "      <td>51.145657</td>\n",
              "      <td>256</td>\n",
              "      <td>70.054062</td>\n",
              "      <td>18.907564</td>\n",
              "      <td>1576.596200</td>\n",
              "      <td>100.000000</td>\n",
              "      <td>222806.843750</td>\n",
              "      <td>0.000000e+00</td>\n",
              "      <td>23</td>\n",
              "      <td>1.000000</td>\n",
              "      <td>11.130435</td>\n",
              "      <td>2.223724</td>\n",
              "      <td>3.045829</td>\n",
              "    </tr>\n",
              "    <tr>\n",
              "      <th>1</th>\n",
              "      <td>0xee42c0affa3aef8bf92254b254faabd540899e6f</td>\n",
              "      <td>1</td>\n",
              "      <td>2.000000</td>\n",
              "      <td>256</td>\n",
              "      <td>8.565632</td>\n",
              "      <td>6.565569</td>\n",
              "      <td>19640.630673</td>\n",
              "      <td>100.000000</td>\n",
              "      <td>102862.480469</td>\n",
              "      <td>0.000000e+00</td>\n",
              "      <td>11</td>\n",
              "      <td>1.000000</td>\n",
              "      <td>23.272727</td>\n",
              "      <td>0.181818</td>\n",
              "      <td>0.778694</td>\n",
              "    </tr>\n",
              "    <tr>\n",
              "      <th>2</th>\n",
              "      <td>0xc1d0bb46ac0e6d34dc94de4f3c64b1d1fd846bc8</td>\n",
              "      <td>4</td>\n",
              "      <td>14.400001</td>\n",
              "      <td>256</td>\n",
              "      <td>32.732502</td>\n",
              "      <td>18.329462</td>\n",
              "      <td>1932.021272</td>\n",
              "      <td>100.000000</td>\n",
              "      <td>153549.269531</td>\n",
              "      <td>1.232720e+06</td>\n",
              "      <td>16</td>\n",
              "      <td>1.333333</td>\n",
              "      <td>16.000000</td>\n",
              "      <td>0.900000</td>\n",
              "      <td>2.045781</td>\n",
              "    </tr>\n",
              "    <tr>\n",
              "      <th>3</th>\n",
              "      <td>0x11bc4233e44e270f51ddd372471e251552f8b593</td>\n",
              "      <td>4</td>\n",
              "      <td>3.310000</td>\n",
              "      <td>256</td>\n",
              "      <td>13.451411</td>\n",
              "      <td>10.139731</td>\n",
              "      <td>11.139820</td>\n",
              "      <td>100.000000</td>\n",
              "      <td>82704.714844</td>\n",
              "      <td>2.730444e+06</td>\n",
              "      <td>9</td>\n",
              "      <td>1.333333</td>\n",
              "      <td>28.444444</td>\n",
              "      <td>0.367778</td>\n",
              "      <td>1.494601</td>\n",
              "    </tr>\n",
              "    <tr>\n",
              "      <th>4</th>\n",
              "      <td>0xae083ff8f14b5b831b331c59d4f192bbbe170e21</td>\n",
              "      <td>5</td>\n",
              "      <td>41.547924</td>\n",
              "      <td>256</td>\n",
              "      <td>70.494064</td>\n",
              "      <td>28.943541</td>\n",
              "      <td>46754.941336</td>\n",
              "      <td>100.000000</td>\n",
              "      <td>202065.785156</td>\n",
              "      <td>3.387413e+06</td>\n",
              "      <td>20</td>\n",
              "      <td>1.000000</td>\n",
              "      <td>12.800000</td>\n",
              "      <td>2.077396</td>\n",
              "      <td>3.524703</td>\n",
              "    </tr>\n",
              "    <tr>\n",
              "      <th>5</th>\n",
              "      <td>0x52bb304f4cc3b1f70ad8591d01263552f2bc4f18</td>\n",
              "      <td>5</td>\n",
              "      <td>12.750000</td>\n",
              "      <td>256</td>\n",
              "      <td>36.009380</td>\n",
              "      <td>23.255804</td>\n",
              "      <td>1947.376321</td>\n",
              "      <td>100.000000</td>\n",
              "      <td>214783.160156</td>\n",
              "      <td>1.106615e+06</td>\n",
              "      <td>13</td>\n",
              "      <td>1.666667</td>\n",
              "      <td>19.692308</td>\n",
              "      <td>0.980769</td>\n",
              "      <td>2.769952</td>\n",
              "    </tr>\n",
              "    <tr>\n",
              "      <th>6</th>\n",
              "      <td>0x076656146d0226c60b0ac92c406e7e32dd71d666</td>\n",
              "      <td>10</td>\n",
              "      <td>1.891377</td>\n",
              "      <td>256</td>\n",
              "      <td>12.996711</td>\n",
              "      <td>11.093947</td>\n",
              "      <td>2562.354844</td>\n",
              "      <td>688.653786</td>\n",
              "      <td>285998.046875</td>\n",
              "      <td>1.792321e+06</td>\n",
              "      <td>29</td>\n",
              "      <td>2.000000</td>\n",
              "      <td>8.827586</td>\n",
              "      <td>0.065220</td>\n",
              "      <td>0.448162</td>\n",
              "    </tr>\n",
              "    <tr>\n",
              "      <th>7</th>\n",
              "      <td>0x44c2254cafc4340a53c0389465f8996312a8a7c0</td>\n",
              "      <td>10</td>\n",
              "      <td>28.990637</td>\n",
              "      <td>256</td>\n",
              "      <td>52.657150</td>\n",
              "      <td>23.665569</td>\n",
              "      <td>2377.580687</td>\n",
              "      <td>100.000000</td>\n",
              "      <td>391964.339844</td>\n",
              "      <td>2.091616e+06</td>\n",
              "      <td>39</td>\n",
              "      <td>2.000000</td>\n",
              "      <td>6.564103</td>\n",
              "      <td>0.743350</td>\n",
              "      <td>1.350183</td>\n",
              "    </tr>\n",
              "    <tr>\n",
              "      <th>8</th>\n",
              "      <td>0x014f913ebfdc5eb882db8f19e985362ea530228a</td>\n",
              "      <td>14</td>\n",
              "      <td>22.879002</td>\n",
              "      <td>256</td>\n",
              "      <td>84.509331</td>\n",
              "      <td>63.607918</td>\n",
              "      <td>1591.809454</td>\n",
              "      <td>100.000000</td>\n",
              "      <td>167670.125000</td>\n",
              "      <td>6.833214e+05</td>\n",
              "      <td>18</td>\n",
              "      <td>7.000000</td>\n",
              "      <td>14.222222</td>\n",
              "      <td>1.271056</td>\n",
              "      <td>4.694963</td>\n",
              "    </tr>\n",
              "    <tr>\n",
              "      <th>9</th>\n",
              "      <td>0x076f28dabd1fb2287ded34f22963d1712f75aa4b</td>\n",
              "      <td>19</td>\n",
              "      <td>76.610001</td>\n",
              "      <td>256</td>\n",
              "      <td>118.614517</td>\n",
              "      <td>41.980400</td>\n",
              "      <td>11202.310933</td>\n",
              "      <td>7054.300977</td>\n",
              "      <td>269155.316406</td>\n",
              "      <td>3.110467e+06</td>\n",
              "      <td>17</td>\n",
              "      <td>2.375000</td>\n",
              "      <td>17.066667</td>\n",
              "      <td>4.506471</td>\n",
              "      <td>6.977324</td>\n",
              "    </tr>\n",
              "  </tbody>\n",
              "</table>\n",
              "</div>"
            ],
            "text/plain": [
              "                                      address  ...  monthly_ether_recieved\n",
              "0  0x61b343eff40366274bf360f414d422a0dafb30e1  ...                3.045829\n",
              "1  0xee42c0affa3aef8bf92254b254faabd540899e6f  ...                0.778694\n",
              "2  0xc1d0bb46ac0e6d34dc94de4f3c64b1d1fd846bc8  ...                2.045781\n",
              "3  0x11bc4233e44e270f51ddd372471e251552f8b593  ...                1.494601\n",
              "4  0xae083ff8f14b5b831b331c59d4f192bbbe170e21  ...                3.524703\n",
              "5  0x52bb304f4cc3b1f70ad8591d01263552f2bc4f18  ...                2.769952\n",
              "6  0x076656146d0226c60b0ac92c406e7e32dd71d666  ...                0.448162\n",
              "7  0x44c2254cafc4340a53c0389465f8996312a8a7c0  ...                1.350183\n",
              "8  0x014f913ebfdc5eb882db8f19e985362ea530228a  ...                4.694963\n",
              "9  0x076f28dabd1fb2287ded34f22963d1712f75aa4b  ...                6.977324\n",
              "\n",
              "[10 rows x 15 columns]"
            ]
          },
          "metadata": {
            "tags": []
          },
          "execution_count": 60
        }
      ]
    },
    {
      "cell_type": "code",
      "metadata": {
        "colab_type": "code",
        "id": "1aNN9Zt3YNHa",
        "outputId": "7cfec5e1-2ede-4a07-96aa-7e4c046300df",
        "colab": {
          "base_uri": "https://localhost:8080/",
          "height": 289
        }
      },
      "source": [
        "data.isna().sum()"
      ],
      "execution_count": 62,
      "outputs": [
        {
          "output_type": "execute_result",
          "data": {
            "text/plain": [
              "address                     0\n",
              "no_of_out_transactions      0\n",
              "tot_ether_sent              0\n",
              "no_of_in_transactions       0\n",
              "tot_ether_recieved          0\n",
              "eth_balance                 0\n",
              "tot_token_value_recieved    0\n",
              "tot_token_value_sent        0\n",
              "time_b/w_in_txn             0\n",
              "time_b/w_out_txn            0\n",
              "active_months               0\n",
              "monthly_out_txn             0\n",
              "monthly_in_txn              0\n",
              "monthly_ether_sent          0\n",
              "monthly_ether_recieved      0\n",
              "dtype: int64"
            ]
          },
          "metadata": {
            "tags": []
          },
          "execution_count": 62
        }
      ]
    },
    {
      "cell_type": "code",
      "metadata": {
        "id": "P44SI5ZqXmvr",
        "colab_type": "code",
        "colab": {}
      },
      "source": [
        "data['eth_balance'] = pd.to_numeric(data['eth_balance'],errors='coerce')\n",
        "data['monthly_out_txn'] = pd.to_numeric(data['monthly_out_txn'],errors='coerce')"
      ],
      "execution_count": 0,
      "outputs": []
    },
    {
      "cell_type": "code",
      "metadata": {
        "id": "YCRX7Q_4YTGO",
        "colab_type": "code",
        "outputId": "67007f51-3cf4-4b38-b6a9-7cf680a3ccd6",
        "colab": {
          "base_uri": "https://localhost:8080/",
          "height": 289
        }
      },
      "source": [
        "data.dtypes"
      ],
      "execution_count": 64,
      "outputs": [
        {
          "output_type": "execute_result",
          "data": {
            "text/plain": [
              "address                      object\n",
              "no_of_out_transactions        int64\n",
              "tot_ether_sent              float32\n",
              "no_of_in_transactions         int64\n",
              "tot_ether_recieved          float32\n",
              "eth_balance                 float32\n",
              "tot_token_value_recieved    float64\n",
              "tot_token_value_sent        float64\n",
              "time_b/w_in_txn             float64\n",
              "time_b/w_out_txn            float64\n",
              "active_months                 int64\n",
              "monthly_out_txn             float32\n",
              "monthly_in_txn              float64\n",
              "monthly_ether_sent          float64\n",
              "monthly_ether_recieved      float64\n",
              "dtype: object"
            ]
          },
          "metadata": {
            "tags": []
          },
          "execution_count": 64
        }
      ]
    },
    {
      "cell_type": "code",
      "metadata": {
        "id": "LKkDoLDgaNr8",
        "colab_type": "code",
        "colab": {}
      },
      "source": [
        "data.to_csv(r'/content/gdrive/My Drive/data/final_data.csv', index = False)"
      ],
      "execution_count": 0,
      "outputs": []
    },
    {
      "cell_type": "code",
      "metadata": {
        "id": "HLjCd9vjZ6dh",
        "colab_type": "code",
        "colab": {}
      },
      "source": [
        ""
      ],
      "execution_count": 0,
      "outputs": []
    }
  ]
}