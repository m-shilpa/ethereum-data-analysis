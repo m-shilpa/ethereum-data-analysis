{
  "nbformat": 4,
  "nbformat_minor": 0,
  "metadata": {
    "colab": {
      "name": "joined data.ipynb",
      "provenance": [],
      "authorship_tag": "ABX9TyMS11+zhQs9UcF8/Vkx8Ewp",
      "include_colab_link": true
    },
    "kernelspec": {
      "name": "python3",
      "display_name": "Python 3"
    }
  },
  "cells": [
    {
      "cell_type": "markdown",
      "metadata": {
        "id": "view-in-github",
        "colab_type": "text"
      },
      "source": [
        "<a href=\"https://colab.research.google.com/github/mshilpaa/ethereum-data-analysis/blob/master/Data_Preprocessing.ipynb\" target=\"_parent\"><img src=\"https://colab.research.google.com/assets/colab-badge.svg\" alt=\"Open In Colab\"/></a>"
      ]
    },
    {
      "cell_type": "code",
      "metadata": {
        "id": "LyBVp18JqRZQ",
        "colab_type": "code",
        "outputId": "fcc1bd23-7666-436c-dbd7-ddaf02130b36",
        "colab": {
          "base_uri": "https://localhost:8080/",
          "height": 34
        }
      },
      "source": [
        "from google.colab import drive\n",
        "drive.mount('/content/gdrive')"
      ],
      "execution_count": 60,
      "outputs": [
        {
          "output_type": "stream",
          "text": [
            "Drive already mounted at /content/gdrive; to attempt to forcibly remount, call drive.mount(\"/content/gdrive\", force_remount=True).\n"
          ],
          "name": "stdout"
        }
      ]
    },
    {
      "cell_type": "code",
      "metadata": {
        "id": "1ZiLQP1ot9bf",
        "colab_type": "code",
        "colab": {}
      },
      "source": [
        "\n",
        "import pandas as pd\n",
        "import numpy as np\n",
        "import matplotlib.pyplot as plt"
      ],
      "execution_count": 0,
      "outputs": []
    },
    {
      "cell_type": "code",
      "metadata": {
        "id": "EX66Vnk28GPK",
        "colab_type": "code",
        "outputId": "a3e24c73-fef6-4b32-fa50-7895670c5822",
        "colab": {
          "base_uri": "https://localhost:8080/",
          "height": 50
        }
      },
      "source": [
        "in_txn = pd.read_csv('/content/gdrive/My Drive/project_data/in_txn.csv')\n",
        "out_txn = pd.read_csv('/content/gdrive/My Drive/project_data/out_txn.csv')"
      ],
      "execution_count": 62,
      "outputs": [
        {
          "output_type": "stream",
          "text": [
            "/usr/local/lib/python3.6/dist-packages/IPython/core/interactiveshell.py:2718: DtypeWarning: Columns (2) have mixed types. Specify dtype option on import or set low_memory=False.\n",
            "  interactivity=interactivity, compiler=compiler, result=result)\n"
          ],
          "name": "stderr"
        }
      ]
    },
    {
      "cell_type": "code",
      "metadata": {
        "id": "35_nH4UVcf0w",
        "colab_type": "code",
        "colab": {
          "base_uri": "https://localhost:8080/",
          "height": 195
        },
        "outputId": "63a1a75e-6338-43c6-8413-09bdfc2a23f8"
      },
      "source": [
        "in_txn.head(5)"
      ],
      "execution_count": 108,
      "outputs": [
        {
          "output_type": "execute_result",
          "data": {
            "text/html": [
              "<div>\n",
              "<style scoped>\n",
              "    .dataframe tbody tr th:only-of-type {\n",
              "        vertical-align: middle;\n",
              "    }\n",
              "\n",
              "    .dataframe tbody tr th {\n",
              "        vertical-align: top;\n",
              "    }\n",
              "\n",
              "    .dataframe thead th {\n",
              "        text-align: right;\n",
              "    }\n",
              "</style>\n",
              "<table border=\"1\" class=\"dataframe\">\n",
              "  <thead>\n",
              "    <tr style=\"text-align: right;\">\n",
              "      <th></th>\n",
              "      <th>address</th>\n",
              "      <th>no_of_in_transactions</th>\n",
              "      <th>tot_ether_recieved</th>\n",
              "      <th>tax_type</th>\n",
              "    </tr>\n",
              "  </thead>\n",
              "  <tbody>\n",
              "    <tr>\n",
              "      <th>0</th>\n",
              "      <td>0xd4f8e83864c80ea703dd148c78b937cbec200243</td>\n",
              "      <td>9</td>\n",
              "      <td>27000000000000000</td>\n",
              "      <td>IN</td>\n",
              "    </tr>\n",
              "    <tr>\n",
              "      <th>1</th>\n",
              "      <td>0x2bbed5e19de4fef234845c9ccdddbbef7cd531ba</td>\n",
              "      <td>9</td>\n",
              "      <td>12175785825760000000</td>\n",
              "      <td>IN</td>\n",
              "    </tr>\n",
              "    <tr>\n",
              "      <th>2</th>\n",
              "      <td>0xd9052a62ee61eec200c1972aa2a19fa3d5396b6d</td>\n",
              "      <td>14</td>\n",
              "      <td>10342497563429364</td>\n",
              "      <td>IN</td>\n",
              "    </tr>\n",
              "    <tr>\n",
              "      <th>3</th>\n",
              "      <td>0xe6b4a32cc822980d652bb185b33db6be69d39a13</td>\n",
              "      <td>17</td>\n",
              "      <td>16776853680000000000</td>\n",
              "      <td>IN</td>\n",
              "    </tr>\n",
              "    <tr>\n",
              "      <th>4</th>\n",
              "      <td>0x450fbad4690c9800bbd3b3bb7f051e6bfc886b62</td>\n",
              "      <td>12</td>\n",
              "      <td>2222479280000000000</td>\n",
              "      <td>IN</td>\n",
              "    </tr>\n",
              "  </tbody>\n",
              "</table>\n",
              "</div>"
            ],
            "text/plain": [
              "                                      address  ...  tax_type\n",
              "0  0xd4f8e83864c80ea703dd148c78b937cbec200243  ...        IN\n",
              "1  0x2bbed5e19de4fef234845c9ccdddbbef7cd531ba  ...        IN\n",
              "2  0xd9052a62ee61eec200c1972aa2a19fa3d5396b6d  ...        IN\n",
              "3  0xe6b4a32cc822980d652bb185b33db6be69d39a13  ...        IN\n",
              "4  0x450fbad4690c9800bbd3b3bb7f051e6bfc886b62  ...        IN\n",
              "\n",
              "[5 rows x 4 columns]"
            ]
          },
          "metadata": {
            "tags": []
          },
          "execution_count": 108
        }
      ]
    },
    {
      "cell_type": "code",
      "metadata": {
        "id": "U6P6Ly_18XqA",
        "colab_type": "code",
        "outputId": "3b6441b2-02d9-4067-9cfb-b582cf3c13a7",
        "colab": {
          "base_uri": "https://localhost:8080/",
          "height": 34
        }
      },
      "source": [
        "in_txn.shape"
      ],
      "execution_count": 63,
      "outputs": [
        {
          "output_type": "execute_result",
          "data": {
            "text/plain": [
              "(2207451, 4)"
            ]
          },
          "metadata": {
            "tags": []
          },
          "execution_count": 63
        }
      ]
    },
    {
      "cell_type": "code",
      "metadata": {
        "id": "E0Z43pCD8gh_",
        "colab_type": "code",
        "outputId": "4413db9a-70de-4770-a708-37a42a8ca8b8",
        "colab": {
          "base_uri": "https://localhost:8080/",
          "height": 101
        }
      },
      "source": [
        "in_txn.dtypes"
      ],
      "execution_count": 64,
      "outputs": [
        {
          "output_type": "execute_result",
          "data": {
            "text/plain": [
              "address                  object\n",
              "no_of_in_transactions     int64\n",
              "tot_ether_recieved       object\n",
              "tax_type                 object\n",
              "dtype: object"
            ]
          },
          "metadata": {
            "tags": []
          },
          "execution_count": 64
        }
      ]
    },
    {
      "cell_type": "code",
      "metadata": {
        "id": "eFOd98NVcpbv",
        "colab_type": "code",
        "colab": {
          "base_uri": "https://localhost:8080/",
          "height": 195
        },
        "outputId": "b6d2d318-d886-4d1a-b45f-6a30b57c7d43"
      },
      "source": [
        "out_txn.head(5)"
      ],
      "execution_count": 109,
      "outputs": [
        {
          "output_type": "execute_result",
          "data": {
            "text/html": [
              "<div>\n",
              "<style scoped>\n",
              "    .dataframe tbody tr th:only-of-type {\n",
              "        vertical-align: middle;\n",
              "    }\n",
              "\n",
              "    .dataframe tbody tr th {\n",
              "        vertical-align: top;\n",
              "    }\n",
              "\n",
              "    .dataframe thead th {\n",
              "        text-align: right;\n",
              "    }\n",
              "</style>\n",
              "<table border=\"1\" class=\"dataframe\">\n",
              "  <thead>\n",
              "    <tr style=\"text-align: right;\">\n",
              "      <th></th>\n",
              "      <th>address</th>\n",
              "      <th>no_of_out_transactions</th>\n",
              "      <th>tot_ether_sent</th>\n",
              "      <th>tax_type</th>\n",
              "    </tr>\n",
              "  </thead>\n",
              "  <tbody>\n",
              "    <tr>\n",
              "      <th>0</th>\n",
              "      <td>0xba78271348b5bd37230bd843b62961e90cdbda9f</td>\n",
              "      <td>34</td>\n",
              "      <td>17907454062000694163</td>\n",
              "      <td>OUT</td>\n",
              "    </tr>\n",
              "    <tr>\n",
              "      <th>1</th>\n",
              "      <td>0xcd17ac69a5eb4fe8d24845bd9e342293ea712cda</td>\n",
              "      <td>46</td>\n",
              "      <td>4453491431170630482</td>\n",
              "      <td>OUT</td>\n",
              "    </tr>\n",
              "    <tr>\n",
              "      <th>2</th>\n",
              "      <td>0x90df44d43bf6c7e640784689047799f6e07ae39f</td>\n",
              "      <td>109</td>\n",
              "      <td>81800000000000000000</td>\n",
              "      <td>OUT</td>\n",
              "    </tr>\n",
              "    <tr>\n",
              "      <th>3</th>\n",
              "      <td>0xaba068925478543558c208dfca6ed31a87d44885</td>\n",
              "      <td>39</td>\n",
              "      <td>4081887997541817934</td>\n",
              "      <td>OUT</td>\n",
              "    </tr>\n",
              "    <tr>\n",
              "      <th>4</th>\n",
              "      <td>0xe82967aeaad3ac6c3beb1b6fe28c2dcc6c71d44d</td>\n",
              "      <td>20</td>\n",
              "      <td>5477868000000000</td>\n",
              "      <td>OUT</td>\n",
              "    </tr>\n",
              "  </tbody>\n",
              "</table>\n",
              "</div>"
            ],
            "text/plain": [
              "                                      address  ...  tax_type\n",
              "0  0xba78271348b5bd37230bd843b62961e90cdbda9f  ...       OUT\n",
              "1  0xcd17ac69a5eb4fe8d24845bd9e342293ea712cda  ...       OUT\n",
              "2  0x90df44d43bf6c7e640784689047799f6e07ae39f  ...       OUT\n",
              "3  0xaba068925478543558c208dfca6ed31a87d44885  ...       OUT\n",
              "4  0xe82967aeaad3ac6c3beb1b6fe28c2dcc6c71d44d  ...       OUT\n",
              "\n",
              "[5 rows x 4 columns]"
            ]
          },
          "metadata": {
            "tags": []
          },
          "execution_count": 109
        }
      ]
    },
    {
      "cell_type": "code",
      "metadata": {
        "id": "bD-oMKAG8dJe",
        "colab_type": "code",
        "outputId": "3c42fcbc-9615-4655-b907-bc3db435d337",
        "colab": {
          "base_uri": "https://localhost:8080/",
          "height": 34
        }
      },
      "source": [
        "out_txn.shape"
      ],
      "execution_count": 65,
      "outputs": [
        {
          "output_type": "execute_result",
          "data": {
            "text/plain": [
              "(2290371, 4)"
            ]
          },
          "metadata": {
            "tags": []
          },
          "execution_count": 65
        }
      ]
    },
    {
      "cell_type": "code",
      "metadata": {
        "id": "SlFWVupl8ffY",
        "colab_type": "code",
        "outputId": "d7cac5c1-b647-43b9-a86c-dbb5d441655a",
        "colab": {
          "base_uri": "https://localhost:8080/",
          "height": 101
        }
      },
      "source": [
        "out_txn.dtypes"
      ],
      "execution_count": 66,
      "outputs": [
        {
          "output_type": "execute_result",
          "data": {
            "text/plain": [
              "address                   object\n",
              "no_of_out_transactions     int64\n",
              "tot_ether_sent            object\n",
              "tax_type                  object\n",
              "dtype: object"
            ]
          },
          "metadata": {
            "tags": []
          },
          "execution_count": 66
        }
      ]
    },
    {
      "cell_type": "code",
      "metadata": {
        "id": "iCeMfSEX8mDb",
        "colab_type": "code",
        "outputId": "38948cc2-8b39-48ad-e896-3ed336603e77",
        "colab": {
          "base_uri": "https://localhost:8080/",
          "height": 34
        }
      },
      "source": [
        "in_out_txn = pd.merge(in_txn, out_txn, on='address', how='inner')\n",
        "in_out_txn.shape"
      ],
      "execution_count": 67,
      "outputs": [
        {
          "output_type": "execute_result",
          "data": {
            "text/plain": [
              "(2207451, 7)"
            ]
          },
          "metadata": {
            "tags": []
          },
          "execution_count": 67
        }
      ]
    },
    {
      "cell_type": "code",
      "metadata": {
        "id": "v6o0dkmo8qJP",
        "colab_type": "code",
        "outputId": "2bbbc398-1339-4069-a1cd-acc0a40315eb",
        "colab": {
          "base_uri": "https://localhost:8080/",
          "height": 402
        }
      },
      "source": [
        "in_out_txn"
      ],
      "execution_count": 68,
      "outputs": [
        {
          "output_type": "execute_result",
          "data": {
            "text/html": [
              "<div>\n",
              "<style scoped>\n",
              "    .dataframe tbody tr th:only-of-type {\n",
              "        vertical-align: middle;\n",
              "    }\n",
              "\n",
              "    .dataframe tbody tr th {\n",
              "        vertical-align: top;\n",
              "    }\n",
              "\n",
              "    .dataframe thead th {\n",
              "        text-align: right;\n",
              "    }\n",
              "</style>\n",
              "<table border=\"1\" class=\"dataframe\">\n",
              "  <thead>\n",
              "    <tr style=\"text-align: right;\">\n",
              "      <th></th>\n",
              "      <th>address</th>\n",
              "      <th>no_of_in_transactions</th>\n",
              "      <th>tot_ether_recieved</th>\n",
              "      <th>tax_type_x</th>\n",
              "      <th>no_of_out_transactions</th>\n",
              "      <th>tot_ether_sent</th>\n",
              "      <th>tax_type_y</th>\n",
              "    </tr>\n",
              "  </thead>\n",
              "  <tbody>\n",
              "    <tr>\n",
              "      <th>0</th>\n",
              "      <td>0xd4f8e83864c80ea703dd148c78b937cbec200243</td>\n",
              "      <td>9</td>\n",
              "      <td>27000000000000000</td>\n",
              "      <td>IN</td>\n",
              "      <td>97</td>\n",
              "      <td>19448289831436946</td>\n",
              "      <td>OUT</td>\n",
              "    </tr>\n",
              "    <tr>\n",
              "      <th>1</th>\n",
              "      <td>0x2bbed5e19de4fef234845c9ccdddbbef7cd531ba</td>\n",
              "      <td>9</td>\n",
              "      <td>12175785825760000000</td>\n",
              "      <td>IN</td>\n",
              "      <td>4</td>\n",
              "      <td>7355983090000000000</td>\n",
              "      <td>OUT</td>\n",
              "    </tr>\n",
              "    <tr>\n",
              "      <th>2</th>\n",
              "      <td>0xd9052a62ee61eec200c1972aa2a19fa3d5396b6d</td>\n",
              "      <td>14</td>\n",
              "      <td>10342497563429364</td>\n",
              "      <td>IN</td>\n",
              "      <td>32</td>\n",
              "      <td>0</td>\n",
              "      <td>OUT</td>\n",
              "    </tr>\n",
              "    <tr>\n",
              "      <th>3</th>\n",
              "      <td>0xe6b4a32cc822980d652bb185b33db6be69d39a13</td>\n",
              "      <td>17</td>\n",
              "      <td>16776853680000000000</td>\n",
              "      <td>IN</td>\n",
              "      <td>86</td>\n",
              "      <td>21009302000000000000</td>\n",
              "      <td>OUT</td>\n",
              "    </tr>\n",
              "    <tr>\n",
              "      <th>4</th>\n",
              "      <td>0x450fbad4690c9800bbd3b3bb7f051e6bfc886b62</td>\n",
              "      <td>12</td>\n",
              "      <td>2222479280000000000</td>\n",
              "      <td>IN</td>\n",
              "      <td>10</td>\n",
              "      <td>2211335110000000000</td>\n",
              "      <td>OUT</td>\n",
              "    </tr>\n",
              "    <tr>\n",
              "      <th>...</th>\n",
              "      <td>...</td>\n",
              "      <td>...</td>\n",
              "      <td>...</td>\n",
              "      <td>...</td>\n",
              "      <td>...</td>\n",
              "      <td>...</td>\n",
              "      <td>...</td>\n",
              "    </tr>\n",
              "    <tr>\n",
              "      <th>2207446</th>\n",
              "      <td>0x3e89863292284e8bfd0522c6a3c3734df4b5c472</td>\n",
              "      <td>8</td>\n",
              "      <td>101000000000000000000</td>\n",
              "      <td>IN</td>\n",
              "      <td>8</td>\n",
              "      <td>100996472000000000000</td>\n",
              "      <td>OUT</td>\n",
              "    </tr>\n",
              "    <tr>\n",
              "      <th>2207447</th>\n",
              "      <td>0x81d275b2a6ad50efc907ab067a875494b906449d</td>\n",
              "      <td>8</td>\n",
              "      <td>101000000000000000000</td>\n",
              "      <td>IN</td>\n",
              "      <td>8</td>\n",
              "      <td>100996472000000000000</td>\n",
              "      <td>OUT</td>\n",
              "    </tr>\n",
              "    <tr>\n",
              "      <th>2207448</th>\n",
              "      <td>0x04d68481505b6c93d9a2e0e8292bc7895bbfd20f</td>\n",
              "      <td>8</td>\n",
              "      <td>101000000000000000000</td>\n",
              "      <td>IN</td>\n",
              "      <td>9</td>\n",
              "      <td>100996031000000000000</td>\n",
              "      <td>OUT</td>\n",
              "    </tr>\n",
              "    <tr>\n",
              "      <th>2207449</th>\n",
              "      <td>0xa48c4c5d56220d44e4536b61a9e04910ff91ee67</td>\n",
              "      <td>8</td>\n",
              "      <td>101000000000000000000</td>\n",
              "      <td>IN</td>\n",
              "      <td>5</td>\n",
              "      <td>100996451000000000000</td>\n",
              "      <td>OUT</td>\n",
              "    </tr>\n",
              "    <tr>\n",
              "      <th>2207450</th>\n",
              "      <td>0xa2499e68670785b0192bcf74cff5cf250bcf3662</td>\n",
              "      <td>8</td>\n",
              "      <td>101000000000000000000</td>\n",
              "      <td>IN</td>\n",
              "      <td>3</td>\n",
              "      <td>100998677000000000000</td>\n",
              "      <td>OUT</td>\n",
              "    </tr>\n",
              "  </tbody>\n",
              "</table>\n",
              "<p>2207451 rows × 7 columns</p>\n",
              "</div>"
            ],
            "text/plain": [
              "                                            address  ...  tax_type_y\n",
              "0        0xd4f8e83864c80ea703dd148c78b937cbec200243  ...         OUT\n",
              "1        0x2bbed5e19de4fef234845c9ccdddbbef7cd531ba  ...         OUT\n",
              "2        0xd9052a62ee61eec200c1972aa2a19fa3d5396b6d  ...         OUT\n",
              "3        0xe6b4a32cc822980d652bb185b33db6be69d39a13  ...         OUT\n",
              "4        0x450fbad4690c9800bbd3b3bb7f051e6bfc886b62  ...         OUT\n",
              "...                                             ...  ...         ...\n",
              "2207446  0x3e89863292284e8bfd0522c6a3c3734df4b5c472  ...         OUT\n",
              "2207447  0x81d275b2a6ad50efc907ab067a875494b906449d  ...         OUT\n",
              "2207448  0x04d68481505b6c93d9a2e0e8292bc7895bbfd20f  ...         OUT\n",
              "2207449  0xa48c4c5d56220d44e4536b61a9e04910ff91ee67  ...         OUT\n",
              "2207450  0xa2499e68670785b0192bcf74cff5cf250bcf3662  ...         OUT\n",
              "\n",
              "[2207451 rows x 7 columns]"
            ]
          },
          "metadata": {
            "tags": []
          },
          "execution_count": 68
        }
      ]
    },
    {
      "cell_type": "code",
      "metadata": {
        "id": "vyfs5YG48tjg",
        "colab_type": "code",
        "colab": {}
      },
      "source": [
        "tokens_recieved = pd.read_csv('/content/gdrive/My Drive/project_data/tokens_recieved.csv')\n",
        "tokens_sent =pd.read_csv('/content/gdrive/My Drive/project_data/tokens_sent.csv')"
      ],
      "execution_count": 0,
      "outputs": []
    },
    {
      "cell_type": "code",
      "metadata": {
        "id": "A8rZryT0ctcS",
        "colab_type": "code",
        "colab": {
          "base_uri": "https://localhost:8080/",
          "height": 195
        },
        "outputId": "975bd728-b9db-4eb4-a647-dc758d7daf53"
      },
      "source": [
        "tokens_recieved.head(5)"
      ],
      "execution_count": 110,
      "outputs": [
        {
          "output_type": "execute_result",
          "data": {
            "text/html": [
              "<div>\n",
              "<style scoped>\n",
              "    .dataframe tbody tr th:only-of-type {\n",
              "        vertical-align: middle;\n",
              "    }\n",
              "\n",
              "    .dataframe tbody tr th {\n",
              "        vertical-align: top;\n",
              "    }\n",
              "\n",
              "    .dataframe thead th {\n",
              "        text-align: right;\n",
              "    }\n",
              "</style>\n",
              "<table border=\"1\" class=\"dataframe\">\n",
              "  <thead>\n",
              "    <tr style=\"text-align: right;\">\n",
              "      <th></th>\n",
              "      <th>address</th>\n",
              "      <th>tot_distinct_tokens_recieved</th>\n",
              "      <th>tot_tokens_recieved</th>\n",
              "      <th>tot_token_value_recieved</th>\n",
              "    </tr>\n",
              "  </thead>\n",
              "  <tbody>\n",
              "    <tr>\n",
              "      <th>0</th>\n",
              "      <td>0xa3e925f3df663b773bae436892336fc5c14f5e59</td>\n",
              "      <td>1</td>\n",
              "      <td>336</td>\n",
              "      <td>1.218019e+11</td>\n",
              "    </tr>\n",
              "    <tr>\n",
              "      <th>1</th>\n",
              "      <td>0x70e80703d8600fed9e0866aca0ab5bed34c4ffab</td>\n",
              "      <td>1</td>\n",
              "      <td>168</td>\n",
              "      <td>3.250000e+02</td>\n",
              "    </tr>\n",
              "    <tr>\n",
              "      <th>2</th>\n",
              "      <td>0x9d576af2018d73db762f4fefc9604d38a2776454</td>\n",
              "      <td>164</td>\n",
              "      <td>190</td>\n",
              "      <td>1.969341e+25</td>\n",
              "    </tr>\n",
              "    <tr>\n",
              "      <th>3</th>\n",
              "      <td>0xdf1e02e9ef4a2a9cde52258b57e9a03aee807243</td>\n",
              "      <td>1</td>\n",
              "      <td>29</td>\n",
              "      <td>3.356415e+10</td>\n",
              "    </tr>\n",
              "    <tr>\n",
              "      <th>4</th>\n",
              "      <td>0xb74d572e48fbce9c4f850e364c1f7e26e2f5ddcc</td>\n",
              "      <td>97</td>\n",
              "      <td>108</td>\n",
              "      <td>2.423140e+20</td>\n",
              "    </tr>\n",
              "  </tbody>\n",
              "</table>\n",
              "</div>"
            ],
            "text/plain": [
              "                                      address  ...  tot_token_value_recieved\n",
              "0  0xa3e925f3df663b773bae436892336fc5c14f5e59  ...              1.218019e+11\n",
              "1  0x70e80703d8600fed9e0866aca0ab5bed34c4ffab  ...              3.250000e+02\n",
              "2  0x9d576af2018d73db762f4fefc9604d38a2776454  ...              1.969341e+25\n",
              "3  0xdf1e02e9ef4a2a9cde52258b57e9a03aee807243  ...              3.356415e+10\n",
              "4  0xb74d572e48fbce9c4f850e364c1f7e26e2f5ddcc  ...              2.423140e+20\n",
              "\n",
              "[5 rows x 4 columns]"
            ]
          },
          "metadata": {
            "tags": []
          },
          "execution_count": 110
        }
      ]
    },
    {
      "cell_type": "code",
      "metadata": {
        "id": "nlCK6QrZHFA4",
        "colab_type": "code",
        "outputId": "83e0f3db-d330-4197-b172-4db5513e8c42",
        "colab": {
          "base_uri": "https://localhost:8080/",
          "height": 118
        }
      },
      "source": [
        "print(tokens_recieved.shape)\n",
        "print(tokens_recieved.dtypes)"
      ],
      "execution_count": 70,
      "outputs": [
        {
          "output_type": "stream",
          "text": [
            "(935362, 4)\n",
            "address                          object\n",
            "tot_distinct_tokens_recieved      int64\n",
            "tot_tokens_recieved               int64\n",
            "tot_token_value_recieved        float64\n",
            "dtype: object\n"
          ],
          "name": "stdout"
        }
      ]
    },
    {
      "cell_type": "code",
      "metadata": {
        "id": "vVt3ZZwicxAR",
        "colab_type": "code",
        "colab": {
          "base_uri": "https://localhost:8080/",
          "height": 195
        },
        "outputId": "8c51efe8-f8bf-486d-bee8-25c06a7f03ec"
      },
      "source": [
        "tokens_sent.head(5)"
      ],
      "execution_count": 111,
      "outputs": [
        {
          "output_type": "execute_result",
          "data": {
            "text/html": [
              "<div>\n",
              "<style scoped>\n",
              "    .dataframe tbody tr th:only-of-type {\n",
              "        vertical-align: middle;\n",
              "    }\n",
              "\n",
              "    .dataframe tbody tr th {\n",
              "        vertical-align: top;\n",
              "    }\n",
              "\n",
              "    .dataframe thead th {\n",
              "        text-align: right;\n",
              "    }\n",
              "</style>\n",
              "<table border=\"1\" class=\"dataframe\">\n",
              "  <thead>\n",
              "    <tr style=\"text-align: right;\">\n",
              "      <th></th>\n",
              "      <th>address</th>\n",
              "      <th>tot_distinct_tokens_sent</th>\n",
              "      <th>tot_tokens_sent</th>\n",
              "      <th>tot_token_value_sent</th>\n",
              "    </tr>\n",
              "  </thead>\n",
              "  <tbody>\n",
              "    <tr>\n",
              "      <th>0</th>\n",
              "      <td>0x0084a9ae7f74f6dc6bd294f4950663a447adf986</td>\n",
              "      <td>1</td>\n",
              "      <td>515</td>\n",
              "      <td>1.258165e+15</td>\n",
              "    </tr>\n",
              "    <tr>\n",
              "      <th>1</th>\n",
              "      <td>0x9477556cd799d28bfa6b4d377c3e4fa0ff7562c4</td>\n",
              "      <td>1</td>\n",
              "      <td>28</td>\n",
              "      <td>1.231724e+22</td>\n",
              "    </tr>\n",
              "    <tr>\n",
              "      <th>2</th>\n",
              "      <td>0x773a858b631fb7511767db57f2d3ee5181fceb5b</td>\n",
              "      <td>1</td>\n",
              "      <td>68</td>\n",
              "      <td>7.560304e+22</td>\n",
              "    </tr>\n",
              "    <tr>\n",
              "      <th>3</th>\n",
              "      <td>0x372b42ecfd29057f9f1a4301351338596d564a85</td>\n",
              "      <td>1</td>\n",
              "      <td>30</td>\n",
              "      <td>1.877333e+11</td>\n",
              "    </tr>\n",
              "    <tr>\n",
              "      <th>4</th>\n",
              "      <td>0x9aa63bdcff4b0e8a76077768d6b2188811d89b12</td>\n",
              "      <td>1</td>\n",
              "      <td>20</td>\n",
              "      <td>3.431000e+22</td>\n",
              "    </tr>\n",
              "  </tbody>\n",
              "</table>\n",
              "</div>"
            ],
            "text/plain": [
              "                                      address  ...  tot_token_value_sent\n",
              "0  0x0084a9ae7f74f6dc6bd294f4950663a447adf986  ...          1.258165e+15\n",
              "1  0x9477556cd799d28bfa6b4d377c3e4fa0ff7562c4  ...          1.231724e+22\n",
              "2  0x773a858b631fb7511767db57f2d3ee5181fceb5b  ...          7.560304e+22\n",
              "3  0x372b42ecfd29057f9f1a4301351338596d564a85  ...          1.877333e+11\n",
              "4  0x9aa63bdcff4b0e8a76077768d6b2188811d89b12  ...          3.431000e+22\n",
              "\n",
              "[5 rows x 4 columns]"
            ]
          },
          "metadata": {
            "tags": []
          },
          "execution_count": 111
        }
      ]
    },
    {
      "cell_type": "code",
      "metadata": {
        "id": "OwhZ7Z9nHPus",
        "colab_type": "code",
        "outputId": "97fff949-91b2-4807-ee22-013c1c28f2c0",
        "colab": {
          "base_uri": "https://localhost:8080/",
          "height": 118
        }
      },
      "source": [
        "print(tokens_sent.shape)\n",
        "print(tokens_sent.dtypes)"
      ],
      "execution_count": 71,
      "outputs": [
        {
          "output_type": "stream",
          "text": [
            "(793284, 4)\n",
            "address                      object\n",
            "tot_distinct_tokens_sent      int64\n",
            "tot_tokens_sent               int64\n",
            "tot_token_value_sent        float64\n",
            "dtype: object\n"
          ],
          "name": "stdout"
        }
      ]
    },
    {
      "cell_type": "code",
      "metadata": {
        "id": "zZkkMfHHGYai",
        "colab_type": "code",
        "outputId": "019e4863-4c34-4803-c964-60fe4980ca61",
        "colab": {
          "base_uri": "https://localhost:8080/",
          "height": 34
        }
      },
      "source": [
        "in_out_token_sent = pd.merge(in_out_txn,tokens_recieved, on='address', how='inner')\n",
        "in_out_token_sent.shape"
      ],
      "execution_count": 72,
      "outputs": [
        {
          "output_type": "execute_result",
          "data": {
            "text/plain": [
              "(935362, 10)"
            ]
          },
          "metadata": {
            "tags": []
          },
          "execution_count": 72
        }
      ]
    },
    {
      "cell_type": "code",
      "metadata": {
        "id": "xUKR_A9bH1Rl",
        "colab_type": "code",
        "outputId": "b7d8001c-563e-4cfe-e6c7-511cb4476afc",
        "colab": {
          "base_uri": "https://localhost:8080/",
          "height": 422
        }
      },
      "source": [
        "in_out_token_sent"
      ],
      "execution_count": 73,
      "outputs": [
        {
          "output_type": "execute_result",
          "data": {
            "text/html": [
              "<div>\n",
              "<style scoped>\n",
              "    .dataframe tbody tr th:only-of-type {\n",
              "        vertical-align: middle;\n",
              "    }\n",
              "\n",
              "    .dataframe tbody tr th {\n",
              "        vertical-align: top;\n",
              "    }\n",
              "\n",
              "    .dataframe thead th {\n",
              "        text-align: right;\n",
              "    }\n",
              "</style>\n",
              "<table border=\"1\" class=\"dataframe\">\n",
              "  <thead>\n",
              "    <tr style=\"text-align: right;\">\n",
              "      <th></th>\n",
              "      <th>address</th>\n",
              "      <th>no_of_in_transactions</th>\n",
              "      <th>tot_ether_recieved</th>\n",
              "      <th>tax_type_x</th>\n",
              "      <th>no_of_out_transactions</th>\n",
              "      <th>tot_ether_sent</th>\n",
              "      <th>tax_type_y</th>\n",
              "      <th>tot_distinct_tokens_recieved</th>\n",
              "      <th>tot_tokens_recieved</th>\n",
              "      <th>tot_token_value_recieved</th>\n",
              "    </tr>\n",
              "  </thead>\n",
              "  <tbody>\n",
              "    <tr>\n",
              "      <th>0</th>\n",
              "      <td>0xd4f8e83864c80ea703dd148c78b937cbec200243</td>\n",
              "      <td>9</td>\n",
              "      <td>27000000000000000</td>\n",
              "      <td>IN</td>\n",
              "      <td>97</td>\n",
              "      <td>19448289831436946</td>\n",
              "      <td>OUT</td>\n",
              "      <td>1</td>\n",
              "      <td>32</td>\n",
              "      <td>9.393942e+06</td>\n",
              "    </tr>\n",
              "    <tr>\n",
              "      <th>1</th>\n",
              "      <td>0x2bbed5e19de4fef234845c9ccdddbbef7cd531ba</td>\n",
              "      <td>9</td>\n",
              "      <td>12175785825760000000</td>\n",
              "      <td>IN</td>\n",
              "      <td>4</td>\n",
              "      <td>7355983090000000000</td>\n",
              "      <td>OUT</td>\n",
              "      <td>1</td>\n",
              "      <td>1</td>\n",
              "      <td>8.888880e+13</td>\n",
              "    </tr>\n",
              "    <tr>\n",
              "      <th>2</th>\n",
              "      <td>0xd9052a62ee61eec200c1972aa2a19fa3d5396b6d</td>\n",
              "      <td>14</td>\n",
              "      <td>10342497563429364</td>\n",
              "      <td>IN</td>\n",
              "      <td>32</td>\n",
              "      <td>0</td>\n",
              "      <td>OUT</td>\n",
              "      <td>1</td>\n",
              "      <td>32</td>\n",
              "      <td>1.870353e+11</td>\n",
              "    </tr>\n",
              "    <tr>\n",
              "      <th>3</th>\n",
              "      <td>0xe6b4a32cc822980d652bb185b33db6be69d39a13</td>\n",
              "      <td>17</td>\n",
              "      <td>16776853680000000000</td>\n",
              "      <td>IN</td>\n",
              "      <td>86</td>\n",
              "      <td>21009302000000000000</td>\n",
              "      <td>OUT</td>\n",
              "      <td>15</td>\n",
              "      <td>20</td>\n",
              "      <td>4.639691e+22</td>\n",
              "    </tr>\n",
              "    <tr>\n",
              "      <th>4</th>\n",
              "      <td>0x9f265a9675dea8f97139015f62c84af1f6d687ae</td>\n",
              "      <td>15</td>\n",
              "      <td>2100000000000000000</td>\n",
              "      <td>IN</td>\n",
              "      <td>3</td>\n",
              "      <td>2099000000000000000</td>\n",
              "      <td>OUT</td>\n",
              "      <td>3</td>\n",
              "      <td>3</td>\n",
              "      <td>2.000000e+20</td>\n",
              "    </tr>\n",
              "    <tr>\n",
              "      <th>...</th>\n",
              "      <td>...</td>\n",
              "      <td>...</td>\n",
              "      <td>...</td>\n",
              "      <td>...</td>\n",
              "      <td>...</td>\n",
              "      <td>...</td>\n",
              "      <td>...</td>\n",
              "      <td>...</td>\n",
              "      <td>...</td>\n",
              "      <td>...</td>\n",
              "    </tr>\n",
              "    <tr>\n",
              "      <th>935357</th>\n",
              "      <td>0xc9205a6851ea79d3f77ace712bb7e28c12159234</td>\n",
              "      <td>3</td>\n",
              "      <td>101000000000000000000</td>\n",
              "      <td>IN</td>\n",
              "      <td>3</td>\n",
              "      <td>100994330000000000000</td>\n",
              "      <td>OUT</td>\n",
              "      <td>1</td>\n",
              "      <td>1</td>\n",
              "      <td>1.009642e+24</td>\n",
              "    </tr>\n",
              "    <tr>\n",
              "      <th>935358</th>\n",
              "      <td>0x3dbab7d401918c51e2023f359253f25f00acb778</td>\n",
              "      <td>3</td>\n",
              "      <td>101000000000000000000</td>\n",
              "      <td>IN</td>\n",
              "      <td>3</td>\n",
              "      <td>100998723320000000000</td>\n",
              "      <td>OUT</td>\n",
              "      <td>1</td>\n",
              "      <td>1</td>\n",
              "      <td>9.110000e+02</td>\n",
              "    </tr>\n",
              "    <tr>\n",
              "      <th>935359</th>\n",
              "      <td>0x53a7100dafa3f83deea60faf9a7e15c96ec9dac9</td>\n",
              "      <td>3</td>\n",
              "      <td>101000000000000000000</td>\n",
              "      <td>IN</td>\n",
              "      <td>29</td>\n",
              "      <td>100825319706000000000</td>\n",
              "      <td>OUT</td>\n",
              "      <td>13</td>\n",
              "      <td>14</td>\n",
              "      <td>7.026999e+21</td>\n",
              "    </tr>\n",
              "    <tr>\n",
              "      <th>935360</th>\n",
              "      <td>0x2245d0f353a978ca6bb00f5f7079c1aa21bd6622</td>\n",
              "      <td>4</td>\n",
              "      <td>101000000000000000000</td>\n",
              "      <td>IN</td>\n",
              "      <td>3</td>\n",
              "      <td>100998110000000000000</td>\n",
              "      <td>OUT</td>\n",
              "      <td>1</td>\n",
              "      <td>1</td>\n",
              "      <td>7.204710e+23</td>\n",
              "    </tr>\n",
              "    <tr>\n",
              "      <th>935361</th>\n",
              "      <td>0x28ee172f7a9efc4ca3423391a1c160031c056ab1</td>\n",
              "      <td>6</td>\n",
              "      <td>101000000000000000000</td>\n",
              "      <td>IN</td>\n",
              "      <td>54</td>\n",
              "      <td>100866500000000000000</td>\n",
              "      <td>OUT</td>\n",
              "      <td>4</td>\n",
              "      <td>21</td>\n",
              "      <td>4.996547e+24</td>\n",
              "    </tr>\n",
              "  </tbody>\n",
              "</table>\n",
              "<p>935362 rows × 10 columns</p>\n",
              "</div>"
            ],
            "text/plain": [
              "                                           address  ...  tot_token_value_recieved\n",
              "0       0xd4f8e83864c80ea703dd148c78b937cbec200243  ...              9.393942e+06\n",
              "1       0x2bbed5e19de4fef234845c9ccdddbbef7cd531ba  ...              8.888880e+13\n",
              "2       0xd9052a62ee61eec200c1972aa2a19fa3d5396b6d  ...              1.870353e+11\n",
              "3       0xe6b4a32cc822980d652bb185b33db6be69d39a13  ...              4.639691e+22\n",
              "4       0x9f265a9675dea8f97139015f62c84af1f6d687ae  ...              2.000000e+20\n",
              "...                                            ...  ...                       ...\n",
              "935357  0xc9205a6851ea79d3f77ace712bb7e28c12159234  ...              1.009642e+24\n",
              "935358  0x3dbab7d401918c51e2023f359253f25f00acb778  ...              9.110000e+02\n",
              "935359  0x53a7100dafa3f83deea60faf9a7e15c96ec9dac9  ...              7.026999e+21\n",
              "935360  0x2245d0f353a978ca6bb00f5f7079c1aa21bd6622  ...              7.204710e+23\n",
              "935361  0x28ee172f7a9efc4ca3423391a1c160031c056ab1  ...              4.996547e+24\n",
              "\n",
              "[935362 rows x 10 columns]"
            ]
          },
          "metadata": {
            "tags": []
          },
          "execution_count": 73
        }
      ]
    },
    {
      "cell_type": "code",
      "metadata": {
        "id": "sVCOVaOoG8pD",
        "colab_type": "code",
        "outputId": "768eb904-035e-45d6-a8d1-1ddebcde7e45",
        "colab": {
          "base_uri": "https://localhost:8080/",
          "height": 34
        }
      },
      "source": [
        "data1 = pd.merge(in_out_token_sent,tokens_sent, on='address', how='inner')\n",
        "data1.shape"
      ],
      "execution_count": 74,
      "outputs": [
        {
          "output_type": "execute_result",
          "data": {
            "text/plain": [
              "(776499, 13)"
            ]
          },
          "metadata": {
            "tags": []
          },
          "execution_count": 74
        }
      ]
    },
    {
      "cell_type": "code",
      "metadata": {
        "id": "6oveoTO-IJZz",
        "colab_type": "code",
        "outputId": "ded3f858-4ee4-472f-852d-332dd43efe51",
        "colab": {
          "base_uri": "https://localhost:8080/",
          "height": 422
        }
      },
      "source": [
        "data1"
      ],
      "execution_count": 75,
      "outputs": [
        {
          "output_type": "execute_result",
          "data": {
            "text/html": [
              "<div>\n",
              "<style scoped>\n",
              "    .dataframe tbody tr th:only-of-type {\n",
              "        vertical-align: middle;\n",
              "    }\n",
              "\n",
              "    .dataframe tbody tr th {\n",
              "        vertical-align: top;\n",
              "    }\n",
              "\n",
              "    .dataframe thead th {\n",
              "        text-align: right;\n",
              "    }\n",
              "</style>\n",
              "<table border=\"1\" class=\"dataframe\">\n",
              "  <thead>\n",
              "    <tr style=\"text-align: right;\">\n",
              "      <th></th>\n",
              "      <th>address</th>\n",
              "      <th>no_of_in_transactions</th>\n",
              "      <th>tot_ether_recieved</th>\n",
              "      <th>tax_type_x</th>\n",
              "      <th>no_of_out_transactions</th>\n",
              "      <th>tot_ether_sent</th>\n",
              "      <th>tax_type_y</th>\n",
              "      <th>tot_distinct_tokens_recieved</th>\n",
              "      <th>tot_tokens_recieved</th>\n",
              "      <th>tot_token_value_recieved</th>\n",
              "      <th>tot_distinct_tokens_sent</th>\n",
              "      <th>tot_tokens_sent</th>\n",
              "      <th>tot_token_value_sent</th>\n",
              "    </tr>\n",
              "  </thead>\n",
              "  <tbody>\n",
              "    <tr>\n",
              "      <th>0</th>\n",
              "      <td>0xd4f8e83864c80ea703dd148c78b937cbec200243</td>\n",
              "      <td>9</td>\n",
              "      <td>27000000000000000</td>\n",
              "      <td>IN</td>\n",
              "      <td>97</td>\n",
              "      <td>19448289831436946</td>\n",
              "      <td>OUT</td>\n",
              "      <td>1</td>\n",
              "      <td>32</td>\n",
              "      <td>9.393942e+06</td>\n",
              "      <td>1</td>\n",
              "      <td>32</td>\n",
              "      <td>9.393942e+06</td>\n",
              "    </tr>\n",
              "    <tr>\n",
              "      <th>1</th>\n",
              "      <td>0xd9052a62ee61eec200c1972aa2a19fa3d5396b6d</td>\n",
              "      <td>14</td>\n",
              "      <td>10342497563429364</td>\n",
              "      <td>IN</td>\n",
              "      <td>32</td>\n",
              "      <td>0</td>\n",
              "      <td>OUT</td>\n",
              "      <td>1</td>\n",
              "      <td>32</td>\n",
              "      <td>1.870353e+11</td>\n",
              "      <td>1</td>\n",
              "      <td>32</td>\n",
              "      <td>1.870353e+11</td>\n",
              "    </tr>\n",
              "    <tr>\n",
              "      <th>2</th>\n",
              "      <td>0xe6b4a32cc822980d652bb185b33db6be69d39a13</td>\n",
              "      <td>17</td>\n",
              "      <td>16776853680000000000</td>\n",
              "      <td>IN</td>\n",
              "      <td>86</td>\n",
              "      <td>21009302000000000000</td>\n",
              "      <td>OUT</td>\n",
              "      <td>15</td>\n",
              "      <td>20</td>\n",
              "      <td>4.639691e+22</td>\n",
              "      <td>5</td>\n",
              "      <td>9</td>\n",
              "      <td>4.260856e+22</td>\n",
              "    </tr>\n",
              "    <tr>\n",
              "      <th>3</th>\n",
              "      <td>0x9f265a9675dea8f97139015f62c84af1f6d687ae</td>\n",
              "      <td>15</td>\n",
              "      <td>2100000000000000000</td>\n",
              "      <td>IN</td>\n",
              "      <td>3</td>\n",
              "      <td>2099000000000000000</td>\n",
              "      <td>OUT</td>\n",
              "      <td>3</td>\n",
              "      <td>3</td>\n",
              "      <td>2.000000e+20</td>\n",
              "      <td>2</td>\n",
              "      <td>2</td>\n",
              "      <td>2.000000e+20</td>\n",
              "    </tr>\n",
              "    <tr>\n",
              "      <th>4</th>\n",
              "      <td>0xbad9298ef9a0c40ed1fb299a5e42269589aa15af</td>\n",
              "      <td>142</td>\n",
              "      <td>17850287239292549380</td>\n",
              "      <td>IN</td>\n",
              "      <td>57</td>\n",
              "      <td>17813824239292549380</td>\n",
              "      <td>OUT</td>\n",
              "      <td>2</td>\n",
              "      <td>2</td>\n",
              "      <td>3.000000e+18</td>\n",
              "      <td>1</td>\n",
              "      <td>1</td>\n",
              "      <td>1.000000e+20</td>\n",
              "    </tr>\n",
              "    <tr>\n",
              "      <th>...</th>\n",
              "      <td>...</td>\n",
              "      <td>...</td>\n",
              "      <td>...</td>\n",
              "      <td>...</td>\n",
              "      <td>...</td>\n",
              "      <td>...</td>\n",
              "      <td>...</td>\n",
              "      <td>...</td>\n",
              "      <td>...</td>\n",
              "      <td>...</td>\n",
              "      <td>...</td>\n",
              "      <td>...</td>\n",
              "      <td>...</td>\n",
              "    </tr>\n",
              "    <tr>\n",
              "      <th>776494</th>\n",
              "      <td>0xb19404a929989fc0c77f2666c114b3774ec59491</td>\n",
              "      <td>8</td>\n",
              "      <td>1000000000000000000</td>\n",
              "      <td>IN</td>\n",
              "      <td>103</td>\n",
              "      <td>1377914848211935073</td>\n",
              "      <td>OUT</td>\n",
              "      <td>1</td>\n",
              "      <td>31</td>\n",
              "      <td>4.199133e+06</td>\n",
              "      <td>1</td>\n",
              "      <td>18</td>\n",
              "      <td>2.662393e+06</td>\n",
              "    </tr>\n",
              "    <tr>\n",
              "      <th>776495</th>\n",
              "      <td>0x652eefae4b3a297a7cf9ef382d0dac5d880ae5cd</td>\n",
              "      <td>1</td>\n",
              "      <td>101000000000000000000</td>\n",
              "      <td>IN</td>\n",
              "      <td>11</td>\n",
              "      <td>100872794420000000000</td>\n",
              "      <td>OUT</td>\n",
              "      <td>2</td>\n",
              "      <td>3</td>\n",
              "      <td>2.599873e+20</td>\n",
              "      <td>3</td>\n",
              "      <td>3</td>\n",
              "      <td>3.599863e+20</td>\n",
              "    </tr>\n",
              "    <tr>\n",
              "      <th>776496</th>\n",
              "      <td>0x31749690f34f696282c4e10923c46d96ebcabebe</td>\n",
              "      <td>2</td>\n",
              "      <td>101000000000000000000</td>\n",
              "      <td>IN</td>\n",
              "      <td>4</td>\n",
              "      <td>101214251755000000000</td>\n",
              "      <td>OUT</td>\n",
              "      <td>1</td>\n",
              "      <td>1</td>\n",
              "      <td>2.171251e+20</td>\n",
              "      <td>1</td>\n",
              "      <td>1</td>\n",
              "      <td>2.171251e+20</td>\n",
              "    </tr>\n",
              "    <tr>\n",
              "      <th>776497</th>\n",
              "      <td>0x53a7100dafa3f83deea60faf9a7e15c96ec9dac9</td>\n",
              "      <td>3</td>\n",
              "      <td>101000000000000000000</td>\n",
              "      <td>IN</td>\n",
              "      <td>29</td>\n",
              "      <td>100825319706000000000</td>\n",
              "      <td>OUT</td>\n",
              "      <td>13</td>\n",
              "      <td>14</td>\n",
              "      <td>7.026999e+21</td>\n",
              "      <td>10</td>\n",
              "      <td>12</td>\n",
              "      <td>6.336999e+21</td>\n",
              "    </tr>\n",
              "    <tr>\n",
              "      <th>776498</th>\n",
              "      <td>0x28ee172f7a9efc4ca3423391a1c160031c056ab1</td>\n",
              "      <td>6</td>\n",
              "      <td>101000000000000000000</td>\n",
              "      <td>IN</td>\n",
              "      <td>54</td>\n",
              "      <td>100866500000000000000</td>\n",
              "      <td>OUT</td>\n",
              "      <td>4</td>\n",
              "      <td>21</td>\n",
              "      <td>4.996547e+24</td>\n",
              "      <td>4</td>\n",
              "      <td>46</td>\n",
              "      <td>4.996547e+24</td>\n",
              "    </tr>\n",
              "  </tbody>\n",
              "</table>\n",
              "<p>776499 rows × 13 columns</p>\n",
              "</div>"
            ],
            "text/plain": [
              "                                           address  ...  tot_token_value_sent\n",
              "0       0xd4f8e83864c80ea703dd148c78b937cbec200243  ...          9.393942e+06\n",
              "1       0xd9052a62ee61eec200c1972aa2a19fa3d5396b6d  ...          1.870353e+11\n",
              "2       0xe6b4a32cc822980d652bb185b33db6be69d39a13  ...          4.260856e+22\n",
              "3       0x9f265a9675dea8f97139015f62c84af1f6d687ae  ...          2.000000e+20\n",
              "4       0xbad9298ef9a0c40ed1fb299a5e42269589aa15af  ...          1.000000e+20\n",
              "...                                            ...  ...                   ...\n",
              "776494  0xb19404a929989fc0c77f2666c114b3774ec59491  ...          2.662393e+06\n",
              "776495  0x652eefae4b3a297a7cf9ef382d0dac5d880ae5cd  ...          3.599863e+20\n",
              "776496  0x31749690f34f696282c4e10923c46d96ebcabebe  ...          2.171251e+20\n",
              "776497  0x53a7100dafa3f83deea60faf9a7e15c96ec9dac9  ...          6.336999e+21\n",
              "776498  0x28ee172f7a9efc4ca3423391a1c160031c056ab1  ...          4.996547e+24\n",
              "\n",
              "[776499 rows x 13 columns]"
            ]
          },
          "metadata": {
            "tags": []
          },
          "execution_count": 75
        }
      ]
    },
    {
      "cell_type": "code",
      "metadata": {
        "id": "9Pcijkz3plUS",
        "colab_type": "code",
        "colab": {}
      },
      "source": [
        "time_in = pd.read_csv('/content/gdrive/My Drive/project_data/time_bw_in.csv')"
      ],
      "execution_count": 0,
      "outputs": []
    },
    {
      "cell_type": "code",
      "metadata": {
        "id": "dizVjLKJNG8o",
        "colab_type": "code",
        "outputId": "c191dd5d-020d-400b-cfed-2dd575f83c39",
        "colab": {
          "base_uri": "https://localhost:8080/",
          "height": 279
        }
      },
      "source": [
        "print(time_in.shape)\n",
        "print(time_in.dtypes)\n",
        "time_in.head(5)"
      ],
      "execution_count": 77,
      "outputs": [
        {
          "output_type": "stream",
          "text": [
            "(2207451, 3)\n",
            "address                  object\n",
            "no_of_in_transactions     int64\n",
            "total_count               int64\n",
            "dtype: object\n"
          ],
          "name": "stdout"
        },
        {
          "output_type": "execute_result",
          "data": {
            "text/html": [
              "<div>\n",
              "<style scoped>\n",
              "    .dataframe tbody tr th:only-of-type {\n",
              "        vertical-align: middle;\n",
              "    }\n",
              "\n",
              "    .dataframe tbody tr th {\n",
              "        vertical-align: top;\n",
              "    }\n",
              "\n",
              "    .dataframe thead th {\n",
              "        text-align: right;\n",
              "    }\n",
              "</style>\n",
              "<table border=\"1\" class=\"dataframe\">\n",
              "  <thead>\n",
              "    <tr style=\"text-align: right;\">\n",
              "      <th></th>\n",
              "      <th>address</th>\n",
              "      <th>no_of_in_transactions</th>\n",
              "      <th>total_count</th>\n",
              "    </tr>\n",
              "  </thead>\n",
              "  <tbody>\n",
              "    <tr>\n",
              "      <th>0</th>\n",
              "      <td>0x5f4e3da6123d301ccee4c79bfcc3be5f782430cb</td>\n",
              "      <td>81390815</td>\n",
              "      <td>525</td>\n",
              "    </tr>\n",
              "    <tr>\n",
              "      <th>1</th>\n",
              "      <td>0x666688760f7f4a2a8103b6fdf49fd116d52167cd</td>\n",
              "      <td>64352633</td>\n",
              "      <td>452</td>\n",
              "    </tr>\n",
              "    <tr>\n",
              "      <th>2</th>\n",
              "      <td>0xa9aabf6a92acf0d4283b165716c5eebaffd76c84</td>\n",
              "      <td>18850105</td>\n",
              "      <td>63</td>\n",
              "    </tr>\n",
              "    <tr>\n",
              "      <th>3</th>\n",
              "      <td>0xf9dc3e594609d3cffbc6e4f8d9f5ec2939dc9450</td>\n",
              "      <td>39227078</td>\n",
              "      <td>271</td>\n",
              "    </tr>\n",
              "    <tr>\n",
              "      <th>4</th>\n",
              "      <td>0x19eb761ffdbe392433c014667a4023cfb546f17e</td>\n",
              "      <td>8878510</td>\n",
              "      <td>14</td>\n",
              "    </tr>\n",
              "  </tbody>\n",
              "</table>\n",
              "</div>"
            ],
            "text/plain": [
              "                                      address  ...  total_count\n",
              "0  0x5f4e3da6123d301ccee4c79bfcc3be5f782430cb  ...          525\n",
              "1  0x666688760f7f4a2a8103b6fdf49fd116d52167cd  ...          452\n",
              "2  0xa9aabf6a92acf0d4283b165716c5eebaffd76c84  ...           63\n",
              "3  0xf9dc3e594609d3cffbc6e4f8d9f5ec2939dc9450  ...          271\n",
              "4  0x19eb761ffdbe392433c014667a4023cfb546f17e  ...           14\n",
              "\n",
              "[5 rows x 3 columns]"
            ]
          },
          "metadata": {
            "tags": []
          },
          "execution_count": 77
        }
      ]
    },
    {
      "cell_type": "code",
      "metadata": {
        "id": "-cGV56LkRETR",
        "colab_type": "code",
        "outputId": "039cd0c9-5e2f-494d-ae63-9eb6bcb611f7",
        "colab": {
          "base_uri": "https://localhost:8080/",
          "height": 195
        }
      },
      "source": [
        "time_in['time_b/w_out_txn'] = time_in['no_of_in_transactions']/time_in['total_count']\n",
        "time_in.head(5)"
      ],
      "execution_count": 78,
      "outputs": [
        {
          "output_type": "execute_result",
          "data": {
            "text/html": [
              "<div>\n",
              "<style scoped>\n",
              "    .dataframe tbody tr th:only-of-type {\n",
              "        vertical-align: middle;\n",
              "    }\n",
              "\n",
              "    .dataframe tbody tr th {\n",
              "        vertical-align: top;\n",
              "    }\n",
              "\n",
              "    .dataframe thead th {\n",
              "        text-align: right;\n",
              "    }\n",
              "</style>\n",
              "<table border=\"1\" class=\"dataframe\">\n",
              "  <thead>\n",
              "    <tr style=\"text-align: right;\">\n",
              "      <th></th>\n",
              "      <th>address</th>\n",
              "      <th>no_of_in_transactions</th>\n",
              "      <th>total_count</th>\n",
              "      <th>time_b/w_out_txn</th>\n",
              "    </tr>\n",
              "  </thead>\n",
              "  <tbody>\n",
              "    <tr>\n",
              "      <th>0</th>\n",
              "      <td>0x5f4e3da6123d301ccee4c79bfcc3be5f782430cb</td>\n",
              "      <td>81390815</td>\n",
              "      <td>525</td>\n",
              "      <td>155030.123810</td>\n",
              "    </tr>\n",
              "    <tr>\n",
              "      <th>1</th>\n",
              "      <td>0x666688760f7f4a2a8103b6fdf49fd116d52167cd</td>\n",
              "      <td>64352633</td>\n",
              "      <td>452</td>\n",
              "      <td>142373.081858</td>\n",
              "    </tr>\n",
              "    <tr>\n",
              "      <th>2</th>\n",
              "      <td>0xa9aabf6a92acf0d4283b165716c5eebaffd76c84</td>\n",
              "      <td>18850105</td>\n",
              "      <td>63</td>\n",
              "      <td>299208.015873</td>\n",
              "    </tr>\n",
              "    <tr>\n",
              "      <th>3</th>\n",
              "      <td>0xf9dc3e594609d3cffbc6e4f8d9f5ec2939dc9450</td>\n",
              "      <td>39227078</td>\n",
              "      <td>271</td>\n",
              "      <td>144749.365314</td>\n",
              "    </tr>\n",
              "    <tr>\n",
              "      <th>4</th>\n",
              "      <td>0x19eb761ffdbe392433c014667a4023cfb546f17e</td>\n",
              "      <td>8878510</td>\n",
              "      <td>14</td>\n",
              "      <td>634179.285714</td>\n",
              "    </tr>\n",
              "  </tbody>\n",
              "</table>\n",
              "</div>"
            ],
            "text/plain": [
              "                                      address  ...  time_b/w_out_txn\n",
              "0  0x5f4e3da6123d301ccee4c79bfcc3be5f782430cb  ...     155030.123810\n",
              "1  0x666688760f7f4a2a8103b6fdf49fd116d52167cd  ...     142373.081858\n",
              "2  0xa9aabf6a92acf0d4283b165716c5eebaffd76c84  ...     299208.015873\n",
              "3  0xf9dc3e594609d3cffbc6e4f8d9f5ec2939dc9450  ...     144749.365314\n",
              "4  0x19eb761ffdbe392433c014667a4023cfb546f17e  ...     634179.285714\n",
              "\n",
              "[5 rows x 4 columns]"
            ]
          },
          "metadata": {
            "tags": []
          },
          "execution_count": 78
        }
      ]
    },
    {
      "cell_type": "markdown",
      "metadata": {
        "id": "yBbka8s5Wmf8",
        "colab_type": "text"
      },
      "source": [
        "Find no. of values with inf"
      ]
    },
    {
      "cell_type": "code",
      "metadata": {
        "colab_type": "code",
        "outputId": "5dcb930c-b206-4b7f-b0b8-e75fffa7cc27",
        "id": "0hIbUuHhUlBM",
        "colab": {
          "base_uri": "https://localhost:8080/",
          "height": 34
        }
      },
      "source": [
        "len(time_out['time_b/w_out_txn'].index[np.isinf(time_out['time_b/w_out_txn'])])"
      ],
      "execution_count": 79,
      "outputs": [
        {
          "output_type": "execute_result",
          "data": {
            "text/plain": [
              "0"
            ]
          },
          "metadata": {
            "tags": []
          },
          "execution_count": 79
        }
      ]
    },
    {
      "cell_type": "code",
      "metadata": {
        "id": "UvSYFu1VXfUd",
        "colab_type": "code",
        "colab": {}
      },
      "source": [
        "time_in = time_in.drop('no_of_in_transactions',axis=1)\n",
        "time_in = time_in.drop('total_count',axis=1)"
      ],
      "execution_count": 0,
      "outputs": []
    },
    {
      "cell_type": "code",
      "metadata": {
        "id": "zakkRr5JRQKW",
        "colab_type": "code",
        "outputId": "2b321b24-279e-4f03-d532-50eedbf1b7f1",
        "colab": {
          "base_uri": "https://localhost:8080/",
          "height": 67
        }
      },
      "source": [
        "time_in.isna().sum()"
      ],
      "execution_count": 83,
      "outputs": [
        {
          "output_type": "execute_result",
          "data": {
            "text/plain": [
              "address             0\n",
              "time_b/w_out_txn    0\n",
              "dtype: int64"
            ]
          },
          "metadata": {
            "tags": []
          },
          "execution_count": 83
        }
      ]
    },
    {
      "cell_type": "code",
      "metadata": {
        "id": "khBEswwnqK5L",
        "colab_type": "code",
        "outputId": "d1dd3946-945c-4a1e-ce94-8f0677ccc99c",
        "colab": {
          "base_uri": "https://localhost:8080/",
          "height": 34
        }
      },
      "source": [
        "data2 = pd.merge(data1,time_in, on='address',how='inner')\n",
        "data2.shape"
      ],
      "execution_count": 84,
      "outputs": [
        {
          "output_type": "execute_result",
          "data": {
            "text/plain": [
              "(776499, 14)"
            ]
          },
          "metadata": {
            "tags": []
          },
          "execution_count": 84
        }
      ]
    },
    {
      "cell_type": "code",
      "metadata": {
        "id": "LdKbQY6IYEc-",
        "colab_type": "code",
        "colab": {
          "base_uri": "https://localhost:8080/",
          "height": 215
        },
        "outputId": "14c62026-d23f-487d-a7ec-e681a66fd4e2"
      },
      "source": [
        "data2.head(5)"
      ],
      "execution_count": 85,
      "outputs": [
        {
          "output_type": "execute_result",
          "data": {
            "text/html": [
              "<div>\n",
              "<style scoped>\n",
              "    .dataframe tbody tr th:only-of-type {\n",
              "        vertical-align: middle;\n",
              "    }\n",
              "\n",
              "    .dataframe tbody tr th {\n",
              "        vertical-align: top;\n",
              "    }\n",
              "\n",
              "    .dataframe thead th {\n",
              "        text-align: right;\n",
              "    }\n",
              "</style>\n",
              "<table border=\"1\" class=\"dataframe\">\n",
              "  <thead>\n",
              "    <tr style=\"text-align: right;\">\n",
              "      <th></th>\n",
              "      <th>address</th>\n",
              "      <th>no_of_in_transactions</th>\n",
              "      <th>tot_ether_recieved</th>\n",
              "      <th>tax_type_x</th>\n",
              "      <th>no_of_out_transactions</th>\n",
              "      <th>tot_ether_sent</th>\n",
              "      <th>tax_type_y</th>\n",
              "      <th>tot_distinct_tokens_recieved</th>\n",
              "      <th>tot_tokens_recieved</th>\n",
              "      <th>tot_token_value_recieved</th>\n",
              "      <th>tot_distinct_tokens_sent</th>\n",
              "      <th>tot_tokens_sent</th>\n",
              "      <th>tot_token_value_sent</th>\n",
              "      <th>time_b/w_out_txn</th>\n",
              "    </tr>\n",
              "  </thead>\n",
              "  <tbody>\n",
              "    <tr>\n",
              "      <th>0</th>\n",
              "      <td>0xd4f8e83864c80ea703dd148c78b937cbec200243</td>\n",
              "      <td>9</td>\n",
              "      <td>27000000000000000</td>\n",
              "      <td>IN</td>\n",
              "      <td>97</td>\n",
              "      <td>19448289831436946</td>\n",
              "      <td>OUT</td>\n",
              "      <td>1</td>\n",
              "      <td>32</td>\n",
              "      <td>9.393942e+06</td>\n",
              "      <td>1</td>\n",
              "      <td>32</td>\n",
              "      <td>9.393942e+06</td>\n",
              "      <td>1.156452e+05</td>\n",
              "    </tr>\n",
              "    <tr>\n",
              "      <th>1</th>\n",
              "      <td>0xd9052a62ee61eec200c1972aa2a19fa3d5396b6d</td>\n",
              "      <td>14</td>\n",
              "      <td>10342497563429364</td>\n",
              "      <td>IN</td>\n",
              "      <td>32</td>\n",
              "      <td>0</td>\n",
              "      <td>OUT</td>\n",
              "      <td>1</td>\n",
              "      <td>32</td>\n",
              "      <td>1.870353e+11</td>\n",
              "      <td>1</td>\n",
              "      <td>32</td>\n",
              "      <td>1.870353e+11</td>\n",
              "      <td>1.042143e+06</td>\n",
              "    </tr>\n",
              "    <tr>\n",
              "      <th>2</th>\n",
              "      <td>0xe6b4a32cc822980d652bb185b33db6be69d39a13</td>\n",
              "      <td>17</td>\n",
              "      <td>16776853680000000000</td>\n",
              "      <td>IN</td>\n",
              "      <td>86</td>\n",
              "      <td>21009302000000000000</td>\n",
              "      <td>OUT</td>\n",
              "      <td>15</td>\n",
              "      <td>20</td>\n",
              "      <td>4.639691e+22</td>\n",
              "      <td>5</td>\n",
              "      <td>9</td>\n",
              "      <td>4.260856e+22</td>\n",
              "      <td>1.320557e+06</td>\n",
              "    </tr>\n",
              "    <tr>\n",
              "      <th>3</th>\n",
              "      <td>0x9f265a9675dea8f97139015f62c84af1f6d687ae</td>\n",
              "      <td>15</td>\n",
              "      <td>2100000000000000000</td>\n",
              "      <td>IN</td>\n",
              "      <td>3</td>\n",
              "      <td>2099000000000000000</td>\n",
              "      <td>OUT</td>\n",
              "      <td>3</td>\n",
              "      <td>3</td>\n",
              "      <td>2.000000e+20</td>\n",
              "      <td>2</td>\n",
              "      <td>2</td>\n",
              "      <td>2.000000e+20</td>\n",
              "      <td>3.701651e+05</td>\n",
              "    </tr>\n",
              "    <tr>\n",
              "      <th>4</th>\n",
              "      <td>0xbad9298ef9a0c40ed1fb299a5e42269589aa15af</td>\n",
              "      <td>142</td>\n",
              "      <td>17850287239292549380</td>\n",
              "      <td>IN</td>\n",
              "      <td>57</td>\n",
              "      <td>17813824239292549380</td>\n",
              "      <td>OUT</td>\n",
              "      <td>2</td>\n",
              "      <td>2</td>\n",
              "      <td>3.000000e+18</td>\n",
              "      <td>1</td>\n",
              "      <td>1</td>\n",
              "      <td>1.000000e+20</td>\n",
              "      <td>2.403451e+05</td>\n",
              "    </tr>\n",
              "  </tbody>\n",
              "</table>\n",
              "</div>"
            ],
            "text/plain": [
              "                                      address  ...  time_b/w_out_txn\n",
              "0  0xd4f8e83864c80ea703dd148c78b937cbec200243  ...      1.156452e+05\n",
              "1  0xd9052a62ee61eec200c1972aa2a19fa3d5396b6d  ...      1.042143e+06\n",
              "2  0xe6b4a32cc822980d652bb185b33db6be69d39a13  ...      1.320557e+06\n",
              "3  0x9f265a9675dea8f97139015f62c84af1f6d687ae  ...      3.701651e+05\n",
              "4  0xbad9298ef9a0c40ed1fb299a5e42269589aa15af  ...      2.403451e+05\n",
              "\n",
              "[5 rows x 14 columns]"
            ]
          },
          "metadata": {
            "tags": []
          },
          "execution_count": 85
        }
      ]
    },
    {
      "cell_type": "code",
      "metadata": {
        "id": "aLsSY_kz3hiA",
        "colab_type": "code",
        "colab": {}
      },
      "source": [
        "time_out = pd.read_csv('/content/gdrive/My Drive/project_data/time_bw_out.csv')"
      ],
      "execution_count": 0,
      "outputs": []
    },
    {
      "cell_type": "code",
      "metadata": {
        "id": "bK9jXaSINH3a",
        "colab_type": "code",
        "outputId": "25889904-3a5f-4d96-8fb8-dfee17ae3c7f",
        "colab": {
          "base_uri": "https://localhost:8080/",
          "height": 279
        }
      },
      "source": [
        "print(time_out.shape)\n",
        "print(time_out.dtypes)\n",
        "time_out.head(5)"
      ],
      "execution_count": 87,
      "outputs": [
        {
          "output_type": "stream",
          "text": [
            "(2207451, 3)\n",
            "address                   object\n",
            "no_of_out_transactions     int64\n",
            "total_out_count            int64\n",
            "dtype: object\n"
          ],
          "name": "stdout"
        },
        {
          "output_type": "execute_result",
          "data": {
            "text/html": [
              "<div>\n",
              "<style scoped>\n",
              "    .dataframe tbody tr th:only-of-type {\n",
              "        vertical-align: middle;\n",
              "    }\n",
              "\n",
              "    .dataframe tbody tr th {\n",
              "        vertical-align: top;\n",
              "    }\n",
              "\n",
              "    .dataframe thead th {\n",
              "        text-align: right;\n",
              "    }\n",
              "</style>\n",
              "<table border=\"1\" class=\"dataframe\">\n",
              "  <thead>\n",
              "    <tr style=\"text-align: right;\">\n",
              "      <th></th>\n",
              "      <th>address</th>\n",
              "      <th>no_of_out_transactions</th>\n",
              "      <th>total_out_count</th>\n",
              "    </tr>\n",
              "  </thead>\n",
              "  <tbody>\n",
              "    <tr>\n",
              "      <th>0</th>\n",
              "      <td>0x24ba2abd922bacdd1902e4f5064fe9665c7dc1f7</td>\n",
              "      <td>60080239</td>\n",
              "      <td>471</td>\n",
              "    </tr>\n",
              "    <tr>\n",
              "      <th>1</th>\n",
              "      <td>0x459a2fe55548417c3d16014a846ab670dd8028bc</td>\n",
              "      <td>13293769</td>\n",
              "      <td>51</td>\n",
              "    </tr>\n",
              "    <tr>\n",
              "      <th>2</th>\n",
              "      <td>0x0d6d8b96306b45515ea54b10c49562c0f9db0863</td>\n",
              "      <td>96177286</td>\n",
              "      <td>448</td>\n",
              "    </tr>\n",
              "    <tr>\n",
              "      <th>3</th>\n",
              "      <td>0xd99b25c518320820d3c5ae9f47378da32ded5f00</td>\n",
              "      <td>41831114</td>\n",
              "      <td>472</td>\n",
              "    </tr>\n",
              "    <tr>\n",
              "      <th>4</th>\n",
              "      <td>0x3a067320af71f324e56ed9353118a645aa38ba01</td>\n",
              "      <td>28860820</td>\n",
              "      <td>27</td>\n",
              "    </tr>\n",
              "  </tbody>\n",
              "</table>\n",
              "</div>"
            ],
            "text/plain": [
              "                                      address  ...  total_out_count\n",
              "0  0x24ba2abd922bacdd1902e4f5064fe9665c7dc1f7  ...              471\n",
              "1  0x459a2fe55548417c3d16014a846ab670dd8028bc  ...               51\n",
              "2  0x0d6d8b96306b45515ea54b10c49562c0f9db0863  ...              448\n",
              "3  0xd99b25c518320820d3c5ae9f47378da32ded5f00  ...              472\n",
              "4  0x3a067320af71f324e56ed9353118a645aa38ba01  ...               27\n",
              "\n",
              "[5 rows x 3 columns]"
            ]
          },
          "metadata": {
            "tags": []
          },
          "execution_count": 87
        }
      ]
    },
    {
      "cell_type": "code",
      "metadata": {
        "id": "rgI_5IWGQGUs",
        "colab_type": "code",
        "colab": {}
      },
      "source": [
        "time_out['time_b/w_out_txn'] = time_out['no_of_out_transactions']/time_out['total_out_count']"
      ],
      "execution_count": 0,
      "outputs": []
    },
    {
      "cell_type": "code",
      "metadata": {
        "id": "mskddO-LYQYe",
        "colab_type": "code",
        "colab": {
          "base_uri": "https://localhost:8080/",
          "height": 34
        },
        "outputId": "e2691d5b-8dd1-4b23-af64-ea1e07eb7ad5"
      },
      "source": [
        "len(time_out['time_b/w_out_txn'].index[np.isinf(time_out['time_b/w_out_txn'])])"
      ],
      "execution_count": 89,
      "outputs": [
        {
          "output_type": "execute_result",
          "data": {
            "text/plain": [
              "0"
            ]
          },
          "metadata": {
            "tags": []
          },
          "execution_count": 89
        }
      ]
    },
    {
      "cell_type": "code",
      "metadata": {
        "id": "DUfhl91JYRId",
        "colab_type": "code",
        "colab": {}
      },
      "source": [
        "time_out = time_out.drop('no_of_out_transactions',axis=1)\n",
        "time_out = time_out.drop('total_out_count',axis=1)"
      ],
      "execution_count": 0,
      "outputs": []
    },
    {
      "cell_type": "code",
      "metadata": {
        "id": "fdRkNbbLQeHg",
        "colab_type": "code",
        "outputId": "51683270-d3ea-4ec0-9b3a-a793b3533217",
        "colab": {
          "base_uri": "https://localhost:8080/",
          "height": 195
        }
      },
      "source": [
        "time_out.head(5)"
      ],
      "execution_count": 91,
      "outputs": [
        {
          "output_type": "execute_result",
          "data": {
            "text/html": [
              "<div>\n",
              "<style scoped>\n",
              "    .dataframe tbody tr th:only-of-type {\n",
              "        vertical-align: middle;\n",
              "    }\n",
              "\n",
              "    .dataframe tbody tr th {\n",
              "        vertical-align: top;\n",
              "    }\n",
              "\n",
              "    .dataframe thead th {\n",
              "        text-align: right;\n",
              "    }\n",
              "</style>\n",
              "<table border=\"1\" class=\"dataframe\">\n",
              "  <thead>\n",
              "    <tr style=\"text-align: right;\">\n",
              "      <th></th>\n",
              "      <th>address</th>\n",
              "      <th>time_b/w_out_txn</th>\n",
              "    </tr>\n",
              "  </thead>\n",
              "  <tbody>\n",
              "    <tr>\n",
              "      <th>0</th>\n",
              "      <td>0x24ba2abd922bacdd1902e4f5064fe9665c7dc1f7</td>\n",
              "      <td>1.275589e+05</td>\n",
              "    </tr>\n",
              "    <tr>\n",
              "      <th>1</th>\n",
              "      <td>0x459a2fe55548417c3d16014a846ab670dd8028bc</td>\n",
              "      <td>2.606621e+05</td>\n",
              "    </tr>\n",
              "    <tr>\n",
              "      <th>2</th>\n",
              "      <td>0x0d6d8b96306b45515ea54b10c49562c0f9db0863</td>\n",
              "      <td>2.146814e+05</td>\n",
              "    </tr>\n",
              "    <tr>\n",
              "      <th>3</th>\n",
              "      <td>0xd99b25c518320820d3c5ae9f47378da32ded5f00</td>\n",
              "      <td>8.862524e+04</td>\n",
              "    </tr>\n",
              "    <tr>\n",
              "      <th>4</th>\n",
              "      <td>0x3a067320af71f324e56ed9353118a645aa38ba01</td>\n",
              "      <td>1.068919e+06</td>\n",
              "    </tr>\n",
              "  </tbody>\n",
              "</table>\n",
              "</div>"
            ],
            "text/plain": [
              "                                      address  time_b/w_out_txn\n",
              "0  0x24ba2abd922bacdd1902e4f5064fe9665c7dc1f7      1.275589e+05\n",
              "1  0x459a2fe55548417c3d16014a846ab670dd8028bc      2.606621e+05\n",
              "2  0x0d6d8b96306b45515ea54b10c49562c0f9db0863      2.146814e+05\n",
              "3  0xd99b25c518320820d3c5ae9f47378da32ded5f00      8.862524e+04\n",
              "4  0x3a067320af71f324e56ed9353118a645aa38ba01      1.068919e+06"
            ]
          },
          "metadata": {
            "tags": []
          },
          "execution_count": 91
        }
      ]
    },
    {
      "cell_type": "code",
      "metadata": {
        "id": "QQKivPZzQoIA",
        "colab_type": "code",
        "outputId": "fe9a38f3-e6a0-40db-db8b-8fd8ae86fd5b",
        "colab": {
          "base_uri": "https://localhost:8080/",
          "height": 67
        }
      },
      "source": [
        "time_out.isna().sum()"
      ],
      "execution_count": 92,
      "outputs": [
        {
          "output_type": "execute_result",
          "data": {
            "text/plain": [
              "address             0\n",
              "time_b/w_out_txn    0\n",
              "dtype: int64"
            ]
          },
          "metadata": {
            "tags": []
          },
          "execution_count": 92
        }
      ]
    },
    {
      "cell_type": "code",
      "metadata": {
        "id": "hAfCWbZ03llb",
        "colab_type": "code",
        "outputId": "ae6d2ea1-78a0-4102-df51-5fd3c60ee341",
        "colab": {
          "base_uri": "https://localhost:8080/",
          "height": 34
        }
      },
      "source": [
        "data3 = pd.merge(data2,time_out, on='address',how='inner')\n",
        "data3.shape"
      ],
      "execution_count": 93,
      "outputs": [
        {
          "output_type": "execute_result",
          "data": {
            "text/plain": [
              "(776499, 15)"
            ]
          },
          "metadata": {
            "tags": []
          },
          "execution_count": 93
        }
      ]
    },
    {
      "cell_type": "code",
      "metadata": {
        "id": "Ciopqi-UHnJi",
        "colab_type": "code",
        "colab": {}
      },
      "source": [
        "active_months = pd.read_csv('/content/gdrive/My Drive/project_data/active_month.csv')"
      ],
      "execution_count": 0,
      "outputs": []
    },
    {
      "cell_type": "code",
      "metadata": {
        "id": "YDHh9FtEaryg",
        "colab_type": "code",
        "outputId": "4d679052-ca6c-41a0-85be-043aa483fb40",
        "colab": {
          "base_uri": "https://localhost:8080/",
          "height": 262
        }
      },
      "source": [
        "print(active_months.shape)\n",
        "print(active_months.dtypes)\n",
        "active_months.head(5)"
      ],
      "execution_count": 95,
      "outputs": [
        {
          "output_type": "stream",
          "text": [
            "(2207451, 2)\n",
            "address          object\n",
            "active_months     int64\n",
            "dtype: object\n"
          ],
          "name": "stdout"
        },
        {
          "output_type": "execute_result",
          "data": {
            "text/html": [
              "<div>\n",
              "<style scoped>\n",
              "    .dataframe tbody tr th:only-of-type {\n",
              "        vertical-align: middle;\n",
              "    }\n",
              "\n",
              "    .dataframe tbody tr th {\n",
              "        vertical-align: top;\n",
              "    }\n",
              "\n",
              "    .dataframe thead th {\n",
              "        text-align: right;\n",
              "    }\n",
              "</style>\n",
              "<table border=\"1\" class=\"dataframe\">\n",
              "  <thead>\n",
              "    <tr style=\"text-align: right;\">\n",
              "      <th></th>\n",
              "      <th>address</th>\n",
              "      <th>active_months</th>\n",
              "    </tr>\n",
              "  </thead>\n",
              "  <tbody>\n",
              "    <tr>\n",
              "      <th>0</th>\n",
              "      <td>0x2094eb28b9df87c0bed7faaeb88e217dca701ebf</td>\n",
              "      <td>20</td>\n",
              "    </tr>\n",
              "    <tr>\n",
              "      <th>1</th>\n",
              "      <td>0x5828fba83c8bb931f3a412646915c164e7fdcd5c</td>\n",
              "      <td>18</td>\n",
              "    </tr>\n",
              "    <tr>\n",
              "      <th>2</th>\n",
              "      <td>0x20ca0d22f83638bbfcfec77c437584456bcb298a</td>\n",
              "      <td>11</td>\n",
              "    </tr>\n",
              "    <tr>\n",
              "      <th>3</th>\n",
              "      <td>0x85adbe454a0d4fc025d446cc5000d4c47d379cbf</td>\n",
              "      <td>16</td>\n",
              "    </tr>\n",
              "    <tr>\n",
              "      <th>4</th>\n",
              "      <td>0x4320cf7280a27a35a29a59c75b8e05f6a7ba2646</td>\n",
              "      <td>14</td>\n",
              "    </tr>\n",
              "  </tbody>\n",
              "</table>\n",
              "</div>"
            ],
            "text/plain": [
              "                                      address  active_months\n",
              "0  0x2094eb28b9df87c0bed7faaeb88e217dca701ebf             20\n",
              "1  0x5828fba83c8bb931f3a412646915c164e7fdcd5c             18\n",
              "2  0x20ca0d22f83638bbfcfec77c437584456bcb298a             11\n",
              "3  0x85adbe454a0d4fc025d446cc5000d4c47d379cbf             16\n",
              "4  0x4320cf7280a27a35a29a59c75b8e05f6a7ba2646             14"
            ]
          },
          "metadata": {
            "tags": []
          },
          "execution_count": 95
        }
      ]
    },
    {
      "cell_type": "code",
      "metadata": {
        "id": "3ms-HH_FHoM0",
        "colab_type": "code",
        "outputId": "7ffddfbf-c636-43e6-db52-3851b0655636",
        "colab": {
          "base_uri": "https://localhost:8080/",
          "height": 34
        }
      },
      "source": [
        "data4 = pd.merge(data3,active_months, on='address',how='inner')\n",
        "data4.shape"
      ],
      "execution_count": 96,
      "outputs": [
        {
          "output_type": "execute_result",
          "data": {
            "text/plain": [
              "(776499, 16)"
            ]
          },
          "metadata": {
            "tags": []
          },
          "execution_count": 96
        }
      ]
    },
    {
      "cell_type": "code",
      "metadata": {
        "id": "scD198YKN2n3",
        "colab_type": "code",
        "outputId": "a2eac607-0791-49c2-adfc-28859d89947a",
        "colab": {
          "base_uri": "https://localhost:8080/",
          "height": 50
        }
      },
      "source": [
        "monthly_out_txn = pd.read_csv('/content/gdrive/My Drive/project_data/monthly_out_txn.csv',names=['address','monthly_out_txn'])"
      ],
      "execution_count": 97,
      "outputs": [
        {
          "output_type": "stream",
          "text": [
            "/usr/local/lib/python3.6/dist-packages/IPython/core/interactiveshell.py:2718: DtypeWarning: Columns (1) have mixed types. Specify dtype option on import or set low_memory=False.\n",
            "  interactivity=interactivity, compiler=compiler, result=result)\n"
          ],
          "name": "stderr"
        }
      ]
    },
    {
      "cell_type": "code",
      "metadata": {
        "id": "aVT-uk7TZwE7",
        "colab_type": "code",
        "colab": {}
      },
      "source": [
        ""
      ],
      "execution_count": 0,
      "outputs": []
    },
    {
      "cell_type": "code",
      "metadata": {
        "id": "GVABnxtTOA92",
        "colab_type": "code",
        "colab": {}
      },
      "source": [
        "monthly_out_txn = monthly_out_txn.drop([0],axis=0)"
      ],
      "execution_count": 0,
      "outputs": []
    },
    {
      "cell_type": "code",
      "metadata": {
        "id": "JykOajGNNI5m",
        "colab_type": "code",
        "outputId": "163945db-44f8-455c-b6df-6f7b45667f66",
        "colab": {
          "base_uri": "https://localhost:8080/",
          "height": 262
        }
      },
      "source": [
        "print(monthly_out_txn.shape)\n",
        "print(monthly_out_txn.dtypes)\n",
        "monthly_out_txn.head(5)"
      ],
      "execution_count": 99,
      "outputs": [
        {
          "output_type": "stream",
          "text": [
            "(2207451, 2)\n",
            "address            object\n",
            "monthly_out_txn    object\n",
            "dtype: object\n"
          ],
          "name": "stdout"
        },
        {
          "output_type": "execute_result",
          "data": {
            "text/html": [
              "<div>\n",
              "<style scoped>\n",
              "    .dataframe tbody tr th:only-of-type {\n",
              "        vertical-align: middle;\n",
              "    }\n",
              "\n",
              "    .dataframe tbody tr th {\n",
              "        vertical-align: top;\n",
              "    }\n",
              "\n",
              "    .dataframe thead th {\n",
              "        text-align: right;\n",
              "    }\n",
              "</style>\n",
              "<table border=\"1\" class=\"dataframe\">\n",
              "  <thead>\n",
              "    <tr style=\"text-align: right;\">\n",
              "      <th></th>\n",
              "      <th>address</th>\n",
              "      <th>monthly_out_txn</th>\n",
              "    </tr>\n",
              "  </thead>\n",
              "  <tbody>\n",
              "    <tr>\n",
              "      <th>1</th>\n",
              "      <td>0x1bb67106002c82e80793aad1ff51032bf3b72f81</td>\n",
              "      <td>25</td>\n",
              "    </tr>\n",
              "    <tr>\n",
              "      <th>2</th>\n",
              "      <td>0x931cf1c5a0a60bc256870ed2a998160901af560f</td>\n",
              "      <td>1.1666666666666667</td>\n",
              "    </tr>\n",
              "    <tr>\n",
              "      <th>3</th>\n",
              "      <td>0xd232ca4ea085295a1c7186dd05fa01e077d7c003</td>\n",
              "      <td>4.5</td>\n",
              "    </tr>\n",
              "    <tr>\n",
              "      <th>4</th>\n",
              "      <td>0x52137266b4afb6d61df87d1924466fea0b2308ad</td>\n",
              "      <td>2.25</td>\n",
              "    </tr>\n",
              "    <tr>\n",
              "      <th>5</th>\n",
              "      <td>0x12a904c42555df6e0d2a5068c2d8e15a71a9ca5a</td>\n",
              "      <td>1.4</td>\n",
              "    </tr>\n",
              "  </tbody>\n",
              "</table>\n",
              "</div>"
            ],
            "text/plain": [
              "                                      address     monthly_out_txn\n",
              "1  0x1bb67106002c82e80793aad1ff51032bf3b72f81                  25\n",
              "2  0x931cf1c5a0a60bc256870ed2a998160901af560f  1.1666666666666667\n",
              "3  0xd232ca4ea085295a1c7186dd05fa01e077d7c003                 4.5\n",
              "4  0x52137266b4afb6d61df87d1924466fea0b2308ad                2.25\n",
              "5  0x12a904c42555df6e0d2a5068c2d8e15a71a9ca5a                 1.4"
            ]
          },
          "metadata": {
            "tags": []
          },
          "execution_count": 99
        }
      ]
    },
    {
      "cell_type": "code",
      "metadata": {
        "id": "LIsk-1FfNpt1",
        "colab_type": "code",
        "outputId": "e57db9d8-b4ca-47bd-9136-ff07ce9c73ce",
        "colab": {
          "base_uri": "https://localhost:8080/",
          "height": 34
        }
      },
      "source": [
        "data5 = pd.merge(data4,monthly_out_txn, on='address',how='inner')\n",
        "data5.shape"
      ],
      "execution_count": 100,
      "outputs": [
        {
          "output_type": "execute_result",
          "data": {
            "text/plain": [
              "(776499, 17)"
            ]
          },
          "metadata": {
            "tags": []
          },
          "execution_count": 100
        }
      ]
    },
    {
      "cell_type": "code",
      "metadata": {
        "id": "lgmVnkBqJkUT",
        "colab_type": "code",
        "colab": {}
      },
      "source": [
        "monthly_in_txn =pd.read_csv('/content/gdrive/My Drive/project_data/monthly_in_txn.csv')"
      ],
      "execution_count": 0,
      "outputs": []
    },
    {
      "cell_type": "code",
      "metadata": {
        "id": "ipgNCaVfNJ15",
        "colab_type": "code",
        "outputId": "9c736436-da58-4188-8d80-4f8f5083db90",
        "colab": {
          "base_uri": "https://localhost:8080/",
          "height": 262
        }
      },
      "source": [
        "print(monthly_in_txn.shape)\n",
        "print(monthly_in_txn.dtypes)\n",
        "monthly_in_txn.head(5)"
      ],
      "execution_count": 102,
      "outputs": [
        {
          "output_type": "stream",
          "text": [
            "(2207451, 2)\n",
            "address            object\n",
            "monthly_in_txn    float64\n",
            "dtype: object\n"
          ],
          "name": "stdout"
        },
        {
          "output_type": "execute_result",
          "data": {
            "text/html": [
              "<div>\n",
              "<style scoped>\n",
              "    .dataframe tbody tr th:only-of-type {\n",
              "        vertical-align: middle;\n",
              "    }\n",
              "\n",
              "    .dataframe tbody tr th {\n",
              "        vertical-align: top;\n",
              "    }\n",
              "\n",
              "    .dataframe thead th {\n",
              "        text-align: right;\n",
              "    }\n",
              "</style>\n",
              "<table border=\"1\" class=\"dataframe\">\n",
              "  <thead>\n",
              "    <tr style=\"text-align: right;\">\n",
              "      <th></th>\n",
              "      <th>address</th>\n",
              "      <th>monthly_in_txn</th>\n",
              "    </tr>\n",
              "  </thead>\n",
              "  <tbody>\n",
              "    <tr>\n",
              "      <th>0</th>\n",
              "      <td>0x2f9d0ccb752044e15cc23df93dbb18f1e21b96f0</td>\n",
              "      <td>26.000000</td>\n",
              "    </tr>\n",
              "    <tr>\n",
              "      <th>1</th>\n",
              "      <td>0xa425a78f6e0ab8a65d26af633b40961813950090</td>\n",
              "      <td>3.111111</td>\n",
              "    </tr>\n",
              "    <tr>\n",
              "      <th>2</th>\n",
              "      <td>0x3793fc30ad9c1c6964281fd017dee2632c16d00e</td>\n",
              "      <td>1.666667</td>\n",
              "    </tr>\n",
              "    <tr>\n",
              "      <th>3</th>\n",
              "      <td>0x63111cc3b805d5a8acee25cdf98e2b99e26d699e</td>\n",
              "      <td>6.000000</td>\n",
              "    </tr>\n",
              "    <tr>\n",
              "      <th>4</th>\n",
              "      <td>0x59f7a70df21df324d6af4d472611253e013f2ea9</td>\n",
              "      <td>4.500000</td>\n",
              "    </tr>\n",
              "  </tbody>\n",
              "</table>\n",
              "</div>"
            ],
            "text/plain": [
              "                                      address  monthly_in_txn\n",
              "0  0x2f9d0ccb752044e15cc23df93dbb18f1e21b96f0       26.000000\n",
              "1  0xa425a78f6e0ab8a65d26af633b40961813950090        3.111111\n",
              "2  0x3793fc30ad9c1c6964281fd017dee2632c16d00e        1.666667\n",
              "3  0x63111cc3b805d5a8acee25cdf98e2b99e26d699e        6.000000\n",
              "4  0x59f7a70df21df324d6af4d472611253e013f2ea9        4.500000"
            ]
          },
          "metadata": {
            "tags": []
          },
          "execution_count": 102
        }
      ]
    },
    {
      "cell_type": "code",
      "metadata": {
        "id": "AF6h926JLEmc",
        "colab_type": "code",
        "outputId": "f8709867-5cf2-4a69-873a-49970d187cdc",
        "colab": {
          "base_uri": "https://localhost:8080/",
          "height": 34
        }
      },
      "source": [
        "data = pd.merge(data5,monthly_in_txn, on='address',how='inner')\n",
        "data.shape"
      ],
      "execution_count": 103,
      "outputs": [
        {
          "output_type": "execute_result",
          "data": {
            "text/plain": [
              "(776499, 18)"
            ]
          },
          "metadata": {
            "tags": []
          },
          "execution_count": 103
        }
      ]
    },
    {
      "cell_type": "code",
      "metadata": {
        "id": "gdEjqDAdPrPg",
        "colab_type": "code",
        "outputId": "330cade2-174e-4e28-e5c2-6badff7d10c7",
        "colab": {
          "base_uri": "https://localhost:8080/",
          "height": 422
        }
      },
      "source": [
        "data"
      ],
      "execution_count": 104,
      "outputs": [
        {
          "output_type": "execute_result",
          "data": {
            "text/html": [
              "<div>\n",
              "<style scoped>\n",
              "    .dataframe tbody tr th:only-of-type {\n",
              "        vertical-align: middle;\n",
              "    }\n",
              "\n",
              "    .dataframe tbody tr th {\n",
              "        vertical-align: top;\n",
              "    }\n",
              "\n",
              "    .dataframe thead th {\n",
              "        text-align: right;\n",
              "    }\n",
              "</style>\n",
              "<table border=\"1\" class=\"dataframe\">\n",
              "  <thead>\n",
              "    <tr style=\"text-align: right;\">\n",
              "      <th></th>\n",
              "      <th>address</th>\n",
              "      <th>no_of_in_transactions</th>\n",
              "      <th>tot_ether_recieved</th>\n",
              "      <th>tax_type_x</th>\n",
              "      <th>no_of_out_transactions</th>\n",
              "      <th>tot_ether_sent</th>\n",
              "      <th>tax_type_y</th>\n",
              "      <th>tot_distinct_tokens_recieved</th>\n",
              "      <th>tot_tokens_recieved</th>\n",
              "      <th>tot_token_value_recieved</th>\n",
              "      <th>tot_distinct_tokens_sent</th>\n",
              "      <th>tot_tokens_sent</th>\n",
              "      <th>tot_token_value_sent</th>\n",
              "      <th>time_b/w_out_txn_x</th>\n",
              "      <th>time_b/w_out_txn_y</th>\n",
              "      <th>active_months</th>\n",
              "      <th>monthly_out_txn</th>\n",
              "      <th>monthly_in_txn</th>\n",
              "    </tr>\n",
              "  </thead>\n",
              "  <tbody>\n",
              "    <tr>\n",
              "      <th>0</th>\n",
              "      <td>0xd4f8e83864c80ea703dd148c78b937cbec200243</td>\n",
              "      <td>9</td>\n",
              "      <td>27000000000000000</td>\n",
              "      <td>IN</td>\n",
              "      <td>97</td>\n",
              "      <td>19448289831436946</td>\n",
              "      <td>OUT</td>\n",
              "      <td>1</td>\n",
              "      <td>32</td>\n",
              "      <td>9.393942e+06</td>\n",
              "      <td>1</td>\n",
              "      <td>32</td>\n",
              "      <td>9.393942e+06</td>\n",
              "      <td>1.156452e+05</td>\n",
              "      <td>1.434797e+04</td>\n",
              "      <td>2</td>\n",
              "      <td>48.5</td>\n",
              "      <td>9.000000</td>\n",
              "    </tr>\n",
              "    <tr>\n",
              "      <th>1</th>\n",
              "      <td>0xd9052a62ee61eec200c1972aa2a19fa3d5396b6d</td>\n",
              "      <td>14</td>\n",
              "      <td>10342497563429364</td>\n",
              "      <td>IN</td>\n",
              "      <td>32</td>\n",
              "      <td>0</td>\n",
              "      <td>OUT</td>\n",
              "      <td>1</td>\n",
              "      <td>32</td>\n",
              "      <td>1.870353e+11</td>\n",
              "      <td>1</td>\n",
              "      <td>32</td>\n",
              "      <td>1.870353e+11</td>\n",
              "      <td>1.042143e+06</td>\n",
              "      <td>4.736983e+05</td>\n",
              "      <td>6</td>\n",
              "      <td>5.5</td>\n",
              "      <td>2.500000</td>\n",
              "    </tr>\n",
              "    <tr>\n",
              "      <th>2</th>\n",
              "      <td>0xe6b4a32cc822980d652bb185b33db6be69d39a13</td>\n",
              "      <td>17</td>\n",
              "      <td>16776853680000000000</td>\n",
              "      <td>IN</td>\n",
              "      <td>86</td>\n",
              "      <td>21009302000000000000</td>\n",
              "      <td>OUT</td>\n",
              "      <td>15</td>\n",
              "      <td>20</td>\n",
              "      <td>4.639691e+22</td>\n",
              "      <td>5</td>\n",
              "      <td>9</td>\n",
              "      <td>4.260856e+22</td>\n",
              "      <td>1.320557e+06</td>\n",
              "      <td>1.653896e+05</td>\n",
              "      <td>5</td>\n",
              "      <td>21.5</td>\n",
              "      <td>3.400000</td>\n",
              "    </tr>\n",
              "    <tr>\n",
              "      <th>3</th>\n",
              "      <td>0x9f265a9675dea8f97139015f62c84af1f6d687ae</td>\n",
              "      <td>15</td>\n",
              "      <td>2100000000000000000</td>\n",
              "      <td>IN</td>\n",
              "      <td>3</td>\n",
              "      <td>2099000000000000000</td>\n",
              "      <td>OUT</td>\n",
              "      <td>3</td>\n",
              "      <td>3</td>\n",
              "      <td>2.000000e+20</td>\n",
              "      <td>2</td>\n",
              "      <td>2</td>\n",
              "      <td>2.000000e+20</td>\n",
              "      <td>3.701651e+05</td>\n",
              "      <td>1.252319e+06</td>\n",
              "      <td>4</td>\n",
              "      <td>1.5</td>\n",
              "      <td>5.000000</td>\n",
              "    </tr>\n",
              "    <tr>\n",
              "      <th>4</th>\n",
              "      <td>0xbad9298ef9a0c40ed1fb299a5e42269589aa15af</td>\n",
              "      <td>142</td>\n",
              "      <td>17850287239292549380</td>\n",
              "      <td>IN</td>\n",
              "      <td>57</td>\n",
              "      <td>17813824239292549380</td>\n",
              "      <td>OUT</td>\n",
              "      <td>2</td>\n",
              "      <td>2</td>\n",
              "      <td>3.000000e+18</td>\n",
              "      <td>1</td>\n",
              "      <td>1</td>\n",
              "      <td>1.000000e+20</td>\n",
              "      <td>2.403451e+05</td>\n",
              "      <td>5.987940e+05</td>\n",
              "      <td>14</td>\n",
              "      <td>4.384615384615385</td>\n",
              "      <td>10.923077</td>\n",
              "    </tr>\n",
              "    <tr>\n",
              "      <th>...</th>\n",
              "      <td>...</td>\n",
              "      <td>...</td>\n",
              "      <td>...</td>\n",
              "      <td>...</td>\n",
              "      <td>...</td>\n",
              "      <td>...</td>\n",
              "      <td>...</td>\n",
              "      <td>...</td>\n",
              "      <td>...</td>\n",
              "      <td>...</td>\n",
              "      <td>...</td>\n",
              "      <td>...</td>\n",
              "      <td>...</td>\n",
              "      <td>...</td>\n",
              "      <td>...</td>\n",
              "      <td>...</td>\n",
              "      <td>...</td>\n",
              "      <td>...</td>\n",
              "    </tr>\n",
              "    <tr>\n",
              "      <th>776494</th>\n",
              "      <td>0xb19404a929989fc0c77f2666c114b3774ec59491</td>\n",
              "      <td>8</td>\n",
              "      <td>1000000000000000000</td>\n",
              "      <td>IN</td>\n",
              "      <td>103</td>\n",
              "      <td>1377914848211935073</td>\n",
              "      <td>OUT</td>\n",
              "      <td>1</td>\n",
              "      <td>31</td>\n",
              "      <td>4.199133e+06</td>\n",
              "      <td>1</td>\n",
              "      <td>18</td>\n",
              "      <td>2.662393e+06</td>\n",
              "      <td>9.606125e+03</td>\n",
              "      <td>4.702047e+05</td>\n",
              "      <td>2</td>\n",
              "      <td>51.5</td>\n",
              "      <td>8.000000</td>\n",
              "    </tr>\n",
              "    <tr>\n",
              "      <th>776495</th>\n",
              "      <td>0x652eefae4b3a297a7cf9ef382d0dac5d880ae5cd</td>\n",
              "      <td>1</td>\n",
              "      <td>101000000000000000000</td>\n",
              "      <td>IN</td>\n",
              "      <td>11</td>\n",
              "      <td>100872794420000000000</td>\n",
              "      <td>OUT</td>\n",
              "      <td>2</td>\n",
              "      <td>3</td>\n",
              "      <td>2.599873e+20</td>\n",
              "      <td>3</td>\n",
              "      <td>3</td>\n",
              "      <td>3.599863e+20</td>\n",
              "      <td>0.000000e+00</td>\n",
              "      <td>6.157682e+04</td>\n",
              "      <td>1</td>\n",
              "      <td>11</td>\n",
              "      <td>1.000000</td>\n",
              "    </tr>\n",
              "    <tr>\n",
              "      <th>776496</th>\n",
              "      <td>0x31749690f34f696282c4e10923c46d96ebcabebe</td>\n",
              "      <td>2</td>\n",
              "      <td>101000000000000000000</td>\n",
              "      <td>IN</td>\n",
              "      <td>4</td>\n",
              "      <td>101214251755000000000</td>\n",
              "      <td>OUT</td>\n",
              "      <td>1</td>\n",
              "      <td>1</td>\n",
              "      <td>2.171251e+20</td>\n",
              "      <td>1</td>\n",
              "      <td>1</td>\n",
              "      <td>2.171251e+20</td>\n",
              "      <td>3.650000e+01</td>\n",
              "      <td>4.868718e+05</td>\n",
              "      <td>1</td>\n",
              "      <td>4</td>\n",
              "      <td>2.000000</td>\n",
              "    </tr>\n",
              "    <tr>\n",
              "      <th>776497</th>\n",
              "      <td>0x53a7100dafa3f83deea60faf9a7e15c96ec9dac9</td>\n",
              "      <td>3</td>\n",
              "      <td>101000000000000000000</td>\n",
              "      <td>IN</td>\n",
              "      <td>29</td>\n",
              "      <td>100825319706000000000</td>\n",
              "      <td>OUT</td>\n",
              "      <td>13</td>\n",
              "      <td>14</td>\n",
              "      <td>7.026999e+21</td>\n",
              "      <td>10</td>\n",
              "      <td>12</td>\n",
              "      <td>6.336999e+21</td>\n",
              "      <td>5.920000e+04</td>\n",
              "      <td>2.030434e+06</td>\n",
              "      <td>4</td>\n",
              "      <td>7.25</td>\n",
              "      <td>3.000000</td>\n",
              "    </tr>\n",
              "    <tr>\n",
              "      <th>776498</th>\n",
              "      <td>0x28ee172f7a9efc4ca3423391a1c160031c056ab1</td>\n",
              "      <td>6</td>\n",
              "      <td>101000000000000000000</td>\n",
              "      <td>IN</td>\n",
              "      <td>54</td>\n",
              "      <td>100866500000000000000</td>\n",
              "      <td>OUT</td>\n",
              "      <td>4</td>\n",
              "      <td>21</td>\n",
              "      <td>4.996547e+24</td>\n",
              "      <td>4</td>\n",
              "      <td>46</td>\n",
              "      <td>4.996547e+24</td>\n",
              "      <td>7.085905e+05</td>\n",
              "      <td>3.761337e+05</td>\n",
              "      <td>8</td>\n",
              "      <td>6.75</td>\n",
              "      <td>2.000000</td>\n",
              "    </tr>\n",
              "  </tbody>\n",
              "</table>\n",
              "<p>776499 rows × 18 columns</p>\n",
              "</div>"
            ],
            "text/plain": [
              "                                           address  ...  monthly_in_txn\n",
              "0       0xd4f8e83864c80ea703dd148c78b937cbec200243  ...        9.000000\n",
              "1       0xd9052a62ee61eec200c1972aa2a19fa3d5396b6d  ...        2.500000\n",
              "2       0xe6b4a32cc822980d652bb185b33db6be69d39a13  ...        3.400000\n",
              "3       0x9f265a9675dea8f97139015f62c84af1f6d687ae  ...        5.000000\n",
              "4       0xbad9298ef9a0c40ed1fb299a5e42269589aa15af  ...       10.923077\n",
              "...                                            ...  ...             ...\n",
              "776494  0xb19404a929989fc0c77f2666c114b3774ec59491  ...        8.000000\n",
              "776495  0x652eefae4b3a297a7cf9ef382d0dac5d880ae5cd  ...        1.000000\n",
              "776496  0x31749690f34f696282c4e10923c46d96ebcabebe  ...        2.000000\n",
              "776497  0x53a7100dafa3f83deea60faf9a7e15c96ec9dac9  ...        3.000000\n",
              "776498  0x28ee172f7a9efc4ca3423391a1c160031c056ab1  ...        2.000000\n",
              "\n",
              "[776499 rows x 18 columns]"
            ]
          },
          "metadata": {
            "tags": []
          },
          "execution_count": 104
        }
      ]
    },
    {
      "cell_type": "code",
      "metadata": {
        "id": "_3x1JyBJYvX5",
        "colab_type": "code",
        "colab": {}
      },
      "source": [
        "data = data.drop('tax_type_x',axis=1)\n",
        "data = data.drop('tax_type_y',axis=1)\n",
        "data = data.drop('tot_distinct_tokens_recieved',axis=1)\n",
        "data = data.drop('tot_tokens_recieved',axis=1)\n",
        "data = data.drop('tot_distinct_tokens_sent',axis=1)\n",
        "data = data.drop('tot_tokens_sent',axis=1)"
      ],
      "execution_count": 0,
      "outputs": []
    },
    {
      "cell_type": "code",
      "metadata": {
        "id": "sQHBq-ABZaCy",
        "colab_type": "code",
        "colab": {
          "base_uri": "https://localhost:8080/",
          "height": 252
        },
        "outputId": "43265164-c3c7-4d84-b017-80f28725affb"
      },
      "source": [
        "print(data.shape)\n",
        "print(data.dtypes)"
      ],
      "execution_count": 106,
      "outputs": [
        {
          "output_type": "stream",
          "text": [
            "(776499, 12)\n",
            "address                      object\n",
            "no_of_in_transactions         int64\n",
            "tot_ether_recieved           object\n",
            "no_of_out_transactions        int64\n",
            "tot_ether_sent               object\n",
            "tot_token_value_recieved    float64\n",
            "tot_token_value_sent        float64\n",
            "time_b/w_out_txn_x          float64\n",
            "time_b/w_out_txn_y          float64\n",
            "active_months                 int64\n",
            "monthly_out_txn              object\n",
            "monthly_in_txn              float64\n",
            "dtype: object\n"
          ],
          "name": "stdout"
        }
      ]
    },
    {
      "cell_type": "code",
      "metadata": {
        "id": "LKkDoLDgaNr8",
        "colab_type": "code",
        "colab": {}
      },
      "source": [
        "data.to_csv(r'/content/gdrive/My Drive/project_data/final_data.csv', index = False)"
      ],
      "execution_count": 0,
      "outputs": []
    },
    {
      "cell_type": "code",
      "metadata": {
        "id": "w9an_rQAbauv",
        "colab_type": "code",
        "colab": {}
      },
      "source": [
        ""
      ],
      "execution_count": 0,
      "outputs": []
    }
  ]
}