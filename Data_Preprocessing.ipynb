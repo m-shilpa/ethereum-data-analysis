{
  "nbformat": 4,
  "nbformat_minor": 0,
  "metadata": {
    "colab": {
      "name": "joined data.ipynb",
      "provenance": [],
      "collapsed_sections": [],
      "include_colab_link": true
    },
    "kernelspec": {
      "name": "python3",
      "display_name": "Python 3"
    },
    "accelerator": "GPU"
  },
  "cells": [
    {
      "cell_type": "markdown",
      "metadata": {
        "id": "view-in-github",
        "colab_type": "text"
      },
      "source": [
        "<a href=\"https://colab.research.google.com/github/mshilpaa/ethereum-data-analysis/blob/master/Data_Preprocessing.ipynb\" target=\"_parent\"><img src=\"https://colab.research.google.com/assets/colab-badge.svg\" alt=\"Open In Colab\"/></a>"
      ]
    },
    {
      "cell_type": "code",
      "metadata": {
        "id": "LyBVp18JqRZQ",
        "colab_type": "code",
        "outputId": "13dd8538-0800-4ef6-d4e8-958dc911de82",
        "colab": {
          "base_uri": "https://localhost:8080/",
          "height": 122
        }
      },
      "source": [
        "from google.colab import drive\n",
        "drive.mount('/content/gdrive')"
      ],
      "execution_count": 1,
      "outputs": [
        {
          "output_type": "stream",
          "text": [
            "Go to this URL in a browser: https://accounts.google.com/o/oauth2/auth?client_id=947318989803-6bn6qk8qdgf4n4g3pfee6491hc0brc4i.apps.googleusercontent.com&redirect_uri=urn%3aietf%3awg%3aoauth%3a2.0%3aoob&response_type=code&scope=email%20https%3a%2f%2fwww.googleapis.com%2fauth%2fdocs.test%20https%3a%2f%2fwww.googleapis.com%2fauth%2fdrive%20https%3a%2f%2fwww.googleapis.com%2fauth%2fdrive.photos.readonly%20https%3a%2f%2fwww.googleapis.com%2fauth%2fpeopleapi.readonly\n",
            "\n",
            "Enter your authorization code:\n",
            "··········\n",
            "Mounted at /content/gdrive\n"
          ],
          "name": "stdout"
        }
      ]
    },
    {
      "cell_type": "code",
      "metadata": {
        "id": "1ZiLQP1ot9bf",
        "colab_type": "code",
        "colab": {}
      },
      "source": [
        "import pandas as pd\n",
        "import numpy as np\n",
        "import matplotlib.pyplot as plt"
      ],
      "execution_count": 0,
      "outputs": []
    },
    {
      "cell_type": "code",
      "metadata": {
        "id": "EX66Vnk28GPK",
        "colab_type": "code",
        "outputId": "700ae939-7766-49aa-bfc0-0dcd5fbba115",
        "colab": {
          "base_uri": "https://localhost:8080/",
          "height": 105
        }
      },
      "source": [
        "balance = pd.read_csv('/content/gdrive/My Drive/project_data/balance.csv')\n",
        "in_txn = pd.read_csv('/content/gdrive/My Drive/project_data/in_txn.csv')\n",
        "out_txn = pd.read_csv('/content/gdrive/My Drive/project_data/out_txn.csv')"
      ],
      "execution_count": 3,
      "outputs": [
        {
          "output_type": "stream",
          "text": [
            "/usr/local/lib/python3.6/dist-packages/IPython/core/interactiveshell.py:2718: DtypeWarning: Columns (1) have mixed types.Specify dtype option on import or set low_memory=False.\n",
            "  interactivity=interactivity, compiler=compiler, result=result)\n",
            "/usr/local/lib/python3.6/dist-packages/IPython/core/interactiveshell.py:2718: DtypeWarning: Columns (2) have mixed types.Specify dtype option on import or set low_memory=False.\n",
            "  interactivity=interactivity, compiler=compiler, result=result)\n"
          ],
          "name": "stderr"
        }
      ]
    },
    {
      "cell_type": "code",
      "metadata": {
        "id": "R5D2oI1qUz3-",
        "colab_type": "code",
        "outputId": "6632ecbb-f282-43c2-82d0-fec67bc591e9",
        "colab": {
          "base_uri": "https://localhost:8080/",
          "height": 272
        }
      },
      "source": [
        "print(balance.shape)\n",
        "print(balance.dtypes)\n",
        "balance.head(5)"
      ],
      "execution_count": 4,
      "outputs": [
        {
          "output_type": "stream",
          "text": [
            "(2207451, 2)\n",
            "address        object\n",
            "eth_balance    object\n",
            "dtype: object\n"
          ],
          "name": "stdout"
        },
        {
          "output_type": "execute_result",
          "data": {
            "text/html": [
              "<div>\n",
              "<style scoped>\n",
              "    .dataframe tbody tr th:only-of-type {\n",
              "        vertical-align: middle;\n",
              "    }\n",
              "\n",
              "    .dataframe tbody tr th {\n",
              "        vertical-align: top;\n",
              "    }\n",
              "\n",
              "    .dataframe thead th {\n",
              "        text-align: right;\n",
              "    }\n",
              "</style>\n",
              "<table border=\"1\" class=\"dataframe\">\n",
              "  <thead>\n",
              "    <tr style=\"text-align: right;\">\n",
              "      <th></th>\n",
              "      <th>address</th>\n",
              "      <th>eth_balance</th>\n",
              "    </tr>\n",
              "  </thead>\n",
              "  <tbody>\n",
              "    <tr>\n",
              "      <th>0</th>\n",
              "      <td>0x0fc50783a6f152a8fa81084a57bddb62ba55b98b</td>\n",
              "      <td>1511612688573000</td>\n",
              "    </tr>\n",
              "    <tr>\n",
              "      <th>1</th>\n",
              "      <td>0x1e92a10408a16f9c5b237c093ea3c6eef0ba5ff9</td>\n",
              "      <td>99265000000000000</td>\n",
              "    </tr>\n",
              "    <tr>\n",
              "      <th>2</th>\n",
              "      <td>0x7521b687354290490debd39a8323b18b2b04407f</td>\n",
              "      <td>790000000000000</td>\n",
              "    </tr>\n",
              "    <tr>\n",
              "      <th>3</th>\n",
              "      <td>0x3b96ad31625f31b68cd5fa27da74d11cf4a2f28f</td>\n",
              "      <td>72000000000000</td>\n",
              "    </tr>\n",
              "    <tr>\n",
              "      <th>4</th>\n",
              "      <td>0x27a60af4922b1f8a130c2c7dff6899d908b277af</td>\n",
              "      <td>152878000000000</td>\n",
              "    </tr>\n",
              "  </tbody>\n",
              "</table>\n",
              "</div>"
            ],
            "text/plain": [
              "                                      address        eth_balance\n",
              "0  0x0fc50783a6f152a8fa81084a57bddb62ba55b98b   1511612688573000\n",
              "1  0x1e92a10408a16f9c5b237c093ea3c6eef0ba5ff9  99265000000000000\n",
              "2  0x7521b687354290490debd39a8323b18b2b04407f    790000000000000\n",
              "3  0x3b96ad31625f31b68cd5fa27da74d11cf4a2f28f     72000000000000\n",
              "4  0x27a60af4922b1f8a130c2c7dff6899d908b277af    152878000000000"
            ]
          },
          "metadata": {
            "tags": []
          },
          "execution_count": 4
        }
      ]
    },
    {
      "cell_type": "code",
      "metadata": {
        "id": "35_nH4UVcf0w",
        "colab_type": "code",
        "outputId": "e553d019-0b56-413e-f051-0b57200886c1",
        "colab": {
          "base_uri": "https://localhost:8080/",
          "height": 204
        }
      },
      "source": [
        "in_txn.head(5)"
      ],
      "execution_count": 5,
      "outputs": [
        {
          "output_type": "execute_result",
          "data": {
            "text/html": [
              "<div>\n",
              "<style scoped>\n",
              "    .dataframe tbody tr th:only-of-type {\n",
              "        vertical-align: middle;\n",
              "    }\n",
              "\n",
              "    .dataframe tbody tr th {\n",
              "        vertical-align: top;\n",
              "    }\n",
              "\n",
              "    .dataframe thead th {\n",
              "        text-align: right;\n",
              "    }\n",
              "</style>\n",
              "<table border=\"1\" class=\"dataframe\">\n",
              "  <thead>\n",
              "    <tr style=\"text-align: right;\">\n",
              "      <th></th>\n",
              "      <th>address</th>\n",
              "      <th>no_of_in_transactions</th>\n",
              "      <th>tot_ether_recieved</th>\n",
              "      <th>tax_type</th>\n",
              "    </tr>\n",
              "  </thead>\n",
              "  <tbody>\n",
              "    <tr>\n",
              "      <th>0</th>\n",
              "      <td>0xd4f8e83864c80ea703dd148c78b937cbec200243</td>\n",
              "      <td>9</td>\n",
              "      <td>27000000000000000</td>\n",
              "      <td>IN</td>\n",
              "    </tr>\n",
              "    <tr>\n",
              "      <th>1</th>\n",
              "      <td>0x2bbed5e19de4fef234845c9ccdddbbef7cd531ba</td>\n",
              "      <td>9</td>\n",
              "      <td>12175785825760000000</td>\n",
              "      <td>IN</td>\n",
              "    </tr>\n",
              "    <tr>\n",
              "      <th>2</th>\n",
              "      <td>0xd9052a62ee61eec200c1972aa2a19fa3d5396b6d</td>\n",
              "      <td>14</td>\n",
              "      <td>10342497563429364</td>\n",
              "      <td>IN</td>\n",
              "    </tr>\n",
              "    <tr>\n",
              "      <th>3</th>\n",
              "      <td>0xe6b4a32cc822980d652bb185b33db6be69d39a13</td>\n",
              "      <td>17</td>\n",
              "      <td>16776853680000000000</td>\n",
              "      <td>IN</td>\n",
              "    </tr>\n",
              "    <tr>\n",
              "      <th>4</th>\n",
              "      <td>0x450fbad4690c9800bbd3b3bb7f051e6bfc886b62</td>\n",
              "      <td>12</td>\n",
              "      <td>2222479280000000000</td>\n",
              "      <td>IN</td>\n",
              "    </tr>\n",
              "  </tbody>\n",
              "</table>\n",
              "</div>"
            ],
            "text/plain": [
              "                                      address  ...  tax_type\n",
              "0  0xd4f8e83864c80ea703dd148c78b937cbec200243  ...        IN\n",
              "1  0x2bbed5e19de4fef234845c9ccdddbbef7cd531ba  ...        IN\n",
              "2  0xd9052a62ee61eec200c1972aa2a19fa3d5396b6d  ...        IN\n",
              "3  0xe6b4a32cc822980d652bb185b33db6be69d39a13  ...        IN\n",
              "4  0x450fbad4690c9800bbd3b3bb7f051e6bfc886b62  ...        IN\n",
              "\n",
              "[5 rows x 4 columns]"
            ]
          },
          "metadata": {
            "tags": []
          },
          "execution_count": 5
        }
      ]
    },
    {
      "cell_type": "code",
      "metadata": {
        "id": "U6P6Ly_18XqA",
        "colab_type": "code",
        "outputId": "851aef93-58be-48ee-afb5-45ab9d2e4c93",
        "colab": {
          "base_uri": "https://localhost:8080/",
          "height": 34
        }
      },
      "source": [
        "in_txn.shape"
      ],
      "execution_count": 6,
      "outputs": [
        {
          "output_type": "execute_result",
          "data": {
            "text/plain": [
              "(2207451, 4)"
            ]
          },
          "metadata": {
            "tags": []
          },
          "execution_count": 6
        }
      ]
    },
    {
      "cell_type": "code",
      "metadata": {
        "id": "E0Z43pCD8gh_",
        "colab_type": "code",
        "outputId": "36ba226f-3c39-489f-9d8b-00aab781795c",
        "colab": {
          "base_uri": "https://localhost:8080/",
          "height": 102
        }
      },
      "source": [
        "in_txn.dtypes"
      ],
      "execution_count": 7,
      "outputs": [
        {
          "output_type": "execute_result",
          "data": {
            "text/plain": [
              "address                  object\n",
              "no_of_in_transactions     int64\n",
              "tot_ether_recieved       object\n",
              "tax_type                 object\n",
              "dtype: object"
            ]
          },
          "metadata": {
            "tags": []
          },
          "execution_count": 7
        }
      ]
    },
    {
      "cell_type": "code",
      "metadata": {
        "id": "KHRRve45U8YJ",
        "colab_type": "code",
        "outputId": "3fc6bc49-9afb-4f75-bc7f-4f5f97fab970",
        "colab": {
          "base_uri": "https://localhost:8080/",
          "height": 34
        }
      },
      "source": [
        "b_in_txn = pd.merge(in_txn, balance, on='address', how='inner')\n",
        "b_in_txn.shape"
      ],
      "execution_count": 8,
      "outputs": [
        {
          "output_type": "execute_result",
          "data": {
            "text/plain": [
              "(2207451, 5)"
            ]
          },
          "metadata": {
            "tags": []
          },
          "execution_count": 8
        }
      ]
    },
    {
      "cell_type": "code",
      "metadata": {
        "id": "ulI8kzR0WGbM",
        "colab_type": "code",
        "outputId": "f125bb5b-5ab9-45eb-eee5-430df459d6b8",
        "colab": {
          "base_uri": "https://localhost:8080/",
          "height": 204
        }
      },
      "source": [
        "b_in_txn.head(5)"
      ],
      "execution_count": 9,
      "outputs": [
        {
          "output_type": "execute_result",
          "data": {
            "text/html": [
              "<div>\n",
              "<style scoped>\n",
              "    .dataframe tbody tr th:only-of-type {\n",
              "        vertical-align: middle;\n",
              "    }\n",
              "\n",
              "    .dataframe tbody tr th {\n",
              "        vertical-align: top;\n",
              "    }\n",
              "\n",
              "    .dataframe thead th {\n",
              "        text-align: right;\n",
              "    }\n",
              "</style>\n",
              "<table border=\"1\" class=\"dataframe\">\n",
              "  <thead>\n",
              "    <tr style=\"text-align: right;\">\n",
              "      <th></th>\n",
              "      <th>address</th>\n",
              "      <th>no_of_in_transactions</th>\n",
              "      <th>tot_ether_recieved</th>\n",
              "      <th>tax_type</th>\n",
              "      <th>eth_balance</th>\n",
              "    </tr>\n",
              "  </thead>\n",
              "  <tbody>\n",
              "    <tr>\n",
              "      <th>0</th>\n",
              "      <td>0xd4f8e83864c80ea703dd148c78b937cbec200243</td>\n",
              "      <td>9</td>\n",
              "      <td>27000000000000000</td>\n",
              "      <td>IN</td>\n",
              "      <td>4750000000000000</td>\n",
              "    </tr>\n",
              "    <tr>\n",
              "      <th>1</th>\n",
              "      <td>0x2bbed5e19de4fef234845c9ccdddbbef7cd531ba</td>\n",
              "      <td>9</td>\n",
              "      <td>12175785825760000000</td>\n",
              "      <td>IN</td>\n",
              "      <td>4817282735760000000</td>\n",
              "    </tr>\n",
              "    <tr>\n",
              "      <th>2</th>\n",
              "      <td>0xd9052a62ee61eec200c1972aa2a19fa3d5396b6d</td>\n",
              "      <td>14</td>\n",
              "      <td>10342497563429364</td>\n",
              "      <td>IN</td>\n",
              "      <td>260871337972799</td>\n",
              "    </tr>\n",
              "    <tr>\n",
              "      <th>3</th>\n",
              "      <td>0xe6b4a32cc822980d652bb185b33db6be69d39a13</td>\n",
              "      <td>17</td>\n",
              "      <td>16776853680000000000</td>\n",
              "      <td>IN</td>\n",
              "      <td>853144014361925765</td>\n",
              "    </tr>\n",
              "    <tr>\n",
              "      <th>4</th>\n",
              "      <td>0x450fbad4690c9800bbd3b3bb7f051e6bfc886b62</td>\n",
              "      <td>12</td>\n",
              "      <td>2222479280000000000</td>\n",
              "      <td>IN</td>\n",
              "      <td>6944170000000000</td>\n",
              "    </tr>\n",
              "  </tbody>\n",
              "</table>\n",
              "</div>"
            ],
            "text/plain": [
              "                                      address  ...          eth_balance\n",
              "0  0xd4f8e83864c80ea703dd148c78b937cbec200243  ...     4750000000000000\n",
              "1  0x2bbed5e19de4fef234845c9ccdddbbef7cd531ba  ...  4817282735760000000\n",
              "2  0xd9052a62ee61eec200c1972aa2a19fa3d5396b6d  ...      260871337972799\n",
              "3  0xe6b4a32cc822980d652bb185b33db6be69d39a13  ...   853144014361925765\n",
              "4  0x450fbad4690c9800bbd3b3bb7f051e6bfc886b62  ...     6944170000000000\n",
              "\n",
              "[5 rows x 5 columns]"
            ]
          },
          "metadata": {
            "tags": []
          },
          "execution_count": 9
        }
      ]
    },
    {
      "cell_type": "code",
      "metadata": {
        "id": "eFOd98NVcpbv",
        "colab_type": "code",
        "outputId": "555a8f0e-ab54-45e3-abda-fef3ae20d2ba",
        "colab": {
          "base_uri": "https://localhost:8080/",
          "height": 204
        }
      },
      "source": [
        "out_txn.head(5)"
      ],
      "execution_count": 10,
      "outputs": [
        {
          "output_type": "execute_result",
          "data": {
            "text/html": [
              "<div>\n",
              "<style scoped>\n",
              "    .dataframe tbody tr th:only-of-type {\n",
              "        vertical-align: middle;\n",
              "    }\n",
              "\n",
              "    .dataframe tbody tr th {\n",
              "        vertical-align: top;\n",
              "    }\n",
              "\n",
              "    .dataframe thead th {\n",
              "        text-align: right;\n",
              "    }\n",
              "</style>\n",
              "<table border=\"1\" class=\"dataframe\">\n",
              "  <thead>\n",
              "    <tr style=\"text-align: right;\">\n",
              "      <th></th>\n",
              "      <th>address</th>\n",
              "      <th>no_of_out_transactions</th>\n",
              "      <th>tot_ether_sent</th>\n",
              "      <th>tax_type</th>\n",
              "    </tr>\n",
              "  </thead>\n",
              "  <tbody>\n",
              "    <tr>\n",
              "      <th>0</th>\n",
              "      <td>0xba78271348b5bd37230bd843b62961e90cdbda9f</td>\n",
              "      <td>34</td>\n",
              "      <td>17907454062000694163</td>\n",
              "      <td>OUT</td>\n",
              "    </tr>\n",
              "    <tr>\n",
              "      <th>1</th>\n",
              "      <td>0xcd17ac69a5eb4fe8d24845bd9e342293ea712cda</td>\n",
              "      <td>46</td>\n",
              "      <td>4453491431170630482</td>\n",
              "      <td>OUT</td>\n",
              "    </tr>\n",
              "    <tr>\n",
              "      <th>2</th>\n",
              "      <td>0x90df44d43bf6c7e640784689047799f6e07ae39f</td>\n",
              "      <td>109</td>\n",
              "      <td>81800000000000000000</td>\n",
              "      <td>OUT</td>\n",
              "    </tr>\n",
              "    <tr>\n",
              "      <th>3</th>\n",
              "      <td>0xaba068925478543558c208dfca6ed31a87d44885</td>\n",
              "      <td>39</td>\n",
              "      <td>4081887997541817934</td>\n",
              "      <td>OUT</td>\n",
              "    </tr>\n",
              "    <tr>\n",
              "      <th>4</th>\n",
              "      <td>0xe82967aeaad3ac6c3beb1b6fe28c2dcc6c71d44d</td>\n",
              "      <td>20</td>\n",
              "      <td>5477868000000000</td>\n",
              "      <td>OUT</td>\n",
              "    </tr>\n",
              "  </tbody>\n",
              "</table>\n",
              "</div>"
            ],
            "text/plain": [
              "                                      address  ...  tax_type\n",
              "0  0xba78271348b5bd37230bd843b62961e90cdbda9f  ...       OUT\n",
              "1  0xcd17ac69a5eb4fe8d24845bd9e342293ea712cda  ...       OUT\n",
              "2  0x90df44d43bf6c7e640784689047799f6e07ae39f  ...       OUT\n",
              "3  0xaba068925478543558c208dfca6ed31a87d44885  ...       OUT\n",
              "4  0xe82967aeaad3ac6c3beb1b6fe28c2dcc6c71d44d  ...       OUT\n",
              "\n",
              "[5 rows x 4 columns]"
            ]
          },
          "metadata": {
            "tags": []
          },
          "execution_count": 10
        }
      ]
    },
    {
      "cell_type": "code",
      "metadata": {
        "id": "bD-oMKAG8dJe",
        "colab_type": "code",
        "outputId": "8acf5065-6be1-4e2f-fb51-70a3d22c8bec",
        "colab": {
          "base_uri": "https://localhost:8080/",
          "height": 34
        }
      },
      "source": [
        "out_txn.shape"
      ],
      "execution_count": 11,
      "outputs": [
        {
          "output_type": "execute_result",
          "data": {
            "text/plain": [
              "(2290371, 4)"
            ]
          },
          "metadata": {
            "tags": []
          },
          "execution_count": 11
        }
      ]
    },
    {
      "cell_type": "code",
      "metadata": {
        "id": "SlFWVupl8ffY",
        "colab_type": "code",
        "outputId": "5b3d1e39-8f94-4af8-d62d-0ab5cdb58adc",
        "colab": {
          "base_uri": "https://localhost:8080/",
          "height": 102
        }
      },
      "source": [
        "out_txn.dtypes"
      ],
      "execution_count": 12,
      "outputs": [
        {
          "output_type": "execute_result",
          "data": {
            "text/plain": [
              "address                   object\n",
              "no_of_out_transactions     int64\n",
              "tot_ether_sent            object\n",
              "tax_type                  object\n",
              "dtype: object"
            ]
          },
          "metadata": {
            "tags": []
          },
          "execution_count": 12
        }
      ]
    },
    {
      "cell_type": "code",
      "metadata": {
        "id": "iCeMfSEX8mDb",
        "colab_type": "code",
        "outputId": "9d06b722-e0c4-4863-e2a1-4f9a82d5770e",
        "colab": {
          "base_uri": "https://localhost:8080/",
          "height": 34
        }
      },
      "source": [
        "in_out_txn = pd.merge(b_in_txn, out_txn, on='address', how='inner')\n",
        "in_out_txn.shape"
      ],
      "execution_count": 13,
      "outputs": [
        {
          "output_type": "execute_result",
          "data": {
            "text/plain": [
              "(2207451, 8)"
            ]
          },
          "metadata": {
            "tags": []
          },
          "execution_count": 13
        }
      ]
    },
    {
      "cell_type": "code",
      "metadata": {
        "id": "dh0PgZUuTc2-",
        "colab_type": "code",
        "outputId": "d804970f-7506-4a3a-b8ee-9067bf3cebea",
        "colab": {
          "base_uri": "https://localhost:8080/",
          "height": 170
        }
      },
      "source": [
        "in_out_txn.dtypes"
      ],
      "execution_count": 14,
      "outputs": [
        {
          "output_type": "execute_result",
          "data": {
            "text/plain": [
              "address                   object\n",
              "no_of_in_transactions      int64\n",
              "tot_ether_recieved        object\n",
              "tax_type_x                object\n",
              "eth_balance               object\n",
              "no_of_out_transactions     int64\n",
              "tot_ether_sent            object\n",
              "tax_type_y                object\n",
              "dtype: object"
            ]
          },
          "metadata": {
            "tags": []
          },
          "execution_count": 14
        }
      ]
    },
    {
      "cell_type": "code",
      "metadata": {
        "id": "v6o0dkmo8qJP",
        "colab_type": "code",
        "outputId": "43003e3e-8d64-4a0e-c9aa-c4a2c4332c7a",
        "colab": {
          "base_uri": "https://localhost:8080/",
          "height": 224
        }
      },
      "source": [
        "in_out_txn.head(5)"
      ],
      "execution_count": 15,
      "outputs": [
        {
          "output_type": "execute_result",
          "data": {
            "text/html": [
              "<div>\n",
              "<style scoped>\n",
              "    .dataframe tbody tr th:only-of-type {\n",
              "        vertical-align: middle;\n",
              "    }\n",
              "\n",
              "    .dataframe tbody tr th {\n",
              "        vertical-align: top;\n",
              "    }\n",
              "\n",
              "    .dataframe thead th {\n",
              "        text-align: right;\n",
              "    }\n",
              "</style>\n",
              "<table border=\"1\" class=\"dataframe\">\n",
              "  <thead>\n",
              "    <tr style=\"text-align: right;\">\n",
              "      <th></th>\n",
              "      <th>address</th>\n",
              "      <th>no_of_in_transactions</th>\n",
              "      <th>tot_ether_recieved</th>\n",
              "      <th>tax_type_x</th>\n",
              "      <th>eth_balance</th>\n",
              "      <th>no_of_out_transactions</th>\n",
              "      <th>tot_ether_sent</th>\n",
              "      <th>tax_type_y</th>\n",
              "    </tr>\n",
              "  </thead>\n",
              "  <tbody>\n",
              "    <tr>\n",
              "      <th>0</th>\n",
              "      <td>0xd4f8e83864c80ea703dd148c78b937cbec200243</td>\n",
              "      <td>9</td>\n",
              "      <td>27000000000000000</td>\n",
              "      <td>IN</td>\n",
              "      <td>4750000000000000</td>\n",
              "      <td>97</td>\n",
              "      <td>19448289831436946</td>\n",
              "      <td>OUT</td>\n",
              "    </tr>\n",
              "    <tr>\n",
              "      <th>1</th>\n",
              "      <td>0x2bbed5e19de4fef234845c9ccdddbbef7cd531ba</td>\n",
              "      <td>9</td>\n",
              "      <td>12175785825760000000</td>\n",
              "      <td>IN</td>\n",
              "      <td>4817282735760000000</td>\n",
              "      <td>4</td>\n",
              "      <td>7355983090000000000</td>\n",
              "      <td>OUT</td>\n",
              "    </tr>\n",
              "    <tr>\n",
              "      <th>2</th>\n",
              "      <td>0xd9052a62ee61eec200c1972aa2a19fa3d5396b6d</td>\n",
              "      <td>14</td>\n",
              "      <td>10342497563429364</td>\n",
              "      <td>IN</td>\n",
              "      <td>260871337972799</td>\n",
              "      <td>32</td>\n",
              "      <td>0</td>\n",
              "      <td>OUT</td>\n",
              "    </tr>\n",
              "    <tr>\n",
              "      <th>3</th>\n",
              "      <td>0xe6b4a32cc822980d652bb185b33db6be69d39a13</td>\n",
              "      <td>17</td>\n",
              "      <td>16776853680000000000</td>\n",
              "      <td>IN</td>\n",
              "      <td>853144014361925765</td>\n",
              "      <td>86</td>\n",
              "      <td>21009302000000000000</td>\n",
              "      <td>OUT</td>\n",
              "    </tr>\n",
              "    <tr>\n",
              "      <th>4</th>\n",
              "      <td>0x450fbad4690c9800bbd3b3bb7f051e6bfc886b62</td>\n",
              "      <td>12</td>\n",
              "      <td>2222479280000000000</td>\n",
              "      <td>IN</td>\n",
              "      <td>6944170000000000</td>\n",
              "      <td>10</td>\n",
              "      <td>2211335110000000000</td>\n",
              "      <td>OUT</td>\n",
              "    </tr>\n",
              "  </tbody>\n",
              "</table>\n",
              "</div>"
            ],
            "text/plain": [
              "                                      address  ...  tax_type_y\n",
              "0  0xd4f8e83864c80ea703dd148c78b937cbec200243  ...         OUT\n",
              "1  0x2bbed5e19de4fef234845c9ccdddbbef7cd531ba  ...         OUT\n",
              "2  0xd9052a62ee61eec200c1972aa2a19fa3d5396b6d  ...         OUT\n",
              "3  0xe6b4a32cc822980d652bb185b33db6be69d39a13  ...         OUT\n",
              "4  0x450fbad4690c9800bbd3b3bb7f051e6bfc886b62  ...         OUT\n",
              "\n",
              "[5 rows x 8 columns]"
            ]
          },
          "metadata": {
            "tags": []
          },
          "execution_count": 15
        }
      ]
    },
    {
      "cell_type": "code",
      "metadata": {
        "id": "vyfs5YG48tjg",
        "colab_type": "code",
        "colab": {}
      },
      "source": [
        "tokens_recieved = pd.read_csv('/content/gdrive/My Drive/project_data/tokens_recieved.csv')\n",
        "tokens_sent =pd.read_csv('/content/gdrive/My Drive/project_data/tokens_sent.csv')"
      ],
      "execution_count": 0,
      "outputs": []
    },
    {
      "cell_type": "code",
      "metadata": {
        "id": "A8rZryT0ctcS",
        "colab_type": "code",
        "outputId": "c4263b4a-c823-4cee-c89f-e513d8a8b3a5",
        "colab": {
          "base_uri": "https://localhost:8080/",
          "height": 204
        }
      },
      "source": [
        "tokens_recieved.head(5)"
      ],
      "execution_count": 18,
      "outputs": [
        {
          "output_type": "execute_result",
          "data": {
            "text/html": [
              "<div>\n",
              "<style scoped>\n",
              "    .dataframe tbody tr th:only-of-type {\n",
              "        vertical-align: middle;\n",
              "    }\n",
              "\n",
              "    .dataframe tbody tr th {\n",
              "        vertical-align: top;\n",
              "    }\n",
              "\n",
              "    .dataframe thead th {\n",
              "        text-align: right;\n",
              "    }\n",
              "</style>\n",
              "<table border=\"1\" class=\"dataframe\">\n",
              "  <thead>\n",
              "    <tr style=\"text-align: right;\">\n",
              "      <th></th>\n",
              "      <th>address</th>\n",
              "      <th>tot_distinct_tokens_recieved</th>\n",
              "      <th>tot_tokens_recieved</th>\n",
              "      <th>tot_token_value_recieved</th>\n",
              "    </tr>\n",
              "  </thead>\n",
              "  <tbody>\n",
              "    <tr>\n",
              "      <th>0</th>\n",
              "      <td>0xa3e925f3df663b773bae436892336fc5c14f5e59</td>\n",
              "      <td>1</td>\n",
              "      <td>336</td>\n",
              "      <td>1.218019e+11</td>\n",
              "    </tr>\n",
              "    <tr>\n",
              "      <th>1</th>\n",
              "      <td>0x70e80703d8600fed9e0866aca0ab5bed34c4ffab</td>\n",
              "      <td>1</td>\n",
              "      <td>168</td>\n",
              "      <td>3.250000e+02</td>\n",
              "    </tr>\n",
              "    <tr>\n",
              "      <th>2</th>\n",
              "      <td>0x9d576af2018d73db762f4fefc9604d38a2776454</td>\n",
              "      <td>164</td>\n",
              "      <td>190</td>\n",
              "      <td>1.969341e+25</td>\n",
              "    </tr>\n",
              "    <tr>\n",
              "      <th>3</th>\n",
              "      <td>0xdf1e02e9ef4a2a9cde52258b57e9a03aee807243</td>\n",
              "      <td>1</td>\n",
              "      <td>29</td>\n",
              "      <td>3.356415e+10</td>\n",
              "    </tr>\n",
              "    <tr>\n",
              "      <th>4</th>\n",
              "      <td>0xb74d572e48fbce9c4f850e364c1f7e26e2f5ddcc</td>\n",
              "      <td>97</td>\n",
              "      <td>108</td>\n",
              "      <td>2.423140e+20</td>\n",
              "    </tr>\n",
              "  </tbody>\n",
              "</table>\n",
              "</div>"
            ],
            "text/plain": [
              "                                      address  ...  tot_token_value_recieved\n",
              "0  0xa3e925f3df663b773bae436892336fc5c14f5e59  ...              1.218019e+11\n",
              "1  0x70e80703d8600fed9e0866aca0ab5bed34c4ffab  ...              3.250000e+02\n",
              "2  0x9d576af2018d73db762f4fefc9604d38a2776454  ...              1.969341e+25\n",
              "3  0xdf1e02e9ef4a2a9cde52258b57e9a03aee807243  ...              3.356415e+10\n",
              "4  0xb74d572e48fbce9c4f850e364c1f7e26e2f5ddcc  ...              2.423140e+20\n",
              "\n",
              "[5 rows x 4 columns]"
            ]
          },
          "metadata": {
            "tags": []
          },
          "execution_count": 18
        }
      ]
    },
    {
      "cell_type": "code",
      "metadata": {
        "id": "nlCK6QrZHFA4",
        "colab_type": "code",
        "outputId": "8e09868e-09b7-4161-adf2-26f4afb160be",
        "colab": {
          "base_uri": "https://localhost:8080/",
          "height": 119
        }
      },
      "source": [
        "print(tokens_recieved.shape)\n",
        "print(tokens_recieved.dtypes)"
      ],
      "execution_count": 19,
      "outputs": [
        {
          "output_type": "stream",
          "text": [
            "(935362, 4)\n",
            "address                          object\n",
            "tot_distinct_tokens_recieved      int64\n",
            "tot_tokens_recieved               int64\n",
            "tot_token_value_recieved        float64\n",
            "dtype: object\n"
          ],
          "name": "stdout"
        }
      ]
    },
    {
      "cell_type": "code",
      "metadata": {
        "id": "vVt3ZZwicxAR",
        "colab_type": "code",
        "outputId": "023ba026-2cc9-4b8f-eebb-f1ccd086d30e",
        "colab": {
          "base_uri": "https://localhost:8080/",
          "height": 204
        }
      },
      "source": [
        "tokens_sent.head(5)"
      ],
      "execution_count": 20,
      "outputs": [
        {
          "output_type": "execute_result",
          "data": {
            "text/html": [
              "<div>\n",
              "<style scoped>\n",
              "    .dataframe tbody tr th:only-of-type {\n",
              "        vertical-align: middle;\n",
              "    }\n",
              "\n",
              "    .dataframe tbody tr th {\n",
              "        vertical-align: top;\n",
              "    }\n",
              "\n",
              "    .dataframe thead th {\n",
              "        text-align: right;\n",
              "    }\n",
              "</style>\n",
              "<table border=\"1\" class=\"dataframe\">\n",
              "  <thead>\n",
              "    <tr style=\"text-align: right;\">\n",
              "      <th></th>\n",
              "      <th>address</th>\n",
              "      <th>tot_distinct_tokens_sent</th>\n",
              "      <th>tot_tokens_sent</th>\n",
              "      <th>tot_token_value_sent</th>\n",
              "    </tr>\n",
              "  </thead>\n",
              "  <tbody>\n",
              "    <tr>\n",
              "      <th>0</th>\n",
              "      <td>0x0084a9ae7f74f6dc6bd294f4950663a447adf986</td>\n",
              "      <td>1</td>\n",
              "      <td>515</td>\n",
              "      <td>1.258165e+15</td>\n",
              "    </tr>\n",
              "    <tr>\n",
              "      <th>1</th>\n",
              "      <td>0x9477556cd799d28bfa6b4d377c3e4fa0ff7562c4</td>\n",
              "      <td>1</td>\n",
              "      <td>28</td>\n",
              "      <td>1.231724e+22</td>\n",
              "    </tr>\n",
              "    <tr>\n",
              "      <th>2</th>\n",
              "      <td>0x773a858b631fb7511767db57f2d3ee5181fceb5b</td>\n",
              "      <td>1</td>\n",
              "      <td>68</td>\n",
              "      <td>7.560304e+22</td>\n",
              "    </tr>\n",
              "    <tr>\n",
              "      <th>3</th>\n",
              "      <td>0x372b42ecfd29057f9f1a4301351338596d564a85</td>\n",
              "      <td>1</td>\n",
              "      <td>30</td>\n",
              "      <td>1.877333e+11</td>\n",
              "    </tr>\n",
              "    <tr>\n",
              "      <th>4</th>\n",
              "      <td>0x9aa63bdcff4b0e8a76077768d6b2188811d89b12</td>\n",
              "      <td>1</td>\n",
              "      <td>20</td>\n",
              "      <td>3.431000e+22</td>\n",
              "    </tr>\n",
              "  </tbody>\n",
              "</table>\n",
              "</div>"
            ],
            "text/plain": [
              "                                      address  ...  tot_token_value_sent\n",
              "0  0x0084a9ae7f74f6dc6bd294f4950663a447adf986  ...          1.258165e+15\n",
              "1  0x9477556cd799d28bfa6b4d377c3e4fa0ff7562c4  ...          1.231724e+22\n",
              "2  0x773a858b631fb7511767db57f2d3ee5181fceb5b  ...          7.560304e+22\n",
              "3  0x372b42ecfd29057f9f1a4301351338596d564a85  ...          1.877333e+11\n",
              "4  0x9aa63bdcff4b0e8a76077768d6b2188811d89b12  ...          3.431000e+22\n",
              "\n",
              "[5 rows x 4 columns]"
            ]
          },
          "metadata": {
            "tags": []
          },
          "execution_count": 20
        }
      ]
    },
    {
      "cell_type": "code",
      "metadata": {
        "id": "OwhZ7Z9nHPus",
        "colab_type": "code",
        "outputId": "943e69e3-6086-4315-c0b2-96bbd3f7b643",
        "colab": {
          "base_uri": "https://localhost:8080/",
          "height": 119
        }
      },
      "source": [
        "print(tokens_sent.shape)\n",
        "print(tokens_sent.dtypes)"
      ],
      "execution_count": 21,
      "outputs": [
        {
          "output_type": "stream",
          "text": [
            "(793284, 4)\n",
            "address                      object\n",
            "tot_distinct_tokens_sent      int64\n",
            "tot_tokens_sent               int64\n",
            "tot_token_value_sent        float64\n",
            "dtype: object\n"
          ],
          "name": "stdout"
        }
      ]
    },
    {
      "cell_type": "code",
      "metadata": {
        "id": "zZkkMfHHGYai",
        "colab_type": "code",
        "outputId": "9fd4bf80-01c3-41d6-80b4-9a21477307a5",
        "colab": {
          "base_uri": "https://localhost:8080/",
          "height": 34
        }
      },
      "source": [
        "in_out_token_sent = pd.merge(in_out_txn,tokens_recieved, on='address', how='inner')\n",
        "in_out_token_sent.shape"
      ],
      "execution_count": 22,
      "outputs": [
        {
          "output_type": "execute_result",
          "data": {
            "text/plain": [
              "(935362, 11)"
            ]
          },
          "metadata": {
            "tags": []
          },
          "execution_count": 22
        }
      ]
    },
    {
      "cell_type": "code",
      "metadata": {
        "id": "PhxkkwAeTnkd",
        "colab_type": "code",
        "outputId": "707a2052-d2fd-4c20-87a4-ff13b3072058",
        "colab": {
          "base_uri": "https://localhost:8080/",
          "height": 221
        }
      },
      "source": [
        "in_out_token_sent.dtypes"
      ],
      "execution_count": 23,
      "outputs": [
        {
          "output_type": "execute_result",
          "data": {
            "text/plain": [
              "address                          object\n",
              "no_of_in_transactions             int64\n",
              "tot_ether_recieved               object\n",
              "tax_type_x                       object\n",
              "eth_balance                      object\n",
              "no_of_out_transactions            int64\n",
              "tot_ether_sent                   object\n",
              "tax_type_y                       object\n",
              "tot_distinct_tokens_recieved      int64\n",
              "tot_tokens_recieved               int64\n",
              "tot_token_value_recieved        float64\n",
              "dtype: object"
            ]
          },
          "metadata": {
            "tags": []
          },
          "execution_count": 23
        }
      ]
    },
    {
      "cell_type": "code",
      "metadata": {
        "id": "xUKR_A9bH1Rl",
        "colab_type": "code",
        "outputId": "8d62a48d-2d26-49ca-ddc7-eb70475e7596",
        "colab": {
          "base_uri": "https://localhost:8080/",
          "height": 224
        }
      },
      "source": [
        "in_out_token_sent.head(5)"
      ],
      "execution_count": 24,
      "outputs": [
        {
          "output_type": "execute_result",
          "data": {
            "text/html": [
              "<div>\n",
              "<style scoped>\n",
              "    .dataframe tbody tr th:only-of-type {\n",
              "        vertical-align: middle;\n",
              "    }\n",
              "\n",
              "    .dataframe tbody tr th {\n",
              "        vertical-align: top;\n",
              "    }\n",
              "\n",
              "    .dataframe thead th {\n",
              "        text-align: right;\n",
              "    }\n",
              "</style>\n",
              "<table border=\"1\" class=\"dataframe\">\n",
              "  <thead>\n",
              "    <tr style=\"text-align: right;\">\n",
              "      <th></th>\n",
              "      <th>address</th>\n",
              "      <th>no_of_in_transactions</th>\n",
              "      <th>tot_ether_recieved</th>\n",
              "      <th>tax_type_x</th>\n",
              "      <th>eth_balance</th>\n",
              "      <th>no_of_out_transactions</th>\n",
              "      <th>tot_ether_sent</th>\n",
              "      <th>tax_type_y</th>\n",
              "      <th>tot_distinct_tokens_recieved</th>\n",
              "      <th>tot_tokens_recieved</th>\n",
              "      <th>tot_token_value_recieved</th>\n",
              "    </tr>\n",
              "  </thead>\n",
              "  <tbody>\n",
              "    <tr>\n",
              "      <th>0</th>\n",
              "      <td>0xd4f8e83864c80ea703dd148c78b937cbec200243</td>\n",
              "      <td>9</td>\n",
              "      <td>27000000000000000</td>\n",
              "      <td>IN</td>\n",
              "      <td>4750000000000000</td>\n",
              "      <td>97</td>\n",
              "      <td>19448289831436946</td>\n",
              "      <td>OUT</td>\n",
              "      <td>1</td>\n",
              "      <td>32</td>\n",
              "      <td>9.393942e+06</td>\n",
              "    </tr>\n",
              "    <tr>\n",
              "      <th>1</th>\n",
              "      <td>0x2bbed5e19de4fef234845c9ccdddbbef7cd531ba</td>\n",
              "      <td>9</td>\n",
              "      <td>12175785825760000000</td>\n",
              "      <td>IN</td>\n",
              "      <td>4817282735760000000</td>\n",
              "      <td>4</td>\n",
              "      <td>7355983090000000000</td>\n",
              "      <td>OUT</td>\n",
              "      <td>1</td>\n",
              "      <td>1</td>\n",
              "      <td>8.888880e+13</td>\n",
              "    </tr>\n",
              "    <tr>\n",
              "      <th>2</th>\n",
              "      <td>0xd9052a62ee61eec200c1972aa2a19fa3d5396b6d</td>\n",
              "      <td>14</td>\n",
              "      <td>10342497563429364</td>\n",
              "      <td>IN</td>\n",
              "      <td>260871337972799</td>\n",
              "      <td>32</td>\n",
              "      <td>0</td>\n",
              "      <td>OUT</td>\n",
              "      <td>1</td>\n",
              "      <td>32</td>\n",
              "      <td>1.870353e+11</td>\n",
              "    </tr>\n",
              "    <tr>\n",
              "      <th>3</th>\n",
              "      <td>0xe6b4a32cc822980d652bb185b33db6be69d39a13</td>\n",
              "      <td>17</td>\n",
              "      <td>16776853680000000000</td>\n",
              "      <td>IN</td>\n",
              "      <td>853144014361925765</td>\n",
              "      <td>86</td>\n",
              "      <td>21009302000000000000</td>\n",
              "      <td>OUT</td>\n",
              "      <td>15</td>\n",
              "      <td>20</td>\n",
              "      <td>4.639691e+22</td>\n",
              "    </tr>\n",
              "    <tr>\n",
              "      <th>4</th>\n",
              "      <td>0x9f265a9675dea8f97139015f62c84af1f6d687ae</td>\n",
              "      <td>15</td>\n",
              "      <td>2100000000000000000</td>\n",
              "      <td>IN</td>\n",
              "      <td>634062000000000</td>\n",
              "      <td>3</td>\n",
              "      <td>2099000000000000000</td>\n",
              "      <td>OUT</td>\n",
              "      <td>3</td>\n",
              "      <td>3</td>\n",
              "      <td>2.000000e+20</td>\n",
              "    </tr>\n",
              "  </tbody>\n",
              "</table>\n",
              "</div>"
            ],
            "text/plain": [
              "                                      address  ...  tot_token_value_recieved\n",
              "0  0xd4f8e83864c80ea703dd148c78b937cbec200243  ...              9.393942e+06\n",
              "1  0x2bbed5e19de4fef234845c9ccdddbbef7cd531ba  ...              8.888880e+13\n",
              "2  0xd9052a62ee61eec200c1972aa2a19fa3d5396b6d  ...              1.870353e+11\n",
              "3  0xe6b4a32cc822980d652bb185b33db6be69d39a13  ...              4.639691e+22\n",
              "4  0x9f265a9675dea8f97139015f62c84af1f6d687ae  ...              2.000000e+20\n",
              "\n",
              "[5 rows x 11 columns]"
            ]
          },
          "metadata": {
            "tags": []
          },
          "execution_count": 24
        }
      ]
    },
    {
      "cell_type": "code",
      "metadata": {
        "id": "sVCOVaOoG8pD",
        "colab_type": "code",
        "outputId": "4fb9ddfb-9b3e-437a-a1a2-c2249006b0a9",
        "colab": {
          "base_uri": "https://localhost:8080/",
          "height": 34
        }
      },
      "source": [
        "data1 = pd.merge(in_out_token_sent,tokens_sent, on='address', how='inner')\n",
        "data1.shape"
      ],
      "execution_count": 25,
      "outputs": [
        {
          "output_type": "execute_result",
          "data": {
            "text/plain": [
              "(776499, 14)"
            ]
          },
          "metadata": {
            "tags": []
          },
          "execution_count": 25
        }
      ]
    },
    {
      "cell_type": "code",
      "metadata": {
        "id": "6oveoTO-IJZz",
        "colab_type": "code",
        "outputId": "6ec8076e-ff73-4b65-92bd-7a303e7e2106",
        "colab": {
          "base_uri": "https://localhost:8080/",
          "height": 224
        }
      },
      "source": [
        "data1.head(5)"
      ],
      "execution_count": 26,
      "outputs": [
        {
          "output_type": "execute_result",
          "data": {
            "text/html": [
              "<div>\n",
              "<style scoped>\n",
              "    .dataframe tbody tr th:only-of-type {\n",
              "        vertical-align: middle;\n",
              "    }\n",
              "\n",
              "    .dataframe tbody tr th {\n",
              "        vertical-align: top;\n",
              "    }\n",
              "\n",
              "    .dataframe thead th {\n",
              "        text-align: right;\n",
              "    }\n",
              "</style>\n",
              "<table border=\"1\" class=\"dataframe\">\n",
              "  <thead>\n",
              "    <tr style=\"text-align: right;\">\n",
              "      <th></th>\n",
              "      <th>address</th>\n",
              "      <th>no_of_in_transactions</th>\n",
              "      <th>tot_ether_recieved</th>\n",
              "      <th>tax_type_x</th>\n",
              "      <th>eth_balance</th>\n",
              "      <th>no_of_out_transactions</th>\n",
              "      <th>tot_ether_sent</th>\n",
              "      <th>tax_type_y</th>\n",
              "      <th>tot_distinct_tokens_recieved</th>\n",
              "      <th>tot_tokens_recieved</th>\n",
              "      <th>tot_token_value_recieved</th>\n",
              "      <th>tot_distinct_tokens_sent</th>\n",
              "      <th>tot_tokens_sent</th>\n",
              "      <th>tot_token_value_sent</th>\n",
              "    </tr>\n",
              "  </thead>\n",
              "  <tbody>\n",
              "    <tr>\n",
              "      <th>0</th>\n",
              "      <td>0xd4f8e83864c80ea703dd148c78b937cbec200243</td>\n",
              "      <td>9</td>\n",
              "      <td>27000000000000000</td>\n",
              "      <td>IN</td>\n",
              "      <td>4750000000000000</td>\n",
              "      <td>97</td>\n",
              "      <td>19448289831436946</td>\n",
              "      <td>OUT</td>\n",
              "      <td>1</td>\n",
              "      <td>32</td>\n",
              "      <td>9.393942e+06</td>\n",
              "      <td>1</td>\n",
              "      <td>32</td>\n",
              "      <td>9.393942e+06</td>\n",
              "    </tr>\n",
              "    <tr>\n",
              "      <th>1</th>\n",
              "      <td>0xd9052a62ee61eec200c1972aa2a19fa3d5396b6d</td>\n",
              "      <td>14</td>\n",
              "      <td>10342497563429364</td>\n",
              "      <td>IN</td>\n",
              "      <td>260871337972799</td>\n",
              "      <td>32</td>\n",
              "      <td>0</td>\n",
              "      <td>OUT</td>\n",
              "      <td>1</td>\n",
              "      <td>32</td>\n",
              "      <td>1.870353e+11</td>\n",
              "      <td>1</td>\n",
              "      <td>32</td>\n",
              "      <td>1.870353e+11</td>\n",
              "    </tr>\n",
              "    <tr>\n",
              "      <th>2</th>\n",
              "      <td>0xe6b4a32cc822980d652bb185b33db6be69d39a13</td>\n",
              "      <td>17</td>\n",
              "      <td>16776853680000000000</td>\n",
              "      <td>IN</td>\n",
              "      <td>853144014361925765</td>\n",
              "      <td>86</td>\n",
              "      <td>21009302000000000000</td>\n",
              "      <td>OUT</td>\n",
              "      <td>15</td>\n",
              "      <td>20</td>\n",
              "      <td>4.639691e+22</td>\n",
              "      <td>5</td>\n",
              "      <td>9</td>\n",
              "      <td>4.260856e+22</td>\n",
              "    </tr>\n",
              "    <tr>\n",
              "      <th>3</th>\n",
              "      <td>0x9f265a9675dea8f97139015f62c84af1f6d687ae</td>\n",
              "      <td>15</td>\n",
              "      <td>2100000000000000000</td>\n",
              "      <td>IN</td>\n",
              "      <td>634062000000000</td>\n",
              "      <td>3</td>\n",
              "      <td>2099000000000000000</td>\n",
              "      <td>OUT</td>\n",
              "      <td>3</td>\n",
              "      <td>3</td>\n",
              "      <td>2.000000e+20</td>\n",
              "      <td>2</td>\n",
              "      <td>2</td>\n",
              "      <td>2.000000e+20</td>\n",
              "    </tr>\n",
              "    <tr>\n",
              "      <th>4</th>\n",
              "      <td>0xbad9298ef9a0c40ed1fb299a5e42269589aa15af</td>\n",
              "      <td>142</td>\n",
              "      <td>17850287239292549380</td>\n",
              "      <td>IN</td>\n",
              "      <td>10780000000000000</td>\n",
              "      <td>57</td>\n",
              "      <td>17813824239292549380</td>\n",
              "      <td>OUT</td>\n",
              "      <td>2</td>\n",
              "      <td>2</td>\n",
              "      <td>3.000000e+18</td>\n",
              "      <td>1</td>\n",
              "      <td>1</td>\n",
              "      <td>1.000000e+20</td>\n",
              "    </tr>\n",
              "  </tbody>\n",
              "</table>\n",
              "</div>"
            ],
            "text/plain": [
              "                                      address  ...  tot_token_value_sent\n",
              "0  0xd4f8e83864c80ea703dd148c78b937cbec200243  ...          9.393942e+06\n",
              "1  0xd9052a62ee61eec200c1972aa2a19fa3d5396b6d  ...          1.870353e+11\n",
              "2  0xe6b4a32cc822980d652bb185b33db6be69d39a13  ...          4.260856e+22\n",
              "3  0x9f265a9675dea8f97139015f62c84af1f6d687ae  ...          2.000000e+20\n",
              "4  0xbad9298ef9a0c40ed1fb299a5e42269589aa15af  ...          1.000000e+20\n",
              "\n",
              "[5 rows x 14 columns]"
            ]
          },
          "metadata": {
            "tags": []
          },
          "execution_count": 26
        }
      ]
    },
    {
      "cell_type": "code",
      "metadata": {
        "id": "9Pcijkz3plUS",
        "colab_type": "code",
        "colab": {}
      },
      "source": [
        "time_in = pd.read_csv('/content/gdrive/My Drive/project_data/time_bw_in.csv')"
      ],
      "execution_count": 0,
      "outputs": []
    },
    {
      "cell_type": "code",
      "metadata": {
        "id": "dizVjLKJNG8o",
        "colab_type": "code",
        "outputId": "a4c85449-8903-424e-9ddf-0a97dfa2d6bd",
        "colab": {
          "base_uri": "https://localhost:8080/",
          "height": 289
        }
      },
      "source": [
        "print(time_in.shape)\n",
        "print(time_in.dtypes)\n",
        "time_in.head(5)"
      ],
      "execution_count": 28,
      "outputs": [
        {
          "output_type": "stream",
          "text": [
            "(2207451, 3)\n",
            "address                  object\n",
            "no_of_in_transactions     int64\n",
            "total_count               int64\n",
            "dtype: object\n"
          ],
          "name": "stdout"
        },
        {
          "output_type": "execute_result",
          "data": {
            "text/html": [
              "<div>\n",
              "<style scoped>\n",
              "    .dataframe tbody tr th:only-of-type {\n",
              "        vertical-align: middle;\n",
              "    }\n",
              "\n",
              "    .dataframe tbody tr th {\n",
              "        vertical-align: top;\n",
              "    }\n",
              "\n",
              "    .dataframe thead th {\n",
              "        text-align: right;\n",
              "    }\n",
              "</style>\n",
              "<table border=\"1\" class=\"dataframe\">\n",
              "  <thead>\n",
              "    <tr style=\"text-align: right;\">\n",
              "      <th></th>\n",
              "      <th>address</th>\n",
              "      <th>no_of_in_transactions</th>\n",
              "      <th>total_count</th>\n",
              "    </tr>\n",
              "  </thead>\n",
              "  <tbody>\n",
              "    <tr>\n",
              "      <th>0</th>\n",
              "      <td>0x5f4e3da6123d301ccee4c79bfcc3be5f782430cb</td>\n",
              "      <td>81390815</td>\n",
              "      <td>525</td>\n",
              "    </tr>\n",
              "    <tr>\n",
              "      <th>1</th>\n",
              "      <td>0x666688760f7f4a2a8103b6fdf49fd116d52167cd</td>\n",
              "      <td>64352633</td>\n",
              "      <td>452</td>\n",
              "    </tr>\n",
              "    <tr>\n",
              "      <th>2</th>\n",
              "      <td>0xa9aabf6a92acf0d4283b165716c5eebaffd76c84</td>\n",
              "      <td>18850105</td>\n",
              "      <td>63</td>\n",
              "    </tr>\n",
              "    <tr>\n",
              "      <th>3</th>\n",
              "      <td>0xf9dc3e594609d3cffbc6e4f8d9f5ec2939dc9450</td>\n",
              "      <td>39227078</td>\n",
              "      <td>271</td>\n",
              "    </tr>\n",
              "    <tr>\n",
              "      <th>4</th>\n",
              "      <td>0x19eb761ffdbe392433c014667a4023cfb546f17e</td>\n",
              "      <td>8878510</td>\n",
              "      <td>14</td>\n",
              "    </tr>\n",
              "  </tbody>\n",
              "</table>\n",
              "</div>"
            ],
            "text/plain": [
              "                                      address  ...  total_count\n",
              "0  0x5f4e3da6123d301ccee4c79bfcc3be5f782430cb  ...          525\n",
              "1  0x666688760f7f4a2a8103b6fdf49fd116d52167cd  ...          452\n",
              "2  0xa9aabf6a92acf0d4283b165716c5eebaffd76c84  ...           63\n",
              "3  0xf9dc3e594609d3cffbc6e4f8d9f5ec2939dc9450  ...          271\n",
              "4  0x19eb761ffdbe392433c014667a4023cfb546f17e  ...           14\n",
              "\n",
              "[5 rows x 3 columns]"
            ]
          },
          "metadata": {
            "tags": []
          },
          "execution_count": 28
        }
      ]
    },
    {
      "cell_type": "code",
      "metadata": {
        "id": "-cGV56LkRETR",
        "colab_type": "code",
        "outputId": "b4fe3d73-223e-4019-b08a-c2c1ad4d758e",
        "colab": {
          "base_uri": "https://localhost:8080/",
          "height": 204
        }
      },
      "source": [
        "time_in['time_b/w_in_txn'] = time_in['no_of_in_transactions']/time_in['total_count']\n",
        "time_in.head(5)"
      ],
      "execution_count": 29,
      "outputs": [
        {
          "output_type": "execute_result",
          "data": {
            "text/html": [
              "<div>\n",
              "<style scoped>\n",
              "    .dataframe tbody tr th:only-of-type {\n",
              "        vertical-align: middle;\n",
              "    }\n",
              "\n",
              "    .dataframe tbody tr th {\n",
              "        vertical-align: top;\n",
              "    }\n",
              "\n",
              "    .dataframe thead th {\n",
              "        text-align: right;\n",
              "    }\n",
              "</style>\n",
              "<table border=\"1\" class=\"dataframe\">\n",
              "  <thead>\n",
              "    <tr style=\"text-align: right;\">\n",
              "      <th></th>\n",
              "      <th>address</th>\n",
              "      <th>no_of_in_transactions</th>\n",
              "      <th>total_count</th>\n",
              "      <th>time_b/w_in_txn</th>\n",
              "    </tr>\n",
              "  </thead>\n",
              "  <tbody>\n",
              "    <tr>\n",
              "      <th>0</th>\n",
              "      <td>0x5f4e3da6123d301ccee4c79bfcc3be5f782430cb</td>\n",
              "      <td>81390815</td>\n",
              "      <td>525</td>\n",
              "      <td>155030.123810</td>\n",
              "    </tr>\n",
              "    <tr>\n",
              "      <th>1</th>\n",
              "      <td>0x666688760f7f4a2a8103b6fdf49fd116d52167cd</td>\n",
              "      <td>64352633</td>\n",
              "      <td>452</td>\n",
              "      <td>142373.081858</td>\n",
              "    </tr>\n",
              "    <tr>\n",
              "      <th>2</th>\n",
              "      <td>0xa9aabf6a92acf0d4283b165716c5eebaffd76c84</td>\n",
              "      <td>18850105</td>\n",
              "      <td>63</td>\n",
              "      <td>299208.015873</td>\n",
              "    </tr>\n",
              "    <tr>\n",
              "      <th>3</th>\n",
              "      <td>0xf9dc3e594609d3cffbc6e4f8d9f5ec2939dc9450</td>\n",
              "      <td>39227078</td>\n",
              "      <td>271</td>\n",
              "      <td>144749.365314</td>\n",
              "    </tr>\n",
              "    <tr>\n",
              "      <th>4</th>\n",
              "      <td>0x19eb761ffdbe392433c014667a4023cfb546f17e</td>\n",
              "      <td>8878510</td>\n",
              "      <td>14</td>\n",
              "      <td>634179.285714</td>\n",
              "    </tr>\n",
              "  </tbody>\n",
              "</table>\n",
              "</div>"
            ],
            "text/plain": [
              "                                      address  ...  time_b/w_in_txn\n",
              "0  0x5f4e3da6123d301ccee4c79bfcc3be5f782430cb  ...    155030.123810\n",
              "1  0x666688760f7f4a2a8103b6fdf49fd116d52167cd  ...    142373.081858\n",
              "2  0xa9aabf6a92acf0d4283b165716c5eebaffd76c84  ...    299208.015873\n",
              "3  0xf9dc3e594609d3cffbc6e4f8d9f5ec2939dc9450  ...    144749.365314\n",
              "4  0x19eb761ffdbe392433c014667a4023cfb546f17e  ...    634179.285714\n",
              "\n",
              "[5 rows x 4 columns]"
            ]
          },
          "metadata": {
            "tags": []
          },
          "execution_count": 29
        }
      ]
    },
    {
      "cell_type": "code",
      "metadata": {
        "id": "UvSYFu1VXfUd",
        "colab_type": "code",
        "colab": {}
      },
      "source": [
        "time_in = time_in.drop('no_of_in_transactions',axis=1)\n",
        "time_in = time_in.drop('total_count',axis=1)"
      ],
      "execution_count": 0,
      "outputs": []
    },
    {
      "cell_type": "code",
      "metadata": {
        "id": "zakkRr5JRQKW",
        "colab_type": "code",
        "outputId": "d53e5b50-44ff-471d-81c4-1f624c14548f",
        "colab": {
          "base_uri": "https://localhost:8080/",
          "height": 68
        }
      },
      "source": [
        "time_in.isna().sum()"
      ],
      "execution_count": 31,
      "outputs": [
        {
          "output_type": "execute_result",
          "data": {
            "text/plain": [
              "address            0\n",
              "time_b/w_in_txn    0\n",
              "dtype: int64"
            ]
          },
          "metadata": {
            "tags": []
          },
          "execution_count": 31
        }
      ]
    },
    {
      "cell_type": "code",
      "metadata": {
        "id": "khBEswwnqK5L",
        "colab_type": "code",
        "outputId": "7f91cb83-5c2a-4a24-e166-b8689eece14f",
        "colab": {
          "base_uri": "https://localhost:8080/",
          "height": 34
        }
      },
      "source": [
        "data2 = pd.merge(data1,time_in, on='address',how='inner')\n",
        "data2.shape"
      ],
      "execution_count": 32,
      "outputs": [
        {
          "output_type": "execute_result",
          "data": {
            "text/plain": [
              "(776499, 15)"
            ]
          },
          "metadata": {
            "tags": []
          },
          "execution_count": 32
        }
      ]
    },
    {
      "cell_type": "code",
      "metadata": {
        "id": "LdKbQY6IYEc-",
        "colab_type": "code",
        "outputId": "dd2de8d6-29ff-401e-e493-11df336c5250",
        "colab": {
          "base_uri": "https://localhost:8080/",
          "height": 224
        }
      },
      "source": [
        "data2.head(5)"
      ],
      "execution_count": 33,
      "outputs": [
        {
          "output_type": "execute_result",
          "data": {
            "text/html": [
              "<div>\n",
              "<style scoped>\n",
              "    .dataframe tbody tr th:only-of-type {\n",
              "        vertical-align: middle;\n",
              "    }\n",
              "\n",
              "    .dataframe tbody tr th {\n",
              "        vertical-align: top;\n",
              "    }\n",
              "\n",
              "    .dataframe thead th {\n",
              "        text-align: right;\n",
              "    }\n",
              "</style>\n",
              "<table border=\"1\" class=\"dataframe\">\n",
              "  <thead>\n",
              "    <tr style=\"text-align: right;\">\n",
              "      <th></th>\n",
              "      <th>address</th>\n",
              "      <th>no_of_in_transactions</th>\n",
              "      <th>tot_ether_recieved</th>\n",
              "      <th>tax_type_x</th>\n",
              "      <th>eth_balance</th>\n",
              "      <th>no_of_out_transactions</th>\n",
              "      <th>tot_ether_sent</th>\n",
              "      <th>tax_type_y</th>\n",
              "      <th>tot_distinct_tokens_recieved</th>\n",
              "      <th>tot_tokens_recieved</th>\n",
              "      <th>tot_token_value_recieved</th>\n",
              "      <th>tot_distinct_tokens_sent</th>\n",
              "      <th>tot_tokens_sent</th>\n",
              "      <th>tot_token_value_sent</th>\n",
              "      <th>time_b/w_in_txn</th>\n",
              "    </tr>\n",
              "  </thead>\n",
              "  <tbody>\n",
              "    <tr>\n",
              "      <th>0</th>\n",
              "      <td>0xd4f8e83864c80ea703dd148c78b937cbec200243</td>\n",
              "      <td>9</td>\n",
              "      <td>27000000000000000</td>\n",
              "      <td>IN</td>\n",
              "      <td>4750000000000000</td>\n",
              "      <td>97</td>\n",
              "      <td>19448289831436946</td>\n",
              "      <td>OUT</td>\n",
              "      <td>1</td>\n",
              "      <td>32</td>\n",
              "      <td>9.393942e+06</td>\n",
              "      <td>1</td>\n",
              "      <td>32</td>\n",
              "      <td>9.393942e+06</td>\n",
              "      <td>1.156452e+05</td>\n",
              "    </tr>\n",
              "    <tr>\n",
              "      <th>1</th>\n",
              "      <td>0xd9052a62ee61eec200c1972aa2a19fa3d5396b6d</td>\n",
              "      <td>14</td>\n",
              "      <td>10342497563429364</td>\n",
              "      <td>IN</td>\n",
              "      <td>260871337972799</td>\n",
              "      <td>32</td>\n",
              "      <td>0</td>\n",
              "      <td>OUT</td>\n",
              "      <td>1</td>\n",
              "      <td>32</td>\n",
              "      <td>1.870353e+11</td>\n",
              "      <td>1</td>\n",
              "      <td>32</td>\n",
              "      <td>1.870353e+11</td>\n",
              "      <td>1.042143e+06</td>\n",
              "    </tr>\n",
              "    <tr>\n",
              "      <th>2</th>\n",
              "      <td>0xe6b4a32cc822980d652bb185b33db6be69d39a13</td>\n",
              "      <td>17</td>\n",
              "      <td>16776853680000000000</td>\n",
              "      <td>IN</td>\n",
              "      <td>853144014361925765</td>\n",
              "      <td>86</td>\n",
              "      <td>21009302000000000000</td>\n",
              "      <td>OUT</td>\n",
              "      <td>15</td>\n",
              "      <td>20</td>\n",
              "      <td>4.639691e+22</td>\n",
              "      <td>5</td>\n",
              "      <td>9</td>\n",
              "      <td>4.260856e+22</td>\n",
              "      <td>1.320557e+06</td>\n",
              "    </tr>\n",
              "    <tr>\n",
              "      <th>3</th>\n",
              "      <td>0x9f265a9675dea8f97139015f62c84af1f6d687ae</td>\n",
              "      <td>15</td>\n",
              "      <td>2100000000000000000</td>\n",
              "      <td>IN</td>\n",
              "      <td>634062000000000</td>\n",
              "      <td>3</td>\n",
              "      <td>2099000000000000000</td>\n",
              "      <td>OUT</td>\n",
              "      <td>3</td>\n",
              "      <td>3</td>\n",
              "      <td>2.000000e+20</td>\n",
              "      <td>2</td>\n",
              "      <td>2</td>\n",
              "      <td>2.000000e+20</td>\n",
              "      <td>3.701651e+05</td>\n",
              "    </tr>\n",
              "    <tr>\n",
              "      <th>4</th>\n",
              "      <td>0xbad9298ef9a0c40ed1fb299a5e42269589aa15af</td>\n",
              "      <td>142</td>\n",
              "      <td>17850287239292549380</td>\n",
              "      <td>IN</td>\n",
              "      <td>10780000000000000</td>\n",
              "      <td>57</td>\n",
              "      <td>17813824239292549380</td>\n",
              "      <td>OUT</td>\n",
              "      <td>2</td>\n",
              "      <td>2</td>\n",
              "      <td>3.000000e+18</td>\n",
              "      <td>1</td>\n",
              "      <td>1</td>\n",
              "      <td>1.000000e+20</td>\n",
              "      <td>2.403451e+05</td>\n",
              "    </tr>\n",
              "  </tbody>\n",
              "</table>\n",
              "</div>"
            ],
            "text/plain": [
              "                                      address  ...  time_b/w_in_txn\n",
              "0  0xd4f8e83864c80ea703dd148c78b937cbec200243  ...     1.156452e+05\n",
              "1  0xd9052a62ee61eec200c1972aa2a19fa3d5396b6d  ...     1.042143e+06\n",
              "2  0xe6b4a32cc822980d652bb185b33db6be69d39a13  ...     1.320557e+06\n",
              "3  0x9f265a9675dea8f97139015f62c84af1f6d687ae  ...     3.701651e+05\n",
              "4  0xbad9298ef9a0c40ed1fb299a5e42269589aa15af  ...     2.403451e+05\n",
              "\n",
              "[5 rows x 15 columns]"
            ]
          },
          "metadata": {
            "tags": []
          },
          "execution_count": 33
        }
      ]
    },
    {
      "cell_type": "code",
      "metadata": {
        "id": "aLsSY_kz3hiA",
        "colab_type": "code",
        "colab": {}
      },
      "source": [
        "time_out = pd.read_csv('/content/gdrive/My Drive/project_data/time_bw_out.csv')"
      ],
      "execution_count": 0,
      "outputs": []
    },
    {
      "cell_type": "code",
      "metadata": {
        "id": "bK9jXaSINH3a",
        "colab_type": "code",
        "outputId": "97231114-76fb-4cd1-e5b2-0ca448c28c84",
        "colab": {
          "base_uri": "https://localhost:8080/",
          "height": 289
        }
      },
      "source": [
        "print(time_out.shape)\n",
        "print(time_out.dtypes)\n",
        "time_out.head(5)"
      ],
      "execution_count": 35,
      "outputs": [
        {
          "output_type": "stream",
          "text": [
            "(2207451, 3)\n",
            "address                   object\n",
            "no_of_out_transactions     int64\n",
            "total_out_count            int64\n",
            "dtype: object\n"
          ],
          "name": "stdout"
        },
        {
          "output_type": "execute_result",
          "data": {
            "text/html": [
              "<div>\n",
              "<style scoped>\n",
              "    .dataframe tbody tr th:only-of-type {\n",
              "        vertical-align: middle;\n",
              "    }\n",
              "\n",
              "    .dataframe tbody tr th {\n",
              "        vertical-align: top;\n",
              "    }\n",
              "\n",
              "    .dataframe thead th {\n",
              "        text-align: right;\n",
              "    }\n",
              "</style>\n",
              "<table border=\"1\" class=\"dataframe\">\n",
              "  <thead>\n",
              "    <tr style=\"text-align: right;\">\n",
              "      <th></th>\n",
              "      <th>address</th>\n",
              "      <th>no_of_out_transactions</th>\n",
              "      <th>total_out_count</th>\n",
              "    </tr>\n",
              "  </thead>\n",
              "  <tbody>\n",
              "    <tr>\n",
              "      <th>0</th>\n",
              "      <td>0x24ba2abd922bacdd1902e4f5064fe9665c7dc1f7</td>\n",
              "      <td>60080239</td>\n",
              "      <td>471</td>\n",
              "    </tr>\n",
              "    <tr>\n",
              "      <th>1</th>\n",
              "      <td>0x459a2fe55548417c3d16014a846ab670dd8028bc</td>\n",
              "      <td>13293769</td>\n",
              "      <td>51</td>\n",
              "    </tr>\n",
              "    <tr>\n",
              "      <th>2</th>\n",
              "      <td>0x0d6d8b96306b45515ea54b10c49562c0f9db0863</td>\n",
              "      <td>96177286</td>\n",
              "      <td>448</td>\n",
              "    </tr>\n",
              "    <tr>\n",
              "      <th>3</th>\n",
              "      <td>0xd99b25c518320820d3c5ae9f47378da32ded5f00</td>\n",
              "      <td>41831114</td>\n",
              "      <td>472</td>\n",
              "    </tr>\n",
              "    <tr>\n",
              "      <th>4</th>\n",
              "      <td>0x3a067320af71f324e56ed9353118a645aa38ba01</td>\n",
              "      <td>28860820</td>\n",
              "      <td>27</td>\n",
              "    </tr>\n",
              "  </tbody>\n",
              "</table>\n",
              "</div>"
            ],
            "text/plain": [
              "                                      address  ...  total_out_count\n",
              "0  0x24ba2abd922bacdd1902e4f5064fe9665c7dc1f7  ...              471\n",
              "1  0x459a2fe55548417c3d16014a846ab670dd8028bc  ...               51\n",
              "2  0x0d6d8b96306b45515ea54b10c49562c0f9db0863  ...              448\n",
              "3  0xd99b25c518320820d3c5ae9f47378da32ded5f00  ...              472\n",
              "4  0x3a067320af71f324e56ed9353118a645aa38ba01  ...               27\n",
              "\n",
              "[5 rows x 3 columns]"
            ]
          },
          "metadata": {
            "tags": []
          },
          "execution_count": 35
        }
      ]
    },
    {
      "cell_type": "code",
      "metadata": {
        "id": "rgI_5IWGQGUs",
        "colab_type": "code",
        "colab": {}
      },
      "source": [
        "time_out['time_b/w_out_txn'] = time_out['no_of_out_transactions']/time_out['total_out_count']"
      ],
      "execution_count": 0,
      "outputs": []
    },
    {
      "cell_type": "markdown",
      "metadata": {
        "id": "yBbka8s5Wmf8",
        "colab_type": "text"
      },
      "source": [
        "Find no. of values with inf"
      ]
    },
    {
      "cell_type": "code",
      "metadata": {
        "id": "mskddO-LYQYe",
        "colab_type": "code",
        "outputId": "ffc5df57-249d-4b82-828e-50d500fb00fe",
        "colab": {
          "base_uri": "https://localhost:8080/",
          "height": 34
        }
      },
      "source": [
        "len(time_out['time_b/w_out_txn'].index[np.isinf(time_out['time_b/w_out_txn'])])"
      ],
      "execution_count": 37,
      "outputs": [
        {
          "output_type": "execute_result",
          "data": {
            "text/plain": [
              "0"
            ]
          },
          "metadata": {
            "tags": []
          },
          "execution_count": 37
        }
      ]
    },
    {
      "cell_type": "code",
      "metadata": {
        "id": "DUfhl91JYRId",
        "colab_type": "code",
        "colab": {}
      },
      "source": [
        "time_out = time_out.drop('no_of_out_transactions',axis=1)\n",
        "time_out = time_out.drop('total_out_count',axis=1)"
      ],
      "execution_count": 0,
      "outputs": []
    },
    {
      "cell_type": "code",
      "metadata": {
        "id": "fdRkNbbLQeHg",
        "colab_type": "code",
        "outputId": "177db94c-b873-4732-f03e-60b68bea69c3",
        "colab": {
          "base_uri": "https://localhost:8080/",
          "height": 204
        }
      },
      "source": [
        "time_out.head(5)"
      ],
      "execution_count": 39,
      "outputs": [
        {
          "output_type": "execute_result",
          "data": {
            "text/html": [
              "<div>\n",
              "<style scoped>\n",
              "    .dataframe tbody tr th:only-of-type {\n",
              "        vertical-align: middle;\n",
              "    }\n",
              "\n",
              "    .dataframe tbody tr th {\n",
              "        vertical-align: top;\n",
              "    }\n",
              "\n",
              "    .dataframe thead th {\n",
              "        text-align: right;\n",
              "    }\n",
              "</style>\n",
              "<table border=\"1\" class=\"dataframe\">\n",
              "  <thead>\n",
              "    <tr style=\"text-align: right;\">\n",
              "      <th></th>\n",
              "      <th>address</th>\n",
              "      <th>time_b/w_out_txn</th>\n",
              "    </tr>\n",
              "  </thead>\n",
              "  <tbody>\n",
              "    <tr>\n",
              "      <th>0</th>\n",
              "      <td>0x24ba2abd922bacdd1902e4f5064fe9665c7dc1f7</td>\n",
              "      <td>1.275589e+05</td>\n",
              "    </tr>\n",
              "    <tr>\n",
              "      <th>1</th>\n",
              "      <td>0x459a2fe55548417c3d16014a846ab670dd8028bc</td>\n",
              "      <td>2.606621e+05</td>\n",
              "    </tr>\n",
              "    <tr>\n",
              "      <th>2</th>\n",
              "      <td>0x0d6d8b96306b45515ea54b10c49562c0f9db0863</td>\n",
              "      <td>2.146814e+05</td>\n",
              "    </tr>\n",
              "    <tr>\n",
              "      <th>3</th>\n",
              "      <td>0xd99b25c518320820d3c5ae9f47378da32ded5f00</td>\n",
              "      <td>8.862524e+04</td>\n",
              "    </tr>\n",
              "    <tr>\n",
              "      <th>4</th>\n",
              "      <td>0x3a067320af71f324e56ed9353118a645aa38ba01</td>\n",
              "      <td>1.068919e+06</td>\n",
              "    </tr>\n",
              "  </tbody>\n",
              "</table>\n",
              "</div>"
            ],
            "text/plain": [
              "                                      address  time_b/w_out_txn\n",
              "0  0x24ba2abd922bacdd1902e4f5064fe9665c7dc1f7      1.275589e+05\n",
              "1  0x459a2fe55548417c3d16014a846ab670dd8028bc      2.606621e+05\n",
              "2  0x0d6d8b96306b45515ea54b10c49562c0f9db0863      2.146814e+05\n",
              "3  0xd99b25c518320820d3c5ae9f47378da32ded5f00      8.862524e+04\n",
              "4  0x3a067320af71f324e56ed9353118a645aa38ba01      1.068919e+06"
            ]
          },
          "metadata": {
            "tags": []
          },
          "execution_count": 39
        }
      ]
    },
    {
      "cell_type": "code",
      "metadata": {
        "id": "QQKivPZzQoIA",
        "colab_type": "code",
        "outputId": "6d31c348-e2eb-4cbd-c34e-5d8cf460ee46",
        "colab": {
          "base_uri": "https://localhost:8080/",
          "height": 68
        }
      },
      "source": [
        "time_out.isna().sum()"
      ],
      "execution_count": 40,
      "outputs": [
        {
          "output_type": "execute_result",
          "data": {
            "text/plain": [
              "address             0\n",
              "time_b/w_out_txn    0\n",
              "dtype: int64"
            ]
          },
          "metadata": {
            "tags": []
          },
          "execution_count": 40
        }
      ]
    },
    {
      "cell_type": "code",
      "metadata": {
        "id": "hAfCWbZ03llb",
        "colab_type": "code",
        "outputId": "f6d5902d-fc4d-45b3-bcbf-d53124866505",
        "colab": {
          "base_uri": "https://localhost:8080/",
          "height": 34
        }
      },
      "source": [
        "data3 = pd.merge(data2,time_out, on='address',how='inner')\n",
        "data3.shape"
      ],
      "execution_count": 41,
      "outputs": [
        {
          "output_type": "execute_result",
          "data": {
            "text/plain": [
              "(776499, 16)"
            ]
          },
          "metadata": {
            "tags": []
          },
          "execution_count": 41
        }
      ]
    },
    {
      "cell_type": "code",
      "metadata": {
        "id": "Ciopqi-UHnJi",
        "colab_type": "code",
        "colab": {}
      },
      "source": [
        "active_months = pd.read_csv('/content/gdrive/My Drive/project_data/active_month.csv')"
      ],
      "execution_count": 0,
      "outputs": []
    },
    {
      "cell_type": "code",
      "metadata": {
        "id": "YDHh9FtEaryg",
        "colab_type": "code",
        "outputId": "5978b3d2-04f4-48d1-8299-8aa25af01722",
        "colab": {
          "base_uri": "https://localhost:8080/",
          "height": 272
        }
      },
      "source": [
        "print(active_months.shape)\n",
        "print(active_months.dtypes)\n",
        "active_months.head(5)"
      ],
      "execution_count": 43,
      "outputs": [
        {
          "output_type": "stream",
          "text": [
            "(2207451, 2)\n",
            "address          object\n",
            "active_months     int64\n",
            "dtype: object\n"
          ],
          "name": "stdout"
        },
        {
          "output_type": "execute_result",
          "data": {
            "text/html": [
              "<div>\n",
              "<style scoped>\n",
              "    .dataframe tbody tr th:only-of-type {\n",
              "        vertical-align: middle;\n",
              "    }\n",
              "\n",
              "    .dataframe tbody tr th {\n",
              "        vertical-align: top;\n",
              "    }\n",
              "\n",
              "    .dataframe thead th {\n",
              "        text-align: right;\n",
              "    }\n",
              "</style>\n",
              "<table border=\"1\" class=\"dataframe\">\n",
              "  <thead>\n",
              "    <tr style=\"text-align: right;\">\n",
              "      <th></th>\n",
              "      <th>address</th>\n",
              "      <th>active_months</th>\n",
              "    </tr>\n",
              "  </thead>\n",
              "  <tbody>\n",
              "    <tr>\n",
              "      <th>0</th>\n",
              "      <td>0x2094eb28b9df87c0bed7faaeb88e217dca701ebf</td>\n",
              "      <td>20</td>\n",
              "    </tr>\n",
              "    <tr>\n",
              "      <th>1</th>\n",
              "      <td>0x5828fba83c8bb931f3a412646915c164e7fdcd5c</td>\n",
              "      <td>18</td>\n",
              "    </tr>\n",
              "    <tr>\n",
              "      <th>2</th>\n",
              "      <td>0x20ca0d22f83638bbfcfec77c437584456bcb298a</td>\n",
              "      <td>11</td>\n",
              "    </tr>\n",
              "    <tr>\n",
              "      <th>3</th>\n",
              "      <td>0x85adbe454a0d4fc025d446cc5000d4c47d379cbf</td>\n",
              "      <td>16</td>\n",
              "    </tr>\n",
              "    <tr>\n",
              "      <th>4</th>\n",
              "      <td>0x4320cf7280a27a35a29a59c75b8e05f6a7ba2646</td>\n",
              "      <td>14</td>\n",
              "    </tr>\n",
              "  </tbody>\n",
              "</table>\n",
              "</div>"
            ],
            "text/plain": [
              "                                      address  active_months\n",
              "0  0x2094eb28b9df87c0bed7faaeb88e217dca701ebf             20\n",
              "1  0x5828fba83c8bb931f3a412646915c164e7fdcd5c             18\n",
              "2  0x20ca0d22f83638bbfcfec77c437584456bcb298a             11\n",
              "3  0x85adbe454a0d4fc025d446cc5000d4c47d379cbf             16\n",
              "4  0x4320cf7280a27a35a29a59c75b8e05f6a7ba2646             14"
            ]
          },
          "metadata": {
            "tags": []
          },
          "execution_count": 43
        }
      ]
    },
    {
      "cell_type": "code",
      "metadata": {
        "id": "3ms-HH_FHoM0",
        "colab_type": "code",
        "outputId": "798eb262-0de8-45a9-e3be-656fe6453319",
        "colab": {
          "base_uri": "https://localhost:8080/",
          "height": 241
        }
      },
      "source": [
        "data4 = pd.merge(data3,active_months, on='address',how='inner')\n",
        "print(data4.shape)\n",
        "data4.head(5)"
      ],
      "execution_count": 44,
      "outputs": [
        {
          "output_type": "stream",
          "text": [
            "(776499, 17)\n"
          ],
          "name": "stdout"
        },
        {
          "output_type": "execute_result",
          "data": {
            "text/html": [
              "<div>\n",
              "<style scoped>\n",
              "    .dataframe tbody tr th:only-of-type {\n",
              "        vertical-align: middle;\n",
              "    }\n",
              "\n",
              "    .dataframe tbody tr th {\n",
              "        vertical-align: top;\n",
              "    }\n",
              "\n",
              "    .dataframe thead th {\n",
              "        text-align: right;\n",
              "    }\n",
              "</style>\n",
              "<table border=\"1\" class=\"dataframe\">\n",
              "  <thead>\n",
              "    <tr style=\"text-align: right;\">\n",
              "      <th></th>\n",
              "      <th>address</th>\n",
              "      <th>no_of_in_transactions</th>\n",
              "      <th>tot_ether_recieved</th>\n",
              "      <th>tax_type_x</th>\n",
              "      <th>eth_balance</th>\n",
              "      <th>no_of_out_transactions</th>\n",
              "      <th>tot_ether_sent</th>\n",
              "      <th>tax_type_y</th>\n",
              "      <th>tot_distinct_tokens_recieved</th>\n",
              "      <th>tot_tokens_recieved</th>\n",
              "      <th>tot_token_value_recieved</th>\n",
              "      <th>tot_distinct_tokens_sent</th>\n",
              "      <th>tot_tokens_sent</th>\n",
              "      <th>tot_token_value_sent</th>\n",
              "      <th>time_b/w_in_txn</th>\n",
              "      <th>time_b/w_out_txn</th>\n",
              "      <th>active_months</th>\n",
              "    </tr>\n",
              "  </thead>\n",
              "  <tbody>\n",
              "    <tr>\n",
              "      <th>0</th>\n",
              "      <td>0xd4f8e83864c80ea703dd148c78b937cbec200243</td>\n",
              "      <td>9</td>\n",
              "      <td>27000000000000000</td>\n",
              "      <td>IN</td>\n",
              "      <td>4750000000000000</td>\n",
              "      <td>97</td>\n",
              "      <td>19448289831436946</td>\n",
              "      <td>OUT</td>\n",
              "      <td>1</td>\n",
              "      <td>32</td>\n",
              "      <td>9.393942e+06</td>\n",
              "      <td>1</td>\n",
              "      <td>32</td>\n",
              "      <td>9.393942e+06</td>\n",
              "      <td>1.156452e+05</td>\n",
              "      <td>1.434797e+04</td>\n",
              "      <td>2</td>\n",
              "    </tr>\n",
              "    <tr>\n",
              "      <th>1</th>\n",
              "      <td>0xd9052a62ee61eec200c1972aa2a19fa3d5396b6d</td>\n",
              "      <td>14</td>\n",
              "      <td>10342497563429364</td>\n",
              "      <td>IN</td>\n",
              "      <td>260871337972799</td>\n",
              "      <td>32</td>\n",
              "      <td>0</td>\n",
              "      <td>OUT</td>\n",
              "      <td>1</td>\n",
              "      <td>32</td>\n",
              "      <td>1.870353e+11</td>\n",
              "      <td>1</td>\n",
              "      <td>32</td>\n",
              "      <td>1.870353e+11</td>\n",
              "      <td>1.042143e+06</td>\n",
              "      <td>4.736983e+05</td>\n",
              "      <td>6</td>\n",
              "    </tr>\n",
              "    <tr>\n",
              "      <th>2</th>\n",
              "      <td>0xe6b4a32cc822980d652bb185b33db6be69d39a13</td>\n",
              "      <td>17</td>\n",
              "      <td>16776853680000000000</td>\n",
              "      <td>IN</td>\n",
              "      <td>853144014361925765</td>\n",
              "      <td>86</td>\n",
              "      <td>21009302000000000000</td>\n",
              "      <td>OUT</td>\n",
              "      <td>15</td>\n",
              "      <td>20</td>\n",
              "      <td>4.639691e+22</td>\n",
              "      <td>5</td>\n",
              "      <td>9</td>\n",
              "      <td>4.260856e+22</td>\n",
              "      <td>1.320557e+06</td>\n",
              "      <td>1.653896e+05</td>\n",
              "      <td>5</td>\n",
              "    </tr>\n",
              "    <tr>\n",
              "      <th>3</th>\n",
              "      <td>0x9f265a9675dea8f97139015f62c84af1f6d687ae</td>\n",
              "      <td>15</td>\n",
              "      <td>2100000000000000000</td>\n",
              "      <td>IN</td>\n",
              "      <td>634062000000000</td>\n",
              "      <td>3</td>\n",
              "      <td>2099000000000000000</td>\n",
              "      <td>OUT</td>\n",
              "      <td>3</td>\n",
              "      <td>3</td>\n",
              "      <td>2.000000e+20</td>\n",
              "      <td>2</td>\n",
              "      <td>2</td>\n",
              "      <td>2.000000e+20</td>\n",
              "      <td>3.701651e+05</td>\n",
              "      <td>1.252319e+06</td>\n",
              "      <td>4</td>\n",
              "    </tr>\n",
              "    <tr>\n",
              "      <th>4</th>\n",
              "      <td>0xbad9298ef9a0c40ed1fb299a5e42269589aa15af</td>\n",
              "      <td>142</td>\n",
              "      <td>17850287239292549380</td>\n",
              "      <td>IN</td>\n",
              "      <td>10780000000000000</td>\n",
              "      <td>57</td>\n",
              "      <td>17813824239292549380</td>\n",
              "      <td>OUT</td>\n",
              "      <td>2</td>\n",
              "      <td>2</td>\n",
              "      <td>3.000000e+18</td>\n",
              "      <td>1</td>\n",
              "      <td>1</td>\n",
              "      <td>1.000000e+20</td>\n",
              "      <td>2.403451e+05</td>\n",
              "      <td>5.987940e+05</td>\n",
              "      <td>14</td>\n",
              "    </tr>\n",
              "  </tbody>\n",
              "</table>\n",
              "</div>"
            ],
            "text/plain": [
              "                                      address  ...  active_months\n",
              "0  0xd4f8e83864c80ea703dd148c78b937cbec200243  ...              2\n",
              "1  0xd9052a62ee61eec200c1972aa2a19fa3d5396b6d  ...              6\n",
              "2  0xe6b4a32cc822980d652bb185b33db6be69d39a13  ...              5\n",
              "3  0x9f265a9675dea8f97139015f62c84af1f6d687ae  ...              4\n",
              "4  0xbad9298ef9a0c40ed1fb299a5e42269589aa15af  ...             14\n",
              "\n",
              "[5 rows x 17 columns]"
            ]
          },
          "metadata": {
            "tags": []
          },
          "execution_count": 44
        }
      ]
    },
    {
      "cell_type": "markdown",
      "metadata": {
        "id": "tv8dTN0QWczf",
        "colab_type": "text"
      },
      "source": [
        "**Monthly Outgoing Transactions**"
      ]
    },
    {
      "cell_type": "code",
      "metadata": {
        "id": "scD198YKN2n3",
        "colab_type": "code",
        "outputId": "6d5ad2d8-a0af-4d57-9fde-d930d20337fc",
        "colab": {
          "base_uri": "https://localhost:8080/",
          "height": 71
        }
      },
      "source": [
        "monthly_out_txn = pd.read_csv('/content/gdrive/My Drive/project_data/monthly_out_txn.csv',names=['address','monthly_out_txn'])"
      ],
      "execution_count": 45,
      "outputs": [
        {
          "output_type": "stream",
          "text": [
            "/usr/local/lib/python3.6/dist-packages/IPython/core/interactiveshell.py:2718: DtypeWarning: Columns (1) have mixed types.Specify dtype option on import or set low_memory=False.\n",
            "  interactivity=interactivity, compiler=compiler, result=result)\n"
          ],
          "name": "stderr"
        }
      ]
    },
    {
      "cell_type": "code",
      "metadata": {
        "id": "GVABnxtTOA92",
        "colab_type": "code",
        "colab": {}
      },
      "source": [
        "monthly_out_txn = monthly_out_txn.drop([0],axis=0)"
      ],
      "execution_count": 0,
      "outputs": []
    },
    {
      "cell_type": "code",
      "metadata": {
        "id": "JykOajGNNI5m",
        "colab_type": "code",
        "outputId": "33fd53b9-15cb-4bef-f1ea-d372e446c571",
        "colab": {
          "base_uri": "https://localhost:8080/",
          "height": 272
        }
      },
      "source": [
        "print(monthly_out_txn.shape)\n",
        "print(monthly_out_txn.dtypes)\n",
        "monthly_out_txn.head(5)"
      ],
      "execution_count": 47,
      "outputs": [
        {
          "output_type": "stream",
          "text": [
            "(2207451, 2)\n",
            "address            object\n",
            "monthly_out_txn    object\n",
            "dtype: object\n"
          ],
          "name": "stdout"
        },
        {
          "output_type": "execute_result",
          "data": {
            "text/html": [
              "<div>\n",
              "<style scoped>\n",
              "    .dataframe tbody tr th:only-of-type {\n",
              "        vertical-align: middle;\n",
              "    }\n",
              "\n",
              "    .dataframe tbody tr th {\n",
              "        vertical-align: top;\n",
              "    }\n",
              "\n",
              "    .dataframe thead th {\n",
              "        text-align: right;\n",
              "    }\n",
              "</style>\n",
              "<table border=\"1\" class=\"dataframe\">\n",
              "  <thead>\n",
              "    <tr style=\"text-align: right;\">\n",
              "      <th></th>\n",
              "      <th>address</th>\n",
              "      <th>monthly_out_txn</th>\n",
              "    </tr>\n",
              "  </thead>\n",
              "  <tbody>\n",
              "    <tr>\n",
              "      <th>1</th>\n",
              "      <td>0x1bb67106002c82e80793aad1ff51032bf3b72f81</td>\n",
              "      <td>25</td>\n",
              "    </tr>\n",
              "    <tr>\n",
              "      <th>2</th>\n",
              "      <td>0x931cf1c5a0a60bc256870ed2a998160901af560f</td>\n",
              "      <td>1.1666666666666667</td>\n",
              "    </tr>\n",
              "    <tr>\n",
              "      <th>3</th>\n",
              "      <td>0xd232ca4ea085295a1c7186dd05fa01e077d7c003</td>\n",
              "      <td>4.5</td>\n",
              "    </tr>\n",
              "    <tr>\n",
              "      <th>4</th>\n",
              "      <td>0x52137266b4afb6d61df87d1924466fea0b2308ad</td>\n",
              "      <td>2.25</td>\n",
              "    </tr>\n",
              "    <tr>\n",
              "      <th>5</th>\n",
              "      <td>0x12a904c42555df6e0d2a5068c2d8e15a71a9ca5a</td>\n",
              "      <td>1.4</td>\n",
              "    </tr>\n",
              "  </tbody>\n",
              "</table>\n",
              "</div>"
            ],
            "text/plain": [
              "                                      address     monthly_out_txn\n",
              "1  0x1bb67106002c82e80793aad1ff51032bf3b72f81                  25\n",
              "2  0x931cf1c5a0a60bc256870ed2a998160901af560f  1.1666666666666667\n",
              "3  0xd232ca4ea085295a1c7186dd05fa01e077d7c003                 4.5\n",
              "4  0x52137266b4afb6d61df87d1924466fea0b2308ad                2.25\n",
              "5  0x12a904c42555df6e0d2a5068c2d8e15a71a9ca5a                 1.4"
            ]
          },
          "metadata": {
            "tags": []
          },
          "execution_count": 47
        }
      ]
    },
    {
      "cell_type": "code",
      "metadata": {
        "id": "LIsk-1FfNpt1",
        "colab_type": "code",
        "outputId": "b2ef0472-db52-4676-a8e3-fa66a10ecc3a",
        "colab": {
          "base_uri": "https://localhost:8080/",
          "height": 241
        }
      },
      "source": [
        "data5 = pd.merge(data4,monthly_out_txn, on='address',how='inner')\n",
        "print(data5.shape)\n",
        "data5.head(5)"
      ],
      "execution_count": 48,
      "outputs": [
        {
          "output_type": "stream",
          "text": [
            "(776499, 18)\n"
          ],
          "name": "stdout"
        },
        {
          "output_type": "execute_result",
          "data": {
            "text/html": [
              "<div>\n",
              "<style scoped>\n",
              "    .dataframe tbody tr th:only-of-type {\n",
              "        vertical-align: middle;\n",
              "    }\n",
              "\n",
              "    .dataframe tbody tr th {\n",
              "        vertical-align: top;\n",
              "    }\n",
              "\n",
              "    .dataframe thead th {\n",
              "        text-align: right;\n",
              "    }\n",
              "</style>\n",
              "<table border=\"1\" class=\"dataframe\">\n",
              "  <thead>\n",
              "    <tr style=\"text-align: right;\">\n",
              "      <th></th>\n",
              "      <th>address</th>\n",
              "      <th>no_of_in_transactions</th>\n",
              "      <th>tot_ether_recieved</th>\n",
              "      <th>tax_type_x</th>\n",
              "      <th>eth_balance</th>\n",
              "      <th>no_of_out_transactions</th>\n",
              "      <th>tot_ether_sent</th>\n",
              "      <th>tax_type_y</th>\n",
              "      <th>tot_distinct_tokens_recieved</th>\n",
              "      <th>tot_tokens_recieved</th>\n",
              "      <th>tot_token_value_recieved</th>\n",
              "      <th>tot_distinct_tokens_sent</th>\n",
              "      <th>tot_tokens_sent</th>\n",
              "      <th>tot_token_value_sent</th>\n",
              "      <th>time_b/w_in_txn</th>\n",
              "      <th>time_b/w_out_txn</th>\n",
              "      <th>active_months</th>\n",
              "      <th>monthly_out_txn</th>\n",
              "    </tr>\n",
              "  </thead>\n",
              "  <tbody>\n",
              "    <tr>\n",
              "      <th>0</th>\n",
              "      <td>0xd4f8e83864c80ea703dd148c78b937cbec200243</td>\n",
              "      <td>9</td>\n",
              "      <td>27000000000000000</td>\n",
              "      <td>IN</td>\n",
              "      <td>4750000000000000</td>\n",
              "      <td>97</td>\n",
              "      <td>19448289831436946</td>\n",
              "      <td>OUT</td>\n",
              "      <td>1</td>\n",
              "      <td>32</td>\n",
              "      <td>9.393942e+06</td>\n",
              "      <td>1</td>\n",
              "      <td>32</td>\n",
              "      <td>9.393942e+06</td>\n",
              "      <td>1.156452e+05</td>\n",
              "      <td>1.434797e+04</td>\n",
              "      <td>2</td>\n",
              "      <td>48.5</td>\n",
              "    </tr>\n",
              "    <tr>\n",
              "      <th>1</th>\n",
              "      <td>0xd9052a62ee61eec200c1972aa2a19fa3d5396b6d</td>\n",
              "      <td>14</td>\n",
              "      <td>10342497563429364</td>\n",
              "      <td>IN</td>\n",
              "      <td>260871337972799</td>\n",
              "      <td>32</td>\n",
              "      <td>0</td>\n",
              "      <td>OUT</td>\n",
              "      <td>1</td>\n",
              "      <td>32</td>\n",
              "      <td>1.870353e+11</td>\n",
              "      <td>1</td>\n",
              "      <td>32</td>\n",
              "      <td>1.870353e+11</td>\n",
              "      <td>1.042143e+06</td>\n",
              "      <td>4.736983e+05</td>\n",
              "      <td>6</td>\n",
              "      <td>5.5</td>\n",
              "    </tr>\n",
              "    <tr>\n",
              "      <th>2</th>\n",
              "      <td>0xe6b4a32cc822980d652bb185b33db6be69d39a13</td>\n",
              "      <td>17</td>\n",
              "      <td>16776853680000000000</td>\n",
              "      <td>IN</td>\n",
              "      <td>853144014361925765</td>\n",
              "      <td>86</td>\n",
              "      <td>21009302000000000000</td>\n",
              "      <td>OUT</td>\n",
              "      <td>15</td>\n",
              "      <td>20</td>\n",
              "      <td>4.639691e+22</td>\n",
              "      <td>5</td>\n",
              "      <td>9</td>\n",
              "      <td>4.260856e+22</td>\n",
              "      <td>1.320557e+06</td>\n",
              "      <td>1.653896e+05</td>\n",
              "      <td>5</td>\n",
              "      <td>21.5</td>\n",
              "    </tr>\n",
              "    <tr>\n",
              "      <th>3</th>\n",
              "      <td>0x9f265a9675dea8f97139015f62c84af1f6d687ae</td>\n",
              "      <td>15</td>\n",
              "      <td>2100000000000000000</td>\n",
              "      <td>IN</td>\n",
              "      <td>634062000000000</td>\n",
              "      <td>3</td>\n",
              "      <td>2099000000000000000</td>\n",
              "      <td>OUT</td>\n",
              "      <td>3</td>\n",
              "      <td>3</td>\n",
              "      <td>2.000000e+20</td>\n",
              "      <td>2</td>\n",
              "      <td>2</td>\n",
              "      <td>2.000000e+20</td>\n",
              "      <td>3.701651e+05</td>\n",
              "      <td>1.252319e+06</td>\n",
              "      <td>4</td>\n",
              "      <td>1.5</td>\n",
              "    </tr>\n",
              "    <tr>\n",
              "      <th>4</th>\n",
              "      <td>0xbad9298ef9a0c40ed1fb299a5e42269589aa15af</td>\n",
              "      <td>142</td>\n",
              "      <td>17850287239292549380</td>\n",
              "      <td>IN</td>\n",
              "      <td>10780000000000000</td>\n",
              "      <td>57</td>\n",
              "      <td>17813824239292549380</td>\n",
              "      <td>OUT</td>\n",
              "      <td>2</td>\n",
              "      <td>2</td>\n",
              "      <td>3.000000e+18</td>\n",
              "      <td>1</td>\n",
              "      <td>1</td>\n",
              "      <td>1.000000e+20</td>\n",
              "      <td>2.403451e+05</td>\n",
              "      <td>5.987940e+05</td>\n",
              "      <td>14</td>\n",
              "      <td>4.384615384615385</td>\n",
              "    </tr>\n",
              "  </tbody>\n",
              "</table>\n",
              "</div>"
            ],
            "text/plain": [
              "                                      address  ...    monthly_out_txn\n",
              "0  0xd4f8e83864c80ea703dd148c78b937cbec200243  ...               48.5\n",
              "1  0xd9052a62ee61eec200c1972aa2a19fa3d5396b6d  ...                5.5\n",
              "2  0xe6b4a32cc822980d652bb185b33db6be69d39a13  ...               21.5\n",
              "3  0x9f265a9675dea8f97139015f62c84af1f6d687ae  ...                1.5\n",
              "4  0xbad9298ef9a0c40ed1fb299a5e42269589aa15af  ...  4.384615384615385\n",
              "\n",
              "[5 rows x 18 columns]"
            ]
          },
          "metadata": {
            "tags": []
          },
          "execution_count": 48
        }
      ]
    },
    {
      "cell_type": "code",
      "metadata": {
        "id": "lgmVnkBqJkUT",
        "colab_type": "code",
        "colab": {}
      },
      "source": [
        "monthly_in_txn =pd.read_csv('/content/gdrive/My Drive/project_data/monthly_in_txn.csv')"
      ],
      "execution_count": 0,
      "outputs": []
    },
    {
      "cell_type": "code",
      "metadata": {
        "id": "ipgNCaVfNJ15",
        "colab_type": "code",
        "outputId": "949cdfc0-653f-4457-cb16-d377de3056aa",
        "colab": {
          "base_uri": "https://localhost:8080/",
          "height": 272
        }
      },
      "source": [
        "print(monthly_in_txn.shape)\n",
        "print(monthly_in_txn.dtypes)\n",
        "monthly_in_txn.head(5)"
      ],
      "execution_count": 50,
      "outputs": [
        {
          "output_type": "stream",
          "text": [
            "(2207451, 2)\n",
            "address            object\n",
            "monthly_in_txn    float64\n",
            "dtype: object\n"
          ],
          "name": "stdout"
        },
        {
          "output_type": "execute_result",
          "data": {
            "text/html": [
              "<div>\n",
              "<style scoped>\n",
              "    .dataframe tbody tr th:only-of-type {\n",
              "        vertical-align: middle;\n",
              "    }\n",
              "\n",
              "    .dataframe tbody tr th {\n",
              "        vertical-align: top;\n",
              "    }\n",
              "\n",
              "    .dataframe thead th {\n",
              "        text-align: right;\n",
              "    }\n",
              "</style>\n",
              "<table border=\"1\" class=\"dataframe\">\n",
              "  <thead>\n",
              "    <tr style=\"text-align: right;\">\n",
              "      <th></th>\n",
              "      <th>address</th>\n",
              "      <th>monthly_in_txn</th>\n",
              "    </tr>\n",
              "  </thead>\n",
              "  <tbody>\n",
              "    <tr>\n",
              "      <th>0</th>\n",
              "      <td>0x2f9d0ccb752044e15cc23df93dbb18f1e21b96f0</td>\n",
              "      <td>26.000000</td>\n",
              "    </tr>\n",
              "    <tr>\n",
              "      <th>1</th>\n",
              "      <td>0xa425a78f6e0ab8a65d26af633b40961813950090</td>\n",
              "      <td>3.111111</td>\n",
              "    </tr>\n",
              "    <tr>\n",
              "      <th>2</th>\n",
              "      <td>0x3793fc30ad9c1c6964281fd017dee2632c16d00e</td>\n",
              "      <td>1.666667</td>\n",
              "    </tr>\n",
              "    <tr>\n",
              "      <th>3</th>\n",
              "      <td>0x63111cc3b805d5a8acee25cdf98e2b99e26d699e</td>\n",
              "      <td>6.000000</td>\n",
              "    </tr>\n",
              "    <tr>\n",
              "      <th>4</th>\n",
              "      <td>0x59f7a70df21df324d6af4d472611253e013f2ea9</td>\n",
              "      <td>4.500000</td>\n",
              "    </tr>\n",
              "  </tbody>\n",
              "</table>\n",
              "</div>"
            ],
            "text/plain": [
              "                                      address  monthly_in_txn\n",
              "0  0x2f9d0ccb752044e15cc23df93dbb18f1e21b96f0       26.000000\n",
              "1  0xa425a78f6e0ab8a65d26af633b40961813950090        3.111111\n",
              "2  0x3793fc30ad9c1c6964281fd017dee2632c16d00e        1.666667\n",
              "3  0x63111cc3b805d5a8acee25cdf98e2b99e26d699e        6.000000\n",
              "4  0x59f7a70df21df324d6af4d472611253e013f2ea9        4.500000"
            ]
          },
          "metadata": {
            "tags": []
          },
          "execution_count": 50
        }
      ]
    },
    {
      "cell_type": "code",
      "metadata": {
        "id": "AF6h926JLEmc",
        "colab_type": "code",
        "outputId": "b5e01219-dab9-4ead-87f0-6e06b0ab4a67",
        "colab": {
          "base_uri": "https://localhost:8080/",
          "height": 34
        }
      },
      "source": [
        "data = pd.merge(data5,monthly_in_txn, on='address',how='inner')\n",
        "data.shape"
      ],
      "execution_count": 51,
      "outputs": [
        {
          "output_type": "execute_result",
          "data": {
            "text/plain": [
              "(776499, 19)"
            ]
          },
          "metadata": {
            "tags": []
          },
          "execution_count": 51
        }
      ]
    },
    {
      "cell_type": "code",
      "metadata": {
        "id": "gdEjqDAdPrPg",
        "colab_type": "code",
        "outputId": "f20d4e94-defc-4f6f-d543-b1fc24556473",
        "colab": {
          "base_uri": "https://localhost:8080/",
          "height": 224
        }
      },
      "source": [
        "data.head(5)"
      ],
      "execution_count": 52,
      "outputs": [
        {
          "output_type": "execute_result",
          "data": {
            "text/html": [
              "<div>\n",
              "<style scoped>\n",
              "    .dataframe tbody tr th:only-of-type {\n",
              "        vertical-align: middle;\n",
              "    }\n",
              "\n",
              "    .dataframe tbody tr th {\n",
              "        vertical-align: top;\n",
              "    }\n",
              "\n",
              "    .dataframe thead th {\n",
              "        text-align: right;\n",
              "    }\n",
              "</style>\n",
              "<table border=\"1\" class=\"dataframe\">\n",
              "  <thead>\n",
              "    <tr style=\"text-align: right;\">\n",
              "      <th></th>\n",
              "      <th>address</th>\n",
              "      <th>no_of_in_transactions</th>\n",
              "      <th>tot_ether_recieved</th>\n",
              "      <th>tax_type_x</th>\n",
              "      <th>eth_balance</th>\n",
              "      <th>no_of_out_transactions</th>\n",
              "      <th>tot_ether_sent</th>\n",
              "      <th>tax_type_y</th>\n",
              "      <th>tot_distinct_tokens_recieved</th>\n",
              "      <th>tot_tokens_recieved</th>\n",
              "      <th>tot_token_value_recieved</th>\n",
              "      <th>tot_distinct_tokens_sent</th>\n",
              "      <th>tot_tokens_sent</th>\n",
              "      <th>tot_token_value_sent</th>\n",
              "      <th>time_b/w_in_txn</th>\n",
              "      <th>time_b/w_out_txn</th>\n",
              "      <th>active_months</th>\n",
              "      <th>monthly_out_txn</th>\n",
              "      <th>monthly_in_txn</th>\n",
              "    </tr>\n",
              "  </thead>\n",
              "  <tbody>\n",
              "    <tr>\n",
              "      <th>0</th>\n",
              "      <td>0xd4f8e83864c80ea703dd148c78b937cbec200243</td>\n",
              "      <td>9</td>\n",
              "      <td>27000000000000000</td>\n",
              "      <td>IN</td>\n",
              "      <td>4750000000000000</td>\n",
              "      <td>97</td>\n",
              "      <td>19448289831436946</td>\n",
              "      <td>OUT</td>\n",
              "      <td>1</td>\n",
              "      <td>32</td>\n",
              "      <td>9.393942e+06</td>\n",
              "      <td>1</td>\n",
              "      <td>32</td>\n",
              "      <td>9.393942e+06</td>\n",
              "      <td>1.156452e+05</td>\n",
              "      <td>1.434797e+04</td>\n",
              "      <td>2</td>\n",
              "      <td>48.5</td>\n",
              "      <td>9.000000</td>\n",
              "    </tr>\n",
              "    <tr>\n",
              "      <th>1</th>\n",
              "      <td>0xd9052a62ee61eec200c1972aa2a19fa3d5396b6d</td>\n",
              "      <td>14</td>\n",
              "      <td>10342497563429364</td>\n",
              "      <td>IN</td>\n",
              "      <td>260871337972799</td>\n",
              "      <td>32</td>\n",
              "      <td>0</td>\n",
              "      <td>OUT</td>\n",
              "      <td>1</td>\n",
              "      <td>32</td>\n",
              "      <td>1.870353e+11</td>\n",
              "      <td>1</td>\n",
              "      <td>32</td>\n",
              "      <td>1.870353e+11</td>\n",
              "      <td>1.042143e+06</td>\n",
              "      <td>4.736983e+05</td>\n",
              "      <td>6</td>\n",
              "      <td>5.5</td>\n",
              "      <td>2.500000</td>\n",
              "    </tr>\n",
              "    <tr>\n",
              "      <th>2</th>\n",
              "      <td>0xe6b4a32cc822980d652bb185b33db6be69d39a13</td>\n",
              "      <td>17</td>\n",
              "      <td>16776853680000000000</td>\n",
              "      <td>IN</td>\n",
              "      <td>853144014361925765</td>\n",
              "      <td>86</td>\n",
              "      <td>21009302000000000000</td>\n",
              "      <td>OUT</td>\n",
              "      <td>15</td>\n",
              "      <td>20</td>\n",
              "      <td>4.639691e+22</td>\n",
              "      <td>5</td>\n",
              "      <td>9</td>\n",
              "      <td>4.260856e+22</td>\n",
              "      <td>1.320557e+06</td>\n",
              "      <td>1.653896e+05</td>\n",
              "      <td>5</td>\n",
              "      <td>21.5</td>\n",
              "      <td>3.400000</td>\n",
              "    </tr>\n",
              "    <tr>\n",
              "      <th>3</th>\n",
              "      <td>0x9f265a9675dea8f97139015f62c84af1f6d687ae</td>\n",
              "      <td>15</td>\n",
              "      <td>2100000000000000000</td>\n",
              "      <td>IN</td>\n",
              "      <td>634062000000000</td>\n",
              "      <td>3</td>\n",
              "      <td>2099000000000000000</td>\n",
              "      <td>OUT</td>\n",
              "      <td>3</td>\n",
              "      <td>3</td>\n",
              "      <td>2.000000e+20</td>\n",
              "      <td>2</td>\n",
              "      <td>2</td>\n",
              "      <td>2.000000e+20</td>\n",
              "      <td>3.701651e+05</td>\n",
              "      <td>1.252319e+06</td>\n",
              "      <td>4</td>\n",
              "      <td>1.5</td>\n",
              "      <td>5.000000</td>\n",
              "    </tr>\n",
              "    <tr>\n",
              "      <th>4</th>\n",
              "      <td>0xbad9298ef9a0c40ed1fb299a5e42269589aa15af</td>\n",
              "      <td>142</td>\n",
              "      <td>17850287239292549380</td>\n",
              "      <td>IN</td>\n",
              "      <td>10780000000000000</td>\n",
              "      <td>57</td>\n",
              "      <td>17813824239292549380</td>\n",
              "      <td>OUT</td>\n",
              "      <td>2</td>\n",
              "      <td>2</td>\n",
              "      <td>3.000000e+18</td>\n",
              "      <td>1</td>\n",
              "      <td>1</td>\n",
              "      <td>1.000000e+20</td>\n",
              "      <td>2.403451e+05</td>\n",
              "      <td>5.987940e+05</td>\n",
              "      <td>14</td>\n",
              "      <td>4.384615384615385</td>\n",
              "      <td>10.923077</td>\n",
              "    </tr>\n",
              "  </tbody>\n",
              "</table>\n",
              "</div>"
            ],
            "text/plain": [
              "                                      address  ...  monthly_in_txn\n",
              "0  0xd4f8e83864c80ea703dd148c78b937cbec200243  ...        9.000000\n",
              "1  0xd9052a62ee61eec200c1972aa2a19fa3d5396b6d  ...        2.500000\n",
              "2  0xe6b4a32cc822980d652bb185b33db6be69d39a13  ...        3.400000\n",
              "3  0x9f265a9675dea8f97139015f62c84af1f6d687ae  ...        5.000000\n",
              "4  0xbad9298ef9a0c40ed1fb299a5e42269589aa15af  ...       10.923077\n",
              "\n",
              "[5 rows x 19 columns]"
            ]
          },
          "metadata": {
            "tags": []
          },
          "execution_count": 52
        }
      ]
    },
    {
      "cell_type": "markdown",
      "metadata": {
        "id": "um6p3V82WQSp",
        "colab_type": "text"
      },
      "source": [
        "**Drop unnecessary columns**"
      ]
    },
    {
      "cell_type": "code",
      "metadata": {
        "id": "_3x1JyBJYvX5",
        "colab_type": "code",
        "colab": {}
      },
      "source": [
        "data = data.drop('tax_type_x',axis=1)\n",
        "data = data.drop('tax_type_y',axis=1)\n",
        "data = data.drop('tot_distinct_tokens_recieved',axis=1)\n",
        "data = data.drop('tot_tokens_recieved',axis=1)\n",
        "data = data.drop('tot_distinct_tokens_sent',axis=1)\n",
        "data = data.drop('tot_tokens_sent',axis=1)"
      ],
      "execution_count": 0,
      "outputs": []
    },
    {
      "cell_type": "code",
      "metadata": {
        "id": "sQHBq-ABZaCy",
        "colab_type": "code",
        "outputId": "912d86de-3d0c-4c7a-90e7-99eeadcd7952",
        "colab": {
          "base_uri": "https://localhost:8080/",
          "height": 272
        }
      },
      "source": [
        "print(data.shape)\n",
        "print(data.dtypes)"
      ],
      "execution_count": 54,
      "outputs": [
        {
          "output_type": "stream",
          "text": [
            "(776499, 13)\n",
            "address                      object\n",
            "no_of_in_transactions         int64\n",
            "tot_ether_recieved           object\n",
            "eth_balance                  object\n",
            "no_of_out_transactions        int64\n",
            "tot_ether_sent               object\n",
            "tot_token_value_recieved    float64\n",
            "tot_token_value_sent        float64\n",
            "time_b/w_in_txn             float64\n",
            "time_b/w_out_txn            float64\n",
            "active_months                 int64\n",
            "monthly_out_txn              object\n",
            "monthly_in_txn              float64\n",
            "dtype: object\n"
          ],
          "name": "stdout"
        }
      ]
    },
    {
      "cell_type": "code",
      "metadata": {
        "id": "GdCUNEjRXxOW",
        "colab_type": "code",
        "colab": {}
      },
      "source": [
        "data['eth_balance'] = pd.to_numeric(data['eth_balance'], downcast=\"float\",errors='coerce')\n",
        "data['monthly_out_txn'] = pd.to_numeric(data['monthly_out_txn'], downcast=\"float\",errors='coerce')"
      ],
      "execution_count": 0,
      "outputs": []
    },
    {
      "cell_type": "code",
      "metadata": {
        "id": "WA-z_yy2ZRRI",
        "colab_type": "code",
        "colab": {}
      },
      "source": [
        "data['tot_ether_sent'] = pd.to_numeric(data['tot_ether_sent'], downcast=\"float\",errors='coerce')\n",
        "data['tot_ether_recieved'] = pd.to_numeric(data['tot_ether_recieved'], downcast=\"float\",errors='coerce')"
      ],
      "execution_count": 0,
      "outputs": []
    },
    {
      "cell_type": "code",
      "metadata": {
        "id": "UUX-ObP-PVTg",
        "colab_type": "code",
        "colab": {}
      },
      "source": [
        "data['monthly_ether_sent']=0\n",
        "data['monthly_ether_recieved']=0\n",
        "data['monthly_ether_sent']= data['tot_ether_sent' ].div(data['active_months'])\n",
        "data['monthly_ether_recieved']= data['tot_ether_recieved'].div(data['active_months'])"
      ],
      "execution_count": 0,
      "outputs": []
    },
    {
      "cell_type": "code",
      "metadata": {
        "id": "H8V944YnR7UP",
        "colab_type": "code",
        "outputId": "ba6da7b8-0a48-49d1-8458-306ff1caf86a",
        "colab": {
          "base_uri": "https://localhost:8080/",
          "height": 51
        }
      },
      "source": [
        "print('inf in monthly_ether_sent',len(data['tot_ether_recieved'].index[np.isinf(data['tot_ether_recieved'])]))\n",
        "print('inf in monthly_ether_recieved',len(data['tot_ether_sent'].index[np.isinf(data['tot_ether_sent'])]))"
      ],
      "execution_count": 71,
      "outputs": [
        {
          "output_type": "stream",
          "text": [
            "inf in monthly_ether_sent 0\n",
            "inf in monthly_ether_recieved 0\n"
          ],
          "name": "stdout"
        }
      ]
    },
    {
      "cell_type": "markdown",
      "metadata": {
        "id": "deLuW-G2lnj1",
        "colab_type": "text"
      },
      "source": [
        "**wei to ether conversion**  - Some attributes in the table are all in wei.They are converted to ether using the conversion: 1 ether = 1x10^18 wei"
      ]
    },
    {
      "cell_type": "code",
      "metadata": {
        "id": "L4GcYBA4PUDl",
        "colab_type": "code",
        "outputId": "781801df-8e98-48fa-fb06-bc3777484fea",
        "colab": {
          "base_uri": "https://localhost:8080/",
          "height": 379
        }
      },
      "source": [
        "wei = pow(10,18) \n",
        "attributes = ['eth_balance', 'tot_ether_recieved', 'tot_ether_sent', 'tot_token_value_recieved','tot_token_value_sent', 'monthly_ether_sent', 'monthly_ether_recieved']\n",
        "for attr in attributes:\n",
        "  if data[attr].dtype == 'object':\n",
        "    data[attr] = pd.to_numeric(data[attr], errors='coerce')\n",
        "  data[attr] = data[attr].div(wei)\n",
        "\n",
        "data.head(10)"
      ],
      "execution_count": 75,
      "outputs": [
        {
          "output_type": "execute_result",
          "data": {
            "text/html": [
              "<div>\n",
              "<style scoped>\n",
              "    .dataframe tbody tr th:only-of-type {\n",
              "        vertical-align: middle;\n",
              "    }\n",
              "\n",
              "    .dataframe tbody tr th {\n",
              "        vertical-align: top;\n",
              "    }\n",
              "\n",
              "    .dataframe thead th {\n",
              "        text-align: right;\n",
              "    }\n",
              "</style>\n",
              "<table border=\"1\" class=\"dataframe\">\n",
              "  <thead>\n",
              "    <tr style=\"text-align: right;\">\n",
              "      <th></th>\n",
              "      <th>address</th>\n",
              "      <th>no_of_in_transactions</th>\n",
              "      <th>tot_ether_recieved</th>\n",
              "      <th>eth_balance</th>\n",
              "      <th>no_of_out_transactions</th>\n",
              "      <th>tot_ether_sent</th>\n",
              "      <th>tot_token_value_recieved</th>\n",
              "      <th>tot_token_value_sent</th>\n",
              "      <th>time_b/w_in_txn</th>\n",
              "      <th>time_b/w_out_txn</th>\n",
              "      <th>active_months</th>\n",
              "      <th>monthly_out_txn</th>\n",
              "      <th>monthly_in_txn</th>\n",
              "      <th>monthly_ether_sent</th>\n",
              "      <th>monthly_ether_recieved</th>\n",
              "    </tr>\n",
              "  </thead>\n",
              "  <tbody>\n",
              "    <tr>\n",
              "      <th>0</th>\n",
              "      <td>0xd4f8e83864c80ea703dd148c78b937cbec200243</td>\n",
              "      <td>9</td>\n",
              "      <td>0.027000</td>\n",
              "      <td>0.004750</td>\n",
              "      <td>97</td>\n",
              "      <td>0.019448</td>\n",
              "      <td>9.393942e-12</td>\n",
              "      <td>9.393942e-12</td>\n",
              "      <td>1.156452e+05</td>\n",
              "      <td>1.434797e+04</td>\n",
              "      <td>2</td>\n",
              "      <td>48.500000</td>\n",
              "      <td>9.000000</td>\n",
              "      <td>0.009724</td>\n",
              "      <td>0.013500</td>\n",
              "    </tr>\n",
              "    <tr>\n",
              "      <th>1</th>\n",
              "      <td>0xd9052a62ee61eec200c1972aa2a19fa3d5396b6d</td>\n",
              "      <td>14</td>\n",
              "      <td>0.010342</td>\n",
              "      <td>0.000261</td>\n",
              "      <td>32</td>\n",
              "      <td>0.000000</td>\n",
              "      <td>1.870353e-07</td>\n",
              "      <td>1.870353e-07</td>\n",
              "      <td>1.042143e+06</td>\n",
              "      <td>4.736983e+05</td>\n",
              "      <td>6</td>\n",
              "      <td>5.500000</td>\n",
              "      <td>2.500000</td>\n",
              "      <td>0.000000</td>\n",
              "      <td>0.001724</td>\n",
              "    </tr>\n",
              "    <tr>\n",
              "      <th>2</th>\n",
              "      <td>0xe6b4a32cc822980d652bb185b33db6be69d39a13</td>\n",
              "      <td>17</td>\n",
              "      <td>16.776854</td>\n",
              "      <td>0.853144</td>\n",
              "      <td>86</td>\n",
              "      <td>21.009302</td>\n",
              "      <td>4.639691e+04</td>\n",
              "      <td>4.260856e+04</td>\n",
              "      <td>1.320557e+06</td>\n",
              "      <td>1.653896e+05</td>\n",
              "      <td>5</td>\n",
              "      <td>21.500000</td>\n",
              "      <td>3.400000</td>\n",
              "      <td>4.201860</td>\n",
              "      <td>3.355371</td>\n",
              "    </tr>\n",
              "    <tr>\n",
              "      <th>3</th>\n",
              "      <td>0x9f265a9675dea8f97139015f62c84af1f6d687ae</td>\n",
              "      <td>15</td>\n",
              "      <td>2.100000</td>\n",
              "      <td>0.000634</td>\n",
              "      <td>3</td>\n",
              "      <td>2.099000</td>\n",
              "      <td>2.000000e+02</td>\n",
              "      <td>2.000000e+02</td>\n",
              "      <td>3.701651e+05</td>\n",
              "      <td>1.252319e+06</td>\n",
              "      <td>4</td>\n",
              "      <td>1.500000</td>\n",
              "      <td>5.000000</td>\n",
              "      <td>0.524750</td>\n",
              "      <td>0.525000</td>\n",
              "    </tr>\n",
              "    <tr>\n",
              "      <th>4</th>\n",
              "      <td>0xbad9298ef9a0c40ed1fb299a5e42269589aa15af</td>\n",
              "      <td>142</td>\n",
              "      <td>17.850288</td>\n",
              "      <td>0.010780</td>\n",
              "      <td>57</td>\n",
              "      <td>17.813826</td>\n",
              "      <td>3.000000e+00</td>\n",
              "      <td>1.000000e+02</td>\n",
              "      <td>2.403451e+05</td>\n",
              "      <td>5.987940e+05</td>\n",
              "      <td>14</td>\n",
              "      <td>4.384615</td>\n",
              "      <td>10.923077</td>\n",
              "      <td>1.272416</td>\n",
              "      <td>1.275021</td>\n",
              "    </tr>\n",
              "    <tr>\n",
              "      <th>5</th>\n",
              "      <td>0x79499a059830aa6fd6b40490b7de68b1c720529c</td>\n",
              "      <td>35</td>\n",
              "      <td>463.115509</td>\n",
              "      <td>52.071369</td>\n",
              "      <td>71</td>\n",
              "      <td>412.290253</td>\n",
              "      <td>1.742691e+02</td>\n",
              "      <td>1.600000e+02</td>\n",
              "      <td>1.359722e+06</td>\n",
              "      <td>6.143566e+05</td>\n",
              "      <td>16</td>\n",
              "      <td>5.071429</td>\n",
              "      <td>2.916667</td>\n",
              "      <td>25.768141</td>\n",
              "      <td>28.944718</td>\n",
              "    </tr>\n",
              "    <tr>\n",
              "      <th>6</th>\n",
              "      <td>0xb90f3ec5d52aac0b829ff2fbb8b2578091e37528</td>\n",
              "      <td>25</td>\n",
              "      <td>86.034355</td>\n",
              "      <td>0.000346</td>\n",
              "      <td>16</td>\n",
              "      <td>86.024895</td>\n",
              "      <td>8.826884e-11</td>\n",
              "      <td>8.820000e-11</td>\n",
              "      <td>1.689484e+05</td>\n",
              "      <td>1.059120e+06</td>\n",
              "      <td>5</td>\n",
              "      <td>3.200000</td>\n",
              "      <td>8.333333</td>\n",
              "      <td>17.204979</td>\n",
              "      <td>17.206871</td>\n",
              "    </tr>\n",
              "    <tr>\n",
              "      <th>7</th>\n",
              "      <td>0x92f2ffc2df773f23ead318c6a66d66c008234a39</td>\n",
              "      <td>11</td>\n",
              "      <td>15.124691</td>\n",
              "      <td>0.000166</td>\n",
              "      <td>10</td>\n",
              "      <td>15.120552</td>\n",
              "      <td>9.000002e-01</td>\n",
              "      <td>9.000002e-01</td>\n",
              "      <td>7.705801e+05</td>\n",
              "      <td>8.158763e+05</td>\n",
              "      <td>4</td>\n",
              "      <td>2.500000</td>\n",
              "      <td>2.750000</td>\n",
              "      <td>3.780138</td>\n",
              "      <td>3.781173</td>\n",
              "    </tr>\n",
              "    <tr>\n",
              "      <th>8</th>\n",
              "      <td>0x93f8a1e863a4dadef1b174574fd13db9969fed2e</td>\n",
              "      <td>85</td>\n",
              "      <td>481.718597</td>\n",
              "      <td>0.099016</td>\n",
              "      <td>131</td>\n",
              "      <td>481.539795</td>\n",
              "      <td>4.104039e+05</td>\n",
              "      <td>1.034752e+04</td>\n",
              "      <td>6.714073e+05</td>\n",
              "      <td>4.256105e+05</td>\n",
              "      <td>19</td>\n",
              "      <td>8.187500</td>\n",
              "      <td>5.666667</td>\n",
              "      <td>25.344199</td>\n",
              "      <td>25.353610</td>\n",
              "    </tr>\n",
              "    <tr>\n",
              "      <th>9</th>\n",
              "      <td>0x53aede30f584e9d9a7548ae8794526e85bba6bdd</td>\n",
              "      <td>14</td>\n",
              "      <td>12.313065</td>\n",
              "      <td>0.000422</td>\n",
              "      <td>12</td>\n",
              "      <td>12.304860</td>\n",
              "      <td>3.920766e+04</td>\n",
              "      <td>3.918960e+04</td>\n",
              "      <td>7.764251e+05</td>\n",
              "      <td>8.792482e+05</td>\n",
              "      <td>5</td>\n",
              "      <td>2.400000</td>\n",
              "      <td>2.800000</td>\n",
              "      <td>2.460972</td>\n",
              "      <td>2.462613</td>\n",
              "    </tr>\n",
              "  </tbody>\n",
              "</table>\n",
              "</div>"
            ],
            "text/plain": [
              "                                      address  ...  monthly_ether_recieved\n",
              "0  0xd4f8e83864c80ea703dd148c78b937cbec200243  ...                0.013500\n",
              "1  0xd9052a62ee61eec200c1972aa2a19fa3d5396b6d  ...                0.001724\n",
              "2  0xe6b4a32cc822980d652bb185b33db6be69d39a13  ...                3.355371\n",
              "3  0x9f265a9675dea8f97139015f62c84af1f6d687ae  ...                0.525000\n",
              "4  0xbad9298ef9a0c40ed1fb299a5e42269589aa15af  ...                1.275021\n",
              "5  0x79499a059830aa6fd6b40490b7de68b1c720529c  ...               28.944718\n",
              "6  0xb90f3ec5d52aac0b829ff2fbb8b2578091e37528  ...               17.206871\n",
              "7  0x92f2ffc2df773f23ead318c6a66d66c008234a39  ...                3.781173\n",
              "8  0x93f8a1e863a4dadef1b174574fd13db9969fed2e  ...               25.353610\n",
              "9  0x53aede30f584e9d9a7548ae8794526e85bba6bdd  ...                2.462613\n",
              "\n",
              "[10 rows x 15 columns]"
            ]
          },
          "metadata": {
            "tags": []
          },
          "execution_count": 75
        }
      ]
    },
    {
      "cell_type": "code",
      "metadata": {
        "colab_type": "code",
        "id": "1aNN9Zt3YNHa",
        "outputId": "8ec4f726-7e2d-4ea5-9cc8-3aca64faef4b",
        "colab": {
          "base_uri": "https://localhost:8080/",
          "height": 289
        }
      },
      "source": [
        "data.isna().sum()"
      ],
      "execution_count": 76,
      "outputs": [
        {
          "output_type": "execute_result",
          "data": {
            "text/plain": [
              "address                     0\n",
              "no_of_in_transactions       0\n",
              "tot_ether_recieved          0\n",
              "eth_balance                 0\n",
              "no_of_out_transactions      0\n",
              "tot_ether_sent              0\n",
              "tot_token_value_recieved    0\n",
              "tot_token_value_sent        0\n",
              "time_b/w_in_txn             0\n",
              "time_b/w_out_txn            0\n",
              "active_months               0\n",
              "monthly_out_txn             0\n",
              "monthly_in_txn              0\n",
              "monthly_ether_sent          0\n",
              "monthly_ether_recieved      0\n",
              "dtype: int64"
            ]
          },
          "metadata": {
            "tags": []
          },
          "execution_count": 76
        }
      ]
    },
    {
      "cell_type": "code",
      "metadata": {
        "id": "P44SI5ZqXmvr",
        "colab_type": "code",
        "colab": {}
      },
      "source": [
        "data['eth_balance'] = pd.to_numeric(data['eth_balance'],errors='coerce')\n",
        "data['monthly_out_txn'] = pd.to_numeric(data['monthly_out_txn'],errors='coerce')"
      ],
      "execution_count": 0,
      "outputs": []
    },
    {
      "cell_type": "code",
      "metadata": {
        "id": "YCRX7Q_4YTGO",
        "colab_type": "code",
        "outputId": "c368e7bf-c86c-47f7-f3c5-0885602b3a42",
        "colab": {
          "base_uri": "https://localhost:8080/",
          "height": 289
        }
      },
      "source": [
        "data.dtypes"
      ],
      "execution_count": 78,
      "outputs": [
        {
          "output_type": "execute_result",
          "data": {
            "text/plain": [
              "address                      object\n",
              "no_of_in_transactions         int64\n",
              "tot_ether_recieved          float32\n",
              "eth_balance                 float32\n",
              "no_of_out_transactions        int64\n",
              "tot_ether_sent              float32\n",
              "tot_token_value_recieved    float64\n",
              "tot_token_value_sent        float64\n",
              "time_b/w_in_txn             float64\n",
              "time_b/w_out_txn            float64\n",
              "active_months                 int64\n",
              "monthly_out_txn             float32\n",
              "monthly_in_txn              float64\n",
              "monthly_ether_sent          float64\n",
              "monthly_ether_recieved      float64\n",
              "dtype: object"
            ]
          },
          "metadata": {
            "tags": []
          },
          "execution_count": 78
        }
      ]
    },
    {
      "cell_type": "code",
      "metadata": {
        "id": "LKkDoLDgaNr8",
        "colab_type": "code",
        "colab": {}
      },
      "source": [
        "data.to_csv(r'/content/gdrive/My Drive/project_data/final_data.csv', index = False)"
      ],
      "execution_count": 0,
      "outputs": []
    },
    {
      "cell_type": "code",
      "metadata": {
        "id": "HLjCd9vjZ6dh",
        "colab_type": "code",
        "colab": {}
      },
      "source": [
        ""
      ],
      "execution_count": 0,
      "outputs": []
    }
  ]
}