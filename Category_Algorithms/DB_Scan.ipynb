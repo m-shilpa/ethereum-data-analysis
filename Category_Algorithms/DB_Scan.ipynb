{
  "nbformat": 4,
  "nbformat_minor": 0,
  "metadata": {
    "colab": {
      "name": "DB Scan(with labels).ipynb",
      "provenance": [],
      "authorship_tag": "ABX9TyNZ2a3NUNnfhYaKqcmQgvwk",
      "include_colab_link": true
    },
    "kernelspec": {
      "name": "python3",
      "display_name": "Python 3"
    }
  },
  "cells": [
    {
      "cell_type": "markdown",
      "metadata": {
        "id": "view-in-github",
        "colab_type": "text"
      },
      "source": [
        "<a href=\"https://colab.research.google.com/github/mshilpaa/ethereum-data-analysis/blob/master/Category_Algorithms/DB_Scan.ipynb\" target=\"_parent\"><img src=\"https://colab.research.google.com/assets/colab-badge.svg\" alt=\"Open In Colab\"/></a>"
      ]
    },
    {
      "cell_type": "code",
      "metadata": {
        "id": "andQrOPU_tss",
        "colab_type": "code",
        "outputId": "97eccac5-a517-457b-c84e-cd97f6216135",
        "colab": {
          "base_uri": "https://localhost:8080/",
          "height": 122
        }
      },
      "source": [
        "from google.colab import drive\n",
        "drive.mount('/content/gdrive')\n"
      ],
      "execution_count": 0,
      "outputs": [
        {
          "output_type": "stream",
          "text": [
            "Go to this URL in a browser: https://accounts.google.com/o/oauth2/auth?client_id=947318989803-6bn6qk8qdgf4n4g3pfee6491hc0brc4i.apps.googleusercontent.com&redirect_uri=urn%3aietf%3awg%3aoauth%3a2.0%3aoob&response_type=code&scope=email%20https%3a%2f%2fwww.googleapis.com%2fauth%2fdocs.test%20https%3a%2f%2fwww.googleapis.com%2fauth%2fdrive%20https%3a%2f%2fwww.googleapis.com%2fauth%2fdrive.photos.readonly%20https%3a%2f%2fwww.googleapis.com%2fauth%2fpeopleapi.readonly\n",
            "\n",
            "Enter your authorization code:\n",
            "··········\n",
            "Mounted at /content/gdrive\n"
          ],
          "name": "stdout"
        }
      ]
    },
    {
      "cell_type": "code",
      "metadata": {
        "id": "ChB1P4w8Alr6",
        "colab_type": "code",
        "colab": {}
      },
      "source": [
        "import matplotlib.pyplot as plt\n",
        "import numpy as np\n",
        "import pandas as pd\n",
        "from sklearn import cluster\n",
        "from sklearn.metrics import silhouette_score, silhouette_samples\n",
        "from sklearn.preprocessing import StandardScaler, PowerTransformer, FunctionTransformer\n",
        "from sklearn.decomposition import PCA\n",
        "from sklearn.pipeline import Pipeline\n",
        "import random\n",
        "from sklearn.cluster import KMeans\n",
        "import matplotlib.cm as cm\n",
        "from mpl_toolkits.mplot3d import Axes3D"
      ],
      "execution_count": 0,
      "outputs": []
    },
    {
      "cell_type": "code",
      "metadata": {
        "id": "m3CkAztxAoJC",
        "colab_type": "code",
        "colab": {}
      },
      "source": [
        "raw_data = pd.read_csv('/content/gdrive/My Drive/project_data/final_data.csv')\n",
        "data = raw_data.iloc[:30000,1:]"
      ],
      "execution_count": 0,
      "outputs": []
    },
    {
      "cell_type": "code",
      "metadata": {
        "id": "UdLXs_srAsuV",
        "colab_type": "code",
        "outputId": "5f8e279f-bc88-4cb9-8f85-7eb95042f6d1",
        "colab": {
          "base_uri": "https://localhost:8080/",
          "height": 224
        }
      },
      "source": [
        " data_with_labels = pd.read_csv('/content/gdrive/My Drive/project_data/final_data_of_labels.csv')\n",
        "\n",
        " without_address = data_with_labels.iloc[:,1:]\n",
        " without_address.head()\n",
        " frames = [without_address,data]\n",
        " data = pd.concat(frames)\n",
        " data.head()\n",
        " "
      ],
      "execution_count": 0,
      "outputs": [
        {
          "output_type": "execute_result",
          "data": {
            "text/html": [
              "<div>\n",
              "<style scoped>\n",
              "    .dataframe tbody tr th:only-of-type {\n",
              "        vertical-align: middle;\n",
              "    }\n",
              "\n",
              "    .dataframe tbody tr th {\n",
              "        vertical-align: top;\n",
              "    }\n",
              "\n",
              "    .dataframe thead th {\n",
              "        text-align: right;\n",
              "    }\n",
              "</style>\n",
              "<table border=\"1\" class=\"dataframe\">\n",
              "  <thead>\n",
              "    <tr style=\"text-align: right;\">\n",
              "      <th></th>\n",
              "      <th>no_of_in_transactions</th>\n",
              "      <th>tot_ether_recieved</th>\n",
              "      <th>eth_balance</th>\n",
              "      <th>no_of_out_transactions</th>\n",
              "      <th>tot_ether_sent</th>\n",
              "      <th>tot_token_value_recieved</th>\n",
              "      <th>tot_token_value_sent</th>\n",
              "      <th>time_b/w_in_txn</th>\n",
              "      <th>time_b/w_out_txn</th>\n",
              "      <th>active_months</th>\n",
              "      <th>monthly_out_txn</th>\n",
              "      <th>monthly_in_txn</th>\n",
              "      <th>monthly_ether_sent</th>\n",
              "      <th>monthly_ether_recieved</th>\n",
              "    </tr>\n",
              "  </thead>\n",
              "  <tbody>\n",
              "    <tr>\n",
              "      <th>0</th>\n",
              "      <td>76</td>\n",
              "      <td>0.731680</td>\n",
              "      <td>1.749834e+17</td>\n",
              "      <td>3370</td>\n",
              "      <td>5.515366</td>\n",
              "      <td>6.650000e+02</td>\n",
              "      <td>1.144667e+10</td>\n",
              "      <td>571899.631579</td>\n",
              "      <td>1.542536e+04</td>\n",
              "      <td>18</td>\n",
              "      <td>10.857143</td>\n",
              "      <td>187.222222</td>\n",
              "      <td>0.306409</td>\n",
              "      <td>0.040649</td>\n",
              "    </tr>\n",
              "    <tr>\n",
              "      <th>1</th>\n",
              "      <td>38</td>\n",
              "      <td>743.099990</td>\n",
              "      <td>1.173769e+20</td>\n",
              "      <td>107756</td>\n",
              "      <td>380.117988</td>\n",
              "      <td>4.578265e+12</td>\n",
              "      <td>3.926573e+12</td>\n",
              "      <td>881654.973684</td>\n",
              "      <td>3.142301e+02</td>\n",
              "      <td>14</td>\n",
              "      <td>3.800000</td>\n",
              "      <td>7700.285714</td>\n",
              "      <td>27.151285</td>\n",
              "      <td>53.078571</td>\n",
              "    </tr>\n",
              "    <tr>\n",
              "      <th>2</th>\n",
              "      <td>32</td>\n",
              "      <td>9574.442265</td>\n",
              "      <td>5.529880e+18</td>\n",
              "      <td>4187</td>\n",
              "      <td>13440.143033</td>\n",
              "      <td>2.215655e+56</td>\n",
              "      <td>3.021617e+56</td>\n",
              "      <td>254212.625000</td>\n",
              "      <td>2.146797e+03</td>\n",
              "      <td>5</td>\n",
              "      <td>8.000000</td>\n",
              "      <td>837.400000</td>\n",
              "      <td>2688.028607</td>\n",
              "      <td>1914.888453</td>\n",
              "    </tr>\n",
              "    <tr>\n",
              "      <th>3</th>\n",
              "      <td>55</td>\n",
              "      <td>40.151860</td>\n",
              "      <td>3.103932e+19</td>\n",
              "      <td>28</td>\n",
              "      <td>10.105297</td>\n",
              "      <td>1.262155e+07</td>\n",
              "      <td>1.382587e+05</td>\n",
              "      <td>824758.618182</td>\n",
              "      <td>1.212605e+06</td>\n",
              "      <td>14</td>\n",
              "      <td>4.583333</td>\n",
              "      <td>4.000000</td>\n",
              "      <td>0.721807</td>\n",
              "      <td>2.867990</td>\n",
              "    </tr>\n",
              "    <tr>\n",
              "      <th>4</th>\n",
              "      <td>43</td>\n",
              "      <td>183.158125</td>\n",
              "      <td>1.276902e+20</td>\n",
              "      <td>5762</td>\n",
              "      <td>54.066817</td>\n",
              "      <td>2.521367e+07</td>\n",
              "      <td>3.642789e+06</td>\n",
              "      <td>918001.674419</td>\n",
              "      <td>8.381761e+03</td>\n",
              "      <td>17</td>\n",
              "      <td>3.583333</td>\n",
              "      <td>338.941176</td>\n",
              "      <td>3.180401</td>\n",
              "      <td>10.774007</td>\n",
              "    </tr>\n",
              "  </tbody>\n",
              "</table>\n",
              "</div>"
            ],
            "text/plain": [
              "   no_of_in_transactions  ...  monthly_ether_recieved\n",
              "0                     76  ...                0.040649\n",
              "1                     38  ...               53.078571\n",
              "2                     32  ...             1914.888453\n",
              "3                     55  ...                2.867990\n",
              "4                     43  ...               10.774007\n",
              "\n",
              "[5 rows x 14 columns]"
            ]
          },
          "metadata": {
            "tags": []
          },
          "execution_count": 4
        }
      ]
    },
    {
      "cell_type": "code",
      "metadata": {
        "id": "nbOnt2j1AWhl",
        "colab_type": "code",
        "colab": {}
      },
      "source": [
        ""
      ],
      "execution_count": 0,
      "outputs": []
    },
    {
      "cell_type": "code",
      "metadata": {
        "id": "u6LXe1dsAD8H",
        "colab_type": "code",
        "outputId": "75980529-90c2-468e-9d46-24752921eac1",
        "colab": {
          "base_uri": "https://localhost:8080/",
          "height": 34
        }
      },
      "source": [
        "pipe = Pipeline([('scale', StandardScaler()), ('PCA', PCA(n_components=6))])\n",
        "\n",
        "results = pipe.fit_transform(data)\n",
        "\n",
        "from sklearn.cluster import DBSCAN\n",
        "\n",
        "db = DBSCAN(eps=.2)\n",
        "\n",
        "db.fit(results)\n",
        "\n",
        "print(db.components_.shape)\n",
        "\n",
        "labels = np.unique(db.labels_)\n",
        "indices = db.core_sample_indices_\n",
        "\n",
        "sample, outliers = results[indices], np.delete(results, indices, axis=0)\n",
        "s_labels, o_labels = db.labels_[indices], np.delete(db.labels_, indices, axis=0)"
      ],
      "execution_count": 0,
      "outputs": [
        {
          "output_type": "stream",
          "text": [
            "(29791, 6)\n"
          ],
          "name": "stdout"
        }
      ]
    },
    {
      "cell_type": "code",
      "metadata": {
        "id": "1Gw9UMhOAbaK",
        "colab_type": "code",
        "outputId": "203ec58a-9b33-489c-b938-932b3cd4e5f9",
        "colab": {
          "base_uri": "https://localhost:8080/",
          "height": 282
        }
      },
      "source": [
        "# plt.scatter(outliers[:,0], outliers[:,1], c='black', alpha=.2)\n",
        "plt.scatter(sample[:,3], sample[:,4], c= s_labels)\n",
        "\n",
        "# plt.xlim(-1,30)\n",
        "# plt.ylim(-1,20)"
      ],
      "execution_count": 0,
      "outputs": [
        {
          "output_type": "execute_result",
          "data": {
            "text/plain": [
              "<matplotlib.collections.PathCollection at 0x7fda09661d68>"
            ]
          },
          "metadata": {
            "tags": []
          },
          "execution_count": 8
        },
        {
          "output_type": "display_data",
          "data": {
            "image/png": "[encoded data removed]",
            "text/plain": [
              "<Figure size 432x288 with 1 Axes>"
            ]
          },
          "metadata": {
            "tags": [],
            "needs_background": "light"
          }
        }
      ]
    },
    {
      "cell_type": "code",
      "metadata": {
        "id": "0sFy2D0IAenO",
        "colab_type": "code",
        "outputId": "3b3c961a-b173-462b-86c5-c9699b50f391",
        "colab": {
          "base_uri": "https://localhost:8080/",
          "height": 286
        }
      },
      "source": [
        "\n",
        "plt.scatter(outliers[:,0], outliers[:,1], c='black', alpha=.2)\n",
        "plt.scatter(sample[:,0], sample[:,1], c= s_labels, alpha= .1)\n",
        "\n",
        "plt.xlim(-1,1)\n",
        "plt.ylim(-1,1)"
      ],
      "execution_count": 0,
      "outputs": [
        {
          "output_type": "execute_result",
          "data": {
            "text/plain": [
              "(-1.0, 1.0)"
            ]
          },
          "metadata": {
            "tags": []
          },
          "execution_count": 9
        },
        {
          "output_type": "display_data",
          "data": {
            "image/png": "[encoded data removed]",
            "text/plain": [
              "<Figure size 432x288 with 1 Axes>"
            ]
          },
          "metadata": {
            "tags": [],
            "needs_background": "light"
          }
        }
      ]
    },
    {
      "cell_type": "code",
      "metadata": {
        "id": "AtvdRkyhAgx8",
        "colab_type": "code",
        "outputId": "1515defc-53ae-414d-e257-c15f035c4993",
        "colab": {
          "base_uri": "https://localhost:8080/",
          "height": 34
        }
      },
      "source": [
        "\n",
        "np.unique(db.labels_)"
      ],
      "execution_count": 0,
      "outputs": [
        {
          "output_type": "execute_result",
          "data": {
            "text/plain": [
              "array([-1,  0,  1,  2,  3])"
            ]
          },
          "metadata": {
            "tags": []
          },
          "execution_count": 10
        }
      ]
    },
    {
      "cell_type": "code",
      "metadata": {
        "id": "j8Lr1GUMBEyL",
        "colab_type": "code",
        "colab": {}
      },
      "source": [
        "data['labels'] = pd.DataFrame(o_labels, columns=[\"Lables\"])\n",
        "data['address'] = pd.concat([data_with_labels.iloc[:,0],raw_data.iloc[:30000,0]])"
      ],
      "execution_count": 0,
      "outputs": []
    },
    {
      "cell_type": "code",
      "metadata": {
        "id": "S_xQgcdzB0Om",
        "colab_type": "code",
        "outputId": "77d4e805-8c83-441d-c0a0-e3352fc3a52b",
        "colab": {
          "base_uri": "https://localhost:8080/",
          "height": 224
        }
      },
      "source": [
        "data.head()"
      ],
      "execution_count": 0,
      "outputs": [
        {
          "output_type": "execute_result",
          "data": {
            "text/html": [
              "<div>\n",
              "<style scoped>\n",
              "    .dataframe tbody tr th:only-of-type {\n",
              "        vertical-align: middle;\n",
              "    }\n",
              "\n",
              "    .dataframe tbody tr th {\n",
              "        vertical-align: top;\n",
              "    }\n",
              "\n",
              "    .dataframe thead th {\n",
              "        text-align: right;\n",
              "    }\n",
              "</style>\n",
              "<table border=\"1\" class=\"dataframe\">\n",
              "  <thead>\n",
              "    <tr style=\"text-align: right;\">\n",
              "      <th></th>\n",
              "      <th>no_of_in_transactions</th>\n",
              "      <th>tot_ether_recieved</th>\n",
              "      <th>eth_balance</th>\n",
              "      <th>no_of_out_transactions</th>\n",
              "      <th>tot_ether_sent</th>\n",
              "      <th>tot_token_value_recieved</th>\n",
              "      <th>tot_token_value_sent</th>\n",
              "      <th>time_b/w_in_txn</th>\n",
              "      <th>time_b/w_out_txn</th>\n",
              "      <th>active_months</th>\n",
              "      <th>monthly_out_txn</th>\n",
              "      <th>monthly_in_txn</th>\n",
              "      <th>monthly_ether_sent</th>\n",
              "      <th>monthly_ether_recieved</th>\n",
              "      <th>labels</th>\n",
              "      <th>address</th>\n",
              "    </tr>\n",
              "  </thead>\n",
              "  <tbody>\n",
              "    <tr>\n",
              "      <th>0</th>\n",
              "      <td>76</td>\n",
              "      <td>0.731680</td>\n",
              "      <td>1.749834e+17</td>\n",
              "      <td>3370</td>\n",
              "      <td>5.515366</td>\n",
              "      <td>6.650000e+02</td>\n",
              "      <td>1.144667e+10</td>\n",
              "      <td>571899.631579</td>\n",
              "      <td>1.542536e+04</td>\n",
              "      <td>18</td>\n",
              "      <td>10.857143</td>\n",
              "      <td>187.222222</td>\n",
              "      <td>0.306409</td>\n",
              "      <td>0.040649</td>\n",
              "      <td>-1.0</td>\n",
              "      <td>0x1d1c9f70a68c129096d8181529041843e8bc1a30</td>\n",
              "    </tr>\n",
              "    <tr>\n",
              "      <th>1</th>\n",
              "      <td>38</td>\n",
              "      <td>743.099990</td>\n",
              "      <td>1.173769e+20</td>\n",
              "      <td>107756</td>\n",
              "      <td>380.117988</td>\n",
              "      <td>4.578265e+12</td>\n",
              "      <td>3.926573e+12</td>\n",
              "      <td>881654.973684</td>\n",
              "      <td>3.142301e+02</td>\n",
              "      <td>14</td>\n",
              "      <td>3.800000</td>\n",
              "      <td>7700.285714</td>\n",
              "      <td>27.151285</td>\n",
              "      <td>53.078571</td>\n",
              "      <td>-1.0</td>\n",
              "      <td>0x2faf487a4414fe77e2327f0bf4ae2a264a776ad2</td>\n",
              "    </tr>\n",
              "    <tr>\n",
              "      <th>2</th>\n",
              "      <td>32</td>\n",
              "      <td>9574.442265</td>\n",
              "      <td>5.529880e+18</td>\n",
              "      <td>4187</td>\n",
              "      <td>13440.143033</td>\n",
              "      <td>2.215655e+56</td>\n",
              "      <td>3.021617e+56</td>\n",
              "      <td>254212.625000</td>\n",
              "      <td>2.146797e+03</td>\n",
              "      <td>5</td>\n",
              "      <td>8.000000</td>\n",
              "      <td>837.400000</td>\n",
              "      <td>2688.028607</td>\n",
              "      <td>1914.888453</td>\n",
              "      <td>-1.0</td>\n",
              "      <td>0xaf8ae6955d07776ab690e565ba6fbc79b8de3a5d</td>\n",
              "    </tr>\n",
              "    <tr>\n",
              "      <th>3</th>\n",
              "      <td>55</td>\n",
              "      <td>40.151860</td>\n",
              "      <td>3.103932e+19</td>\n",
              "      <td>28</td>\n",
              "      <td>10.105297</td>\n",
              "      <td>1.262155e+07</td>\n",
              "      <td>1.382587e+05</td>\n",
              "      <td>824758.618182</td>\n",
              "      <td>1.212605e+06</td>\n",
              "      <td>14</td>\n",
              "      <td>4.583333</td>\n",
              "      <td>4.000000</td>\n",
              "      <td>0.721807</td>\n",
              "      <td>2.867990</td>\n",
              "      <td>-1.0</td>\n",
              "      <td>0x8b99f3660622e21f2910ecca7fbe51d654a1517d</td>\n",
              "    </tr>\n",
              "    <tr>\n",
              "      <th>4</th>\n",
              "      <td>43</td>\n",
              "      <td>183.158125</td>\n",
              "      <td>1.276902e+20</td>\n",
              "      <td>5762</td>\n",
              "      <td>54.066817</td>\n",
              "      <td>2.521367e+07</td>\n",
              "      <td>3.642789e+06</td>\n",
              "      <td>918001.674419</td>\n",
              "      <td>8.381761e+03</td>\n",
              "      <td>17</td>\n",
              "      <td>3.583333</td>\n",
              "      <td>338.941176</td>\n",
              "      <td>3.180401</td>\n",
              "      <td>10.774007</td>\n",
              "      <td>-1.0</td>\n",
              "      <td>0x15c5312e24482547ff35899afedcaeb572ecb029</td>\n",
              "    </tr>\n",
              "  </tbody>\n",
              "</table>\n",
              "</div>"
            ],
            "text/plain": [
              "   no_of_in_transactions  ...                                     address\n",
              "0                     76  ...  0x1d1c9f70a68c129096d8181529041843e8bc1a30\n",
              "1                     38  ...  0x2faf487a4414fe77e2327f0bf4ae2a264a776ad2\n",
              "2                     32  ...  0xaf8ae6955d07776ab690e565ba6fbc79b8de3a5d\n",
              "3                     55  ...  0x8b99f3660622e21f2910ecca7fbe51d654a1517d\n",
              "4                     43  ...  0x15c5312e24482547ff35899afedcaeb572ecb029\n",
              "\n",
              "[5 rows x 16 columns]"
            ]
          },
          "metadata": {
            "tags": []
          },
          "execution_count": 23
        }
      ]
    },
    {
      "cell_type": "code",
      "metadata": {
        "id": "35a9irD4ed4r",
        "colab_type": "code",
        "colab": {
          "base_uri": "https://localhost:8080/",
          "height": 34
        },
        "outputId": "3ef4c6a7-b839-4338-868e-ebdc0c06a1ae"
      },
      "source": [
        "X=outliers\n",
        "range_n_clusters = [5]\n",
        "silhouette_plotter(X, range_n_clusters,tsne_results)\n"
      ],
      "execution_count": 1,
      "outputs": [
        {
          "output_type": "stream",
          "text": [
            "For n_clusters = 5 The average silhouette_score is : 0.00063940452\n"
          ],
          "name": "stdout"
        }
      ]
    },
    {
      "cell_type": "code",
      "metadata": {
        "id": "9vzI2dFdHtLc",
        "colab_type": "code",
        "colab": {}
      },
      "source": [
        ""
      ],
      "execution_count": 0,
      "outputs": []
    }
  ]
}