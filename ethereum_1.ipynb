{
  "nbformat": 4,
  "nbformat_minor": 0,
  "metadata": {
    "colab": {
      "name": "ethereum 1.ipynb",
      "provenance": [],
      "collapsed_sections": [],
      "authorship_tag": "ABX9TyOeUFjTKbx64/jsbMJvHS+o",
      "include_colab_link": true
    },
    "kernelspec": {
      "name": "python3",
      "display_name": "Python 3"
    }
  },
  "cells": [
    {
      "cell_type": "markdown",
      "metadata": {
        "id": "view-in-github",
        "colab_type": "text"
      },
      "source": [
        "<a href=\"https://colab.research.google.com/github/mshilpaa/ethereum-data-analysis/blob/master/ethereum_1.ipynb\" target=\"_parent\"><img src=\"https://colab.research.google.com/assets/colab-badge.svg\" alt=\"Open In Colab\"/></a>"
      ]
    },
    {
      "cell_type": "code",
      "metadata": {
        "id": "UxAQ7xc8dae-",
        "colab_type": "code",
        "colab": {}
      },
      "source": [
        "import pandas as pd\n",
        "import numpy as np\n",
        "import matplotlib.pyplot as plt"
      ],
      "execution_count": 0,
      "outputs": []
    },
    {
      "cell_type": "code",
      "metadata": {
        "id": "4tVlIU_nb1ak",
        "colab_type": "code",
        "outputId": "10d50407-6a72-4547-bef4-5dc81a973b1d",
        "colab": {
          "base_uri": "https://localhost:8080/",
          "height": 50
        }
      },
      "source": [
        "\n",
        "# mount gdrive and unzip data\n",
        "from google.colab import drive\n",
        "drive.mount('/content/drive')\n",
        "\n",
        "%ls"
      ],
      "execution_count": 6,
      "outputs": [
        {
          "output_type": "stream",
          "text": [
            "Drive already mounted at /content/drive; to attempt to forcibly remount, call drive.mount(\"/content/drive\", force_remount=True).\n",
            "\u001b[0m\u001b[01;34mdrive\u001b[0m/  \u001b[01;34msample_data\u001b[0m/\n"
          ],
          "name": "stdout"
        }
      ]
    },
    {
      "cell_type": "markdown",
      "metadata": {
        "id": "bTH678LTnZm8",
        "colab_type": "text"
      },
      "source": [
        "24 attributes\n",
        "\n",
        "\n",
        "* outgoing_txns\t - outgoing taxes(txn_type = OUT)\n",
        "\n",
        "* incoming_txns  -  incoming taxes(txn_type = IN)\n",
        "\n",
        "* total_eth_sent - total of all ether where txn_type = OUT\n",
        "\n",
        "* avg_eth_sent  = total ether sent/ total no. of transactions of that addr.\n",
        "\n",
        "* total_usd_sent = total $ sent\n",
        "\n",
        "* avg_usd_sent\t= total $ sent/ total no. of transactions of that addr.\n",
        "\n",
        "* total_eth_recd\tis total ether recieved = total of all ether where (txn_type = IN)\n",
        "\n",
        "* avg_eth_recd\t= total ether recieved/ total no. of transactions of that addr.\n",
        "\n",
        "* total_usd_recd\t= total $ recieved\n",
        "\n",
        "* avg_usd_recd\t= total $ sent/ total no. of transactions of that addr.\n",
        "\n",
        "* active_months = count of no. of active months\n",
        "\n",
        "* monthly_outgoing_txns - for outgoing taxes(txn_type = OUT)\n",
        "\n",
        "* monthly_incoming_txns - for incoming taxes(txn_type = IN)\n",
        "\n",
        "* monthly_eth_sent - for outgoing taxes(txn_type = OUT)\t\n",
        "\n",
        "* monthly_usd_sent - for outgoing taxes(txn_type = OUT)\n",
        "\n",
        "* monthly_eth_recd - for incoming taxes(txn_type = IN)\n",
        "\n",
        "* monthly_usd_recd - for incoming taxes(txn_type = IN)\n",
        "\n",
        "* contracts_created - Data not available\n",
        "\n",
        "* contract_txns_sent - Data not available\t\n",
        "\n",
        "* incoming_avg_time_btwn_txns\t\n",
        "* incoming_std_time_btwn_txns\t\n",
        "* outgoing_avg_time_btwn_txns\t\n",
        "* outgoing_std_time_btwn_txns\t\n",
        "* num_tokens_used\teth_balance - not scraped"
      ]
    },
    {
      "cell_type": "code",
      "metadata": {
        "id": "TIqLkWhZFNDS",
        "colab_type": "code",
        "colab": {
          "base_uri": "https://localhost:8080/",
          "height": 196
        },
        "outputId": "a7f7036d-6d4f-455f-fd75-e9374fb9ec57"
      },
      "source": [
        "balance1 = pd.read_csv(\"/content/drive/My Drive/ethereum/balance_data.csv\", names = [\"index\",\t\"Address\",\t\"Balance(in Ether)\",\t\"Ether_value\",\t\"Token(in $)\"])\n",
        "balance1.head()"
      ],
      "execution_count": 7,
      "outputs": [
        {
          "output_type": "execute_result",
          "data": {
            "text/html": [
              "<div>\n",
              "<style scoped>\n",
              "    .dataframe tbody tr th:only-of-type {\n",
              "        vertical-align: middle;\n",
              "    }\n",
              "\n",
              "    .dataframe tbody tr th {\n",
              "        vertical-align: top;\n",
              "    }\n",
              "\n",
              "    .dataframe thead th {\n",
              "        text-align: right;\n",
              "    }\n",
              "</style>\n",
              "<table border=\"1\" class=\"dataframe\">\n",
              "  <thead>\n",
              "    <tr style=\"text-align: right;\">\n",
              "      <th></th>\n",
              "      <th>index</th>\n",
              "      <th>Address</th>\n",
              "      <th>Balance(in Ether)</th>\n",
              "      <th>Ether_value</th>\n",
              "      <th>Token(in $)</th>\n",
              "    </tr>\n",
              "  </thead>\n",
              "  <tbody>\n",
              "    <tr>\n",
              "      <th>0</th>\n",
              "      <td>NaN</td>\n",
              "      <td>Address</td>\n",
              "      <td>Balance</td>\n",
              "      <td>Ether_value</td>\n",
              "      <td>Token</td>\n",
              "    </tr>\n",
              "    <tr>\n",
              "      <th>1</th>\n",
              "      <td>0.0</td>\n",
              "      <td>0xc02aaa39b223fe8d0a0e5c4f27ead9083c756cc2</td>\n",
              "      <td>2,693,158.877369522185465701 Ether</td>\n",
              "      <td>$724,298,148.48 (@ $268.94/ETH)</td>\n",
              "      <td>$43,337.49</td>\n",
              "    </tr>\n",
              "    <tr>\n",
              "      <th>2</th>\n",
              "      <td>1.0</td>\n",
              "      <td>0xbe0eb53f46cd790cd13851d5eff43d12404d33e8</td>\n",
              "      <td>2,201,522.845657376622444548 Ether</td>\n",
              "      <td>$592,077,554.11 (@ $268.94/ETH)</td>\n",
              "      <td>$972,391,367.87</td>\n",
              "    </tr>\n",
              "    <tr>\n",
              "      <th>3</th>\n",
              "      <td>2.0</td>\n",
              "      <td>0x742d35cc6634c0532925a3b844bc454e4438f44e</td>\n",
              "      <td>2,140,144.987488917500000001 Ether</td>\n",
              "      <td>$575,570,592.94 (@ $268.94/ETH)</td>\n",
              "      <td>$760,226,604.60</td>\n",
              "    </tr>\n",
              "    <tr>\n",
              "      <th>4</th>\n",
              "      <td>3.0</td>\n",
              "      <td>0xdc76cd25977e0a5ae17155770273ad58648900d3</td>\n",
              "      <td>1,885,860.525755553677093 Ether</td>\n",
              "      <td>$509,201,200.56 (@ $270.01/ETH)</td>\n",
              "      <td>$61,061.89</td>\n",
              "    </tr>\n",
              "  </tbody>\n",
              "</table>\n",
              "</div>"
            ],
            "text/plain": [
              "   index  ...      Token(in $)\n",
              "0    NaN  ...            Token\n",
              "1    0.0  ...       $43,337.49\n",
              "2    1.0  ...  $972,391,367.87\n",
              "3    2.0  ...  $760,226,604.60\n",
              "4    3.0  ...       $61,061.89\n",
              "\n",
              "[5 rows x 5 columns]"
            ]
          },
          "metadata": {
            "tags": []
          },
          "execution_count": 7
        }
      ]
    },
    {
      "cell_type": "code",
      "metadata": {
        "id": "Vmr7luivtkZB",
        "colab_type": "code",
        "colab": {
          "base_uri": "https://localhost:8080/",
          "height": 117
        },
        "outputId": "4ec423f1-e9c9-4842-d83c-e67e7b5734fa"
      },
      "source": [
        "balance1.iloc[1]"
      ],
      "execution_count": 8,
      "outputs": [
        {
          "output_type": "execute_result",
          "data": {
            "text/plain": [
              "index                                                         0\n",
              "Address              0xc02aaa39b223fe8d0a0e5c4f27ead9083c756cc2\n",
              "Balance(in Ether)            2,693,158.877369522185465701 Ether\n",
              "Ether_value                     $724,298,148.48 (@ $268.94/ETH)\n",
              "Token(in $)                                          $43,337.49\n",
              "Name: 1, dtype: object"
            ]
          },
          "metadata": {
            "tags": []
          },
          "execution_count": 8
        }
      ]
    },
    {
      "cell_type": "code",
      "metadata": {
        "id": "2fy-hF2ad1vE",
        "colab_type": "code",
        "colab": {}
      },
      "source": [
        "# drop the row with column names\n",
        "balance1 = balance1.drop([0],axis = 0)"
      ],
      "execution_count": 0,
      "outputs": []
    },
    {
      "cell_type": "code",
      "metadata": {
        "id": "lgZs9Bcyd9eY",
        "colab_type": "code",
        "colab": {
          "base_uri": "https://localhost:8080/",
          "height": 196
        },
        "outputId": "b83724ab-1404-4fc3-b0ed-c41180074ffb"
      },
      "source": [
        "balance1.head()"
      ],
      "execution_count": 10,
      "outputs": [
        {
          "output_type": "execute_result",
          "data": {
            "text/html": [
              "<div>\n",
              "<style scoped>\n",
              "    .dataframe tbody tr th:only-of-type {\n",
              "        vertical-align: middle;\n",
              "    }\n",
              "\n",
              "    .dataframe tbody tr th {\n",
              "        vertical-align: top;\n",
              "    }\n",
              "\n",
              "    .dataframe thead th {\n",
              "        text-align: right;\n",
              "    }\n",
              "</style>\n",
              "<table border=\"1\" class=\"dataframe\">\n",
              "  <thead>\n",
              "    <tr style=\"text-align: right;\">\n",
              "      <th></th>\n",
              "      <th>index</th>\n",
              "      <th>Address</th>\n",
              "      <th>Balance(in Ether)</th>\n",
              "      <th>Ether_value</th>\n",
              "      <th>Token(in $)</th>\n",
              "    </tr>\n",
              "  </thead>\n",
              "  <tbody>\n",
              "    <tr>\n",
              "      <th>1</th>\n",
              "      <td>0.0</td>\n",
              "      <td>0xc02aaa39b223fe8d0a0e5c4f27ead9083c756cc2</td>\n",
              "      <td>2,693,158.877369522185465701 Ether</td>\n",
              "      <td>$724,298,148.48 (@ $268.94/ETH)</td>\n",
              "      <td>$43,337.49</td>\n",
              "    </tr>\n",
              "    <tr>\n",
              "      <th>2</th>\n",
              "      <td>1.0</td>\n",
              "      <td>0xbe0eb53f46cd790cd13851d5eff43d12404d33e8</td>\n",
              "      <td>2,201,522.845657376622444548 Ether</td>\n",
              "      <td>$592,077,554.11 (@ $268.94/ETH)</td>\n",
              "      <td>$972,391,367.87</td>\n",
              "    </tr>\n",
              "    <tr>\n",
              "      <th>3</th>\n",
              "      <td>2.0</td>\n",
              "      <td>0x742d35cc6634c0532925a3b844bc454e4438f44e</td>\n",
              "      <td>2,140,144.987488917500000001 Ether</td>\n",
              "      <td>$575,570,592.94 (@ $268.94/ETH)</td>\n",
              "      <td>$760,226,604.60</td>\n",
              "    </tr>\n",
              "    <tr>\n",
              "      <th>4</th>\n",
              "      <td>3.0</td>\n",
              "      <td>0xdc76cd25977e0a5ae17155770273ad58648900d3</td>\n",
              "      <td>1,885,860.525755553677093 Ether</td>\n",
              "      <td>$509,201,200.56 (@ $270.01/ETH)</td>\n",
              "      <td>$61,061.89</td>\n",
              "    </tr>\n",
              "    <tr>\n",
              "      <th>5</th>\n",
              "      <td>4.0</td>\n",
              "      <td>0x53d284357ec70ce289d6d64134dfac8e511c8a3d</td>\n",
              "      <td>1,378,754.144654378911481302 Ether</td>\n",
              "      <td>$372,277,406.60 (@ $270.01/ETH)</td>\n",
              "      <td>$166,680.94</td>\n",
              "    </tr>\n",
              "  </tbody>\n",
              "</table>\n",
              "</div>"
            ],
            "text/plain": [
              "   index  ...      Token(in $)\n",
              "1    0.0  ...       $43,337.49\n",
              "2    1.0  ...  $972,391,367.87\n",
              "3    2.0  ...  $760,226,604.60\n",
              "4    3.0  ...       $61,061.89\n",
              "5    4.0  ...      $166,680.94\n",
              "\n",
              "[5 rows x 5 columns]"
            ]
          },
          "metadata": {
            "tags": []
          },
          "execution_count": 10
        }
      ]
    },
    {
      "cell_type": "code",
      "metadata": {
        "id": "8deMBXnlLECu",
        "colab_type": "code",
        "colab": {
          "base_uri": "https://localhost:8080/",
          "height": 33
        },
        "outputId": "eda3b629-3854-46cd-efb6-b1252bc997f5"
      },
      "source": [
        "# no. of instances\n",
        "len(balance1)"
      ],
      "execution_count": 11,
      "outputs": [
        {
          "output_type": "execute_result",
          "data": {
            "text/plain": [
              "25"
            ]
          },
          "metadata": {
            "tags": []
          },
          "execution_count": 11
        }
      ]
    },
    {
      "cell_type": "code",
      "metadata": {
        "id": "nIeThXk6IdVe",
        "colab_type": "code",
        "colab": {
          "base_uri": "https://localhost:8080/",
          "height": 33
        },
        "outputId": "b3396139-3ed0-457a-c99d-3bfffc4e9836"
      },
      "source": [
        "# column names\n",
        "list(balance1.columns) "
      ],
      "execution_count": 12,
      "outputs": [
        {
          "output_type": "execute_result",
          "data": {
            "text/plain": [
              "['index', 'Address', 'Balance(in Ether)', 'Ether_value', 'Token(in $)']"
            ]
          },
          "metadata": {
            "tags": []
          },
          "execution_count": 12
        }
      ]
    },
    {
      "cell_type": "code",
      "metadata": {
        "id": "rE7c9taYdYV5",
        "colab_type": "code",
        "colab": {
          "base_uri": "https://localhost:8080/",
          "height": 196
        },
        "outputId": "0e7ccb79-045a-445b-fb27-096b20864f70"
      },
      "source": [
        "balance2 = pd.read_csv(\"/content/drive/My Drive/ethereum/balance_data1.csv\", names = [\"index\",\t\"Address\",\t\"Balance(in Ether)\",\t\"Ether_value\",\t\"Token(in $)\"])\n",
        "balance2.head()"
      ],
      "execution_count": 13,
      "outputs": [
        {
          "output_type": "execute_result",
          "data": {
            "text/html": [
              "<div>\n",
              "<style scoped>\n",
              "    .dataframe tbody tr th:only-of-type {\n",
              "        vertical-align: middle;\n",
              "    }\n",
              "\n",
              "    .dataframe tbody tr th {\n",
              "        vertical-align: top;\n",
              "    }\n",
              "\n",
              "    .dataframe thead th {\n",
              "        text-align: right;\n",
              "    }\n",
              "</style>\n",
              "<table border=\"1\" class=\"dataframe\">\n",
              "  <thead>\n",
              "    <tr style=\"text-align: right;\">\n",
              "      <th></th>\n",
              "      <th>index</th>\n",
              "      <th>Address</th>\n",
              "      <th>Balance(in Ether)</th>\n",
              "      <th>Ether_value</th>\n",
              "      <th>Token(in $)</th>\n",
              "    </tr>\n",
              "  </thead>\n",
              "  <tbody>\n",
              "    <tr>\n",
              "      <th>0</th>\n",
              "      <td>0</td>\n",
              "      <td>0xc02aaa39b223fe8d0a0e5c4f27ead9083c756cc2</td>\n",
              "      <td>2,698,132.463505611139822637 Ether</td>\n",
              "      <td>$760,765,429.41 (@ $281.96/ETH)</td>\n",
              "      <td>$40,227.34</td>\n",
              "    </tr>\n",
              "    <tr>\n",
              "      <th>1</th>\n",
              "      <td>1</td>\n",
              "      <td>0xbe0eb53f46cd790cd13851d5eff43d12404d33e8</td>\n",
              "      <td>2,201,522.844189725622444548 Ether</td>\n",
              "      <td>$620,741,381.15 (@ $281.96/ETH)</td>\n",
              "      <td>$1,019,385,392.03</td>\n",
              "    </tr>\n",
              "    <tr>\n",
              "      <th>2</th>\n",
              "      <td>2</td>\n",
              "      <td>0x742d35cc6634c0532925a3b844bc454e4438f44e</td>\n",
              "      <td>2,100,144.987320917500000001 Ether</td>\n",
              "      <td>$592,156,880.63 (@ $281.96/ETH)</td>\n",
              "      <td>$755,977,404.08</td>\n",
              "    </tr>\n",
              "    <tr>\n",
              "      <th>3</th>\n",
              "      <td>3</td>\n",
              "      <td>0xdc76cd25977e0a5ae17155770273ad58648900d3</td>\n",
              "      <td>1,885,860.525755553677093 Ether</td>\n",
              "      <td>$531,737,233.84 (@ $281.96/ETH)</td>\n",
              "      <td>$64,322.42</td>\n",
              "    </tr>\n",
              "    <tr>\n",
              "      <th>4</th>\n",
              "      <td>4</td>\n",
              "      <td>0x53d284357ec70ce289d6d64134dfac8e511c8a3d</td>\n",
              "      <td>1,378,754.144654898911481302 Ether</td>\n",
              "      <td>$388,753,518.63 (@ $281.96/ETH)</td>\n",
              "      <td>$172,229.71</td>\n",
              "    </tr>\n",
              "  </tbody>\n",
              "</table>\n",
              "</div>"
            ],
            "text/plain": [
              "   index  ...        Token(in $)\n",
              "0      0  ...         $40,227.34\n",
              "1      1  ...  $1,019,385,392.03\n",
              "2      2  ...    $755,977,404.08\n",
              "3      3  ...         $64,322.42\n",
              "4      4  ...        $172,229.71\n",
              "\n",
              "[5 rows x 5 columns]"
            ]
          },
          "metadata": {
            "tags": []
          },
          "execution_count": 13
        }
      ]
    },
    {
      "cell_type": "code",
      "metadata": {
        "id": "HJDC1cqnLKqc",
        "colab_type": "code",
        "colab": {
          "base_uri": "https://localhost:8080/",
          "height": 33
        },
        "outputId": "6a4013d8-860b-46bf-d65a-2e550bb99016"
      },
      "source": [
        "len(balance2)"
      ],
      "execution_count": 14,
      "outputs": [
        {
          "output_type": "execute_result",
          "data": {
            "text/plain": [
              "2208"
            ]
          },
          "metadata": {
            "tags": []
          },
          "execution_count": 14
        }
      ]
    },
    {
      "cell_type": "code",
      "metadata": {
        "id": "EW6bx2--Ikjy",
        "colab_type": "code",
        "colab": {
          "base_uri": "https://localhost:8080/",
          "height": 33
        },
        "outputId": "7a7f42bc-3215-471e-d98f-4f5ed0471766"
      },
      "source": [
        "list(balance2.columns) "
      ],
      "execution_count": 15,
      "outputs": [
        {
          "output_type": "execute_result",
          "data": {
            "text/plain": [
              "['index', 'Address', 'Balance(in Ether)', 'Ether_value', 'Token(in $)']"
            ]
          },
          "metadata": {
            "tags": []
          },
          "execution_count": 15
        }
      ]
    },
    {
      "cell_type": "code",
      "metadata": {
        "id": "U_cdl8ZG9WpQ",
        "colab_type": "code",
        "colab": {
          "base_uri": "https://localhost:8080/",
          "height": 196
        },
        "outputId": "f90a569f-e8e9-45d4-a83f-a09334f390fe"
      },
      "source": [
        "# concatenate the two files but make sure that their column names match\n",
        "balance = pd.concat([balance1, balance2], ignore_index=True, names = [\"index\",\t\"Address\",\t\"Balance(in Ether)\",\t\"Ether_value\",\t\"Token(in $)\"])\n",
        "balance.head()"
      ],
      "execution_count": 16,
      "outputs": [
        {
          "output_type": "execute_result",
          "data": {
            "text/html": [
              "<div>\n",
              "<style scoped>\n",
              "    .dataframe tbody tr th:only-of-type {\n",
              "        vertical-align: middle;\n",
              "    }\n",
              "\n",
              "    .dataframe tbody tr th {\n",
              "        vertical-align: top;\n",
              "    }\n",
              "\n",
              "    .dataframe thead th {\n",
              "        text-align: right;\n",
              "    }\n",
              "</style>\n",
              "<table border=\"1\" class=\"dataframe\">\n",
              "  <thead>\n",
              "    <tr style=\"text-align: right;\">\n",
              "      <th></th>\n",
              "      <th>index</th>\n",
              "      <th>Address</th>\n",
              "      <th>Balance(in Ether)</th>\n",
              "      <th>Ether_value</th>\n",
              "      <th>Token(in $)</th>\n",
              "    </tr>\n",
              "  </thead>\n",
              "  <tbody>\n",
              "    <tr>\n",
              "      <th>0</th>\n",
              "      <td>0.0</td>\n",
              "      <td>0xc02aaa39b223fe8d0a0e5c4f27ead9083c756cc2</td>\n",
              "      <td>2,693,158.877369522185465701 Ether</td>\n",
              "      <td>$724,298,148.48 (@ $268.94/ETH)</td>\n",
              "      <td>$43,337.49</td>\n",
              "    </tr>\n",
              "    <tr>\n",
              "      <th>1</th>\n",
              "      <td>1.0</td>\n",
              "      <td>0xbe0eb53f46cd790cd13851d5eff43d12404d33e8</td>\n",
              "      <td>2,201,522.845657376622444548 Ether</td>\n",
              "      <td>$592,077,554.11 (@ $268.94/ETH)</td>\n",
              "      <td>$972,391,367.87</td>\n",
              "    </tr>\n",
              "    <tr>\n",
              "      <th>2</th>\n",
              "      <td>2.0</td>\n",
              "      <td>0x742d35cc6634c0532925a3b844bc454e4438f44e</td>\n",
              "      <td>2,140,144.987488917500000001 Ether</td>\n",
              "      <td>$575,570,592.94 (@ $268.94/ETH)</td>\n",
              "      <td>$760,226,604.60</td>\n",
              "    </tr>\n",
              "    <tr>\n",
              "      <th>3</th>\n",
              "      <td>3.0</td>\n",
              "      <td>0xdc76cd25977e0a5ae17155770273ad58648900d3</td>\n",
              "      <td>1,885,860.525755553677093 Ether</td>\n",
              "      <td>$509,201,200.56 (@ $270.01/ETH)</td>\n",
              "      <td>$61,061.89</td>\n",
              "    </tr>\n",
              "    <tr>\n",
              "      <th>4</th>\n",
              "      <td>4.0</td>\n",
              "      <td>0x53d284357ec70ce289d6d64134dfac8e511c8a3d</td>\n",
              "      <td>1,378,754.144654378911481302 Ether</td>\n",
              "      <td>$372,277,406.60 (@ $270.01/ETH)</td>\n",
              "      <td>$166,680.94</td>\n",
              "    </tr>\n",
              "  </tbody>\n",
              "</table>\n",
              "</div>"
            ],
            "text/plain": [
              "   index  ...      Token(in $)\n",
              "0    0.0  ...       $43,337.49\n",
              "1    1.0  ...  $972,391,367.87\n",
              "2    2.0  ...  $760,226,604.60\n",
              "3    3.0  ...       $61,061.89\n",
              "4    4.0  ...      $166,680.94\n",
              "\n",
              "[5 rows x 5 columns]"
            ]
          },
          "metadata": {
            "tags": []
          },
          "execution_count": 16
        }
      ]
    },
    {
      "cell_type": "code",
      "metadata": {
        "id": "Oat4t_m5LP2Q",
        "colab_type": "code",
        "colab": {
          "base_uri": "https://localhost:8080/",
          "height": 33
        },
        "outputId": "5e176dbf-04e4-42d4-96c0-d7c3c64973c7"
      },
      "source": [
        "len(balance)"
      ],
      "execution_count": 17,
      "outputs": [
        {
          "output_type": "execute_result",
          "data": {
            "text/plain": [
              "2233"
            ]
          },
          "metadata": {
            "tags": []
          },
          "execution_count": 17
        }
      ]
    },
    {
      "cell_type": "code",
      "metadata": {
        "id": "U8IBG0rqIqOA",
        "colab_type": "code",
        "colab": {
          "base_uri": "https://localhost:8080/",
          "height": 33
        },
        "outputId": "c07806be-c58e-48ef-8cc7-f299b0dfb2b9"
      },
      "source": [
        "list(balance.columns) "
      ],
      "execution_count": 18,
      "outputs": [
        {
          "output_type": "execute_result",
          "data": {
            "text/plain": [
              "['index', 'Address', 'Balance(in Ether)', 'Ether_value', 'Token(in $)']"
            ]
          },
          "metadata": {
            "tags": []
          },
          "execution_count": 18
        }
      ]
    },
    {
      "cell_type": "markdown",
      "metadata": {
        "id": "GSdI1iBVJZEG",
        "colab_type": "text"
      },
      "source": [
        "Convert to dataframe"
      ]
    },
    {
      "cell_type": "code",
      "metadata": {
        "id": "EYX99YgYCGx2",
        "colab_type": "code",
        "colab": {
          "base_uri": "https://localhost:8080/",
          "height": 196
        },
        "outputId": "a4686f84-b53b-4d2b-b4f1-e07d825a81d0"
      },
      "source": [
        "balance = pd.DataFrame(balance)\n",
        "balance.head()"
      ],
      "execution_count": 19,
      "outputs": [
        {
          "output_type": "execute_result",
          "data": {
            "text/html": [
              "<div>\n",
              "<style scoped>\n",
              "    .dataframe tbody tr th:only-of-type {\n",
              "        vertical-align: middle;\n",
              "    }\n",
              "\n",
              "    .dataframe tbody tr th {\n",
              "        vertical-align: top;\n",
              "    }\n",
              "\n",
              "    .dataframe thead th {\n",
              "        text-align: right;\n",
              "    }\n",
              "</style>\n",
              "<table border=\"1\" class=\"dataframe\">\n",
              "  <thead>\n",
              "    <tr style=\"text-align: right;\">\n",
              "      <th></th>\n",
              "      <th>index</th>\n",
              "      <th>Address</th>\n",
              "      <th>Balance(in Ether)</th>\n",
              "      <th>Ether_value</th>\n",
              "      <th>Token(in $)</th>\n",
              "    </tr>\n",
              "  </thead>\n",
              "  <tbody>\n",
              "    <tr>\n",
              "      <th>0</th>\n",
              "      <td>0.0</td>\n",
              "      <td>0xc02aaa39b223fe8d0a0e5c4f27ead9083c756cc2</td>\n",
              "      <td>2,693,158.877369522185465701 Ether</td>\n",
              "      <td>$724,298,148.48 (@ $268.94/ETH)</td>\n",
              "      <td>$43,337.49</td>\n",
              "    </tr>\n",
              "    <tr>\n",
              "      <th>1</th>\n",
              "      <td>1.0</td>\n",
              "      <td>0xbe0eb53f46cd790cd13851d5eff43d12404d33e8</td>\n",
              "      <td>2,201,522.845657376622444548 Ether</td>\n",
              "      <td>$592,077,554.11 (@ $268.94/ETH)</td>\n",
              "      <td>$972,391,367.87</td>\n",
              "    </tr>\n",
              "    <tr>\n",
              "      <th>2</th>\n",
              "      <td>2.0</td>\n",
              "      <td>0x742d35cc6634c0532925a3b844bc454e4438f44e</td>\n",
              "      <td>2,140,144.987488917500000001 Ether</td>\n",
              "      <td>$575,570,592.94 (@ $268.94/ETH)</td>\n",
              "      <td>$760,226,604.60</td>\n",
              "    </tr>\n",
              "    <tr>\n",
              "      <th>3</th>\n",
              "      <td>3.0</td>\n",
              "      <td>0xdc76cd25977e0a5ae17155770273ad58648900d3</td>\n",
              "      <td>1,885,860.525755553677093 Ether</td>\n",
              "      <td>$509,201,200.56 (@ $270.01/ETH)</td>\n",
              "      <td>$61,061.89</td>\n",
              "    </tr>\n",
              "    <tr>\n",
              "      <th>4</th>\n",
              "      <td>4.0</td>\n",
              "      <td>0x53d284357ec70ce289d6d64134dfac8e511c8a3d</td>\n",
              "      <td>1,378,754.144654378911481302 Ether</td>\n",
              "      <td>$372,277,406.60 (@ $270.01/ETH)</td>\n",
              "      <td>$166,680.94</td>\n",
              "    </tr>\n",
              "  </tbody>\n",
              "</table>\n",
              "</div>"
            ],
            "text/plain": [
              "   index  ...      Token(in $)\n",
              "0    0.0  ...       $43,337.49\n",
              "1    1.0  ...  $972,391,367.87\n",
              "2    2.0  ...  $760,226,604.60\n",
              "3    3.0  ...       $61,061.89\n",
              "4    4.0  ...      $166,680.94\n",
              "\n",
              "[5 rows x 5 columns]"
            ]
          },
          "metadata": {
            "tags": []
          },
          "execution_count": 19
        }
      ]
    },
    {
      "cell_type": "code",
      "metadata": {
        "id": "Omo5DRQPKDFx",
        "colab_type": "code",
        "colab": {}
      },
      "source": [
        "# Remove the first column as it only the index\n",
        "balance = balance.drop(['index'], axis=1)"
      ],
      "execution_count": 0,
      "outputs": []
    },
    {
      "cell_type": "code",
      "metadata": {
        "id": "S7cw_7FjKLNa",
        "colab_type": "code",
        "colab": {
          "base_uri": "https://localhost:8080/",
          "height": 644
        },
        "outputId": "3b1acf89-03f6-44e0-e0ce-94a77198b193"
      },
      "source": [
        "balance.head(20)"
      ],
      "execution_count": 21,
      "outputs": [
        {
          "output_type": "execute_result",
          "data": {
            "text/html": [
              "<div>\n",
              "<style scoped>\n",
              "    .dataframe tbody tr th:only-of-type {\n",
              "        vertical-align: middle;\n",
              "    }\n",
              "\n",
              "    .dataframe tbody tr th {\n",
              "        vertical-align: top;\n",
              "    }\n",
              "\n",
              "    .dataframe thead th {\n",
              "        text-align: right;\n",
              "    }\n",
              "</style>\n",
              "<table border=\"1\" class=\"dataframe\">\n",
              "  <thead>\n",
              "    <tr style=\"text-align: right;\">\n",
              "      <th></th>\n",
              "      <th>Address</th>\n",
              "      <th>Balance(in Ether)</th>\n",
              "      <th>Ether_value</th>\n",
              "      <th>Token(in $)</th>\n",
              "    </tr>\n",
              "  </thead>\n",
              "  <tbody>\n",
              "    <tr>\n",
              "      <th>0</th>\n",
              "      <td>0xc02aaa39b223fe8d0a0e5c4f27ead9083c756cc2</td>\n",
              "      <td>2,693,158.877369522185465701 Ether</td>\n",
              "      <td>$724,298,148.48 (@ $268.94/ETH)</td>\n",
              "      <td>$43,337.49</td>\n",
              "    </tr>\n",
              "    <tr>\n",
              "      <th>1</th>\n",
              "      <td>0xbe0eb53f46cd790cd13851d5eff43d12404d33e8</td>\n",
              "      <td>2,201,522.845657376622444548 Ether</td>\n",
              "      <td>$592,077,554.11 (@ $268.94/ETH)</td>\n",
              "      <td>$972,391,367.87</td>\n",
              "    </tr>\n",
              "    <tr>\n",
              "      <th>2</th>\n",
              "      <td>0x742d35cc6634c0532925a3b844bc454e4438f44e</td>\n",
              "      <td>2,140,144.987488917500000001 Ether</td>\n",
              "      <td>$575,570,592.94 (@ $268.94/ETH)</td>\n",
              "      <td>$760,226,604.60</td>\n",
              "    </tr>\n",
              "    <tr>\n",
              "      <th>3</th>\n",
              "      <td>0xdc76cd25977e0a5ae17155770273ad58648900d3</td>\n",
              "      <td>1,885,860.525755553677093 Ether</td>\n",
              "      <td>$509,201,200.56 (@ $270.01/ETH)</td>\n",
              "      <td>$61,061.89</td>\n",
              "    </tr>\n",
              "    <tr>\n",
              "      <th>4</th>\n",
              "      <td>0x53d284357ec70ce289d6d64134dfac8e511c8a3d</td>\n",
              "      <td>1,378,754.144654378911481302 Ether</td>\n",
              "      <td>$372,277,406.60 (@ $270.01/ETH)</td>\n",
              "      <td>$166,680.94</td>\n",
              "    </tr>\n",
              "    <tr>\n",
              "      <th>5</th>\n",
              "      <td>0xab7c74abc0c4d48d1bdad5dcb26153fc8780f83e</td>\n",
              "      <td>999,999.014703265377777771 Ether</td>\n",
              "      <td>$270,009,733.96 (@ $270.01/ETH)</td>\n",
              "      <td>$159,973.57</td>\n",
              "    </tr>\n",
              "    <tr>\n",
              "      <th>6</th>\n",
              "      <td>0xe853c56864a2ebe4576a807d26fdc4a0ada51919</td>\n",
              "      <td>801,052.799959724594886 Ether</td>\n",
              "      <td>$215,435,140.02 (@ $268.94/ETH)</td>\n",
              "      <td>$337,738.70</td>\n",
              "    </tr>\n",
              "    <tr>\n",
              "      <th>7</th>\n",
              "      <td>0x997114ca0830e9bee7443368fa27f4af2d4e55a6</td>\n",
              "      <td>789,534.621004200000000001 Ether</td>\n",
              "      <td>$212,337,440.97 (@ $268.94/ETH)</td>\n",
              "      <td>$1.10</td>\n",
              "    </tr>\n",
              "    <tr>\n",
              "      <th>8</th>\n",
              "      <td>0x66f820a414680b5bcda5eeca5dea238543f42054</td>\n",
              "      <td>775,000.574169655945276777 Ether</td>\n",
              "      <td>$208,428,654.42 (@ $268.94/ETH)</td>\n",
              "      <td>$404,372,462.56</td>\n",
              "    </tr>\n",
              "    <tr>\n",
              "      <th>9</th>\n",
              "      <td>0x61edcdf5bb737adffe5043706e7c5bb1f1a56eea</td>\n",
              "      <td>770,999.002833340000000001 Ether</td>\n",
              "      <td>$207,352,471.82 (@ $268.94/ETH)</td>\n",
              "      <td>$63,545.97</td>\n",
              "    </tr>\n",
              "    <tr>\n",
              "      <th>10</th>\n",
              "      <td>0x229b5c097f9b35009ca1321ad2034d4b3d5070f6</td>\n",
              "      <td>657,334.142686969707175071 Ether</td>\n",
              "      <td>$177,486,791.87 (@ $270.01/ETH)</td>\n",
              "      <td>$14,819.52</td>\n",
              "    </tr>\n",
              "    <tr>\n",
              "      <th>11</th>\n",
              "      <td>0x267f70f9b856de226fea5fc1b0a8e319c72ceff5</td>\n",
              "      <td>596,867.405964952300991673 Ether</td>\n",
              "      <td>$161,160,168.28 (@ $270.01/ETH)</td>\n",
              "      <td>$339,774.34</td>\n",
              "    </tr>\n",
              "    <tr>\n",
              "      <th>12</th>\n",
              "      <td>0xde0b295669a9fd93d5f28d9ec85e40f4cb697bae</td>\n",
              "      <td>595,623.399288773018344492 Ether</td>\n",
              "      <td>$160,824,274.04 (@ $270.01/ETH)</td>\n",
              "      <td>$88,604.22</td>\n",
              "    </tr>\n",
              "    <tr>\n",
              "      <th>13</th>\n",
              "      <td>0x1b3cb81e51011b549d78bf720b0d924ac763a7c2</td>\n",
              "      <td>560,000.00003 Ether</td>\n",
              "      <td>$151,205,600.01 (@ $270.01/ETH)</td>\n",
              "      <td>$67,664.89</td>\n",
              "    </tr>\n",
              "    <tr>\n",
              "      <th>14</th>\n",
              "      <td>0x07ee55aa48bb72dcc6e9d78256648910de513eca</td>\n",
              "      <td>532,527.711484627140000001 Ether</td>\n",
              "      <td>$143,787,807.38 (@ $270.01/ETH)</td>\n",
              "      <td>$76,136.29</td>\n",
              "    </tr>\n",
              "    <tr>\n",
              "      <th>15</th>\n",
              "      <td>0xc11d52cbb5b19c1802097e448beff8bf35942946</td>\n",
              "      <td>460,000.308710356867494173 Ether</td>\n",
              "      <td>$124,204,683.35 (@ $270.01/ETH)</td>\n",
              "      <td>$17,693.92</td>\n",
              "    </tr>\n",
              "    <tr>\n",
              "      <th>16</th>\n",
              "      <td>0xe92d1a43df510f82c66382592a047d288f85226f</td>\n",
              "      <td>450,000.020665726438778778 Ether</td>\n",
              "      <td>$121,504,505.58 (@ $270.01/ETH)</td>\n",
              "      <td>$10,141.27</td>\n",
              "    </tr>\n",
              "    <tr>\n",
              "      <th>17</th>\n",
              "      <td>0x73bceb1cd57c711feac4224d062b0f6ff338501e</td>\n",
              "      <td>410,238.786772172 Ether</td>\n",
              "      <td>$110,768,574.82 (@ $270.01/ETH)</td>\n",
              "      <td>$7,826.70</td>\n",
              "    </tr>\n",
              "    <tr>\n",
              "      <th>18</th>\n",
              "      <td>0xd273bd546b11bd60214a2f9d71f22a088aafe31b</td>\n",
              "      <td>400,001.231001001001001001 Ether</td>\n",
              "      <td>$108,004,332.38 (@ $270.01/ETH)</td>\n",
              "      <td>$260.03</td>\n",
              "    </tr>\n",
              "    <tr>\n",
              "      <th>19</th>\n",
              "      <td>0x4ddc2d193948926d02f9b1fe9e1daa0718270ed5</td>\n",
              "      <td>391,533.453663026736021124 Ether</td>\n",
              "      <td>$105,717,947.82 (@ $270.01/ETH)</td>\n",
              "      <td>$10,854.81</td>\n",
              "    </tr>\n",
              "  </tbody>\n",
              "</table>\n",
              "</div>"
            ],
            "text/plain": [
              "                                       Address  ...      Token(in $)\n",
              "0   0xc02aaa39b223fe8d0a0e5c4f27ead9083c756cc2  ...       $43,337.49\n",
              "1   0xbe0eb53f46cd790cd13851d5eff43d12404d33e8  ...  $972,391,367.87\n",
              "2   0x742d35cc6634c0532925a3b844bc454e4438f44e  ...  $760,226,604.60\n",
              "3   0xdc76cd25977e0a5ae17155770273ad58648900d3  ...       $61,061.89\n",
              "4   0x53d284357ec70ce289d6d64134dfac8e511c8a3d  ...      $166,680.94\n",
              "5   0xab7c74abc0c4d48d1bdad5dcb26153fc8780f83e  ...      $159,973.57\n",
              "6   0xe853c56864a2ebe4576a807d26fdc4a0ada51919  ...      $337,738.70\n",
              "7   0x997114ca0830e9bee7443368fa27f4af2d4e55a6  ...            $1.10\n",
              "8   0x66f820a414680b5bcda5eeca5dea238543f42054  ...  $404,372,462.56\n",
              "9   0x61edcdf5bb737adffe5043706e7c5bb1f1a56eea  ...       $63,545.97\n",
              "10  0x229b5c097f9b35009ca1321ad2034d4b3d5070f6  ...       $14,819.52\n",
              "11  0x267f70f9b856de226fea5fc1b0a8e319c72ceff5  ...      $339,774.34\n",
              "12  0xde0b295669a9fd93d5f28d9ec85e40f4cb697bae  ...       $88,604.22\n",
              "13  0x1b3cb81e51011b549d78bf720b0d924ac763a7c2  ...       $67,664.89\n",
              "14  0x07ee55aa48bb72dcc6e9d78256648910de513eca  ...       $76,136.29\n",
              "15  0xc11d52cbb5b19c1802097e448beff8bf35942946  ...       $17,693.92\n",
              "16  0xe92d1a43df510f82c66382592a047d288f85226f  ...       $10,141.27\n",
              "17  0x73bceb1cd57c711feac4224d062b0f6ff338501e  ...        $7,826.70\n",
              "18  0xd273bd546b11bd60214a2f9d71f22a088aafe31b  ...          $260.03\n",
              "19  0x4ddc2d193948926d02f9b1fe9e1daa0718270ed5  ...       $10,854.81\n",
              "\n",
              "[20 rows x 4 columns]"
            ]
          },
          "metadata": {
            "tags": []
          },
          "execution_count": 21
        }
      ]
    },
    {
      "cell_type": "code",
      "metadata": {
        "id": "UCI1rI4OJM4_",
        "colab_type": "code",
        "colab": {
          "base_uri": "https://localhost:8080/",
          "height": 33
        },
        "outputId": "b26e201b-fbc2-46de-d404-a8b4f4ad322a"
      },
      "source": [
        "list(balance.columns) "
      ],
      "execution_count": 22,
      "outputs": [
        {
          "output_type": "execute_result",
          "data": {
            "text/plain": [
              "['Address', 'Balance(in Ether)', 'Ether_value', 'Token(in $)']"
            ]
          },
          "metadata": {
            "tags": []
          },
          "execution_count": 22
        }
      ]
    },
    {
      "cell_type": "code",
      "metadata": {
        "id": "mY_tISNVeXan",
        "colab_type": "code",
        "colab": {}
      },
      "source": [
        "# replace 'Ether' and ',' in the Balance(in Ether) column with '' and convert it to float using to_numeric\n",
        "balance['Balance(in Ether)'] = balance['Balance(in Ether)'].str.replace('Ether', '') \n",
        "balance['Balance(in Ether)'] = pd.to_numeric(balance['Balance(in Ether)'].str.replace(',', ''))"
      ],
      "execution_count": 0,
      "outputs": []
    },
    {
      "cell_type": "code",
      "metadata": {
        "id": "zEZavA9Rfzqs",
        "colab_type": "code",
        "colab": {}
      },
      "source": [
        "# replace '$' and ',' in the Token(in $) column with '' and convert it to float using to_numeric\n",
        "balance['Token(in $)'] = balance['Token(in $)'].str.replace('$', '')\n",
        "balance['Token(in $)'] = pd.to_numeric(balance['Token(in $)'].str.replace(',', ''))"
      ],
      "execution_count": 0,
      "outputs": []
    },
    {
      "cell_type": "code",
      "metadata": {
        "id": "QmXS1GDhfnkF",
        "colab_type": "code",
        "colab": {
          "base_uri": "https://localhost:8080/",
          "height": 100
        },
        "outputId": "c1ad51fa-510f-449a-9530-70b8c1c27086"
      },
      "source": [
        "print(balance.dtypes)"
      ],
      "execution_count": 25,
      "outputs": [
        {
          "output_type": "stream",
          "text": [
            "Address               object\n",
            "Balance(in Ether)    float64\n",
            "Ether_value           object\n",
            "Token(in $)          float64\n",
            "dtype: object\n"
          ],
          "name": "stdout"
        }
      ]
    },
    {
      "cell_type": "code",
      "metadata": {
        "id": "J0d6Z1xXe9lm",
        "colab_type": "code",
        "colab": {
          "base_uri": "https://localhost:8080/",
          "height": 196
        },
        "outputId": "162976cb-626b-429b-bf6d-fe66819abc55"
      },
      "source": [
        "balance.head()"
      ],
      "execution_count": 26,
      "outputs": [
        {
          "output_type": "execute_result",
          "data": {
            "text/html": [
              "<div>\n",
              "<style scoped>\n",
              "    .dataframe tbody tr th:only-of-type {\n",
              "        vertical-align: middle;\n",
              "    }\n",
              "\n",
              "    .dataframe tbody tr th {\n",
              "        vertical-align: top;\n",
              "    }\n",
              "\n",
              "    .dataframe thead th {\n",
              "        text-align: right;\n",
              "    }\n",
              "</style>\n",
              "<table border=\"1\" class=\"dataframe\">\n",
              "  <thead>\n",
              "    <tr style=\"text-align: right;\">\n",
              "      <th></th>\n",
              "      <th>Address</th>\n",
              "      <th>Balance(in Ether)</th>\n",
              "      <th>Ether_value</th>\n",
              "      <th>Token(in $)</th>\n",
              "    </tr>\n",
              "  </thead>\n",
              "  <tbody>\n",
              "    <tr>\n",
              "      <th>0</th>\n",
              "      <td>0xc02aaa39b223fe8d0a0e5c4f27ead9083c756cc2</td>\n",
              "      <td>2.693159e+06</td>\n",
              "      <td>$724,298,148.48 (@ $268.94/ETH)</td>\n",
              "      <td>4.333749e+04</td>\n",
              "    </tr>\n",
              "    <tr>\n",
              "      <th>1</th>\n",
              "      <td>0xbe0eb53f46cd790cd13851d5eff43d12404d33e8</td>\n",
              "      <td>2.201523e+06</td>\n",
              "      <td>$592,077,554.11 (@ $268.94/ETH)</td>\n",
              "      <td>9.723914e+08</td>\n",
              "    </tr>\n",
              "    <tr>\n",
              "      <th>2</th>\n",
              "      <td>0x742d35cc6634c0532925a3b844bc454e4438f44e</td>\n",
              "      <td>2.140145e+06</td>\n",
              "      <td>$575,570,592.94 (@ $268.94/ETH)</td>\n",
              "      <td>7.602266e+08</td>\n",
              "    </tr>\n",
              "    <tr>\n",
              "      <th>3</th>\n",
              "      <td>0xdc76cd25977e0a5ae17155770273ad58648900d3</td>\n",
              "      <td>1.885861e+06</td>\n",
              "      <td>$509,201,200.56 (@ $270.01/ETH)</td>\n",
              "      <td>6.106189e+04</td>\n",
              "    </tr>\n",
              "    <tr>\n",
              "      <th>4</th>\n",
              "      <td>0x53d284357ec70ce289d6d64134dfac8e511c8a3d</td>\n",
              "      <td>1.378754e+06</td>\n",
              "      <td>$372,277,406.60 (@ $270.01/ETH)</td>\n",
              "      <td>1.666809e+05</td>\n",
              "    </tr>\n",
              "  </tbody>\n",
              "</table>\n",
              "</div>"
            ],
            "text/plain": [
              "                                      Address  ...   Token(in $)\n",
              "0  0xc02aaa39b223fe8d0a0e5c4f27ead9083c756cc2  ...  4.333749e+04\n",
              "1  0xbe0eb53f46cd790cd13851d5eff43d12404d33e8  ...  9.723914e+08\n",
              "2  0x742d35cc6634c0532925a3b844bc454e4438f44e  ...  7.602266e+08\n",
              "3  0xdc76cd25977e0a5ae17155770273ad58648900d3  ...  6.106189e+04\n",
              "4  0x53d284357ec70ce289d6d64134dfac8e511c8a3d  ...  1.666809e+05\n",
              "\n",
              "[5 rows x 4 columns]"
            ]
          },
          "metadata": {
            "tags": []
          },
          "execution_count": 26
        }
      ]
    },
    {
      "cell_type": "code",
      "metadata": {
        "id": "IWN17cUigGgu",
        "colab_type": "code",
        "colab": {}
      },
      "source": [
        "# split the 'Ether_value' column into 2 columns \n",
        "balance[['Total Ether_value(in $)','$ per Ether']] = balance[\"Ether_value\"].str.split(\"(\",expand=True)"
      ],
      "execution_count": 0,
      "outputs": []
    },
    {
      "cell_type": "code",
      "metadata": {
        "id": "AkK-oSYriHHI",
        "colab_type": "code",
        "colab": {}
      },
      "source": [
        "# Remove the \"Ether_value\" column as it is not needed anymore\n",
        "balance = balance.drop(['Ether_value'], axis=1)"
      ],
      "execution_count": 0,
      "outputs": []
    },
    {
      "cell_type": "code",
      "metadata": {
        "id": "W5DRCyTcg-qp",
        "colab_type": "code",
        "colab": {
          "base_uri": "https://localhost:8080/",
          "height": 196
        },
        "outputId": "b17a8414-b6cb-4558-b9d9-fe4c8fa2aee6"
      },
      "source": [
        "balance.head()"
      ],
      "execution_count": 29,
      "outputs": [
        {
          "output_type": "execute_result",
          "data": {
            "text/html": [
              "<div>\n",
              "<style scoped>\n",
              "    .dataframe tbody tr th:only-of-type {\n",
              "        vertical-align: middle;\n",
              "    }\n",
              "\n",
              "    .dataframe tbody tr th {\n",
              "        vertical-align: top;\n",
              "    }\n",
              "\n",
              "    .dataframe thead th {\n",
              "        text-align: right;\n",
              "    }\n",
              "</style>\n",
              "<table border=\"1\" class=\"dataframe\">\n",
              "  <thead>\n",
              "    <tr style=\"text-align: right;\">\n",
              "      <th></th>\n",
              "      <th>Address</th>\n",
              "      <th>Balance(in Ether)</th>\n",
              "      <th>Token(in $)</th>\n",
              "      <th>Total Ether_value(in $)</th>\n",
              "      <th>$ per Ether</th>\n",
              "    </tr>\n",
              "  </thead>\n",
              "  <tbody>\n",
              "    <tr>\n",
              "      <th>0</th>\n",
              "      <td>0xc02aaa39b223fe8d0a0e5c4f27ead9083c756cc2</td>\n",
              "      <td>2.693159e+06</td>\n",
              "      <td>4.333749e+04</td>\n",
              "      <td>$724,298,148.48</td>\n",
              "      <td>@ $268.94/ETH)</td>\n",
              "    </tr>\n",
              "    <tr>\n",
              "      <th>1</th>\n",
              "      <td>0xbe0eb53f46cd790cd13851d5eff43d12404d33e8</td>\n",
              "      <td>2.201523e+06</td>\n",
              "      <td>9.723914e+08</td>\n",
              "      <td>$592,077,554.11</td>\n",
              "      <td>@ $268.94/ETH)</td>\n",
              "    </tr>\n",
              "    <tr>\n",
              "      <th>2</th>\n",
              "      <td>0x742d35cc6634c0532925a3b844bc454e4438f44e</td>\n",
              "      <td>2.140145e+06</td>\n",
              "      <td>7.602266e+08</td>\n",
              "      <td>$575,570,592.94</td>\n",
              "      <td>@ $268.94/ETH)</td>\n",
              "    </tr>\n",
              "    <tr>\n",
              "      <th>3</th>\n",
              "      <td>0xdc76cd25977e0a5ae17155770273ad58648900d3</td>\n",
              "      <td>1.885861e+06</td>\n",
              "      <td>6.106189e+04</td>\n",
              "      <td>$509,201,200.56</td>\n",
              "      <td>@ $270.01/ETH)</td>\n",
              "    </tr>\n",
              "    <tr>\n",
              "      <th>4</th>\n",
              "      <td>0x53d284357ec70ce289d6d64134dfac8e511c8a3d</td>\n",
              "      <td>1.378754e+06</td>\n",
              "      <td>1.666809e+05</td>\n",
              "      <td>$372,277,406.60</td>\n",
              "      <td>@ $270.01/ETH)</td>\n",
              "    </tr>\n",
              "  </tbody>\n",
              "</table>\n",
              "</div>"
            ],
            "text/plain": [
              "                                      Address  ...     $ per Ether\n",
              "0  0xc02aaa39b223fe8d0a0e5c4f27ead9083c756cc2  ...  @ $268.94/ETH)\n",
              "1  0xbe0eb53f46cd790cd13851d5eff43d12404d33e8  ...  @ $268.94/ETH)\n",
              "2  0x742d35cc6634c0532925a3b844bc454e4438f44e  ...  @ $268.94/ETH)\n",
              "3  0xdc76cd25977e0a5ae17155770273ad58648900d3  ...  @ $270.01/ETH)\n",
              "4  0x53d284357ec70ce289d6d64134dfac8e511c8a3d  ...  @ $270.01/ETH)\n",
              "\n",
              "[5 rows x 5 columns]"
            ]
          },
          "metadata": {
            "tags": []
          },
          "execution_count": 29
        }
      ]
    },
    {
      "cell_type": "code",
      "metadata": {
        "id": "xWWcYc-VioqU",
        "colab_type": "code",
        "colab": {}
      },
      "source": [
        "# replace '$' and ',' with '' and convert it to float using to_numeric\n",
        "balance[\"Total Ether_value(in $)\"] = balance[\"Total Ether_value(in $)\"].str.replace('$','')\n",
        "balance[\"Total Ether_value(in $)\"] = pd.to_numeric(balance[\"Total Ether_value(in $)\"].str.replace(',',''))"
      ],
      "execution_count": 0,
      "outputs": []
    },
    {
      "cell_type": "code",
      "metadata": {
        "id": "UppEDXGBjBhA",
        "colab_type": "code",
        "colab": {}
      },
      "source": [
        "# replace '$','@ ')','/ETH' with '' and convert it to float using to_numeric\n",
        "balance[\"$ per Ether\"] = balance[\"$ per Ether\"].str.replace('$','')\n",
        "balance[\"$ per Ether\"] = balance[\"$ per Ether\"].str.replace('@','')\n",
        "balance[\"$ per Ether\"] = balance[\"$ per Ether\"].str.replace(')','')\n",
        "balance[\"$ per Ether\"] = pd.to_numeric(balance[\"$ per Ether\"].str.replace(\"/ETH\",\"\"))"
      ],
      "execution_count": 0,
      "outputs": []
    },
    {
      "cell_type": "code",
      "metadata": {
        "id": "sNVFt3-3j1Lh",
        "colab_type": "code",
        "colab": {
          "base_uri": "https://localhost:8080/",
          "height": 196
        },
        "outputId": "4bc05999-a201-41e0-e864-8cb7e072b507"
      },
      "source": [
        "balance.head()"
      ],
      "execution_count": 32,
      "outputs": [
        {
          "output_type": "execute_result",
          "data": {
            "text/html": [
              "<div>\n",
              "<style scoped>\n",
              "    .dataframe tbody tr th:only-of-type {\n",
              "        vertical-align: middle;\n",
              "    }\n",
              "\n",
              "    .dataframe tbody tr th {\n",
              "        vertical-align: top;\n",
              "    }\n",
              "\n",
              "    .dataframe thead th {\n",
              "        text-align: right;\n",
              "    }\n",
              "</style>\n",
              "<table border=\"1\" class=\"dataframe\">\n",
              "  <thead>\n",
              "    <tr style=\"text-align: right;\">\n",
              "      <th></th>\n",
              "      <th>Address</th>\n",
              "      <th>Balance(in Ether)</th>\n",
              "      <th>Token(in $)</th>\n",
              "      <th>Total Ether_value(in $)</th>\n",
              "      <th>$ per Ether</th>\n",
              "    </tr>\n",
              "  </thead>\n",
              "  <tbody>\n",
              "    <tr>\n",
              "      <th>0</th>\n",
              "      <td>0xc02aaa39b223fe8d0a0e5c4f27ead9083c756cc2</td>\n",
              "      <td>2.693159e+06</td>\n",
              "      <td>4.333749e+04</td>\n",
              "      <td>7.242981e+08</td>\n",
              "      <td>268.94</td>\n",
              "    </tr>\n",
              "    <tr>\n",
              "      <th>1</th>\n",
              "      <td>0xbe0eb53f46cd790cd13851d5eff43d12404d33e8</td>\n",
              "      <td>2.201523e+06</td>\n",
              "      <td>9.723914e+08</td>\n",
              "      <td>5.920776e+08</td>\n",
              "      <td>268.94</td>\n",
              "    </tr>\n",
              "    <tr>\n",
              "      <th>2</th>\n",
              "      <td>0x742d35cc6634c0532925a3b844bc454e4438f44e</td>\n",
              "      <td>2.140145e+06</td>\n",
              "      <td>7.602266e+08</td>\n",
              "      <td>5.755706e+08</td>\n",
              "      <td>268.94</td>\n",
              "    </tr>\n",
              "    <tr>\n",
              "      <th>3</th>\n",
              "      <td>0xdc76cd25977e0a5ae17155770273ad58648900d3</td>\n",
              "      <td>1.885861e+06</td>\n",
              "      <td>6.106189e+04</td>\n",
              "      <td>5.092012e+08</td>\n",
              "      <td>270.01</td>\n",
              "    </tr>\n",
              "    <tr>\n",
              "      <th>4</th>\n",
              "      <td>0x53d284357ec70ce289d6d64134dfac8e511c8a3d</td>\n",
              "      <td>1.378754e+06</td>\n",
              "      <td>1.666809e+05</td>\n",
              "      <td>3.722774e+08</td>\n",
              "      <td>270.01</td>\n",
              "    </tr>\n",
              "  </tbody>\n",
              "</table>\n",
              "</div>"
            ],
            "text/plain": [
              "                                      Address  ...  $ per Ether\n",
              "0  0xc02aaa39b223fe8d0a0e5c4f27ead9083c756cc2  ...       268.94\n",
              "1  0xbe0eb53f46cd790cd13851d5eff43d12404d33e8  ...       268.94\n",
              "2  0x742d35cc6634c0532925a3b844bc454e4438f44e  ...       268.94\n",
              "3  0xdc76cd25977e0a5ae17155770273ad58648900d3  ...       270.01\n",
              "4  0x53d284357ec70ce289d6d64134dfac8e511c8a3d  ...       270.01\n",
              "\n",
              "[5 rows x 5 columns]"
            ]
          },
          "metadata": {
            "tags": []
          },
          "execution_count": 32
        }
      ]
    },
    {
      "cell_type": "code",
      "metadata": {
        "id": "DikHeXI2j8Cg",
        "colab_type": "code",
        "colab": {
          "base_uri": "https://localhost:8080/",
          "height": 117
        },
        "outputId": "d93d6ee5-ef81-4f5d-e053-9ef5a77282ae"
      },
      "source": [
        "balance.dtypes"
      ],
      "execution_count": 33,
      "outputs": [
        {
          "output_type": "execute_result",
          "data": {
            "text/plain": [
              "Address                     object\n",
              "Balance(in Ether)          float64\n",
              "Token(in $)                float64\n",
              "Total Ether_value(in $)    float64\n",
              "$ per Ether                float64\n",
              "dtype: object"
            ]
          },
          "metadata": {
            "tags": []
          },
          "execution_count": 33
        }
      ]
    },
    {
      "cell_type": "code",
      "metadata": {
        "id": "uT9_jZvokVXL",
        "colab_type": "code",
        "colab": {}
      },
      "source": [
        ""
      ],
      "execution_count": 0,
      "outputs": []
    },
    {
      "cell_type": "code",
      "metadata": {
        "id": "0TfRUO5TkVMR",
        "colab_type": "code",
        "colab": {
          "base_uri": "https://localhost:8080/",
          "height": 400
        },
        "outputId": "c61d95ac-0bc9-4bb9-f7fe-8244d064f707"
      },
      "source": [
        "\n",
        "transaction = pd.read_csv(\"/content/drive/My Drive/ethereum/transaction_data.csv\",)\n",
        "# del transaction[\"filename\"] # remove unwanted column\n",
        "transaction.head()"
      ],
      "execution_count": 34,
      "outputs": [
        {
          "output_type": "execute_result",
          "data": {
            "text/html": [
              "<div>\n",
              "<style scoped>\n",
              "    .dataframe tbody tr th:only-of-type {\n",
              "        vertical-align: middle;\n",
              "    }\n",
              "\n",
              "    .dataframe tbody tr th {\n",
              "        vertical-align: top;\n",
              "    }\n",
              "\n",
              "    .dataframe thead th {\n",
              "        text-align: right;\n",
              "    }\n",
              "</style>\n",
              "<table border=\"1\" class=\"dataframe\">\n",
              "  <thead>\n",
              "    <tr style=\"text-align: right;\">\n",
              "      <th></th>\n",
              "      <th>Unnamed: 0</th>\n",
              "      <th>Address</th>\n",
              "      <th>Txn_hash</th>\n",
              "      <th>blocks</th>\n",
              "      <th>date</th>\n",
              "      <th>from</th>\n",
              "      <th>txn_type</th>\n",
              "      <th>to</th>\n",
              "      <th>value</th>\n",
              "      <th>Txn_fee</th>\n",
              "    </tr>\n",
              "  </thead>\n",
              "  <tbody>\n",
              "    <tr>\n",
              "      <th>0</th>\n",
              "      <td>0</td>\n",
              "      <td>0xc02aaa39b223fe8d0a0e5c4f27ead9083c756cc2</td>\n",
              "      <td>0xfc0f500de01a945cae79b8499c0247cf2cd57e791882...</td>\n",
              "      <td>(pending)</td>\n",
              "      <td>2020-02-13 8:11:10</td>\n",
              "      <td>0xadeeb9d09b8bcee10943198fb6f6a4229bab3675</td>\n",
              "      <td>IN</td>\n",
              "      <td>0xc02aaa39b223fe8d0a0e5c4f27ead9083c756cc2</td>\n",
              "      <td>111 Ether</td>\n",
              "      <td>(Pending)</td>\n",
              "    </tr>\n",
              "    <tr>\n",
              "      <th>1</th>\n",
              "      <td>1</td>\n",
              "      <td>0xc02aaa39b223fe8d0a0e5c4f27ead9083c756cc2</td>\n",
              "      <td>0x3fc1bfb66bb222580543e38952be03c12944a84bcfbe...</td>\n",
              "      <td>(pending)</td>\n",
              "      <td>2020-02-13 5:44:47</td>\n",
              "      <td>0x4f0a1940de411285ad0455a7f40c81b5e0bc8492</td>\n",
              "      <td>IN</td>\n",
              "      <td>0xc02aaa39b223fe8d0a0e5c4f27ead9083c756cc2</td>\n",
              "      <td>0 Ether</td>\n",
              "      <td>(Pending)</td>\n",
              "    </tr>\n",
              "    <tr>\n",
              "      <th>2</th>\n",
              "      <td>2</td>\n",
              "      <td>0xc02aaa39b223fe8d0a0e5c4f27ead9083c756cc2</td>\n",
              "      <td>0x5b324ab8483effd44cd7bfa59bd65725b822d5731221...</td>\n",
              "      <td>(pending)</td>\n",
              "      <td>2020-02-07 2:12:51</td>\n",
              "      <td>0x871463ce6b696c0c46910a996070bff9dcc5c351</td>\n",
              "      <td>IN</td>\n",
              "      <td>0xc02aaa39b223fe8d0a0e5c4f27ead9083c756cc2</td>\n",
              "      <td>0 Ether</td>\n",
              "      <td>(Pending)</td>\n",
              "    </tr>\n",
              "    <tr>\n",
              "      <th>3</th>\n",
              "      <td>3</td>\n",
              "      <td>0xc02aaa39b223fe8d0a0e5c4f27ead9083c756cc2</td>\n",
              "      <td>0x4eede6bc0d21c20fbe32750682ef2ec148bae914a566...</td>\n",
              "      <td>(pending)</td>\n",
              "      <td>2020-02-07 2:12:51</td>\n",
              "      <td>0x871463ce6b696c0c46910a996070bff9dcc5c351</td>\n",
              "      <td>IN</td>\n",
              "      <td>0xc02aaa39b223fe8d0a0e5c4f27ead9083c756cc2</td>\n",
              "      <td>0 Ether</td>\n",
              "      <td>(Pending)</td>\n",
              "    </tr>\n",
              "    <tr>\n",
              "      <th>4</th>\n",
              "      <td>4</td>\n",
              "      <td>0xc02aaa39b223fe8d0a0e5c4f27ead9083c756cc2</td>\n",
              "      <td>0x42fe81fda028289414af65fe31405a10289aba37f726...</td>\n",
              "      <td>9473503</td>\n",
              "      <td>2020-02-13 8:10:18</td>\n",
              "      <td>0x6924a03bb710eaf199ab6ac9f2bb148215ae9b5d</td>\n",
              "      <td>IN</td>\n",
              "      <td>Wrapped Ether</td>\n",
              "      <td>105.0851 Ether</td>\n",
              "      <td>0.00057476</td>\n",
              "    </tr>\n",
              "  </tbody>\n",
              "</table>\n",
              "</div>"
            ],
            "text/plain": [
              "   Unnamed: 0  ...     Txn_fee\n",
              "0           0  ...   (Pending)\n",
              "1           1  ...   (Pending)\n",
              "2           2  ...   (Pending)\n",
              "3           3  ...   (Pending)\n",
              "4           4  ...  0.00057476\n",
              "\n",
              "[5 rows x 10 columns]"
            ]
          },
          "metadata": {
            "tags": []
          },
          "execution_count": 34
        }
      ]
    },
    {
      "cell_type": "code",
      "metadata": {
        "id": "hZjADXA1kX0L",
        "colab_type": "code",
        "colab": {
          "base_uri": "https://localhost:8080/",
          "height": 184
        },
        "outputId": "f304c7cb-3a8e-4ac6-b8f8-d079f43056f1"
      },
      "source": [
        "list(transaction.columns)"
      ],
      "execution_count": 35,
      "outputs": [
        {
          "output_type": "execute_result",
          "data": {
            "text/plain": [
              "['Unnamed: 0',\n",
              " 'Address',\n",
              " 'Txn_hash',\n",
              " 'blocks',\n",
              " 'date',\n",
              " 'from',\n",
              " 'txn_type',\n",
              " 'to',\n",
              " 'value',\n",
              " 'Txn_fee']"
            ]
          },
          "metadata": {
            "tags": []
          },
          "execution_count": 35
        }
      ]
    },
    {
      "cell_type": "code",
      "metadata": {
        "id": "s4SB4AiYkXvH",
        "colab_type": "code",
        "colab": {
          "base_uri": "https://localhost:8080/",
          "height": 33
        },
        "outputId": "2997e368-d56e-4f96-a4e6-c21fa41d0816"
      },
      "source": [
        "len(transaction)"
      ],
      "execution_count": 36,
      "outputs": [
        {
          "output_type": "execute_result",
          "data": {
            "text/plain": [
              "7069"
            ]
          },
          "metadata": {
            "tags": []
          },
          "execution_count": 36
        }
      ]
    },
    {
      "cell_type": "code",
      "metadata": {
        "id": "p7T6BjJrkXs8",
        "colab_type": "code",
        "colab": {
          "base_uri": "https://localhost:8080/",
          "height": 400
        },
        "outputId": "d59b1425-c68f-4708-ebe7-1a29b2dc1505"
      },
      "source": [
        "transaction = pd.DataFrame(transaction)\n",
        "transaction.head()"
      ],
      "execution_count": 37,
      "outputs": [
        {
          "output_type": "execute_result",
          "data": {
            "text/html": [
              "<div>\n",
              "<style scoped>\n",
              "    .dataframe tbody tr th:only-of-type {\n",
              "        vertical-align: middle;\n",
              "    }\n",
              "\n",
              "    .dataframe tbody tr th {\n",
              "        vertical-align: top;\n",
              "    }\n",
              "\n",
              "    .dataframe thead th {\n",
              "        text-align: right;\n",
              "    }\n",
              "</style>\n",
              "<table border=\"1\" class=\"dataframe\">\n",
              "  <thead>\n",
              "    <tr style=\"text-align: right;\">\n",
              "      <th></th>\n",
              "      <th>Unnamed: 0</th>\n",
              "      <th>Address</th>\n",
              "      <th>Txn_hash</th>\n",
              "      <th>blocks</th>\n",
              "      <th>date</th>\n",
              "      <th>from</th>\n",
              "      <th>txn_type</th>\n",
              "      <th>to</th>\n",
              "      <th>value</th>\n",
              "      <th>Txn_fee</th>\n",
              "    </tr>\n",
              "  </thead>\n",
              "  <tbody>\n",
              "    <tr>\n",
              "      <th>0</th>\n",
              "      <td>0</td>\n",
              "      <td>0xc02aaa39b223fe8d0a0e5c4f27ead9083c756cc2</td>\n",
              "      <td>0xfc0f500de01a945cae79b8499c0247cf2cd57e791882...</td>\n",
              "      <td>(pending)</td>\n",
              "      <td>2020-02-13 8:11:10</td>\n",
              "      <td>0xadeeb9d09b8bcee10943198fb6f6a4229bab3675</td>\n",
              "      <td>IN</td>\n",
              "      <td>0xc02aaa39b223fe8d0a0e5c4f27ead9083c756cc2</td>\n",
              "      <td>111 Ether</td>\n",
              "      <td>(Pending)</td>\n",
              "    </tr>\n",
              "    <tr>\n",
              "      <th>1</th>\n",
              "      <td>1</td>\n",
              "      <td>0xc02aaa39b223fe8d0a0e5c4f27ead9083c756cc2</td>\n",
              "      <td>0x3fc1bfb66bb222580543e38952be03c12944a84bcfbe...</td>\n",
              "      <td>(pending)</td>\n",
              "      <td>2020-02-13 5:44:47</td>\n",
              "      <td>0x4f0a1940de411285ad0455a7f40c81b5e0bc8492</td>\n",
              "      <td>IN</td>\n",
              "      <td>0xc02aaa39b223fe8d0a0e5c4f27ead9083c756cc2</td>\n",
              "      <td>0 Ether</td>\n",
              "      <td>(Pending)</td>\n",
              "    </tr>\n",
              "    <tr>\n",
              "      <th>2</th>\n",
              "      <td>2</td>\n",
              "      <td>0xc02aaa39b223fe8d0a0e5c4f27ead9083c756cc2</td>\n",
              "      <td>0x5b324ab8483effd44cd7bfa59bd65725b822d5731221...</td>\n",
              "      <td>(pending)</td>\n",
              "      <td>2020-02-07 2:12:51</td>\n",
              "      <td>0x871463ce6b696c0c46910a996070bff9dcc5c351</td>\n",
              "      <td>IN</td>\n",
              "      <td>0xc02aaa39b223fe8d0a0e5c4f27ead9083c756cc2</td>\n",
              "      <td>0 Ether</td>\n",
              "      <td>(Pending)</td>\n",
              "    </tr>\n",
              "    <tr>\n",
              "      <th>3</th>\n",
              "      <td>3</td>\n",
              "      <td>0xc02aaa39b223fe8d0a0e5c4f27ead9083c756cc2</td>\n",
              "      <td>0x4eede6bc0d21c20fbe32750682ef2ec148bae914a566...</td>\n",
              "      <td>(pending)</td>\n",
              "      <td>2020-02-07 2:12:51</td>\n",
              "      <td>0x871463ce6b696c0c46910a996070bff9dcc5c351</td>\n",
              "      <td>IN</td>\n",
              "      <td>0xc02aaa39b223fe8d0a0e5c4f27ead9083c756cc2</td>\n",
              "      <td>0 Ether</td>\n",
              "      <td>(Pending)</td>\n",
              "    </tr>\n",
              "    <tr>\n",
              "      <th>4</th>\n",
              "      <td>4</td>\n",
              "      <td>0xc02aaa39b223fe8d0a0e5c4f27ead9083c756cc2</td>\n",
              "      <td>0x42fe81fda028289414af65fe31405a10289aba37f726...</td>\n",
              "      <td>9473503</td>\n",
              "      <td>2020-02-13 8:10:18</td>\n",
              "      <td>0x6924a03bb710eaf199ab6ac9f2bb148215ae9b5d</td>\n",
              "      <td>IN</td>\n",
              "      <td>Wrapped Ether</td>\n",
              "      <td>105.0851 Ether</td>\n",
              "      <td>0.00057476</td>\n",
              "    </tr>\n",
              "  </tbody>\n",
              "</table>\n",
              "</div>"
            ],
            "text/plain": [
              "   Unnamed: 0  ...     Txn_fee\n",
              "0           0  ...   (Pending)\n",
              "1           1  ...   (Pending)\n",
              "2           2  ...   (Pending)\n",
              "3           3  ...   (Pending)\n",
              "4           4  ...  0.00057476\n",
              "\n",
              "[5 rows x 10 columns]"
            ]
          },
          "metadata": {
            "tags": []
          },
          "execution_count": 37
        }
      ]
    },
    {
      "cell_type": "code",
      "metadata": {
        "id": "NVbkQhDWkXjJ",
        "colab_type": "code",
        "colab": {
          "base_uri": "https://localhost:8080/",
          "height": 33
        },
        "outputId": "163a8792-9fd7-45a3-f295-47797ee4c978"
      },
      "source": [
        "len(transaction)"
      ],
      "execution_count": 38,
      "outputs": [
        {
          "output_type": "execute_result",
          "data": {
            "text/plain": [
              "7069"
            ]
          },
          "metadata": {
            "tags": []
          },
          "execution_count": 38
        }
      ]
    },
    {
      "cell_type": "code",
      "metadata": {
        "id": "KKbqD_dNkXgn",
        "colab_type": "code",
        "colab": {}
      },
      "source": [
        "# Remove the first column as it only the index\n",
        "transaction = transaction.drop(['Unnamed: 0'], axis=1)"
      ],
      "execution_count": 0,
      "outputs": []
    },
    {
      "cell_type": "code",
      "metadata": {
        "id": "6oEHKQC_kXej",
        "colab_type": "code",
        "colab": {
          "base_uri": "https://localhost:8080/",
          "height": 167
        },
        "outputId": "62c4a4e8-f02c-4ac0-abd3-9067b369a225"
      },
      "source": [
        "list(transaction.columns)"
      ],
      "execution_count": 40,
      "outputs": [
        {
          "output_type": "execute_result",
          "data": {
            "text/plain": [
              "['Address',\n",
              " 'Txn_hash',\n",
              " 'blocks',\n",
              " 'date',\n",
              " 'from',\n",
              " 'txn_type',\n",
              " 'to',\n",
              " 'value',\n",
              " 'Txn_fee']"
            ]
          },
          "metadata": {
            "tags": []
          },
          "execution_count": 40
        }
      ]
    },
    {
      "cell_type": "code",
      "metadata": {
        "id": "m6e-a7H3kXcy",
        "colab_type": "code",
        "colab": {
          "base_uri": "https://localhost:8080/",
          "height": 384
        },
        "outputId": "01b952e9-1efc-4c5c-d8df-f903eee74152"
      },
      "source": [
        "transaction.head()"
      ],
      "execution_count": 41,
      "outputs": [
        {
          "output_type": "execute_result",
          "data": {
            "text/html": [
              "<div>\n",
              "<style scoped>\n",
              "    .dataframe tbody tr th:only-of-type {\n",
              "        vertical-align: middle;\n",
              "    }\n",
              "\n",
              "    .dataframe tbody tr th {\n",
              "        vertical-align: top;\n",
              "    }\n",
              "\n",
              "    .dataframe thead th {\n",
              "        text-align: right;\n",
              "    }\n",
              "</style>\n",
              "<table border=\"1\" class=\"dataframe\">\n",
              "  <thead>\n",
              "    <tr style=\"text-align: right;\">\n",
              "      <th></th>\n",
              "      <th>Address</th>\n",
              "      <th>Txn_hash</th>\n",
              "      <th>blocks</th>\n",
              "      <th>date</th>\n",
              "      <th>from</th>\n",
              "      <th>txn_type</th>\n",
              "      <th>to</th>\n",
              "      <th>value</th>\n",
              "      <th>Txn_fee</th>\n",
              "    </tr>\n",
              "  </thead>\n",
              "  <tbody>\n",
              "    <tr>\n",
              "      <th>0</th>\n",
              "      <td>0xc02aaa39b223fe8d0a0e5c4f27ead9083c756cc2</td>\n",
              "      <td>0xfc0f500de01a945cae79b8499c0247cf2cd57e791882...</td>\n",
              "      <td>(pending)</td>\n",
              "      <td>2020-02-13 8:11:10</td>\n",
              "      <td>0xadeeb9d09b8bcee10943198fb6f6a4229bab3675</td>\n",
              "      <td>IN</td>\n",
              "      <td>0xc02aaa39b223fe8d0a0e5c4f27ead9083c756cc2</td>\n",
              "      <td>111 Ether</td>\n",
              "      <td>(Pending)</td>\n",
              "    </tr>\n",
              "    <tr>\n",
              "      <th>1</th>\n",
              "      <td>0xc02aaa39b223fe8d0a0e5c4f27ead9083c756cc2</td>\n",
              "      <td>0x3fc1bfb66bb222580543e38952be03c12944a84bcfbe...</td>\n",
              "      <td>(pending)</td>\n",
              "      <td>2020-02-13 5:44:47</td>\n",
              "      <td>0x4f0a1940de411285ad0455a7f40c81b5e0bc8492</td>\n",
              "      <td>IN</td>\n",
              "      <td>0xc02aaa39b223fe8d0a0e5c4f27ead9083c756cc2</td>\n",
              "      <td>0 Ether</td>\n",
              "      <td>(Pending)</td>\n",
              "    </tr>\n",
              "    <tr>\n",
              "      <th>2</th>\n",
              "      <td>0xc02aaa39b223fe8d0a0e5c4f27ead9083c756cc2</td>\n",
              "      <td>0x5b324ab8483effd44cd7bfa59bd65725b822d5731221...</td>\n",
              "      <td>(pending)</td>\n",
              "      <td>2020-02-07 2:12:51</td>\n",
              "      <td>0x871463ce6b696c0c46910a996070bff9dcc5c351</td>\n",
              "      <td>IN</td>\n",
              "      <td>0xc02aaa39b223fe8d0a0e5c4f27ead9083c756cc2</td>\n",
              "      <td>0 Ether</td>\n",
              "      <td>(Pending)</td>\n",
              "    </tr>\n",
              "    <tr>\n",
              "      <th>3</th>\n",
              "      <td>0xc02aaa39b223fe8d0a0e5c4f27ead9083c756cc2</td>\n",
              "      <td>0x4eede6bc0d21c20fbe32750682ef2ec148bae914a566...</td>\n",
              "      <td>(pending)</td>\n",
              "      <td>2020-02-07 2:12:51</td>\n",
              "      <td>0x871463ce6b696c0c46910a996070bff9dcc5c351</td>\n",
              "      <td>IN</td>\n",
              "      <td>0xc02aaa39b223fe8d0a0e5c4f27ead9083c756cc2</td>\n",
              "      <td>0 Ether</td>\n",
              "      <td>(Pending)</td>\n",
              "    </tr>\n",
              "    <tr>\n",
              "      <th>4</th>\n",
              "      <td>0xc02aaa39b223fe8d0a0e5c4f27ead9083c756cc2</td>\n",
              "      <td>0x42fe81fda028289414af65fe31405a10289aba37f726...</td>\n",
              "      <td>9473503</td>\n",
              "      <td>2020-02-13 8:10:18</td>\n",
              "      <td>0x6924a03bb710eaf199ab6ac9f2bb148215ae9b5d</td>\n",
              "      <td>IN</td>\n",
              "      <td>Wrapped Ether</td>\n",
              "      <td>105.0851 Ether</td>\n",
              "      <td>0.00057476</td>\n",
              "    </tr>\n",
              "  </tbody>\n",
              "</table>\n",
              "</div>"
            ],
            "text/plain": [
              "                                      Address  ...     Txn_fee\n",
              "0  0xc02aaa39b223fe8d0a0e5c4f27ead9083c756cc2  ...   (Pending)\n",
              "1  0xc02aaa39b223fe8d0a0e5c4f27ead9083c756cc2  ...   (Pending)\n",
              "2  0xc02aaa39b223fe8d0a0e5c4f27ead9083c756cc2  ...   (Pending)\n",
              "3  0xc02aaa39b223fe8d0a0e5c4f27ead9083c756cc2  ...   (Pending)\n",
              "4  0xc02aaa39b223fe8d0a0e5c4f27ead9083c756cc2  ...  0.00057476\n",
              "\n",
              "[5 rows x 9 columns]"
            ]
          },
          "metadata": {
            "tags": []
          },
          "execution_count": 41
        }
      ]
    },
    {
      "cell_type": "code",
      "metadata": {
        "id": "PNc9xlzikXRY",
        "colab_type": "code",
        "colab": {}
      },
      "source": [
        ""
      ],
      "execution_count": 0,
      "outputs": []
    },
    {
      "cell_type": "code",
      "metadata": {
        "id": "1FrDCdEAkXPI",
        "colab_type": "code",
        "colab": {}
      },
      "source": [
        ""
      ],
      "execution_count": 0,
      "outputs": []
    },
    {
      "cell_type": "code",
      "metadata": {
        "id": "jGEjcrihkU-B",
        "colab_type": "code",
        "colab": {}
      },
      "source": [
        ""
      ],
      "execution_count": 0,
      "outputs": []
    },
    {
      "cell_type": "code",
      "metadata": {
        "id": "g1VO9IsuHLba",
        "colab_type": "code",
        "colab": {
          "base_uri": "https://localhost:8080/",
          "height": 196
        },
        "outputId": "9f5af662-6e68-4fe4-e577-9fe232a1c141"
      },
      "source": [
        "df = pd.DataFrame([('bird', 'Falconiformes', 389.0),\n",
        "                       ('bird', 'Psittaciformes', 24.0),\n",
        "                       ('mammal', 'Carnivora', 80.2),\n",
        "                       ('mammal', 'Primates', np.nan),\n",
        "                       ('mammal', 'Carnivora', 58)],\n",
        "                      index=['falcon', 'parrot', 'lion', 'monkey', 'leopard'],\n",
        "                      columns=('class', 'order', 'max_speed'))\n",
        "df"
      ],
      "execution_count": 42,
      "outputs": [
        {
          "output_type": "execute_result",
          "data": {
            "text/html": [
              "<div>\n",
              "<style scoped>\n",
              "    .dataframe tbody tr th:only-of-type {\n",
              "        vertical-align: middle;\n",
              "    }\n",
              "\n",
              "    .dataframe tbody tr th {\n",
              "        vertical-align: top;\n",
              "    }\n",
              "\n",
              "    .dataframe thead th {\n",
              "        text-align: right;\n",
              "    }\n",
              "</style>\n",
              "<table border=\"1\" class=\"dataframe\">\n",
              "  <thead>\n",
              "    <tr style=\"text-align: right;\">\n",
              "      <th></th>\n",
              "      <th>class</th>\n",
              "      <th>order</th>\n",
              "      <th>max_speed</th>\n",
              "    </tr>\n",
              "  </thead>\n",
              "  <tbody>\n",
              "    <tr>\n",
              "      <th>falcon</th>\n",
              "      <td>bird</td>\n",
              "      <td>Falconiformes</td>\n",
              "      <td>389.0</td>\n",
              "    </tr>\n",
              "    <tr>\n",
              "      <th>parrot</th>\n",
              "      <td>bird</td>\n",
              "      <td>Psittaciformes</td>\n",
              "      <td>24.0</td>\n",
              "    </tr>\n",
              "    <tr>\n",
              "      <th>lion</th>\n",
              "      <td>mammal</td>\n",
              "      <td>Carnivora</td>\n",
              "      <td>80.2</td>\n",
              "    </tr>\n",
              "    <tr>\n",
              "      <th>monkey</th>\n",
              "      <td>mammal</td>\n",
              "      <td>Primates</td>\n",
              "      <td>NaN</td>\n",
              "    </tr>\n",
              "    <tr>\n",
              "      <th>leopard</th>\n",
              "      <td>mammal</td>\n",
              "      <td>Carnivora</td>\n",
              "      <td>58.0</td>\n",
              "    </tr>\n",
              "  </tbody>\n",
              "</table>\n",
              "</div>"
            ],
            "text/plain": [
              "          class           order  max_speed\n",
              "falcon     bird   Falconiformes      389.0\n",
              "parrot     bird  Psittaciformes       24.0\n",
              "lion     mammal       Carnivora       80.2\n",
              "monkey   mammal        Primates        NaN\n",
              "leopard  mammal       Carnivora       58.0"
            ]
          },
          "metadata": {
            "tags": []
          },
          "execution_count": 42
        }
      ]
    },
    {
      "cell_type": "code",
      "metadata": {
        "id": "mI5SjdEoS-Os",
        "colab_type": "code",
        "colab": {}
      },
      "source": [
        ""
      ],
      "execution_count": 0,
      "outputs": []
    },
    {
      "cell_type": "code",
      "metadata": {
        "id": "MPPDsVyoS-_g",
        "colab_type": "code",
        "colab": {}
      },
      "source": [
        "grouped = df.groupby('class')"
      ],
      "execution_count": 0,
      "outputs": []
    },
    {
      "cell_type": "code",
      "metadata": {
        "id": "uN4B9YoKT8Cq",
        "colab_type": "code",
        "colab": {
          "base_uri": "https://localhost:8080/",
          "height": 84
        },
        "outputId": "6d188be4-713a-47f8-a328-06a842fe404f"
      },
      "source": [
        "grouped['max_speed'].sum()"
      ],
      "execution_count": 44,
      "outputs": [
        {
          "output_type": "execute_result",
          "data": {
            "text/plain": [
              "class\n",
              "bird      413.0\n",
              "mammal    138.2\n",
              "Name: max_speed, dtype: float64"
            ]
          },
          "metadata": {
            "tags": []
          },
          "execution_count": 44
        }
      ]
    },
    {
      "cell_type": "code",
      "metadata": {
        "id": "Biy_DLQNT9cs",
        "colab_type": "code",
        "colab": {
          "base_uri": "https://localhost:8080/",
          "height": 107
        },
        "outputId": "c13e1316-2973-4219-9c1a-d0b03eaff916"
      },
      "source": [
        "grouped.get_group('bird')"
      ],
      "execution_count": 45,
      "outputs": [
        {
          "output_type": "execute_result",
          "data": {
            "text/html": [
              "<div>\n",
              "<style scoped>\n",
              "    .dataframe tbody tr th:only-of-type {\n",
              "        vertical-align: middle;\n",
              "    }\n",
              "\n",
              "    .dataframe tbody tr th {\n",
              "        vertical-align: top;\n",
              "    }\n",
              "\n",
              "    .dataframe thead th {\n",
              "        text-align: right;\n",
              "    }\n",
              "</style>\n",
              "<table border=\"1\" class=\"dataframe\">\n",
              "  <thead>\n",
              "    <tr style=\"text-align: right;\">\n",
              "      <th></th>\n",
              "      <th>class</th>\n",
              "      <th>order</th>\n",
              "      <th>max_speed</th>\n",
              "    </tr>\n",
              "  </thead>\n",
              "  <tbody>\n",
              "    <tr>\n",
              "      <th>falcon</th>\n",
              "      <td>bird</td>\n",
              "      <td>Falconiformes</td>\n",
              "      <td>389.0</td>\n",
              "    </tr>\n",
              "    <tr>\n",
              "      <th>parrot</th>\n",
              "      <td>bird</td>\n",
              "      <td>Psittaciformes</td>\n",
              "      <td>24.0</td>\n",
              "    </tr>\n",
              "  </tbody>\n",
              "</table>\n",
              "</div>"
            ],
            "text/plain": [
              "       class           order  max_speed\n",
              "falcon  bird   Falconiformes      389.0\n",
              "parrot  bird  Psittaciformes       24.0"
            ]
          },
          "metadata": {
            "tags": []
          },
          "execution_count": 45
        }
      ]
    },
    {
      "cell_type": "code",
      "metadata": {
        "id": "jnnSILrnlhAs",
        "colab_type": "code",
        "colab": {}
      },
      "source": [
        ""
      ],
      "execution_count": 0,
      "outputs": []
    },
    {
      "cell_type": "code",
      "metadata": {
        "id": "xGe9Kxb8lg2O",
        "colab_type": "code",
        "colab": {}
      },
      "source": [
        ""
      ],
      "execution_count": 0,
      "outputs": []
    },
    {
      "cell_type": "code",
      "metadata": {
        "id": "pAHyTeKLlgsk",
        "colab_type": "code",
        "colab": {}
      },
      "source": [
        ""
      ],
      "execution_count": 0,
      "outputs": []
    },
    {
      "cell_type": "code",
      "metadata": {
        "id": "m92Z77wTlgnO",
        "colab_type": "code",
        "colab": {}
      },
      "source": [
        ""
      ],
      "execution_count": 0,
      "outputs": []
    },
    {
      "cell_type": "code",
      "metadata": {
        "id": "ICaU6AcIUue9",
        "colab_type": "code",
        "colab": {
          "base_uri": "https://localhost:8080/",
          "height": 384
        },
        "outputId": "914613d8-290b-4365-f123-443117da0f7e"
      },
      "source": [
        "transaction.head()"
      ],
      "execution_count": 46,
      "outputs": [
        {
          "output_type": "execute_result",
          "data": {
            "text/html": [
              "<div>\n",
              "<style scoped>\n",
              "    .dataframe tbody tr th:only-of-type {\n",
              "        vertical-align: middle;\n",
              "    }\n",
              "\n",
              "    .dataframe tbody tr th {\n",
              "        vertical-align: top;\n",
              "    }\n",
              "\n",
              "    .dataframe thead th {\n",
              "        text-align: right;\n",
              "    }\n",
              "</style>\n",
              "<table border=\"1\" class=\"dataframe\">\n",
              "  <thead>\n",
              "    <tr style=\"text-align: right;\">\n",
              "      <th></th>\n",
              "      <th>Address</th>\n",
              "      <th>Txn_hash</th>\n",
              "      <th>blocks</th>\n",
              "      <th>date</th>\n",
              "      <th>from</th>\n",
              "      <th>txn_type</th>\n",
              "      <th>to</th>\n",
              "      <th>value</th>\n",
              "      <th>Txn_fee</th>\n",
              "    </tr>\n",
              "  </thead>\n",
              "  <tbody>\n",
              "    <tr>\n",
              "      <th>0</th>\n",
              "      <td>0xc02aaa39b223fe8d0a0e5c4f27ead9083c756cc2</td>\n",
              "      <td>0xfc0f500de01a945cae79b8499c0247cf2cd57e791882...</td>\n",
              "      <td>(pending)</td>\n",
              "      <td>2020-02-13 8:11:10</td>\n",
              "      <td>0xadeeb9d09b8bcee10943198fb6f6a4229bab3675</td>\n",
              "      <td>IN</td>\n",
              "      <td>0xc02aaa39b223fe8d0a0e5c4f27ead9083c756cc2</td>\n",
              "      <td>111 Ether</td>\n",
              "      <td>(Pending)</td>\n",
              "    </tr>\n",
              "    <tr>\n",
              "      <th>1</th>\n",
              "      <td>0xc02aaa39b223fe8d0a0e5c4f27ead9083c756cc2</td>\n",
              "      <td>0x3fc1bfb66bb222580543e38952be03c12944a84bcfbe...</td>\n",
              "      <td>(pending)</td>\n",
              "      <td>2020-02-13 5:44:47</td>\n",
              "      <td>0x4f0a1940de411285ad0455a7f40c81b5e0bc8492</td>\n",
              "      <td>IN</td>\n",
              "      <td>0xc02aaa39b223fe8d0a0e5c4f27ead9083c756cc2</td>\n",
              "      <td>0 Ether</td>\n",
              "      <td>(Pending)</td>\n",
              "    </tr>\n",
              "    <tr>\n",
              "      <th>2</th>\n",
              "      <td>0xc02aaa39b223fe8d0a0e5c4f27ead9083c756cc2</td>\n",
              "      <td>0x5b324ab8483effd44cd7bfa59bd65725b822d5731221...</td>\n",
              "      <td>(pending)</td>\n",
              "      <td>2020-02-07 2:12:51</td>\n",
              "      <td>0x871463ce6b696c0c46910a996070bff9dcc5c351</td>\n",
              "      <td>IN</td>\n",
              "      <td>0xc02aaa39b223fe8d0a0e5c4f27ead9083c756cc2</td>\n",
              "      <td>0 Ether</td>\n",
              "      <td>(Pending)</td>\n",
              "    </tr>\n",
              "    <tr>\n",
              "      <th>3</th>\n",
              "      <td>0xc02aaa39b223fe8d0a0e5c4f27ead9083c756cc2</td>\n",
              "      <td>0x4eede6bc0d21c20fbe32750682ef2ec148bae914a566...</td>\n",
              "      <td>(pending)</td>\n",
              "      <td>2020-02-07 2:12:51</td>\n",
              "      <td>0x871463ce6b696c0c46910a996070bff9dcc5c351</td>\n",
              "      <td>IN</td>\n",
              "      <td>0xc02aaa39b223fe8d0a0e5c4f27ead9083c756cc2</td>\n",
              "      <td>0 Ether</td>\n",
              "      <td>(Pending)</td>\n",
              "    </tr>\n",
              "    <tr>\n",
              "      <th>4</th>\n",
              "      <td>0xc02aaa39b223fe8d0a0e5c4f27ead9083c756cc2</td>\n",
              "      <td>0x42fe81fda028289414af65fe31405a10289aba37f726...</td>\n",
              "      <td>9473503</td>\n",
              "      <td>2020-02-13 8:10:18</td>\n",
              "      <td>0x6924a03bb710eaf199ab6ac9f2bb148215ae9b5d</td>\n",
              "      <td>IN</td>\n",
              "      <td>Wrapped Ether</td>\n",
              "      <td>105.0851 Ether</td>\n",
              "      <td>0.00057476</td>\n",
              "    </tr>\n",
              "  </tbody>\n",
              "</table>\n",
              "</div>"
            ],
            "text/plain": [
              "                                      Address  ...     Txn_fee\n",
              "0  0xc02aaa39b223fe8d0a0e5c4f27ead9083c756cc2  ...   (Pending)\n",
              "1  0xc02aaa39b223fe8d0a0e5c4f27ead9083c756cc2  ...   (Pending)\n",
              "2  0xc02aaa39b223fe8d0a0e5c4f27ead9083c756cc2  ...   (Pending)\n",
              "3  0xc02aaa39b223fe8d0a0e5c4f27ead9083c756cc2  ...   (Pending)\n",
              "4  0xc02aaa39b223fe8d0a0e5c4f27ead9083c756cc2  ...  0.00057476\n",
              "\n",
              "[5 rows x 9 columns]"
            ]
          },
          "metadata": {
            "tags": []
          },
          "execution_count": 46
        }
      ]
    },
    {
      "cell_type": "code",
      "metadata": {
        "id": "2h4sgs7HVJAR",
        "colab_type": "code",
        "colab": {}
      },
      "source": [
        "# rows with \"blocks\" = \"(pending)\"\n",
        "pending_tran = transaction.loc[transaction[\"blocks\"]==\"(pending)\"]"
      ],
      "execution_count": 0,
      "outputs": []
    },
    {
      "cell_type": "code",
      "metadata": {
        "id": "yhngCwbZXcto",
        "colab_type": "code",
        "colab": {
          "base_uri": "https://localhost:8080/",
          "height": 384
        },
        "outputId": "4cabcb79-a55c-4cd9-bbbd-3fcbe43aff0e"
      },
      "source": [
        "pending_tran.head()"
      ],
      "execution_count": 48,
      "outputs": [
        {
          "output_type": "execute_result",
          "data": {
            "text/html": [
              "<div>\n",
              "<style scoped>\n",
              "    .dataframe tbody tr th:only-of-type {\n",
              "        vertical-align: middle;\n",
              "    }\n",
              "\n",
              "    .dataframe tbody tr th {\n",
              "        vertical-align: top;\n",
              "    }\n",
              "\n",
              "    .dataframe thead th {\n",
              "        text-align: right;\n",
              "    }\n",
              "</style>\n",
              "<table border=\"1\" class=\"dataframe\">\n",
              "  <thead>\n",
              "    <tr style=\"text-align: right;\">\n",
              "      <th></th>\n",
              "      <th>Address</th>\n",
              "      <th>Txn_hash</th>\n",
              "      <th>blocks</th>\n",
              "      <th>date</th>\n",
              "      <th>from</th>\n",
              "      <th>txn_type</th>\n",
              "      <th>to</th>\n",
              "      <th>value</th>\n",
              "      <th>Txn_fee</th>\n",
              "    </tr>\n",
              "  </thead>\n",
              "  <tbody>\n",
              "    <tr>\n",
              "      <th>0</th>\n",
              "      <td>0xc02aaa39b223fe8d0a0e5c4f27ead9083c756cc2</td>\n",
              "      <td>0xfc0f500de01a945cae79b8499c0247cf2cd57e791882...</td>\n",
              "      <td>(pending)</td>\n",
              "      <td>2020-02-13 8:11:10</td>\n",
              "      <td>0xadeeb9d09b8bcee10943198fb6f6a4229bab3675</td>\n",
              "      <td>IN</td>\n",
              "      <td>0xc02aaa39b223fe8d0a0e5c4f27ead9083c756cc2</td>\n",
              "      <td>111 Ether</td>\n",
              "      <td>(Pending)</td>\n",
              "    </tr>\n",
              "    <tr>\n",
              "      <th>1</th>\n",
              "      <td>0xc02aaa39b223fe8d0a0e5c4f27ead9083c756cc2</td>\n",
              "      <td>0x3fc1bfb66bb222580543e38952be03c12944a84bcfbe...</td>\n",
              "      <td>(pending)</td>\n",
              "      <td>2020-02-13 5:44:47</td>\n",
              "      <td>0x4f0a1940de411285ad0455a7f40c81b5e0bc8492</td>\n",
              "      <td>IN</td>\n",
              "      <td>0xc02aaa39b223fe8d0a0e5c4f27ead9083c756cc2</td>\n",
              "      <td>0 Ether</td>\n",
              "      <td>(Pending)</td>\n",
              "    </tr>\n",
              "    <tr>\n",
              "      <th>2</th>\n",
              "      <td>0xc02aaa39b223fe8d0a0e5c4f27ead9083c756cc2</td>\n",
              "      <td>0x5b324ab8483effd44cd7bfa59bd65725b822d5731221...</td>\n",
              "      <td>(pending)</td>\n",
              "      <td>2020-02-07 2:12:51</td>\n",
              "      <td>0x871463ce6b696c0c46910a996070bff9dcc5c351</td>\n",
              "      <td>IN</td>\n",
              "      <td>0xc02aaa39b223fe8d0a0e5c4f27ead9083c756cc2</td>\n",
              "      <td>0 Ether</td>\n",
              "      <td>(Pending)</td>\n",
              "    </tr>\n",
              "    <tr>\n",
              "      <th>3</th>\n",
              "      <td>0xc02aaa39b223fe8d0a0e5c4f27ead9083c756cc2</td>\n",
              "      <td>0x4eede6bc0d21c20fbe32750682ef2ec148bae914a566...</td>\n",
              "      <td>(pending)</td>\n",
              "      <td>2020-02-07 2:12:51</td>\n",
              "      <td>0x871463ce6b696c0c46910a996070bff9dcc5c351</td>\n",
              "      <td>IN</td>\n",
              "      <td>0xc02aaa39b223fe8d0a0e5c4f27ead9083c756cc2</td>\n",
              "      <td>0 Ether</td>\n",
              "      <td>(Pending)</td>\n",
              "    </tr>\n",
              "    <tr>\n",
              "      <th>417</th>\n",
              "      <td>0x4ddc2d193948926d02f9b1fe9e1daa0718270ed5</td>\n",
              "      <td>0x64650be669f359522e175b0c478eb832ea1843554ff4...</td>\n",
              "      <td>(pending)</td>\n",
              "      <td>2020-02-13 8:13:42</td>\n",
              "      <td>0xce4694087644b6b6262090c8a08639379f5eaab8</td>\n",
              "      <td>IN</td>\n",
              "      <td>0x4ddc2d193948926d02f9b1fe9e1daa0718270ed5</td>\n",
              "      <td>0 Ether</td>\n",
              "      <td>(Pending)</td>\n",
              "    </tr>\n",
              "  </tbody>\n",
              "</table>\n",
              "</div>"
            ],
            "text/plain": [
              "                                        Address  ...    Txn_fee\n",
              "0    0xc02aaa39b223fe8d0a0e5c4f27ead9083c756cc2  ...  (Pending)\n",
              "1    0xc02aaa39b223fe8d0a0e5c4f27ead9083c756cc2  ...  (Pending)\n",
              "2    0xc02aaa39b223fe8d0a0e5c4f27ead9083c756cc2  ...  (Pending)\n",
              "3    0xc02aaa39b223fe8d0a0e5c4f27ead9083c756cc2  ...  (Pending)\n",
              "417  0x4ddc2d193948926d02f9b1fe9e1daa0718270ed5  ...  (Pending)\n",
              "\n",
              "[5 rows x 9 columns]"
            ]
          },
          "metadata": {
            "tags": []
          },
          "execution_count": 48
        }
      ]
    },
    {
      "cell_type": "code",
      "metadata": {
        "id": "8i9j3W9TXG0Q",
        "colab_type": "code",
        "colab": {
          "base_uri": "https://localhost:8080/",
          "height": 33
        },
        "outputId": "426a0ed6-1cca-4e03-f53d-84c78d964a51"
      },
      "source": [
        "pending_tran.shape"
      ],
      "execution_count": 49,
      "outputs": [
        {
          "output_type": "execute_result",
          "data": {
            "text/plain": [
              "(56, 9)"
            ]
          },
          "metadata": {
            "tags": []
          },
          "execution_count": 49
        }
      ]
    },
    {
      "cell_type": "code",
      "metadata": {
        "id": "lUed6SXpVUAH",
        "colab_type": "code",
        "colab": {}
      },
      "source": [
        "# drop rows with \"blocks\" = \"(pending)\"\n",
        "transaction = transaction.drop(pending_tran.index,axis = 0)"
      ],
      "execution_count": 0,
      "outputs": []
    },
    {
      "cell_type": "code",
      "metadata": {
        "id": "dmot0k46XAYf",
        "colab_type": "code",
        "colab": {
          "base_uri": "https://localhost:8080/",
          "height": 47
        },
        "outputId": "6ad47eab-0440-4056-acbf-ca083677576b"
      },
      "source": [
        "(transaction.loc[transaction[\"blocks\"]==\"(pending)\"])"
      ],
      "execution_count": 51,
      "outputs": [
        {
          "output_type": "execute_result",
          "data": {
            "text/html": [
              "<div>\n",
              "<style scoped>\n",
              "    .dataframe tbody tr th:only-of-type {\n",
              "        vertical-align: middle;\n",
              "    }\n",
              "\n",
              "    .dataframe tbody tr th {\n",
              "        vertical-align: top;\n",
              "    }\n",
              "\n",
              "    .dataframe thead th {\n",
              "        text-align: right;\n",
              "    }\n",
              "</style>\n",
              "<table border=\"1\" class=\"dataframe\">\n",
              "  <thead>\n",
              "    <tr style=\"text-align: right;\">\n",
              "      <th></th>\n",
              "      <th>Address</th>\n",
              "      <th>Txn_hash</th>\n",
              "      <th>blocks</th>\n",
              "      <th>date</th>\n",
              "      <th>from</th>\n",
              "      <th>txn_type</th>\n",
              "      <th>to</th>\n",
              "      <th>value</th>\n",
              "      <th>Txn_fee</th>\n",
              "    </tr>\n",
              "  </thead>\n",
              "  <tbody>\n",
              "  </tbody>\n",
              "</table>\n",
              "</div>"
            ],
            "text/plain": [
              "Empty DataFrame\n",
              "Columns: [Address, Txn_hash, blocks, date, from, txn_type, to, value, Txn_fee]\n",
              "Index: []"
            ]
          },
          "metadata": {
            "tags": []
          },
          "execution_count": 51
        }
      ]
    },
    {
      "cell_type": "code",
      "metadata": {
        "id": "1hcylMSBXDA_",
        "colab_type": "code",
        "colab": {
          "base_uri": "https://localhost:8080/",
          "height": 33
        },
        "outputId": "241ef41d-7cc0-4d57-97d1-af537f76f940"
      },
      "source": [
        "(transaction.loc[transaction[\"blocks\"]==\"(pending)\"]).shape"
      ],
      "execution_count": 52,
      "outputs": [
        {
          "output_type": "execute_result",
          "data": {
            "text/plain": [
              "(0, 9)"
            ]
          },
          "metadata": {
            "tags": []
          },
          "execution_count": 52
        }
      ]
    },
    {
      "cell_type": "code",
      "metadata": {
        "id": "HZfNcpsxXZpF",
        "colab_type": "code",
        "colab": {
          "base_uri": "https://localhost:8080/",
          "height": 47
        },
        "outputId": "82586685-ee67-452d-e7c2-9029e0b64c62"
      },
      "source": [
        "(transaction.loc[transaction[\"Txn_fee\"]==\"(Pending)\"])"
      ],
      "execution_count": 53,
      "outputs": [
        {
          "output_type": "execute_result",
          "data": {
            "text/html": [
              "<div>\n",
              "<style scoped>\n",
              "    .dataframe tbody tr th:only-of-type {\n",
              "        vertical-align: middle;\n",
              "    }\n",
              "\n",
              "    .dataframe tbody tr th {\n",
              "        vertical-align: top;\n",
              "    }\n",
              "\n",
              "    .dataframe thead th {\n",
              "        text-align: right;\n",
              "    }\n",
              "</style>\n",
              "<table border=\"1\" class=\"dataframe\">\n",
              "  <thead>\n",
              "    <tr style=\"text-align: right;\">\n",
              "      <th></th>\n",
              "      <th>Address</th>\n",
              "      <th>Txn_hash</th>\n",
              "      <th>blocks</th>\n",
              "      <th>date</th>\n",
              "      <th>from</th>\n",
              "      <th>txn_type</th>\n",
              "      <th>to</th>\n",
              "      <th>value</th>\n",
              "      <th>Txn_fee</th>\n",
              "    </tr>\n",
              "  </thead>\n",
              "  <tbody>\n",
              "  </tbody>\n",
              "</table>\n",
              "</div>"
            ],
            "text/plain": [
              "Empty DataFrame\n",
              "Columns: [Address, Txn_hash, blocks, date, from, txn_type, to, value, Txn_fee]\n",
              "Index: []"
            ]
          },
          "metadata": {
            "tags": []
          },
          "execution_count": 53
        }
      ]
    },
    {
      "cell_type": "code",
      "metadata": {
        "id": "NPL1h5YVX3pp",
        "colab_type": "code",
        "colab": {}
      },
      "source": [
        "# replace 'Ether' with '' for 'value' column\n",
        "transaction['value'] = transaction['value'].str.replace('Ether', '')"
      ],
      "execution_count": 0,
      "outputs": []
    },
    {
      "cell_type": "code",
      "metadata": {
        "id": "lpk23wVeZoy0",
        "colab_type": "code",
        "colab": {
          "base_uri": "https://localhost:8080/",
          "height": 184
        },
        "outputId": "5fdc196f-afc6-4776-889e-ab68a8f4a518"
      },
      "source": [
        "# value attribute contains ','\n",
        "transaction.iloc[46,:]"
      ],
      "execution_count": 55,
      "outputs": [
        {
          "output_type": "execute_result",
          "data": {
            "text/plain": [
              "Address            0x742d35cc6634c0532925a3b844bc454e4438f44e\n",
              "Txn_hash    0xee5fd59cdbe38a5a13c209f459e45f77b180a2b38be5...\n",
              "blocks                                                9473460\n",
              "date                                       2020-02-13 7:59:54\n",
              "from                                               Bitfinex 5\n",
              "txn_type                                                  OUT\n",
              "to                                                 Bitfinex 4\n",
              "value                                                 50,000 \n",
              "Txn_fee                                              0.000168\n",
              "Name: 50, dtype: object"
            ]
          },
          "metadata": {
            "tags": []
          },
          "execution_count": 55
        }
      ]
    },
    {
      "cell_type": "code",
      "metadata": {
        "id": "Jj_ts-F9Z4MU",
        "colab_type": "code",
        "colab": {}
      },
      "source": [
        "# replace ',' with ''\n",
        "transaction['value'] = transaction['value'].str.replace(',', '')"
      ],
      "execution_count": 0,
      "outputs": []
    },
    {
      "cell_type": "code",
      "metadata": {
        "id": "njZmqsGlbqyk",
        "colab_type": "code",
        "colab": {
          "base_uri": "https://localhost:8080/",
          "height": 184
        },
        "outputId": "9c4596ca-b6a5-414b-b3e9-732d7cb6a7cc"
      },
      "source": [
        "# value attribute contains 'wei'\n",
        "print(transaction.iloc[174,:])"
      ],
      "execution_count": 57,
      "outputs": [
        {
          "output_type": "stream",
          "text": [
            "Address            0x997114ca0830e9bee7443368fa27f4af2d4e55a6\n",
            "Txn_hash    0xdd570085f28587501cc42a9bbe7519fc24d241205526...\n",
            "blocks                                                9341893\n",
            "date                                       2020-01-24 2:54:08\n",
            "from               0xcee95ce42d94b35c4f714f0dc23078ab06136102\n",
            "txn_type                                                  IN \n",
            "to                                         Plus Token Ponzi 2\n",
            "value                                                   1 wei\n",
            "Txn_fee                                                     0\n",
            "Name: 178, dtype: object\n"
          ],
          "name": "stdout"
        }
      ]
    },
    {
      "cell_type": "code",
      "metadata": {
        "id": "p3sxUJ6sbxXf",
        "colab_type": "code",
        "colab": {}
      },
      "source": [
        ""
      ],
      "execution_count": 0,
      "outputs": []
    }
  ]
}