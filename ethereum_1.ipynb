{
  "nbformat": 4,
  "nbformat_minor": 0,
  "metadata": {
    "colab": {
      "name": "ethereum 1.ipynb",
      "provenance": [],
      "collapsed_sections": [],
      "authorship_tag": "ABX9TyPY4XeI7WtPULT3tnzH9Ufz",
      "include_colab_link": true
    },
    "kernelspec": {
      "name": "python3",
      "display_name": "Python 3"
    }
  },
  "cells": [
    {
      "cell_type": "markdown",
      "metadata": {
        "id": "view-in-github",
        "colab_type": "text"
      },
      "source": [
        "<a href=\"https://colab.research.google.com/github/mshilpaa/ethereum-data-analysis/blob/master/ethereum_1.ipynb\" target=\"_parent\"><img src=\"https://colab.research.google.com/assets/colab-badge.svg\" alt=\"Open In Colab\"/></a>"
      ]
    },
    {
      "cell_type": "code",
      "metadata": {
        "id": "UxAQ7xc8dae-",
        "colab_type": "code",
        "colab": {}
      },
      "source": [
        "import pandas as pd\n",
        "import numpy as np\n",
        "import matplotlib.pyplot as plt"
      ],
      "execution_count": 0,
      "outputs": []
    },
    {
      "cell_type": "code",
      "metadata": {
        "id": "4tVlIU_nb1ak",
        "colab_type": "code",
        "outputId": "5c02157b-ecb7-40c9-e6cd-e7d4c28aba5c",
        "colab": {
          "base_uri": "https://localhost:8080/",
          "height": 50
        }
      },
      "source": [
        "\n",
        "# mount gdrive and unzip data\n",
        "from google.colab import drive\n",
        "drive.mount('/content/drive')\n",
        "\n",
        "%ls"
      ],
      "execution_count": 2,
      "outputs": [
        {
          "output_type": "stream",
          "text": [
            "Drive already mounted at /content/drive; to attempt to forcibly remount, call drive.mount(\"/content/drive\", force_remount=True).\n",
            "\u001b[0m\u001b[01;34mdrive\u001b[0m/  \u001b[01;34msample_data\u001b[0m/\n"
          ],
          "name": "stdout"
        }
      ]
    },
    {
      "cell_type": "markdown",
      "metadata": {
        "id": "bTH678LTnZm8",
        "colab_type": "text"
      },
      "source": [
        "24 attributes\n",
        "\n",
        "\n",
        "* outgoing_txns\t - outgoing taxes(txn_type = OUT)\n",
        "\n",
        "* incoming_txns  -  incoming taxes(txn_type = IN)\n",
        "\n",
        "* total_eth_sent - total of all ether where txn_type = OUT\n",
        "\n",
        "* avg_eth_sent  = total ether sent/ total no. of transactions of that addr.\n",
        "\n",
        "* total_usd_sent = total $ sent\n",
        "\n",
        "* avg_usd_sent\t= total $ sent/ total no. of transactions of that addr.\n",
        "\n",
        "* total_eth_recd\tis total ether recieved = total of all ether where (txn_type = IN)\n",
        "\n",
        "* avg_eth_recd\t= total ether recieved/ total no. of transactions of that addr.\n",
        "\n",
        "* total_usd_recd\t= total $ recieved\n",
        "\n",
        "* avg_usd_recd\t= total $ sent/ total no. of transactions of that addr.\n",
        "\n",
        "* active_months = count of no. of active months\n",
        "\n",
        "* monthly_outgoing_txns - for outgoing taxes(txn_type = OUT)\n",
        "\n",
        "* monthly_incoming_txns - for incoming taxes(txn_type = IN)\n",
        "\n",
        "* monthly_eth_sent - for outgoing taxes(txn_type = OUT)\t\n",
        "\n",
        "* monthly_usd_sent - for outgoing taxes(txn_type = OUT)\n",
        "\n",
        "* monthly_eth_recd - for incoming taxes(txn_type = IN)\n",
        "\n",
        "* monthly_usd_recd - for incoming taxes(txn_type = IN)\n",
        "\n",
        "* contracts_created - Data not available\n",
        "\n",
        "* contract_txns_sent - Data not available\t\n",
        "\n",
        "* incoming_avg_time_btwn_txns\t\n",
        "* incoming_std_time_btwn_txns\t\n",
        "* outgoing_avg_time_btwn_txns\t\n",
        "* outgoing_std_time_btwn_txns\t\n",
        "* num_tokens_used\teth_balance - not scraped"
      ]
    },
    {
      "cell_type": "code",
      "metadata": {
        "id": "TIqLkWhZFNDS",
        "colab_type": "code",
        "outputId": "341ce729-c295-4d9b-8d90-5b15eb169a91",
        "colab": {
          "base_uri": "https://localhost:8080/",
          "height": 196
        }
      },
      "source": [
        "balance1 = pd.read_csv(\"/content/drive/My Drive/ethereum/balance_data.csv\", names = [\"index\",\t\"Address\",\t\"Balance(in Ether)\",\t\"Ether_value\",\t\"Token(in $)\"])\n",
        "balance1.head()"
      ],
      "execution_count": 3,
      "outputs": [
        {
          "output_type": "execute_result",
          "data": {
            "text/html": [
              "<div>\n",
              "<style scoped>\n",
              "    .dataframe tbody tr th:only-of-type {\n",
              "        vertical-align: middle;\n",
              "    }\n",
              "\n",
              "    .dataframe tbody tr th {\n",
              "        vertical-align: top;\n",
              "    }\n",
              "\n",
              "    .dataframe thead th {\n",
              "        text-align: right;\n",
              "    }\n",
              "</style>\n",
              "<table border=\"1\" class=\"dataframe\">\n",
              "  <thead>\n",
              "    <tr style=\"text-align: right;\">\n",
              "      <th></th>\n",
              "      <th>index</th>\n",
              "      <th>Address</th>\n",
              "      <th>Balance(in Ether)</th>\n",
              "      <th>Ether_value</th>\n",
              "      <th>Token(in $)</th>\n",
              "    </tr>\n",
              "  </thead>\n",
              "  <tbody>\n",
              "    <tr>\n",
              "      <th>0</th>\n",
              "      <td>NaN</td>\n",
              "      <td>Address</td>\n",
              "      <td>Balance</td>\n",
              "      <td>Ether_value</td>\n",
              "      <td>Token</td>\n",
              "    </tr>\n",
              "    <tr>\n",
              "      <th>1</th>\n",
              "      <td>0.0</td>\n",
              "      <td>0xc02aaa39b223fe8d0a0e5c4f27ead9083c756cc2</td>\n",
              "      <td>2,693,158.877369522185465701 Ether</td>\n",
              "      <td>$724,298,148.48 (@ $268.94/ETH)</td>\n",
              "      <td>$43,337.49</td>\n",
              "    </tr>\n",
              "    <tr>\n",
              "      <th>2</th>\n",
              "      <td>1.0</td>\n",
              "      <td>0xbe0eb53f46cd790cd13851d5eff43d12404d33e8</td>\n",
              "      <td>2,201,522.845657376622444548 Ether</td>\n",
              "      <td>$592,077,554.11 (@ $268.94/ETH)</td>\n",
              "      <td>$972,391,367.87</td>\n",
              "    </tr>\n",
              "    <tr>\n",
              "      <th>3</th>\n",
              "      <td>2.0</td>\n",
              "      <td>0x742d35cc6634c0532925a3b844bc454e4438f44e</td>\n",
              "      <td>2,140,144.987488917500000001 Ether</td>\n",
              "      <td>$575,570,592.94 (@ $268.94/ETH)</td>\n",
              "      <td>$760,226,604.60</td>\n",
              "    </tr>\n",
              "    <tr>\n",
              "      <th>4</th>\n",
              "      <td>3.0</td>\n",
              "      <td>0xdc76cd25977e0a5ae17155770273ad58648900d3</td>\n",
              "      <td>1,885,860.525755553677093 Ether</td>\n",
              "      <td>$509,201,200.56 (@ $270.01/ETH)</td>\n",
              "      <td>$61,061.89</td>\n",
              "    </tr>\n",
              "  </tbody>\n",
              "</table>\n",
              "</div>"
            ],
            "text/plain": [
              "   index  ...      Token(in $)\n",
              "0    NaN  ...            Token\n",
              "1    0.0  ...       $43,337.49\n",
              "2    1.0  ...  $972,391,367.87\n",
              "3    2.0  ...  $760,226,604.60\n",
              "4    3.0  ...       $61,061.89\n",
              "\n",
              "[5 rows x 5 columns]"
            ]
          },
          "metadata": {
            "tags": []
          },
          "execution_count": 3
        }
      ]
    },
    {
      "cell_type": "code",
      "metadata": {
        "id": "Vmr7luivtkZB",
        "colab_type": "code",
        "outputId": "0f681de2-2794-4f07-8cf5-ed2f256ed382",
        "colab": {
          "base_uri": "https://localhost:8080/",
          "height": 117
        }
      },
      "source": [
        "balance1.iloc[1]"
      ],
      "execution_count": 4,
      "outputs": [
        {
          "output_type": "execute_result",
          "data": {
            "text/plain": [
              "index                                                         0\n",
              "Address              0xc02aaa39b223fe8d0a0e5c4f27ead9083c756cc2\n",
              "Balance(in Ether)            2,693,158.877369522185465701 Ether\n",
              "Ether_value                     $724,298,148.48 (@ $268.94/ETH)\n",
              "Token(in $)                                          $43,337.49\n",
              "Name: 1, dtype: object"
            ]
          },
          "metadata": {
            "tags": []
          },
          "execution_count": 4
        }
      ]
    },
    {
      "cell_type": "code",
      "metadata": {
        "id": "2fy-hF2ad1vE",
        "colab_type": "code",
        "colab": {}
      },
      "source": [
        "# drop the row with column names\n",
        "balance1 = balance1.drop([0],axis = 0)\n",
        "balance1.reset_index(drop=True, inplace=True)"
      ],
      "execution_count": 0,
      "outputs": []
    },
    {
      "cell_type": "code",
      "metadata": {
        "id": "Ei3Nzl6DVGZq",
        "colab_type": "code",
        "colab": {
          "base_uri": "https://localhost:8080/",
          "height": 196
        },
        "outputId": "67669396-8fdd-4c60-9b54-0ae8419b0bfe"
      },
      "source": [
        "balance1.head()"
      ],
      "execution_count": 6,
      "outputs": [
        {
          "output_type": "execute_result",
          "data": {
            "text/html": [
              "<div>\n",
              "<style scoped>\n",
              "    .dataframe tbody tr th:only-of-type {\n",
              "        vertical-align: middle;\n",
              "    }\n",
              "\n",
              "    .dataframe tbody tr th {\n",
              "        vertical-align: top;\n",
              "    }\n",
              "\n",
              "    .dataframe thead th {\n",
              "        text-align: right;\n",
              "    }\n",
              "</style>\n",
              "<table border=\"1\" class=\"dataframe\">\n",
              "  <thead>\n",
              "    <tr style=\"text-align: right;\">\n",
              "      <th></th>\n",
              "      <th>index</th>\n",
              "      <th>Address</th>\n",
              "      <th>Balance(in Ether)</th>\n",
              "      <th>Ether_value</th>\n",
              "      <th>Token(in $)</th>\n",
              "    </tr>\n",
              "  </thead>\n",
              "  <tbody>\n",
              "    <tr>\n",
              "      <th>0</th>\n",
              "      <td>0.0</td>\n",
              "      <td>0xc02aaa39b223fe8d0a0e5c4f27ead9083c756cc2</td>\n",
              "      <td>2,693,158.877369522185465701 Ether</td>\n",
              "      <td>$724,298,148.48 (@ $268.94/ETH)</td>\n",
              "      <td>$43,337.49</td>\n",
              "    </tr>\n",
              "    <tr>\n",
              "      <th>1</th>\n",
              "      <td>1.0</td>\n",
              "      <td>0xbe0eb53f46cd790cd13851d5eff43d12404d33e8</td>\n",
              "      <td>2,201,522.845657376622444548 Ether</td>\n",
              "      <td>$592,077,554.11 (@ $268.94/ETH)</td>\n",
              "      <td>$972,391,367.87</td>\n",
              "    </tr>\n",
              "    <tr>\n",
              "      <th>2</th>\n",
              "      <td>2.0</td>\n",
              "      <td>0x742d35cc6634c0532925a3b844bc454e4438f44e</td>\n",
              "      <td>2,140,144.987488917500000001 Ether</td>\n",
              "      <td>$575,570,592.94 (@ $268.94/ETH)</td>\n",
              "      <td>$760,226,604.60</td>\n",
              "    </tr>\n",
              "    <tr>\n",
              "      <th>3</th>\n",
              "      <td>3.0</td>\n",
              "      <td>0xdc76cd25977e0a5ae17155770273ad58648900d3</td>\n",
              "      <td>1,885,860.525755553677093 Ether</td>\n",
              "      <td>$509,201,200.56 (@ $270.01/ETH)</td>\n",
              "      <td>$61,061.89</td>\n",
              "    </tr>\n",
              "    <tr>\n",
              "      <th>4</th>\n",
              "      <td>4.0</td>\n",
              "      <td>0x53d284357ec70ce289d6d64134dfac8e511c8a3d</td>\n",
              "      <td>1,378,754.144654378911481302 Ether</td>\n",
              "      <td>$372,277,406.60 (@ $270.01/ETH)</td>\n",
              "      <td>$166,680.94</td>\n",
              "    </tr>\n",
              "  </tbody>\n",
              "</table>\n",
              "</div>"
            ],
            "text/plain": [
              "   index  ...      Token(in $)\n",
              "0    0.0  ...       $43,337.49\n",
              "1    1.0  ...  $972,391,367.87\n",
              "2    2.0  ...  $760,226,604.60\n",
              "3    3.0  ...       $61,061.89\n",
              "4    4.0  ...      $166,680.94\n",
              "\n",
              "[5 rows x 5 columns]"
            ]
          },
          "metadata": {
            "tags": []
          },
          "execution_count": 6
        }
      ]
    },
    {
      "cell_type": "code",
      "metadata": {
        "id": "8deMBXnlLECu",
        "colab_type": "code",
        "outputId": "b657efda-6130-4541-f5f0-c095d1a5100a",
        "colab": {
          "base_uri": "https://localhost:8080/",
          "height": 33
        }
      },
      "source": [
        "# no. of instances\n",
        "len(balance1)"
      ],
      "execution_count": 7,
      "outputs": [
        {
          "output_type": "execute_result",
          "data": {
            "text/plain": [
              "25"
            ]
          },
          "metadata": {
            "tags": []
          },
          "execution_count": 7
        }
      ]
    },
    {
      "cell_type": "code",
      "metadata": {
        "id": "nIeThXk6IdVe",
        "colab_type": "code",
        "outputId": "66234f44-aee2-4d08-b44f-80d429a70360",
        "colab": {
          "base_uri": "https://localhost:8080/",
          "height": 33
        }
      },
      "source": [
        "# column names\n",
        "list(balance1.columns) "
      ],
      "execution_count": 8,
      "outputs": [
        {
          "output_type": "execute_result",
          "data": {
            "text/plain": [
              "['index', 'Address', 'Balance(in Ether)', 'Ether_value', 'Token(in $)']"
            ]
          },
          "metadata": {
            "tags": []
          },
          "execution_count": 8
        }
      ]
    },
    {
      "cell_type": "code",
      "metadata": {
        "id": "rE7c9taYdYV5",
        "colab_type": "code",
        "outputId": "055f9f40-4cac-45e1-a136-73538f6a2843",
        "colab": {
          "base_uri": "https://localhost:8080/",
          "height": 196
        }
      },
      "source": [
        "balance2 = pd.read_csv(\"/content/drive/My Drive/ethereum/balance_data1.csv\", names = [\"index\",\t\"Address\",\t\"Balance(in Ether)\",\t\"Ether_value\",\t\"Token(in $)\"])\n",
        "balance2.head()"
      ],
      "execution_count": 9,
      "outputs": [
        {
          "output_type": "execute_result",
          "data": {
            "text/html": [
              "<div>\n",
              "<style scoped>\n",
              "    .dataframe tbody tr th:only-of-type {\n",
              "        vertical-align: middle;\n",
              "    }\n",
              "\n",
              "    .dataframe tbody tr th {\n",
              "        vertical-align: top;\n",
              "    }\n",
              "\n",
              "    .dataframe thead th {\n",
              "        text-align: right;\n",
              "    }\n",
              "</style>\n",
              "<table border=\"1\" class=\"dataframe\">\n",
              "  <thead>\n",
              "    <tr style=\"text-align: right;\">\n",
              "      <th></th>\n",
              "      <th>index</th>\n",
              "      <th>Address</th>\n",
              "      <th>Balance(in Ether)</th>\n",
              "      <th>Ether_value</th>\n",
              "      <th>Token(in $)</th>\n",
              "    </tr>\n",
              "  </thead>\n",
              "  <tbody>\n",
              "    <tr>\n",
              "      <th>0</th>\n",
              "      <td>0</td>\n",
              "      <td>0xc02aaa39b223fe8d0a0e5c4f27ead9083c756cc2</td>\n",
              "      <td>2,698,132.463505611139822637 Ether</td>\n",
              "      <td>$760,765,429.41 (@ $281.96/ETH)</td>\n",
              "      <td>$40,227.34</td>\n",
              "    </tr>\n",
              "    <tr>\n",
              "      <th>1</th>\n",
              "      <td>1</td>\n",
              "      <td>0xbe0eb53f46cd790cd13851d5eff43d12404d33e8</td>\n",
              "      <td>2,201,522.844189725622444548 Ether</td>\n",
              "      <td>$620,741,381.15 (@ $281.96/ETH)</td>\n",
              "      <td>$1,019,385,392.03</td>\n",
              "    </tr>\n",
              "    <tr>\n",
              "      <th>2</th>\n",
              "      <td>2</td>\n",
              "      <td>0x742d35cc6634c0532925a3b844bc454e4438f44e</td>\n",
              "      <td>2,100,144.987320917500000001 Ether</td>\n",
              "      <td>$592,156,880.63 (@ $281.96/ETH)</td>\n",
              "      <td>$755,977,404.08</td>\n",
              "    </tr>\n",
              "    <tr>\n",
              "      <th>3</th>\n",
              "      <td>3</td>\n",
              "      <td>0xdc76cd25977e0a5ae17155770273ad58648900d3</td>\n",
              "      <td>1,885,860.525755553677093 Ether</td>\n",
              "      <td>$531,737,233.84 (@ $281.96/ETH)</td>\n",
              "      <td>$64,322.42</td>\n",
              "    </tr>\n",
              "    <tr>\n",
              "      <th>4</th>\n",
              "      <td>4</td>\n",
              "      <td>0x53d284357ec70ce289d6d64134dfac8e511c8a3d</td>\n",
              "      <td>1,378,754.144654898911481302 Ether</td>\n",
              "      <td>$388,753,518.63 (@ $281.96/ETH)</td>\n",
              "      <td>$172,229.71</td>\n",
              "    </tr>\n",
              "  </tbody>\n",
              "</table>\n",
              "</div>"
            ],
            "text/plain": [
              "   index  ...        Token(in $)\n",
              "0      0  ...         $40,227.34\n",
              "1      1  ...  $1,019,385,392.03\n",
              "2      2  ...    $755,977,404.08\n",
              "3      3  ...         $64,322.42\n",
              "4      4  ...        $172,229.71\n",
              "\n",
              "[5 rows x 5 columns]"
            ]
          },
          "metadata": {
            "tags": []
          },
          "execution_count": 9
        }
      ]
    },
    {
      "cell_type": "code",
      "metadata": {
        "id": "HJDC1cqnLKqc",
        "colab_type": "code",
        "outputId": "57731220-1cad-4776-b86d-089796649e34",
        "colab": {
          "base_uri": "https://localhost:8080/",
          "height": 33
        }
      },
      "source": [
        "len(balance2)"
      ],
      "execution_count": 10,
      "outputs": [
        {
          "output_type": "execute_result",
          "data": {
            "text/plain": [
              "2208"
            ]
          },
          "metadata": {
            "tags": []
          },
          "execution_count": 10
        }
      ]
    },
    {
      "cell_type": "code",
      "metadata": {
        "id": "EW6bx2--Ikjy",
        "colab_type": "code",
        "outputId": "4cab2add-b086-4428-a8d7-fd4e2fa0726a",
        "colab": {
          "base_uri": "https://localhost:8080/",
          "height": 33
        }
      },
      "source": [
        "list(balance2.columns) "
      ],
      "execution_count": 11,
      "outputs": [
        {
          "output_type": "execute_result",
          "data": {
            "text/plain": [
              "['index', 'Address', 'Balance(in Ether)', 'Ether_value', 'Token(in $)']"
            ]
          },
          "metadata": {
            "tags": []
          },
          "execution_count": 11
        }
      ]
    },
    {
      "cell_type": "code",
      "metadata": {
        "id": "U_cdl8ZG9WpQ",
        "colab_type": "code",
        "outputId": "e29418f0-ebff-492c-8e6b-2cf1f2dee2e3",
        "colab": {
          "base_uri": "https://localhost:8080/",
          "height": 196
        }
      },
      "source": [
        "# concatenate the two files but make sure that their column names match\n",
        "balance = pd.concat([balance1, balance2], ignore_index=True, names = [\"index\",\t\"Address\",\t\"Balance(in Ether)\",\t\"Ether_value\",\t\"Token(in $)\"])\n",
        "balance.head()"
      ],
      "execution_count": 12,
      "outputs": [
        {
          "output_type": "execute_result",
          "data": {
            "text/html": [
              "<div>\n",
              "<style scoped>\n",
              "    .dataframe tbody tr th:only-of-type {\n",
              "        vertical-align: middle;\n",
              "    }\n",
              "\n",
              "    .dataframe tbody tr th {\n",
              "        vertical-align: top;\n",
              "    }\n",
              "\n",
              "    .dataframe thead th {\n",
              "        text-align: right;\n",
              "    }\n",
              "</style>\n",
              "<table border=\"1\" class=\"dataframe\">\n",
              "  <thead>\n",
              "    <tr style=\"text-align: right;\">\n",
              "      <th></th>\n",
              "      <th>index</th>\n",
              "      <th>Address</th>\n",
              "      <th>Balance(in Ether)</th>\n",
              "      <th>Ether_value</th>\n",
              "      <th>Token(in $)</th>\n",
              "    </tr>\n",
              "  </thead>\n",
              "  <tbody>\n",
              "    <tr>\n",
              "      <th>0</th>\n",
              "      <td>0.0</td>\n",
              "      <td>0xc02aaa39b223fe8d0a0e5c4f27ead9083c756cc2</td>\n",
              "      <td>2,693,158.877369522185465701 Ether</td>\n",
              "      <td>$724,298,148.48 (@ $268.94/ETH)</td>\n",
              "      <td>$43,337.49</td>\n",
              "    </tr>\n",
              "    <tr>\n",
              "      <th>1</th>\n",
              "      <td>1.0</td>\n",
              "      <td>0xbe0eb53f46cd790cd13851d5eff43d12404d33e8</td>\n",
              "      <td>2,201,522.845657376622444548 Ether</td>\n",
              "      <td>$592,077,554.11 (@ $268.94/ETH)</td>\n",
              "      <td>$972,391,367.87</td>\n",
              "    </tr>\n",
              "    <tr>\n",
              "      <th>2</th>\n",
              "      <td>2.0</td>\n",
              "      <td>0x742d35cc6634c0532925a3b844bc454e4438f44e</td>\n",
              "      <td>2,140,144.987488917500000001 Ether</td>\n",
              "      <td>$575,570,592.94 (@ $268.94/ETH)</td>\n",
              "      <td>$760,226,604.60</td>\n",
              "    </tr>\n",
              "    <tr>\n",
              "      <th>3</th>\n",
              "      <td>3.0</td>\n",
              "      <td>0xdc76cd25977e0a5ae17155770273ad58648900d3</td>\n",
              "      <td>1,885,860.525755553677093 Ether</td>\n",
              "      <td>$509,201,200.56 (@ $270.01/ETH)</td>\n",
              "      <td>$61,061.89</td>\n",
              "    </tr>\n",
              "    <tr>\n",
              "      <th>4</th>\n",
              "      <td>4.0</td>\n",
              "      <td>0x53d284357ec70ce289d6d64134dfac8e511c8a3d</td>\n",
              "      <td>1,378,754.144654378911481302 Ether</td>\n",
              "      <td>$372,277,406.60 (@ $270.01/ETH)</td>\n",
              "      <td>$166,680.94</td>\n",
              "    </tr>\n",
              "  </tbody>\n",
              "</table>\n",
              "</div>"
            ],
            "text/plain": [
              "   index  ...      Token(in $)\n",
              "0    0.0  ...       $43,337.49\n",
              "1    1.0  ...  $972,391,367.87\n",
              "2    2.0  ...  $760,226,604.60\n",
              "3    3.0  ...       $61,061.89\n",
              "4    4.0  ...      $166,680.94\n",
              "\n",
              "[5 rows x 5 columns]"
            ]
          },
          "metadata": {
            "tags": []
          },
          "execution_count": 12
        }
      ]
    },
    {
      "cell_type": "code",
      "metadata": {
        "id": "Oat4t_m5LP2Q",
        "colab_type": "code",
        "outputId": "244d2968-c906-494c-ce39-07152c1406ba",
        "colab": {
          "base_uri": "https://localhost:8080/",
          "height": 33
        }
      },
      "source": [
        "len(balance)"
      ],
      "execution_count": 13,
      "outputs": [
        {
          "output_type": "execute_result",
          "data": {
            "text/plain": [
              "2233"
            ]
          },
          "metadata": {
            "tags": []
          },
          "execution_count": 13
        }
      ]
    },
    {
      "cell_type": "code",
      "metadata": {
        "id": "U8IBG0rqIqOA",
        "colab_type": "code",
        "outputId": "bf18e063-0f7b-46ef-f277-988856d4ea1d",
        "colab": {
          "base_uri": "https://localhost:8080/",
          "height": 33
        }
      },
      "source": [
        "list(balance.columns) "
      ],
      "execution_count": 14,
      "outputs": [
        {
          "output_type": "execute_result",
          "data": {
            "text/plain": [
              "['index', 'Address', 'Balance(in Ether)', 'Ether_value', 'Token(in $)']"
            ]
          },
          "metadata": {
            "tags": []
          },
          "execution_count": 14
        }
      ]
    },
    {
      "cell_type": "markdown",
      "metadata": {
        "id": "GSdI1iBVJZEG",
        "colab_type": "text"
      },
      "source": [
        "Convert to dataframe"
      ]
    },
    {
      "cell_type": "code",
      "metadata": {
        "id": "EYX99YgYCGx2",
        "colab_type": "code",
        "outputId": "75ed37b8-512b-413f-f8bb-38241b1356e0",
        "colab": {
          "base_uri": "https://localhost:8080/",
          "height": 196
        }
      },
      "source": [
        "balance = pd.DataFrame(balance)\n",
        "balance.head()"
      ],
      "execution_count": 15,
      "outputs": [
        {
          "output_type": "execute_result",
          "data": {
            "text/html": [
              "<div>\n",
              "<style scoped>\n",
              "    .dataframe tbody tr th:only-of-type {\n",
              "        vertical-align: middle;\n",
              "    }\n",
              "\n",
              "    .dataframe tbody tr th {\n",
              "        vertical-align: top;\n",
              "    }\n",
              "\n",
              "    .dataframe thead th {\n",
              "        text-align: right;\n",
              "    }\n",
              "</style>\n",
              "<table border=\"1\" class=\"dataframe\">\n",
              "  <thead>\n",
              "    <tr style=\"text-align: right;\">\n",
              "      <th></th>\n",
              "      <th>index</th>\n",
              "      <th>Address</th>\n",
              "      <th>Balance(in Ether)</th>\n",
              "      <th>Ether_value</th>\n",
              "      <th>Token(in $)</th>\n",
              "    </tr>\n",
              "  </thead>\n",
              "  <tbody>\n",
              "    <tr>\n",
              "      <th>0</th>\n",
              "      <td>0.0</td>\n",
              "      <td>0xc02aaa39b223fe8d0a0e5c4f27ead9083c756cc2</td>\n",
              "      <td>2,693,158.877369522185465701 Ether</td>\n",
              "      <td>$724,298,148.48 (@ $268.94/ETH)</td>\n",
              "      <td>$43,337.49</td>\n",
              "    </tr>\n",
              "    <tr>\n",
              "      <th>1</th>\n",
              "      <td>1.0</td>\n",
              "      <td>0xbe0eb53f46cd790cd13851d5eff43d12404d33e8</td>\n",
              "      <td>2,201,522.845657376622444548 Ether</td>\n",
              "      <td>$592,077,554.11 (@ $268.94/ETH)</td>\n",
              "      <td>$972,391,367.87</td>\n",
              "    </tr>\n",
              "    <tr>\n",
              "      <th>2</th>\n",
              "      <td>2.0</td>\n",
              "      <td>0x742d35cc6634c0532925a3b844bc454e4438f44e</td>\n",
              "      <td>2,140,144.987488917500000001 Ether</td>\n",
              "      <td>$575,570,592.94 (@ $268.94/ETH)</td>\n",
              "      <td>$760,226,604.60</td>\n",
              "    </tr>\n",
              "    <tr>\n",
              "      <th>3</th>\n",
              "      <td>3.0</td>\n",
              "      <td>0xdc76cd25977e0a5ae17155770273ad58648900d3</td>\n",
              "      <td>1,885,860.525755553677093 Ether</td>\n",
              "      <td>$509,201,200.56 (@ $270.01/ETH)</td>\n",
              "      <td>$61,061.89</td>\n",
              "    </tr>\n",
              "    <tr>\n",
              "      <th>4</th>\n",
              "      <td>4.0</td>\n",
              "      <td>0x53d284357ec70ce289d6d64134dfac8e511c8a3d</td>\n",
              "      <td>1,378,754.144654378911481302 Ether</td>\n",
              "      <td>$372,277,406.60 (@ $270.01/ETH)</td>\n",
              "      <td>$166,680.94</td>\n",
              "    </tr>\n",
              "  </tbody>\n",
              "</table>\n",
              "</div>"
            ],
            "text/plain": [
              "   index  ...      Token(in $)\n",
              "0    0.0  ...       $43,337.49\n",
              "1    1.0  ...  $972,391,367.87\n",
              "2    2.0  ...  $760,226,604.60\n",
              "3    3.0  ...       $61,061.89\n",
              "4    4.0  ...      $166,680.94\n",
              "\n",
              "[5 rows x 5 columns]"
            ]
          },
          "metadata": {
            "tags": []
          },
          "execution_count": 15
        }
      ]
    },
    {
      "cell_type": "code",
      "metadata": {
        "id": "Omo5DRQPKDFx",
        "colab_type": "code",
        "colab": {}
      },
      "source": [
        "# Remove the first column as it only the index\n",
        "balance = balance.drop(['index'], axis=1)"
      ],
      "execution_count": 0,
      "outputs": []
    },
    {
      "cell_type": "code",
      "metadata": {
        "id": "S7cw_7FjKLNa",
        "colab_type": "code",
        "outputId": "ac54cd97-a5e7-4ef7-d9ea-7b750894f05f",
        "colab": {
          "base_uri": "https://localhost:8080/",
          "height": 644
        }
      },
      "source": [
        "balance.head(20)"
      ],
      "execution_count": 17,
      "outputs": [
        {
          "output_type": "execute_result",
          "data": {
            "text/html": [
              "<div>\n",
              "<style scoped>\n",
              "    .dataframe tbody tr th:only-of-type {\n",
              "        vertical-align: middle;\n",
              "    }\n",
              "\n",
              "    .dataframe tbody tr th {\n",
              "        vertical-align: top;\n",
              "    }\n",
              "\n",
              "    .dataframe thead th {\n",
              "        text-align: right;\n",
              "    }\n",
              "</style>\n",
              "<table border=\"1\" class=\"dataframe\">\n",
              "  <thead>\n",
              "    <tr style=\"text-align: right;\">\n",
              "      <th></th>\n",
              "      <th>Address</th>\n",
              "      <th>Balance(in Ether)</th>\n",
              "      <th>Ether_value</th>\n",
              "      <th>Token(in $)</th>\n",
              "    </tr>\n",
              "  </thead>\n",
              "  <tbody>\n",
              "    <tr>\n",
              "      <th>0</th>\n",
              "      <td>0xc02aaa39b223fe8d0a0e5c4f27ead9083c756cc2</td>\n",
              "      <td>2,693,158.877369522185465701 Ether</td>\n",
              "      <td>$724,298,148.48 (@ $268.94/ETH)</td>\n",
              "      <td>$43,337.49</td>\n",
              "    </tr>\n",
              "    <tr>\n",
              "      <th>1</th>\n",
              "      <td>0xbe0eb53f46cd790cd13851d5eff43d12404d33e8</td>\n",
              "      <td>2,201,522.845657376622444548 Ether</td>\n",
              "      <td>$592,077,554.11 (@ $268.94/ETH)</td>\n",
              "      <td>$972,391,367.87</td>\n",
              "    </tr>\n",
              "    <tr>\n",
              "      <th>2</th>\n",
              "      <td>0x742d35cc6634c0532925a3b844bc454e4438f44e</td>\n",
              "      <td>2,140,144.987488917500000001 Ether</td>\n",
              "      <td>$575,570,592.94 (@ $268.94/ETH)</td>\n",
              "      <td>$760,226,604.60</td>\n",
              "    </tr>\n",
              "    <tr>\n",
              "      <th>3</th>\n",
              "      <td>0xdc76cd25977e0a5ae17155770273ad58648900d3</td>\n",
              "      <td>1,885,860.525755553677093 Ether</td>\n",
              "      <td>$509,201,200.56 (@ $270.01/ETH)</td>\n",
              "      <td>$61,061.89</td>\n",
              "    </tr>\n",
              "    <tr>\n",
              "      <th>4</th>\n",
              "      <td>0x53d284357ec70ce289d6d64134dfac8e511c8a3d</td>\n",
              "      <td>1,378,754.144654378911481302 Ether</td>\n",
              "      <td>$372,277,406.60 (@ $270.01/ETH)</td>\n",
              "      <td>$166,680.94</td>\n",
              "    </tr>\n",
              "    <tr>\n",
              "      <th>5</th>\n",
              "      <td>0xab7c74abc0c4d48d1bdad5dcb26153fc8780f83e</td>\n",
              "      <td>999,999.014703265377777771 Ether</td>\n",
              "      <td>$270,009,733.96 (@ $270.01/ETH)</td>\n",
              "      <td>$159,973.57</td>\n",
              "    </tr>\n",
              "    <tr>\n",
              "      <th>6</th>\n",
              "      <td>0xe853c56864a2ebe4576a807d26fdc4a0ada51919</td>\n",
              "      <td>801,052.799959724594886 Ether</td>\n",
              "      <td>$215,435,140.02 (@ $268.94/ETH)</td>\n",
              "      <td>$337,738.70</td>\n",
              "    </tr>\n",
              "    <tr>\n",
              "      <th>7</th>\n",
              "      <td>0x997114ca0830e9bee7443368fa27f4af2d4e55a6</td>\n",
              "      <td>789,534.621004200000000001 Ether</td>\n",
              "      <td>$212,337,440.97 (@ $268.94/ETH)</td>\n",
              "      <td>$1.10</td>\n",
              "    </tr>\n",
              "    <tr>\n",
              "      <th>8</th>\n",
              "      <td>0x66f820a414680b5bcda5eeca5dea238543f42054</td>\n",
              "      <td>775,000.574169655945276777 Ether</td>\n",
              "      <td>$208,428,654.42 (@ $268.94/ETH)</td>\n",
              "      <td>$404,372,462.56</td>\n",
              "    </tr>\n",
              "    <tr>\n",
              "      <th>9</th>\n",
              "      <td>0x61edcdf5bb737adffe5043706e7c5bb1f1a56eea</td>\n",
              "      <td>770,999.002833340000000001 Ether</td>\n",
              "      <td>$207,352,471.82 (@ $268.94/ETH)</td>\n",
              "      <td>$63,545.97</td>\n",
              "    </tr>\n",
              "    <tr>\n",
              "      <th>10</th>\n",
              "      <td>0x229b5c097f9b35009ca1321ad2034d4b3d5070f6</td>\n",
              "      <td>657,334.142686969707175071 Ether</td>\n",
              "      <td>$177,486,791.87 (@ $270.01/ETH)</td>\n",
              "      <td>$14,819.52</td>\n",
              "    </tr>\n",
              "    <tr>\n",
              "      <th>11</th>\n",
              "      <td>0x267f70f9b856de226fea5fc1b0a8e319c72ceff5</td>\n",
              "      <td>596,867.405964952300991673 Ether</td>\n",
              "      <td>$161,160,168.28 (@ $270.01/ETH)</td>\n",
              "      <td>$339,774.34</td>\n",
              "    </tr>\n",
              "    <tr>\n",
              "      <th>12</th>\n",
              "      <td>0xde0b295669a9fd93d5f28d9ec85e40f4cb697bae</td>\n",
              "      <td>595,623.399288773018344492 Ether</td>\n",
              "      <td>$160,824,274.04 (@ $270.01/ETH)</td>\n",
              "      <td>$88,604.22</td>\n",
              "    </tr>\n",
              "    <tr>\n",
              "      <th>13</th>\n",
              "      <td>0x1b3cb81e51011b549d78bf720b0d924ac763a7c2</td>\n",
              "      <td>560,000.00003 Ether</td>\n",
              "      <td>$151,205,600.01 (@ $270.01/ETH)</td>\n",
              "      <td>$67,664.89</td>\n",
              "    </tr>\n",
              "    <tr>\n",
              "      <th>14</th>\n",
              "      <td>0x07ee55aa48bb72dcc6e9d78256648910de513eca</td>\n",
              "      <td>532,527.711484627140000001 Ether</td>\n",
              "      <td>$143,787,807.38 (@ $270.01/ETH)</td>\n",
              "      <td>$76,136.29</td>\n",
              "    </tr>\n",
              "    <tr>\n",
              "      <th>15</th>\n",
              "      <td>0xc11d52cbb5b19c1802097e448beff8bf35942946</td>\n",
              "      <td>460,000.308710356867494173 Ether</td>\n",
              "      <td>$124,204,683.35 (@ $270.01/ETH)</td>\n",
              "      <td>$17,693.92</td>\n",
              "    </tr>\n",
              "    <tr>\n",
              "      <th>16</th>\n",
              "      <td>0xe92d1a43df510f82c66382592a047d288f85226f</td>\n",
              "      <td>450,000.020665726438778778 Ether</td>\n",
              "      <td>$121,504,505.58 (@ $270.01/ETH)</td>\n",
              "      <td>$10,141.27</td>\n",
              "    </tr>\n",
              "    <tr>\n",
              "      <th>17</th>\n",
              "      <td>0x73bceb1cd57c711feac4224d062b0f6ff338501e</td>\n",
              "      <td>410,238.786772172 Ether</td>\n",
              "      <td>$110,768,574.82 (@ $270.01/ETH)</td>\n",
              "      <td>$7,826.70</td>\n",
              "    </tr>\n",
              "    <tr>\n",
              "      <th>18</th>\n",
              "      <td>0xd273bd546b11bd60214a2f9d71f22a088aafe31b</td>\n",
              "      <td>400,001.231001001001001001 Ether</td>\n",
              "      <td>$108,004,332.38 (@ $270.01/ETH)</td>\n",
              "      <td>$260.03</td>\n",
              "    </tr>\n",
              "    <tr>\n",
              "      <th>19</th>\n",
              "      <td>0x4ddc2d193948926d02f9b1fe9e1daa0718270ed5</td>\n",
              "      <td>391,533.453663026736021124 Ether</td>\n",
              "      <td>$105,717,947.82 (@ $270.01/ETH)</td>\n",
              "      <td>$10,854.81</td>\n",
              "    </tr>\n",
              "  </tbody>\n",
              "</table>\n",
              "</div>"
            ],
            "text/plain": [
              "                                       Address  ...      Token(in $)\n",
              "0   0xc02aaa39b223fe8d0a0e5c4f27ead9083c756cc2  ...       $43,337.49\n",
              "1   0xbe0eb53f46cd790cd13851d5eff43d12404d33e8  ...  $972,391,367.87\n",
              "2   0x742d35cc6634c0532925a3b844bc454e4438f44e  ...  $760,226,604.60\n",
              "3   0xdc76cd25977e0a5ae17155770273ad58648900d3  ...       $61,061.89\n",
              "4   0x53d284357ec70ce289d6d64134dfac8e511c8a3d  ...      $166,680.94\n",
              "5   0xab7c74abc0c4d48d1bdad5dcb26153fc8780f83e  ...      $159,973.57\n",
              "6   0xe853c56864a2ebe4576a807d26fdc4a0ada51919  ...      $337,738.70\n",
              "7   0x997114ca0830e9bee7443368fa27f4af2d4e55a6  ...            $1.10\n",
              "8   0x66f820a414680b5bcda5eeca5dea238543f42054  ...  $404,372,462.56\n",
              "9   0x61edcdf5bb737adffe5043706e7c5bb1f1a56eea  ...       $63,545.97\n",
              "10  0x229b5c097f9b35009ca1321ad2034d4b3d5070f6  ...       $14,819.52\n",
              "11  0x267f70f9b856de226fea5fc1b0a8e319c72ceff5  ...      $339,774.34\n",
              "12  0xde0b295669a9fd93d5f28d9ec85e40f4cb697bae  ...       $88,604.22\n",
              "13  0x1b3cb81e51011b549d78bf720b0d924ac763a7c2  ...       $67,664.89\n",
              "14  0x07ee55aa48bb72dcc6e9d78256648910de513eca  ...       $76,136.29\n",
              "15  0xc11d52cbb5b19c1802097e448beff8bf35942946  ...       $17,693.92\n",
              "16  0xe92d1a43df510f82c66382592a047d288f85226f  ...       $10,141.27\n",
              "17  0x73bceb1cd57c711feac4224d062b0f6ff338501e  ...        $7,826.70\n",
              "18  0xd273bd546b11bd60214a2f9d71f22a088aafe31b  ...          $260.03\n",
              "19  0x4ddc2d193948926d02f9b1fe9e1daa0718270ed5  ...       $10,854.81\n",
              "\n",
              "[20 rows x 4 columns]"
            ]
          },
          "metadata": {
            "tags": []
          },
          "execution_count": 17
        }
      ]
    },
    {
      "cell_type": "code",
      "metadata": {
        "id": "UCI1rI4OJM4_",
        "colab_type": "code",
        "outputId": "f93ac0dc-111e-4b2a-f0d8-9c8feb036afc",
        "colab": {
          "base_uri": "https://localhost:8080/",
          "height": 33
        }
      },
      "source": [
        "list(balance.columns) "
      ],
      "execution_count": 18,
      "outputs": [
        {
          "output_type": "execute_result",
          "data": {
            "text/plain": [
              "['Address', 'Balance(in Ether)', 'Ether_value', 'Token(in $)']"
            ]
          },
          "metadata": {
            "tags": []
          },
          "execution_count": 18
        }
      ]
    },
    {
      "cell_type": "code",
      "metadata": {
        "id": "mY_tISNVeXan",
        "colab_type": "code",
        "colab": {}
      },
      "source": [
        "# replace 'Ether' and ',' in the Balance(in Ether) column with '' and convert it to float using to_numeric\n",
        "balance['Balance(in Ether)'] = balance['Balance(in Ether)'].str.replace('Ether', '') \n",
        "balance['Balance(in Ether)'] = pd.to_numeric(balance['Balance(in Ether)'].str.replace(',', ''))"
      ],
      "execution_count": 0,
      "outputs": []
    },
    {
      "cell_type": "code",
      "metadata": {
        "id": "zEZavA9Rfzqs",
        "colab_type": "code",
        "colab": {}
      },
      "source": [
        "# replace '$' and ',' in the Token(in $) column with '' and convert it to float using to_numeric\n",
        "balance['Token(in $)'] = balance['Token(in $)'].str.replace('$', '')\n",
        "balance['Token(in $)'] = pd.to_numeric(balance['Token(in $)'].str.replace(',', ''))"
      ],
      "execution_count": 0,
      "outputs": []
    },
    {
      "cell_type": "code",
      "metadata": {
        "id": "QmXS1GDhfnkF",
        "colab_type": "code",
        "outputId": "2f0510e8-398b-4c05-8190-ae9a8facbb19",
        "colab": {
          "base_uri": "https://localhost:8080/",
          "height": 100
        }
      },
      "source": [
        "print(balance.dtypes)"
      ],
      "execution_count": 21,
      "outputs": [
        {
          "output_type": "stream",
          "text": [
            "Address               object\n",
            "Balance(in Ether)    float64\n",
            "Ether_value           object\n",
            "Token(in $)          float64\n",
            "dtype: object\n"
          ],
          "name": "stdout"
        }
      ]
    },
    {
      "cell_type": "code",
      "metadata": {
        "id": "J0d6Z1xXe9lm",
        "colab_type": "code",
        "outputId": "afefdd03-bfc4-4313-e112-94f25f416052",
        "colab": {
          "base_uri": "https://localhost:8080/",
          "height": 196
        }
      },
      "source": [
        "balance.head()"
      ],
      "execution_count": 22,
      "outputs": [
        {
          "output_type": "execute_result",
          "data": {
            "text/html": [
              "<div>\n",
              "<style scoped>\n",
              "    .dataframe tbody tr th:only-of-type {\n",
              "        vertical-align: middle;\n",
              "    }\n",
              "\n",
              "    .dataframe tbody tr th {\n",
              "        vertical-align: top;\n",
              "    }\n",
              "\n",
              "    .dataframe thead th {\n",
              "        text-align: right;\n",
              "    }\n",
              "</style>\n",
              "<table border=\"1\" class=\"dataframe\">\n",
              "  <thead>\n",
              "    <tr style=\"text-align: right;\">\n",
              "      <th></th>\n",
              "      <th>Address</th>\n",
              "      <th>Balance(in Ether)</th>\n",
              "      <th>Ether_value</th>\n",
              "      <th>Token(in $)</th>\n",
              "    </tr>\n",
              "  </thead>\n",
              "  <tbody>\n",
              "    <tr>\n",
              "      <th>0</th>\n",
              "      <td>0xc02aaa39b223fe8d0a0e5c4f27ead9083c756cc2</td>\n",
              "      <td>2.693159e+06</td>\n",
              "      <td>$724,298,148.48 (@ $268.94/ETH)</td>\n",
              "      <td>4.333749e+04</td>\n",
              "    </tr>\n",
              "    <tr>\n",
              "      <th>1</th>\n",
              "      <td>0xbe0eb53f46cd790cd13851d5eff43d12404d33e8</td>\n",
              "      <td>2.201523e+06</td>\n",
              "      <td>$592,077,554.11 (@ $268.94/ETH)</td>\n",
              "      <td>9.723914e+08</td>\n",
              "    </tr>\n",
              "    <tr>\n",
              "      <th>2</th>\n",
              "      <td>0x742d35cc6634c0532925a3b844bc454e4438f44e</td>\n",
              "      <td>2.140145e+06</td>\n",
              "      <td>$575,570,592.94 (@ $268.94/ETH)</td>\n",
              "      <td>7.602266e+08</td>\n",
              "    </tr>\n",
              "    <tr>\n",
              "      <th>3</th>\n",
              "      <td>0xdc76cd25977e0a5ae17155770273ad58648900d3</td>\n",
              "      <td>1.885861e+06</td>\n",
              "      <td>$509,201,200.56 (@ $270.01/ETH)</td>\n",
              "      <td>6.106189e+04</td>\n",
              "    </tr>\n",
              "    <tr>\n",
              "      <th>4</th>\n",
              "      <td>0x53d284357ec70ce289d6d64134dfac8e511c8a3d</td>\n",
              "      <td>1.378754e+06</td>\n",
              "      <td>$372,277,406.60 (@ $270.01/ETH)</td>\n",
              "      <td>1.666809e+05</td>\n",
              "    </tr>\n",
              "  </tbody>\n",
              "</table>\n",
              "</div>"
            ],
            "text/plain": [
              "                                      Address  ...   Token(in $)\n",
              "0  0xc02aaa39b223fe8d0a0e5c4f27ead9083c756cc2  ...  4.333749e+04\n",
              "1  0xbe0eb53f46cd790cd13851d5eff43d12404d33e8  ...  9.723914e+08\n",
              "2  0x742d35cc6634c0532925a3b844bc454e4438f44e  ...  7.602266e+08\n",
              "3  0xdc76cd25977e0a5ae17155770273ad58648900d3  ...  6.106189e+04\n",
              "4  0x53d284357ec70ce289d6d64134dfac8e511c8a3d  ...  1.666809e+05\n",
              "\n",
              "[5 rows x 4 columns]"
            ]
          },
          "metadata": {
            "tags": []
          },
          "execution_count": 22
        }
      ]
    },
    {
      "cell_type": "code",
      "metadata": {
        "id": "IWN17cUigGgu",
        "colab_type": "code",
        "colab": {}
      },
      "source": [
        "# split the 'Ether_value' column into 2 columns \n",
        "balance[['Total Ether_value(in $)','$ per Ether']] = balance[\"Ether_value\"].str.split(\"(\",expand=True)"
      ],
      "execution_count": 0,
      "outputs": []
    },
    {
      "cell_type": "code",
      "metadata": {
        "id": "AkK-oSYriHHI",
        "colab_type": "code",
        "colab": {}
      },
      "source": [
        "# Remove the \"Ether_value\" column as it is not needed anymore\n",
        "balance = balance.drop(['Ether_value'], axis=1)"
      ],
      "execution_count": 0,
      "outputs": []
    },
    {
      "cell_type": "code",
      "metadata": {
        "id": "W5DRCyTcg-qp",
        "colab_type": "code",
        "outputId": "3d25c922-8b85-4fe7-810b-4ee40fa5b756",
        "colab": {
          "base_uri": "https://localhost:8080/",
          "height": 196
        }
      },
      "source": [
        "balance.head()"
      ],
      "execution_count": 25,
      "outputs": [
        {
          "output_type": "execute_result",
          "data": {
            "text/html": [
              "<div>\n",
              "<style scoped>\n",
              "    .dataframe tbody tr th:only-of-type {\n",
              "        vertical-align: middle;\n",
              "    }\n",
              "\n",
              "    .dataframe tbody tr th {\n",
              "        vertical-align: top;\n",
              "    }\n",
              "\n",
              "    .dataframe thead th {\n",
              "        text-align: right;\n",
              "    }\n",
              "</style>\n",
              "<table border=\"1\" class=\"dataframe\">\n",
              "  <thead>\n",
              "    <tr style=\"text-align: right;\">\n",
              "      <th></th>\n",
              "      <th>Address</th>\n",
              "      <th>Balance(in Ether)</th>\n",
              "      <th>Token(in $)</th>\n",
              "      <th>Total Ether_value(in $)</th>\n",
              "      <th>$ per Ether</th>\n",
              "    </tr>\n",
              "  </thead>\n",
              "  <tbody>\n",
              "    <tr>\n",
              "      <th>0</th>\n",
              "      <td>0xc02aaa39b223fe8d0a0e5c4f27ead9083c756cc2</td>\n",
              "      <td>2.693159e+06</td>\n",
              "      <td>4.333749e+04</td>\n",
              "      <td>$724,298,148.48</td>\n",
              "      <td>@ $268.94/ETH)</td>\n",
              "    </tr>\n",
              "    <tr>\n",
              "      <th>1</th>\n",
              "      <td>0xbe0eb53f46cd790cd13851d5eff43d12404d33e8</td>\n",
              "      <td>2.201523e+06</td>\n",
              "      <td>9.723914e+08</td>\n",
              "      <td>$592,077,554.11</td>\n",
              "      <td>@ $268.94/ETH)</td>\n",
              "    </tr>\n",
              "    <tr>\n",
              "      <th>2</th>\n",
              "      <td>0x742d35cc6634c0532925a3b844bc454e4438f44e</td>\n",
              "      <td>2.140145e+06</td>\n",
              "      <td>7.602266e+08</td>\n",
              "      <td>$575,570,592.94</td>\n",
              "      <td>@ $268.94/ETH)</td>\n",
              "    </tr>\n",
              "    <tr>\n",
              "      <th>3</th>\n",
              "      <td>0xdc76cd25977e0a5ae17155770273ad58648900d3</td>\n",
              "      <td>1.885861e+06</td>\n",
              "      <td>6.106189e+04</td>\n",
              "      <td>$509,201,200.56</td>\n",
              "      <td>@ $270.01/ETH)</td>\n",
              "    </tr>\n",
              "    <tr>\n",
              "      <th>4</th>\n",
              "      <td>0x53d284357ec70ce289d6d64134dfac8e511c8a3d</td>\n",
              "      <td>1.378754e+06</td>\n",
              "      <td>1.666809e+05</td>\n",
              "      <td>$372,277,406.60</td>\n",
              "      <td>@ $270.01/ETH)</td>\n",
              "    </tr>\n",
              "  </tbody>\n",
              "</table>\n",
              "</div>"
            ],
            "text/plain": [
              "                                      Address  ...     $ per Ether\n",
              "0  0xc02aaa39b223fe8d0a0e5c4f27ead9083c756cc2  ...  @ $268.94/ETH)\n",
              "1  0xbe0eb53f46cd790cd13851d5eff43d12404d33e8  ...  @ $268.94/ETH)\n",
              "2  0x742d35cc6634c0532925a3b844bc454e4438f44e  ...  @ $268.94/ETH)\n",
              "3  0xdc76cd25977e0a5ae17155770273ad58648900d3  ...  @ $270.01/ETH)\n",
              "4  0x53d284357ec70ce289d6d64134dfac8e511c8a3d  ...  @ $270.01/ETH)\n",
              "\n",
              "[5 rows x 5 columns]"
            ]
          },
          "metadata": {
            "tags": []
          },
          "execution_count": 25
        }
      ]
    },
    {
      "cell_type": "code",
      "metadata": {
        "id": "xWWcYc-VioqU",
        "colab_type": "code",
        "colab": {}
      },
      "source": [
        "# replace '$' and ',' with '' and convert it to float using to_numeric\n",
        "balance[\"Total Ether_value(in $)\"] = balance[\"Total Ether_value(in $)\"].str.replace('$','')\n",
        "balance[\"Total Ether_value(in $)\"] = pd.to_numeric(balance[\"Total Ether_value(in $)\"].str.replace(',',''))"
      ],
      "execution_count": 0,
      "outputs": []
    },
    {
      "cell_type": "code",
      "metadata": {
        "id": "UppEDXGBjBhA",
        "colab_type": "code",
        "colab": {}
      },
      "source": [
        "# replace '$','@ ')','/ETH' with '' and convert it to float using to_numeric\n",
        "balance[\"$ per Ether\"] = balance[\"$ per Ether\"].str.replace('$','')\n",
        "balance[\"$ per Ether\"] = balance[\"$ per Ether\"].str.replace('@','')\n",
        "balance[\"$ per Ether\"] = balance[\"$ per Ether\"].str.replace(')','')\n",
        "balance[\"$ per Ether\"] = pd.to_numeric(balance[\"$ per Ether\"].str.replace(\"/ETH\",\"\"))"
      ],
      "execution_count": 0,
      "outputs": []
    },
    {
      "cell_type": "code",
      "metadata": {
        "id": "sNVFt3-3j1Lh",
        "colab_type": "code",
        "outputId": "bf05aa50-682e-44e4-b65b-fc741baa8e2a",
        "colab": {
          "base_uri": "https://localhost:8080/",
          "height": 196
        }
      },
      "source": [
        "balance.head()"
      ],
      "execution_count": 28,
      "outputs": [
        {
          "output_type": "execute_result",
          "data": {
            "text/html": [
              "<div>\n",
              "<style scoped>\n",
              "    .dataframe tbody tr th:only-of-type {\n",
              "        vertical-align: middle;\n",
              "    }\n",
              "\n",
              "    .dataframe tbody tr th {\n",
              "        vertical-align: top;\n",
              "    }\n",
              "\n",
              "    .dataframe thead th {\n",
              "        text-align: right;\n",
              "    }\n",
              "</style>\n",
              "<table border=\"1\" class=\"dataframe\">\n",
              "  <thead>\n",
              "    <tr style=\"text-align: right;\">\n",
              "      <th></th>\n",
              "      <th>Address</th>\n",
              "      <th>Balance(in Ether)</th>\n",
              "      <th>Token(in $)</th>\n",
              "      <th>Total Ether_value(in $)</th>\n",
              "      <th>$ per Ether</th>\n",
              "    </tr>\n",
              "  </thead>\n",
              "  <tbody>\n",
              "    <tr>\n",
              "      <th>0</th>\n",
              "      <td>0xc02aaa39b223fe8d0a0e5c4f27ead9083c756cc2</td>\n",
              "      <td>2.693159e+06</td>\n",
              "      <td>4.333749e+04</td>\n",
              "      <td>7.242981e+08</td>\n",
              "      <td>268.94</td>\n",
              "    </tr>\n",
              "    <tr>\n",
              "      <th>1</th>\n",
              "      <td>0xbe0eb53f46cd790cd13851d5eff43d12404d33e8</td>\n",
              "      <td>2.201523e+06</td>\n",
              "      <td>9.723914e+08</td>\n",
              "      <td>5.920776e+08</td>\n",
              "      <td>268.94</td>\n",
              "    </tr>\n",
              "    <tr>\n",
              "      <th>2</th>\n",
              "      <td>0x742d35cc6634c0532925a3b844bc454e4438f44e</td>\n",
              "      <td>2.140145e+06</td>\n",
              "      <td>7.602266e+08</td>\n",
              "      <td>5.755706e+08</td>\n",
              "      <td>268.94</td>\n",
              "    </tr>\n",
              "    <tr>\n",
              "      <th>3</th>\n",
              "      <td>0xdc76cd25977e0a5ae17155770273ad58648900d3</td>\n",
              "      <td>1.885861e+06</td>\n",
              "      <td>6.106189e+04</td>\n",
              "      <td>5.092012e+08</td>\n",
              "      <td>270.01</td>\n",
              "    </tr>\n",
              "    <tr>\n",
              "      <th>4</th>\n",
              "      <td>0x53d284357ec70ce289d6d64134dfac8e511c8a3d</td>\n",
              "      <td>1.378754e+06</td>\n",
              "      <td>1.666809e+05</td>\n",
              "      <td>3.722774e+08</td>\n",
              "      <td>270.01</td>\n",
              "    </tr>\n",
              "  </tbody>\n",
              "</table>\n",
              "</div>"
            ],
            "text/plain": [
              "                                      Address  ...  $ per Ether\n",
              "0  0xc02aaa39b223fe8d0a0e5c4f27ead9083c756cc2  ...       268.94\n",
              "1  0xbe0eb53f46cd790cd13851d5eff43d12404d33e8  ...       268.94\n",
              "2  0x742d35cc6634c0532925a3b844bc454e4438f44e  ...       268.94\n",
              "3  0xdc76cd25977e0a5ae17155770273ad58648900d3  ...       270.01\n",
              "4  0x53d284357ec70ce289d6d64134dfac8e511c8a3d  ...       270.01\n",
              "\n",
              "[5 rows x 5 columns]"
            ]
          },
          "metadata": {
            "tags": []
          },
          "execution_count": 28
        }
      ]
    },
    {
      "cell_type": "code",
      "metadata": {
        "id": "DikHeXI2j8Cg",
        "colab_type": "code",
        "outputId": "6f4f7d5c-2a54-4a09-e140-4e494a9e9de7",
        "colab": {
          "base_uri": "https://localhost:8080/",
          "height": 117
        }
      },
      "source": [
        "balance.dtypes"
      ],
      "execution_count": 29,
      "outputs": [
        {
          "output_type": "execute_result",
          "data": {
            "text/plain": [
              "Address                     object\n",
              "Balance(in Ether)          float64\n",
              "Token(in $)                float64\n",
              "Total Ether_value(in $)    float64\n",
              "$ per Ether                float64\n",
              "dtype: object"
            ]
          },
          "metadata": {
            "tags": []
          },
          "execution_count": 29
        }
      ]
    },
    {
      "cell_type": "code",
      "metadata": {
        "id": "uT9_jZvokVXL",
        "colab_type": "code",
        "colab": {}
      },
      "source": [
        ""
      ],
      "execution_count": 0,
      "outputs": []
    },
    {
      "cell_type": "code",
      "metadata": {
        "id": "0TfRUO5TkVMR",
        "colab_type": "code",
        "outputId": "33c08934-8e8c-4e4f-ee3f-edfbef9f768d",
        "colab": {
          "base_uri": "https://localhost:8080/",
          "height": 400
        }
      },
      "source": [
        "\n",
        "transaction = pd.read_csv(\"/content/drive/My Drive/ethereum/transaction_data.csv\",)\n",
        "# del transaction[\"filename\"] # remove unwanted column\n",
        "transaction.head()"
      ],
      "execution_count": 30,
      "outputs": [
        {
          "output_type": "execute_result",
          "data": {
            "text/html": [
              "<div>\n",
              "<style scoped>\n",
              "    .dataframe tbody tr th:only-of-type {\n",
              "        vertical-align: middle;\n",
              "    }\n",
              "\n",
              "    .dataframe tbody tr th {\n",
              "        vertical-align: top;\n",
              "    }\n",
              "\n",
              "    .dataframe thead th {\n",
              "        text-align: right;\n",
              "    }\n",
              "</style>\n",
              "<table border=\"1\" class=\"dataframe\">\n",
              "  <thead>\n",
              "    <tr style=\"text-align: right;\">\n",
              "      <th></th>\n",
              "      <th>Unnamed: 0</th>\n",
              "      <th>Address</th>\n",
              "      <th>Txn_hash</th>\n",
              "      <th>blocks</th>\n",
              "      <th>date</th>\n",
              "      <th>from</th>\n",
              "      <th>txn_type</th>\n",
              "      <th>to</th>\n",
              "      <th>value</th>\n",
              "      <th>Txn_fee</th>\n",
              "    </tr>\n",
              "  </thead>\n",
              "  <tbody>\n",
              "    <tr>\n",
              "      <th>0</th>\n",
              "      <td>0</td>\n",
              "      <td>0xc02aaa39b223fe8d0a0e5c4f27ead9083c756cc2</td>\n",
              "      <td>0xfc0f500de01a945cae79b8499c0247cf2cd57e791882...</td>\n",
              "      <td>(pending)</td>\n",
              "      <td>2020-02-13 8:11:10</td>\n",
              "      <td>0xadeeb9d09b8bcee10943198fb6f6a4229bab3675</td>\n",
              "      <td>IN</td>\n",
              "      <td>0xc02aaa39b223fe8d0a0e5c4f27ead9083c756cc2</td>\n",
              "      <td>111 Ether</td>\n",
              "      <td>(Pending)</td>\n",
              "    </tr>\n",
              "    <tr>\n",
              "      <th>1</th>\n",
              "      <td>1</td>\n",
              "      <td>0xc02aaa39b223fe8d0a0e5c4f27ead9083c756cc2</td>\n",
              "      <td>0x3fc1bfb66bb222580543e38952be03c12944a84bcfbe...</td>\n",
              "      <td>(pending)</td>\n",
              "      <td>2020-02-13 5:44:47</td>\n",
              "      <td>0x4f0a1940de411285ad0455a7f40c81b5e0bc8492</td>\n",
              "      <td>IN</td>\n",
              "      <td>0xc02aaa39b223fe8d0a0e5c4f27ead9083c756cc2</td>\n",
              "      <td>0 Ether</td>\n",
              "      <td>(Pending)</td>\n",
              "    </tr>\n",
              "    <tr>\n",
              "      <th>2</th>\n",
              "      <td>2</td>\n",
              "      <td>0xc02aaa39b223fe8d0a0e5c4f27ead9083c756cc2</td>\n",
              "      <td>0x5b324ab8483effd44cd7bfa59bd65725b822d5731221...</td>\n",
              "      <td>(pending)</td>\n",
              "      <td>2020-02-07 2:12:51</td>\n",
              "      <td>0x871463ce6b696c0c46910a996070bff9dcc5c351</td>\n",
              "      <td>IN</td>\n",
              "      <td>0xc02aaa39b223fe8d0a0e5c4f27ead9083c756cc2</td>\n",
              "      <td>0 Ether</td>\n",
              "      <td>(Pending)</td>\n",
              "    </tr>\n",
              "    <tr>\n",
              "      <th>3</th>\n",
              "      <td>3</td>\n",
              "      <td>0xc02aaa39b223fe8d0a0e5c4f27ead9083c756cc2</td>\n",
              "      <td>0x4eede6bc0d21c20fbe32750682ef2ec148bae914a566...</td>\n",
              "      <td>(pending)</td>\n",
              "      <td>2020-02-07 2:12:51</td>\n",
              "      <td>0x871463ce6b696c0c46910a996070bff9dcc5c351</td>\n",
              "      <td>IN</td>\n",
              "      <td>0xc02aaa39b223fe8d0a0e5c4f27ead9083c756cc2</td>\n",
              "      <td>0 Ether</td>\n",
              "      <td>(Pending)</td>\n",
              "    </tr>\n",
              "    <tr>\n",
              "      <th>4</th>\n",
              "      <td>4</td>\n",
              "      <td>0xc02aaa39b223fe8d0a0e5c4f27ead9083c756cc2</td>\n",
              "      <td>0x42fe81fda028289414af65fe31405a10289aba37f726...</td>\n",
              "      <td>9473503</td>\n",
              "      <td>2020-02-13 8:10:18</td>\n",
              "      <td>0x6924a03bb710eaf199ab6ac9f2bb148215ae9b5d</td>\n",
              "      <td>IN</td>\n",
              "      <td>Wrapped Ether</td>\n",
              "      <td>105.0851 Ether</td>\n",
              "      <td>0.00057476</td>\n",
              "    </tr>\n",
              "  </tbody>\n",
              "</table>\n",
              "</div>"
            ],
            "text/plain": [
              "   Unnamed: 0  ...     Txn_fee\n",
              "0           0  ...   (Pending)\n",
              "1           1  ...   (Pending)\n",
              "2           2  ...   (Pending)\n",
              "3           3  ...   (Pending)\n",
              "4           4  ...  0.00057476\n",
              "\n",
              "[5 rows x 10 columns]"
            ]
          },
          "metadata": {
            "tags": []
          },
          "execution_count": 30
        }
      ]
    },
    {
      "cell_type": "code",
      "metadata": {
        "id": "hZjADXA1kX0L",
        "colab_type": "code",
        "outputId": "f246b530-67f1-4c6e-a2d2-eb9db6132727",
        "colab": {
          "base_uri": "https://localhost:8080/",
          "height": 184
        }
      },
      "source": [
        "list(transaction.columns)"
      ],
      "execution_count": 31,
      "outputs": [
        {
          "output_type": "execute_result",
          "data": {
            "text/plain": [
              "['Unnamed: 0',\n",
              " 'Address',\n",
              " 'Txn_hash',\n",
              " 'blocks',\n",
              " 'date',\n",
              " 'from',\n",
              " 'txn_type',\n",
              " 'to',\n",
              " 'value',\n",
              " 'Txn_fee']"
            ]
          },
          "metadata": {
            "tags": []
          },
          "execution_count": 31
        }
      ]
    },
    {
      "cell_type": "code",
      "metadata": {
        "id": "p7T6BjJrkXs8",
        "colab_type": "code",
        "outputId": "664667d6-5312-429c-e9ba-55d5ddf42d11",
        "colab": {
          "base_uri": "https://localhost:8080/",
          "height": 400
        }
      },
      "source": [
        "transaction = pd.DataFrame(transaction)\n",
        "transaction.head()"
      ],
      "execution_count": 32,
      "outputs": [
        {
          "output_type": "execute_result",
          "data": {
            "text/html": [
              "<div>\n",
              "<style scoped>\n",
              "    .dataframe tbody tr th:only-of-type {\n",
              "        vertical-align: middle;\n",
              "    }\n",
              "\n",
              "    .dataframe tbody tr th {\n",
              "        vertical-align: top;\n",
              "    }\n",
              "\n",
              "    .dataframe thead th {\n",
              "        text-align: right;\n",
              "    }\n",
              "</style>\n",
              "<table border=\"1\" class=\"dataframe\">\n",
              "  <thead>\n",
              "    <tr style=\"text-align: right;\">\n",
              "      <th></th>\n",
              "      <th>Unnamed: 0</th>\n",
              "      <th>Address</th>\n",
              "      <th>Txn_hash</th>\n",
              "      <th>blocks</th>\n",
              "      <th>date</th>\n",
              "      <th>from</th>\n",
              "      <th>txn_type</th>\n",
              "      <th>to</th>\n",
              "      <th>value</th>\n",
              "      <th>Txn_fee</th>\n",
              "    </tr>\n",
              "  </thead>\n",
              "  <tbody>\n",
              "    <tr>\n",
              "      <th>0</th>\n",
              "      <td>0</td>\n",
              "      <td>0xc02aaa39b223fe8d0a0e5c4f27ead9083c756cc2</td>\n",
              "      <td>0xfc0f500de01a945cae79b8499c0247cf2cd57e791882...</td>\n",
              "      <td>(pending)</td>\n",
              "      <td>2020-02-13 8:11:10</td>\n",
              "      <td>0xadeeb9d09b8bcee10943198fb6f6a4229bab3675</td>\n",
              "      <td>IN</td>\n",
              "      <td>0xc02aaa39b223fe8d0a0e5c4f27ead9083c756cc2</td>\n",
              "      <td>111 Ether</td>\n",
              "      <td>(Pending)</td>\n",
              "    </tr>\n",
              "    <tr>\n",
              "      <th>1</th>\n",
              "      <td>1</td>\n",
              "      <td>0xc02aaa39b223fe8d0a0e5c4f27ead9083c756cc2</td>\n",
              "      <td>0x3fc1bfb66bb222580543e38952be03c12944a84bcfbe...</td>\n",
              "      <td>(pending)</td>\n",
              "      <td>2020-02-13 5:44:47</td>\n",
              "      <td>0x4f0a1940de411285ad0455a7f40c81b5e0bc8492</td>\n",
              "      <td>IN</td>\n",
              "      <td>0xc02aaa39b223fe8d0a0e5c4f27ead9083c756cc2</td>\n",
              "      <td>0 Ether</td>\n",
              "      <td>(Pending)</td>\n",
              "    </tr>\n",
              "    <tr>\n",
              "      <th>2</th>\n",
              "      <td>2</td>\n",
              "      <td>0xc02aaa39b223fe8d0a0e5c4f27ead9083c756cc2</td>\n",
              "      <td>0x5b324ab8483effd44cd7bfa59bd65725b822d5731221...</td>\n",
              "      <td>(pending)</td>\n",
              "      <td>2020-02-07 2:12:51</td>\n",
              "      <td>0x871463ce6b696c0c46910a996070bff9dcc5c351</td>\n",
              "      <td>IN</td>\n",
              "      <td>0xc02aaa39b223fe8d0a0e5c4f27ead9083c756cc2</td>\n",
              "      <td>0 Ether</td>\n",
              "      <td>(Pending)</td>\n",
              "    </tr>\n",
              "    <tr>\n",
              "      <th>3</th>\n",
              "      <td>3</td>\n",
              "      <td>0xc02aaa39b223fe8d0a0e5c4f27ead9083c756cc2</td>\n",
              "      <td>0x4eede6bc0d21c20fbe32750682ef2ec148bae914a566...</td>\n",
              "      <td>(pending)</td>\n",
              "      <td>2020-02-07 2:12:51</td>\n",
              "      <td>0x871463ce6b696c0c46910a996070bff9dcc5c351</td>\n",
              "      <td>IN</td>\n",
              "      <td>0xc02aaa39b223fe8d0a0e5c4f27ead9083c756cc2</td>\n",
              "      <td>0 Ether</td>\n",
              "      <td>(Pending)</td>\n",
              "    </tr>\n",
              "    <tr>\n",
              "      <th>4</th>\n",
              "      <td>4</td>\n",
              "      <td>0xc02aaa39b223fe8d0a0e5c4f27ead9083c756cc2</td>\n",
              "      <td>0x42fe81fda028289414af65fe31405a10289aba37f726...</td>\n",
              "      <td>9473503</td>\n",
              "      <td>2020-02-13 8:10:18</td>\n",
              "      <td>0x6924a03bb710eaf199ab6ac9f2bb148215ae9b5d</td>\n",
              "      <td>IN</td>\n",
              "      <td>Wrapped Ether</td>\n",
              "      <td>105.0851 Ether</td>\n",
              "      <td>0.00057476</td>\n",
              "    </tr>\n",
              "  </tbody>\n",
              "</table>\n",
              "</div>"
            ],
            "text/plain": [
              "   Unnamed: 0  ...     Txn_fee\n",
              "0           0  ...   (Pending)\n",
              "1           1  ...   (Pending)\n",
              "2           2  ...   (Pending)\n",
              "3           3  ...   (Pending)\n",
              "4           4  ...  0.00057476\n",
              "\n",
              "[5 rows x 10 columns]"
            ]
          },
          "metadata": {
            "tags": []
          },
          "execution_count": 32
        }
      ]
    },
    {
      "cell_type": "code",
      "metadata": {
        "id": "NVbkQhDWkXjJ",
        "colab_type": "code",
        "outputId": "1f523c59-aa9c-4d99-85c6-8e228d916baf",
        "colab": {
          "base_uri": "https://localhost:8080/",
          "height": 33
        }
      },
      "source": [
        "transaction.shape"
      ],
      "execution_count": 33,
      "outputs": [
        {
          "output_type": "execute_result",
          "data": {
            "text/plain": [
              "(7069, 10)"
            ]
          },
          "metadata": {
            "tags": []
          },
          "execution_count": 33
        }
      ]
    },
    {
      "cell_type": "code",
      "metadata": {
        "id": "KKbqD_dNkXgn",
        "colab_type": "code",
        "colab": {}
      },
      "source": [
        "# Remove the first column as it only the index\n",
        "transaction = transaction.drop(['Unnamed: 0'], axis=1)"
      ],
      "execution_count": 0,
      "outputs": []
    },
    {
      "cell_type": "code",
      "metadata": {
        "id": "6oEHKQC_kXej",
        "colab_type": "code",
        "outputId": "b43b7d10-2aff-40b0-b99f-27dccda0fff0",
        "colab": {
          "base_uri": "https://localhost:8080/",
          "height": 167
        }
      },
      "source": [
        "list(transaction.columns)"
      ],
      "execution_count": 35,
      "outputs": [
        {
          "output_type": "execute_result",
          "data": {
            "text/plain": [
              "['Address',\n",
              " 'Txn_hash',\n",
              " 'blocks',\n",
              " 'date',\n",
              " 'from',\n",
              " 'txn_type',\n",
              " 'to',\n",
              " 'value',\n",
              " 'Txn_fee']"
            ]
          },
          "metadata": {
            "tags": []
          },
          "execution_count": 35
        }
      ]
    },
    {
      "cell_type": "code",
      "metadata": {
        "id": "m6e-a7H3kXcy",
        "colab_type": "code",
        "outputId": "0042dbc6-e3cc-4a5b-efdb-fac1822214ef",
        "colab": {
          "base_uri": "https://localhost:8080/",
          "height": 384
        }
      },
      "source": [
        "transaction.head()"
      ],
      "execution_count": 36,
      "outputs": [
        {
          "output_type": "execute_result",
          "data": {
            "text/html": [
              "<div>\n",
              "<style scoped>\n",
              "    .dataframe tbody tr th:only-of-type {\n",
              "        vertical-align: middle;\n",
              "    }\n",
              "\n",
              "    .dataframe tbody tr th {\n",
              "        vertical-align: top;\n",
              "    }\n",
              "\n",
              "    .dataframe thead th {\n",
              "        text-align: right;\n",
              "    }\n",
              "</style>\n",
              "<table border=\"1\" class=\"dataframe\">\n",
              "  <thead>\n",
              "    <tr style=\"text-align: right;\">\n",
              "      <th></th>\n",
              "      <th>Address</th>\n",
              "      <th>Txn_hash</th>\n",
              "      <th>blocks</th>\n",
              "      <th>date</th>\n",
              "      <th>from</th>\n",
              "      <th>txn_type</th>\n",
              "      <th>to</th>\n",
              "      <th>value</th>\n",
              "      <th>Txn_fee</th>\n",
              "    </tr>\n",
              "  </thead>\n",
              "  <tbody>\n",
              "    <tr>\n",
              "      <th>0</th>\n",
              "      <td>0xc02aaa39b223fe8d0a0e5c4f27ead9083c756cc2</td>\n",
              "      <td>0xfc0f500de01a945cae79b8499c0247cf2cd57e791882...</td>\n",
              "      <td>(pending)</td>\n",
              "      <td>2020-02-13 8:11:10</td>\n",
              "      <td>0xadeeb9d09b8bcee10943198fb6f6a4229bab3675</td>\n",
              "      <td>IN</td>\n",
              "      <td>0xc02aaa39b223fe8d0a0e5c4f27ead9083c756cc2</td>\n",
              "      <td>111 Ether</td>\n",
              "      <td>(Pending)</td>\n",
              "    </tr>\n",
              "    <tr>\n",
              "      <th>1</th>\n",
              "      <td>0xc02aaa39b223fe8d0a0e5c4f27ead9083c756cc2</td>\n",
              "      <td>0x3fc1bfb66bb222580543e38952be03c12944a84bcfbe...</td>\n",
              "      <td>(pending)</td>\n",
              "      <td>2020-02-13 5:44:47</td>\n",
              "      <td>0x4f0a1940de411285ad0455a7f40c81b5e0bc8492</td>\n",
              "      <td>IN</td>\n",
              "      <td>0xc02aaa39b223fe8d0a0e5c4f27ead9083c756cc2</td>\n",
              "      <td>0 Ether</td>\n",
              "      <td>(Pending)</td>\n",
              "    </tr>\n",
              "    <tr>\n",
              "      <th>2</th>\n",
              "      <td>0xc02aaa39b223fe8d0a0e5c4f27ead9083c756cc2</td>\n",
              "      <td>0x5b324ab8483effd44cd7bfa59bd65725b822d5731221...</td>\n",
              "      <td>(pending)</td>\n",
              "      <td>2020-02-07 2:12:51</td>\n",
              "      <td>0x871463ce6b696c0c46910a996070bff9dcc5c351</td>\n",
              "      <td>IN</td>\n",
              "      <td>0xc02aaa39b223fe8d0a0e5c4f27ead9083c756cc2</td>\n",
              "      <td>0 Ether</td>\n",
              "      <td>(Pending)</td>\n",
              "    </tr>\n",
              "    <tr>\n",
              "      <th>3</th>\n",
              "      <td>0xc02aaa39b223fe8d0a0e5c4f27ead9083c756cc2</td>\n",
              "      <td>0x4eede6bc0d21c20fbe32750682ef2ec148bae914a566...</td>\n",
              "      <td>(pending)</td>\n",
              "      <td>2020-02-07 2:12:51</td>\n",
              "      <td>0x871463ce6b696c0c46910a996070bff9dcc5c351</td>\n",
              "      <td>IN</td>\n",
              "      <td>0xc02aaa39b223fe8d0a0e5c4f27ead9083c756cc2</td>\n",
              "      <td>0 Ether</td>\n",
              "      <td>(Pending)</td>\n",
              "    </tr>\n",
              "    <tr>\n",
              "      <th>4</th>\n",
              "      <td>0xc02aaa39b223fe8d0a0e5c4f27ead9083c756cc2</td>\n",
              "      <td>0x42fe81fda028289414af65fe31405a10289aba37f726...</td>\n",
              "      <td>9473503</td>\n",
              "      <td>2020-02-13 8:10:18</td>\n",
              "      <td>0x6924a03bb710eaf199ab6ac9f2bb148215ae9b5d</td>\n",
              "      <td>IN</td>\n",
              "      <td>Wrapped Ether</td>\n",
              "      <td>105.0851 Ether</td>\n",
              "      <td>0.00057476</td>\n",
              "    </tr>\n",
              "  </tbody>\n",
              "</table>\n",
              "</div>"
            ],
            "text/plain": [
              "                                      Address  ...     Txn_fee\n",
              "0  0xc02aaa39b223fe8d0a0e5c4f27ead9083c756cc2  ...   (Pending)\n",
              "1  0xc02aaa39b223fe8d0a0e5c4f27ead9083c756cc2  ...   (Pending)\n",
              "2  0xc02aaa39b223fe8d0a0e5c4f27ead9083c756cc2  ...   (Pending)\n",
              "3  0xc02aaa39b223fe8d0a0e5c4f27ead9083c756cc2  ...   (Pending)\n",
              "4  0xc02aaa39b223fe8d0a0e5c4f27ead9083c756cc2  ...  0.00057476\n",
              "\n",
              "[5 rows x 9 columns]"
            ]
          },
          "metadata": {
            "tags": []
          },
          "execution_count": 36
        }
      ]
    },
    {
      "cell_type": "code",
      "metadata": {
        "id": "PNc9xlzikXRY",
        "colab_type": "code",
        "colab": {}
      },
      "source": [
        ""
      ],
      "execution_count": 0,
      "outputs": []
    },
    {
      "cell_type": "code",
      "metadata": {
        "id": "ICaU6AcIUue9",
        "colab_type": "code",
        "outputId": "b2ba6795-8783-4dbe-a01b-625c028758a9",
        "colab": {
          "base_uri": "https://localhost:8080/",
          "height": 384
        }
      },
      "source": [
        "transaction.head()"
      ],
      "execution_count": 41,
      "outputs": [
        {
          "output_type": "execute_result",
          "data": {
            "text/html": [
              "<div>\n",
              "<style scoped>\n",
              "    .dataframe tbody tr th:only-of-type {\n",
              "        vertical-align: middle;\n",
              "    }\n",
              "\n",
              "    .dataframe tbody tr th {\n",
              "        vertical-align: top;\n",
              "    }\n",
              "\n",
              "    .dataframe thead th {\n",
              "        text-align: right;\n",
              "    }\n",
              "</style>\n",
              "<table border=\"1\" class=\"dataframe\">\n",
              "  <thead>\n",
              "    <tr style=\"text-align: right;\">\n",
              "      <th></th>\n",
              "      <th>Address</th>\n",
              "      <th>Txn_hash</th>\n",
              "      <th>blocks</th>\n",
              "      <th>date</th>\n",
              "      <th>from</th>\n",
              "      <th>txn_type</th>\n",
              "      <th>to</th>\n",
              "      <th>value</th>\n",
              "      <th>Txn_fee</th>\n",
              "    </tr>\n",
              "  </thead>\n",
              "  <tbody>\n",
              "    <tr>\n",
              "      <th>0</th>\n",
              "      <td>0xc02aaa39b223fe8d0a0e5c4f27ead9083c756cc2</td>\n",
              "      <td>0xfc0f500de01a945cae79b8499c0247cf2cd57e791882...</td>\n",
              "      <td>(pending)</td>\n",
              "      <td>2020-02-13 8:11:10</td>\n",
              "      <td>0xadeeb9d09b8bcee10943198fb6f6a4229bab3675</td>\n",
              "      <td>IN</td>\n",
              "      <td>0xc02aaa39b223fe8d0a0e5c4f27ead9083c756cc2</td>\n",
              "      <td>111 Ether</td>\n",
              "      <td>(Pending)</td>\n",
              "    </tr>\n",
              "    <tr>\n",
              "      <th>1</th>\n",
              "      <td>0xc02aaa39b223fe8d0a0e5c4f27ead9083c756cc2</td>\n",
              "      <td>0x3fc1bfb66bb222580543e38952be03c12944a84bcfbe...</td>\n",
              "      <td>(pending)</td>\n",
              "      <td>2020-02-13 5:44:47</td>\n",
              "      <td>0x4f0a1940de411285ad0455a7f40c81b5e0bc8492</td>\n",
              "      <td>IN</td>\n",
              "      <td>0xc02aaa39b223fe8d0a0e5c4f27ead9083c756cc2</td>\n",
              "      <td>0 Ether</td>\n",
              "      <td>(Pending)</td>\n",
              "    </tr>\n",
              "    <tr>\n",
              "      <th>2</th>\n",
              "      <td>0xc02aaa39b223fe8d0a0e5c4f27ead9083c756cc2</td>\n",
              "      <td>0x5b324ab8483effd44cd7bfa59bd65725b822d5731221...</td>\n",
              "      <td>(pending)</td>\n",
              "      <td>2020-02-07 2:12:51</td>\n",
              "      <td>0x871463ce6b696c0c46910a996070bff9dcc5c351</td>\n",
              "      <td>IN</td>\n",
              "      <td>0xc02aaa39b223fe8d0a0e5c4f27ead9083c756cc2</td>\n",
              "      <td>0 Ether</td>\n",
              "      <td>(Pending)</td>\n",
              "    </tr>\n",
              "    <tr>\n",
              "      <th>3</th>\n",
              "      <td>0xc02aaa39b223fe8d0a0e5c4f27ead9083c756cc2</td>\n",
              "      <td>0x4eede6bc0d21c20fbe32750682ef2ec148bae914a566...</td>\n",
              "      <td>(pending)</td>\n",
              "      <td>2020-02-07 2:12:51</td>\n",
              "      <td>0x871463ce6b696c0c46910a996070bff9dcc5c351</td>\n",
              "      <td>IN</td>\n",
              "      <td>0xc02aaa39b223fe8d0a0e5c4f27ead9083c756cc2</td>\n",
              "      <td>0 Ether</td>\n",
              "      <td>(Pending)</td>\n",
              "    </tr>\n",
              "    <tr>\n",
              "      <th>4</th>\n",
              "      <td>0xc02aaa39b223fe8d0a0e5c4f27ead9083c756cc2</td>\n",
              "      <td>0x42fe81fda028289414af65fe31405a10289aba37f726...</td>\n",
              "      <td>9473503</td>\n",
              "      <td>2020-02-13 8:10:18</td>\n",
              "      <td>0x6924a03bb710eaf199ab6ac9f2bb148215ae9b5d</td>\n",
              "      <td>IN</td>\n",
              "      <td>Wrapped Ether</td>\n",
              "      <td>105.0851 Ether</td>\n",
              "      <td>0.00057476</td>\n",
              "    </tr>\n",
              "  </tbody>\n",
              "</table>\n",
              "</div>"
            ],
            "text/plain": [
              "                                      Address  ...     Txn_fee\n",
              "0  0xc02aaa39b223fe8d0a0e5c4f27ead9083c756cc2  ...   (Pending)\n",
              "1  0xc02aaa39b223fe8d0a0e5c4f27ead9083c756cc2  ...   (Pending)\n",
              "2  0xc02aaa39b223fe8d0a0e5c4f27ead9083c756cc2  ...   (Pending)\n",
              "3  0xc02aaa39b223fe8d0a0e5c4f27ead9083c756cc2  ...   (Pending)\n",
              "4  0xc02aaa39b223fe8d0a0e5c4f27ead9083c756cc2  ...  0.00057476\n",
              "\n",
              "[5 rows x 9 columns]"
            ]
          },
          "metadata": {
            "tags": []
          },
          "execution_count": 41
        }
      ]
    },
    {
      "cell_type": "code",
      "metadata": {
        "id": "lofPVC4UYVkY",
        "colab_type": "code",
        "colab": {
          "base_uri": "https://localhost:8080/",
          "height": 33
        },
        "outputId": "15dd20cb-6c0e-47d7-bdc7-865686c2afd2"
      },
      "source": [
        "transaction.shape"
      ],
      "execution_count": 42,
      "outputs": [
        {
          "output_type": "execute_result",
          "data": {
            "text/plain": [
              "(7069, 9)"
            ]
          },
          "metadata": {
            "tags": []
          },
          "execution_count": 42
        }
      ]
    },
    {
      "cell_type": "code",
      "metadata": {
        "id": "2h4sgs7HVJAR",
        "colab_type": "code",
        "colab": {}
      },
      "source": [
        "# rows with \"blocks\" = \"(pending)\"\n",
        "pending_tran = transaction.loc[transaction[\"blocks\"]==\"(pending)\"]"
      ],
      "execution_count": 0,
      "outputs": []
    },
    {
      "cell_type": "code",
      "metadata": {
        "id": "yhngCwbZXcto",
        "colab_type": "code",
        "outputId": "5118512c-f02b-4edf-bbc7-05cbc1975e31",
        "colab": {
          "base_uri": "https://localhost:8080/",
          "height": 384
        }
      },
      "source": [
        "pending_tran.head()"
      ],
      "execution_count": 44,
      "outputs": [
        {
          "output_type": "execute_result",
          "data": {
            "text/html": [
              "<div>\n",
              "<style scoped>\n",
              "    .dataframe tbody tr th:only-of-type {\n",
              "        vertical-align: middle;\n",
              "    }\n",
              "\n",
              "    .dataframe tbody tr th {\n",
              "        vertical-align: top;\n",
              "    }\n",
              "\n",
              "    .dataframe thead th {\n",
              "        text-align: right;\n",
              "    }\n",
              "</style>\n",
              "<table border=\"1\" class=\"dataframe\">\n",
              "  <thead>\n",
              "    <tr style=\"text-align: right;\">\n",
              "      <th></th>\n",
              "      <th>Address</th>\n",
              "      <th>Txn_hash</th>\n",
              "      <th>blocks</th>\n",
              "      <th>date</th>\n",
              "      <th>from</th>\n",
              "      <th>txn_type</th>\n",
              "      <th>to</th>\n",
              "      <th>value</th>\n",
              "      <th>Txn_fee</th>\n",
              "    </tr>\n",
              "  </thead>\n",
              "  <tbody>\n",
              "    <tr>\n",
              "      <th>0</th>\n",
              "      <td>0xc02aaa39b223fe8d0a0e5c4f27ead9083c756cc2</td>\n",
              "      <td>0xfc0f500de01a945cae79b8499c0247cf2cd57e791882...</td>\n",
              "      <td>(pending)</td>\n",
              "      <td>2020-02-13 8:11:10</td>\n",
              "      <td>0xadeeb9d09b8bcee10943198fb6f6a4229bab3675</td>\n",
              "      <td>IN</td>\n",
              "      <td>0xc02aaa39b223fe8d0a0e5c4f27ead9083c756cc2</td>\n",
              "      <td>111 Ether</td>\n",
              "      <td>(Pending)</td>\n",
              "    </tr>\n",
              "    <tr>\n",
              "      <th>1</th>\n",
              "      <td>0xc02aaa39b223fe8d0a0e5c4f27ead9083c756cc2</td>\n",
              "      <td>0x3fc1bfb66bb222580543e38952be03c12944a84bcfbe...</td>\n",
              "      <td>(pending)</td>\n",
              "      <td>2020-02-13 5:44:47</td>\n",
              "      <td>0x4f0a1940de411285ad0455a7f40c81b5e0bc8492</td>\n",
              "      <td>IN</td>\n",
              "      <td>0xc02aaa39b223fe8d0a0e5c4f27ead9083c756cc2</td>\n",
              "      <td>0 Ether</td>\n",
              "      <td>(Pending)</td>\n",
              "    </tr>\n",
              "    <tr>\n",
              "      <th>2</th>\n",
              "      <td>0xc02aaa39b223fe8d0a0e5c4f27ead9083c756cc2</td>\n",
              "      <td>0x5b324ab8483effd44cd7bfa59bd65725b822d5731221...</td>\n",
              "      <td>(pending)</td>\n",
              "      <td>2020-02-07 2:12:51</td>\n",
              "      <td>0x871463ce6b696c0c46910a996070bff9dcc5c351</td>\n",
              "      <td>IN</td>\n",
              "      <td>0xc02aaa39b223fe8d0a0e5c4f27ead9083c756cc2</td>\n",
              "      <td>0 Ether</td>\n",
              "      <td>(Pending)</td>\n",
              "    </tr>\n",
              "    <tr>\n",
              "      <th>3</th>\n",
              "      <td>0xc02aaa39b223fe8d0a0e5c4f27ead9083c756cc2</td>\n",
              "      <td>0x4eede6bc0d21c20fbe32750682ef2ec148bae914a566...</td>\n",
              "      <td>(pending)</td>\n",
              "      <td>2020-02-07 2:12:51</td>\n",
              "      <td>0x871463ce6b696c0c46910a996070bff9dcc5c351</td>\n",
              "      <td>IN</td>\n",
              "      <td>0xc02aaa39b223fe8d0a0e5c4f27ead9083c756cc2</td>\n",
              "      <td>0 Ether</td>\n",
              "      <td>(Pending)</td>\n",
              "    </tr>\n",
              "    <tr>\n",
              "      <th>417</th>\n",
              "      <td>0x4ddc2d193948926d02f9b1fe9e1daa0718270ed5</td>\n",
              "      <td>0x64650be669f359522e175b0c478eb832ea1843554ff4...</td>\n",
              "      <td>(pending)</td>\n",
              "      <td>2020-02-13 8:13:42</td>\n",
              "      <td>0xce4694087644b6b6262090c8a08639379f5eaab8</td>\n",
              "      <td>IN</td>\n",
              "      <td>0x4ddc2d193948926d02f9b1fe9e1daa0718270ed5</td>\n",
              "      <td>0 Ether</td>\n",
              "      <td>(Pending)</td>\n",
              "    </tr>\n",
              "  </tbody>\n",
              "</table>\n",
              "</div>"
            ],
            "text/plain": [
              "                                        Address  ...    Txn_fee\n",
              "0    0xc02aaa39b223fe8d0a0e5c4f27ead9083c756cc2  ...  (Pending)\n",
              "1    0xc02aaa39b223fe8d0a0e5c4f27ead9083c756cc2  ...  (Pending)\n",
              "2    0xc02aaa39b223fe8d0a0e5c4f27ead9083c756cc2  ...  (Pending)\n",
              "3    0xc02aaa39b223fe8d0a0e5c4f27ead9083c756cc2  ...  (Pending)\n",
              "417  0x4ddc2d193948926d02f9b1fe9e1daa0718270ed5  ...  (Pending)\n",
              "\n",
              "[5 rows x 9 columns]"
            ]
          },
          "metadata": {
            "tags": []
          },
          "execution_count": 44
        }
      ]
    },
    {
      "cell_type": "code",
      "metadata": {
        "id": "8i9j3W9TXG0Q",
        "colab_type": "code",
        "outputId": "abb8a151-f8ea-42c7-a2f1-e1a59c2bc1b8",
        "colab": {
          "base_uri": "https://localhost:8080/",
          "height": 33
        }
      },
      "source": [
        "pending_tran.shape"
      ],
      "execution_count": 45,
      "outputs": [
        {
          "output_type": "execute_result",
          "data": {
            "text/plain": [
              "(56, 9)"
            ]
          },
          "metadata": {
            "tags": []
          },
          "execution_count": 45
        }
      ]
    },
    {
      "cell_type": "code",
      "metadata": {
        "id": "lUed6SXpVUAH",
        "colab_type": "code",
        "colab": {}
      },
      "source": [
        "# drop rows with \"blocks\" = \"(pending)\"\n",
        "transaction = transaction.drop(pending_tran.index,axis = 0)\n",
        "transaction.reset_index(drop=True, inplace=True)"
      ],
      "execution_count": 0,
      "outputs": []
    },
    {
      "cell_type": "code",
      "metadata": {
        "id": "Yx6b4W0tYphf",
        "colab_type": "code",
        "colab": {
          "base_uri": "https://localhost:8080/",
          "height": 184
        },
        "outputId": "61115951-f435-4614-91b4-1e1baec2c85f"
      },
      "source": [
        "transaction.iloc[417]"
      ],
      "execution_count": 47,
      "outputs": [
        {
          "output_type": "execute_result",
          "data": {
            "text/plain": [
              "Address            0x4ddc2d193948926d02f9b1fe9e1daa0718270ed5\n",
              "Txn_hash    0xede1da37b1d307242ec56cce475c07e3177526bfc2b2...\n",
              "blocks                                                9473388\n",
              "date                                       2020-02-13 7:47:52\n",
              "from               0xb5776382bfb79d18a4e7d621131daf3954110cdd\n",
              "txn_type                                                  IN \n",
              "to                                             Compound Ether\n",
              "value                                       3.691478824 Ether\n",
              "Txn_fee                                            0.00084434\n",
              "Name: 417, dtype: object"
            ]
          },
          "metadata": {
            "tags": []
          },
          "execution_count": 47
        }
      ]
    },
    {
      "cell_type": "code",
      "metadata": {
        "id": "3G2zXsEFZTla",
        "colab_type": "code",
        "colab": {
          "base_uri": "https://localhost:8080/",
          "height": 33
        },
        "outputId": "f177fb6e-d1a3-4ecc-d9f0-ef888ede7646"
      },
      "source": [
        "transaction.shape"
      ],
      "execution_count": 48,
      "outputs": [
        {
          "output_type": "execute_result",
          "data": {
            "text/plain": [
              "(7013, 9)"
            ]
          },
          "metadata": {
            "tags": []
          },
          "execution_count": 48
        }
      ]
    },
    {
      "cell_type": "code",
      "metadata": {
        "id": "R1JDrS2sZkRX",
        "colab_type": "code",
        "colab": {
          "base_uri": "https://localhost:8080/",
          "height": 384
        },
        "outputId": "cdcf163f-6674-4b65-8d5a-2ada5273d0e6"
      },
      "source": [
        "transaction.tail()"
      ],
      "execution_count": 49,
      "outputs": [
        {
          "output_type": "execute_result",
          "data": {
            "text/html": [
              "<div>\n",
              "<style scoped>\n",
              "    .dataframe tbody tr th:only-of-type {\n",
              "        vertical-align: middle;\n",
              "    }\n",
              "\n",
              "    .dataframe tbody tr th {\n",
              "        vertical-align: top;\n",
              "    }\n",
              "\n",
              "    .dataframe thead th {\n",
              "        text-align: right;\n",
              "    }\n",
              "</style>\n",
              "<table border=\"1\" class=\"dataframe\">\n",
              "  <thead>\n",
              "    <tr style=\"text-align: right;\">\n",
              "      <th></th>\n",
              "      <th>Address</th>\n",
              "      <th>Txn_hash</th>\n",
              "      <th>blocks</th>\n",
              "      <th>date</th>\n",
              "      <th>from</th>\n",
              "      <th>txn_type</th>\n",
              "      <th>to</th>\n",
              "      <th>value</th>\n",
              "      <th>Txn_fee</th>\n",
              "    </tr>\n",
              "  </thead>\n",
              "  <tbody>\n",
              "    <tr>\n",
              "      <th>7008</th>\n",
              "      <td>0x02154704757515529da04380c984531ad7c48f34</td>\n",
              "      <td>0x36e801f13f7482d2ab961a939a9d5800a394b388086a...</td>\n",
              "      <td>8168304</td>\n",
              "      <td>2019-07-17 12:31:42</td>\n",
              "      <td>0x895304add182d14a315c2b382c68e8bc84bf579e</td>\n",
              "      <td>IN</td>\n",
              "      <td>0x02154704757515529da04380c984531ad7c48f34</td>\n",
              "      <td>0 Ether</td>\n",
              "      <td>0.000353928</td>\n",
              "    </tr>\n",
              "    <tr>\n",
              "      <th>7009</th>\n",
              "      <td>0x02154704757515529da04380c984531ad7c48f34</td>\n",
              "      <td>0x29327aa208d895250aaaa39edbf8956c724f3bf0b9a5...</td>\n",
              "      <td>7975751</td>\n",
              "      <td>2019-06-17 11:53:53</td>\n",
              "      <td>0x895304add182d14a315c2b382c68e8bc84bf579e</td>\n",
              "      <td>IN</td>\n",
              "      <td>0x02154704757515529da04380c984531ad7c48f34</td>\n",
              "      <td>0 Ether</td>\n",
              "      <td>0.00100062</td>\n",
              "    </tr>\n",
              "    <tr>\n",
              "      <th>7010</th>\n",
              "      <td>0x02154704757515529da04380c984531ad7c48f34</td>\n",
              "      <td>0xd619bfbe10d3a146faeacb7eb4693569bc76125a051a...</td>\n",
              "      <td>6206139</td>\n",
              "      <td>2018-08-24 16:49:32</td>\n",
              "      <td>0x895304add182d14a315c2b382c68e8bc84bf579e</td>\n",
              "      <td>IN</td>\n",
              "      <td>0x02154704757515529da04380c984531ad7c48f34</td>\n",
              "      <td>0 Ether</td>\n",
              "      <td>0.000235696</td>\n",
              "    </tr>\n",
              "    <tr>\n",
              "      <th>7011</th>\n",
              "      <td>0x02154704757515529da04380c984531ad7c48f34</td>\n",
              "      <td>0xf92df362d613e793f4ab2b70e2e388169ecd4ebf3d59...</td>\n",
              "      <td>6157687</td>\n",
              "      <td>2018-08-16 12:09:23</td>\n",
              "      <td>0x895304add182d14a315c2b382c68e8bc84bf579e</td>\n",
              "      <td>IN</td>\n",
              "      <td>0x02154704757515529da04380c984531ad7c48f34</td>\n",
              "      <td>0 Ether</td>\n",
              "      <td>0.0003693</td>\n",
              "    </tr>\n",
              "    <tr>\n",
              "      <th>7012</th>\n",
              "      <td>0x02154704757515529da04380c984531ad7c48f34</td>\n",
              "      <td>0x66d827eba020dd632624977a45e934b2414484232786...</td>\n",
              "      <td>6116188</td>\n",
              "      <td>2018-08-09 11:45:06</td>\n",
              "      <td>0x895304add182d14a315c2b382c68e8bc84bf579e</td>\n",
              "      <td>IN</td>\n",
              "      <td>Contract Creation</td>\n",
              "      <td>0 Ether</td>\n",
              "      <td>0.02244624</td>\n",
              "    </tr>\n",
              "  </tbody>\n",
              "</table>\n",
              "</div>"
            ],
            "text/plain": [
              "                                         Address  ...      Txn_fee\n",
              "7008  0x02154704757515529da04380c984531ad7c48f34  ...  0.000353928\n",
              "7009  0x02154704757515529da04380c984531ad7c48f34  ...   0.00100062\n",
              "7010  0x02154704757515529da04380c984531ad7c48f34  ...  0.000235696\n",
              "7011  0x02154704757515529da04380c984531ad7c48f34  ...    0.0003693\n",
              "7012  0x02154704757515529da04380c984531ad7c48f34  ...   0.02244624\n",
              "\n",
              "[5 rows x 9 columns]"
            ]
          },
          "metadata": {
            "tags": []
          },
          "execution_count": 49
        }
      ]
    },
    {
      "cell_type": "code",
      "metadata": {
        "id": "dmot0k46XAYf",
        "colab_type": "code",
        "outputId": "3db302f1-d365-45c2-a76e-b71f0ad910c1",
        "colab": {
          "base_uri": "https://localhost:8080/",
          "height": 47
        }
      },
      "source": [
        "(transaction.loc[transaction[\"blocks\"]==\"(pending)\"])"
      ],
      "execution_count": 50,
      "outputs": [
        {
          "output_type": "execute_result",
          "data": {
            "text/html": [
              "<div>\n",
              "<style scoped>\n",
              "    .dataframe tbody tr th:only-of-type {\n",
              "        vertical-align: middle;\n",
              "    }\n",
              "\n",
              "    .dataframe tbody tr th {\n",
              "        vertical-align: top;\n",
              "    }\n",
              "\n",
              "    .dataframe thead th {\n",
              "        text-align: right;\n",
              "    }\n",
              "</style>\n",
              "<table border=\"1\" class=\"dataframe\">\n",
              "  <thead>\n",
              "    <tr style=\"text-align: right;\">\n",
              "      <th></th>\n",
              "      <th>Address</th>\n",
              "      <th>Txn_hash</th>\n",
              "      <th>blocks</th>\n",
              "      <th>date</th>\n",
              "      <th>from</th>\n",
              "      <th>txn_type</th>\n",
              "      <th>to</th>\n",
              "      <th>value</th>\n",
              "      <th>Txn_fee</th>\n",
              "    </tr>\n",
              "  </thead>\n",
              "  <tbody>\n",
              "  </tbody>\n",
              "</table>\n",
              "</div>"
            ],
            "text/plain": [
              "Empty DataFrame\n",
              "Columns: [Address, Txn_hash, blocks, date, from, txn_type, to, value, Txn_fee]\n",
              "Index: []"
            ]
          },
          "metadata": {
            "tags": []
          },
          "execution_count": 50
        }
      ]
    },
    {
      "cell_type": "code",
      "metadata": {
        "id": "1hcylMSBXDA_",
        "colab_type": "code",
        "outputId": "48d00356-b97d-4297-ab6a-e46cd7936768",
        "colab": {
          "base_uri": "https://localhost:8080/",
          "height": 33
        }
      },
      "source": [
        "(transaction.loc[transaction[\"blocks\"]==\"(pending)\"]).shape"
      ],
      "execution_count": 51,
      "outputs": [
        {
          "output_type": "execute_result",
          "data": {
            "text/plain": [
              "(0, 9)"
            ]
          },
          "metadata": {
            "tags": []
          },
          "execution_count": 51
        }
      ]
    },
    {
      "cell_type": "code",
      "metadata": {
        "id": "HZfNcpsxXZpF",
        "colab_type": "code",
        "outputId": "acbd94d3-0833-4066-b149-9f01387d6815",
        "colab": {
          "base_uri": "https://localhost:8080/",
          "height": 47
        }
      },
      "source": [
        "(transaction.loc[transaction[\"Txn_fee\"]==\"(Pending)\"])"
      ],
      "execution_count": 52,
      "outputs": [
        {
          "output_type": "execute_result",
          "data": {
            "text/html": [
              "<div>\n",
              "<style scoped>\n",
              "    .dataframe tbody tr th:only-of-type {\n",
              "        vertical-align: middle;\n",
              "    }\n",
              "\n",
              "    .dataframe tbody tr th {\n",
              "        vertical-align: top;\n",
              "    }\n",
              "\n",
              "    .dataframe thead th {\n",
              "        text-align: right;\n",
              "    }\n",
              "</style>\n",
              "<table border=\"1\" class=\"dataframe\">\n",
              "  <thead>\n",
              "    <tr style=\"text-align: right;\">\n",
              "      <th></th>\n",
              "      <th>Address</th>\n",
              "      <th>Txn_hash</th>\n",
              "      <th>blocks</th>\n",
              "      <th>date</th>\n",
              "      <th>from</th>\n",
              "      <th>txn_type</th>\n",
              "      <th>to</th>\n",
              "      <th>value</th>\n",
              "      <th>Txn_fee</th>\n",
              "    </tr>\n",
              "  </thead>\n",
              "  <tbody>\n",
              "  </tbody>\n",
              "</table>\n",
              "</div>"
            ],
            "text/plain": [
              "Empty DataFrame\n",
              "Columns: [Address, Txn_hash, blocks, date, from, txn_type, to, value, Txn_fee]\n",
              "Index: []"
            ]
          },
          "metadata": {
            "tags": []
          },
          "execution_count": 52
        }
      ]
    },
    {
      "cell_type": "code",
      "metadata": {
        "id": "5DvXOyB1Xm_O",
        "colab_type": "code",
        "colab": {
          "base_uri": "https://localhost:8080/",
          "height": 33
        },
        "outputId": "00f4463c-8a10-4c74-a92a-81f9653e7895"
      },
      "source": [
        "transaction.shape"
      ],
      "execution_count": 53,
      "outputs": [
        {
          "output_type": "execute_result",
          "data": {
            "text/plain": [
              "(7013, 9)"
            ]
          },
          "metadata": {
            "tags": []
          },
          "execution_count": 53
        }
      ]
    },
    {
      "cell_type": "code",
      "metadata": {
        "id": "NPL1h5YVX3pp",
        "colab_type": "code",
        "colab": {}
      },
      "source": [
        "# replace 'Ether' with '' for 'value' column\n",
        "transaction['value'] = transaction['value'].str.replace('Ether', '')"
      ],
      "execution_count": 0,
      "outputs": []
    },
    {
      "cell_type": "code",
      "metadata": {
        "id": "lpk23wVeZoy0",
        "colab_type": "code",
        "outputId": "c7aab788-3c75-4dc4-b776-12596f7671a0",
        "colab": {
          "base_uri": "https://localhost:8080/",
          "height": 184
        }
      },
      "source": [
        "# value attribute contains ','\n",
        "transaction.iloc[46,:]"
      ],
      "execution_count": 55,
      "outputs": [
        {
          "output_type": "execute_result",
          "data": {
            "text/plain": [
              "Address            0x742d35cc6634c0532925a3b844bc454e4438f44e\n",
              "Txn_hash    0xee5fd59cdbe38a5a13c209f459e45f77b180a2b38be5...\n",
              "blocks                                                9473460\n",
              "date                                       2020-02-13 7:59:54\n",
              "from                                               Bitfinex 5\n",
              "txn_type                                                  OUT\n",
              "to                                                 Bitfinex 4\n",
              "value                                                 50,000 \n",
              "Txn_fee                                              0.000168\n",
              "Name: 46, dtype: object"
            ]
          },
          "metadata": {
            "tags": []
          },
          "execution_count": 55
        }
      ]
    },
    {
      "cell_type": "code",
      "metadata": {
        "id": "Jj_ts-F9Z4MU",
        "colab_type": "code",
        "colab": {}
      },
      "source": [
        "# replace ',' with ''\n",
        "transaction['value'] = transaction['value'].str.replace(',', '')"
      ],
      "execution_count": 0,
      "outputs": []
    },
    {
      "cell_type": "code",
      "metadata": {
        "id": "njZmqsGlbqyk",
        "colab_type": "code",
        "outputId": "50646dd2-f4b0-460a-e956-dbe040f5a69e",
        "colab": {
          "base_uri": "https://localhost:8080/",
          "height": 184
        }
      },
      "source": [
        "# value attribute contains 'wei'\n",
        "print(transaction.iloc[174,:])"
      ],
      "execution_count": 57,
      "outputs": [
        {
          "output_type": "stream",
          "text": [
            "Address            0x997114ca0830e9bee7443368fa27f4af2d4e55a6\n",
            "Txn_hash    0xdd570085f28587501cc42a9bbe7519fc24d241205526...\n",
            "blocks                                                9341893\n",
            "date                                       2020-01-24 2:54:08\n",
            "from               0xcee95ce42d94b35c4f714f0dc23078ab06136102\n",
            "txn_type                                                  IN \n",
            "to                                         Plus Token Ponzi 2\n",
            "value                                                   1 wei\n",
            "Txn_fee                                                     0\n",
            "Name: 174, dtype: object\n"
          ],
          "name": "stdout"
        }
      ]
    },
    {
      "cell_type": "code",
      "metadata": {
        "id": "NWYLyIuUtjDF",
        "colab_type": "code",
        "colab": {
          "base_uri": "https://localhost:8080/",
          "height": 759
        },
        "outputId": "14f015aa-522a-4379-d3d9-7f863bfa9160"
      },
      "source": [
        "wei = transaction[transaction['value'].str.contains(pat = 'wei') ]\n",
        "wei"
      ],
      "execution_count": 58,
      "outputs": [
        {
          "output_type": "execute_result",
          "data": {
            "text/html": [
              "<div>\n",
              "<style scoped>\n",
              "    .dataframe tbody tr th:only-of-type {\n",
              "        vertical-align: middle;\n",
              "    }\n",
              "\n",
              "    .dataframe tbody tr th {\n",
              "        vertical-align: top;\n",
              "    }\n",
              "\n",
              "    .dataframe thead th {\n",
              "        text-align: right;\n",
              "    }\n",
              "</style>\n",
              "<table border=\"1\" class=\"dataframe\">\n",
              "  <thead>\n",
              "    <tr style=\"text-align: right;\">\n",
              "      <th></th>\n",
              "      <th>Address</th>\n",
              "      <th>Txn_hash</th>\n",
              "      <th>blocks</th>\n",
              "      <th>date</th>\n",
              "      <th>from</th>\n",
              "      <th>txn_type</th>\n",
              "      <th>to</th>\n",
              "      <th>value</th>\n",
              "      <th>Txn_fee</th>\n",
              "    </tr>\n",
              "  </thead>\n",
              "  <tbody>\n",
              "    <tr>\n",
              "      <th>174</th>\n",
              "      <td>0x997114ca0830e9bee7443368fa27f4af2d4e55a6</td>\n",
              "      <td>0xdd570085f28587501cc42a9bbe7519fc24d241205526...</td>\n",
              "      <td>9341893</td>\n",
              "      <td>2020-01-24 2:54:08</td>\n",
              "      <td>0xcee95ce42d94b35c4f714f0dc23078ab06136102</td>\n",
              "      <td>IN</td>\n",
              "      <td>Plus Token Ponzi 2</td>\n",
              "      <td>1 wei</td>\n",
              "      <td>0</td>\n",
              "    </tr>\n",
              "    <tr>\n",
              "      <th>531</th>\n",
              "      <td>0xab5801a7d398351b8be11c439e05c5b3259aec9b</td>\n",
              "      <td>0x55827e740d20aba2a8238b7d63c9c416156eef5fda8d...</td>\n",
              "      <td>9451287</td>\n",
              "      <td>2020-02-09 22:27:45</td>\n",
              "      <td>Vb</td>\n",
              "      <td>OUT</td>\n",
              "      <td>Vb 2</td>\n",
              "      <td>1 wei</td>\n",
              "      <td>0.00042</td>\n",
              "    </tr>\n",
              "    <tr>\n",
              "      <th>536</th>\n",
              "      <td>0xab5801a7d398351b8be11c439e05c5b3259aec9b</td>\n",
              "      <td>0x9fe237d0f06e01967c9de0e0615e8a9d19cc428d3d2e...</td>\n",
              "      <td>9222377</td>\n",
              "      <td>2020-01-05 19:47:12</td>\n",
              "      <td>0x3b0535c602078a22a9954209b3556549c4e5e987</td>\n",
              "      <td>IN</td>\n",
              "      <td>Vb</td>\n",
              "      <td>69 wei</td>\n",
              "      <td>0.00252</td>\n",
              "    </tr>\n",
              "    <tr>\n",
              "      <th>729</th>\n",
              "      <td>0x997114ca0830e9bee7443368fa27f4af2d4e55a6</td>\n",
              "      <td>0xdd570085f28587501cc42a9bbe7519fc24d241205526...</td>\n",
              "      <td>9341893</td>\n",
              "      <td>2020-01-24 2:54:08</td>\n",
              "      <td>0xcee95ce42d94b35c4f714f0dc23078ab06136102</td>\n",
              "      <td>IN</td>\n",
              "      <td>Plus Token Ponzi 2</td>\n",
              "      <td>1 wei</td>\n",
              "      <td>0</td>\n",
              "    </tr>\n",
              "    <tr>\n",
              "      <th>1084</th>\n",
              "      <td>0xab5801a7d398351b8be11c439e05c5b3259aec9b</td>\n",
              "      <td>0x55827e740d20aba2a8238b7d63c9c416156eef5fda8d...</td>\n",
              "      <td>9451287</td>\n",
              "      <td>2020-02-09 22:27:45</td>\n",
              "      <td>Vb</td>\n",
              "      <td>OUT</td>\n",
              "      <td>Vb 2</td>\n",
              "      <td>1 wei</td>\n",
              "      <td>0.00042</td>\n",
              "    </tr>\n",
              "    <tr>\n",
              "      <th>...</th>\n",
              "      <td>...</td>\n",
              "      <td>...</td>\n",
              "      <td>...</td>\n",
              "      <td>...</td>\n",
              "      <td>...</td>\n",
              "      <td>...</td>\n",
              "      <td>...</td>\n",
              "      <td>...</td>\n",
              "      <td>...</td>\n",
              "    </tr>\n",
              "    <tr>\n",
              "      <th>6929</th>\n",
              "      <td>0xd28c567f1b52119b32a3af6066c36149c2f86d12</td>\n",
              "      <td>0x90d18a025067aa61a72424b6dc013dfb4a570d4294be...</td>\n",
              "      <td>2590633</td>\n",
              "      <td>2016-11-08 18:12:13</td>\n",
              "      <td>0x218ceba34780a8681f3eac76f048696cc091d3d7</td>\n",
              "      <td>IN</td>\n",
              "      <td>0xd28c567f1b52119b32a3af6066c36149c2f86d12</td>\n",
              "      <td>1 wei</td>\n",
              "      <td>0.042544</td>\n",
              "    </tr>\n",
              "    <tr>\n",
              "      <th>6930</th>\n",
              "      <td>0xd28c567f1b52119b32a3af6066c36149c2f86d12</td>\n",
              "      <td>0xbab249a8dd0d42f0dc976615f75e6ad988f0a568b4cf...</td>\n",
              "      <td>2590608</td>\n",
              "      <td>2016-11-08 18:06:19</td>\n",
              "      <td>0x218ceba34780a8681f3eac76f048696cc091d3d7</td>\n",
              "      <td>IN</td>\n",
              "      <td>0xd28c567f1b52119b32a3af6066c36149c2f86d12</td>\n",
              "      <td>1 wei</td>\n",
              "      <td>0.042544</td>\n",
              "    </tr>\n",
              "    <tr>\n",
              "      <th>6938</th>\n",
              "      <td>0xd28c567f1b52119b32a3af6066c36149c2f86d12</td>\n",
              "      <td>0xfd766c6d78b26320e7d12223ab40f1ff93200e16a5fb...</td>\n",
              "      <td>2150626</td>\n",
              "      <td>2016-08-27 18:34:18</td>\n",
              "      <td>0xd28c567f1b52119b32a3af6066c36149c2f86d12</td>\n",
              "      <td>OUT</td>\n",
              "      <td>0x168ae36b4386cea14475faa41498a0ea63c67dd7</td>\n",
              "      <td>10 wei</td>\n",
              "      <td>0.000441</td>\n",
              "    </tr>\n",
              "    <tr>\n",
              "      <th>6988</th>\n",
              "      <td>0x738ca94db7ce8be1c3056cd6988eb376359f3353</td>\n",
              "      <td>0xe45c0baee8eec889f68ae02e18eca63098285f74aaa0...</td>\n",
              "      <td>8266002</td>\n",
              "      <td>2019-08-01 16:50:11</td>\n",
              "      <td>0x33538b3808aa60f88d9564bc93e2f70b51e79a55</td>\n",
              "      <td>IN</td>\n",
              "      <td>0x738ca94db7ce8be1c3056cd6988eb376359f3353</td>\n",
              "      <td>911 wei</td>\n",
              "      <td>0.000021</td>\n",
              "    </tr>\n",
              "    <tr>\n",
              "      <th>6994</th>\n",
              "      <td>0xde2204c30a452ea2c524f629fcd1e21de25ccd3d</td>\n",
              "      <td>0xedabccee2d1a8bda2a01ff56a7f33d2a5b33fcaf01ae...</td>\n",
              "      <td>8308331</td>\n",
              "      <td>2019-08-08 6:24:31</td>\n",
              "      <td>0xb83488322899d7e039bcec4f2cb6ee7b88303a4b</td>\n",
              "      <td>IN</td>\n",
              "      <td>0xde2204c30a452ea2c524f629fcd1e21de25ccd3d</td>\n",
              "      <td>911 wei</td>\n",
              "      <td>0.000042</td>\n",
              "    </tr>\n",
              "  </tbody>\n",
              "</table>\n",
              "<p>83 rows × 9 columns</p>\n",
              "</div>"
            ],
            "text/plain": [
              "                                         Address  ...   Txn_fee\n",
              "174   0x997114ca0830e9bee7443368fa27f4af2d4e55a6  ...         0\n",
              "531   0xab5801a7d398351b8be11c439e05c5b3259aec9b  ...   0.00042\n",
              "536   0xab5801a7d398351b8be11c439e05c5b3259aec9b  ...   0.00252\n",
              "729   0x997114ca0830e9bee7443368fa27f4af2d4e55a6  ...         0\n",
              "1084  0xab5801a7d398351b8be11c439e05c5b3259aec9b  ...   0.00042\n",
              "...                                          ...  ...       ...\n",
              "6929  0xd28c567f1b52119b32a3af6066c36149c2f86d12  ...  0.042544\n",
              "6930  0xd28c567f1b52119b32a3af6066c36149c2f86d12  ...  0.042544\n",
              "6938  0xd28c567f1b52119b32a3af6066c36149c2f86d12  ...  0.000441\n",
              "6988  0x738ca94db7ce8be1c3056cd6988eb376359f3353  ...  0.000021\n",
              "6994  0xde2204c30a452ea2c524f629fcd1e21de25ccd3d  ...  0.000042\n",
              "\n",
              "[83 rows x 9 columns]"
            ]
          },
          "metadata": {
            "tags": []
          },
          "execution_count": 58
        }
      ]
    },
    {
      "cell_type": "code",
      "metadata": {
        "id": "NemMckv9ckJf",
        "colab_type": "code",
        "colab": {}
      },
      "source": [
        "# drop rows with value in wei\n",
        "transaction = transaction.drop(wei.index,axis = 0)\n",
        "transaction.reset_index(drop=True, inplace=True)"
      ],
      "execution_count": 0,
      "outputs": []
    },
    {
      "cell_type": "markdown",
      "metadata": {
        "id": "bZXRDI3Ltbvz",
        "colab_type": "text"
      },
      "source": [
        "All 83 rows have wei in value column\n",
        "Wei refers to the smallest denomination of ether (ETH), the currency used on the Ethereum network. For instance, 1 ether (ETH) is equivalent to 1x10^18 wei (which may also be represented in exponential notation: 1e18 wei)."
      ]
    },
    {
      "cell_type": "code",
      "metadata": {
        "id": "XhbCSfClrKlO",
        "colab_type": "code",
        "colab": {
          "base_uri": "https://localhost:8080/",
          "height": 759
        },
        "outputId": "5f8b32ec-db90-44d5-c3b2-253a04f1760d"
      },
      "source": [
        "ether = pow(10,18) \n",
        "for i in range(len(wei)):\n",
        "  wei['value'].iloc[i] = '{0:.30f}'.format(float(wei['value'].iloc[i].split(' ')[0])/ether)\n",
        "wei"
      ],
      "execution_count": 60,
      "outputs": [
        {
          "output_type": "execute_result",
          "data": {
            "text/html": [
              "<div>\n",
              "<style scoped>\n",
              "    .dataframe tbody tr th:only-of-type {\n",
              "        vertical-align: middle;\n",
              "    }\n",
              "\n",
              "    .dataframe tbody tr th {\n",
              "        vertical-align: top;\n",
              "    }\n",
              "\n",
              "    .dataframe thead th {\n",
              "        text-align: right;\n",
              "    }\n",
              "</style>\n",
              "<table border=\"1\" class=\"dataframe\">\n",
              "  <thead>\n",
              "    <tr style=\"text-align: right;\">\n",
              "      <th></th>\n",
              "      <th>Address</th>\n",
              "      <th>Txn_hash</th>\n",
              "      <th>blocks</th>\n",
              "      <th>date</th>\n",
              "      <th>from</th>\n",
              "      <th>txn_type</th>\n",
              "      <th>to</th>\n",
              "      <th>value</th>\n",
              "      <th>Txn_fee</th>\n",
              "    </tr>\n",
              "  </thead>\n",
              "  <tbody>\n",
              "    <tr>\n",
              "      <th>174</th>\n",
              "      <td>0x997114ca0830e9bee7443368fa27f4af2d4e55a6</td>\n",
              "      <td>0xdd570085f28587501cc42a9bbe7519fc24d241205526...</td>\n",
              "      <td>9341893</td>\n",
              "      <td>2020-01-24 2:54:08</td>\n",
              "      <td>0xcee95ce42d94b35c4f714f0dc23078ab06136102</td>\n",
              "      <td>IN</td>\n",
              "      <td>Plus Token Ponzi 2</td>\n",
              "      <td>0.000000000000000001000000000000</td>\n",
              "      <td>0</td>\n",
              "    </tr>\n",
              "    <tr>\n",
              "      <th>531</th>\n",
              "      <td>0xab5801a7d398351b8be11c439e05c5b3259aec9b</td>\n",
              "      <td>0x55827e740d20aba2a8238b7d63c9c416156eef5fda8d...</td>\n",
              "      <td>9451287</td>\n",
              "      <td>2020-02-09 22:27:45</td>\n",
              "      <td>Vb</td>\n",
              "      <td>OUT</td>\n",
              "      <td>Vb 2</td>\n",
              "      <td>0.000000000000000001000000000000</td>\n",
              "      <td>0.00042</td>\n",
              "    </tr>\n",
              "    <tr>\n",
              "      <th>536</th>\n",
              "      <td>0xab5801a7d398351b8be11c439e05c5b3259aec9b</td>\n",
              "      <td>0x9fe237d0f06e01967c9de0e0615e8a9d19cc428d3d2e...</td>\n",
              "      <td>9222377</td>\n",
              "      <td>2020-01-05 19:47:12</td>\n",
              "      <td>0x3b0535c602078a22a9954209b3556549c4e5e987</td>\n",
              "      <td>IN</td>\n",
              "      <td>Vb</td>\n",
              "      <td>0.000000000000000069000000000000</td>\n",
              "      <td>0.00252</td>\n",
              "    </tr>\n",
              "    <tr>\n",
              "      <th>729</th>\n",
              "      <td>0x997114ca0830e9bee7443368fa27f4af2d4e55a6</td>\n",
              "      <td>0xdd570085f28587501cc42a9bbe7519fc24d241205526...</td>\n",
              "      <td>9341893</td>\n",
              "      <td>2020-01-24 2:54:08</td>\n",
              "      <td>0xcee95ce42d94b35c4f714f0dc23078ab06136102</td>\n",
              "      <td>IN</td>\n",
              "      <td>Plus Token Ponzi 2</td>\n",
              "      <td>0.000000000000000001000000000000</td>\n",
              "      <td>0</td>\n",
              "    </tr>\n",
              "    <tr>\n",
              "      <th>1084</th>\n",
              "      <td>0xab5801a7d398351b8be11c439e05c5b3259aec9b</td>\n",
              "      <td>0x55827e740d20aba2a8238b7d63c9c416156eef5fda8d...</td>\n",
              "      <td>9451287</td>\n",
              "      <td>2020-02-09 22:27:45</td>\n",
              "      <td>Vb</td>\n",
              "      <td>OUT</td>\n",
              "      <td>Vb 2</td>\n",
              "      <td>0.000000000000000001000000000000</td>\n",
              "      <td>0.00042</td>\n",
              "    </tr>\n",
              "    <tr>\n",
              "      <th>...</th>\n",
              "      <td>...</td>\n",
              "      <td>...</td>\n",
              "      <td>...</td>\n",
              "      <td>...</td>\n",
              "      <td>...</td>\n",
              "      <td>...</td>\n",
              "      <td>...</td>\n",
              "      <td>...</td>\n",
              "      <td>...</td>\n",
              "    </tr>\n",
              "    <tr>\n",
              "      <th>6929</th>\n",
              "      <td>0xd28c567f1b52119b32a3af6066c36149c2f86d12</td>\n",
              "      <td>0x90d18a025067aa61a72424b6dc013dfb4a570d4294be...</td>\n",
              "      <td>2590633</td>\n",
              "      <td>2016-11-08 18:12:13</td>\n",
              "      <td>0x218ceba34780a8681f3eac76f048696cc091d3d7</td>\n",
              "      <td>IN</td>\n",
              "      <td>0xd28c567f1b52119b32a3af6066c36149c2f86d12</td>\n",
              "      <td>0.000000000000000001000000000000</td>\n",
              "      <td>0.042544</td>\n",
              "    </tr>\n",
              "    <tr>\n",
              "      <th>6930</th>\n",
              "      <td>0xd28c567f1b52119b32a3af6066c36149c2f86d12</td>\n",
              "      <td>0xbab249a8dd0d42f0dc976615f75e6ad988f0a568b4cf...</td>\n",
              "      <td>2590608</td>\n",
              "      <td>2016-11-08 18:06:19</td>\n",
              "      <td>0x218ceba34780a8681f3eac76f048696cc091d3d7</td>\n",
              "      <td>IN</td>\n",
              "      <td>0xd28c567f1b52119b32a3af6066c36149c2f86d12</td>\n",
              "      <td>0.000000000000000001000000000000</td>\n",
              "      <td>0.042544</td>\n",
              "    </tr>\n",
              "    <tr>\n",
              "      <th>6938</th>\n",
              "      <td>0xd28c567f1b52119b32a3af6066c36149c2f86d12</td>\n",
              "      <td>0xfd766c6d78b26320e7d12223ab40f1ff93200e16a5fb...</td>\n",
              "      <td>2150626</td>\n",
              "      <td>2016-08-27 18:34:18</td>\n",
              "      <td>0xd28c567f1b52119b32a3af6066c36149c2f86d12</td>\n",
              "      <td>OUT</td>\n",
              "      <td>0x168ae36b4386cea14475faa41498a0ea63c67dd7</td>\n",
              "      <td>0.000000000000000010000000000000</td>\n",
              "      <td>0.000441</td>\n",
              "    </tr>\n",
              "    <tr>\n",
              "      <th>6988</th>\n",
              "      <td>0x738ca94db7ce8be1c3056cd6988eb376359f3353</td>\n",
              "      <td>0xe45c0baee8eec889f68ae02e18eca63098285f74aaa0...</td>\n",
              "      <td>8266002</td>\n",
              "      <td>2019-08-01 16:50:11</td>\n",
              "      <td>0x33538b3808aa60f88d9564bc93e2f70b51e79a55</td>\n",
              "      <td>IN</td>\n",
              "      <td>0x738ca94db7ce8be1c3056cd6988eb376359f3353</td>\n",
              "      <td>0.000000000000000911000000000000</td>\n",
              "      <td>0.000021</td>\n",
              "    </tr>\n",
              "    <tr>\n",
              "      <th>6994</th>\n",
              "      <td>0xde2204c30a452ea2c524f629fcd1e21de25ccd3d</td>\n",
              "      <td>0xedabccee2d1a8bda2a01ff56a7f33d2a5b33fcaf01ae...</td>\n",
              "      <td>8308331</td>\n",
              "      <td>2019-08-08 6:24:31</td>\n",
              "      <td>0xb83488322899d7e039bcec4f2cb6ee7b88303a4b</td>\n",
              "      <td>IN</td>\n",
              "      <td>0xde2204c30a452ea2c524f629fcd1e21de25ccd3d</td>\n",
              "      <td>0.000000000000000911000000000000</td>\n",
              "      <td>0.000042</td>\n",
              "    </tr>\n",
              "  </tbody>\n",
              "</table>\n",
              "<p>83 rows × 9 columns</p>\n",
              "</div>"
            ],
            "text/plain": [
              "                                         Address  ...   Txn_fee\n",
              "174   0x997114ca0830e9bee7443368fa27f4af2d4e55a6  ...         0\n",
              "531   0xab5801a7d398351b8be11c439e05c5b3259aec9b  ...   0.00042\n",
              "536   0xab5801a7d398351b8be11c439e05c5b3259aec9b  ...   0.00252\n",
              "729   0x997114ca0830e9bee7443368fa27f4af2d4e55a6  ...         0\n",
              "1084  0xab5801a7d398351b8be11c439e05c5b3259aec9b  ...   0.00042\n",
              "...                                          ...  ...       ...\n",
              "6929  0xd28c567f1b52119b32a3af6066c36149c2f86d12  ...  0.042544\n",
              "6930  0xd28c567f1b52119b32a3af6066c36149c2f86d12  ...  0.042544\n",
              "6938  0xd28c567f1b52119b32a3af6066c36149c2f86d12  ...  0.000441\n",
              "6988  0x738ca94db7ce8be1c3056cd6988eb376359f3353  ...  0.000021\n",
              "6994  0xde2204c30a452ea2c524f629fcd1e21de25ccd3d  ...  0.000042\n",
              "\n",
              "[83 rows x 9 columns]"
            ]
          },
          "metadata": {
            "tags": []
          },
          "execution_count": 60
        }
      ]
    },
    {
      "cell_type": "code",
      "metadata": {
        "id": "29RsN8_kdIB6",
        "colab_type": "code",
        "colab": {
          "base_uri": "https://localhost:8080/",
          "height": 384
        },
        "outputId": "35ffdc91-ff0a-452b-9c7c-42c7ad75d075"
      },
      "source": [
        "transaction = pd.concat([transaction, wei], ignore_index=True)\n",
        "transaction.head()"
      ],
      "execution_count": 61,
      "outputs": [
        {
          "output_type": "execute_result",
          "data": {
            "text/html": [
              "<div>\n",
              "<style scoped>\n",
              "    .dataframe tbody tr th:only-of-type {\n",
              "        vertical-align: middle;\n",
              "    }\n",
              "\n",
              "    .dataframe tbody tr th {\n",
              "        vertical-align: top;\n",
              "    }\n",
              "\n",
              "    .dataframe thead th {\n",
              "        text-align: right;\n",
              "    }\n",
              "</style>\n",
              "<table border=\"1\" class=\"dataframe\">\n",
              "  <thead>\n",
              "    <tr style=\"text-align: right;\">\n",
              "      <th></th>\n",
              "      <th>Address</th>\n",
              "      <th>Txn_hash</th>\n",
              "      <th>blocks</th>\n",
              "      <th>date</th>\n",
              "      <th>from</th>\n",
              "      <th>txn_type</th>\n",
              "      <th>to</th>\n",
              "      <th>value</th>\n",
              "      <th>Txn_fee</th>\n",
              "    </tr>\n",
              "  </thead>\n",
              "  <tbody>\n",
              "    <tr>\n",
              "      <th>0</th>\n",
              "      <td>0xc02aaa39b223fe8d0a0e5c4f27ead9083c756cc2</td>\n",
              "      <td>0x42fe81fda028289414af65fe31405a10289aba37f726...</td>\n",
              "      <td>9473503</td>\n",
              "      <td>2020-02-13 8:10:18</td>\n",
              "      <td>0x6924a03bb710eaf199ab6ac9f2bb148215ae9b5d</td>\n",
              "      <td>IN</td>\n",
              "      <td>Wrapped Ether</td>\n",
              "      <td>105.0851</td>\n",
              "      <td>0.00057476</td>\n",
              "    </tr>\n",
              "    <tr>\n",
              "      <th>1</th>\n",
              "      <td>0xc02aaa39b223fe8d0a0e5c4f27ead9083c756cc2</td>\n",
              "      <td>0x0d19386ac886ef8e507267a783144fdeace2f2e25982...</td>\n",
              "      <td>9473495</td>\n",
              "      <td>2020-02-13 8:08:48</td>\n",
              "      <td>0x8641df2d7c730a8a24db86693fc39f7a74dd4e9d</td>\n",
              "      <td>IN</td>\n",
              "      <td>Wrapped Ether</td>\n",
              "      <td>0</td>\n",
              "      <td>0.000331395136</td>\n",
              "    </tr>\n",
              "    <tr>\n",
              "      <th>2</th>\n",
              "      <td>0xc02aaa39b223fe8d0a0e5c4f27ead9083c756cc2</td>\n",
              "      <td>0x1db51d64c3dc5cacee3226b72f2eeec62674573b825b...</td>\n",
              "      <td>9473495</td>\n",
              "      <td>2020-02-13 8:08:48</td>\n",
              "      <td>0x6924a03bb710eaf199ab6ac9f2bb148215ae9b5d</td>\n",
              "      <td>IN</td>\n",
              "      <td>Wrapped Ether</td>\n",
              "      <td>52.8422</td>\n",
              "      <td>0.00057476</td>\n",
              "    </tr>\n",
              "    <tr>\n",
              "      <th>3</th>\n",
              "      <td>0xc02aaa39b223fe8d0a0e5c4f27ead9083c756cc2</td>\n",
              "      <td>0x5c7d53d2687c483fd1c7a2956837cd35ae091005fad0...</td>\n",
              "      <td>9473484</td>\n",
              "      <td>2020-02-13 8:06:22</td>\n",
              "      <td>0xd6afa1ba3a8766212471fb19f62b9dbeafc8e4d3</td>\n",
              "      <td>IN</td>\n",
              "      <td>Wrapped Ether</td>\n",
              "      <td>0</td>\n",
              "      <td>0.00027996</td>\n",
              "    </tr>\n",
              "    <tr>\n",
              "      <th>4</th>\n",
              "      <td>0xc02aaa39b223fe8d0a0e5c4f27ead9083c756cc2</td>\n",
              "      <td>0x7cf7985444fab4413495374c091848690b5205c1c334...</td>\n",
              "      <td>9473477</td>\n",
              "      <td>2020-02-13 8:04:14</td>\n",
              "      <td>0x6924a03bb710eaf199ab6ac9f2bb148215ae9b5d</td>\n",
              "      <td>IN</td>\n",
              "      <td>Wrapped Ether</td>\n",
              "      <td>97.6113</td>\n",
              "      <td>0.00057476</td>\n",
              "    </tr>\n",
              "  </tbody>\n",
              "</table>\n",
              "</div>"
            ],
            "text/plain": [
              "                                      Address  ...         Txn_fee\n",
              "0  0xc02aaa39b223fe8d0a0e5c4f27ead9083c756cc2  ...      0.00057476\n",
              "1  0xc02aaa39b223fe8d0a0e5c4f27ead9083c756cc2  ...  0.000331395136\n",
              "2  0xc02aaa39b223fe8d0a0e5c4f27ead9083c756cc2  ...      0.00057476\n",
              "3  0xc02aaa39b223fe8d0a0e5c4f27ead9083c756cc2  ...      0.00027996\n",
              "4  0xc02aaa39b223fe8d0a0e5c4f27ead9083c756cc2  ...      0.00057476\n",
              "\n",
              "[5 rows x 9 columns]"
            ]
          },
          "metadata": {
            "tags": []
          },
          "execution_count": 61
        }
      ]
    },
    {
      "cell_type": "code",
      "metadata": {
        "id": "9Nma49ApPXM0",
        "colab_type": "code",
        "colab": {
          "base_uri": "https://localhost:8080/",
          "height": 33
        },
        "outputId": "bf6d2b23-6618-4fc9-c454-ab5a70566711"
      },
      "source": [
        "transaction.shape"
      ],
      "execution_count": 62,
      "outputs": [
        {
          "output_type": "execute_result",
          "data": {
            "text/plain": [
              "(7013, 9)"
            ]
          },
          "metadata": {
            "tags": []
          },
          "execution_count": 62
        }
      ]
    },
    {
      "cell_type": "code",
      "metadata": {
        "id": "STtG5FIoTo0J",
        "colab_type": "code",
        "colab": {
          "base_uri": "https://localhost:8080/",
          "height": 384
        },
        "outputId": "7b2762f3-c058-4396-b20b-78200326095e"
      },
      "source": [
        "transaction.tail()"
      ],
      "execution_count": 63,
      "outputs": [
        {
          "output_type": "execute_result",
          "data": {
            "text/html": [
              "<div>\n",
              "<style scoped>\n",
              "    .dataframe tbody tr th:only-of-type {\n",
              "        vertical-align: middle;\n",
              "    }\n",
              "\n",
              "    .dataframe tbody tr th {\n",
              "        vertical-align: top;\n",
              "    }\n",
              "\n",
              "    .dataframe thead th {\n",
              "        text-align: right;\n",
              "    }\n",
              "</style>\n",
              "<table border=\"1\" class=\"dataframe\">\n",
              "  <thead>\n",
              "    <tr style=\"text-align: right;\">\n",
              "      <th></th>\n",
              "      <th>Address</th>\n",
              "      <th>Txn_hash</th>\n",
              "      <th>blocks</th>\n",
              "      <th>date</th>\n",
              "      <th>from</th>\n",
              "      <th>txn_type</th>\n",
              "      <th>to</th>\n",
              "      <th>value</th>\n",
              "      <th>Txn_fee</th>\n",
              "    </tr>\n",
              "  </thead>\n",
              "  <tbody>\n",
              "    <tr>\n",
              "      <th>7008</th>\n",
              "      <td>0xd28c567f1b52119b32a3af6066c36149c2f86d12</td>\n",
              "      <td>0x90d18a025067aa61a72424b6dc013dfb4a570d4294be...</td>\n",
              "      <td>2590633</td>\n",
              "      <td>2016-11-08 18:12:13</td>\n",
              "      <td>0x218ceba34780a8681f3eac76f048696cc091d3d7</td>\n",
              "      <td>IN</td>\n",
              "      <td>0xd28c567f1b52119b32a3af6066c36149c2f86d12</td>\n",
              "      <td>0.000000000000000001000000000000</td>\n",
              "      <td>0.042544</td>\n",
              "    </tr>\n",
              "    <tr>\n",
              "      <th>7009</th>\n",
              "      <td>0xd28c567f1b52119b32a3af6066c36149c2f86d12</td>\n",
              "      <td>0xbab249a8dd0d42f0dc976615f75e6ad988f0a568b4cf...</td>\n",
              "      <td>2590608</td>\n",
              "      <td>2016-11-08 18:06:19</td>\n",
              "      <td>0x218ceba34780a8681f3eac76f048696cc091d3d7</td>\n",
              "      <td>IN</td>\n",
              "      <td>0xd28c567f1b52119b32a3af6066c36149c2f86d12</td>\n",
              "      <td>0.000000000000000001000000000000</td>\n",
              "      <td>0.042544</td>\n",
              "    </tr>\n",
              "    <tr>\n",
              "      <th>7010</th>\n",
              "      <td>0xd28c567f1b52119b32a3af6066c36149c2f86d12</td>\n",
              "      <td>0xfd766c6d78b26320e7d12223ab40f1ff93200e16a5fb...</td>\n",
              "      <td>2150626</td>\n",
              "      <td>2016-08-27 18:34:18</td>\n",
              "      <td>0xd28c567f1b52119b32a3af6066c36149c2f86d12</td>\n",
              "      <td>OUT</td>\n",
              "      <td>0x168ae36b4386cea14475faa41498a0ea63c67dd7</td>\n",
              "      <td>0.000000000000000010000000000000</td>\n",
              "      <td>0.000441</td>\n",
              "    </tr>\n",
              "    <tr>\n",
              "      <th>7011</th>\n",
              "      <td>0x738ca94db7ce8be1c3056cd6988eb376359f3353</td>\n",
              "      <td>0xe45c0baee8eec889f68ae02e18eca63098285f74aaa0...</td>\n",
              "      <td>8266002</td>\n",
              "      <td>2019-08-01 16:50:11</td>\n",
              "      <td>0x33538b3808aa60f88d9564bc93e2f70b51e79a55</td>\n",
              "      <td>IN</td>\n",
              "      <td>0x738ca94db7ce8be1c3056cd6988eb376359f3353</td>\n",
              "      <td>0.000000000000000911000000000000</td>\n",
              "      <td>0.000021</td>\n",
              "    </tr>\n",
              "    <tr>\n",
              "      <th>7012</th>\n",
              "      <td>0xde2204c30a452ea2c524f629fcd1e21de25ccd3d</td>\n",
              "      <td>0xedabccee2d1a8bda2a01ff56a7f33d2a5b33fcaf01ae...</td>\n",
              "      <td>8308331</td>\n",
              "      <td>2019-08-08 6:24:31</td>\n",
              "      <td>0xb83488322899d7e039bcec4f2cb6ee7b88303a4b</td>\n",
              "      <td>IN</td>\n",
              "      <td>0xde2204c30a452ea2c524f629fcd1e21de25ccd3d</td>\n",
              "      <td>0.000000000000000911000000000000</td>\n",
              "      <td>0.000042</td>\n",
              "    </tr>\n",
              "  </tbody>\n",
              "</table>\n",
              "</div>"
            ],
            "text/plain": [
              "                                         Address  ...   Txn_fee\n",
              "7008  0xd28c567f1b52119b32a3af6066c36149c2f86d12  ...  0.042544\n",
              "7009  0xd28c567f1b52119b32a3af6066c36149c2f86d12  ...  0.042544\n",
              "7010  0xd28c567f1b52119b32a3af6066c36149c2f86d12  ...  0.000441\n",
              "7011  0x738ca94db7ce8be1c3056cd6988eb376359f3353  ...  0.000021\n",
              "7012  0xde2204c30a452ea2c524f629fcd1e21de25ccd3d  ...  0.000042\n",
              "\n",
              "[5 rows x 9 columns]"
            ]
          },
          "metadata": {
            "tags": []
          },
          "execution_count": 63
        }
      ]
    },
    {
      "cell_type": "code",
      "metadata": {
        "id": "p3sxUJ6sbxXf",
        "colab_type": "code",
        "colab": {
          "base_uri": "https://localhost:8080/",
          "height": 47
        },
        "outputId": "8d5a0a45-67d7-4751-867b-49d64b10b5f2"
      },
      "source": [
        "a = transaction[transaction['value'].str.contains(pat = '[a-zA-Z]', regex = True) ]\n",
        "a.index = range(len(a))\n",
        "a\n"
      ],
      "execution_count": 64,
      "outputs": [
        {
          "output_type": "execute_result",
          "data": {
            "text/html": [
              "<div>\n",
              "<style scoped>\n",
              "    .dataframe tbody tr th:only-of-type {\n",
              "        vertical-align: middle;\n",
              "    }\n",
              "\n",
              "    .dataframe tbody tr th {\n",
              "        vertical-align: top;\n",
              "    }\n",
              "\n",
              "    .dataframe thead th {\n",
              "        text-align: right;\n",
              "    }\n",
              "</style>\n",
              "<table border=\"1\" class=\"dataframe\">\n",
              "  <thead>\n",
              "    <tr style=\"text-align: right;\">\n",
              "      <th></th>\n",
              "      <th>Address</th>\n",
              "      <th>Txn_hash</th>\n",
              "      <th>blocks</th>\n",
              "      <th>date</th>\n",
              "      <th>from</th>\n",
              "      <th>txn_type</th>\n",
              "      <th>to</th>\n",
              "      <th>value</th>\n",
              "      <th>Txn_fee</th>\n",
              "    </tr>\n",
              "  </thead>\n",
              "  <tbody>\n",
              "  </tbody>\n",
              "</table>\n",
              "</div>"
            ],
            "text/plain": [
              "Empty DataFrame\n",
              "Columns: [Address, Txn_hash, blocks, date, from, txn_type, to, value, Txn_fee]\n",
              "Index: []"
            ]
          },
          "metadata": {
            "tags": []
          },
          "execution_count": 64
        }
      ]
    },
    {
      "cell_type": "code",
      "metadata": {
        "id": "2I2fauRLdkx-",
        "colab_type": "code",
        "colab": {}
      },
      "source": [
        "transaction['value'] = pd.to_numeric(transaction['value'])\n",
        "transaction['Txn_fee'] = pd.to_numeric(transaction['Txn_fee'])"
      ],
      "execution_count": 0,
      "outputs": []
    },
    {
      "cell_type": "code",
      "metadata": {
        "id": "YkUuNYY5ero8",
        "colab_type": "code",
        "colab": {
          "base_uri": "https://localhost:8080/",
          "height": 184
        },
        "outputId": "064948f3-5cfb-4edd-a8ec-412912cfdb61"
      },
      "source": [
        "transaction.dtypes"
      ],
      "execution_count": 66,
      "outputs": [
        {
          "output_type": "execute_result",
          "data": {
            "text/plain": [
              "Address      object\n",
              "Txn_hash     object\n",
              "blocks       object\n",
              "date         object\n",
              "from         object\n",
              "txn_type     object\n",
              "to           object\n",
              "value       float64\n",
              "Txn_fee     float64\n",
              "dtype: object"
            ]
          },
          "metadata": {
            "tags": []
          },
          "execution_count": 66
        }
      ]
    },
    {
      "cell_type": "code",
      "metadata": {
        "id": "n4vblpWefeBS",
        "colab_type": "code",
        "colab": {}
      },
      "source": [
        "# transaction['date'] =transaction['date'].str"
      ],
      "execution_count": 0,
      "outputs": []
    },
    {
      "cell_type": "code",
      "metadata": {
        "id": "LInCN-6bgreo",
        "colab_type": "code",
        "colab": {
          "base_uri": "https://localhost:8080/",
          "height": 184
        },
        "outputId": "15272003-755f-4cd7-ee12-7ee79fa3f23f"
      },
      "source": [
        "transaction.dtypes"
      ],
      "execution_count": 68,
      "outputs": [
        {
          "output_type": "execute_result",
          "data": {
            "text/plain": [
              "Address      object\n",
              "Txn_hash     object\n",
              "blocks       object\n",
              "date         object\n",
              "from         object\n",
              "txn_type     object\n",
              "to           object\n",
              "value       float64\n",
              "Txn_fee     float64\n",
              "dtype: object"
            ]
          },
          "metadata": {
            "tags": []
          },
          "execution_count": 68
        }
      ]
    },
    {
      "cell_type": "code",
      "metadata": {
        "id": "FEOaiZ2Xk9ck",
        "colab_type": "code",
        "colab": {}
      },
      "source": [
        ""
      ],
      "execution_count": 0,
      "outputs": []
    },
    {
      "cell_type": "code",
      "metadata": {
        "id": "kRCH0TY7e4md",
        "colab_type": "code",
        "colab": {}
      },
      "source": [
        "# split the 'date' column into 2 columns \n",
        "transaction[['Date','Time']] = transaction['date'].str.split(\" \", n = 1, expand = True)\n",
        "\n",
        "# n - int, default -1 (all)\n",
        "# Limit number of splits in output. None, 0 and -1 will be interpreted as return all splits.\n",
        "\n",
        "# expand - bool, default False\n",
        "# Expand the splitted strings into separate columns."
      ],
      "execution_count": 0,
      "outputs": []
    },
    {
      "cell_type": "code",
      "metadata": {
        "id": "9RQShGtLkKeh",
        "colab_type": "code",
        "colab": {
          "base_uri": "https://localhost:8080/",
          "height": 384
        },
        "outputId": "d26379be-90a2-4363-c5c9-50913252aea0"
      },
      "source": [
        "transaction.head()"
      ],
      "execution_count": 71,
      "outputs": [
        {
          "output_type": "execute_result",
          "data": {
            "text/html": [
              "<div>\n",
              "<style scoped>\n",
              "    .dataframe tbody tr th:only-of-type {\n",
              "        vertical-align: middle;\n",
              "    }\n",
              "\n",
              "    .dataframe tbody tr th {\n",
              "        vertical-align: top;\n",
              "    }\n",
              "\n",
              "    .dataframe thead th {\n",
              "        text-align: right;\n",
              "    }\n",
              "</style>\n",
              "<table border=\"1\" class=\"dataframe\">\n",
              "  <thead>\n",
              "    <tr style=\"text-align: right;\">\n",
              "      <th></th>\n",
              "      <th>Address</th>\n",
              "      <th>Txn_hash</th>\n",
              "      <th>blocks</th>\n",
              "      <th>date</th>\n",
              "      <th>from</th>\n",
              "      <th>txn_type</th>\n",
              "      <th>to</th>\n",
              "      <th>value</th>\n",
              "      <th>Txn_fee</th>\n",
              "      <th>Date</th>\n",
              "      <th>Time</th>\n",
              "    </tr>\n",
              "  </thead>\n",
              "  <tbody>\n",
              "    <tr>\n",
              "      <th>0</th>\n",
              "      <td>0xc02aaa39b223fe8d0a0e5c4f27ead9083c756cc2</td>\n",
              "      <td>0x42fe81fda028289414af65fe31405a10289aba37f726...</td>\n",
              "      <td>9473503</td>\n",
              "      <td>2020-02-13 8:10:18</td>\n",
              "      <td>0x6924a03bb710eaf199ab6ac9f2bb148215ae9b5d</td>\n",
              "      <td>IN</td>\n",
              "      <td>Wrapped Ether</td>\n",
              "      <td>105.0851</td>\n",
              "      <td>0.000575</td>\n",
              "      <td>2020-02-13</td>\n",
              "      <td>8:10:18</td>\n",
              "    </tr>\n",
              "    <tr>\n",
              "      <th>1</th>\n",
              "      <td>0xc02aaa39b223fe8d0a0e5c4f27ead9083c756cc2</td>\n",
              "      <td>0x0d19386ac886ef8e507267a783144fdeace2f2e25982...</td>\n",
              "      <td>9473495</td>\n",
              "      <td>2020-02-13 8:08:48</td>\n",
              "      <td>0x8641df2d7c730a8a24db86693fc39f7a74dd4e9d</td>\n",
              "      <td>IN</td>\n",
              "      <td>Wrapped Ether</td>\n",
              "      <td>0.0000</td>\n",
              "      <td>0.000331</td>\n",
              "      <td>2020-02-13</td>\n",
              "      <td>8:08:48</td>\n",
              "    </tr>\n",
              "    <tr>\n",
              "      <th>2</th>\n",
              "      <td>0xc02aaa39b223fe8d0a0e5c4f27ead9083c756cc2</td>\n",
              "      <td>0x1db51d64c3dc5cacee3226b72f2eeec62674573b825b...</td>\n",
              "      <td>9473495</td>\n",
              "      <td>2020-02-13 8:08:48</td>\n",
              "      <td>0x6924a03bb710eaf199ab6ac9f2bb148215ae9b5d</td>\n",
              "      <td>IN</td>\n",
              "      <td>Wrapped Ether</td>\n",
              "      <td>52.8422</td>\n",
              "      <td>0.000575</td>\n",
              "      <td>2020-02-13</td>\n",
              "      <td>8:08:48</td>\n",
              "    </tr>\n",
              "    <tr>\n",
              "      <th>3</th>\n",
              "      <td>0xc02aaa39b223fe8d0a0e5c4f27ead9083c756cc2</td>\n",
              "      <td>0x5c7d53d2687c483fd1c7a2956837cd35ae091005fad0...</td>\n",
              "      <td>9473484</td>\n",
              "      <td>2020-02-13 8:06:22</td>\n",
              "      <td>0xd6afa1ba3a8766212471fb19f62b9dbeafc8e4d3</td>\n",
              "      <td>IN</td>\n",
              "      <td>Wrapped Ether</td>\n",
              "      <td>0.0000</td>\n",
              "      <td>0.000280</td>\n",
              "      <td>2020-02-13</td>\n",
              "      <td>8:06:22</td>\n",
              "    </tr>\n",
              "    <tr>\n",
              "      <th>4</th>\n",
              "      <td>0xc02aaa39b223fe8d0a0e5c4f27ead9083c756cc2</td>\n",
              "      <td>0x7cf7985444fab4413495374c091848690b5205c1c334...</td>\n",
              "      <td>9473477</td>\n",
              "      <td>2020-02-13 8:04:14</td>\n",
              "      <td>0x6924a03bb710eaf199ab6ac9f2bb148215ae9b5d</td>\n",
              "      <td>IN</td>\n",
              "      <td>Wrapped Ether</td>\n",
              "      <td>97.6113</td>\n",
              "      <td>0.000575</td>\n",
              "      <td>2020-02-13</td>\n",
              "      <td>8:04:14</td>\n",
              "    </tr>\n",
              "  </tbody>\n",
              "</table>\n",
              "</div>"
            ],
            "text/plain": [
              "                                      Address  ...     Time\n",
              "0  0xc02aaa39b223fe8d0a0e5c4f27ead9083c756cc2  ...  8:10:18\n",
              "1  0xc02aaa39b223fe8d0a0e5c4f27ead9083c756cc2  ...  8:08:48\n",
              "2  0xc02aaa39b223fe8d0a0e5c4f27ead9083c756cc2  ...  8:08:48\n",
              "3  0xc02aaa39b223fe8d0a0e5c4f27ead9083c756cc2  ...  8:06:22\n",
              "4  0xc02aaa39b223fe8d0a0e5c4f27ead9083c756cc2  ...  8:04:14\n",
              "\n",
              "[5 rows x 11 columns]"
            ]
          },
          "metadata": {
            "tags": []
          },
          "execution_count": 71
        }
      ]
    },
    {
      "cell_type": "code",
      "metadata": {
        "id": "SfD4guHQoz17",
        "colab_type": "code",
        "colab": {}
      },
      "source": [
        "transaction[['Year','Month','Day']] = transaction['Date'].str.split(\"-\", n = 2, expand = True).astype('str')"
      ],
      "execution_count": 0,
      "outputs": []
    },
    {
      "cell_type": "code",
      "metadata": {
        "id": "vzuyMcTisVEP",
        "colab_type": "code",
        "colab": {
          "base_uri": "https://localhost:8080/",
          "height": 384
        },
        "outputId": "470d4e1e-baa0-4a61-8ec0-29f9ee860d31"
      },
      "source": [
        "transaction.head()"
      ],
      "execution_count": 73,
      "outputs": [
        {
          "output_type": "execute_result",
          "data": {
            "text/html": [
              "<div>\n",
              "<style scoped>\n",
              "    .dataframe tbody tr th:only-of-type {\n",
              "        vertical-align: middle;\n",
              "    }\n",
              "\n",
              "    .dataframe tbody tr th {\n",
              "        vertical-align: top;\n",
              "    }\n",
              "\n",
              "    .dataframe thead th {\n",
              "        text-align: right;\n",
              "    }\n",
              "</style>\n",
              "<table border=\"1\" class=\"dataframe\">\n",
              "  <thead>\n",
              "    <tr style=\"text-align: right;\">\n",
              "      <th></th>\n",
              "      <th>Address</th>\n",
              "      <th>Txn_hash</th>\n",
              "      <th>blocks</th>\n",
              "      <th>date</th>\n",
              "      <th>from</th>\n",
              "      <th>txn_type</th>\n",
              "      <th>to</th>\n",
              "      <th>value</th>\n",
              "      <th>Txn_fee</th>\n",
              "      <th>Date</th>\n",
              "      <th>Time</th>\n",
              "      <th>Year</th>\n",
              "      <th>Month</th>\n",
              "      <th>Day</th>\n",
              "    </tr>\n",
              "  </thead>\n",
              "  <tbody>\n",
              "    <tr>\n",
              "      <th>0</th>\n",
              "      <td>0xc02aaa39b223fe8d0a0e5c4f27ead9083c756cc2</td>\n",
              "      <td>0x42fe81fda028289414af65fe31405a10289aba37f726...</td>\n",
              "      <td>9473503</td>\n",
              "      <td>2020-02-13 8:10:18</td>\n",
              "      <td>0x6924a03bb710eaf199ab6ac9f2bb148215ae9b5d</td>\n",
              "      <td>IN</td>\n",
              "      <td>Wrapped Ether</td>\n",
              "      <td>105.0851</td>\n",
              "      <td>0.000575</td>\n",
              "      <td>2020-02-13</td>\n",
              "      <td>8:10:18</td>\n",
              "      <td>2020</td>\n",
              "      <td>02</td>\n",
              "      <td>13</td>\n",
              "    </tr>\n",
              "    <tr>\n",
              "      <th>1</th>\n",
              "      <td>0xc02aaa39b223fe8d0a0e5c4f27ead9083c756cc2</td>\n",
              "      <td>0x0d19386ac886ef8e507267a783144fdeace2f2e25982...</td>\n",
              "      <td>9473495</td>\n",
              "      <td>2020-02-13 8:08:48</td>\n",
              "      <td>0x8641df2d7c730a8a24db86693fc39f7a74dd4e9d</td>\n",
              "      <td>IN</td>\n",
              "      <td>Wrapped Ether</td>\n",
              "      <td>0.0000</td>\n",
              "      <td>0.000331</td>\n",
              "      <td>2020-02-13</td>\n",
              "      <td>8:08:48</td>\n",
              "      <td>2020</td>\n",
              "      <td>02</td>\n",
              "      <td>13</td>\n",
              "    </tr>\n",
              "    <tr>\n",
              "      <th>2</th>\n",
              "      <td>0xc02aaa39b223fe8d0a0e5c4f27ead9083c756cc2</td>\n",
              "      <td>0x1db51d64c3dc5cacee3226b72f2eeec62674573b825b...</td>\n",
              "      <td>9473495</td>\n",
              "      <td>2020-02-13 8:08:48</td>\n",
              "      <td>0x6924a03bb710eaf199ab6ac9f2bb148215ae9b5d</td>\n",
              "      <td>IN</td>\n",
              "      <td>Wrapped Ether</td>\n",
              "      <td>52.8422</td>\n",
              "      <td>0.000575</td>\n",
              "      <td>2020-02-13</td>\n",
              "      <td>8:08:48</td>\n",
              "      <td>2020</td>\n",
              "      <td>02</td>\n",
              "      <td>13</td>\n",
              "    </tr>\n",
              "    <tr>\n",
              "      <th>3</th>\n",
              "      <td>0xc02aaa39b223fe8d0a0e5c4f27ead9083c756cc2</td>\n",
              "      <td>0x5c7d53d2687c483fd1c7a2956837cd35ae091005fad0...</td>\n",
              "      <td>9473484</td>\n",
              "      <td>2020-02-13 8:06:22</td>\n",
              "      <td>0xd6afa1ba3a8766212471fb19f62b9dbeafc8e4d3</td>\n",
              "      <td>IN</td>\n",
              "      <td>Wrapped Ether</td>\n",
              "      <td>0.0000</td>\n",
              "      <td>0.000280</td>\n",
              "      <td>2020-02-13</td>\n",
              "      <td>8:06:22</td>\n",
              "      <td>2020</td>\n",
              "      <td>02</td>\n",
              "      <td>13</td>\n",
              "    </tr>\n",
              "    <tr>\n",
              "      <th>4</th>\n",
              "      <td>0xc02aaa39b223fe8d0a0e5c4f27ead9083c756cc2</td>\n",
              "      <td>0x7cf7985444fab4413495374c091848690b5205c1c334...</td>\n",
              "      <td>9473477</td>\n",
              "      <td>2020-02-13 8:04:14</td>\n",
              "      <td>0x6924a03bb710eaf199ab6ac9f2bb148215ae9b5d</td>\n",
              "      <td>IN</td>\n",
              "      <td>Wrapped Ether</td>\n",
              "      <td>97.6113</td>\n",
              "      <td>0.000575</td>\n",
              "      <td>2020-02-13</td>\n",
              "      <td>8:04:14</td>\n",
              "      <td>2020</td>\n",
              "      <td>02</td>\n",
              "      <td>13</td>\n",
              "    </tr>\n",
              "  </tbody>\n",
              "</table>\n",
              "</div>"
            ],
            "text/plain": [
              "                                      Address  ... Day\n",
              "0  0xc02aaa39b223fe8d0a0e5c4f27ead9083c756cc2  ...  13\n",
              "1  0xc02aaa39b223fe8d0a0e5c4f27ead9083c756cc2  ...  13\n",
              "2  0xc02aaa39b223fe8d0a0e5c4f27ead9083c756cc2  ...  13\n",
              "3  0xc02aaa39b223fe8d0a0e5c4f27ead9083c756cc2  ...  13\n",
              "4  0xc02aaa39b223fe8d0a0e5c4f27ead9083c756cc2  ...  13\n",
              "\n",
              "[5 rows x 14 columns]"
            ]
          },
          "metadata": {
            "tags": []
          },
          "execution_count": 73
        }
      ]
    },
    {
      "cell_type": "code",
      "metadata": {
        "id": "A9Ny3SnpsYP9",
        "colab_type": "code",
        "colab": {}
      },
      "source": [
        "transaction = transaction.drop('date',axis=1)\n",
        "transaction = transaction.drop('Date',axis=1)"
      ],
      "execution_count": 0,
      "outputs": []
    },
    {
      "cell_type": "code",
      "metadata": {
        "id": "zwmk2FmrsppH",
        "colab_type": "code",
        "colab": {
          "base_uri": "https://localhost:8080/",
          "height": 300
        },
        "outputId": "4feb33fd-ce16-4abd-fccb-dbf76b533808"
      },
      "source": [
        "transaction.head()"
      ],
      "execution_count": 75,
      "outputs": [
        {
          "output_type": "execute_result",
          "data": {
            "text/html": [
              "<div>\n",
              "<style scoped>\n",
              "    .dataframe tbody tr th:only-of-type {\n",
              "        vertical-align: middle;\n",
              "    }\n",
              "\n",
              "    .dataframe tbody tr th {\n",
              "        vertical-align: top;\n",
              "    }\n",
              "\n",
              "    .dataframe thead th {\n",
              "        text-align: right;\n",
              "    }\n",
              "</style>\n",
              "<table border=\"1\" class=\"dataframe\">\n",
              "  <thead>\n",
              "    <tr style=\"text-align: right;\">\n",
              "      <th></th>\n",
              "      <th>Address</th>\n",
              "      <th>Txn_hash</th>\n",
              "      <th>blocks</th>\n",
              "      <th>from</th>\n",
              "      <th>txn_type</th>\n",
              "      <th>to</th>\n",
              "      <th>value</th>\n",
              "      <th>Txn_fee</th>\n",
              "      <th>Time</th>\n",
              "      <th>Year</th>\n",
              "      <th>Month</th>\n",
              "      <th>Day</th>\n",
              "    </tr>\n",
              "  </thead>\n",
              "  <tbody>\n",
              "    <tr>\n",
              "      <th>0</th>\n",
              "      <td>0xc02aaa39b223fe8d0a0e5c4f27ead9083c756cc2</td>\n",
              "      <td>0x42fe81fda028289414af65fe31405a10289aba37f726...</td>\n",
              "      <td>9473503</td>\n",
              "      <td>0x6924a03bb710eaf199ab6ac9f2bb148215ae9b5d</td>\n",
              "      <td>IN</td>\n",
              "      <td>Wrapped Ether</td>\n",
              "      <td>105.0851</td>\n",
              "      <td>0.000575</td>\n",
              "      <td>8:10:18</td>\n",
              "      <td>2020</td>\n",
              "      <td>02</td>\n",
              "      <td>13</td>\n",
              "    </tr>\n",
              "    <tr>\n",
              "      <th>1</th>\n",
              "      <td>0xc02aaa39b223fe8d0a0e5c4f27ead9083c756cc2</td>\n",
              "      <td>0x0d19386ac886ef8e507267a783144fdeace2f2e25982...</td>\n",
              "      <td>9473495</td>\n",
              "      <td>0x8641df2d7c730a8a24db86693fc39f7a74dd4e9d</td>\n",
              "      <td>IN</td>\n",
              "      <td>Wrapped Ether</td>\n",
              "      <td>0.0000</td>\n",
              "      <td>0.000331</td>\n",
              "      <td>8:08:48</td>\n",
              "      <td>2020</td>\n",
              "      <td>02</td>\n",
              "      <td>13</td>\n",
              "    </tr>\n",
              "    <tr>\n",
              "      <th>2</th>\n",
              "      <td>0xc02aaa39b223fe8d0a0e5c4f27ead9083c756cc2</td>\n",
              "      <td>0x1db51d64c3dc5cacee3226b72f2eeec62674573b825b...</td>\n",
              "      <td>9473495</td>\n",
              "      <td>0x6924a03bb710eaf199ab6ac9f2bb148215ae9b5d</td>\n",
              "      <td>IN</td>\n",
              "      <td>Wrapped Ether</td>\n",
              "      <td>52.8422</td>\n",
              "      <td>0.000575</td>\n",
              "      <td>8:08:48</td>\n",
              "      <td>2020</td>\n",
              "      <td>02</td>\n",
              "      <td>13</td>\n",
              "    </tr>\n",
              "    <tr>\n",
              "      <th>3</th>\n",
              "      <td>0xc02aaa39b223fe8d0a0e5c4f27ead9083c756cc2</td>\n",
              "      <td>0x5c7d53d2687c483fd1c7a2956837cd35ae091005fad0...</td>\n",
              "      <td>9473484</td>\n",
              "      <td>0xd6afa1ba3a8766212471fb19f62b9dbeafc8e4d3</td>\n",
              "      <td>IN</td>\n",
              "      <td>Wrapped Ether</td>\n",
              "      <td>0.0000</td>\n",
              "      <td>0.000280</td>\n",
              "      <td>8:06:22</td>\n",
              "      <td>2020</td>\n",
              "      <td>02</td>\n",
              "      <td>13</td>\n",
              "    </tr>\n",
              "    <tr>\n",
              "      <th>4</th>\n",
              "      <td>0xc02aaa39b223fe8d0a0e5c4f27ead9083c756cc2</td>\n",
              "      <td>0x7cf7985444fab4413495374c091848690b5205c1c334...</td>\n",
              "      <td>9473477</td>\n",
              "      <td>0x6924a03bb710eaf199ab6ac9f2bb148215ae9b5d</td>\n",
              "      <td>IN</td>\n",
              "      <td>Wrapped Ether</td>\n",
              "      <td>97.6113</td>\n",
              "      <td>0.000575</td>\n",
              "      <td>8:04:14</td>\n",
              "      <td>2020</td>\n",
              "      <td>02</td>\n",
              "      <td>13</td>\n",
              "    </tr>\n",
              "  </tbody>\n",
              "</table>\n",
              "</div>"
            ],
            "text/plain": [
              "                                      Address  ... Day\n",
              "0  0xc02aaa39b223fe8d0a0e5c4f27ead9083c756cc2  ...  13\n",
              "1  0xc02aaa39b223fe8d0a0e5c4f27ead9083c756cc2  ...  13\n",
              "2  0xc02aaa39b223fe8d0a0e5c4f27ead9083c756cc2  ...  13\n",
              "3  0xc02aaa39b223fe8d0a0e5c4f27ead9083c756cc2  ...  13\n",
              "4  0xc02aaa39b223fe8d0a0e5c4f27ead9083c756cc2  ...  13\n",
              "\n",
              "[5 rows x 12 columns]"
            ]
          },
          "metadata": {
            "tags": []
          },
          "execution_count": 75
        }
      ]
    },
    {
      "cell_type": "code",
      "metadata": {
        "id": "WGZCnB4LuTzT",
        "colab_type": "code",
        "colab": {
          "base_uri": "https://localhost:8080/",
          "height": 234
        },
        "outputId": "e4ac719e-201a-45c6-e8c5-6a85ab825f11"
      },
      "source": [
        "transaction.dtypes"
      ],
      "execution_count": 76,
      "outputs": [
        {
          "output_type": "execute_result",
          "data": {
            "text/plain": [
              "Address      object\n",
              "Txn_hash     object\n",
              "blocks       object\n",
              "from         object\n",
              "txn_type     object\n",
              "to           object\n",
              "value       float64\n",
              "Txn_fee     float64\n",
              "Time         object\n",
              "Year         object\n",
              "Month        object\n",
              "Day          object\n",
              "dtype: object"
            ]
          },
          "metadata": {
            "tags": []
          },
          "execution_count": 76
        }
      ]
    },
    {
      "cell_type": "code",
      "metadata": {
        "id": "YYRl1JX-s5T-",
        "colab_type": "code",
        "colab": {
          "base_uri": "https://localhost:8080/",
          "height": 424
        },
        "outputId": "0b161e26-2ed1-40f0-861e-c2c429369f56"
      },
      "source": [
        "transaction.loc[transaction[\"txn_type\"]==\"OUT\"]\n"
      ],
      "execution_count": 87,
      "outputs": [
        {
          "output_type": "execute_result",
          "data": {
            "text/html": [
              "<div>\n",
              "<style scoped>\n",
              "    .dataframe tbody tr th:only-of-type {\n",
              "        vertical-align: middle;\n",
              "    }\n",
              "\n",
              "    .dataframe tbody tr th {\n",
              "        vertical-align: top;\n",
              "    }\n",
              "\n",
              "    .dataframe thead th {\n",
              "        text-align: right;\n",
              "    }\n",
              "</style>\n",
              "<table border=\"1\" class=\"dataframe\">\n",
              "  <thead>\n",
              "    <tr style=\"text-align: right;\">\n",
              "      <th></th>\n",
              "      <th>Address</th>\n",
              "      <th>Txn_hash</th>\n",
              "      <th>blocks</th>\n",
              "      <th>from</th>\n",
              "      <th>txn_type</th>\n",
              "      <th>to</th>\n",
              "      <th>value</th>\n",
              "      <th>Txn_fee</th>\n",
              "      <th>Time</th>\n",
              "      <th>Year</th>\n",
              "      <th>Month</th>\n",
              "      <th>Day</th>\n",
              "    </tr>\n",
              "  </thead>\n",
              "  <tbody>\n",
              "    <tr>\n",
              "      <th>21</th>\n",
              "      <td>0xbe0eb53f46cd790cd13851d5eff43d12404d33e8</td>\n",
              "      <td>0xb23b77fb979573b39802111e75cb634736a95dd0fb1b...</td>\n",
              "      <td>9468817</td>\n",
              "      <td>Binance 7</td>\n",
              "      <td>OUT</td>\n",
              "      <td>Binance USD</td>\n",
              "      <td>0.000000e+00</td>\n",
              "      <td>0.000523</td>\n",
              "      <td>14:57:07</td>\n",
              "      <td>2020</td>\n",
              "      <td>02</td>\n",
              "      <td>12</td>\n",
              "    </tr>\n",
              "    <tr>\n",
              "      <th>22</th>\n",
              "      <td>0xbe0eb53f46cd790cd13851d5eff43d12404d33e8</td>\n",
              "      <td>0x5c67d262ec4eb7edda121d37ee8915a85d1df8f8746a...</td>\n",
              "      <td>9468808</td>\n",
              "      <td>Binance 7</td>\n",
              "      <td>OUT</td>\n",
              "      <td>ChainLink Token</td>\n",
              "      <td>0.000000e+00</td>\n",
              "      <td>0.000465</td>\n",
              "      <td>14:55:12</td>\n",
              "      <td>2020</td>\n",
              "      <td>02</td>\n",
              "      <td>12</td>\n",
              "    </tr>\n",
              "    <tr>\n",
              "      <th>23</th>\n",
              "      <td>0xbe0eb53f46cd790cd13851d5eff43d12404d33e8</td>\n",
              "      <td>0xff7e2c6b2da701a8f4daec1ce05b8bc8689109d4d04a...</td>\n",
              "      <td>9437041</td>\n",
              "      <td>Binance 7</td>\n",
              "      <td>OUT</td>\n",
              "      <td>Crypto.com: MCO Token</td>\n",
              "      <td>0.000000e+00</td>\n",
              "      <td>0.000422</td>\n",
              "      <td>17:53:32</td>\n",
              "      <td>2020</td>\n",
              "      <td>02</td>\n",
              "      <td>07</td>\n",
              "    </tr>\n",
              "    <tr>\n",
              "      <th>24</th>\n",
              "      <td>0xbe0eb53f46cd790cd13851d5eff43d12404d33e8</td>\n",
              "      <td>0xd954cae00768b1a0372f59a5ee25d297039a246a7cf4...</td>\n",
              "      <td>9429698</td>\n",
              "      <td>Binance 7</td>\n",
              "      <td>OUT</td>\n",
              "      <td>Binance USD</td>\n",
              "      <td>0.000000e+00</td>\n",
              "      <td>0.000523</td>\n",
              "      <td>14:38:54</td>\n",
              "      <td>2020</td>\n",
              "      <td>02</td>\n",
              "      <td>06</td>\n",
              "    </tr>\n",
              "    <tr>\n",
              "      <th>25</th>\n",
              "      <td>0xbe0eb53f46cd790cd13851d5eff43d12404d33e8</td>\n",
              "      <td>0xcc7349a90d72b37829bda7b869829bbff58e5f4a46bf...</td>\n",
              "      <td>9429470</td>\n",
              "      <td>Binance 7</td>\n",
              "      <td>OUT</td>\n",
              "      <td>Monetha Token</td>\n",
              "      <td>0.000000e+00</td>\n",
              "      <td>0.000478</td>\n",
              "      <td>13:51:26</td>\n",
              "      <td>2020</td>\n",
              "      <td>02</td>\n",
              "      <td>06</td>\n",
              "    </tr>\n",
              "    <tr>\n",
              "      <th>...</th>\n",
              "      <td>...</td>\n",
              "      <td>...</td>\n",
              "      <td>...</td>\n",
              "      <td>...</td>\n",
              "      <td>...</td>\n",
              "      <td>...</td>\n",
              "      <td>...</td>\n",
              "      <td>...</td>\n",
              "      <td>...</td>\n",
              "      <td>...</td>\n",
              "      <td>...</td>\n",
              "      <td>...</td>\n",
              "    </tr>\n",
              "    <tr>\n",
              "      <th>6934</th>\n",
              "      <td>0xab5801a7d398351b8be11c439e05c5b3259aec9b</td>\n",
              "      <td>0x55827e740d20aba2a8238b7d63c9c416156eef5fda8d...</td>\n",
              "      <td>9451287</td>\n",
              "      <td>Vb</td>\n",
              "      <td>OUT</td>\n",
              "      <td>Vb 2</td>\n",
              "      <td>1.000000e-18</td>\n",
              "      <td>0.000420</td>\n",
              "      <td>22:27:45</td>\n",
              "      <td>2020</td>\n",
              "      <td>02</td>\n",
              "      <td>09</td>\n",
              "    </tr>\n",
              "    <tr>\n",
              "      <th>6958</th>\n",
              "      <td>0xceffc7330317f72957c662d072a5e7d63b9b578c</td>\n",
              "      <td>0xdebfbe4662148f1efa3ca183f21046240776f149e98b...</td>\n",
              "      <td>870130</td>\n",
              "      <td>0xceffc7330317f72957c662d072a5e7d63b9b578c</td>\n",
              "      <td>OUT</td>\n",
              "      <td>0x6bc7dfb59db547bb26abf7edfa85e42034671fba</td>\n",
              "      <td>1.000000e-18</td>\n",
              "      <td>0.001050</td>\n",
              "      <td>2:32:23</td>\n",
              "      <td>2016</td>\n",
              "      <td>01</td>\n",
              "      <td>19</td>\n",
              "    </tr>\n",
              "    <tr>\n",
              "      <th>6972</th>\n",
              "      <td>0x5a85aafa7fbca99ea32df27c33b14831feeb20f9</td>\n",
              "      <td>0x415d9fecb21c3558c84c15694f88f4663f94b8e275c2...</td>\n",
              "      <td>897531</td>\n",
              "      <td>0x5a85aafa7fbca99ea32df27c33b14831feeb20f9</td>\n",
              "      <td>OUT</td>\n",
              "      <td>0xb3cd10f9b917521b8e4ad5758aa98fe52f199ca5</td>\n",
              "      <td>1.000000e-18</td>\n",
              "      <td>0.001050</td>\n",
              "      <td>14:07:06</td>\n",
              "      <td>2016</td>\n",
              "      <td>01</td>\n",
              "      <td>24</td>\n",
              "    </tr>\n",
              "    <tr>\n",
              "      <th>6973</th>\n",
              "      <td>0x5a85aafa7fbca99ea32df27c33b14831feeb20f9</td>\n",
              "      <td>0x82ab29a87d084f431b994dc3ed0d9782f4c272d08e2d...</td>\n",
              "      <td>882993</td>\n",
              "      <td>0x5a85aafa7fbca99ea32df27c33b14831feeb20f9</td>\n",
              "      <td>OUT</td>\n",
              "      <td>0xceffc7330317f72957c662d072a5e7d63b9b578c</td>\n",
              "      <td>1.000000e-16</td>\n",
              "      <td>0.001050</td>\n",
              "      <td>16:08:58</td>\n",
              "      <td>2016</td>\n",
              "      <td>01</td>\n",
              "      <td>21</td>\n",
              "    </tr>\n",
              "    <tr>\n",
              "      <th>7010</th>\n",
              "      <td>0xd28c567f1b52119b32a3af6066c36149c2f86d12</td>\n",
              "      <td>0xfd766c6d78b26320e7d12223ab40f1ff93200e16a5fb...</td>\n",
              "      <td>2150626</td>\n",
              "      <td>0xd28c567f1b52119b32a3af6066c36149c2f86d12</td>\n",
              "      <td>OUT</td>\n",
              "      <td>0x168ae36b4386cea14475faa41498a0ea63c67dd7</td>\n",
              "      <td>1.000000e-17</td>\n",
              "      <td>0.000441</td>\n",
              "      <td>18:34:18</td>\n",
              "      <td>2016</td>\n",
              "      <td>08</td>\n",
              "      <td>27</td>\n",
              "    </tr>\n",
              "  </tbody>\n",
              "</table>\n",
              "<p>2065 rows × 12 columns</p>\n",
              "</div>"
            ],
            "text/plain": [
              "                                         Address  ... Day\n",
              "21    0xbe0eb53f46cd790cd13851d5eff43d12404d33e8  ...  12\n",
              "22    0xbe0eb53f46cd790cd13851d5eff43d12404d33e8  ...  12\n",
              "23    0xbe0eb53f46cd790cd13851d5eff43d12404d33e8  ...  07\n",
              "24    0xbe0eb53f46cd790cd13851d5eff43d12404d33e8  ...  06\n",
              "25    0xbe0eb53f46cd790cd13851d5eff43d12404d33e8  ...  06\n",
              "...                                          ...  ...  ..\n",
              "6934  0xab5801a7d398351b8be11c439e05c5b3259aec9b  ...  09\n",
              "6958  0xceffc7330317f72957c662d072a5e7d63b9b578c  ...  19\n",
              "6972  0x5a85aafa7fbca99ea32df27c33b14831feeb20f9  ...  24\n",
              "6973  0x5a85aafa7fbca99ea32df27c33b14831feeb20f9  ...  21\n",
              "7010  0xd28c567f1b52119b32a3af6066c36149c2f86d12  ...  27\n",
              "\n",
              "[2065 rows x 12 columns]"
            ]
          },
          "metadata": {
            "tags": []
          },
          "execution_count": 87
        }
      ]
    },
    {
      "cell_type": "code",
      "metadata": {
        "id": "fmAsQqtHtVwv",
        "colab_type": "code",
        "colab": {
          "base_uri": "https://localhost:8080/",
          "height": 33
        },
        "outputId": "340ac19c-7372-4ed4-ca79-13b91877e6ba"
      },
      "source": [
        "transaction['txn_type'].iloc[0]"
      ],
      "execution_count": 88,
      "outputs": [
        {
          "output_type": "execute_result",
          "data": {
            "text/plain": [
              "'\\xa0IN\\xa0'"
            ]
          },
          "metadata": {
            "tags": []
          },
          "execution_count": 88
        }
      ]
    },
    {
      "cell_type": "code",
      "metadata": {
        "id": "FkYU2g-Ovkvj",
        "colab_type": "code",
        "colab": {}
      },
      "source": [
        "transaction[\"txn_type\"] = transaction[\"txn_type\"].str.replace('\\xa0','')"
      ],
      "execution_count": 0,
      "outputs": []
    },
    {
      "cell_type": "code",
      "metadata": {
        "id": "0Sb-DX4hwUIa",
        "colab_type": "code",
        "colab": {
          "base_uri": "https://localhost:8080/",
          "height": 33
        },
        "outputId": "f5ddf652-ddf7-4c5b-fa05-f064cad8849f"
      },
      "source": [
        "transaction['txn_type'].iloc[0]"
      ],
      "execution_count": 90,
      "outputs": [
        {
          "output_type": "execute_result",
          "data": {
            "text/plain": [
              "'IN'"
            ]
          },
          "metadata": {
            "tags": []
          },
          "execution_count": 90
        }
      ]
    },
    {
      "cell_type": "code",
      "metadata": {
        "id": "1BSjE1hRwWX6",
        "colab_type": "code",
        "colab": {}
      },
      "source": [
        "addr_group = transaction.groupby('Address')"
      ],
      "execution_count": 0,
      "outputs": []
    },
    {
      "cell_type": "code",
      "metadata": {
        "id": "2VWr8tcNxH1N",
        "colab_type": "code",
        "colab": {
          "base_uri": "https://localhost:8080/",
          "height": 813
        },
        "outputId": "bb65f670-29c1-42fc-d271-877adfcb6b3d"
      },
      "source": [
        "addr_group.get_group('0xd28c567f1b52119b32a3af6066c36149c2f86d12')"
      ],
      "execution_count": 94,
      "outputs": [
        {
          "output_type": "execute_result",
          "data": {
            "text/html": [
              "<div>\n",
              "<style scoped>\n",
              "    .dataframe tbody tr th:only-of-type {\n",
              "        vertical-align: middle;\n",
              "    }\n",
              "\n",
              "    .dataframe tbody tr th {\n",
              "        vertical-align: top;\n",
              "    }\n",
              "\n",
              "    .dataframe thead th {\n",
              "        text-align: right;\n",
              "    }\n",
              "</style>\n",
              "<table border=\"1\" class=\"dataframe\">\n",
              "  <thead>\n",
              "    <tr style=\"text-align: right;\">\n",
              "      <th></th>\n",
              "      <th>Address</th>\n",
              "      <th>Txn_hash</th>\n",
              "      <th>blocks</th>\n",
              "      <th>from</th>\n",
              "      <th>txn_type</th>\n",
              "      <th>to</th>\n",
              "      <th>value</th>\n",
              "      <th>Txn_fee</th>\n",
              "      <th>Time</th>\n",
              "      <th>Year</th>\n",
              "      <th>Month</th>\n",
              "      <th>Day</th>\n",
              "    </tr>\n",
              "  </thead>\n",
              "  <tbody>\n",
              "    <tr>\n",
              "      <th>6851</th>\n",
              "      <td>0xd28c567f1b52119b32a3af6066c36149c2f86d12</td>\n",
              "      <td>0xcde3221cad3999de50937f4fe3abcb879ff2ca8f5bc6...</td>\n",
              "      <td>2507282</td>\n",
              "      <td>0x168ae36b4386cea14475faa41498a0ea63c67dd7</td>\n",
              "      <td>IN</td>\n",
              "      <td>0xd28c567f1b52119b32a3af6066c36149c2f86d12</td>\n",
              "      <td>1.000000e-14</td>\n",
              "      <td>0.000441</td>\n",
              "      <td>20:44:19</td>\n",
              "      <td>2016</td>\n",
              "      <td>10</td>\n",
              "      <td>25</td>\n",
              "    </tr>\n",
              "    <tr>\n",
              "      <th>6852</th>\n",
              "      <td>0xd28c567f1b52119b32a3af6066c36149c2f86d12</td>\n",
              "      <td>0x410a295f9e2b96b73e5c6b741a625aeed80f0fa31607...</td>\n",
              "      <td>2507282</td>\n",
              "      <td>0x168ae36b4386cea14475faa41498a0ea63c67dd7</td>\n",
              "      <td>IN</td>\n",
              "      <td>0xd28c567f1b52119b32a3af6066c36149c2f86d12</td>\n",
              "      <td>1.000000e-15</td>\n",
              "      <td>0.000441</td>\n",
              "      <td>20:44:19</td>\n",
              "      <td>2016</td>\n",
              "      <td>10</td>\n",
              "      <td>25</td>\n",
              "    </tr>\n",
              "    <tr>\n",
              "      <th>6853</th>\n",
              "      <td>0xd28c567f1b52119b32a3af6066c36149c2f86d12</td>\n",
              "      <td>0x54306a99607f4fee789f57ff1215b640d9c27af104f3...</td>\n",
              "      <td>2505945</td>\n",
              "      <td>Kraken 4</td>\n",
              "      <td>IN</td>\n",
              "      <td>0xd28c567f1b52119b32a3af6066c36149c2f86d12</td>\n",
              "      <td>1.839658e+04</td>\n",
              "      <td>0.000651</td>\n",
              "      <td>15:30:15</td>\n",
              "      <td>2016</td>\n",
              "      <td>10</td>\n",
              "      <td>25</td>\n",
              "    </tr>\n",
              "    <tr>\n",
              "      <th>6854</th>\n",
              "      <td>0xd28c567f1b52119b32a3af6066c36149c2f86d12</td>\n",
              "      <td>0xa27e1213934bbdc703f1c2b124c89389bcb5b3b6311e...</td>\n",
              "      <td>2500407</td>\n",
              "      <td>Kraken 4</td>\n",
              "      <td>IN</td>\n",
              "      <td>0xd28c567f1b52119b32a3af6066c36149c2f86d12</td>\n",
              "      <td>7.559995e+03</td>\n",
              "      <td>0.000651</td>\n",
              "      <td>17:39:06</td>\n",
              "      <td>2016</td>\n",
              "      <td>10</td>\n",
              "      <td>24</td>\n",
              "    </tr>\n",
              "    <tr>\n",
              "      <th>6855</th>\n",
              "      <td>0xd28c567f1b52119b32a3af6066c36149c2f86d12</td>\n",
              "      <td>0x2f9bdb7973ef5caa837974c705a44eeeb1ebc25a2863...</td>\n",
              "      <td>2440811</td>\n",
              "      <td>0xd28c567f1b52119b32a3af6066c36149c2f86d12</td>\n",
              "      <td>OUT</td>\n",
              "      <td>0x95ab2da56c65fcb1b22cfc04ba7b13c0c87e4ae3</td>\n",
              "      <td>5.200000e+01</td>\n",
              "      <td>0.000609</td>\n",
              "      <td>20:52:39</td>\n",
              "      <td>2016</td>\n",
              "      <td>10</td>\n",
              "      <td>14</td>\n",
              "    </tr>\n",
              "    <tr>\n",
              "      <th>6856</th>\n",
              "      <td>0xd28c567f1b52119b32a3af6066c36149c2f86d12</td>\n",
              "      <td>0xca68e14fa8825690f5311b8c80e5cd6a18248718a069...</td>\n",
              "      <td>2437926</td>\n",
              "      <td>Kraken 4</td>\n",
              "      <td>IN</td>\n",
              "      <td>0xd28c567f1b52119b32a3af6066c36149c2f86d12</td>\n",
              "      <td>5.300000e+01</td>\n",
              "      <td>0.001302</td>\n",
              "      <td>9:20:24</td>\n",
              "      <td>2016</td>\n",
              "      <td>10</td>\n",
              "      <td>14</td>\n",
              "    </tr>\n",
              "    <tr>\n",
              "      <th>6857</th>\n",
              "      <td>0xd28c567f1b52119b32a3af6066c36149c2f86d12</td>\n",
              "      <td>0xfd8a191498df7842d8b2605a4f928dbc74e4dca3628e...</td>\n",
              "      <td>2150902</td>\n",
              "      <td>0xd28c567f1b52119b32a3af6066c36149c2f86d12</td>\n",
              "      <td>OUT</td>\n",
              "      <td>0x168ae36b4386cea14475faa41498a0ea63c67dd7</td>\n",
              "      <td>1.000000e-12</td>\n",
              "      <td>0.000441</td>\n",
              "      <td>19:43:32</td>\n",
              "      <td>2016</td>\n",
              "      <td>08</td>\n",
              "      <td>27</td>\n",
              "    </tr>\n",
              "    <tr>\n",
              "      <th>6858</th>\n",
              "      <td>0xd28c567f1b52119b32a3af6066c36149c2f86d12</td>\n",
              "      <td>0xe88e2c9e0ba5857a1a76898da83a126a4de0f393d78e...</td>\n",
              "      <td>2141124</td>\n",
              "      <td>0xd28c567f1b52119b32a3af6066c36149c2f86d12</td>\n",
              "      <td>OUT</td>\n",
              "      <td>0x168ae36b4386cea14475faa41498a0ea63c67dd7</td>\n",
              "      <td>1.000000e-07</td>\n",
              "      <td>0.000441</td>\n",
              "      <td>4:44:25</td>\n",
              "      <td>2016</td>\n",
              "      <td>08</td>\n",
              "      <td>26</td>\n",
              "    </tr>\n",
              "    <tr>\n",
              "      <th>6994</th>\n",
              "      <td>0xd28c567f1b52119b32a3af6066c36149c2f86d12</td>\n",
              "      <td>0x9fb4fc873f5bcd0419509fed067ca8dc65bd92d5d611...</td>\n",
              "      <td>2602393</td>\n",
              "      <td>0x218ceba34780a8681f3eac76f048696cc091d3d7</td>\n",
              "      <td>IN</td>\n",
              "      <td>0xd28c567f1b52119b32a3af6066c36149c2f86d12</td>\n",
              "      <td>1.000000e-18</td>\n",
              "      <td>0.042544</td>\n",
              "      <td>17:31:16</td>\n",
              "      <td>2016</td>\n",
              "      <td>11</td>\n",
              "      <td>10</td>\n",
              "    </tr>\n",
              "    <tr>\n",
              "      <th>6995</th>\n",
              "      <td>0xd28c567f1b52119b32a3af6066c36149c2f86d12</td>\n",
              "      <td>0x4a1579051d5783dc9b1ca3adfb8d888efdfe9c51a21c...</td>\n",
              "      <td>2602389</td>\n",
              "      <td>0x218ceba34780a8681f3eac76f048696cc091d3d7</td>\n",
              "      <td>IN</td>\n",
              "      <td>0xd28c567f1b52119b32a3af6066c36149c2f86d12</td>\n",
              "      <td>1.000000e-18</td>\n",
              "      <td>0.042544</td>\n",
              "      <td>17:29:30</td>\n",
              "      <td>2016</td>\n",
              "      <td>11</td>\n",
              "      <td>10</td>\n",
              "    </tr>\n",
              "    <tr>\n",
              "      <th>6996</th>\n",
              "      <td>0xd28c567f1b52119b32a3af6066c36149c2f86d12</td>\n",
              "      <td>0xe359911164ecf5937ab7628519f5ffd9a5eff7b3dade...</td>\n",
              "      <td>2597063</td>\n",
              "      <td>0x218ceba34780a8681f3eac76f048696cc091d3d7</td>\n",
              "      <td>IN</td>\n",
              "      <td>0xd28c567f1b52119b32a3af6066c36149c2f86d12</td>\n",
              "      <td>1.000000e-18</td>\n",
              "      <td>0.042544</td>\n",
              "      <td>19:55:14</td>\n",
              "      <td>2016</td>\n",
              "      <td>11</td>\n",
              "      <td>09</td>\n",
              "    </tr>\n",
              "    <tr>\n",
              "      <th>6997</th>\n",
              "      <td>0xd28c567f1b52119b32a3af6066c36149c2f86d12</td>\n",
              "      <td>0xc28e1529315e89e9ca31a282d02ff0c6d895c2777627...</td>\n",
              "      <td>2597060</td>\n",
              "      <td>0x218ceba34780a8681f3eac76f048696cc091d3d7</td>\n",
              "      <td>IN</td>\n",
              "      <td>0xd28c567f1b52119b32a3af6066c36149c2f86d12</td>\n",
              "      <td>1.000000e-18</td>\n",
              "      <td>0.042544</td>\n",
              "      <td>19:54:35</td>\n",
              "      <td>2016</td>\n",
              "      <td>11</td>\n",
              "      <td>09</td>\n",
              "    </tr>\n",
              "    <tr>\n",
              "      <th>6998</th>\n",
              "      <td>0xd28c567f1b52119b32a3af6066c36149c2f86d12</td>\n",
              "      <td>0x4a3bcd4f4a29a850723ba98f2ff97aae21a4d55f44ad...</td>\n",
              "      <td>2597060</td>\n",
              "      <td>0x218ceba34780a8681f3eac76f048696cc091d3d7</td>\n",
              "      <td>IN</td>\n",
              "      <td>0xd28c567f1b52119b32a3af6066c36149c2f86d12</td>\n",
              "      <td>1.000000e-18</td>\n",
              "      <td>0.042544</td>\n",
              "      <td>19:54:35</td>\n",
              "      <td>2016</td>\n",
              "      <td>11</td>\n",
              "      <td>09</td>\n",
              "    </tr>\n",
              "    <tr>\n",
              "      <th>6999</th>\n",
              "      <td>0xd28c567f1b52119b32a3af6066c36149c2f86d12</td>\n",
              "      <td>0xd0eccf02b0059d1378411f93c037ef0e4a9bdf1101cf...</td>\n",
              "      <td>2596804</td>\n",
              "      <td>0x218ceba34780a8681f3eac76f048696cc091d3d7</td>\n",
              "      <td>IN</td>\n",
              "      <td>0xd28c567f1b52119b32a3af6066c36149c2f86d12</td>\n",
              "      <td>1.000000e-18</td>\n",
              "      <td>0.042544</td>\n",
              "      <td>18:56:20</td>\n",
              "      <td>2016</td>\n",
              "      <td>11</td>\n",
              "      <td>09</td>\n",
              "    </tr>\n",
              "    <tr>\n",
              "      <th>7000</th>\n",
              "      <td>0xd28c567f1b52119b32a3af6066c36149c2f86d12</td>\n",
              "      <td>0x2cdbb0064d48f7b52120e5b058957cca1c05042bc587...</td>\n",
              "      <td>2596797</td>\n",
              "      <td>0x218ceba34780a8681f3eac76f048696cc091d3d7</td>\n",
              "      <td>IN</td>\n",
              "      <td>0xd28c567f1b52119b32a3af6066c36149c2f86d12</td>\n",
              "      <td>1.000000e-18</td>\n",
              "      <td>0.042544</td>\n",
              "      <td>18:52:33</td>\n",
              "      <td>2016</td>\n",
              "      <td>11</td>\n",
              "      <td>09</td>\n",
              "    </tr>\n",
              "    <tr>\n",
              "      <th>7001</th>\n",
              "      <td>0xd28c567f1b52119b32a3af6066c36149c2f86d12</td>\n",
              "      <td>0x50fdb74f1ae047b89a5cf26b96a148be07909ccc77a5...</td>\n",
              "      <td>2596619</td>\n",
              "      <td>0x218ceba34780a8681f3eac76f048696cc091d3d7</td>\n",
              "      <td>IN</td>\n",
              "      <td>0xd28c567f1b52119b32a3af6066c36149c2f86d12</td>\n",
              "      <td>1.000000e-18</td>\n",
              "      <td>0.042544</td>\n",
              "      <td>18:10:33</td>\n",
              "      <td>2016</td>\n",
              "      <td>11</td>\n",
              "      <td>09</td>\n",
              "    </tr>\n",
              "    <tr>\n",
              "      <th>7002</th>\n",
              "      <td>0xd28c567f1b52119b32a3af6066c36149c2f86d12</td>\n",
              "      <td>0x57173e2b77bcf5664e8699d9c884855ea38f7092a530...</td>\n",
              "      <td>2596608</td>\n",
              "      <td>0x218ceba34780a8681f3eac76f048696cc091d3d7</td>\n",
              "      <td>IN</td>\n",
              "      <td>0xd28c567f1b52119b32a3af6066c36149c2f86d12</td>\n",
              "      <td>1.000000e-18</td>\n",
              "      <td>0.042544</td>\n",
              "      <td>18:07:30</td>\n",
              "      <td>2016</td>\n",
              "      <td>11</td>\n",
              "      <td>09</td>\n",
              "    </tr>\n",
              "    <tr>\n",
              "      <th>7003</th>\n",
              "      <td>0xd28c567f1b52119b32a3af6066c36149c2f86d12</td>\n",
              "      <td>0xafb49d7a4496307ac20ffdda78b617a96c1ac41275c8...</td>\n",
              "      <td>2596597</td>\n",
              "      <td>0x218ceba34780a8681f3eac76f048696cc091d3d7</td>\n",
              "      <td>IN</td>\n",
              "      <td>0xd28c567f1b52119b32a3af6066c36149c2f86d12</td>\n",
              "      <td>1.000000e-18</td>\n",
              "      <td>0.042544</td>\n",
              "      <td>18:04:17</td>\n",
              "      <td>2016</td>\n",
              "      <td>11</td>\n",
              "      <td>09</td>\n",
              "    </tr>\n",
              "    <tr>\n",
              "      <th>7004</th>\n",
              "      <td>0xd28c567f1b52119b32a3af6066c36149c2f86d12</td>\n",
              "      <td>0xa12c9b9af54d05ec4c03ad657e9d45ec0e3940ce9536...</td>\n",
              "      <td>2596596</td>\n",
              "      <td>0x218ceba34780a8681f3eac76f048696cc091d3d7</td>\n",
              "      <td>IN</td>\n",
              "      <td>0xd28c567f1b52119b32a3af6066c36149c2f86d12</td>\n",
              "      <td>1.000000e-18</td>\n",
              "      <td>0.042544</td>\n",
              "      <td>18:04:12</td>\n",
              "      <td>2016</td>\n",
              "      <td>11</td>\n",
              "      <td>09</td>\n",
              "    </tr>\n",
              "    <tr>\n",
              "      <th>7005</th>\n",
              "      <td>0xd28c567f1b52119b32a3af6066c36149c2f86d12</td>\n",
              "      <td>0x20d4641fcd0d326062d86025f49bc83b5294f4956714...</td>\n",
              "      <td>2596521</td>\n",
              "      <td>0x218ceba34780a8681f3eac76f048696cc091d3d7</td>\n",
              "      <td>IN</td>\n",
              "      <td>0xd28c567f1b52119b32a3af6066c36149c2f86d12</td>\n",
              "      <td>1.000000e-18</td>\n",
              "      <td>0.042544</td>\n",
              "      <td>17:45:50</td>\n",
              "      <td>2016</td>\n",
              "      <td>11</td>\n",
              "      <td>09</td>\n",
              "    </tr>\n",
              "    <tr>\n",
              "      <th>7006</th>\n",
              "      <td>0xd28c567f1b52119b32a3af6066c36149c2f86d12</td>\n",
              "      <td>0x804341b64381fdeb7abd8894d58b1d7b52d7cb48ae6b...</td>\n",
              "      <td>2593536</td>\n",
              "      <td>0x218ceba34780a8681f3eac76f048696cc091d3d7</td>\n",
              "      <td>IN</td>\n",
              "      <td>0xd28c567f1b52119b32a3af6066c36149c2f86d12</td>\n",
              "      <td>1.000000e-18</td>\n",
              "      <td>0.042544</td>\n",
              "      <td>5:43:50</td>\n",
              "      <td>2016</td>\n",
              "      <td>11</td>\n",
              "      <td>09</td>\n",
              "    </tr>\n",
              "    <tr>\n",
              "      <th>7007</th>\n",
              "      <td>0xd28c567f1b52119b32a3af6066c36149c2f86d12</td>\n",
              "      <td>0x96b899583a429bb66943da215be61f260aa290ef2548...</td>\n",
              "      <td>2590658</td>\n",
              "      <td>0x218ceba34780a8681f3eac76f048696cc091d3d7</td>\n",
              "      <td>IN</td>\n",
              "      <td>0xd28c567f1b52119b32a3af6066c36149c2f86d12</td>\n",
              "      <td>1.000000e-18</td>\n",
              "      <td>0.042544</td>\n",
              "      <td>18:18:19</td>\n",
              "      <td>2016</td>\n",
              "      <td>11</td>\n",
              "      <td>08</td>\n",
              "    </tr>\n",
              "    <tr>\n",
              "      <th>7008</th>\n",
              "      <td>0xd28c567f1b52119b32a3af6066c36149c2f86d12</td>\n",
              "      <td>0x90d18a025067aa61a72424b6dc013dfb4a570d4294be...</td>\n",
              "      <td>2590633</td>\n",
              "      <td>0x218ceba34780a8681f3eac76f048696cc091d3d7</td>\n",
              "      <td>IN</td>\n",
              "      <td>0xd28c567f1b52119b32a3af6066c36149c2f86d12</td>\n",
              "      <td>1.000000e-18</td>\n",
              "      <td>0.042544</td>\n",
              "      <td>18:12:13</td>\n",
              "      <td>2016</td>\n",
              "      <td>11</td>\n",
              "      <td>08</td>\n",
              "    </tr>\n",
              "    <tr>\n",
              "      <th>7009</th>\n",
              "      <td>0xd28c567f1b52119b32a3af6066c36149c2f86d12</td>\n",
              "      <td>0xbab249a8dd0d42f0dc976615f75e6ad988f0a568b4cf...</td>\n",
              "      <td>2590608</td>\n",
              "      <td>0x218ceba34780a8681f3eac76f048696cc091d3d7</td>\n",
              "      <td>IN</td>\n",
              "      <td>0xd28c567f1b52119b32a3af6066c36149c2f86d12</td>\n",
              "      <td>1.000000e-18</td>\n",
              "      <td>0.042544</td>\n",
              "      <td>18:06:19</td>\n",
              "      <td>2016</td>\n",
              "      <td>11</td>\n",
              "      <td>08</td>\n",
              "    </tr>\n",
              "    <tr>\n",
              "      <th>7010</th>\n",
              "      <td>0xd28c567f1b52119b32a3af6066c36149c2f86d12</td>\n",
              "      <td>0xfd766c6d78b26320e7d12223ab40f1ff93200e16a5fb...</td>\n",
              "      <td>2150626</td>\n",
              "      <td>0xd28c567f1b52119b32a3af6066c36149c2f86d12</td>\n",
              "      <td>OUT</td>\n",
              "      <td>0x168ae36b4386cea14475faa41498a0ea63c67dd7</td>\n",
              "      <td>1.000000e-17</td>\n",
              "      <td>0.000441</td>\n",
              "      <td>18:34:18</td>\n",
              "      <td>2016</td>\n",
              "      <td>08</td>\n",
              "      <td>27</td>\n",
              "    </tr>\n",
              "  </tbody>\n",
              "</table>\n",
              "</div>"
            ],
            "text/plain": [
              "                                         Address  ... Day\n",
              "6851  0xd28c567f1b52119b32a3af6066c36149c2f86d12  ...  25\n",
              "6852  0xd28c567f1b52119b32a3af6066c36149c2f86d12  ...  25\n",
              "6853  0xd28c567f1b52119b32a3af6066c36149c2f86d12  ...  25\n",
              "6854  0xd28c567f1b52119b32a3af6066c36149c2f86d12  ...  24\n",
              "6855  0xd28c567f1b52119b32a3af6066c36149c2f86d12  ...  14\n",
              "6856  0xd28c567f1b52119b32a3af6066c36149c2f86d12  ...  14\n",
              "6857  0xd28c567f1b52119b32a3af6066c36149c2f86d12  ...  27\n",
              "6858  0xd28c567f1b52119b32a3af6066c36149c2f86d12  ...  26\n",
              "6994  0xd28c567f1b52119b32a3af6066c36149c2f86d12  ...  10\n",
              "6995  0xd28c567f1b52119b32a3af6066c36149c2f86d12  ...  10\n",
              "6996  0xd28c567f1b52119b32a3af6066c36149c2f86d12  ...  09\n",
              "6997  0xd28c567f1b52119b32a3af6066c36149c2f86d12  ...  09\n",
              "6998  0xd28c567f1b52119b32a3af6066c36149c2f86d12  ...  09\n",
              "6999  0xd28c567f1b52119b32a3af6066c36149c2f86d12  ...  09\n",
              "7000  0xd28c567f1b52119b32a3af6066c36149c2f86d12  ...  09\n",
              "7001  0xd28c567f1b52119b32a3af6066c36149c2f86d12  ...  09\n",
              "7002  0xd28c567f1b52119b32a3af6066c36149c2f86d12  ...  09\n",
              "7003  0xd28c567f1b52119b32a3af6066c36149c2f86d12  ...  09\n",
              "7004  0xd28c567f1b52119b32a3af6066c36149c2f86d12  ...  09\n",
              "7005  0xd28c567f1b52119b32a3af6066c36149c2f86d12  ...  09\n",
              "7006  0xd28c567f1b52119b32a3af6066c36149c2f86d12  ...  09\n",
              "7007  0xd28c567f1b52119b32a3af6066c36149c2f86d12  ...  08\n",
              "7008  0xd28c567f1b52119b32a3af6066c36149c2f86d12  ...  08\n",
              "7009  0xd28c567f1b52119b32a3af6066c36149c2f86d12  ...  08\n",
              "7010  0xd28c567f1b52119b32a3af6066c36149c2f86d12  ...  27\n",
              "\n",
              "[25 rows x 12 columns]"
            ]
          },
          "metadata": {
            "tags": []
          },
          "execution_count": 94
        }
      ]
    },
    {
      "cell_type": "code",
      "metadata": {
        "id": "cLaTHGd8xPaa",
        "colab_type": "code",
        "colab": {
          "base_uri": "https://localhost:8080/",
          "height": 302
        },
        "outputId": "00d36e65-2ed8-45e5-d7c1-9acf4016bf6f"
      },
      "source": [
        "addr_group.groupby('txn_type')"
      ],
      "execution_count": 95,
      "outputs": [
        {
          "output_type": "error",
          "ename": "AttributeError",
          "evalue": "ignored",
          "traceback": [
            "\u001b[0;31m---------------------------------------------------------------------------\u001b[0m",
            "\u001b[0;31mAttributeError\u001b[0m                            Traceback (most recent call last)",
            "\u001b[0;32m<ipython-input-95-c35ff0c77edc>\u001b[0m in \u001b[0;36m<module>\u001b[0;34m()\u001b[0m\n\u001b[0;32m----> 1\u001b[0;31m \u001b[0maddr_group\u001b[0m\u001b[0;34m.\u001b[0m\u001b[0mgroupby\u001b[0m\u001b[0;34m(\u001b[0m\u001b[0;34m'txn_type'\u001b[0m\u001b[0;34m)\u001b[0m\u001b[0;34m\u001b[0m\u001b[0;34m\u001b[0m\u001b[0m\n\u001b[0m",
            "\u001b[0;32m/usr/local/lib/python3.6/dist-packages/pandas/core/groupby/groupby.py\u001b[0m in \u001b[0;36m__getattr__\u001b[0;34m(self, attr)\u001b[0m\n\u001b[1;32m    561\u001b[0m             \u001b[0;32mreturn\u001b[0m \u001b[0mself\u001b[0m\u001b[0;34m[\u001b[0m\u001b[0mattr\u001b[0m\u001b[0;34m]\u001b[0m\u001b[0;34m\u001b[0m\u001b[0;34m\u001b[0m\u001b[0m\n\u001b[1;32m    562\u001b[0m         \u001b[0;32mif\u001b[0m \u001b[0mhasattr\u001b[0m\u001b[0;34m(\u001b[0m\u001b[0mself\u001b[0m\u001b[0;34m.\u001b[0m\u001b[0mobj\u001b[0m\u001b[0;34m,\u001b[0m \u001b[0mattr\u001b[0m\u001b[0;34m)\u001b[0m\u001b[0;34m:\u001b[0m\u001b[0;34m\u001b[0m\u001b[0;34m\u001b[0m\u001b[0m\n\u001b[0;32m--> 563\u001b[0;31m             \u001b[0;32mreturn\u001b[0m \u001b[0mself\u001b[0m\u001b[0;34m.\u001b[0m\u001b[0m_make_wrapper\u001b[0m\u001b[0;34m(\u001b[0m\u001b[0mattr\u001b[0m\u001b[0;34m)\u001b[0m\u001b[0;34m\u001b[0m\u001b[0;34m\u001b[0m\u001b[0m\n\u001b[0m\u001b[1;32m    564\u001b[0m \u001b[0;34m\u001b[0m\u001b[0m\n\u001b[1;32m    565\u001b[0m         raise AttributeError(\n",
            "\u001b[0;32m/usr/local/lib/python3.6/dist-packages/pandas/core/groupby/groupby.py\u001b[0m in \u001b[0;36m_make_wrapper\u001b[0;34m(self, name)\u001b[0m\n\u001b[1;32m    602\u001b[0m                 \u001b[0;34m\"using the 'apply' method\"\u001b[0m\u001b[0;34m.\u001b[0m\u001b[0mformat\u001b[0m\u001b[0;34m(\u001b[0m\u001b[0mkind\u001b[0m\u001b[0;34m,\u001b[0m \u001b[0mname\u001b[0m\u001b[0;34m,\u001b[0m \u001b[0mtype\u001b[0m\u001b[0;34m(\u001b[0m\u001b[0mself\u001b[0m\u001b[0;34m)\u001b[0m\u001b[0;34m.\u001b[0m\u001b[0m__name__\u001b[0m\u001b[0;34m)\u001b[0m\u001b[0;34m\u001b[0m\u001b[0;34m\u001b[0m\u001b[0m\n\u001b[1;32m    603\u001b[0m             )\n\u001b[0;32m--> 604\u001b[0;31m             \u001b[0;32mraise\u001b[0m \u001b[0mAttributeError\u001b[0m\u001b[0;34m(\u001b[0m\u001b[0mmsg\u001b[0m\u001b[0;34m)\u001b[0m\u001b[0;34m\u001b[0m\u001b[0;34m\u001b[0m\u001b[0m\n\u001b[0m\u001b[1;32m    605\u001b[0m \u001b[0;34m\u001b[0m\u001b[0m\n\u001b[1;32m    606\u001b[0m         \u001b[0mself\u001b[0m\u001b[0;34m.\u001b[0m\u001b[0m_set_group_selection\u001b[0m\u001b[0;34m(\u001b[0m\u001b[0;34m)\u001b[0m\u001b[0;34m\u001b[0m\u001b[0;34m\u001b[0m\u001b[0m\n",
            "\u001b[0;31mAttributeError\u001b[0m: Cannot access callable attribute 'groupby' of 'DataFrameGroupBy' objects, try using the 'apply' method"
          ]
        }
      ]
    },
    {
      "cell_type": "code",
      "metadata": {
        "id": "_F1QLCCtyT3D",
        "colab_type": "code",
        "colab": {}
      },
      "source": [
        ""
      ],
      "execution_count": 0,
      "outputs": []
    }
  ]
}