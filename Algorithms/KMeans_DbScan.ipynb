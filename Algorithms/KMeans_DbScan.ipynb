{
  "nbformat": 4,
  "nbformat_minor": 0,
  "metadata": {
    "colab": {
      "name": "KMeans-DbScan.ipynb",
      "provenance": [],
      "include_colab_link": true
    },
    "kernelspec": {
      "name": "python3",
      "display_name": "Python 3"
    },
    "accelerator": "GPU"
  },
  "cells": [
    {
      "cell_type": "markdown",
      "metadata": {
        "id": "view-in-github",
        "colab_type": "text"
      },
      "source": [
        "<a href=\"https://colab.research.google.com/github/mshilpaa/ethereum-data-analysis/blob/master/Algorithms/KMeans_DbScan.ipynb\" target=\"_parent\"><img src=\"https://colab.research.google.com/assets/colab-badge.svg\" alt=\"Open In Colab\"/></a>"
      ]
    },
    {
      "cell_type": "code",
      "metadata": {
        "id": "LyBVp18JqRZQ",
        "colab_type": "code",
        "outputId": "ab959b0f-1a3d-42cf-ded3-4688f063b3d1",
        "colab": {
          "base_uri": "https://localhost:8080/",
          "height": 34
        }
      },
      "source": [
        "from google.colab import drive\n",
        "drive.mount('/content/gdrive')"
      ],
      "execution_count": 2,
      "outputs": [
        {
          "output_type": "stream",
          "text": [
            "Drive already mounted at /content/gdrive; to attempt to forcibly remount, call drive.mount(\"/content/gdrive\", force_remount=True).\n"
          ],
          "name": "stdout"
        }
      ]
    },
    {
      "cell_type": "code",
      "metadata": {
        "id": "UUvUCFpeMbOy",
        "colab_type": "code",
        "colab": {}
      },
      "source": [
        "import matplotlib.pyplot as plt\n",
        "import numpy as np\n",
        "import pandas as pd\n",
        "from sklearn import cluster\n",
        "from sklearn.metrics import silhouette_score, silhouette_samples\n",
        "from sklearn.preprocessing import StandardScaler\n",
        "from sklearn.decomposition import PCA\n",
        "from sklearn.pipeline import Pipeline\n",
        "import random\n",
        "from sklearn.cluster import KMeans\n",
        "import matplotlib.cm as cm"
      ],
      "execution_count": 0,
      "outputs": []
    },
    {
      "cell_type": "code",
      "metadata": {
        "id": "iDaYlB28OCDw",
        "colab_type": "code",
        "colab": {
          "base_uri": "https://localhost:8080/",
          "height": 71
        },
        "outputId": "17b6af6c-e480-45da-f389-5ba7e7e31928"
      },
      "source": [
        "final_data = pd.read_csv('/content/gdrive/My Drive/FinalData/final_data.csv')"
      ],
      "execution_count": 8,
      "outputs": [
        {
          "output_type": "stream",
          "text": [
            "/usr/local/lib/python3.6/dist-packages/IPython/core/interactiveshell.py:2718: DtypeWarning: Columns (2) have mixed types. Specify dtype option on import or set low_memory=False.\n",
            "  interactivity=interactivity, compiler=compiler, result=result)\n"
          ],
          "name": "stderr"
        }
      ]
    },
    {
      "cell_type": "code",
      "metadata": {
        "id": "uhKPtug9OL6S",
        "colab_type": "code",
        "colab": {
          "base_uri": "https://localhost:8080/",
          "height": 224
        },
        "outputId": "cf8cda87-d8b7-4d63-b030-e529d38a3527"
      },
      "source": [
        "final_data.head(5)"
      ],
      "execution_count": 9,
      "outputs": [
        {
          "output_type": "execute_result",
          "data": {
            "text/html": [
              "<div>\n",
              "<style scoped>\n",
              "    .dataframe tbody tr th:only-of-type {\n",
              "        vertical-align: middle;\n",
              "    }\n",
              "\n",
              "    .dataframe tbody tr th {\n",
              "        vertical-align: top;\n",
              "    }\n",
              "\n",
              "    .dataframe thead th {\n",
              "        text-align: right;\n",
              "    }\n",
              "</style>\n",
              "<table border=\"1\" class=\"dataframe\">\n",
              "  <thead>\n",
              "    <tr style=\"text-align: right;\">\n",
              "      <th></th>\n",
              "      <th>address</th>\n",
              "      <th>no_of_in_transactions</th>\n",
              "      <th>tot_ether_recieved</th>\n",
              "      <th>no_of_out_transactions</th>\n",
              "      <th>tot_ether_sent</th>\n",
              "      <th>tot_token_value_recieved</th>\n",
              "      <th>tot_token_value_sent</th>\n",
              "      <th>time_b/w_out_txn_x</th>\n",
              "      <th>time_b/w_out_txn_y</th>\n",
              "      <th>active_months</th>\n",
              "      <th>monthly_out_txn</th>\n",
              "      <th>monthly_in_txn</th>\n",
              "    </tr>\n",
              "  </thead>\n",
              "  <tbody>\n",
              "    <tr>\n",
              "      <th>0</th>\n",
              "      <td>0xd4f8e83864c80ea703dd148c78b937cbec200243</td>\n",
              "      <td>9</td>\n",
              "      <td>27000000000000000</td>\n",
              "      <td>97</td>\n",
              "      <td>19448289831436946</td>\n",
              "      <td>9.393942e+06</td>\n",
              "      <td>9.393942e+06</td>\n",
              "      <td>1.156452e+05</td>\n",
              "      <td>1.434797e+04</td>\n",
              "      <td>2</td>\n",
              "      <td>48.500000</td>\n",
              "      <td>9.000000</td>\n",
              "    </tr>\n",
              "    <tr>\n",
              "      <th>1</th>\n",
              "      <td>0xd9052a62ee61eec200c1972aa2a19fa3d5396b6d</td>\n",
              "      <td>14</td>\n",
              "      <td>10342497563429364</td>\n",
              "      <td>32</td>\n",
              "      <td>0</td>\n",
              "      <td>1.870353e+11</td>\n",
              "      <td>1.870353e+11</td>\n",
              "      <td>1.042143e+06</td>\n",
              "      <td>4.736983e+05</td>\n",
              "      <td>6</td>\n",
              "      <td>5.500000</td>\n",
              "      <td>2.500000</td>\n",
              "    </tr>\n",
              "    <tr>\n",
              "      <th>2</th>\n",
              "      <td>0xe6b4a32cc822980d652bb185b33db6be69d39a13</td>\n",
              "      <td>17</td>\n",
              "      <td>16776853680000000000</td>\n",
              "      <td>86</td>\n",
              "      <td>21009302000000000000</td>\n",
              "      <td>4.639691e+22</td>\n",
              "      <td>4.260856e+22</td>\n",
              "      <td>1.320557e+06</td>\n",
              "      <td>1.653896e+05</td>\n",
              "      <td>5</td>\n",
              "      <td>21.500000</td>\n",
              "      <td>3.400000</td>\n",
              "    </tr>\n",
              "    <tr>\n",
              "      <th>3</th>\n",
              "      <td>0x9f265a9675dea8f97139015f62c84af1f6d687ae</td>\n",
              "      <td>15</td>\n",
              "      <td>2100000000000000000</td>\n",
              "      <td>3</td>\n",
              "      <td>2099000000000000000</td>\n",
              "      <td>2.000000e+20</td>\n",
              "      <td>2.000000e+20</td>\n",
              "      <td>3.701651e+05</td>\n",
              "      <td>1.252319e+06</td>\n",
              "      <td>4</td>\n",
              "      <td>1.500000</td>\n",
              "      <td>5.000000</td>\n",
              "    </tr>\n",
              "    <tr>\n",
              "      <th>4</th>\n",
              "      <td>0xbad9298ef9a0c40ed1fb299a5e42269589aa15af</td>\n",
              "      <td>142</td>\n",
              "      <td>17850287239292549380</td>\n",
              "      <td>57</td>\n",
              "      <td>17813824239292549380</td>\n",
              "      <td>3.000000e+18</td>\n",
              "      <td>1.000000e+20</td>\n",
              "      <td>2.403451e+05</td>\n",
              "      <td>5.987940e+05</td>\n",
              "      <td>14</td>\n",
              "      <td>4.384615</td>\n",
              "      <td>10.923077</td>\n",
              "    </tr>\n",
              "  </tbody>\n",
              "</table>\n",
              "</div>"
            ],
            "text/plain": [
              "                                      address  ...  monthly_in_txn\n",
              "0  0xd4f8e83864c80ea703dd148c78b937cbec200243  ...        9.000000\n",
              "1  0xd9052a62ee61eec200c1972aa2a19fa3d5396b6d  ...        2.500000\n",
              "2  0xe6b4a32cc822980d652bb185b33db6be69d39a13  ...        3.400000\n",
              "3  0x9f265a9675dea8f97139015f62c84af1f6d687ae  ...        5.000000\n",
              "4  0xbad9298ef9a0c40ed1fb299a5e42269589aa15af  ...       10.923077\n",
              "\n",
              "[5 rows x 12 columns]"
            ]
          },
          "metadata": {
            "tags": []
          },
          "execution_count": 9
        }
      ]
    },
    {
      "cell_type": "code",
      "metadata": {
        "id": "_lElKM17OWn1",
        "colab_type": "code",
        "colab": {}
      },
      "source": [
        "#remove address (string) from analysis\n",
        "data = final_data.iloc[:,1:]"
      ],
      "execution_count": 0,
      "outputs": []
    },
    {
      "cell_type": "code",
      "metadata": {
        "id": "2sRpobvBOl8t",
        "colab_type": "code",
        "colab": {}
      },
      "source": [
        "\n",
        "#number of PCA features is full reconstruction, for now\n",
        "num_features = data.shape[1]\n",
        "num_clusters = 4"
      ],
      "execution_count": 0,
      "outputs": []
    },
    {
      "cell_type": "code",
      "metadata": {
        "id": "bc3M0_CIOqa9",
        "colab_type": "code",
        "colab": {
          "base_uri": "https://localhost:8080/",
          "height": 68
        },
        "outputId": "94ec5fcb-7bd6-4c8e-f13c-0eee00cc4695"
      },
      "source": [
        "scale = StandardScaler()\n",
        "pca =PCA(n_components=num_features)\n",
        "cl = KMeans(num_clusters)\n",
        "#build pipeline\n",
        "pipe = Pipeline([('scale', scale ),\n",
        "                 ('PCA', pca)])\n",
        "\n",
        "results = pipe.fit_transform(data)\n",
        "\n",
        "cl.fit(results)"
      ],
      "execution_count": 14,
      "outputs": [
        {
          "output_type": "execute_result",
          "data": {
            "text/plain": [
              "KMeans(algorithm='auto', copy_x=True, init='k-means++', max_iter=300,\n",
              "       n_clusters=4, n_init=10, n_jobs=None, precompute_distances='auto',\n",
              "       random_state=None, tol=0.0001, verbose=0)"
            ]
          },
          "metadata": {
            "tags": []
          },
          "execution_count": 14
        }
      ]
    },
    {
      "cell_type": "code",
      "metadata": {
        "id": "ZtL3ULm7OsuG",
        "colab_type": "code",
        "colab": {
          "base_uri": "https://localhost:8080/",
          "height": 295
        },
        "outputId": "43a9946c-48aa-454e-d9f7-3b98b1ed98b4"
      },
      "source": [
        "#percent of variance explained by each component\n",
        "\n",
        "plt.plot(np.arange(pca.n_components_) ,np.cumsum(pca.explained_variance_ratio_)*100)\n",
        "plt.grid(b=True)\n",
        "plt.xlabel('principal component')\n",
        "plt.title('Cumulative Percent of Variance explained')\n",
        "plt.show()"
      ],
      "execution_count": 15,
      "outputs": [
        {
          "output_type": "display_data",
          "data": {
            "image/png": "[encoded data removed]",
            "text/plain": [
              "<Figure size 432x288 with 1 Axes>"
            ]
          },
          "metadata": {
            "tags": []
          }
        }
      ]
    },
    {
      "cell_type": "code",
      "metadata": {
        "id": "6Kd5dH_LO4a5",
        "colab_type": "code",
        "colab": {
          "base_uri": "https://localhost:8080/",
          "height": 282
        },
        "outputId": "f0a6c85c-c83d-44f8-d643-40466116db01"
      },
      "source": [
        "#plot in cluster distance space\n",
        "r = cl.transform(results)\n",
        "plt.scatter(r[:,3],r[:,2],c=cl.labels_, s=5)"
      ],
      "execution_count": 16,
      "outputs": [
        {
          "output_type": "execute_result",
          "data": {
            "text/plain": [
              "<matplotlib.collections.PathCollection at 0x7fa87f418630>"
            ]
          },
          "metadata": {
            "tags": []
          },
          "execution_count": 16
        },
        {
          "output_type": "display_data",
          "data": {
            "image/png": "[encoded data removed]",
            "text/plain": [
              "<Figure size 432x288 with 1 Axes>"
            ]
          },
          "metadata": {
            "tags": []
          }
        }
      ]
    },
    {
      "cell_type": "code",
      "metadata": {
        "id": "igIi87oIO790",
        "colab_type": "code",
        "colab": {
          "base_uri": "https://localhost:8080/",
          "height": 513
        },
        "outputId": "0ab6bd04-c6d9-47a1-b0cb-b88febe98885"
      },
      "source": [
        "#elbow method\n",
        "#scoring metric?\n",
        "from sklearn.metrics import calinski_harabaz_score as ch_score\n",
        "clusters = [2, 3,4,5,6,7,8,9,10,12,15,20,25, 40]\n",
        "scores = []\n",
        "inertias = []\n",
        "for c in clusters:\n",
        "    cl_n = KMeans(c).fit(results)\n",
        "    score = ch_score(results, cl_n.labels_)\n",
        "    scores.append(score)\n",
        "    inertias.append(cl_n.inertia_)"
      ],
      "execution_count": 17,
      "outputs": [
        {
          "output_type": "stream",
          "text": [
            "/usr/local/lib/python3.6/dist-packages/sklearn/utils/deprecation.py:87: FutureWarning: Function calinski_harabaz_score is deprecated; Function 'calinski_harabaz_score' has been renamed to 'calinski_harabasz_score' and will be removed in version 0.23.\n",
            "  warnings.warn(msg, category=FutureWarning)\n",
            "/usr/local/lib/python3.6/dist-packages/sklearn/utils/deprecation.py:87: FutureWarning: Function calinski_harabaz_score is deprecated; Function 'calinski_harabaz_score' has been renamed to 'calinski_harabasz_score' and will be removed in version 0.23.\n",
            "  warnings.warn(msg, category=FutureWarning)\n",
            "/usr/local/lib/python3.6/dist-packages/sklearn/utils/deprecation.py:87: FutureWarning: Function calinski_harabaz_score is deprecated; Function 'calinski_harabaz_score' has been renamed to 'calinski_harabasz_score' and will be removed in version 0.23.\n",
            "  warnings.warn(msg, category=FutureWarning)\n",
            "/usr/local/lib/python3.6/dist-packages/sklearn/utils/deprecation.py:87: FutureWarning: Function calinski_harabaz_score is deprecated; Function 'calinski_harabaz_score' has been renamed to 'calinski_harabasz_score' and will be removed in version 0.23.\n",
            "  warnings.warn(msg, category=FutureWarning)\n",
            "/usr/local/lib/python3.6/dist-packages/sklearn/utils/deprecation.py:87: FutureWarning: Function calinski_harabaz_score is deprecated; Function 'calinski_harabaz_score' has been renamed to 'calinski_harabasz_score' and will be removed in version 0.23.\n",
            "  warnings.warn(msg, category=FutureWarning)\n",
            "/usr/local/lib/python3.6/dist-packages/sklearn/utils/deprecation.py:87: FutureWarning: Function calinski_harabaz_score is deprecated; Function 'calinski_harabaz_score' has been renamed to 'calinski_harabasz_score' and will be removed in version 0.23.\n",
            "  warnings.warn(msg, category=FutureWarning)\n",
            "/usr/local/lib/python3.6/dist-packages/sklearn/utils/deprecation.py:87: FutureWarning: Function calinski_harabaz_score is deprecated; Function 'calinski_harabaz_score' has been renamed to 'calinski_harabasz_score' and will be removed in version 0.23.\n",
            "  warnings.warn(msg, category=FutureWarning)\n",
            "/usr/local/lib/python3.6/dist-packages/sklearn/utils/deprecation.py:87: FutureWarning: Function calinski_harabaz_score is deprecated; Function 'calinski_harabaz_score' has been renamed to 'calinski_harabasz_score' and will be removed in version 0.23.\n",
            "  warnings.warn(msg, category=FutureWarning)\n",
            "/usr/local/lib/python3.6/dist-packages/sklearn/utils/deprecation.py:87: FutureWarning: Function calinski_harabaz_score is deprecated; Function 'calinski_harabaz_score' has been renamed to 'calinski_harabasz_score' and will be removed in version 0.23.\n",
            "  warnings.warn(msg, category=FutureWarning)\n",
            "/usr/local/lib/python3.6/dist-packages/sklearn/utils/deprecation.py:87: FutureWarning: Function calinski_harabaz_score is deprecated; Function 'calinski_harabaz_score' has been renamed to 'calinski_harabasz_score' and will be removed in version 0.23.\n",
            "  warnings.warn(msg, category=FutureWarning)\n",
            "/usr/local/lib/python3.6/dist-packages/sklearn/utils/deprecation.py:87: FutureWarning: Function calinski_harabaz_score is deprecated; Function 'calinski_harabaz_score' has been renamed to 'calinski_harabasz_score' and will be removed in version 0.23.\n",
            "  warnings.warn(msg, category=FutureWarning)\n",
            "/usr/local/lib/python3.6/dist-packages/sklearn/utils/deprecation.py:87: FutureWarning: Function calinski_harabaz_score is deprecated; Function 'calinski_harabaz_score' has been renamed to 'calinski_harabasz_score' and will be removed in version 0.23.\n",
            "  warnings.warn(msg, category=FutureWarning)\n",
            "/usr/local/lib/python3.6/dist-packages/sklearn/utils/deprecation.py:87: FutureWarning: Function calinski_harabaz_score is deprecated; Function 'calinski_harabaz_score' has been renamed to 'calinski_harabasz_score' and will be removed in version 0.23.\n",
            "  warnings.warn(msg, category=FutureWarning)\n",
            "/usr/local/lib/python3.6/dist-packages/sklearn/utils/deprecation.py:87: FutureWarning: Function calinski_harabaz_score is deprecated; Function 'calinski_harabaz_score' has been renamed to 'calinski_harabasz_score' and will be removed in version 0.23.\n",
            "  warnings.warn(msg, category=FutureWarning)\n"
          ],
          "name": "stderr"
        }
      ]
    },
    {
      "cell_type": "code",
      "metadata": {
        "id": "09yYo2f1PACx",
        "colab_type": "code",
        "colab": {
          "base_uri": "https://localhost:8080/",
          "height": 298
        },
        "outputId": "4971251b-ee87-4fa8-998d-25e4dadae9e9"
      },
      "source": [
        "plt.plot(clusters, scores)\n",
        "plt.title('Calinski Harabaz Scores')"
      ],
      "execution_count": 18,
      "outputs": [
        {
          "output_type": "execute_result",
          "data": {
            "text/plain": [
              "Text(0.5, 1.0, 'Calinski Harabaz Scores')"
            ]
          },
          "metadata": {
            "tags": []
          },
          "execution_count": 18
        },
        {
          "output_type": "display_data",
          "data": {
            "image/png": "[encoded data removed]",
            "text/plain": [
              "<Figure size 432x288 with 1 Axes>"
            ]
          },
          "metadata": {
            "tags": []
          }
        }
      ]
    },
    {
      "cell_type": "code",
      "metadata": {
        "id": "WqOqB8IsPE0e",
        "colab_type": "code",
        "colab": {
          "base_uri": "https://localhost:8080/",
          "height": 298
        },
        "outputId": "26e95a6e-9bf3-4c49-8073-5e2c03c53eec"
      },
      "source": [
        "plt.plot(clusters,inertias)\n",
        "plt.title('Elbow plot')\n",
        "plt.ylabel('within cluster sum of squares')\n"
      ],
      "execution_count": 19,
      "outputs": [
        {
          "output_type": "execute_result",
          "data": {
            "text/plain": [
              "Text(0, 0.5, 'within cluster sum of squares')"
            ]
          },
          "metadata": {
            "tags": []
          },
          "execution_count": 19
        },
        {
          "output_type": "display_data",
          "data": {
            "image/png": "[encoded data removed]",
            "text/plain": [
              "<Figure size 432x288 with 1 Axes>"
            ]
          },
          "metadata": {
            "tags": []
          }
        }
      ]
    },
    {
      "cell_type": "code",
      "metadata": {
        "id": "u_yUsl2bPH0O",
        "colab_type": "code",
        "colab": {
          "base_uri": "https://localhost:8080/",
          "height": 68
        },
        "outputId": "82fcc02e-0033-45cb-ddaa-00689136a1e2"
      },
      "source": [
        "#optmal number of clusters is around 12\n",
        "cl = KMeans(12)\n",
        "cl.fit(results)\n"
      ],
      "execution_count": 20,
      "outputs": [
        {
          "output_type": "execute_result",
          "data": {
            "text/plain": [
              "KMeans(algorithm='auto', copy_x=True, init='k-means++', max_iter=300,\n",
              "       n_clusters=12, n_init=10, n_jobs=None, precompute_distances='auto',\n",
              "       random_state=None, tol=0.0001, verbose=0)"
            ]
          },
          "metadata": {
            "tags": []
          },
          "execution_count": 20
        }
      ]
    },
    {
      "cell_type": "code",
      "metadata": {
        "id": "PzGU2rkMQq3y",
        "colab_type": "code",
        "colab": {}
      },
      "source": [
        "#outlier removal\n",
        "\n",
        "\n",
        "\n",
        "def remove_outliers(results, cl, threshold):\n",
        "    '''\n",
        "    returns subset of results, and associated labels as a tuple\n",
        "    takes results and a fit KMeans cluster object'''\n",
        "    \n",
        "    new_labels = []\n",
        "    new_results = []\n",
        "    \n",
        "    \n",
        "    #code for deciding what clusters to keep\n",
        "    for i, center in enumerate(cl.cluster_centers_):\n",
        "        within_cluster_results = results[cl.labels_==i]\n",
        "        centroid = cl.cluster_centers_[i]\n",
        "        #calc std vectors\n",
        "        stdev = np.std(within_cluster_results, axis=0)\n",
        "       \n",
        "        keep = np.linalg.norm((centroid - within_cluster_results), axis=1) < threshold*np.linalg.norm(stdev)\n",
        "        new_results.append(within_cluster_results[keep])\n",
        "        #add labels?\n",
        "        new_labels.extend([i for j in range(len(within_cluster_results[keep]))])\n",
        "    return np.vstack(new_results), np.array(new_labels)"
      ],
      "execution_count": 0,
      "outputs": []
    },
    {
      "cell_type": "code",
      "metadata": {
        "id": "d6gt1Oe1Q21S",
        "colab_type": "code",
        "colab": {
          "base_uri": "https://localhost:8080/",
          "height": 717
        },
        "outputId": "18278e29-6d23-48c5-a2b8-a8886830e091"
      },
      "source": [
        "thresholds = np.linspace(.3,3, 20)\n",
        "\n",
        "test = [remove_outliers(results, cl,t) for t in thresholds]\n",
        "\n",
        "scores= []\n",
        "for (res, labels) in test:\n",
        "    \n",
        "    score = ch_score(res, labels)\n",
        "    scores.append(score)"
      ],
      "execution_count": 22,
      "outputs": [
        {
          "output_type": "stream",
          "text": [
            "/usr/local/lib/python3.6/dist-packages/sklearn/utils/deprecation.py:87: FutureWarning: Function calinski_harabaz_score is deprecated; Function 'calinski_harabaz_score' has been renamed to 'calinski_harabasz_score' and will be removed in version 0.23.\n",
            "  warnings.warn(msg, category=FutureWarning)\n",
            "/usr/local/lib/python3.6/dist-packages/sklearn/utils/deprecation.py:87: FutureWarning: Function calinski_harabaz_score is deprecated; Function 'calinski_harabaz_score' has been renamed to 'calinski_harabasz_score' and will be removed in version 0.23.\n",
            "  warnings.warn(msg, category=FutureWarning)\n",
            "/usr/local/lib/python3.6/dist-packages/sklearn/utils/deprecation.py:87: FutureWarning: Function calinski_harabaz_score is deprecated; Function 'calinski_harabaz_score' has been renamed to 'calinski_harabasz_score' and will be removed in version 0.23.\n",
            "  warnings.warn(msg, category=FutureWarning)\n",
            "/usr/local/lib/python3.6/dist-packages/sklearn/utils/deprecation.py:87: FutureWarning: Function calinski_harabaz_score is deprecated; Function 'calinski_harabaz_score' has been renamed to 'calinski_harabasz_score' and will be removed in version 0.23.\n",
            "  warnings.warn(msg, category=FutureWarning)\n",
            "/usr/local/lib/python3.6/dist-packages/sklearn/utils/deprecation.py:87: FutureWarning: Function calinski_harabaz_score is deprecated; Function 'calinski_harabaz_score' has been renamed to 'calinski_harabasz_score' and will be removed in version 0.23.\n",
            "  warnings.warn(msg, category=FutureWarning)\n",
            "/usr/local/lib/python3.6/dist-packages/sklearn/utils/deprecation.py:87: FutureWarning: Function calinski_harabaz_score is deprecated; Function 'calinski_harabaz_score' has been renamed to 'calinski_harabasz_score' and will be removed in version 0.23.\n",
            "  warnings.warn(msg, category=FutureWarning)\n",
            "/usr/local/lib/python3.6/dist-packages/sklearn/utils/deprecation.py:87: FutureWarning: Function calinski_harabaz_score is deprecated; Function 'calinski_harabaz_score' has been renamed to 'calinski_harabasz_score' and will be removed in version 0.23.\n",
            "  warnings.warn(msg, category=FutureWarning)\n",
            "/usr/local/lib/python3.6/dist-packages/sklearn/utils/deprecation.py:87: FutureWarning: Function calinski_harabaz_score is deprecated; Function 'calinski_harabaz_score' has been renamed to 'calinski_harabasz_score' and will be removed in version 0.23.\n",
            "  warnings.warn(msg, category=FutureWarning)\n",
            "/usr/local/lib/python3.6/dist-packages/sklearn/utils/deprecation.py:87: FutureWarning: Function calinski_harabaz_score is deprecated; Function 'calinski_harabaz_score' has been renamed to 'calinski_harabasz_score' and will be removed in version 0.23.\n",
            "  warnings.warn(msg, category=FutureWarning)\n",
            "/usr/local/lib/python3.6/dist-packages/sklearn/utils/deprecation.py:87: FutureWarning: Function calinski_harabaz_score is deprecated; Function 'calinski_harabaz_score' has been renamed to 'calinski_harabasz_score' and will be removed in version 0.23.\n",
            "  warnings.warn(msg, category=FutureWarning)\n",
            "/usr/local/lib/python3.6/dist-packages/sklearn/utils/deprecation.py:87: FutureWarning: Function calinski_harabaz_score is deprecated; Function 'calinski_harabaz_score' has been renamed to 'calinski_harabasz_score' and will be removed in version 0.23.\n",
            "  warnings.warn(msg, category=FutureWarning)\n",
            "/usr/local/lib/python3.6/dist-packages/sklearn/utils/deprecation.py:87: FutureWarning: Function calinski_harabaz_score is deprecated; Function 'calinski_harabaz_score' has been renamed to 'calinski_harabasz_score' and will be removed in version 0.23.\n",
            "  warnings.warn(msg, category=FutureWarning)\n",
            "/usr/local/lib/python3.6/dist-packages/sklearn/utils/deprecation.py:87: FutureWarning: Function calinski_harabaz_score is deprecated; Function 'calinski_harabaz_score' has been renamed to 'calinski_harabasz_score' and will be removed in version 0.23.\n",
            "  warnings.warn(msg, category=FutureWarning)\n",
            "/usr/local/lib/python3.6/dist-packages/sklearn/utils/deprecation.py:87: FutureWarning: Function calinski_harabaz_score is deprecated; Function 'calinski_harabaz_score' has been renamed to 'calinski_harabasz_score' and will be removed in version 0.23.\n",
            "  warnings.warn(msg, category=FutureWarning)\n",
            "/usr/local/lib/python3.6/dist-packages/sklearn/utils/deprecation.py:87: FutureWarning: Function calinski_harabaz_score is deprecated; Function 'calinski_harabaz_score' has been renamed to 'calinski_harabasz_score' and will be removed in version 0.23.\n",
            "  warnings.warn(msg, category=FutureWarning)\n",
            "/usr/local/lib/python3.6/dist-packages/sklearn/utils/deprecation.py:87: FutureWarning: Function calinski_harabaz_score is deprecated; Function 'calinski_harabaz_score' has been renamed to 'calinski_harabasz_score' and will be removed in version 0.23.\n",
            "  warnings.warn(msg, category=FutureWarning)\n",
            "/usr/local/lib/python3.6/dist-packages/sklearn/utils/deprecation.py:87: FutureWarning: Function calinski_harabaz_score is deprecated; Function 'calinski_harabaz_score' has been renamed to 'calinski_harabasz_score' and will be removed in version 0.23.\n",
            "  warnings.warn(msg, category=FutureWarning)\n",
            "/usr/local/lib/python3.6/dist-packages/sklearn/utils/deprecation.py:87: FutureWarning: Function calinski_harabaz_score is deprecated; Function 'calinski_harabaz_score' has been renamed to 'calinski_harabasz_score' and will be removed in version 0.23.\n",
            "  warnings.warn(msg, category=FutureWarning)\n",
            "/usr/local/lib/python3.6/dist-packages/sklearn/utils/deprecation.py:87: FutureWarning: Function calinski_harabaz_score is deprecated; Function 'calinski_harabaz_score' has been renamed to 'calinski_harabasz_score' and will be removed in version 0.23.\n",
            "  warnings.warn(msg, category=FutureWarning)\n",
            "/usr/local/lib/python3.6/dist-packages/sklearn/utils/deprecation.py:87: FutureWarning: Function calinski_harabaz_score is deprecated; Function 'calinski_harabaz_score' has been renamed to 'calinski_harabasz_score' and will be removed in version 0.23.\n",
            "  warnings.warn(msg, category=FutureWarning)\n"
          ],
          "name": "stderr"
        }
      ]
    },
    {
      "cell_type": "code",
      "metadata": {
        "id": "cDbFZbIiQ3eK",
        "colab_type": "code",
        "colab": {
          "base_uri": "https://localhost:8080/",
          "height": 298
        },
        "outputId": "480e4652-f0ed-45a7-8b9f-629e03aaf1da"
      },
      "source": [
        "plt.plot(thresholds, scores)\n",
        "plt.title('Calinski Harabaz Scores as std threshold changes')"
      ],
      "execution_count": 23,
      "outputs": [
        {
          "output_type": "execute_result",
          "data": {
            "text/plain": [
              "Text(0.5, 1.0, 'Calinski Harabaz Scores as std threshold changes')"
            ]
          },
          "metadata": {
            "tags": []
          },
          "execution_count": 23
        },
        {
          "output_type": "display_data",
          "data": {
            "image/png": "[encoded data removed]",
            "text/plain": [
              "<Figure size 432x288 with 1 Axes>"
            ]
          },
          "metadata": {
            "tags": []
          }
        }
      ]
    },
    {
      "cell_type": "code",
      "metadata": {
        "id": "kOI4mYqtQ7Ji",
        "colab_type": "code",
        "colab": {
          "base_uri": "https://localhost:8080/",
          "height": 34
        },
        "outputId": "81deaf62-03a0-4ad8-a679-8fbba3eff647"
      },
      "source": [
        "#empirical best threshold .75 stdev\n",
        "newresults, labels = remove_outliers(results, cl,.8)"
      ],
      "execution_count": 24,
      "outputs": [
        {
          "output_type": "stream",
          "text": [
            "ERROR! Session/line number was not unique in database. History logging moved to new session 59\n"
          ],
          "name": "stdout"
        }
      ]
    },
    {
      "cell_type": "code",
      "metadata": {
        "id": "hx9qYQBTRHlU",
        "colab_type": "code",
        "colab": {
          "base_uri": "https://localhost:8080/",
          "height": 286
        },
        "outputId": "3d49f0ff-ed23-42ff-f5b2-870368c532ae"
      },
      "source": [
        "plt.scatter(newresults[:,0],newresults[:,1],c=labels)\n",
        "plt.xlim(-10,100)\n",
        "plt.ylim(-15,10)"
      ],
      "execution_count": 25,
      "outputs": [
        {
          "output_type": "execute_result",
          "data": {
            "text/plain": [
              "(-15.0, 10.0)"
            ]
          },
          "metadata": {
            "tags": []
          },
          "execution_count": 25
        },
        {
          "output_type": "display_data",
          "data": {
            "image/png": "[encoded data removed]",
            "text/plain": [
              "<Figure size 432x288 with 1 Axes>"
            ]
          },
          "metadata": {
            "tags": []
          }
        }
      ]
    },
    {
      "cell_type": "code",
      "metadata": {
        "id": "-vtd4y9yRMpU",
        "colab_type": "code",
        "colab": {
          "base_uri": "https://localhost:8080/",
          "height": 286
        },
        "outputId": "0ec97f9b-2263-4217-802f-e377b804da5c"
      },
      "source": [
        "\n",
        "plt.scatter(results[:,0],results[:,1],c=cl.labels_)\n",
        "# plt.xlim(-10,100)\n",
        "# plt.ylim(-15,10)"
      ],
      "execution_count": 26,
      "outputs": [
        {
          "output_type": "execute_result",
          "data": {
            "text/plain": [
              "<matplotlib.collections.PathCollection at 0x7fa87f1b2a20>"
            ]
          },
          "metadata": {
            "tags": []
          },
          "execution_count": 26
        },
        {
          "output_type": "display_data",
          "data": {
            "image/png": "[encoded data removed]",
            "text/plain": [
              "<Figure size 432x288 with 1 Axes>"
            ]
          },
          "metadata": {
            "tags": []
          }
        }
      ]
    },
    {
      "cell_type": "code",
      "metadata": {
        "id": "yyK-podcRTF3",
        "colab_type": "code",
        "colab": {}
      },
      "source": [
        "newcl = KMeans(10).fit(newresults)"
      ],
      "execution_count": 0,
      "outputs": []
    },
    {
      "cell_type": "code",
      "metadata": {
        "id": "2NNlSnPZRY3e",
        "colab_type": "code",
        "colab": {
          "base_uri": "https://localhost:8080/",
          "height": 282
        },
        "outputId": "78e49807-70de-496e-c22e-f9c2dcc3f8f6"
      },
      "source": [
        "plt.scatter(newresults[:,0],newresults[:,1],c=newcl.labels_, s=5)"
      ],
      "execution_count": 28,
      "outputs": [
        {
          "output_type": "execute_result",
          "data": {
            "text/plain": [
              "<matplotlib.collections.PathCollection at 0x7fa87f19d9e8>"
            ]
          },
          "metadata": {
            "tags": []
          },
          "execution_count": 28
        },
        {
          "output_type": "display_data",
          "data": {
            "image/png": "[encoded data removed]",
            "text/plain": [
              "<Figure size 432x288 with 1 Axes>"
            ]
          },
          "metadata": {
            "tags": []
          }
        }
      ]
    },
    {
      "cell_type": "markdown",
      "metadata": {
        "id": "S4ByMk74R4Xp",
        "colab_type": "text"
      },
      "source": [
        "# DB SCAN"
      ]
    },
    {
      "cell_type": "code",
      "metadata": {
        "id": "JE_D3wttRcOt",
        "colab_type": "code",
        "colab": {
          "base_uri": "https://localhost:8080/",
          "height": 71
        },
        "outputId": "4472662b-5bab-4371-a01f-c8eef690e554"
      },
      "source": [
        "dbscan_data = pd.read_csv('/content/gdrive/My Drive/FinalData/final_data.csv')"
      ],
      "execution_count": 2,
      "outputs": [
        {
          "output_type": "stream",
          "text": [
            "/usr/local/lib/python3.6/dist-packages/IPython/core/interactiveshell.py:2718: DtypeWarning: Columns (2) have mixed types. Specify dtype option on import or set low_memory=False.\n",
            "  interactivity=interactivity, compiler=compiler, result=result)\n"
          ],
          "name": "stderr"
        }
      ]
    },
    {
      "cell_type": "code",
      "metadata": {
        "id": "K0NTSx1gR83u",
        "colab_type": "code",
        "colab": {
          "base_uri": "https://localhost:8080/",
          "height": 224
        },
        "outputId": "dfb0239c-c1d9-4624-9144-0ff87ea9116a"
      },
      "source": [
        "dbscan_data .head(5)"
      ],
      "execution_count": 5,
      "outputs": [
        {
          "output_type": "execute_result",
          "data": {
            "text/html": [
              "<div>\n",
              "<style scoped>\n",
              "    .dataframe tbody tr th:only-of-type {\n",
              "        vertical-align: middle;\n",
              "    }\n",
              "\n",
              "    .dataframe tbody tr th {\n",
              "        vertical-align: top;\n",
              "    }\n",
              "\n",
              "    .dataframe thead th {\n",
              "        text-align: right;\n",
              "    }\n",
              "</style>\n",
              "<table border=\"1\" class=\"dataframe\">\n",
              "  <thead>\n",
              "    <tr style=\"text-align: right;\">\n",
              "      <th></th>\n",
              "      <th>address</th>\n",
              "      <th>no_of_in_transactions</th>\n",
              "      <th>tot_ether_recieved</th>\n",
              "      <th>no_of_out_transactions</th>\n",
              "      <th>tot_ether_sent</th>\n",
              "      <th>tot_token_value_recieved</th>\n",
              "      <th>tot_token_value_sent</th>\n",
              "      <th>time_b/w_out_txn_x</th>\n",
              "      <th>time_b/w_out_txn_y</th>\n",
              "      <th>active_months</th>\n",
              "      <th>monthly_out_txn</th>\n",
              "      <th>monthly_in_txn</th>\n",
              "    </tr>\n",
              "  </thead>\n",
              "  <tbody>\n",
              "    <tr>\n",
              "      <th>0</th>\n",
              "      <td>0xd4f8e83864c80ea703dd148c78b937cbec200243</td>\n",
              "      <td>9</td>\n",
              "      <td>27000000000000000</td>\n",
              "      <td>97</td>\n",
              "      <td>19448289831436946</td>\n",
              "      <td>9.393942e+06</td>\n",
              "      <td>9.393942e+06</td>\n",
              "      <td>1.156452e+05</td>\n",
              "      <td>1.434797e+04</td>\n",
              "      <td>2</td>\n",
              "      <td>48.500000</td>\n",
              "      <td>9.000000</td>\n",
              "    </tr>\n",
              "    <tr>\n",
              "      <th>1</th>\n",
              "      <td>0xd9052a62ee61eec200c1972aa2a19fa3d5396b6d</td>\n",
              "      <td>14</td>\n",
              "      <td>10342497563429364</td>\n",
              "      <td>32</td>\n",
              "      <td>0</td>\n",
              "      <td>1.870353e+11</td>\n",
              "      <td>1.870353e+11</td>\n",
              "      <td>1.042143e+06</td>\n",
              "      <td>4.736983e+05</td>\n",
              "      <td>6</td>\n",
              "      <td>5.500000</td>\n",
              "      <td>2.500000</td>\n",
              "    </tr>\n",
              "    <tr>\n",
              "      <th>2</th>\n",
              "      <td>0xe6b4a32cc822980d652bb185b33db6be69d39a13</td>\n",
              "      <td>17</td>\n",
              "      <td>16776853680000000000</td>\n",
              "      <td>86</td>\n",
              "      <td>21009302000000000000</td>\n",
              "      <td>4.639691e+22</td>\n",
              "      <td>4.260856e+22</td>\n",
              "      <td>1.320557e+06</td>\n",
              "      <td>1.653896e+05</td>\n",
              "      <td>5</td>\n",
              "      <td>21.500000</td>\n",
              "      <td>3.400000</td>\n",
              "    </tr>\n",
              "    <tr>\n",
              "      <th>3</th>\n",
              "      <td>0x9f265a9675dea8f97139015f62c84af1f6d687ae</td>\n",
              "      <td>15</td>\n",
              "      <td>2100000000000000000</td>\n",
              "      <td>3</td>\n",
              "      <td>2099000000000000000</td>\n",
              "      <td>2.000000e+20</td>\n",
              "      <td>2.000000e+20</td>\n",
              "      <td>3.701651e+05</td>\n",
              "      <td>1.252319e+06</td>\n",
              "      <td>4</td>\n",
              "      <td>1.500000</td>\n",
              "      <td>5.000000</td>\n",
              "    </tr>\n",
              "    <tr>\n",
              "      <th>4</th>\n",
              "      <td>0xbad9298ef9a0c40ed1fb299a5e42269589aa15af</td>\n",
              "      <td>142</td>\n",
              "      <td>17850287239292549380</td>\n",
              "      <td>57</td>\n",
              "      <td>17813824239292549380</td>\n",
              "      <td>3.000000e+18</td>\n",
              "      <td>1.000000e+20</td>\n",
              "      <td>2.403451e+05</td>\n",
              "      <td>5.987940e+05</td>\n",
              "      <td>14</td>\n",
              "      <td>4.384615</td>\n",
              "      <td>10.923077</td>\n",
              "    </tr>\n",
              "  </tbody>\n",
              "</table>\n",
              "</div>"
            ],
            "text/plain": [
              "                                      address  ...  monthly_in_txn\n",
              "0  0xd4f8e83864c80ea703dd148c78b937cbec200243  ...        9.000000\n",
              "1  0xd9052a62ee61eec200c1972aa2a19fa3d5396b6d  ...        2.500000\n",
              "2  0xe6b4a32cc822980d652bb185b33db6be69d39a13  ...        3.400000\n",
              "3  0x9f265a9675dea8f97139015f62c84af1f6d687ae  ...        5.000000\n",
              "4  0xbad9298ef9a0c40ed1fb299a5e42269589aa15af  ...       10.923077\n",
              "\n",
              "[5 rows x 12 columns]"
            ]
          },
          "metadata": {
            "tags": []
          },
          "execution_count": 5
        }
      ]
    },
    {
      "cell_type": "code",
      "metadata": {
        "id": "asGIDJOuR_Mq",
        "colab_type": "code",
        "colab": {}
      },
      "source": [
        "data = dbscan_data.iloc[:80000,1:]"
      ],
      "execution_count": 0,
      "outputs": []
    },
    {
      "cell_type": "code",
      "metadata": {
        "id": "ZueMwtmLTWjw",
        "colab_type": "code",
        "colab": {}
      },
      "source": [
        ""
      ],
      "execution_count": 0,
      "outputs": []
    },
    {
      "cell_type": "code",
      "metadata": {
        "id": "59dHFEwoSIRV",
        "colab_type": "code",
        "colab": {
          "base_uri": "https://localhost:8080/",
          "height": 34
        },
        "outputId": "d5991348-1245-476f-90cf-28aa9104003a"
      },
      "source": [
        "pipe = Pipeline([('scale', StandardScaler()), ('PCA', PCA(n_components=6))])\n",
        "\n",
        "results = pipe.fit_transform(data)\n",
        "\n",
        "from sklearn.cluster import DBSCAN\n",
        "\n",
        "db = DBSCAN(eps=.2)\n",
        "\n",
        "db.fit(results)\n",
        "\n",
        "print(db.components_.shape)\n",
        "\n",
        "labels = np.unique(db.labels_)\n",
        "indices = db.core_sample_indices_\n",
        "\n",
        "sample, outliers = results[indices], np.delete(results, indices, axis=0)\n",
        "s_labels, o_labels = db.labels_[indices], np.delete(db.labels_, indices, axis=0)"
      ],
      "execution_count": 4,
      "outputs": [
        {
          "output_type": "stream",
          "text": [
            "(76787, 6)\n"
          ],
          "name": "stdout"
        }
      ]
    },
    {
      "cell_type": "code",
      "metadata": {
        "id": "zaSQX3LzSSUF",
        "colab_type": "code",
        "colab": {
          "base_uri": "https://localhost:8080/",
          "height": 282
        },
        "outputId": "fd9a18b0-944f-4f1c-c64e-95d1ff081bc7"
      },
      "source": [
        "# plt.scatter(outliers[:,0], outliers[:,1], c='black', alpha=.2)\n",
        "plt.scatter(sample[:,3], sample[:,4], c= s_labels)\n",
        "\n",
        "# plt.xlim(-1,30)\n",
        "# plt.ylim(-1,20)"
      ],
      "execution_count": 5,
      "outputs": [
        {
          "output_type": "execute_result",
          "data": {
            "text/plain": [
              "<matplotlib.collections.PathCollection at 0x7f8ade49f780>"
            ]
          },
          "metadata": {
            "tags": []
          },
          "execution_count": 5
        },
        {
          "output_type": "display_data",
          "data": {
            "image/png": "[encoded data removed]",
            "text/plain": [
              "<Figure size 432x288 with 1 Axes>"
            ]
          },
          "metadata": {
            "tags": []
          }
        }
      ]
    },
    {
      "cell_type": "code",
      "metadata": {
        "id": "9EG9w0_OTFHS",
        "colab_type": "code",
        "colab": {
          "base_uri": "https://localhost:8080/",
          "height": 286
        },
        "outputId": "2e80b26f-05e5-4e35-99ba-a42ae8153833"
      },
      "source": [
        "\n",
        "plt.scatter(outliers[:,0], outliers[:,1], c='black', alpha=.2)\n",
        "plt.scatter(sample[:,0], sample[:,1], c= s_labels, alpha= .1)\n",
        "\n",
        "plt.xlim(-1,1)\n",
        "plt.ylim(-1,1)"
      ],
      "execution_count": 6,
      "outputs": [
        {
          "output_type": "execute_result",
          "data": {
            "text/plain": [
              "(-1.0, 1.0)"
            ]
          },
          "metadata": {
            "tags": []
          },
          "execution_count": 6
        },
        {
          "output_type": "display_data",
          "data": {
            "image/png": "[encoded data removed]",
            "text/plain": [
              "<Figure size 432x288 with 1 Axes>"
            ]
          },
          "metadata": {
            "tags": []
          }
        }
      ]
    },
    {
      "cell_type": "code",
      "metadata": {
        "id": "FzCE7yFfTIuF",
        "colab_type": "code",
        "colab": {
          "base_uri": "https://localhost:8080/",
          "height": 85
        },
        "outputId": "70e3ec0a-9a9f-4bd8-bc47-ee59898efbf1"
      },
      "source": [
        "np.unique(db.labels_)"
      ],
      "execution_count": 10,
      "outputs": [
        {
          "output_type": "execute_result",
          "data": {
            "text/plain": [
              "array([-1,  0,  1,  2,  3,  4,  5,  6,  7,  8,  9, 10, 11, 12, 13, 14, 15,\n",
              "       16, 17, 18, 19, 20, 21, 22, 23, 24, 25, 26, 27, 28, 29, 30, 31, 32,\n",
              "       33, 34, 35, 36, 37, 38, 39, 40, 41, 42, 43, 44, 45, 46, 47, 48, 49,\n",
              "       50, 51, 52, 53, 54, 55, 56])"
            ]
          },
          "metadata": {
            "tags": []
          },
          "execution_count": 10
        }
      ]
    },
    {
      "cell_type": "code",
      "metadata": {
        "id": "B2M8dKoITOev",
        "colab_type": "code",
        "colab": {}
      },
      "source": [
        ""
      ],
      "execution_count": 0,
      "outputs": []
    }
  ]
}