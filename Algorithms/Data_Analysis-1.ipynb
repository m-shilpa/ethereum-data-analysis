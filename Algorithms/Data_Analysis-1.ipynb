{
  "nbformat": 4,
  "nbformat_minor": 0,
  "metadata": {
    "colab": {
      "name": "Data Analysis.ipynb",
      "provenance": [],
      "authorship_tag": "ABX9TyP2+6g9tduIquDm0kd48L/I",
      "include_colab_link": true
    },
    "kernelspec": {
      "name": "python3",
      "display_name": "Python 3"
    }
  },
  "cells": [
    {
      "cell_type": "markdown",
      "metadata": {
        "id": "view-in-github",
        "colab_type": "text"
      },
      "source": [
        "<a href=\"https://colab.research.google.com/github/mshilpaa/ethereum-data-analysis/blob/master/Algorithms/Data_Analysis-1.ipynb\" target=\"_parent\"><img src=\"https://colab.research.google.com/assets/colab-badge.svg\" alt=\"Open In Colab\"/></a>"
      ]
    },
    {
      "cell_type": "code",
      "metadata": {
        "id": "Atj3EmWfe5zh",
        "colab_type": "code",
        "colab": {
          "base_uri": "https://localhost:8080/",
          "height": 122
        },
        "outputId": "38819f8b-ecd3-4ec4-87b7-d4d443754c3f"
      },
      "source": [
        "from google.colab import drive\n",
        "drive.mount('/content/gdrive')"
      ],
      "execution_count": 1,
      "outputs": [
        {
          "output_type": "stream",
          "text": [
            "Go to this URL in a browser: https://accounts.google.com/o/oauth2/auth?client_id=947318989803-6bn6qk8qdgf4n4g3pfee6491hc0brc4i.apps.googleusercontent.com&redirect_uri=urn%3aietf%3awg%3aoauth%3a2.0%3aoob&response_type=code&scope=email%20https%3a%2f%2fwww.googleapis.com%2fauth%2fdocs.test%20https%3a%2f%2fwww.googleapis.com%2fauth%2fdrive%20https%3a%2f%2fwww.googleapis.com%2fauth%2fdrive.photos.readonly%20https%3a%2f%2fwww.googleapis.com%2fauth%2fpeopleapi.readonly\n",
            "\n",
            "Enter your authorization code:\n",
            "··········\n",
            "Mounted at /content/gdrive\n"
          ],
          "name": "stdout"
        }
      ]
    },
    {
      "cell_type": "code",
      "metadata": {
        "id": "MbpMYPg6fVga",
        "colab_type": "code",
        "colab": {}
      },
      "source": [
        "import pandas as pd\n",
        "import numpy as np\n",
        "import matplotlib.pyplot as plt"
      ],
      "execution_count": 0,
      "outputs": []
    },
    {
      "cell_type": "code",
      "metadata": {
        "id": "5ofBXr0ufXfe",
        "colab_type": "code",
        "colab": {}
      },
      "source": [
        "\n",
        "data = pd.read_csv('/content/gdrive/My Drive/project_data/data_with_cluster_name.csv')"
      ],
      "execution_count": 0,
      "outputs": []
    },
    {
      "cell_type": "code",
      "metadata": {
        "id": "Ui0eSq4ogEjK",
        "colab_type": "code",
        "colab": {
          "base_uri": "https://localhost:8080/",
          "height": 706
        },
        "outputId": "8472d9d0-c3f8-4e96-d1ca-2dbc364cd922"
      },
      "source": [
        "data.head(20)"
      ],
      "execution_count": 19,
      "outputs": [
        {
          "output_type": "execute_result",
          "data": {
            "text/html": [
              "<div>\n",
              "<style scoped>\n",
              "    .dataframe tbody tr th:only-of-type {\n",
              "        vertical-align: middle;\n",
              "    }\n",
              "\n",
              "    .dataframe tbody tr th {\n",
              "        vertical-align: top;\n",
              "    }\n",
              "\n",
              "    .dataframe thead th {\n",
              "        text-align: right;\n",
              "    }\n",
              "</style>\n",
              "<table border=\"1\" class=\"dataframe\">\n",
              "  <thead>\n",
              "    <tr style=\"text-align: right;\">\n",
              "      <th></th>\n",
              "      <th>Unnamed: 0</th>\n",
              "      <th>address</th>\n",
              "      <th>no_of_in_transactions</th>\n",
              "      <th>tot_ether_recieved</th>\n",
              "      <th>eth_balance</th>\n",
              "      <th>no_of_out_transactions</th>\n",
              "      <th>tot_ether_sent</th>\n",
              "      <th>tot_token_value_recieved</th>\n",
              "      <th>tot_token_value_sent</th>\n",
              "      <th>time_b/w_in_txn</th>\n",
              "      <th>time_b/w_out_txn</th>\n",
              "      <th>active_months</th>\n",
              "      <th>monthly_out_txn</th>\n",
              "      <th>monthly_in_txn</th>\n",
              "      <th>monthly_ether_sent</th>\n",
              "      <th>monthly_ether_recieved</th>\n",
              "      <th>labels</th>\n",
              "    </tr>\n",
              "  </thead>\n",
              "  <tbody>\n",
              "    <tr>\n",
              "      <th>0</th>\n",
              "      <td>0</td>\n",
              "      <td>0x1d1c9f70a68c129096d8181529041843e8bc1a30</td>\n",
              "      <td>76</td>\n",
              "      <td>0.731680</td>\n",
              "      <td>1.749834e+17</td>\n",
              "      <td>3370</td>\n",
              "      <td>5.515366e+00</td>\n",
              "      <td>6.650000e+02</td>\n",
              "      <td>1.144667e+10</td>\n",
              "      <td>5.718996e+05</td>\n",
              "      <td>1.542536e+04</td>\n",
              "      <td>18</td>\n",
              "      <td>10.857143</td>\n",
              "      <td>187.222222</td>\n",
              "      <td>0.306409</td>\n",
              "      <td>0.040649</td>\n",
              "      <td>4</td>\n",
              "    </tr>\n",
              "    <tr>\n",
              "      <th>1</th>\n",
              "      <td>1</td>\n",
              "      <td>0x2faf487a4414fe77e2327f0bf4ae2a264a776ad2</td>\n",
              "      <td>38</td>\n",
              "      <td>743.099990</td>\n",
              "      <td>1.173769e+20</td>\n",
              "      <td>107756</td>\n",
              "      <td>3.801180e+02</td>\n",
              "      <td>4.578265e+12</td>\n",
              "      <td>3.926573e+12</td>\n",
              "      <td>8.816550e+05</td>\n",
              "      <td>3.142301e+02</td>\n",
              "      <td>14</td>\n",
              "      <td>3.800000</td>\n",
              "      <td>7700.285714</td>\n",
              "      <td>27.151285</td>\n",
              "      <td>53.078571</td>\n",
              "      <td>5</td>\n",
              "    </tr>\n",
              "    <tr>\n",
              "      <th>2</th>\n",
              "      <td>2</td>\n",
              "      <td>0xaf8ae6955d07776ab690e565ba6fbc79b8de3a5d</td>\n",
              "      <td>32</td>\n",
              "      <td>9574.442265</td>\n",
              "      <td>5.529880e+18</td>\n",
              "      <td>4187</td>\n",
              "      <td>1.344014e+04</td>\n",
              "      <td>2.215655e+56</td>\n",
              "      <td>3.021617e+56</td>\n",
              "      <td>2.542126e+05</td>\n",
              "      <td>2.146797e+03</td>\n",
              "      <td>5</td>\n",
              "      <td>8.000000</td>\n",
              "      <td>837.400000</td>\n",
              "      <td>2688.028607</td>\n",
              "      <td>1914.888453</td>\n",
              "      <td>5</td>\n",
              "    </tr>\n",
              "    <tr>\n",
              "      <th>3</th>\n",
              "      <td>3</td>\n",
              "      <td>0x8b99f3660622e21f2910ecca7fbe51d654a1517d</td>\n",
              "      <td>55</td>\n",
              "      <td>40.151860</td>\n",
              "      <td>3.103932e+19</td>\n",
              "      <td>28</td>\n",
              "      <td>1.010530e+01</td>\n",
              "      <td>1.262155e+07</td>\n",
              "      <td>1.382587e+05</td>\n",
              "      <td>8.247586e+05</td>\n",
              "      <td>1.212605e+06</td>\n",
              "      <td>14</td>\n",
              "      <td>4.583333</td>\n",
              "      <td>4.000000</td>\n",
              "      <td>0.721807</td>\n",
              "      <td>2.867990</td>\n",
              "      <td>0</td>\n",
              "    </tr>\n",
              "    <tr>\n",
              "      <th>4</th>\n",
              "      <td>4</td>\n",
              "      <td>0x15c5312e24482547ff35899afedcaeb572ecb029</td>\n",
              "      <td>43</td>\n",
              "      <td>183.158125</td>\n",
              "      <td>1.276902e+20</td>\n",
              "      <td>5762</td>\n",
              "      <td>5.406682e+01</td>\n",
              "      <td>2.521367e+07</td>\n",
              "      <td>3.642789e+06</td>\n",
              "      <td>9.180017e+05</td>\n",
              "      <td>8.381761e+03</td>\n",
              "      <td>17</td>\n",
              "      <td>3.583333</td>\n",
              "      <td>338.941176</td>\n",
              "      <td>3.180401</td>\n",
              "      <td>10.774007</td>\n",
              "      <td>5</td>\n",
              "    </tr>\n",
              "    <tr>\n",
              "      <th>5</th>\n",
              "      <td>5</td>\n",
              "      <td>0x501f51187acfbbfb711166dea9ee5bbf77c6c2d8</td>\n",
              "      <td>80</td>\n",
              "      <td>79.449998</td>\n",
              "      <td>5.208305e+18</td>\n",
              "      <td>8662</td>\n",
              "      <td>5.378200e+01</td>\n",
              "      <td>1.000387e+06</td>\n",
              "      <td>1.026347e+02</td>\n",
              "      <td>6.270324e+05</td>\n",
              "      <td>6.752976e+03</td>\n",
              "      <td>23</td>\n",
              "      <td>6.666667</td>\n",
              "      <td>376.608696</td>\n",
              "      <td>2.338348</td>\n",
              "      <td>3.454348</td>\n",
              "      <td>5</td>\n",
              "    </tr>\n",
              "    <tr>\n",
              "      <th>6</th>\n",
              "      <td>6</td>\n",
              "      <td>0x829bd824b016326a401d083b33d092293333a830</td>\n",
              "      <td>4064</td>\n",
              "      <td>6703.071554</td>\n",
              "      <td>3.151861e+21</td>\n",
              "      <td>8676704</td>\n",
              "      <td>3.018637e+06</td>\n",
              "      <td>2.372008e+09</td>\n",
              "      <td>7.210599e+08</td>\n",
              "      <td>1.974495e+04</td>\n",
              "      <td>1.021580e+01</td>\n",
              "      <td>35</td>\n",
              "      <td>150.518519</td>\n",
              "      <td>247905.828571</td>\n",
              "      <td>86246.780169</td>\n",
              "      <td>191.516330</td>\n",
              "      <td>5</td>\n",
              "    </tr>\n",
              "    <tr>\n",
              "      <th>7</th>\n",
              "      <td>7</td>\n",
              "      <td>0x0a73573cf2903d2d8305b1ecb9e9730186a312ae</td>\n",
              "      <td>14534</td>\n",
              "      <td>399.304554</td>\n",
              "      <td>3.294840e+18</td>\n",
              "      <td>133229</td>\n",
              "      <td>3.223400e+02</td>\n",
              "      <td>1.884830e+10</td>\n",
              "      <td>1.445135e+10</td>\n",
              "      <td>6.281281e+03</td>\n",
              "      <td>7.001330e+02</td>\n",
              "      <td>37</td>\n",
              "      <td>660.636364</td>\n",
              "      <td>3600.783784</td>\n",
              "      <td>8.711892</td>\n",
              "      <td>10.792015</td>\n",
              "      <td>5</td>\n",
              "    </tr>\n",
              "    <tr>\n",
              "      <th>8</th>\n",
              "      <td>8</td>\n",
              "      <td>0xb9e29984fe50602e7a619662ebed4f90d93824c7</td>\n",
              "      <td>121</td>\n",
              "      <td>1343.337356</td>\n",
              "      <td>3.794504e+17</td>\n",
              "      <td>214</td>\n",
              "      <td>1.828978e+03</td>\n",
              "      <td>1.513440e+08</td>\n",
              "      <td>3.005459e+07</td>\n",
              "      <td>5.375180e+05</td>\n",
              "      <td>3.009186e+05</td>\n",
              "      <td>26</td>\n",
              "      <td>5.260870</td>\n",
              "      <td>8.560000</td>\n",
              "      <td>70.345301</td>\n",
              "      <td>51.666821</td>\n",
              "      <td>5</td>\n",
              "    </tr>\n",
              "    <tr>\n",
              "      <th>9</th>\n",
              "      <td>9</td>\n",
              "      <td>0xea3a46bd1dbd0620d80037f70d0bf7c7dc5a837c</td>\n",
              "      <td>573</td>\n",
              "      <td>1961.520722</td>\n",
              "      <td>2.065420e+17</td>\n",
              "      <td>6650</td>\n",
              "      <td>1.959774e+03</td>\n",
              "      <td>4.444282e+11</td>\n",
              "      <td>3.652116e+11</td>\n",
              "      <td>2.933622e+04</td>\n",
              "      <td>2.555952e+03</td>\n",
              "      <td>8</td>\n",
              "      <td>71.625000</td>\n",
              "      <td>831.250000</td>\n",
              "      <td>244.971806</td>\n",
              "      <td>245.190090</td>\n",
              "      <td>5</td>\n",
              "    </tr>\n",
              "    <tr>\n",
              "      <th>10</th>\n",
              "      <td>10</td>\n",
              "      <td>0xa7a7899d944fe658c4b0a1803bab2f490bd3849e</td>\n",
              "      <td>302</td>\n",
              "      <td>8563.912195</td>\n",
              "      <td>2.199958e+19</td>\n",
              "      <td>4967789</td>\n",
              "      <td>0.000000e+00</td>\n",
              "      <td>4.680557e+09</td>\n",
              "      <td>1.000000e+02</td>\n",
              "      <td>1.947961e+05</td>\n",
              "      <td>1.188940e+01</td>\n",
              "      <td>24</td>\n",
              "      <td>12.583333</td>\n",
              "      <td>206994.916667</td>\n",
              "      <td>0.000000</td>\n",
              "      <td>356.829675</td>\n",
              "      <td>5</td>\n",
              "    </tr>\n",
              "    <tr>\n",
              "      <th>11</th>\n",
              "      <td>11</td>\n",
              "      <td>0x65b0bf8ee4947edd2a500d74e50a3d757dc79de0</td>\n",
              "      <td>26</td>\n",
              "      <td>108922.682486</td>\n",
              "      <td>1.629562e+22</td>\n",
              "      <td>566</td>\n",
              "      <td>6.660361e+05</td>\n",
              "      <td>3.473763e+41</td>\n",
              "      <td>4.956330e+08</td>\n",
              "      <td>2.365614e+06</td>\n",
              "      <td>1.087495e+05</td>\n",
              "      <td>25</td>\n",
              "      <td>3.714286</td>\n",
              "      <td>22.640000</td>\n",
              "      <td>26641.444957</td>\n",
              "      <td>4356.907299</td>\n",
              "      <td>5</td>\n",
              "    </tr>\n",
              "    <tr>\n",
              "      <th>12</th>\n",
              "      <td>12</td>\n",
              "      <td>0x61b9898c9b60a159fc91ae8026563cd226b7a0c1</td>\n",
              "      <td>89</td>\n",
              "      <td>13361.046313</td>\n",
              "      <td>1.913647e+17</td>\n",
              "      <td>28954</td>\n",
              "      <td>4.163945e+05</td>\n",
              "      <td>4.090855e+09</td>\n",
              "      <td>6.848578e+07</td>\n",
              "      <td>4.584866e+05</td>\n",
              "      <td>1.580456e+03</td>\n",
              "      <td>18</td>\n",
              "      <td>7.416667</td>\n",
              "      <td>1608.555556</td>\n",
              "      <td>23133.029718</td>\n",
              "      <td>742.280351</td>\n",
              "      <td>5</td>\n",
              "    </tr>\n",
              "    <tr>\n",
              "      <th>13</th>\n",
              "      <td>13</td>\n",
              "      <td>0xce1bf8e51f8b39e51c6184e059786d1c0eaf360f</td>\n",
              "      <td>7639</td>\n",
              "      <td>99572.299933</td>\n",
              "      <td>2.520344e+17</td>\n",
              "      <td>95</td>\n",
              "      <td>9.957200e+04</td>\n",
              "      <td>4.496334e+08</td>\n",
              "      <td>4.496257e+08</td>\n",
              "      <td>3.732771e+03</td>\n",
              "      <td>4.592075e+05</td>\n",
              "      <td>13</td>\n",
              "      <td>848.777778</td>\n",
              "      <td>7.307692</td>\n",
              "      <td>7659.384823</td>\n",
              "      <td>7659.407687</td>\n",
              "      <td>5</td>\n",
              "    </tr>\n",
              "    <tr>\n",
              "      <th>14</th>\n",
              "      <td>14</td>\n",
              "      <td>0xab5c66752a9e8167967685f1450532fb96d5d24f</td>\n",
              "      <td>3254</td>\n",
              "      <td>242143.059581</td>\n",
              "      <td>1.894241e+20</td>\n",
              "      <td>666436</td>\n",
              "      <td>2.406532e+05</td>\n",
              "      <td>5.738932e+10</td>\n",
              "      <td>3.283533e+10</td>\n",
              "      <td>2.765303e+04</td>\n",
              "      <td>1.362699e+02</td>\n",
              "      <td>35</td>\n",
              "      <td>112.206897</td>\n",
              "      <td>19604.529412</td>\n",
              "      <td>6875.805107</td>\n",
              "      <td>6918.373131</td>\n",
              "      <td>5</td>\n",
              "    </tr>\n",
              "    <tr>\n",
              "      <th>15</th>\n",
              "      <td>15</td>\n",
              "      <td>0xe8a0e282e6a3e8023465accd47fae39dd5db010b</td>\n",
              "      <td>2669</td>\n",
              "      <td>24903.205830</td>\n",
              "      <td>2.947003e+16</td>\n",
              "      <td>16313</td>\n",
              "      <td>2.487219e+04</td>\n",
              "      <td>2.002206e+09</td>\n",
              "      <td>2.002156e+09</td>\n",
              "      <td>8.020198e+03</td>\n",
              "      <td>1.338728e+03</td>\n",
              "      <td>9</td>\n",
              "      <td>296.555556</td>\n",
              "      <td>1812.555556</td>\n",
              "      <td>2763.576616</td>\n",
              "      <td>2767.022870</td>\n",
              "      <td>5</td>\n",
              "    </tr>\n",
              "    <tr>\n",
              "      <th>16</th>\n",
              "      <td>16</td>\n",
              "      <td>0x3613ef1125a078ef96ffc898c4ec28d73c5b8c52</td>\n",
              "      <td>71597</td>\n",
              "      <td>188671.983335</td>\n",
              "      <td>2.454874e+21</td>\n",
              "      <td>52311</td>\n",
              "      <td>1.862231e+05</td>\n",
              "      <td>3.162252e+09</td>\n",
              "      <td>3.511722e+07</td>\n",
              "      <td>1.456082e+03</td>\n",
              "      <td>1.912297e+03</td>\n",
              "      <td>41</td>\n",
              "      <td>1746.268293</td>\n",
              "      <td>1341.307692</td>\n",
              "      <td>4542.027415</td>\n",
              "      <td>4601.755691</td>\n",
              "      <td>5</td>\n",
              "    </tr>\n",
              "    <tr>\n",
              "      <th>17</th>\n",
              "      <td>17</td>\n",
              "      <td>0x0d6b5a54f940bf3d52e438cab785981aaefdf40c</td>\n",
              "      <td>80269</td>\n",
              "      <td>173445.132851</td>\n",
              "      <td>2.474151e+18</td>\n",
              "      <td>140884</td>\n",
              "      <td>1.733428e+05</td>\n",
              "      <td>1.979192e+10</td>\n",
              "      <td>1.990328e+10</td>\n",
              "      <td>7.593193e+02</td>\n",
              "      <td>5.514091e+02</td>\n",
              "      <td>27</td>\n",
              "      <td>3648.590909</td>\n",
              "      <td>5217.925926</td>\n",
              "      <td>6420.104781</td>\n",
              "      <td>6423.893809</td>\n",
              "      <td>5</td>\n",
              "    </tr>\n",
              "    <tr>\n",
              "      <th>18</th>\n",
              "      <td>18</td>\n",
              "      <td>0x986a2fca9eda0e06fbf7839b89bfc006ee2a23dd</td>\n",
              "      <td>13230</td>\n",
              "      <td>662729.833268</td>\n",
              "      <td>2.454042e+21</td>\n",
              "      <td>65085</td>\n",
              "      <td>6.616846e+05</td>\n",
              "      <td>2.028899e+09</td>\n",
              "      <td>1.842212e+09</td>\n",
              "      <td>1.414759e+03</td>\n",
              "      <td>2.875070e+02</td>\n",
              "      <td>8</td>\n",
              "      <td>1653.750000</td>\n",
              "      <td>8138.000000</td>\n",
              "      <td>82710.579733</td>\n",
              "      <td>82841.229158</td>\n",
              "      <td>5</td>\n",
              "    </tr>\n",
              "    <tr>\n",
              "      <th>19</th>\n",
              "      <td>19</td>\n",
              "      <td>0x33683b94334eebc9bd3ea85ddbda4a86fb461405</td>\n",
              "      <td>30380</td>\n",
              "      <td>734654.481045</td>\n",
              "      <td>2.154602e+16</td>\n",
              "      <td>1341</td>\n",
              "      <td>7.346538e+05</td>\n",
              "      <td>3.705809e+10</td>\n",
              "      <td>3.599473e+10</td>\n",
              "      <td>1.894774e+03</td>\n",
              "      <td>4.292558e+04</td>\n",
              "      <td>22</td>\n",
              "      <td>2025.333333</td>\n",
              "      <td>60.954545</td>\n",
              "      <td>33393.352749</td>\n",
              "      <td>33393.385502</td>\n",
              "      <td>5</td>\n",
              "    </tr>\n",
              "  </tbody>\n",
              "</table>\n",
              "</div>"
            ],
            "text/plain": [
              "    Unnamed: 0  ... labels\n",
              "0            0  ...      4\n",
              "1            1  ...      5\n",
              "2            2  ...      5\n",
              "3            3  ...      0\n",
              "4            4  ...      5\n",
              "5            5  ...      5\n",
              "6            6  ...      5\n",
              "7            7  ...      5\n",
              "8            8  ...      5\n",
              "9            9  ...      5\n",
              "10          10  ...      5\n",
              "11          11  ...      5\n",
              "12          12  ...      5\n",
              "13          13  ...      5\n",
              "14          14  ...      5\n",
              "15          15  ...      5\n",
              "16          16  ...      5\n",
              "17          17  ...      5\n",
              "18          18  ...      5\n",
              "19          19  ...      5\n",
              "\n",
              "[20 rows x 17 columns]"
            ]
          },
          "metadata": {
            "tags": []
          },
          "execution_count": 19
        }
      ]
    },
    {
      "cell_type": "code",
      "metadata": {
        "id": "GtGpIoYWkaZx",
        "colab_type": "code",
        "colab": {}
      },
      "source": [
        "b = np.array(data['labels'] ,dtype = \"float\")"
      ],
      "execution_count": 0,
      "outputs": []
    },
    {
      "cell_type": "code",
      "metadata": {
        "id": "m24HEY9ggI-T",
        "colab_type": "code",
        "colab": {
          "base_uri": "https://localhost:8080/",
          "height": 1000
        },
        "outputId": "967c15b3-2c13-4685-c32f-78494089fccc"
      },
      "source": [
        "plt.figure(figsize=(20,40))\n",
        "plt.scatter(data['Unnamed: 0'],data['tot_ether_recieved'], marker = \".\",c=list(b))\n",
        "plt.show()\n"
      ],
      "execution_count": 56,
      "outputs": [
        {
          "output_type": "display_data",
          "data": {
            "image/png": "[encoded data removed]",
            "text/plain": [
              "<Figure size 1440x2880 with 1 Axes>"
            ]
          },
          "metadata": {
            "tags": [],
            "needs_background": "light"
          }
        }
      ]
    },
    {
      "cell_type": "code",
      "metadata": {
        "id": "DxIOhCiNgVgb",
        "colab_type": "code",
        "colab": {
          "base_uri": "https://localhost:8080/",
          "height": 221
        },
        "outputId": "870d5113-8972-415a-fbee-5194c34ce2e4"
      },
      "source": [
        "data['no_of_in_transactions']"
      ],
      "execution_count": 13,
      "outputs": [
        {
          "output_type": "execute_result",
          "data": {
            "text/plain": [
              "0        76\n",
              "1        38\n",
              "2        32\n",
              "3        55\n",
              "4        43\n",
              "         ..\n",
              "30118    13\n",
              "30119    21\n",
              "30120    20\n",
              "30121    84\n",
              "30122    35\n",
              "Name: no_of_in_transactions, Length: 30123, dtype: int64"
            ]
          },
          "metadata": {
            "tags": []
          },
          "execution_count": 13
        }
      ]
    },
    {
      "cell_type": "code",
      "metadata": {
        "id": "4yYRglbpg01S",
        "colab_type": "code",
        "colab": {}
      },
      "source": [
        "i = 0\n",
        "in_txn = list(data[data['labels']==i]['no_of_in_transactions'])"
      ],
      "execution_count": 0,
      "outputs": []
    },
    {
      "cell_type": "code",
      "metadata": {
        "id": "vg4sSK7Sl19i",
        "colab_type": "code",
        "colab": {}
      },
      "source": [
        "mean = sum(in_txn)/len(in_txn)"
      ],
      "execution_count": 0,
      "outputs": []
    },
    {
      "cell_type": "code",
      "metadata": {
        "id": "GOBKBbIvmdkL",
        "colab_type": "code",
        "colab": {
          "base_uri": "https://localhost:8080/",
          "height": 323
        },
        "outputId": "9ca3a33b-a15a-4540-c098-0ac14064d6ce"
      },
      "source": [
        "data.dtypes"
      ],
      "execution_count": 79,
      "outputs": [
        {
          "output_type": "execute_result",
          "data": {
            "text/plain": [
              "Unnamed: 0                    int64\n",
              "address                      object\n",
              "no_of_in_transactions         int64\n",
              "tot_ether_recieved          float64\n",
              "eth_balance                 float64\n",
              "no_of_out_transactions        int64\n",
              "tot_ether_sent              float64\n",
              "tot_token_value_recieved    float64\n",
              "tot_token_value_sent        float64\n",
              "time_b/w_in_txn             float64\n",
              "time_b/w_out_txn            float64\n",
              "active_months                 int64\n",
              "monthly_out_txn             float64\n",
              "monthly_in_txn              float64\n",
              "monthly_ether_sent          float64\n",
              "monthly_ether_recieved      float64\n",
              "labels                        int64\n",
              "dtype: object"
            ]
          },
          "metadata": {
            "tags": []
          },
          "execution_count": 79
        }
      ]
    },
    {
      "cell_type": "code",
      "metadata": {
        "id": "eLdp6GvpmhXv",
        "colab_type": "code",
        "colab": {}
      },
      "source": [
        "mean_datas = {}\n",
        "for j in data.keys()[1:len(data.keys())-1]:\n",
        "  \n",
        "  if(data[j].dtype == 'int64' or data[j].dtype=='float64'):\n",
        "    mean_datas[j] = []\n",
        "    for i in range(7):\n",
        "      in_txn = list(data[data['labels']==i][j])\n",
        "      mean_datas[j].append(sum(in_txn)/len(in_txn))\n"
      ],
      "execution_count": 0,
      "outputs": []
    },
    {
      "cell_type": "code",
      "metadata": {
        "id": "j2rdjWVMmteu",
        "colab_type": "code",
        "colab": {
          "base_uri": "https://localhost:8080/",
          "height": 136
        },
        "outputId": "9d5cc60b-5fa7-4c14-86f7-871e8ac69fd5"
      },
      "source": [
        "for i in range(7):\n",
        "  in_txn = list(data[data['labels']==i]['no_of_in_transactions'])\n",
        "  print(i, sum(in_txn)/len(in_txn))"
      ],
      "execution_count": 93,
      "outputs": [
        {
          "output_type": "stream",
          "text": [
            "0 145.8515429524604\n",
            "1 16.29288426613835\n",
            "2 13.341439304072756\n",
            "3 22.68682858477347\n",
            "4 18.969325153374232\n",
            "5 2765.0906082972765\n",
            "6 28.902737940026075\n"
          ],
          "name": "stdout"
        }
      ]
    },
    {
      "cell_type": "code",
      "metadata": {
        "id": "6sz-3-GEou5g",
        "colab_type": "code",
        "colab": {
          "base_uri": "https://localhost:8080/",
          "height": 1000
        },
        "outputId": "ba91b735-70a3-46e9-edd2-e8bbcdc8a9a8"
      },
      "source": [
        "for i in mean_datas:\n",
        "  del mean_datas[i][5]\n",
        "  plt.plot(mean_datas[i], 'o')\n",
        "  plt.title(i)\n",
        "  plt.show()"
      ],
      "execution_count": 95,
      "outputs": [
        {
          "output_type": "display_data",
          "data": {
            "image/png": "[encoded data removed]",
            "text/plain": [
              "<Figure size 432x288 with 1 Axes>"
            ]
          },
          "metadata": {
            "tags": [],
            "needs_background": "light"
          }
        },
        {
          "output_type": "display_data",
          "data": {
            "image/png": "[encoded data removed]",
            "text/plain": [
              "<Figure size 432x288 with 1 Axes>"
            ]
          },
          "metadata": {
            "tags": [],
            "needs_background": "light"
          }
        },
        {
          "output_type": "display_data",
          "data": {
            "image/png": "[encoded data removed]",
            "text/plain": [
              "<Figure size 432x288 with 1 Axes>"
            ]
          },
          "metadata": {
            "tags": [],
            "needs_background": "light"
          }
        },
        {
          "output_type": "display_data",
          "data": {
            "image/png": "[encoded data removed]",
            "text/plain": [
              "<Figure size 432x288 with 1 Axes>"
            ]
          },
          "metadata": {
            "tags": [],
            "needs_background": "light"
          }
        },
        {
          "output_type": "display_data",
          "data": {
            "image/png": "[encoded data removed]",
            "text/plain": [
              "<Figure size 432x288 with 1 Axes>"
            ]
          },
          "metadata": {
            "tags": [],
            "needs_background": "light"
          }
        },
        {
          "output_type": "display_data",
          "data": {
            "image/png": "[encoded data removed]",
            "text/plain": [
              "<Figure size 432x288 with 1 Axes>"
            ]
          },
          "metadata": {
            "tags": [],
            "needs_background": "light"
          }
        },
        {
          "output_type": "display_data",
          "data": {
            "image/png": "[encoded data removed]",
            "text/plain": [
              "<Figure size 432x288 with 1 Axes>"
            ]
          },
          "metadata": {
            "tags": [],
            "needs_background": "light"
          }
        },
        {
          "output_type": "display_data",
          "data": {
            "image/png": "[encoded data removed]",
            "text/plain": [
              "<Figure size 432x288 with 1 Axes>"
            ]
          },
          "metadata": {
            "tags": [],
            "needs_background": "light"
          }
        },
        {
          "output_type": "display_data",
          "data": {
            "image/png": "[encoded data removed]",
            "text/plain": [
              "<Figure size 432x288 with 1 Axes>"
            ]
          },
          "metadata": {
            "tags": [],
            "needs_background": "light"
          }
        },
        {
          "output_type": "display_data",
          "data": {
            "image/png": "[encoded data removed]",
            "text/plain": [
              "<Figure size 432x288 with 1 Axes>"
            ]
          },
          "metadata": {
            "tags": [],
            "needs_background": "light"
          }
        },
        {
          "output_type": "display_data",
          "data": {
            "image/png": "[encoded data removed]",
            "text/plain": [
              "<Figure size 432x288 with 1 Axes>"
            ]
          },
          "metadata": {
            "tags": [],
            "needs_background": "light"
          }
        },
        {
          "output_type": "display_data",
          "data": {
            "image/png": "[encoded data removed]",
            "text/plain": [
              "<Figure size 432x288 with 1 Axes>"
            ]
          },
          "metadata": {
            "tags": [],
            "needs_background": "light"
          }
        },
        {
          "output_type": "display_data",
          "data": {
            "image/png": "[encoded data removed]",
            "text/plain": [
              "<Figure size 432x288 with 1 Axes>"
            ]
          },
          "metadata": {
            "tags": [],
            "needs_background": "light"
          }
        },
        {
          "output_type": "display_data",
          "data": {
            "image/png": "[encoded data removed]",
            "text/plain": [
              "<Figure size 432x288 with 1 Axes>"
            ]
          },
          "metadata": {
            "tags": [],
            "needs_background": "light"
          }
        }
      ]
    },
    {
      "cell_type": "code",
      "metadata": {
        "id": "QtNKffc-o0Bq",
        "colab_type": "code",
        "colab": {}
      },
      "source": [
        ""
      ],
      "execution_count": 0,
      "outputs": []
    },
    {
      "cell_type": "code",
      "metadata": {
        "id": "-fxU2a5PBny3",
        "colab_type": "code",
        "colab": {}
      },
      "source": [
        "from google.colab import drive\n",
        "drive.mount('/content/drive')"
      ],
      "execution_count": 0,
      "outputs": []
    }
  ]
}