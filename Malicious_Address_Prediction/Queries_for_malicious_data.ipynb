{
  "nbformat": 4,
  "nbformat_minor": 0,
  "metadata": {
    "colab": {
      "name": "Queries_for_malicious_data.ipynb",
      "provenance": [],
      "include_colab_link": true
    },
    "kernelspec": {
      "name": "python3",
      "display_name": "Python 3"
    }
  },
  "cells": [
    {
      "cell_type": "markdown",
      "metadata": {
        "id": "view-in-github",
        "colab_type": "text"
      },
      "source": [
        "<a href=\"https://colab.research.google.com/github/mshilpaa/ethereum-data-analysis/blob/master/Malicious_Address_Prediction/Queries_for_malicious_data.ipynb\" target=\"_parent\"><img src=\"https://colab.research.google.com/assets/colab-badge.svg\" alt=\"Open In Colab\"/></a>"
      ]
    },
    {
      "cell_type": "markdown",
      "metadata": {
        "id": "wBbBSac7l8kc",
        "colab_type": "text"
      },
      "source": [
        "# SQL Queries for Google Big Query"
      ]
    },
    {
      "cell_type": "markdown",
      "metadata": {
        "id": "9qVy9gmSmE5Y",
        "colab_type": "text"
      },
      "source": [
        "**Full join in and out transactions**\n",
        "```\n",
        "SELECT out_txn.address as address1, in_txn.address as address2, out_txn.no_of_out_transactions as no_of_out_transactions, out_txn.tot_ether_sent as tot_ether_sent, in_txn.no_of_in_transactions as no_of_in_transactions, in_txn.tot_ether_recieved as tot_ether_recieved FROM adroit-medium-269914.ethereum.in_txn as in_txn\n",
        "FULL JOIN adroit-medium-269914.ethereum.out_txn as out_txn ON in_txn.address = out_txn.address\n",
        "```"
      ]
    },
    {
      "cell_type": "markdown",
      "metadata": {
        "id": "59dKGeI7p9Nt",
        "colab_type": "text"
      },
      "source": [
        "**Tokens sent and recieved**\n",
        "```\n",
        "SELECT token_recd.address as address1, token_sent.address as address2, token_recd.tot_distinct_tokens_recieved, token_recd.tot_tokens_recieved, token_recd.tot_token_value_recieved,\n",
        "token_sent.tot_distinct_tokens_sent, token_sent.tot_tokens_sent, token_sent.tot_token_value_sent \n",
        "FROM (SELECT to_address as address, count(distinct token_address) as tot_distinct_tokens_recieved, count(*) as tot_tokens_recieved, sum(safe_cast(value as FLOAT64)) as tot_token_value_recieved FROM `bigquery-public-data.crypto_ethereum.token_transfers` WHERE to_address in (SELECT address FROM `adroit-medium-269914.ethereum.addrlist`)group by to_address) as token_recd \n",
        "FULL JOIN \n",
        "(SELECT from_address as address, count(distinct token_address) as tot_distinct_tokens_sent, count(*) as tot_tokens_sent, sum(safe_cast(value as FLOAT64)) as tot_token_value_sent FROM `bigquery-public-data.crypto_ethereum.token_transfers` WHERE from_address in (SELECT address FROM `adroit-medium-269914.ethereum.addrlist`) group by from_address) as token_sent\n",
        "ON token_recd.address = token_sent.address\n",
        "```"
      ]
    },
    {
      "cell_type": "markdown",
      "metadata": {
        "id": "uA0Ib59Gsphq",
        "colab_type": "text"
      },
      "source": [
        "**Monthly txn:**\n",
        "```\n",
        "select m_in.address as address1, m_out.address as address2, m_in.monthly_out_txn, m_out.monthly_in_txn\n",
        "from (select from_address as address, sum(number_tx_sent)/count(month) as monthly_out_txn \n",
        "from  \n",
        "(with traces_clean as (\n",
        "    select * from `bigquery-public-data.crypto_ethereum.transactions` \n",
        "    \n",
        ")\n",
        "select \n",
        "        TIMESTAMP_TRUNC(block_timestamp, MONTH, 'UTC') as month, \n",
        "        from_address,\n",
        "        count(*) as number_tx_sent\n",
        "    from traces_clean\n",
        "    where from_address in (SELECT address FROM `adroit-medium-269914.ethereum.addrlist`)\n",
        "    group by TIMESTAMP_TRUNC(block_timestamp, MONTH, 'UTC'), from_address)\n",
        "group by from_address) as m_in\n",
        "full join\n",
        "(select to_address as address, sum(number_tx_received)/count(month) as monthly_in_txn \n",
        "from \n",
        "(with traces_clean as (\n",
        "    select * from `bigquery-public-data.crypto_ethereum.transactions` \n",
        "    \n",
        ")\n",
        "    select \n",
        "        TIMESTAMP_TRUNC(block_timestamp, MONTH, 'UTC') as month, \n",
        "        to_address,\n",
        "        count(*) as number_tx_received\n",
        "    from traces_clean\n",
        "    where to_address in (SELECT address FROM `adroit-medium-269914.ethereum.addrlist`)\n",
        "    group by TIMESTAMP_TRUNC(block_timestamp, MONTH, 'UTC'), to_address)\n",
        "group by to_address) as m_out\n",
        "on m_in.address = m_out.address\n",
        "```"
      ]
    },
    {
      "cell_type": "markdown",
      "metadata": {
        "id": "aWZ0bspkAmrp",
        "colab_type": "text"
      },
      "source": [
        "**Time b/w txn:**\n",
        "```\n",
        "select time_out.address as address1, time_out.no_of_in_txn, time_out.total_count,time_in.address as address2, time_in.no_of_out_txn, time_in.total_out_count,\n",
        "from\n",
        "(SELECT to_address as address, TIMESTAMP_DIFF(max(block_timestamp), min(block_timestamp),second)  as no_of_in_txn, count(block_timestamp) as total_count, FROM `bigquery-public-data.crypto_ethereum.transactions` WHERE to_address in (SELECT address FROM `adroit-medium-269914.ethereum.addrlist`) group by to_address) as time_out\n",
        "full join\n",
        "(SELECT from_address as address, TIMESTAMP_DIFF(max(block_timestamp), min(block_timestamp),second)  as no_of_out_txn, count(block_timestamp) as total_out_count, FROM `bigquery-public-data.crypto_ethereum.transactions` WHERE from_address in (SELECT address FROM `adroit-medium-269914.ethereum.addrlist`) group by from_address) as time_in\n",
        "on time_out.address = time_in.address\n",
        "```"
      ]
    }
  ]
}