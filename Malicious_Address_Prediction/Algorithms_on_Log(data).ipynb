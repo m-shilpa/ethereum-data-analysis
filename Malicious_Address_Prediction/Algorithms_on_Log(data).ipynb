{
  "nbformat": 4,
  "nbformat_minor": 0,
  "metadata": {
    "colab": {
      "name": "Copy of KNN.ipynb",
      "provenance": [],
      "collapsed_sections": [],
      "authorship_tag": "ABX9TyMI6OpdsOTfXxKSsXnL4xm4",
      "include_colab_link": true
    },
    "kernelspec": {
      "name": "python3",
      "display_name": "Python 3"
    }
  },
  "cells": [
    {
      "cell_type": "markdown",
      "metadata": {
        "id": "view-in-github",
        "colab_type": "text"
      },
      "source": [
        "<a href=\"https://colab.research.google.com/github/mshilpaa/ethereum-data-analysis/blob/master/Malicious_Address_Prediction/Algorithms_on_Log(data).ipynb\" target=\"_parent\"><img src=\"https://colab.research.google.com/assets/colab-badge.svg\" alt=\"Open In Colab\"/></a>"
      ]
    },
    {
      "cell_type": "code",
      "metadata": {
        "id": "dNJyXbaXRWt_",
        "colab_type": "code",
        "colab": {}
      },
      "source": [
        "import pandas as pd\n",
        "import numpy as np\n",
        "import matplotlib.pyplot as plt"
      ],
      "execution_count": 0,
      "outputs": []
    },
    {
      "cell_type": "code",
      "metadata": {
        "id": "Ir-37GFURblp",
        "colab_type": "code",
        "outputId": "c9116585-f5bc-4475-f4c0-2a4d3d2f43cd",
        "colab": {
          "base_uri": "https://localhost:8080/",
          "height": 121
        }
      },
      "source": [
        "from google.colab import drive\n",
        "drive.mount('/content/gdrive')"
      ],
      "execution_count": 2,
      "outputs": [
        {
          "output_type": "stream",
          "text": [
            "Go to this URL in a browser: https://accounts.google.com/o/oauth2/auth?client_id=947318989803-6bn6qk8qdgf4n4g3pfee6491hc0brc4i.apps.googleusercontent.com&redirect_uri=urn%3aietf%3awg%3aoauth%3a2.0%3aoob&response_type=code&scope=email%20https%3a%2f%2fwww.googleapis.com%2fauth%2fdocs.test%20https%3a%2f%2fwww.googleapis.com%2fauth%2fdrive%20https%3a%2f%2fwww.googleapis.com%2fauth%2fdrive.photos.readonly%20https%3a%2f%2fwww.googleapis.com%2fauth%2fpeopleapi.readonly\n",
            "\n",
            "Enter your authorization code:\n",
            "··········\n",
            "Mounted at /content/gdrive\n"
          ],
          "name": "stdout"
        }
      ]
    },
    {
      "cell_type": "markdown",
      "metadata": {
        "id": "xRtMQjc2bycr",
        "colab_type": "text"
      },
      "source": [
        "**column 'label' has values 1 - malicious , 0 - non-malicious**"
      ]
    },
    {
      "cell_type": "code",
      "metadata": {
        "id": "qtGcCRvJRfYv",
        "colab_type": "code",
        "colab": {}
      },
      "source": [
        "df = pd.read_csv('/content/gdrive/My Drive/project_data/malicious_prediction_data.csv')"
      ],
      "execution_count": 0,
      "outputs": []
    },
    {
      "cell_type": "code",
      "metadata": {
        "id": "eDV30AiJRwKQ",
        "colab_type": "code",
        "outputId": "f2d7d798-8b79-4b62-80d4-1d9e9bf72ab4",
        "colab": {
          "base_uri": "https://localhost:8080/",
          "height": 770
        }
      },
      "source": [
        "print(df.shape)\n",
        "print(df.dtypes)\n",
        "df.head(5)"
      ],
      "execution_count": 0,
      "outputs": [
        {
          "output_type": "stream",
          "text": [
            "(534, 17)\n",
            "address                      object\n",
            "comment                      object\n",
            "no_of_out_transactions      float64\n",
            "tot_ether_sent              float64\n",
            "no_of_in_transactions         int64\n",
            "tot_ether_recieved          float64\n",
            "monthly_out_txn             float64\n",
            "monthly_in_txn              float64\n",
            "active_months                 int64\n",
            "eth_balance                 float64\n",
            "time_b/w_out_txn            float64\n",
            "time_b/w_in_txn             float64\n",
            "tot_token_value_recieved    float64\n",
            "tot_token_value_sent        float64\n",
            "monthly_ether_sent          float64\n",
            "monthly_ether_recieved      float64\n",
            "label                         int64\n",
            "dtype: object\n"
          ],
          "name": "stdout"
        },
        {
          "output_type": "execute_result",
          "data": {
            "text/html": [
              "<div>\n",
              "<style scoped>\n",
              "    .dataframe tbody tr th:only-of-type {\n",
              "        vertical-align: middle;\n",
              "    }\n",
              "\n",
              "    .dataframe tbody tr th {\n",
              "        vertical-align: top;\n",
              "    }\n",
              "\n",
              "    .dataframe thead th {\n",
              "        text-align: right;\n",
              "    }\n",
              "</style>\n",
              "<table border=\"1\" class=\"dataframe\">\n",
              "  <thead>\n",
              "    <tr style=\"text-align: right;\">\n",
              "      <th></th>\n",
              "      <th>address</th>\n",
              "      <th>comment</th>\n",
              "      <th>no_of_out_transactions</th>\n",
              "      <th>tot_ether_sent</th>\n",
              "      <th>no_of_in_transactions</th>\n",
              "      <th>tot_ether_recieved</th>\n",
              "      <th>monthly_out_txn</th>\n",
              "      <th>monthly_in_txn</th>\n",
              "      <th>active_months</th>\n",
              "      <th>eth_balance</th>\n",
              "      <th>time_b/w_out_txn</th>\n",
              "      <th>time_b/w_in_txn</th>\n",
              "      <th>tot_token_value_recieved</th>\n",
              "      <th>tot_token_value_sent</th>\n",
              "      <th>monthly_ether_sent</th>\n",
              "      <th>monthly_ether_recieved</th>\n",
              "      <th>label</th>\n",
              "    </tr>\n",
              "  </thead>\n",
              "  <tbody>\n",
              "    <tr>\n",
              "      <th>0</th>\n",
              "      <td>0x983bda798a24720bb4fe3dba287ec352e7b440fc</td>\n",
              "      <td>Fake BITCAR platform token</td>\n",
              "      <td>0.0</td>\n",
              "      <td>0.000000</td>\n",
              "      <td>7</td>\n",
              "      <td>0.000000</td>\n",
              "      <td>0.000000</td>\n",
              "      <td>3.5</td>\n",
              "      <td>2</td>\n",
              "      <td>0.000000</td>\n",
              "      <td>0.000000</td>\n",
              "      <td>0.000000e+00</td>\n",
              "      <td>0.0</td>\n",
              "      <td>0.0</td>\n",
              "      <td>0.000000</td>\n",
              "      <td>0.000000</td>\n",
              "      <td>1</td>\n",
              "    </tr>\n",
              "    <tr>\n",
              "      <th>1</th>\n",
              "      <td>0x45029af827c652f47b1f678456b2cd009647c8ad</td>\n",
              "      <td>Fake BITCAR platform token</td>\n",
              "      <td>0.0</td>\n",
              "      <td>0.000000</td>\n",
              "      <td>5</td>\n",
              "      <td>0.000000</td>\n",
              "      <td>0.000000</td>\n",
              "      <td>2.5</td>\n",
              "      <td>2</td>\n",
              "      <td>0.000000</td>\n",
              "      <td>0.000000</td>\n",
              "      <td>0.000000e+00</td>\n",
              "      <td>0.0</td>\n",
              "      <td>0.0</td>\n",
              "      <td>0.000000</td>\n",
              "      <td>0.000000</td>\n",
              "      <td>1</td>\n",
              "    </tr>\n",
              "    <tr>\n",
              "      <th>2</th>\n",
              "      <td>0xcc02b920ae227f1be7d01fc241c27e5f74d40436</td>\n",
              "      <td>Fake copy of ROCK2 token</td>\n",
              "      <td>0.0</td>\n",
              "      <td>0.000000</td>\n",
              "      <td>3</td>\n",
              "      <td>0.000000</td>\n",
              "      <td>0.000000</td>\n",
              "      <td>3.0</td>\n",
              "      <td>1</td>\n",
              "      <td>0.000000</td>\n",
              "      <td>0.000000</td>\n",
              "      <td>0.000000e+00</td>\n",
              "      <td>0.0</td>\n",
              "      <td>0.0</td>\n",
              "      <td>0.000000</td>\n",
              "      <td>0.000000</td>\n",
              "      <td>1</td>\n",
              "    </tr>\n",
              "    <tr>\n",
              "      <th>3</th>\n",
              "      <td>0x181c71726f12ce2514e8b93019eb22645a79f966</td>\n",
              "      <td>Fake Whalesburg ICO support</td>\n",
              "      <td>47.0</td>\n",
              "      <td>32.078751</td>\n",
              "      <td>28</td>\n",
              "      <td>32.101368</td>\n",
              "      <td>9.400000</td>\n",
              "      <td>7.0</td>\n",
              "      <td>5</td>\n",
              "      <td>0.000000</td>\n",
              "      <td>229893.021277</td>\n",
              "      <td>3.781516e+05</td>\n",
              "      <td>0.0</td>\n",
              "      <td>0.0</td>\n",
              "      <td>6.415750</td>\n",
              "      <td>6.420274</td>\n",
              "      <td>1</td>\n",
              "    </tr>\n",
              "    <tr>\n",
              "      <th>4</th>\n",
              "      <td>0x2056d2e97cc9ad78cf527b382495a8b9704ce011</td>\n",
              "      <td>Fake Whalesburg ICO support</td>\n",
              "      <td>11.0</td>\n",
              "      <td>1.076784</td>\n",
              "      <td>6</td>\n",
              "      <td>1.082241</td>\n",
              "      <td>3.666667</td>\n",
              "      <td>3.0</td>\n",
              "      <td>3</td>\n",
              "      <td>0.000143</td>\n",
              "      <td>813860.636364</td>\n",
              "      <td>1.322250e+06</td>\n",
              "      <td>0.0</td>\n",
              "      <td>0.0</td>\n",
              "      <td>0.358928</td>\n",
              "      <td>0.360747</td>\n",
              "      <td>1</td>\n",
              "    </tr>\n",
              "  </tbody>\n",
              "</table>\n",
              "</div>"
            ],
            "text/plain": [
              "                                      address  ... label\n",
              "0  0x983bda798a24720bb4fe3dba287ec352e7b440fc  ...     1\n",
              "1  0x45029af827c652f47b1f678456b2cd009647c8ad  ...     1\n",
              "2  0xcc02b920ae227f1be7d01fc241c27e5f74d40436  ...     1\n",
              "3  0x181c71726f12ce2514e8b93019eb22645a79f966  ...     1\n",
              "4  0x2056d2e97cc9ad78cf527b382495a8b9704ce011  ...     1\n",
              "\n",
              "[5 rows x 17 columns]"
            ]
          },
          "metadata": {
            "tags": []
          },
          "execution_count": 195
        }
      ]
    },
    {
      "cell_type": "code",
      "metadata": {
        "id": "xZG_XzCD2RQK",
        "colab_type": "code",
        "colab": {
          "base_uri": "https://localhost:8080/",
          "height": 218
        },
        "outputId": "1b6a04e0-fdde-4efc-ccaa-771967ff1be5"
      },
      "source": [
        "df['comment'].value_counts()"
      ],
      "execution_count": 4,
      "outputs": [
        {
          "output_type": "execute_result",
          "data": {
            "text/plain": [
              "Non Malicious                                                              267\n",
              "0                                                                          142\n",
              "Fake admin in Selfllery ICO                                                  8\n",
              "Fake Whalesburg ICO support                                                  4\n",
              "Fake PlayHall support                                                        4\n",
              "                                                                          ... \n",
              "Cloned decentraland site, phishing for ETH post ICO. - decentraland.pro      1\n",
              "Fake Origami Network and Crypto Cashback Rebate support                      1\n",
              "PHISH_Scambots_7                                                             1\n",
              "Fake MyEtherWallet                                                           1\n",
              "Fake RedPulse crowdsale site (from coin.red-pulse.tech)                      1\n",
              "Name: comment, Length: 102, dtype: int64"
            ]
          },
          "metadata": {
            "tags": []
          },
          "execution_count": 4
        }
      ]
    },
    {
      "cell_type": "code",
      "metadata": {
        "id": "tWfPEHKN2wEa",
        "colab_type": "code",
        "colab": {
          "base_uri": "https://localhost:8080/",
          "height": 34
        },
        "outputId": "3729a412-1eab-482f-dbd9-9738018eca37"
      },
      "source": [
        "len(df['comment'].value_counts())"
      ],
      "execution_count": 5,
      "outputs": [
        {
          "output_type": "execute_result",
          "data": {
            "text/plain": [
              "102"
            ]
          },
          "metadata": {
            "tags": []
          },
          "execution_count": 5
        }
      ]
    },
    {
      "cell_type": "code",
      "metadata": {
        "id": "3W5YgbNOUlRE",
        "colab_type": "code",
        "outputId": "6de51b68-aec3-4c54-cde3-3bc71712feec",
        "colab": {
          "base_uri": "https://localhost:8080/",
          "height": 286
        }
      },
      "source": [
        "df.mean()"
      ],
      "execution_count": 0,
      "outputs": [
        {
          "output_type": "execute_result",
          "data": {
            "text/plain": [
              "no_of_out_transactions      1.498427e+02\n",
              "tot_ether_sent              1.859411e+03\n",
              "no_of_in_transactions       6.531648e+01\n",
              "tot_ether_recieved          1.873335e+03\n",
              "monthly_out_txn             1.309968e+01\n",
              "monthly_in_txn              1.601115e+01\n",
              "active_months               5.425094e+00\n",
              "eth_balance                 1.991260e+19\n",
              "time_b/w_out_txn            8.846449e+05\n",
              "time_b/w_in_txn             8.689263e+05\n",
              "tot_token_value_recieved    1.740037e+57\n",
              "tot_token_value_sent        2.170932e+17\n",
              "monthly_ether_sent          1.525014e+02\n",
              "monthly_ether_recieved      2.269928e+02\n",
              "label                       5.000000e-01\n",
              "dtype: float64"
            ]
          },
          "metadata": {
            "tags": []
          },
          "execution_count": 196
        }
      ]
    },
    {
      "cell_type": "code",
      "metadata": {
        "id": "_9YNZT8wU4fG",
        "colab_type": "code",
        "outputId": "ece139c7-769c-43c2-d6ef-7e107f6994c6",
        "colab": {
          "base_uri": "https://localhost:8080/",
          "height": 286
        }
      },
      "source": [
        "df.std()"
      ],
      "execution_count": 0,
      "outputs": [
        {
          "output_type": "execute_result",
          "data": {
            "text/plain": [
              "no_of_out_transactions      2.486349e+03\n",
              "tot_ether_sent              3.425423e+04\n",
              "no_of_in_transactions       6.382657e+02\n",
              "tot_ether_recieved          3.416540e+04\n",
              "monthly_out_txn             1.004221e+02\n",
              "monthly_in_txn              9.232221e+01\n",
              "active_months               5.410799e+00\n",
              "eth_balance                 2.978806e+20\n",
              "time_b/w_out_txn            1.638365e+06\n",
              "time_b/w_in_txn             1.970095e+06\n",
              "tot_token_value_recieved    2.800965e+58\n",
              "tot_token_value_sent        5.016685e+18\n",
              "monthly_ether_sent          1.510494e+03\n",
              "monthly_ether_recieved      1.698302e+03\n",
              "label                       5.004688e-01\n",
              "dtype: float64"
            ]
          },
          "metadata": {
            "tags": []
          },
          "execution_count": 197
        }
      ]
    },
    {
      "cell_type": "code",
      "metadata": {
        "id": "aE5g5gTQZGvf",
        "colab_type": "code",
        "outputId": "89bde77c-6db3-40e0-e4cc-5cf9e466d1f1",
        "colab": {
          "base_uri": "https://localhost:8080/",
          "height": 118
        }
      },
      "source": [
        "df.columns"
      ],
      "execution_count": 0,
      "outputs": [
        {
          "output_type": "execute_result",
          "data": {
            "text/plain": [
              "Index(['address', 'comment', 'no_of_out_transactions', 'tot_ether_sent',\n",
              "       'no_of_in_transactions', 'tot_ether_recieved', 'monthly_out_txn',\n",
              "       'monthly_in_txn', 'active_months', 'eth_balance', 'time_b/w_out_txn',\n",
              "       'time_b/w_in_txn', 'tot_token_value_recieved', 'tot_token_value_sent',\n",
              "       'monthly_ether_sent', 'monthly_ether_recieved', 'label'],\n",
              "      dtype='object')"
            ]
          },
          "metadata": {
            "tags": []
          },
          "execution_count": 198
        }
      ]
    },
    {
      "cell_type": "code",
      "metadata": {
        "id": "_wuaEQ2LZPev",
        "colab_type": "code",
        "colab": {}
      },
      "source": [
        "b = df.loc[:,'no_of_out_transactions':].copy()"
      ],
      "execution_count": 0,
      "outputs": []
    },
    {
      "cell_type": "code",
      "metadata": {
        "id": "W5HZfhWM3SEd",
        "colab_type": "code",
        "colab": {
          "base_uri": "https://localhost:8080/",
          "height": 118
        },
        "outputId": "8e0b0e60-6be7-4e79-c36f-0727c2160d3d"
      },
      "source": [
        "b.columns"
      ],
      "execution_count": 7,
      "outputs": [
        {
          "output_type": "execute_result",
          "data": {
            "text/plain": [
              "Index(['no_of_out_transactions', 'tot_ether_sent', 'no_of_in_transactions',\n",
              "       'tot_ether_recieved', 'monthly_out_txn', 'monthly_in_txn',\n",
              "       'active_months', 'eth_balance', 'time_b/w_out_txn', 'time_b/w_in_txn',\n",
              "       'tot_token_value_recieved', 'tot_token_value_sent',\n",
              "       'monthly_ether_sent', 'monthly_ether_recieved', 'label'],\n",
              "      dtype='object')"
            ]
          },
          "metadata": {
            "tags": []
          },
          "execution_count": 7
        }
      ]
    },
    {
      "cell_type": "code",
      "metadata": {
        "id": "eTUXKPVMVHJW",
        "colab_type": "code",
        "colab": {}
      },
      "source": [
        "# # normalization\n",
        "\n",
        "# from sklearn.preprocessing import StandardScaler\n",
        "# sc_X = StandardScaler()\n",
        "# X =  pd.DataFrame(sc_X.fit_transform(b.drop([\"label\"],axis = 1),),\n",
        "#         columns=['no_of_out_transactions', 'tot_ether_sent',\n",
        "#        'no_of_in_transactions', 'tot_ether_recieved', 'monthly_out_txn',\n",
        "#        'monthly_in_txn', 'active_months', 'eth_balance', 'time_b/w_out_txn',\n",
        "#        'time_b/w_in_txn', 'tot_token_value_recieved', 'tot_token_value_sent',\n",
        "#        'monthly_ether_sent', 'monthly_ether_recieved'])"
      ],
      "execution_count": 0,
      "outputs": []
    },
    {
      "cell_type": "code",
      "metadata": {
        "id": "ZgP_umz4aSKc",
        "colab_type": "code",
        "colab": {}
      },
      "source": [
        "X = np.log1p(b.loc[:'monthly_ether_recieved'])\n",
        "y = b['label']"
      ],
      "execution_count": 0,
      "outputs": []
    },
    {
      "cell_type": "code",
      "metadata": {
        "id": "WQVPtQ8lZ4vC",
        "colab_type": "code",
        "colab": {}
      },
      "source": [
        "from sklearn.model_selection import train_test_split\n",
        "X_train,X_test,y_train,y_test = train_test_split(X,y,test_size=1/3,random_state=42,shuffle=True, stratify=y)"
      ],
      "execution_count": 0,
      "outputs": []
    },
    {
      "cell_type": "code",
      "metadata": {
        "id": "xjDvmmhdaWRZ",
        "colab_type": "code",
        "colab": {}
      },
      "source": [
        "from sklearn.neighbors import KNeighborsClassifier\n",
        "\n",
        "\n",
        "test_scores = []\n",
        "train_scores = []\n",
        "\n",
        "for i in range(1,15):\n",
        "\n",
        "    knn = KNeighborsClassifier(i)\n",
        "    knn.fit(X_train,y_train)\n",
        "    \n",
        "    train_scores.append(knn.score(X_train,y_train))\n",
        "    test_scores.append(knn.score(X_test,y_test))"
      ],
      "execution_count": 0,
      "outputs": []
    },
    {
      "cell_type": "markdown",
      "metadata": {
        "id": "tYRIA6tsQpzI",
        "colab_type": "text"
      },
      "source": [
        "Plot of the scores for different k values"
      ]
    },
    {
      "cell_type": "code",
      "metadata": {
        "id": "MnrFSd3naixV",
        "colab_type": "code",
        "outputId": "6f8448ea-bebb-4368-ecca-36c056d3b9be",
        "colab": {
          "base_uri": "https://localhost:8080/",
          "height": 374
        }
      },
      "source": [
        "import seaborn as sns\n",
        "plt.figure(figsize=(12,5))\n",
        "p = sns.lineplot(range(1,15),train_scores,marker='*',label='Train Score')\n",
        "p = sns.lineplot(range(1,15),test_scores,marker='o',label='Test Score')"
      ],
      "execution_count": 14,
      "outputs": [
        {
          "output_type": "stream",
          "text": [
            "/usr/local/lib/python3.6/dist-packages/statsmodels/tools/_testing.py:19: FutureWarning: pandas.util.testing is deprecated. Use the functions in the public API at pandas.testing instead.\n",
            "  import pandas.util.testing as tm\n"
          ],
          "name": "stderr"
        },
        {
          "output_type": "display_data",
          "data": {
            "image/png": "[encoded data removed]",
            "text/plain": [
              "<Figure size 864x360 with 1 Axes>"
            ]
          },
          "metadata": {
            "tags": [],
            "needs_background": "light"
          }
        }
      ]
    },
    {
      "cell_type": "code",
      "metadata": {
        "id": "NP_CE-w8aaX1",
        "colab_type": "code",
        "outputId": "dcbc8a2c-d397-460a-a273-25ea500f1a83",
        "colab": {
          "base_uri": "https://localhost:8080/",
          "height": 34
        }
      },
      "source": [
        "## score that comes from testing on the same datapoints that were used for training\n",
        "max_train_score = max(train_scores)\n",
        "train_scores_ind = [i for i, v in enumerate(train_scores) if v == max_train_score]\n",
        "print('Max train score {} % and k = {}'.format(max_train_score*100,list(map(lambda x: x+1, train_scores_ind))))"
      ],
      "execution_count": 15,
      "outputs": [
        {
          "output_type": "stream",
          "text": [
            "Max train score 100.0 % and k = [1]\n"
          ],
          "name": "stdout"
        }
      ]
    },
    {
      "cell_type": "code",
      "metadata": {
        "id": "N-6z869KaeIH",
        "colab_type": "code",
        "outputId": "0e28d46a-4971-4185-9169-068e2b15c4c7",
        "colab": {
          "base_uri": "https://localhost:8080/",
          "height": 34
        }
      },
      "source": [
        "## score that comes from testing on the datapoints that were split in the beginning to be used for testing solely\n",
        "max_test_score = max(test_scores)\n",
        "test_scores_ind = [i for i, v in enumerate(test_scores) if v == max_test_score]\n",
        "print('Max test score {} % and k = {}'.format(max_test_score*100,list(map(lambda x: x+1, test_scores_ind))))"
      ],
      "execution_count": 16,
      "outputs": [
        {
          "output_type": "stream",
          "text": [
            "Max test score 97.19101123595506 % and k = [12]\n"
          ],
          "name": "stdout"
        }
      ]
    },
    {
      "cell_type": "code",
      "metadata": {
        "id": "gPNqhv4cLzCQ",
        "colab_type": "code",
        "colab": {}
      },
      "source": [
        "def model_evaluation(y_test,y_pred):\n",
        "  from sklearn.metrics import classification_report\n",
        "  print(classification_report(y_test,y_pred))\n",
        "  from sklearn import metrics\n",
        "  cnf_matrix = metrics.confusion_matrix(y_test, y_pred)\n",
        "  p = sns.heatmap(pd.DataFrame(cnf_matrix), annot=True, cmap=\"YlGnBu\" ,fmt='g')\n",
        "  plt.title('Confusion matrix', y=1.1)\n",
        "  plt.ylabel('Actual label')\n",
        "  plt.xlabel('Predicted label')"
      ],
      "execution_count": 0,
      "outputs": []
    },
    {
      "cell_type": "code",
      "metadata": {
        "id": "eWRrMa7acxFn",
        "colab_type": "code",
        "colab": {}
      },
      "source": [
        "def apply_knn(k):\n",
        "  #Setup a knn classifier with k neighbors\n",
        "  knn = KNeighborsClassifier(k)\n",
        "\n",
        "  knn.fit(X_train,y_train)\n",
        "  print(knn.score(X_test,y_test))\n",
        "\n",
        "  y_pred = knn.predict(X_test)\n",
        "  return knn,y_pred"
      ],
      "execution_count": 0,
      "outputs": []
    },
    {
      "cell_type": "code",
      "metadata": {
        "id": "ESs_7y7g31Qw",
        "colab_type": "code",
        "colab": {
          "base_uri": "https://localhost:8080/",
          "height": 463
        },
        "outputId": "1d7a76af-16b1-4f94-e3f9-e8178c5e42df"
      },
      "source": [
        "knn_12,y_pred_12 = apply_knn(12)\n",
        "model_evaluation(y_test,y_pred_12)"
      ],
      "execution_count": 20,
      "outputs": [
        {
          "output_type": "stream",
          "text": [
            "0.9719101123595506\n",
            "              precision    recall  f1-score   support\n",
            "\n",
            "           0       0.99      0.96      0.97        89\n",
            "           1       0.96      0.99      0.97        89\n",
            "\n",
            "    accuracy                           0.97       178\n",
            "   macro avg       0.97      0.97      0.97       178\n",
            "weighted avg       0.97      0.97      0.97       178\n",
            "\n"
          ],
          "name": "stdout"
        },
        {
          "output_type": "display_data",
          "data": {
            "image/png": "[encoded data removed]",
            "text/plain": [
              "<Figure size 432x288 with 2 Axes>"
            ]
          },
          "metadata": {
            "tags": [],
            "needs_background": "light"
          }
        }
      ]
    },
    {
      "cell_type": "code",
      "metadata": {
        "id": "E64uzkKzY1yR",
        "colab_type": "code",
        "outputId": "3943d1f5-19ec-4913-b264-3ae7ea81d0fd",
        "colab": {
          "base_uri": "https://localhost:8080/",
          "height": 67
        }
      },
      "source": [
        "knn_12"
      ],
      "execution_count": 21,
      "outputs": [
        {
          "output_type": "execute_result",
          "data": {
            "text/plain": [
              "KNeighborsClassifier(algorithm='auto', leaf_size=30, metric='minkowski',\n",
              "                     metric_params=None, n_jobs=None, n_neighbors=12, p=2,\n",
              "                     weights='uniform')"
            ]
          },
          "metadata": {
            "tags": []
          },
          "execution_count": 21
        }
      ]
    },
    {
      "cell_type": "code",
      "metadata": {
        "id": "XDQdQglwcUye",
        "colab_type": "code",
        "outputId": "1db2a455-2049-4d23-a4a9-3c2694cae36c",
        "colab": {
          "base_uri": "https://localhost:8080/",
          "height": 34
        }
      },
      "source": [
        "b.iloc[0]['label']"
      ],
      "execution_count": 22,
      "outputs": [
        {
          "output_type": "execute_result",
          "data": {
            "text/plain": [
              "1.0"
            ]
          },
          "metadata": {
            "tags": []
          },
          "execution_count": 22
        }
      ]
    },
    {
      "cell_type": "code",
      "metadata": {
        "id": "1VzMcjYMdvKo",
        "colab_type": "code",
        "colab": {}
      },
      "source": [
        "# knn_12.predict([np.array(b.iloc[0][:'monthly_ether_recieved'])])"
      ],
      "execution_count": 0,
      "outputs": []
    },
    {
      "cell_type": "markdown",
      "metadata": {
        "id": "LgI2rxMHZ5nP",
        "colab_type": "text"
      },
      "source": [
        "# **Applying Grid Search to find best k**"
      ]
    },
    {
      "cell_type": "code",
      "metadata": {
        "id": "dZQWzxQeZOEI",
        "colab_type": "code",
        "outputId": "d2835bf4-9ad0-4fe4-a790-0571ab2648b8",
        "colab": {
          "base_uri": "https://localhost:8080/",
          "height": 101
        }
      },
      "source": [
        "from sklearn.model_selection import GridSearchCV\n",
        "\n",
        "param_grid = {'n_neighbors': np.arange(1, 30)} \n",
        "scoring = {'Accuracy': 'accuracy', 'AUC': 'roc_auc', 'Log_loss': 'neg_log_loss'}\n",
        "\n",
        "gs = GridSearchCV(KNeighborsClassifier(), return_train_score=True,\n",
        "                  param_grid=param_grid, scoring=scoring, cv=10, refit='Accuracy')\n",
        "\n",
        "gs.fit(X, y)\n",
        "results = gs.cv_results_\n",
        "\n",
        "\n",
        "print(\"best params: \" + str(gs.best_estimator_))\n",
        "print(\"best params: \" + str(gs.best_params_))\n",
        "print('best score:', gs.best_score_)\n"
      ],
      "execution_count": 26,
      "outputs": [
        {
          "output_type": "stream",
          "text": [
            "best params: KNeighborsClassifier(algorithm='auto', leaf_size=30, metric='minkowski',\n",
            "                     metric_params=None, n_jobs=None, n_neighbors=5, p=2,\n",
            "                     weights='uniform')\n",
            "best params: {'n_neighbors': 5}\n",
            "best score: 0.9664919636617748\n"
          ],
          "name": "stdout"
        }
      ]
    },
    {
      "cell_type": "code",
      "metadata": {
        "id": "P26iShpVk6y_",
        "colab_type": "code",
        "outputId": "bf18957f-cec5-4148-e57d-02a69168e933",
        "colab": {
          "base_uri": "https://localhost:8080/",
          "height": 215
        }
      },
      "source": [
        "X_test.head(5)"
      ],
      "execution_count": 0,
      "outputs": [
        {
          "output_type": "execute_result",
          "data": {
            "text/html": [
              "<div>\n",
              "<style scoped>\n",
              "    .dataframe tbody tr th:only-of-type {\n",
              "        vertical-align: middle;\n",
              "    }\n",
              "\n",
              "    .dataframe tbody tr th {\n",
              "        vertical-align: top;\n",
              "    }\n",
              "\n",
              "    .dataframe thead th {\n",
              "        text-align: right;\n",
              "    }\n",
              "</style>\n",
              "<table border=\"1\" class=\"dataframe\">\n",
              "  <thead>\n",
              "    <tr style=\"text-align: right;\">\n",
              "      <th></th>\n",
              "      <th>no_of_out_transactions</th>\n",
              "      <th>tot_ether_sent</th>\n",
              "      <th>no_of_in_transactions</th>\n",
              "      <th>tot_ether_recieved</th>\n",
              "      <th>monthly_out_txn</th>\n",
              "      <th>monthly_in_txn</th>\n",
              "      <th>active_months</th>\n",
              "      <th>eth_balance</th>\n",
              "      <th>time_b/w_out_txn</th>\n",
              "      <th>time_b/w_in_txn</th>\n",
              "      <th>tot_token_value_recieved</th>\n",
              "      <th>tot_token_value_sent</th>\n",
              "      <th>monthly_ether_sent</th>\n",
              "      <th>monthly_ether_recieved</th>\n",
              "    </tr>\n",
              "  </thead>\n",
              "  <tbody>\n",
              "    <tr>\n",
              "      <th>377</th>\n",
              "      <td>-0.056297</td>\n",
              "      <td>-0.053504</td>\n",
              "      <td>-0.085180</td>\n",
              "      <td>-0.054051</td>\n",
              "      <td>-0.119494</td>\n",
              "      <td>-0.161664</td>\n",
              "      <td>1.031296</td>\n",
              "      <td>-0.066910</td>\n",
              "      <td>2.751855</td>\n",
              "      <td>2.244724</td>\n",
              "      <td>-0.062181</td>\n",
              "      <td>-0.043315</td>\n",
              "      <td>-0.099346</td>\n",
              "      <td>-0.132263</td>\n",
              "    </tr>\n",
              "    <tr>\n",
              "      <th>252</th>\n",
              "      <td>-0.043012</td>\n",
              "      <td>-0.032646</td>\n",
              "      <td>-0.097726</td>\n",
              "      <td>-0.033134</td>\n",
              "      <td>0.298026</td>\n",
              "      <td>-0.141064</td>\n",
              "      <td>-0.818593</td>\n",
              "      <td>-0.066910</td>\n",
              "      <td>-0.532068</td>\n",
              "      <td>-0.416040</td>\n",
              "      <td>-0.062181</td>\n",
              "      <td>-0.043315</td>\n",
              "      <td>0.390767</td>\n",
              "      <td>0.303750</td>\n",
              "    </tr>\n",
              "    <tr>\n",
              "      <th>253</th>\n",
              "      <td>-0.033350</td>\n",
              "      <td>-0.054325</td>\n",
              "      <td>-0.085180</td>\n",
              "      <td>-0.054869</td>\n",
              "      <td>-0.035167</td>\n",
              "      <td>-0.143775</td>\n",
              "      <td>0.291340</td>\n",
              "      <td>-0.066910</td>\n",
              "      <td>0.048430</td>\n",
              "      <td>0.152839</td>\n",
              "      <td>-0.062181</td>\n",
              "      <td>-0.043315</td>\n",
              "      <td>-0.101027</td>\n",
              "      <td>-0.133746</td>\n",
              "    </tr>\n",
              "    <tr>\n",
              "      <th>338</th>\n",
              "      <td>-0.042207</td>\n",
              "      <td>-0.054147</td>\n",
              "      <td>-0.080475</td>\n",
              "      <td>-0.054694</td>\n",
              "      <td>-0.074502</td>\n",
              "      <td>-0.135643</td>\n",
              "      <td>0.846307</td>\n",
              "      <td>-0.066759</td>\n",
              "      <td>-0.045071</td>\n",
              "      <td>0.564975</td>\n",
              "      <td>-0.062181</td>\n",
              "      <td>-0.043315</td>\n",
              "      <td>-0.100632</td>\n",
              "      <td>-0.133404</td>\n",
              "    </tr>\n",
              "    <tr>\n",
              "      <th>325</th>\n",
              "      <td>-0.012416</td>\n",
              "      <td>-0.053649</td>\n",
              "      <td>-0.072634</td>\n",
              "      <td>-0.054350</td>\n",
              "      <td>0.017695</td>\n",
              "      <td>-0.139257</td>\n",
              "      <td>0.476329</td>\n",
              "      <td>-0.066885</td>\n",
              "      <td>-0.427600</td>\n",
              "      <td>0.066459</td>\n",
              "      <td>-0.062181</td>\n",
              "      <td>-0.043315</td>\n",
              "      <td>-0.099116</td>\n",
              "      <td>-0.132445</td>\n",
              "    </tr>\n",
              "  </tbody>\n",
              "</table>\n",
              "</div>"
            ],
            "text/plain": [
              "     no_of_out_transactions  ...  monthly_ether_recieved\n",
              "377               -0.056297  ...               -0.132263\n",
              "252               -0.043012  ...                0.303750\n",
              "253               -0.033350  ...               -0.133746\n",
              "338               -0.042207  ...               -0.133404\n",
              "325               -0.012416  ...               -0.132445\n",
              "\n",
              "[5 rows x 14 columns]"
            ]
          },
          "metadata": {
            "tags": []
          },
          "execution_count": 221
        }
      ]
    },
    {
      "cell_type": "code",
      "metadata": {
        "id": "3OA1Gyrgp23c",
        "colab_type": "code",
        "colab": {}
      },
      "source": [
        "x_set = X_test.reset_index()\n",
        "y_set = y_test.reset_index()\n",
        "x_set = x_set.drop('index',axis=1)\n",
        "y_set = y_set.drop('index',axis=1)"
      ],
      "execution_count": 0,
      "outputs": []
    },
    {
      "cell_type": "code",
      "metadata": {
        "id": "4urKL6Aooz4Q",
        "colab_type": "code",
        "outputId": "2cfeaa34-90f2-4e4b-c307-bb51a750e995",
        "colab": {
          "base_uri": "https://localhost:8080/",
          "height": 67
        }
      },
      "source": [
        "a = []\n",
        "a.append(x_set.iloc[0].values)\n",
        "a"
      ],
      "execution_count": 0,
      "outputs": [
        {
          "output_type": "execute_result",
          "data": {
            "text/plain": [
              "[array([-0.05629694, -0.05350428, -0.08517991, -0.05405121, -0.11949365,\n",
              "        -0.16166354,  1.03129574, -0.06691027,  2.75185466,  2.24472355,\n",
              "        -0.06218102, -0.04331481, -0.09934629, -0.13226329])]"
            ]
          },
          "metadata": {
            "tags": []
          },
          "execution_count": 223
        }
      ]
    },
    {
      "cell_type": "code",
      "metadata": {
        "id": "qF4aOwQRjOmg",
        "colab_type": "code",
        "outputId": "9a4f5f46-4ea2-47a4-e608-dbafd757ef91",
        "colab": {
          "base_uri": "https://localhost:8080/",
          "height": 402
        }
      },
      "source": [
        "y_set"
      ],
      "execution_count": 0,
      "outputs": [
        {
          "output_type": "execute_result",
          "data": {
            "text/html": [
              "<div>\n",
              "<style scoped>\n",
              "    .dataframe tbody tr th:only-of-type {\n",
              "        vertical-align: middle;\n",
              "    }\n",
              "\n",
              "    .dataframe tbody tr th {\n",
              "        vertical-align: top;\n",
              "    }\n",
              "\n",
              "    .dataframe thead th {\n",
              "        text-align: right;\n",
              "    }\n",
              "</style>\n",
              "<table border=\"1\" class=\"dataframe\">\n",
              "  <thead>\n",
              "    <tr style=\"text-align: right;\">\n",
              "      <th></th>\n",
              "      <th>label</th>\n",
              "    </tr>\n",
              "  </thead>\n",
              "  <tbody>\n",
              "    <tr>\n",
              "      <th>0</th>\n",
              "      <td>0</td>\n",
              "    </tr>\n",
              "    <tr>\n",
              "      <th>1</th>\n",
              "      <td>1</td>\n",
              "    </tr>\n",
              "    <tr>\n",
              "      <th>2</th>\n",
              "      <td>1</td>\n",
              "    </tr>\n",
              "    <tr>\n",
              "      <th>3</th>\n",
              "      <td>0</td>\n",
              "    </tr>\n",
              "    <tr>\n",
              "      <th>4</th>\n",
              "      <td>0</td>\n",
              "    </tr>\n",
              "    <tr>\n",
              "      <th>...</th>\n",
              "      <td>...</td>\n",
              "    </tr>\n",
              "    <tr>\n",
              "      <th>173</th>\n",
              "      <td>0</td>\n",
              "    </tr>\n",
              "    <tr>\n",
              "      <th>174</th>\n",
              "      <td>0</td>\n",
              "    </tr>\n",
              "    <tr>\n",
              "      <th>175</th>\n",
              "      <td>1</td>\n",
              "    </tr>\n",
              "    <tr>\n",
              "      <th>176</th>\n",
              "      <td>0</td>\n",
              "    </tr>\n",
              "    <tr>\n",
              "      <th>177</th>\n",
              "      <td>0</td>\n",
              "    </tr>\n",
              "  </tbody>\n",
              "</table>\n",
              "<p>178 rows × 1 columns</p>\n",
              "</div>"
            ],
            "text/plain": [
              "     label\n",
              "0        0\n",
              "1        1\n",
              "2        1\n",
              "3        0\n",
              "4        0\n",
              "..     ...\n",
              "173      0\n",
              "174      0\n",
              "175      1\n",
              "176      0\n",
              "177      0\n",
              "\n",
              "[178 rows x 1 columns]"
            ]
          },
          "metadata": {
            "tags": []
          },
          "execution_count": 224
        }
      ]
    },
    {
      "cell_type": "code",
      "metadata": {
        "id": "bmQ2X5_ZkrpU",
        "colab_type": "code",
        "outputId": "fcffc983-fd1e-4243-cac5-5b55a77978fc",
        "colab": {
          "base_uri": "https://localhost:8080/",
          "height": 168
        }
      },
      "source": [
        "y_pred"
      ],
      "execution_count": 0,
      "outputs": [
        {
          "output_type": "execute_result",
          "data": {
            "text/plain": [
              "array([0, 1, 0, 0, 0, 0, 0, 0, 0, 1, 0, 1, 0, 0, 1, 1, 1, 1, 1, 1, 0, 0,\n",
              "       0, 1, 0, 0, 1, 0, 1, 1, 1, 0, 1, 0, 0, 0, 0, 0, 0, 1, 0, 0, 1, 1,\n",
              "       1, 1, 1, 1, 1, 1, 0, 0, 0, 0, 0, 0, 0, 1, 0, 0, 0, 0, 1, 0, 0, 0,\n",
              "       0, 1, 0, 1, 0, 0, 0, 1, 0, 0, 0, 0, 1, 0, 0, 0, 1, 1, 1, 0, 1, 1,\n",
              "       0, 1, 0, 0, 1, 1, 1, 0, 0, 1, 0, 1, 0, 1, 0, 0, 0, 0, 0, 0, 0, 1,\n",
              "       0, 0, 0, 1, 0, 1, 1, 1, 1, 1, 1, 0, 1, 0, 1, 1, 0, 1, 0, 0, 1, 1,\n",
              "       0, 1, 0, 0, 0, 1, 1, 0, 1, 1, 0, 0, 1, 0, 1, 0, 0, 0, 1, 1, 0, 0,\n",
              "       0, 0, 0, 0, 0, 1, 0, 1, 0, 1, 1, 1, 1, 0, 1, 0, 1, 0, 1, 0, 0, 1,\n",
              "       0, 0])"
            ]
          },
          "metadata": {
            "tags": []
          },
          "execution_count": 225
        }
      ]
    },
    {
      "cell_type": "code",
      "metadata": {
        "id": "6FCJLY05t5NW",
        "colab_type": "code",
        "colab": {}
      },
      "source": [
        "malicious_x = []\n",
        "not_malicious_x = [] \n",
        "malicious_y = []\n",
        "not_malicious_y = [] \n",
        "for i in range(len(y_pred)):\n",
        "  if y_pred[i] == 1:\n",
        "    malicious_x.append(x_set.iloc[i].values)\n",
        "    malicious_y.append(y_pred[i])\n",
        "\n",
        "  else:\n",
        "    not_malicious_x.append(x_set.iloc[i].values)\n",
        "    not_malicious_y.append(y_pred[i])"
      ],
      "execution_count": 0,
      "outputs": []
    },
    {
      "cell_type": "code",
      "metadata": {
        "id": "rCnElPktyxEx",
        "colab_type": "code",
        "outputId": "47b7dcd8-f36a-4f1c-8cf0-5e4541bf1870",
        "colab": {
          "base_uri": "https://localhost:8080/",
          "height": 84
        }
      },
      "source": [
        "print(len(malicious_x))\n",
        "print(len(not_malicious_x)) \n",
        "print(len(malicious_y))\n",
        "print(len(not_malicious_y)) "
      ],
      "execution_count": 0,
      "outputs": [
        {
          "output_type": "stream",
          "text": [
            "75\n",
            "103\n",
            "75\n",
            "103\n"
          ],
          "name": "stdout"
        }
      ]
    },
    {
      "cell_type": "code",
      "metadata": {
        "id": "oJc4wLtXwgVT",
        "colab_type": "code",
        "outputId": "d802123b-fcca-439f-ce6b-5ba99fdc9767",
        "colab": {
          "base_uri": "https://localhost:8080/",
          "height": 282
        }
      },
      "source": [
        "plt.scatter(malicious_x,malicious_x)\n",
        "plt.scatter(not_malicious_x,not_malicious_x)"
      ],
      "execution_count": 0,
      "outputs": [
        {
          "output_type": "execute_result",
          "data": {
            "text/plain": [
              "<matplotlib.collections.PathCollection at 0x7f5dd7b0ea90>"
            ]
          },
          "metadata": {
            "tags": []
          },
          "execution_count": 228
        },
        {
          "output_type": "display_data",
          "data": {
            "image/png": "[encoded data removed]",
            "text/plain": [
              "<Figure size 432x288 with 1 Axes>"
            ]
          },
          "metadata": {
            "tags": [],
            "needs_background": "light"
          }
        }
      ]
    },
    {
      "cell_type": "markdown",
      "metadata": {
        "id": "YFhlcV3qO_6d",
        "colab_type": "text"
      },
      "source": [
        "# **Logistic Regression**"
      ]
    },
    {
      "cell_type": "code",
      "metadata": {
        "id": "KjeV6bCG001o",
        "colab_type": "code",
        "colab": {}
      },
      "source": [
        "from sklearn.linear_model import LogisticRegression"
      ],
      "execution_count": 0,
      "outputs": []
    },
    {
      "cell_type": "code",
      "metadata": {
        "id": "KzEZxRzoPiE_",
        "colab_type": "code",
        "colab": {
          "base_uri": "https://localhost:8080/",
          "height": 151
        },
        "outputId": "420e4589-7f9e-41bf-b331-7c1acf68552b"
      },
      "source": [
        "clf = LogisticRegression(random_state=42).fit(X_train, y_train)"
      ],
      "execution_count": 30,
      "outputs": [
        {
          "output_type": "stream",
          "text": [
            "/usr/local/lib/python3.6/dist-packages/sklearn/linear_model/_logistic.py:940: ConvergenceWarning: lbfgs failed to converge (status=1):\n",
            "STOP: TOTAL NO. of ITERATIONS REACHED LIMIT.\n",
            "\n",
            "Increase the number of iterations (max_iter) or scale the data as shown in:\n",
            "    https://scikit-learn.org/stable/modules/preprocessing.html\n",
            "Please also refer to the documentation for alternative solver options:\n",
            "    https://scikit-learn.org/stable/modules/linear_model.html#logistic-regression\n",
            "  extra_warning_msg=_LOGISTIC_SOLVER_CONVERGENCE_MSG)\n"
          ],
          "name": "stderr"
        }
      ]
    },
    {
      "cell_type": "code",
      "metadata": {
        "id": "AC4rbLMtWxHC",
        "colab_type": "code",
        "outputId": "9b9d5369-9fd5-472e-d2fd-45aede347133",
        "colab": {
          "base_uri": "https://localhost:8080/",
          "height": 101
        }
      },
      "source": [
        "clf"
      ],
      "execution_count": 0,
      "outputs": [
        {
          "output_type": "execute_result",
          "data": {
            "text/plain": [
              "LogisticRegression(C=1.0, class_weight=None, dual=False, fit_intercept=True,\n",
              "                   intercept_scaling=1, l1_ratio=None, max_iter=100,\n",
              "                   multi_class='auto', n_jobs=None, penalty='l2',\n",
              "                   random_state=0, solver='lbfgs', tol=0.0001, verbose=0,\n",
              "                   warm_start=False)"
            ]
          },
          "metadata": {
            "tags": []
          },
          "execution_count": 231
        }
      ]
    },
    {
      "cell_type": "code",
      "metadata": {
        "id": "_EtRyLpORD1D",
        "colab_type": "code",
        "outputId": "e9e3f5d6-26dd-4c3e-a835-ddd00b5bc05c",
        "colab": {
          "base_uri": "https://localhost:8080/",
          "height": 34
        }
      },
      "source": [
        "clf.score(X_test, y_test)"
      ],
      "execution_count": 0,
      "outputs": [
        {
          "output_type": "execute_result",
          "data": {
            "text/plain": [
              "0.8764044943820225"
            ]
          },
          "metadata": {
            "tags": []
          },
          "execution_count": 232
        }
      ]
    },
    {
      "cell_type": "code",
      "metadata": {
        "id": "GpvoUYfAN5gj",
        "colab_type": "code",
        "outputId": "53c231c4-78fe-4984-d875-1f7054958729",
        "colab": {
          "base_uri": "https://localhost:8080/",
          "height": 446
        }
      },
      "source": [
        "y_pred_lr = clf.predict(X_test)\n",
        "model_evaluation(y_test,y_pred_lr)"
      ],
      "execution_count": 0,
      "outputs": [
        {
          "output_type": "stream",
          "text": [
            "              precision    recall  f1-score   support\n",
            "\n",
            "           0       0.89      0.85      0.87        89\n",
            "           1       0.86      0.90      0.88        89\n",
            "\n",
            "    accuracy                           0.88       178\n",
            "   macro avg       0.88      0.88      0.88       178\n",
            "weighted avg       0.88      0.88      0.88       178\n",
            "\n"
          ],
          "name": "stdout"
        },
        {
          "output_type": "display_data",
          "data": {
            "image/png": "[encoded data removed]",
            "text/plain": [
              "<Figure size 432x288 with 2 Axes>"
            ]
          },
          "metadata": {
            "tags": [],
            "needs_background": "light"
          }
        }
      ]
    },
    {
      "cell_type": "code",
      "metadata": {
        "id": "L71eiDc3RLQI",
        "colab_type": "code",
        "colab": {}
      },
      "source": [
        "# import matplotlib.pyplot as plt\n",
        "\n",
        "# # Plot the decision boundary. For that, we will assign a color to each\n",
        "# # point in the mesh [x_min, x_max]x[y_min, y_max].\n",
        "# x_min, x_max = X_test[:, 0].min() - .5, X_test[:, 0].max() + .5\n",
        "# y_min, y_max = X_test[:, 1].min() - .5, X_test[:, 1].max() + .5\n",
        "# h = .02  # step size in the mesh\n",
        "# xx, yy = np.meshgrid(np.arange(x_min, x_max, h), np.arange(y_min, y_max, h))\n",
        "# Z = clf.predict(np.c_[xx.ravel(), yy.ravel()])\n",
        "\n",
        "# # Put the result into a color plot\n",
        "# Z = Z.reshape(xx.shape)\n",
        "# plt.figure(1, figsize=(4, 3))\n",
        "# plt.pcolormesh(xx, yy, Z, cmap=plt.cm.Paired)\n",
        "\n",
        "# # Plot also the training points\n",
        "# plt.scatter(X_test[:, 0], X_test[:, 1], c=Y_test, edgecolors='k', cmap=plt.cm.Paired)\n",
        "\n",
        "\n",
        "# plt.xlim(xx.min(), xx.max())\n",
        "# plt.ylim(yy.min(), yy.max())\n",
        "# plt.xticks(())\n",
        "# plt.yticks(())\n",
        "\n",
        "# plt.show()"
      ],
      "execution_count": 0,
      "outputs": []
    },
    {
      "cell_type": "code",
      "metadata": {
        "id": "LPyyEpqSTJx5",
        "colab_type": "code",
        "outputId": "001ba86d-3de1-4f5a-f3bd-e11f76ad58e9",
        "colab": {
          "base_uri": "https://localhost:8080/",
          "height": 134
        }
      },
      "source": [
        "from sklearn.model_selection import GridSearchCV\n",
        "\n",
        "param_grid = {'C': np.arange(1, 10, 0.1) } # C - Inverse of regularization strength - a parameter to logistic regression\n",
        "scoring = {'Accuracy': 'accuracy'}\n",
        "\n",
        "gs = GridSearchCV(LogisticRegression(random_state = 1), return_train_score=True,\n",
        "                  param_grid=param_grid, scoring=scoring, cv=10, refit='Accuracy')\n",
        "\n",
        "gs.fit(X, y)\n",
        "results = gs.cv_results_ # contains parameter values and corresponding accuracies for different train-test split\n",
        "\n",
        "print(\"best params: \" + str(gs.best_estimator_))\n",
        "print(\"best params: \" + str(gs.best_params_))\n",
        "print('best score:', gs.best_score_)"
      ],
      "execution_count": 0,
      "outputs": [
        {
          "output_type": "stream",
          "text": [
            "best params: LogisticRegression(C=3.9000000000000026, class_weight=None, dual=False,\n",
            "                   fit_intercept=True, intercept_scaling=1, l1_ratio=None,\n",
            "                   max_iter=100, multi_class='auto', n_jobs=None, penalty='l2',\n",
            "                   random_state=1, solver='lbfgs', tol=0.0001, verbose=0,\n",
            "                   warm_start=False)\n",
            "best params: {'C': 3.9000000000000026}\n",
            "best score: 0.86701607267645\n"
          ],
          "name": "stdout"
        }
      ]
    },
    {
      "cell_type": "markdown",
      "metadata": {
        "id": "uOS5xrgejDoI",
        "colab_type": "text"
      },
      "source": [
        "# **Classification using Multi Layer Perceptron** "
      ]
    },
    {
      "cell_type": "code",
      "metadata": {
        "id": "fAaTFWGUV9Pn",
        "colab_type": "code",
        "colab": {}
      },
      "source": [
        "from sklearn.neural_network import MLPClassifier"
      ],
      "execution_count": 0,
      "outputs": []
    },
    {
      "cell_type": "code",
      "metadata": {
        "id": "TUs5yuRUd5l5",
        "colab_type": "code",
        "outputId": "2e75759c-c402-4f42-ae95-dce107b8bcde",
        "colab": {
          "base_uri": "https://localhost:8080/",
          "height": 34
        }
      },
      "source": [
        "mlp = MLPClassifier(solver='lbfgs', # optimiser\n",
        "                    alpha=1e-5,     # L2 regularization\n",
        "                    hidden_layer_sizes=(4, 15), # ( no. of layers, no. of neurons per layer )\n",
        "                    random_state=1)\n",
        "\n",
        "mlp.fit(X_train, y_train)\n",
        "mlp.score(X_test,y_test)"
      ],
      "execution_count": 32,
      "outputs": [
        {
          "output_type": "execute_result",
          "data": {
            "text/plain": [
              "0.9887640449438202"
            ]
          },
          "metadata": {
            "tags": []
          },
          "execution_count": 32
        }
      ]
    },
    {
      "cell_type": "code",
      "metadata": {
        "id": "Ld7MjeE_eNuj",
        "colab_type": "code",
        "outputId": "133749ef-51d4-4357-f88b-40c172351e08",
        "colab": {
          "base_uri": "https://localhost:8080/",
          "height": 87
        }
      },
      "source": [
        "mlp = MLPClassifier(solver='sgd', alpha=0,learning_rate_init=0.035,\n",
        "                     hidden_layer_sizes=(6, 20), random_state=1)\n",
        "\n",
        "mlp.fit(X_train, y_train)\n",
        "mlp.score(X_test,y_test)"
      ],
      "execution_count": 33,
      "outputs": [
        {
          "output_type": "stream",
          "text": [
            "/usr/local/lib/python3.6/dist-packages/sklearn/neural_network/_multilayer_perceptron.py:571: ConvergenceWarning: Stochastic Optimizer: Maximum iterations (200) reached and the optimization hasn't converged yet.\n",
            "  % self.max_iter, ConvergenceWarning)\n"
          ],
          "name": "stderr"
        },
        {
          "output_type": "execute_result",
          "data": {
            "text/plain": [
              "0.9606741573033708"
            ]
          },
          "metadata": {
            "tags": []
          },
          "execution_count": 33
        }
      ]
    },
    {
      "cell_type": "code",
      "metadata": {
        "id": "_tX2h_ojkTiH",
        "colab_type": "code",
        "outputId": "8634671b-7da0-403d-943c-67537304e500",
        "colab": {
          "base_uri": "https://localhost:8080/",
          "height": 87
        }
      },
      "source": [
        "mlp = MLPClassifier(solver='adam', alpha=1e-5,learning_rate_init=0.0034,\n",
        "                     hidden_layer_sizes=(6, 18), random_state=1)\n",
        "\n",
        "mlp.fit(X_train, y_train)\n",
        "mlp.score(X_test,y_test)"
      ],
      "execution_count": 34,
      "outputs": [
        {
          "output_type": "stream",
          "text": [
            "/usr/local/lib/python3.6/dist-packages/sklearn/neural_network/_multilayer_perceptron.py:571: ConvergenceWarning: Stochastic Optimizer: Maximum iterations (200) reached and the optimization hasn't converged yet.\n",
            "  % self.max_iter, ConvergenceWarning)\n"
          ],
          "name": "stderr"
        },
        {
          "output_type": "execute_result",
          "data": {
            "text/plain": [
              "0.9662921348314607"
            ]
          },
          "metadata": {
            "tags": []
          },
          "execution_count": 34
        }
      ]
    },
    {
      "cell_type": "code",
      "metadata": {
        "id": "Cj7ip-KTpFVA",
        "colab_type": "code",
        "outputId": "2fd7e81c-dee2-4bd0-e11e-873f37ebe068",
        "colab": {
          "base_uri": "https://localhost:8080/",
          "height": 446
        }
      },
      "source": [
        "y_pred = mlp.predict(X_test)\n",
        "model_evaluation(y_test,y_pred)"
      ],
      "execution_count": 35,
      "outputs": [
        {
          "output_type": "stream",
          "text": [
            "              precision    recall  f1-score   support\n",
            "\n",
            "           0       0.99      0.94      0.97        89\n",
            "           1       0.95      0.99      0.97        89\n",
            "\n",
            "    accuracy                           0.97       178\n",
            "   macro avg       0.97      0.97      0.97       178\n",
            "weighted avg       0.97      0.97      0.97       178\n",
            "\n"
          ],
          "name": "stdout"
        },
        {
          "output_type": "display_data",
          "data": {
            "image/png": "[encoded data removed]",
            "text/plain": [
              "<Figure size 432x288 with 2 Axes>"
            ]
          },
          "metadata": {
            "tags": [],
            "needs_background": "light"
          }
        }
      ]
    },
    {
      "cell_type": "markdown",
      "metadata": {
        "id": "TxmuZ_RlLUOU",
        "colab_type": "text"
      },
      "source": [
        "# **Random Forest Classifier**"
      ]
    },
    {
      "cell_type": "code",
      "metadata": {
        "id": "Iwlei1p3pbnR",
        "colab_type": "code",
        "colab": {}
      },
      "source": [
        "from sklearn.ensemble import RandomForestClassifier"
      ],
      "execution_count": 0,
      "outputs": []
    },
    {
      "cell_type": "code",
      "metadata": {
        "id": "eNLz3o7SrrAr",
        "colab_type": "code",
        "outputId": "743d8ba1-d30a-4e1a-8d20-0cdd4a922ea9",
        "colab": {
          "base_uri": "https://localhost:8080/",
          "height": 34
        }
      },
      "source": [
        "rfc = RandomForestClassifier(max_depth=5, random_state=1)\n",
        "rfc.fit(X_train, y_train)\n",
        "rfc.score(X_test,y_test)"
      ],
      "execution_count": 37,
      "outputs": [
        {
          "output_type": "execute_result",
          "data": {
            "text/plain": [
              "1.0"
            ]
          },
          "metadata": {
            "tags": []
          },
          "execution_count": 37
        }
      ]
    },
    {
      "cell_type": "code",
      "metadata": {
        "id": "H4H6z3_GsXxc",
        "colab_type": "code",
        "outputId": "0588c788-8471-47f5-9d8a-d7f6374ca18e",
        "colab": {
          "base_uri": "https://localhost:8080/",
          "height": 151
        }
      },
      "source": [
        "rfc"
      ],
      "execution_count": 38,
      "outputs": [
        {
          "output_type": "execute_result",
          "data": {
            "text/plain": [
              "RandomForestClassifier(bootstrap=True, ccp_alpha=0.0, class_weight=None,\n",
              "                       criterion='gini', max_depth=5, max_features='auto',\n",
              "                       max_leaf_nodes=None, max_samples=None,\n",
              "                       min_impurity_decrease=0.0, min_impurity_split=None,\n",
              "                       min_samples_leaf=1, min_samples_split=2,\n",
              "                       min_weight_fraction_leaf=0.0, n_estimators=100,\n",
              "                       n_jobs=None, oob_score=False, random_state=1, verbose=0,\n",
              "                       warm_start=False)"
            ]
          },
          "metadata": {
            "tags": []
          },
          "execution_count": 38
        }
      ]
    },
    {
      "cell_type": "code",
      "metadata": {
        "id": "KOt9_n2MOtQQ",
        "colab_type": "code",
        "outputId": "e413ab43-29e1-49b9-bd10-e6d8bd3001ba",
        "colab": {
          "base_uri": "https://localhost:8080/",
          "height": 446
        }
      },
      "source": [
        "y_pred = rfc.predict(X_test)\n",
        "model_evaluation(y_test,y_pred)"
      ],
      "execution_count": 39,
      "outputs": [
        {
          "output_type": "stream",
          "text": [
            "              precision    recall  f1-score   support\n",
            "\n",
            "           0       1.00      1.00      1.00        89\n",
            "           1       1.00      1.00      1.00        89\n",
            "\n",
            "    accuracy                           1.00       178\n",
            "   macro avg       1.00      1.00      1.00       178\n",
            "weighted avg       1.00      1.00      1.00       178\n",
            "\n"
          ],
          "name": "stdout"
        },
        {
          "output_type": "display_data",
          "data": {
            "image/png": "[encoded data removed]",
            "text/plain": [
              "<Figure size 432x288 with 2 Axes>"
            ]
          },
          "metadata": {
            "tags": [],
            "needs_background": "light"
          }
        }
      ]
    },
    {
      "cell_type": "code",
      "metadata": {
        "id": "I7CoDx3BEkao",
        "colab_type": "code",
        "colab": {}
      },
      "source": [
        ""
      ],
      "execution_count": 0,
      "outputs": []
    }
  ]
}