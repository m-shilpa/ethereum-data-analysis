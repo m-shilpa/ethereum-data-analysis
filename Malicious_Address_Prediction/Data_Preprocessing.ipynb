{
  "nbformat": 4,
  "nbformat_minor": 0,
  "metadata": {
    "colab": {
      "name": "malicious_txn.ipynb",
      "provenance": [],
      "authorship_tag": "ABX9TyO91ET1qkp9A8A93/uRCUxZ",
      "include_colab_link": true
    },
    "kernelspec": {
      "name": "python3",
      "display_name": "Python 3"
    }
  },
  "cells": [
    {
      "cell_type": "markdown",
      "metadata": {
        "id": "view-in-github",
        "colab_type": "text"
      },
      "source": [
        "<a href=\"https://colab.research.google.com/github/mshilpaa/ethereum-data-analysis/blob/master/Malicious_Address_Prediction/Data_Preprocessing.ipynb\" target=\"_parent\"><img src=\"https://colab.research.google.com/assets/colab-badge.svg\" alt=\"Open In Colab\"/></a>"
      ]
    },
    {
      "cell_type": "code",
      "metadata": {
        "id": "3cs8gW9ywSi8",
        "colab_type": "code",
        "colab": {}
      },
      "source": [
        "import pandas as pd\n",
        "import numpy as np\n",
        "import matplotlib.pyplot as plt"
      ],
      "execution_count": 0,
      "outputs": []
    },
    {
      "cell_type": "code",
      "metadata": {
        "id": "-kBZG61XwNd3",
        "colab_type": "code",
        "outputId": "a92abac5-57e3-40ac-a065-8fb7f281a927",
        "colab": {
          "base_uri": "https://localhost:8080/",
          "height": 34
        }
      },
      "source": [
        "from google.colab import drive\n",
        "drive.mount('/content/gdrive')"
      ],
      "execution_count": 2,
      "outputs": [
        {
          "output_type": "stream",
          "text": [
            "Drive already mounted at /content/gdrive; to attempt to forcibly remount, call drive.mount(\"/content/gdrive\", force_remount=True).\n"
          ],
          "name": "stdout"
        }
      ]
    },
    {
      "cell_type": "code",
      "metadata": {
        "id": "snStYDXcuXJZ",
        "colab_type": "code",
        "colab": {}
      },
      "source": [
        "addr_labels = pd.read_csv('/content/gdrive/My Drive/project_data/addr-darklist.csv')\n",
        "in_out = pd.read_csv('/content/gdrive/My Drive/project_data/malicious_in_out.csv')\n",
        "balance = pd.read_csv('/content/gdrive/My Drive/project_data/malicious_balance.csv')\n",
        "monthly = pd.read_csv('/content/gdrive/My Drive/project_data/malicious_monthly.csv')\n",
        "active = pd.read_csv('/content/gdrive/My Drive/project_data/malicious_active_months.csv')\n",
        "time_bw_txn = pd.read_csv('/content/gdrive/My Drive/project_data/malicious_time_bw_txn.csv')\n",
        "token = pd.read_csv('/content/gdrive/My Drive/project_data/malicious_token.csv')"
      ],
      "execution_count": 0,
      "outputs": []
    },
    {
      "cell_type": "code",
      "metadata": {
        "id": "KcFt1DBAGs6R",
        "colab_type": "code",
        "colab": {
          "base_uri": "https://localhost:8080/",
          "height": 279
        },
        "outputId": "d58085cc-934f-43e7-fea0-da116c9ccaf9"
      },
      "source": [
        "print(addr_labels.shape)\n",
        "print(addr_labels.dtypes)\n",
        "addr_labels.head(5)"
      ],
      "execution_count": 4,
      "outputs": [
        {
          "output_type": "stream",
          "text": [
            "(695, 3)\n",
            "address    object\n",
            "comment    object\n",
            "date       object\n",
            "dtype: object\n"
          ],
          "name": "stdout"
        },
        {
          "output_type": "execute_result",
          "data": {
            "text/html": [
              "<div>\n",
              "<style scoped>\n",
              "    .dataframe tbody tr th:only-of-type {\n",
              "        vertical-align: middle;\n",
              "    }\n",
              "\n",
              "    .dataframe tbody tr th {\n",
              "        vertical-align: top;\n",
              "    }\n",
              "\n",
              "    .dataframe thead th {\n",
              "        text-align: right;\n",
              "    }\n",
              "</style>\n",
              "<table border=\"1\" class=\"dataframe\">\n",
              "  <thead>\n",
              "    <tr style=\"text-align: right;\">\n",
              "      <th></th>\n",
              "      <th>address</th>\n",
              "      <th>comment</th>\n",
              "      <th>date</th>\n",
              "    </tr>\n",
              "  </thead>\n",
              "  <tbody>\n",
              "    <tr>\n",
              "      <th>0</th>\n",
              "      <td>0x90a16ebcf1bc0da0347134f707da93c40bb8a4c5</td>\n",
              "      <td>Fake BITCAR platform token</td>\n",
              "      <td>2019-03-01</td>\n",
              "    </tr>\n",
              "    <tr>\n",
              "      <th>1</th>\n",
              "      <td>0x983bda798a24720bb4fe3dba287ec352e7b440fc</td>\n",
              "      <td>Fake BITCAR platform token</td>\n",
              "      <td>2019-03-01</td>\n",
              "    </tr>\n",
              "    <tr>\n",
              "      <th>2</th>\n",
              "      <td>0x45029af827c652f47b1f678456b2cd009647c8ad</td>\n",
              "      <td>Fake BITCAR platform token</td>\n",
              "      <td>2019-03-01</td>\n",
              "    </tr>\n",
              "    <tr>\n",
              "      <th>3</th>\n",
              "      <td>0xF193a9aFb00715AaCF7ca9Ebffafe02C77517C2E</td>\n",
              "      <td>Fake copy of ROCK2PAY token</td>\n",
              "      <td>2018-11-06</td>\n",
              "    </tr>\n",
              "    <tr>\n",
              "      <th>4</th>\n",
              "      <td>0xcc02b920ae227f1be7d01fc241c27e5f74d40436</td>\n",
              "      <td>Fake copy of ROCK2 token</td>\n",
              "      <td>2018-10-28</td>\n",
              "    </tr>\n",
              "  </tbody>\n",
              "</table>\n",
              "</div>"
            ],
            "text/plain": [
              "                                      address  ...        date\n",
              "0  0x90a16ebcf1bc0da0347134f707da93c40bb8a4c5  ...  2019-03-01\n",
              "1  0x983bda798a24720bb4fe3dba287ec352e7b440fc  ...  2019-03-01\n",
              "2  0x45029af827c652f47b1f678456b2cd009647c8ad  ...  2019-03-01\n",
              "3  0xF193a9aFb00715AaCF7ca9Ebffafe02C77517C2E  ...  2018-11-06\n",
              "4  0xcc02b920ae227f1be7d01fc241c27e5f74d40436  ...  2018-10-28\n",
              "\n",
              "[5 rows x 3 columns]"
            ]
          },
          "metadata": {
            "tags": []
          },
          "execution_count": 4
        }
      ]
    },
    {
      "cell_type": "code",
      "metadata": {
        "id": "qi4Vqj1Oxted",
        "colab_type": "code",
        "colab": {
          "base_uri": "https://localhost:8080/",
          "height": 330
        },
        "outputId": "b97b6982-9779-4c99-a28d-b939ce790c1a"
      },
      "source": [
        "print(in_out.shape)\n",
        "print(in_out.dtypes)\n",
        "in_out.head(5)"
      ],
      "execution_count": 5,
      "outputs": [
        {
          "output_type": "stream",
          "text": [
            "(256, 6)\n",
            "address1                   object\n",
            "address2                   object\n",
            "no_of_out_transactions    float64\n",
            "tot_ether_sent             object\n",
            "no_of_in_transactions       int64\n",
            "tot_ether_recieved         object\n",
            "dtype: object\n"
          ],
          "name": "stdout"
        },
        {
          "output_type": "execute_result",
          "data": {
            "text/html": [
              "<div>\n",
              "<style scoped>\n",
              "    .dataframe tbody tr th:only-of-type {\n",
              "        vertical-align: middle;\n",
              "    }\n",
              "\n",
              "    .dataframe tbody tr th {\n",
              "        vertical-align: top;\n",
              "    }\n",
              "\n",
              "    .dataframe thead th {\n",
              "        text-align: right;\n",
              "    }\n",
              "</style>\n",
              "<table border=\"1\" class=\"dataframe\">\n",
              "  <thead>\n",
              "    <tr style=\"text-align: right;\">\n",
              "      <th></th>\n",
              "      <th>address1</th>\n",
              "      <th>address2</th>\n",
              "      <th>no_of_out_transactions</th>\n",
              "      <th>tot_ether_sent</th>\n",
              "      <th>no_of_in_transactions</th>\n",
              "      <th>tot_ether_recieved</th>\n",
              "    </tr>\n",
              "  </thead>\n",
              "  <tbody>\n",
              "    <tr>\n",
              "      <th>0</th>\n",
              "      <td>0xbc85a12364c9e375801c00aad17b893fc4c8f5b6</td>\n",
              "      <td>0xbc85a12364c9e375801c00aad17b893fc4c8f5b6</td>\n",
              "      <td>8.0</td>\n",
              "      <td>2811315618099494900</td>\n",
              "      <td>9</td>\n",
              "      <td>2814843618099494913</td>\n",
              "    </tr>\n",
              "    <tr>\n",
              "      <th>1</th>\n",
              "      <td>0xaca33c43bd8deac8e1d144baa51fe9c7dd7b010f</td>\n",
              "      <td>0xaca33c43bd8deac8e1d144baa51fe9c7dd7b010f</td>\n",
              "      <td>42.0</td>\n",
              "      <td>740550000000000000000</td>\n",
              "      <td>2</td>\n",
              "      <td>740700000000000000000</td>\n",
              "    </tr>\n",
              "    <tr>\n",
              "      <th>2</th>\n",
              "      <td>NaN</td>\n",
              "      <td>0xa6ba0996684fcff6167128a13c8b0a1648310e6e</td>\n",
              "      <td>NaN</td>\n",
              "      <td>NaN</td>\n",
              "      <td>5</td>\n",
              "      <td>0</td>\n",
              "    </tr>\n",
              "    <tr>\n",
              "      <th>3</th>\n",
              "      <td>0xe4faeef4002c200d9d4f1d381ccb5fb679d1c437</td>\n",
              "      <td>0xe4faeef4002c200d9d4f1d381ccb5fb679d1c437</td>\n",
              "      <td>6.0</td>\n",
              "      <td>1412854490000000000</td>\n",
              "      <td>6</td>\n",
              "      <td>1418314490000000000</td>\n",
              "    </tr>\n",
              "    <tr>\n",
              "      <th>4</th>\n",
              "      <td>0xc169a0e826f22fc7d37a48aaa346ffb4521c35cd</td>\n",
              "      <td>0xc169a0e826f22fc7d37a48aaa346ffb4521c35cd</td>\n",
              "      <td>1.0</td>\n",
              "      <td>36669223048000000000</td>\n",
              "      <td>11</td>\n",
              "      <td>36669664048000000000</td>\n",
              "    </tr>\n",
              "  </tbody>\n",
              "</table>\n",
              "</div>"
            ],
            "text/plain": [
              "                                     address1  ...     tot_ether_recieved\n",
              "0  0xbc85a12364c9e375801c00aad17b893fc4c8f5b6  ...    2814843618099494913\n",
              "1  0xaca33c43bd8deac8e1d144baa51fe9c7dd7b010f  ...  740700000000000000000\n",
              "2                                         NaN  ...                      0\n",
              "3  0xe4faeef4002c200d9d4f1d381ccb5fb679d1c437  ...    1418314490000000000\n",
              "4  0xc169a0e826f22fc7d37a48aaa346ffb4521c35cd  ...   36669664048000000000\n",
              "\n",
              "[5 rows x 6 columns]"
            ]
          },
          "metadata": {
            "tags": []
          },
          "execution_count": 5
        }
      ]
    },
    {
      "cell_type": "code",
      "metadata": {
        "id": "zMAQux_n2yFk",
        "colab_type": "code",
        "colab": {
          "base_uri": "https://localhost:8080/",
          "height": 134
        },
        "outputId": "45841e4c-d382-4b64-df93-f900913c61e5"
      },
      "source": [
        "in_out.isna().sum()"
      ],
      "execution_count": 6,
      "outputs": [
        {
          "output_type": "execute_result",
          "data": {
            "text/plain": [
              "address1                  133\n",
              "address2                    0\n",
              "no_of_out_transactions    133\n",
              "tot_ether_sent            133\n",
              "no_of_in_transactions       0\n",
              "tot_ether_recieved          0\n",
              "dtype: int64"
            ]
          },
          "metadata": {
            "tags": []
          },
          "execution_count": 6
        }
      ]
    },
    {
      "cell_type": "code",
      "metadata": {
        "id": "gqjrWfJ-2LEl",
        "colab_type": "code",
        "colab": {
          "base_uri": "https://localhost:8080/",
          "height": 262
        },
        "outputId": "601f5851-2369-4e7e-9c2b-c7285d852c5d"
      },
      "source": [
        "print(balance.shape)\n",
        "print(balance.dtypes)\n",
        "balance.head(5)"
      ],
      "execution_count": 7,
      "outputs": [
        {
          "output_type": "stream",
          "text": [
            "(262, 2)\n",
            "address        object\n",
            "eth_balance    object\n",
            "dtype: object\n"
          ],
          "name": "stdout"
        },
        {
          "output_type": "execute_result",
          "data": {
            "text/html": [
              "<div>\n",
              "<style scoped>\n",
              "    .dataframe tbody tr th:only-of-type {\n",
              "        vertical-align: middle;\n",
              "    }\n",
              "\n",
              "    .dataframe tbody tr th {\n",
              "        vertical-align: top;\n",
              "    }\n",
              "\n",
              "    .dataframe thead th {\n",
              "        text-align: right;\n",
              "    }\n",
              "</style>\n",
              "<table border=\"1\" class=\"dataframe\">\n",
              "  <thead>\n",
              "    <tr style=\"text-align: right;\">\n",
              "      <th></th>\n",
              "      <th>address</th>\n",
              "      <th>eth_balance</th>\n",
              "    </tr>\n",
              "  </thead>\n",
              "  <tbody>\n",
              "    <tr>\n",
              "      <th>0</th>\n",
              "      <td>0xddff022e4befa69cbb5262446a8ae564700bea24</td>\n",
              "      <td>0</td>\n",
              "    </tr>\n",
              "    <tr>\n",
              "      <th>1</th>\n",
              "      <td>0x116574a18659f0063150e0064e4ea00349a1492c</td>\n",
              "      <td>0</td>\n",
              "    </tr>\n",
              "    <tr>\n",
              "      <th>2</th>\n",
              "      <td>0xce52d38539e1e557f184f1073a59f69c9ba95f28</td>\n",
              "      <td>0</td>\n",
              "    </tr>\n",
              "    <tr>\n",
              "      <th>3</th>\n",
              "      <td>0x5b67a30108e1a5f3d5a809d57e76cd16fdfde7a7</td>\n",
              "      <td>6000000000000000</td>\n",
              "    </tr>\n",
              "    <tr>\n",
              "      <th>4</th>\n",
              "      <td>0xa8454096f4a18e0252b411f670b3dd9d21465e75</td>\n",
              "      <td>0</td>\n",
              "    </tr>\n",
              "  </tbody>\n",
              "</table>\n",
              "</div>"
            ],
            "text/plain": [
              "                                      address       eth_balance\n",
              "0  0xddff022e4befa69cbb5262446a8ae564700bea24                 0\n",
              "1  0x116574a18659f0063150e0064e4ea00349a1492c                 0\n",
              "2  0xce52d38539e1e557f184f1073a59f69c9ba95f28                 0\n",
              "3  0x5b67a30108e1a5f3d5a809d57e76cd16fdfde7a7  6000000000000000\n",
              "4  0xa8454096f4a18e0252b411f670b3dd9d21465e75                 0"
            ]
          },
          "metadata": {
            "tags": []
          },
          "execution_count": 7
        }
      ]
    },
    {
      "cell_type": "code",
      "metadata": {
        "id": "w50B2Vaq2-Bx",
        "colab_type": "code",
        "colab": {
          "base_uri": "https://localhost:8080/",
          "height": 67
        },
        "outputId": "1f16a9e7-a759-44b6-d48d-aa07c11deca4"
      },
      "source": [
        "balance.isna().sum()"
      ],
      "execution_count": 8,
      "outputs": [
        {
          "output_type": "execute_result",
          "data": {
            "text/plain": [
              "address        0\n",
              "eth_balance    0\n",
              "dtype: int64"
            ]
          },
          "metadata": {
            "tags": []
          },
          "execution_count": 8
        }
      ]
    },
    {
      "cell_type": "code",
      "metadata": {
        "id": "pqiJSWiY2Nde",
        "colab_type": "code",
        "colab": {
          "base_uri": "https://localhost:8080/",
          "height": 296
        },
        "outputId": "545293ac-e6ca-45a2-ea0d-cbc1e590ef82"
      },
      "source": [
        "print(monthly.shape)\n",
        "print(monthly.dtypes)\n",
        "monthly.head(5)"
      ],
      "execution_count": 9,
      "outputs": [
        {
          "output_type": "stream",
          "text": [
            "(256, 4)\n",
            "address1            object\n",
            "address2            object\n",
            "monthly_out_txn    float64\n",
            "monthly_in_txn     float64\n",
            "dtype: object\n"
          ],
          "name": "stdout"
        },
        {
          "output_type": "execute_result",
          "data": {
            "text/html": [
              "<div>\n",
              "<style scoped>\n",
              "    .dataframe tbody tr th:only-of-type {\n",
              "        vertical-align: middle;\n",
              "    }\n",
              "\n",
              "    .dataframe tbody tr th {\n",
              "        vertical-align: top;\n",
              "    }\n",
              "\n",
              "    .dataframe thead th {\n",
              "        text-align: right;\n",
              "    }\n",
              "</style>\n",
              "<table border=\"1\" class=\"dataframe\">\n",
              "  <thead>\n",
              "    <tr style=\"text-align: right;\">\n",
              "      <th></th>\n",
              "      <th>address1</th>\n",
              "      <th>address2</th>\n",
              "      <th>monthly_out_txn</th>\n",
              "      <th>monthly_in_txn</th>\n",
              "    </tr>\n",
              "  </thead>\n",
              "  <tbody>\n",
              "    <tr>\n",
              "      <th>0</th>\n",
              "      <td>0xbc85a12364c9e375801c00aad17b893fc4c8f5b6</td>\n",
              "      <td>0xbc85a12364c9e375801c00aad17b893fc4c8f5b6</td>\n",
              "      <td>2.000000</td>\n",
              "      <td>2.25</td>\n",
              "    </tr>\n",
              "    <tr>\n",
              "      <th>1</th>\n",
              "      <td>0x2056d2e97cc9ad78cf527b382495a8b9704ce011</td>\n",
              "      <td>0x2056d2e97cc9ad78cf527b382495a8b9704ce011</td>\n",
              "      <td>3.666667</td>\n",
              "      <td>3.00</td>\n",
              "    </tr>\n",
              "    <tr>\n",
              "      <th>2</th>\n",
              "      <td>NaN</td>\n",
              "      <td>0x4566b8b849dcdbe04f64bf1909db313cf60d6e41</td>\n",
              "      <td>NaN</td>\n",
              "      <td>2.50</td>\n",
              "    </tr>\n",
              "    <tr>\n",
              "      <th>3</th>\n",
              "      <td>0xf4c87c851d772b0f9e72cca0690327f2bc505015</td>\n",
              "      <td>0xf4c87c851d772b0f9e72cca0690327f2bc505015</td>\n",
              "      <td>3.333333</td>\n",
              "      <td>5.00</td>\n",
              "    </tr>\n",
              "    <tr>\n",
              "      <th>4</th>\n",
              "      <td>0xd3d7c71e4c5b1ff2f42fbb9b4a21f3373aa8b3b0</td>\n",
              "      <td>0xd3d7c71e4c5b1ff2f42fbb9b4a21f3373aa8b3b0</td>\n",
              "      <td>1.000000</td>\n",
              "      <td>2.00</td>\n",
              "    </tr>\n",
              "  </tbody>\n",
              "</table>\n",
              "</div>"
            ],
            "text/plain": [
              "                                     address1  ... monthly_in_txn\n",
              "0  0xbc85a12364c9e375801c00aad17b893fc4c8f5b6  ...           2.25\n",
              "1  0x2056d2e97cc9ad78cf527b382495a8b9704ce011  ...           3.00\n",
              "2                                         NaN  ...           2.50\n",
              "3  0xf4c87c851d772b0f9e72cca0690327f2bc505015  ...           5.00\n",
              "4  0xd3d7c71e4c5b1ff2f42fbb9b4a21f3373aa8b3b0  ...           2.00\n",
              "\n",
              "[5 rows x 4 columns]"
            ]
          },
          "metadata": {
            "tags": []
          },
          "execution_count": 9
        }
      ]
    },
    {
      "cell_type": "code",
      "metadata": {
        "id": "Qdo0godK3CEc",
        "colab_type": "code",
        "colab": {
          "base_uri": "https://localhost:8080/",
          "height": 101
        },
        "outputId": "653e5f28-0a27-4cf7-c4c0-faf37ebf20c8"
      },
      "source": [
        "monthly.isna().sum()"
      ],
      "execution_count": 10,
      "outputs": [
        {
          "output_type": "execute_result",
          "data": {
            "text/plain": [
              "address1           133\n",
              "address2             0\n",
              "monthly_out_txn    133\n",
              "monthly_in_txn       0\n",
              "dtype: int64"
            ]
          },
          "metadata": {
            "tags": []
          },
          "execution_count": 10
        }
      ]
    },
    {
      "cell_type": "code",
      "metadata": {
        "id": "dUxLgjDQ2MX_",
        "colab_type": "code",
        "colab": {
          "base_uri": "https://localhost:8080/",
          "height": 262
        },
        "outputId": "8af4df83-199c-49fc-a691-2aee87bd7454"
      },
      "source": [
        "print(active.shape)\n",
        "print(active.dtypes)\n",
        "active.head(5)"
      ],
      "execution_count": 11,
      "outputs": [
        {
          "output_type": "stream",
          "text": [
            "(256, 2)\n",
            "address          object\n",
            "active_months     int64\n",
            "dtype: object\n"
          ],
          "name": "stdout"
        },
        {
          "output_type": "execute_result",
          "data": {
            "text/html": [
              "<div>\n",
              "<style scoped>\n",
              "    .dataframe tbody tr th:only-of-type {\n",
              "        vertical-align: middle;\n",
              "    }\n",
              "\n",
              "    .dataframe tbody tr th {\n",
              "        vertical-align: top;\n",
              "    }\n",
              "\n",
              "    .dataframe thead th {\n",
              "        text-align: right;\n",
              "    }\n",
              "</style>\n",
              "<table border=\"1\" class=\"dataframe\">\n",
              "  <thead>\n",
              "    <tr style=\"text-align: right;\">\n",
              "      <th></th>\n",
              "      <th>address</th>\n",
              "      <th>active_months</th>\n",
              "    </tr>\n",
              "  </thead>\n",
              "  <tbody>\n",
              "    <tr>\n",
              "      <th>0</th>\n",
              "      <td>0x22eb0b23e5ad7ef827aff13b2e40ed63e277844e</td>\n",
              "      <td>7</td>\n",
              "    </tr>\n",
              "    <tr>\n",
              "      <th>1</th>\n",
              "      <td>0x68a91eba9c82b475091077e16357bb2dded479f4</td>\n",
              "      <td>1</td>\n",
              "    </tr>\n",
              "    <tr>\n",
              "      <th>2</th>\n",
              "      <td>0x5bc989f38ec9b913b0fbd8b702858214d428a1bd</td>\n",
              "      <td>2</td>\n",
              "    </tr>\n",
              "    <tr>\n",
              "      <th>3</th>\n",
              "      <td>0xd0cc2b24980cbcca47ef755da88b220a82291407</td>\n",
              "      <td>3</td>\n",
              "    </tr>\n",
              "    <tr>\n",
              "      <th>4</th>\n",
              "      <td>0xe1632e7e0dc135f3bc8991b917e8b682ab340fe1</td>\n",
              "      <td>3</td>\n",
              "    </tr>\n",
              "  </tbody>\n",
              "</table>\n",
              "</div>"
            ],
            "text/plain": [
              "                                      address  active_months\n",
              "0  0x22eb0b23e5ad7ef827aff13b2e40ed63e277844e              7\n",
              "1  0x68a91eba9c82b475091077e16357bb2dded479f4              1\n",
              "2  0x5bc989f38ec9b913b0fbd8b702858214d428a1bd              2\n",
              "3  0xd0cc2b24980cbcca47ef755da88b220a82291407              3\n",
              "4  0xe1632e7e0dc135f3bc8991b917e8b682ab340fe1              3"
            ]
          },
          "metadata": {
            "tags": []
          },
          "execution_count": 11
        }
      ]
    },
    {
      "cell_type": "code",
      "metadata": {
        "id": "OPQpQ9rR3Esj",
        "colab_type": "code",
        "colab": {
          "base_uri": "https://localhost:8080/",
          "height": 67
        },
        "outputId": "ca9fa933-8463-4f43-adf0-bde70d1e6b6a"
      },
      "source": [
        "active.isna().sum()"
      ],
      "execution_count": 12,
      "outputs": [
        {
          "output_type": "execute_result",
          "data": {
            "text/plain": [
              "address          0\n",
              "active_months    0\n",
              "dtype: int64"
            ]
          },
          "metadata": {
            "tags": []
          },
          "execution_count": 12
        }
      ]
    },
    {
      "cell_type": "code",
      "metadata": {
        "id": "Ffnp_2y7AFQA",
        "colab_type": "code",
        "colab": {
          "base_uri": "https://localhost:8080/",
          "height": 330
        },
        "outputId": "f2980359-5755-409a-ad91-76def18e3faa"
      },
      "source": [
        "print(time_bw_txn.shape)\n",
        "print(time_bw_txn.dtypes)\n",
        "time_bw_txn.head(5)"
      ],
      "execution_count": 13,
      "outputs": [
        {
          "output_type": "stream",
          "text": [
            "(256, 6)\n",
            "address1            object\n",
            "no_of_in_txn         int64\n",
            "total_count          int64\n",
            "address2            object\n",
            "no_of_out_txn      float64\n",
            "total_out_count    float64\n",
            "dtype: object\n"
          ],
          "name": "stdout"
        },
        {
          "output_type": "execute_result",
          "data": {
            "text/html": [
              "<div>\n",
              "<style scoped>\n",
              "    .dataframe tbody tr th:only-of-type {\n",
              "        vertical-align: middle;\n",
              "    }\n",
              "\n",
              "    .dataframe tbody tr th {\n",
              "        vertical-align: top;\n",
              "    }\n",
              "\n",
              "    .dataframe thead th {\n",
              "        text-align: right;\n",
              "    }\n",
              "</style>\n",
              "<table border=\"1\" class=\"dataframe\">\n",
              "  <thead>\n",
              "    <tr style=\"text-align: right;\">\n",
              "      <th></th>\n",
              "      <th>address1</th>\n",
              "      <th>no_of_in_txn</th>\n",
              "      <th>total_count</th>\n",
              "      <th>address2</th>\n",
              "      <th>no_of_out_txn</th>\n",
              "      <th>total_out_count</th>\n",
              "    </tr>\n",
              "  </thead>\n",
              "  <tbody>\n",
              "    <tr>\n",
              "      <th>0</th>\n",
              "      <td>0x116574a18659f0063150e0064e4ea00349a1492c</td>\n",
              "      <td>11703412</td>\n",
              "      <td>5</td>\n",
              "      <td>NaN</td>\n",
              "      <td>NaN</td>\n",
              "      <td>NaN</td>\n",
              "    </tr>\n",
              "    <tr>\n",
              "      <th>1</th>\n",
              "      <td>0x47dc6f08214f891cc910d6d2abfb504c2584f14f</td>\n",
              "      <td>10820809</td>\n",
              "      <td>5</td>\n",
              "      <td>NaN</td>\n",
              "      <td>NaN</td>\n",
              "      <td>NaN</td>\n",
              "    </tr>\n",
              "    <tr>\n",
              "      <th>2</th>\n",
              "      <td>0xaa1886de3f70a3ef502ea1379a311c5b4e05f3fd</td>\n",
              "      <td>3198368</td>\n",
              "      <td>36</td>\n",
              "      <td>0xaa1886de3f70a3ef502ea1379a311c5b4e05f3fd</td>\n",
              "      <td>9919294.0</td>\n",
              "      <td>28.0</td>\n",
              "    </tr>\n",
              "    <tr>\n",
              "      <th>3</th>\n",
              "      <td>0x0a4392f623faf54de72cbf6f567e1a7808251cd3</td>\n",
              "      <td>4217</td>\n",
              "      <td>2</td>\n",
              "      <td>0x0a4392f623faf54de72cbf6f567e1a7808251cd3</td>\n",
              "      <td>3831782.0</td>\n",
              "      <td>4.0</td>\n",
              "    </tr>\n",
              "    <tr>\n",
              "      <th>4</th>\n",
              "      <td>0x91ef0754d270e67f2ca92595f5a1c0459ec7df89</td>\n",
              "      <td>137913</td>\n",
              "      <td>2</td>\n",
              "      <td>NaN</td>\n",
              "      <td>NaN</td>\n",
              "      <td>NaN</td>\n",
              "    </tr>\n",
              "  </tbody>\n",
              "</table>\n",
              "</div>"
            ],
            "text/plain": [
              "                                     address1  ...  total_out_count\n",
              "0  0x116574a18659f0063150e0064e4ea00349a1492c  ...              NaN\n",
              "1  0x47dc6f08214f891cc910d6d2abfb504c2584f14f  ...              NaN\n",
              "2  0xaa1886de3f70a3ef502ea1379a311c5b4e05f3fd  ...             28.0\n",
              "3  0x0a4392f623faf54de72cbf6f567e1a7808251cd3  ...              4.0\n",
              "4  0x91ef0754d270e67f2ca92595f5a1c0459ec7df89  ...              NaN\n",
              "\n",
              "[5 rows x 6 columns]"
            ]
          },
          "metadata": {
            "tags": []
          },
          "execution_count": 13
        }
      ]
    },
    {
      "cell_type": "code",
      "metadata": {
        "id": "bRnvkfrNH16p",
        "colab_type": "code",
        "colab": {}
      },
      "source": [
        "def drop_columns(df,columns=[]):\n",
        "  for i in columns:\n",
        "    df = df.drop(i,axis=1)\n",
        "  return df"
      ],
      "execution_count": 0,
      "outputs": []
    },
    {
      "cell_type": "code",
      "metadata": {
        "id": "puYoEQYkHoFD",
        "colab_type": "code",
        "colab": {}
      },
      "source": [
        "time_bw_txn['time_b/w_out_txn'] = time_bw_txn['no_of_out_txn'].div(time_bw_txn['total_out_count'])\n",
        "time_bw_txn['time_b/w_in_txn'] = time_bw_txn['no_of_in_txn'].div(time_bw_txn['total_count'])"
      ],
      "execution_count": 0,
      "outputs": []
    },
    {
      "cell_type": "code",
      "metadata": {
        "id": "O8FBnzJ3IKiJ",
        "colab_type": "code",
        "colab": {}
      },
      "source": [
        "time_bw_txn = drop_columns(time_bw_txn,['no_of_in_txn','total_count',\t'no_of_out_txn',\t'total_out_count'])"
      ],
      "execution_count": 0,
      "outputs": []
    },
    {
      "cell_type": "code",
      "metadata": {
        "id": "Zlly1CBICCln",
        "colab_type": "code",
        "colab": {
          "base_uri": "https://localhost:8080/",
          "height": 101
        },
        "outputId": "b8c29ce1-c828-425a-da74-a39fd98bdf33"
      },
      "source": [
        "time_bw_txn.isna().sum()"
      ],
      "execution_count": 17,
      "outputs": [
        {
          "output_type": "execute_result",
          "data": {
            "text/plain": [
              "address1              0\n",
              "address2            133\n",
              "time_b/w_out_txn    133\n",
              "time_b/w_in_txn       0\n",
              "dtype: int64"
            ]
          },
          "metadata": {
            "tags": []
          },
          "execution_count": 17
        }
      ]
    },
    {
      "cell_type": "code",
      "metadata": {
        "id": "tQLrvvKEAGm5",
        "colab_type": "code",
        "colab": {
          "base_uri": "https://localhost:8080/",
          "height": 383
        },
        "outputId": "7e1e7de0-fae3-44e1-e987-3bcd107a2c8d"
      },
      "source": [
        "print(token.shape)\n",
        "print(token.dtypes)\n",
        "token.head(5)"
      ],
      "execution_count": 18,
      "outputs": [
        {
          "output_type": "stream",
          "text": [
            "(103, 8)\n",
            "address1                         object\n",
            "address2                         object\n",
            "tot_distinct_tokens_recieved      int64\n",
            "tot_tokens_recieved               int64\n",
            "tot_token_value_recieved        float64\n",
            "tot_distinct_tokens_sent        float64\n",
            "tot_tokens_sent                 float64\n",
            "tot_token_value_sent            float64\n",
            "dtype: object\n"
          ],
          "name": "stdout"
        },
        {
          "output_type": "execute_result",
          "data": {
            "text/html": [
              "<div>\n",
              "<style scoped>\n",
              "    .dataframe tbody tr th:only-of-type {\n",
              "        vertical-align: middle;\n",
              "    }\n",
              "\n",
              "    .dataframe tbody tr th {\n",
              "        vertical-align: top;\n",
              "    }\n",
              "\n",
              "    .dataframe thead th {\n",
              "        text-align: right;\n",
              "    }\n",
              "</style>\n",
              "<table border=\"1\" class=\"dataframe\">\n",
              "  <thead>\n",
              "    <tr style=\"text-align: right;\">\n",
              "      <th></th>\n",
              "      <th>address1</th>\n",
              "      <th>address2</th>\n",
              "      <th>tot_distinct_tokens_recieved</th>\n",
              "      <th>tot_tokens_recieved</th>\n",
              "      <th>tot_token_value_recieved</th>\n",
              "      <th>tot_distinct_tokens_sent</th>\n",
              "      <th>tot_tokens_sent</th>\n",
              "      <th>tot_token_value_sent</th>\n",
              "    </tr>\n",
              "  </thead>\n",
              "  <tbody>\n",
              "    <tr>\n",
              "      <th>0</th>\n",
              "      <td>0xaca33c43bd8deac8e1d144baa51fe9c7dd7b010f</td>\n",
              "      <td>0xaca33c43bd8deac8e1d144baa51fe9c7dd7b010f</td>\n",
              "      <td>37</td>\n",
              "      <td>50</td>\n",
              "      <td>5.206866e+23</td>\n",
              "      <td>36.0</td>\n",
              "      <td>37.0</td>\n",
              "      <td>5.231796e+23</td>\n",
              "    </tr>\n",
              "    <tr>\n",
              "      <th>1</th>\n",
              "      <td>0x858457daa7e087ad74cdeeceab8419079bc2ca03</td>\n",
              "      <td>0x858457daa7e087ad74cdeeceab8419079bc2ca03</td>\n",
              "      <td>43</td>\n",
              "      <td>148</td>\n",
              "      <td>9.645465e+23</td>\n",
              "      <td>34.0</td>\n",
              "      <td>65.0</td>\n",
              "      <td>9.581459e+23</td>\n",
              "    </tr>\n",
              "    <tr>\n",
              "      <th>2</th>\n",
              "      <td>0xda657e9fa116900fab8178e5580a3a6cedd89f3c</td>\n",
              "      <td>0xda657e9fa116900fab8178e5580a3a6cedd89f3c</td>\n",
              "      <td>55</td>\n",
              "      <td>136</td>\n",
              "      <td>4.285094e+23</td>\n",
              "      <td>34.0</td>\n",
              "      <td>38.0</td>\n",
              "      <td>4.092339e+23</td>\n",
              "    </tr>\n",
              "    <tr>\n",
              "      <th>3</th>\n",
              "      <td>0x4de76b3dfd38292ba71cf2465ca3a1d526dcb567</td>\n",
              "      <td>NaN</td>\n",
              "      <td>59</td>\n",
              "      <td>61</td>\n",
              "      <td>1.157921e+59</td>\n",
              "      <td>NaN</td>\n",
              "      <td>NaN</td>\n",
              "      <td>NaN</td>\n",
              "    </tr>\n",
              "    <tr>\n",
              "      <th>4</th>\n",
              "      <td>0x35ad1cb9a39de486cebcce3cf51661fd6c848193</td>\n",
              "      <td>NaN</td>\n",
              "      <td>1</td>\n",
              "      <td>1</td>\n",
              "      <td>2.273129e+18</td>\n",
              "      <td>NaN</td>\n",
              "      <td>NaN</td>\n",
              "      <td>NaN</td>\n",
              "    </tr>\n",
              "  </tbody>\n",
              "</table>\n",
              "</div>"
            ],
            "text/plain": [
              "                                     address1  ... tot_token_value_sent\n",
              "0  0xaca33c43bd8deac8e1d144baa51fe9c7dd7b010f  ...         5.231796e+23\n",
              "1  0x858457daa7e087ad74cdeeceab8419079bc2ca03  ...         9.581459e+23\n",
              "2  0xda657e9fa116900fab8178e5580a3a6cedd89f3c  ...         4.092339e+23\n",
              "3  0x4de76b3dfd38292ba71cf2465ca3a1d526dcb567  ...                  NaN\n",
              "4  0x35ad1cb9a39de486cebcce3cf51661fd6c848193  ...                  NaN\n",
              "\n",
              "[5 rows x 8 columns]"
            ]
          },
          "metadata": {
            "tags": []
          },
          "execution_count": 18
        }
      ]
    },
    {
      "cell_type": "code",
      "metadata": {
        "id": "y5dx5jGWCIPg",
        "colab_type": "code",
        "outputId": "a29b2c60-a9ad-40de-a878-97b1bdf80345",
        "colab": {
          "base_uri": "https://localhost:8080/",
          "height": 168
        }
      },
      "source": [
        "token.isna().sum()"
      ],
      "execution_count": 19,
      "outputs": [
        {
          "output_type": "execute_result",
          "data": {
            "text/plain": [
              "address1                         0\n",
              "address2                        59\n",
              "tot_distinct_tokens_recieved     0\n",
              "tot_tokens_recieved              0\n",
              "tot_token_value_recieved         0\n",
              "tot_distinct_tokens_sent        59\n",
              "tot_tokens_sent                 59\n",
              "tot_token_value_sent            59\n",
              "dtype: int64"
            ]
          },
          "metadata": {
            "tags": []
          },
          "execution_count": 19
        }
      ]
    },
    {
      "cell_type": "code",
      "metadata": {
        "id": "QgI3TtzayPco",
        "colab_type": "code",
        "colab": {}
      },
      "source": [
        "def combine_columns(df,column1,column2,new_column):\n",
        "  df[new_column] = '' \n",
        "  for i in range(len(df)):\n",
        "    if df[column1].iloc[i] == df[column2].iloc[i] or df[column2].iloc[i] == 'NaN':\n",
        "      df[new_column].iloc[i] = df[column1].iloc[i]\n",
        "    else:\n",
        "      df[new_column].iloc[i] = df[column2].iloc[i]\n",
        "  df = df.drop(column1,axis=1)\n",
        "  df = df.drop(column2,axis=1)\n",
        "  return df\n"
      ],
      "execution_count": 0,
      "outputs": []
    },
    {
      "cell_type": "code",
      "metadata": {
        "id": "QCLXVxoCyWJg",
        "colab_type": "code",
        "outputId": "762e9323-d6f0-4c8e-88bf-a49155fc3d67",
        "colab": {
          "base_uri": "https://localhost:8080/",
          "height": 101
        }
      },
      "source": [
        "in_out = combine_columns(in_out,'address1','address2','address')\n",
        "monthly= combine_columns(monthly,'address1','address2','address')\n",
        "token = combine_columns(token,'address1','address2','address')\n",
        "time_bw_txn = combine_columns(time_bw_txn,'address1','address2','address')"
      ],
      "execution_count": 21,
      "outputs": [
        {
          "output_type": "stream",
          "text": [
            "/usr/local/lib/python3.6/dist-packages/pandas/core/indexing.py:671: SettingWithCopyWarning: \n",
            "A value is trying to be set on a copy of a slice from a DataFrame\n",
            "\n",
            "See the caveats in the documentation: https://pandas.pydata.org/pandas-docs/stable/user_guide/indexing.html#returning-a-view-versus-a-copy\n",
            "  self._setitem_with_indexer(indexer, value)\n"
          ],
          "name": "stderr"
        }
      ]
    },
    {
      "cell_type": "code",
      "metadata": {
        "id": "KMuim65rKjZB",
        "colab_type": "code",
        "colab": {}
      },
      "source": [
        "def stats(df,stat = ['shape','null','dtypes']):\n",
        "  if 'shape' in stat:\n",
        "    print('shape: ',df.shape,end='\\n\\n')\n",
        "  if 'null' in stat :\n",
        "    print('Null values: ')\n",
        "    print(df.isna().sum(),end='\\n\\n')\n",
        "  if 'dtypes' in stat:\n",
        "    print(\"dtypes: \")\n",
        "    print(df.dtypes,end='\\n\\n')"
      ],
      "execution_count": 0,
      "outputs": []
    },
    {
      "cell_type": "code",
      "metadata": {
        "id": "ICTwaybC4Ta2",
        "colab_type": "code",
        "colab": {}
      },
      "source": [
        "m_df = pd.merge(addr_labels,in_out,how='inner',on='address')\n",
        "m_df = pd.merge(m_df,monthly,how='inner' , on='address')\n",
        "m_df = pd.merge(m_df,active,how='inner' , on='address')\n",
        "m_df = pd.merge(m_df,balance,how='inner' , on='address')"
      ],
      "execution_count": 0,
      "outputs": []
    },
    {
      "cell_type": "code",
      "metadata": {
        "id": "95APwwbpKZIT",
        "colab_type": "code",
        "colab": {}
      },
      "source": [
        "m_df= pd.merge(m_df,time_bw_txn,how='left' , on='address')"
      ],
      "execution_count": 0,
      "outputs": []
    },
    {
      "cell_type": "code",
      "metadata": {
        "id": "2uTgjX6lLTqh",
        "colab_type": "code",
        "outputId": "af5c28d6-38c7-4147-aae8-f0dd8945eaa3",
        "colab": {
          "base_uri": "https://localhost:8080/",
          "height": 588
        }
      },
      "source": [
        "stats(m_df)"
      ],
      "execution_count": 25,
      "outputs": [
        {
          "output_type": "stream",
          "text": [
            "shape:  (267, 13)\n",
            "\n",
            "Null values: \n",
            "address                     0\n",
            "comment                   142\n",
            "date                        8\n",
            "no_of_out_transactions    135\n",
            "tot_ether_sent            135\n",
            "no_of_in_transactions       0\n",
            "tot_ether_recieved          0\n",
            "monthly_out_txn           135\n",
            "monthly_in_txn              0\n",
            "active_months               0\n",
            "eth_balance                 0\n",
            "time_b/w_out_txn          135\n",
            "time_b/w_in_txn           135\n",
            "dtype: int64\n",
            "\n",
            "dtypes: \n",
            "address                    object\n",
            "comment                    object\n",
            "date                       object\n",
            "no_of_out_transactions    float64\n",
            "tot_ether_sent             object\n",
            "no_of_in_transactions       int64\n",
            "tot_ether_recieved         object\n",
            "monthly_out_txn           float64\n",
            "monthly_in_txn            float64\n",
            "active_months               int64\n",
            "eth_balance                object\n",
            "time_b/w_out_txn          float64\n",
            "time_b/w_in_txn           float64\n",
            "dtype: object\n",
            "\n"
          ],
          "name": "stdout"
        }
      ]
    },
    {
      "cell_type": "code",
      "metadata": {
        "id": "8bP9yKQgKN0k",
        "colab_type": "code",
        "colab": {}
      },
      "source": [
        "m_df = pd.merge(m_df,token,how='left' , on='address')"
      ],
      "execution_count": 0,
      "outputs": []
    },
    {
      "cell_type": "code",
      "metadata": {
        "id": "IyFnZbjCLstD",
        "colab_type": "code",
        "outputId": "ed278936-aa3d-41df-d5ba-8c7d9d89de33",
        "colab": {
          "base_uri": "https://localhost:8080/",
          "height": 420
        }
      },
      "source": [
        "stats(m_df,stat = ['shape','null'])"
      ],
      "execution_count": 27,
      "outputs": [
        {
          "output_type": "stream",
          "text": [
            "shape:  (267, 19)\n",
            "\n",
            "Null values: \n",
            "address                           0\n",
            "comment                         142\n",
            "date                              8\n",
            "no_of_out_transactions          135\n",
            "tot_ether_sent                  135\n",
            "no_of_in_transactions             0\n",
            "tot_ether_recieved                0\n",
            "monthly_out_txn                 135\n",
            "monthly_in_txn                    0\n",
            "active_months                     0\n",
            "eth_balance                       0\n",
            "time_b/w_out_txn                135\n",
            "time_b/w_in_txn                 135\n",
            "tot_distinct_tokens_recieved    215\n",
            "tot_tokens_recieved             215\n",
            "tot_token_value_recieved        215\n",
            "tot_distinct_tokens_sent        215\n",
            "tot_tokens_sent                 215\n",
            "tot_token_value_sent            215\n",
            "dtype: int64\n",
            "\n"
          ],
          "name": "stdout"
        }
      ]
    },
    {
      "cell_type": "code",
      "metadata": {
        "id": "XcjBLAE5D5w6",
        "colab_type": "code",
        "outputId": "39dfc095-aa7c-4e9c-c585-332e49a081f0",
        "colab": {
          "base_uri": "https://localhost:8080/",
          "height": 450
        }
      },
      "source": [
        "m_df.head(5)"
      ],
      "execution_count": 28,
      "outputs": [
        {
          "output_type": "execute_result",
          "data": {
            "text/html": [
              "<div>\n",
              "<style scoped>\n",
              "    .dataframe tbody tr th:only-of-type {\n",
              "        vertical-align: middle;\n",
              "    }\n",
              "\n",
              "    .dataframe tbody tr th {\n",
              "        vertical-align: top;\n",
              "    }\n",
              "\n",
              "    .dataframe thead th {\n",
              "        text-align: right;\n",
              "    }\n",
              "</style>\n",
              "<table border=\"1\" class=\"dataframe\">\n",
              "  <thead>\n",
              "    <tr style=\"text-align: right;\">\n",
              "      <th></th>\n",
              "      <th>address</th>\n",
              "      <th>comment</th>\n",
              "      <th>date</th>\n",
              "      <th>no_of_out_transactions</th>\n",
              "      <th>tot_ether_sent</th>\n",
              "      <th>no_of_in_transactions</th>\n",
              "      <th>tot_ether_recieved</th>\n",
              "      <th>monthly_out_txn</th>\n",
              "      <th>monthly_in_txn</th>\n",
              "      <th>active_months</th>\n",
              "      <th>eth_balance</th>\n",
              "      <th>time_b/w_out_txn</th>\n",
              "      <th>time_b/w_in_txn</th>\n",
              "      <th>tot_distinct_tokens_recieved</th>\n",
              "      <th>tot_tokens_recieved</th>\n",
              "      <th>tot_token_value_recieved</th>\n",
              "      <th>tot_distinct_tokens_sent</th>\n",
              "      <th>tot_tokens_sent</th>\n",
              "      <th>tot_token_value_sent</th>\n",
              "    </tr>\n",
              "  </thead>\n",
              "  <tbody>\n",
              "    <tr>\n",
              "      <th>0</th>\n",
              "      <td>0x983bda798a24720bb4fe3dba287ec352e7b440fc</td>\n",
              "      <td>Fake BITCAR platform token</td>\n",
              "      <td>2019-03-01</td>\n",
              "      <td>NaN</td>\n",
              "      <td>NaN</td>\n",
              "      <td>7</td>\n",
              "      <td>0</td>\n",
              "      <td>NaN</td>\n",
              "      <td>3.5</td>\n",
              "      <td>2</td>\n",
              "      <td>0</td>\n",
              "      <td>NaN</td>\n",
              "      <td>NaN</td>\n",
              "      <td>NaN</td>\n",
              "      <td>NaN</td>\n",
              "      <td>NaN</td>\n",
              "      <td>NaN</td>\n",
              "      <td>NaN</td>\n",
              "      <td>NaN</td>\n",
              "    </tr>\n",
              "    <tr>\n",
              "      <th>1</th>\n",
              "      <td>0x45029af827c652f47b1f678456b2cd009647c8ad</td>\n",
              "      <td>Fake BITCAR platform token</td>\n",
              "      <td>2019-03-01</td>\n",
              "      <td>NaN</td>\n",
              "      <td>NaN</td>\n",
              "      <td>5</td>\n",
              "      <td>0</td>\n",
              "      <td>NaN</td>\n",
              "      <td>2.5</td>\n",
              "      <td>2</td>\n",
              "      <td>0</td>\n",
              "      <td>NaN</td>\n",
              "      <td>NaN</td>\n",
              "      <td>NaN</td>\n",
              "      <td>NaN</td>\n",
              "      <td>NaN</td>\n",
              "      <td>NaN</td>\n",
              "      <td>NaN</td>\n",
              "      <td>NaN</td>\n",
              "    </tr>\n",
              "    <tr>\n",
              "      <th>2</th>\n",
              "      <td>0xcc02b920ae227f1be7d01fc241c27e5f74d40436</td>\n",
              "      <td>Fake copy of ROCK2 token</td>\n",
              "      <td>2018-10-28</td>\n",
              "      <td>NaN</td>\n",
              "      <td>NaN</td>\n",
              "      <td>3</td>\n",
              "      <td>0</td>\n",
              "      <td>NaN</td>\n",
              "      <td>3.0</td>\n",
              "      <td>1</td>\n",
              "      <td>0</td>\n",
              "      <td>NaN</td>\n",
              "      <td>NaN</td>\n",
              "      <td>NaN</td>\n",
              "      <td>NaN</td>\n",
              "      <td>NaN</td>\n",
              "      <td>NaN</td>\n",
              "      <td>NaN</td>\n",
              "      <td>NaN</td>\n",
              "    </tr>\n",
              "    <tr>\n",
              "      <th>3</th>\n",
              "      <td>0x181c71726f12ce2514e8b93019eb22645a79f966</td>\n",
              "      <td>Fake Whalesburg ICO support</td>\n",
              "      <td>2018-05-14</td>\n",
              "      <td>47.0</td>\n",
              "      <td>32078750450359531271</td>\n",
              "      <td>28</td>\n",
              "      <td>32101367450359531271</td>\n",
              "      <td>9.400000</td>\n",
              "      <td>7.0</td>\n",
              "      <td>5</td>\n",
              "      <td>0</td>\n",
              "      <td>229893.021277</td>\n",
              "      <td>3.781516e+05</td>\n",
              "      <td>NaN</td>\n",
              "      <td>NaN</td>\n",
              "      <td>NaN</td>\n",
              "      <td>NaN</td>\n",
              "      <td>NaN</td>\n",
              "      <td>NaN</td>\n",
              "    </tr>\n",
              "    <tr>\n",
              "      <th>4</th>\n",
              "      <td>0x2056d2e97cc9ad78cf527b382495a8b9704ce011</td>\n",
              "      <td>Fake Whalesburg ICO support</td>\n",
              "      <td>2018-06-02</td>\n",
              "      <td>11.0</td>\n",
              "      <td>1076784452343981200</td>\n",
              "      <td>6</td>\n",
              "      <td>1082240720000000000</td>\n",
              "      <td>3.666667</td>\n",
              "      <td>3.0</td>\n",
              "      <td>3</td>\n",
              "      <td>143267656018800</td>\n",
              "      <td>813860.636364</td>\n",
              "      <td>1.322250e+06</td>\n",
              "      <td>NaN</td>\n",
              "      <td>NaN</td>\n",
              "      <td>NaN</td>\n",
              "      <td>NaN</td>\n",
              "      <td>NaN</td>\n",
              "      <td>NaN</td>\n",
              "    </tr>\n",
              "  </tbody>\n",
              "</table>\n",
              "</div>"
            ],
            "text/plain": [
              "                                      address  ... tot_token_value_sent\n",
              "0  0x983bda798a24720bb4fe3dba287ec352e7b440fc  ...                  NaN\n",
              "1  0x45029af827c652f47b1f678456b2cd009647c8ad  ...                  NaN\n",
              "2  0xcc02b920ae227f1be7d01fc241c27e5f74d40436  ...                  NaN\n",
              "3  0x181c71726f12ce2514e8b93019eb22645a79f966  ...                  NaN\n",
              "4  0x2056d2e97cc9ad78cf527b382495a8b9704ce011  ...                  NaN\n",
              "\n",
              "[5 rows x 19 columns]"
            ]
          },
          "metadata": {
            "tags": []
          },
          "execution_count": 28
        }
      ]
    },
    {
      "cell_type": "code",
      "metadata": {
        "colab_type": "code",
        "id": "zkO8Wv-YMoP6",
        "colab": {}
      },
      "source": [
        "m_df = m_df.fillna(0)"
      ],
      "execution_count": 0,
      "outputs": []
    },
    {
      "cell_type": "code",
      "metadata": {
        "id": "s2xK_NDzDH-B",
        "colab_type": "code",
        "colab": {}
      },
      "source": [
        "m_df = drop_columns(m_df,['tot_distinct_tokens_recieved','tot_tokens_recieved','tot_distinct_tokens_sent','tot_tokens_sent'])"
      ],
      "execution_count": 0,
      "outputs": []
    },
    {
      "cell_type": "code",
      "metadata": {
        "id": "vFH_sN_vDSIT",
        "colab_type": "code",
        "colab": {}
      },
      "source": [
        "m_df['eth_balance'] = pd.to_numeric(m_df['eth_balance'], downcast=\"float\",errors='coerce')\n",
        "m_df['monthly_out_txn'] = pd.to_numeric(m_df['monthly_out_txn'], downcast=\"float\",errors='coerce')\n",
        "m_df['tot_ether_sent'] = pd.to_numeric(m_df['tot_ether_sent'], downcast=\"float\",errors='coerce')\n",
        "m_df['tot_ether_recieved'] = pd.to_numeric(m_df['tot_ether_recieved'], downcast=\"float\",errors='coerce')"
      ],
      "execution_count": 0,
      "outputs": []
    },
    {
      "cell_type": "code",
      "metadata": {
        "id": "VTihqV-wC6p4",
        "colab_type": "code",
        "colab": {}
      },
      "source": [
        "m_df['monthly_ether_sent']=0\n",
        "m_df['monthly_ether_recieved']=0\n",
        "m_df['monthly_ether_sent']= m_df['tot_ether_sent' ].div(m_df['active_months'])\n",
        "m_df['monthly_ether_recieved']= m_df['tot_ether_recieved'].div(m_df['active_months'])"
      ],
      "execution_count": 0,
      "outputs": []
    },
    {
      "cell_type": "code",
      "metadata": {
        "id": "cSfY6ha35YrQ",
        "colab_type": "code",
        "colab": {}
      },
      "source": [
        "wei = pow(10,18) \n",
        "attributes = ['eth_balance', 'tot_ether_recieved', 'tot_ether_sent', 'tot_token_value_recieved','tot_token_value_sent', 'monthly_ether_sent', 'monthly_ether_recieved']\n",
        "for attr in attributes:\n",
        "  if m_df[attr].dtype == 'object':\n",
        "    m_df[attr] = pd.to_numeric(m_df[attr], errors='coerce')\n",
        "  m_df[attr] = m_df[attr].div(wei)\n"
      ],
      "execution_count": 0,
      "outputs": []
    },
    {
      "cell_type": "code",
      "metadata": {
        "id": "gwAs1vO-Lvsl",
        "colab_type": "code",
        "colab": {}
      },
      "source": [
        "m_df = drop_columns(m_df,['date'])"
      ],
      "execution_count": 0,
      "outputs": []
    },
    {
      "cell_type": "markdown",
      "metadata": {
        "id": "sJNH1uY5Mfmf",
        "colab_type": "text"
      },
      "source": [
        "**create column 'label' which has values 1 - malicious , 0 - non-malicious**"
      ]
    },
    {
      "cell_type": "code",
      "metadata": {
        "id": "snbM7XjXL8DT",
        "colab_type": "code",
        "colab": {}
      },
      "source": [
        "m_df['label'] = 1"
      ],
      "execution_count": 0,
      "outputs": []
    },
    {
      "cell_type": "code",
      "metadata": {
        "id": "ZSlsMgaCFigH",
        "colab_type": "code",
        "outputId": "88da8b76-01c0-40f4-c418-b92498705153",
        "colab": {
          "base_uri": "https://localhost:8080/",
          "height": 722
        }
      },
      "source": [
        "stats(m_df,stat = ['shape','null','dtypes'])"
      ],
      "execution_count": 37,
      "outputs": [
        {
          "output_type": "stream",
          "text": [
            "shape:  (267, 17)\n",
            "\n",
            "Null values: \n",
            "address                     0\n",
            "comment                     0\n",
            "no_of_out_transactions      0\n",
            "tot_ether_sent              0\n",
            "no_of_in_transactions       0\n",
            "tot_ether_recieved          0\n",
            "monthly_out_txn             0\n",
            "monthly_in_txn              0\n",
            "active_months               0\n",
            "eth_balance                 0\n",
            "time_b/w_out_txn            0\n",
            "time_b/w_in_txn             0\n",
            "tot_token_value_recieved    0\n",
            "tot_token_value_sent        0\n",
            "monthly_ether_sent          0\n",
            "monthly_ether_recieved      0\n",
            "label                       0\n",
            "dtype: int64\n",
            "\n",
            "dtypes: \n",
            "address                      object\n",
            "comment                      object\n",
            "no_of_out_transactions      float64\n",
            "tot_ether_sent              float64\n",
            "no_of_in_transactions         int64\n",
            "tot_ether_recieved          float64\n",
            "monthly_out_txn             float32\n",
            "monthly_in_txn              float64\n",
            "active_months                 int64\n",
            "eth_balance                 float64\n",
            "time_b/w_out_txn            float64\n",
            "time_b/w_in_txn             float64\n",
            "tot_token_value_recieved    float64\n",
            "tot_token_value_sent        float64\n",
            "monthly_ether_sent          float64\n",
            "monthly_ether_recieved      float64\n",
            "label                         int64\n",
            "dtype: object\n",
            "\n"
          ],
          "name": "stdout"
        }
      ]
    },
    {
      "cell_type": "code",
      "metadata": {
        "id": "aBoZXOa6MTlQ",
        "colab_type": "code",
        "outputId": "3aa6e61a-a46c-4034-c282-cc7004d63a79",
        "colab": {
          "base_uri": "https://localhost:8080/",
          "height": 450
        }
      },
      "source": [
        "m_df.head(5)"
      ],
      "execution_count": 38,
      "outputs": [
        {
          "output_type": "execute_result",
          "data": {
            "text/html": [
              "<div>\n",
              "<style scoped>\n",
              "    .dataframe tbody tr th:only-of-type {\n",
              "        vertical-align: middle;\n",
              "    }\n",
              "\n",
              "    .dataframe tbody tr th {\n",
              "        vertical-align: top;\n",
              "    }\n",
              "\n",
              "    .dataframe thead th {\n",
              "        text-align: right;\n",
              "    }\n",
              "</style>\n",
              "<table border=\"1\" class=\"dataframe\">\n",
              "  <thead>\n",
              "    <tr style=\"text-align: right;\">\n",
              "      <th></th>\n",
              "      <th>address</th>\n",
              "      <th>comment</th>\n",
              "      <th>no_of_out_transactions</th>\n",
              "      <th>tot_ether_sent</th>\n",
              "      <th>no_of_in_transactions</th>\n",
              "      <th>tot_ether_recieved</th>\n",
              "      <th>monthly_out_txn</th>\n",
              "      <th>monthly_in_txn</th>\n",
              "      <th>active_months</th>\n",
              "      <th>eth_balance</th>\n",
              "      <th>time_b/w_out_txn</th>\n",
              "      <th>time_b/w_in_txn</th>\n",
              "      <th>tot_token_value_recieved</th>\n",
              "      <th>tot_token_value_sent</th>\n",
              "      <th>monthly_ether_sent</th>\n",
              "      <th>monthly_ether_recieved</th>\n",
              "      <th>label</th>\n",
              "    </tr>\n",
              "  </thead>\n",
              "  <tbody>\n",
              "    <tr>\n",
              "      <th>0</th>\n",
              "      <td>0x983bda798a24720bb4fe3dba287ec352e7b440fc</td>\n",
              "      <td>Fake BITCAR platform token</td>\n",
              "      <td>0.0</td>\n",
              "      <td>0.000000</td>\n",
              "      <td>7</td>\n",
              "      <td>0.000000</td>\n",
              "      <td>0.000000</td>\n",
              "      <td>3.5</td>\n",
              "      <td>2</td>\n",
              "      <td>0.000000</td>\n",
              "      <td>0.000000</td>\n",
              "      <td>0.000000e+00</td>\n",
              "      <td>0.0</td>\n",
              "      <td>0.0</td>\n",
              "      <td>0.000000</td>\n",
              "      <td>0.000000</td>\n",
              "      <td>1</td>\n",
              "    </tr>\n",
              "    <tr>\n",
              "      <th>1</th>\n",
              "      <td>0x45029af827c652f47b1f678456b2cd009647c8ad</td>\n",
              "      <td>Fake BITCAR platform token</td>\n",
              "      <td>0.0</td>\n",
              "      <td>0.000000</td>\n",
              "      <td>5</td>\n",
              "      <td>0.000000</td>\n",
              "      <td>0.000000</td>\n",
              "      <td>2.5</td>\n",
              "      <td>2</td>\n",
              "      <td>0.000000</td>\n",
              "      <td>0.000000</td>\n",
              "      <td>0.000000e+00</td>\n",
              "      <td>0.0</td>\n",
              "      <td>0.0</td>\n",
              "      <td>0.000000</td>\n",
              "      <td>0.000000</td>\n",
              "      <td>1</td>\n",
              "    </tr>\n",
              "    <tr>\n",
              "      <th>2</th>\n",
              "      <td>0xcc02b920ae227f1be7d01fc241c27e5f74d40436</td>\n",
              "      <td>Fake copy of ROCK2 token</td>\n",
              "      <td>0.0</td>\n",
              "      <td>0.000000</td>\n",
              "      <td>3</td>\n",
              "      <td>0.000000</td>\n",
              "      <td>0.000000</td>\n",
              "      <td>3.0</td>\n",
              "      <td>1</td>\n",
              "      <td>0.000000</td>\n",
              "      <td>0.000000</td>\n",
              "      <td>0.000000e+00</td>\n",
              "      <td>0.0</td>\n",
              "      <td>0.0</td>\n",
              "      <td>0.000000</td>\n",
              "      <td>0.000000</td>\n",
              "      <td>1</td>\n",
              "    </tr>\n",
              "    <tr>\n",
              "      <th>3</th>\n",
              "      <td>0x181c71726f12ce2514e8b93019eb22645a79f966</td>\n",
              "      <td>Fake Whalesburg ICO support</td>\n",
              "      <td>47.0</td>\n",
              "      <td>32.078751</td>\n",
              "      <td>28</td>\n",
              "      <td>32.101368</td>\n",
              "      <td>9.400000</td>\n",
              "      <td>7.0</td>\n",
              "      <td>5</td>\n",
              "      <td>0.000000</td>\n",
              "      <td>229893.021277</td>\n",
              "      <td>3.781516e+05</td>\n",
              "      <td>0.0</td>\n",
              "      <td>0.0</td>\n",
              "      <td>6.415750</td>\n",
              "      <td>6.420274</td>\n",
              "      <td>1</td>\n",
              "    </tr>\n",
              "    <tr>\n",
              "      <th>4</th>\n",
              "      <td>0x2056d2e97cc9ad78cf527b382495a8b9704ce011</td>\n",
              "      <td>Fake Whalesburg ICO support</td>\n",
              "      <td>11.0</td>\n",
              "      <td>1.076784</td>\n",
              "      <td>6</td>\n",
              "      <td>1.082241</td>\n",
              "      <td>3.666667</td>\n",
              "      <td>3.0</td>\n",
              "      <td>3</td>\n",
              "      <td>0.000143</td>\n",
              "      <td>813860.636364</td>\n",
              "      <td>1.322250e+06</td>\n",
              "      <td>0.0</td>\n",
              "      <td>0.0</td>\n",
              "      <td>0.358928</td>\n",
              "      <td>0.360747</td>\n",
              "      <td>1</td>\n",
              "    </tr>\n",
              "  </tbody>\n",
              "</table>\n",
              "</div>"
            ],
            "text/plain": [
              "                                      address  ... label\n",
              "0  0x983bda798a24720bb4fe3dba287ec352e7b440fc  ...     1\n",
              "1  0x45029af827c652f47b1f678456b2cd009647c8ad  ...     1\n",
              "2  0xcc02b920ae227f1be7d01fc241c27e5f74d40436  ...     1\n",
              "3  0x181c71726f12ce2514e8b93019eb22645a79f966  ...     1\n",
              "4  0x2056d2e97cc9ad78cf527b382495a8b9704ce011  ...     1\n",
              "\n",
              "[5 rows x 17 columns]"
            ]
          },
          "metadata": {
            "tags": []
          },
          "execution_count": 38
        }
      ]
    },
    {
      "cell_type": "code",
      "metadata": {
        "id": "ITqqdLmnM7bb",
        "colab_type": "code",
        "colab": {}
      },
      "source": [
        "non_m_df = pd.read_csv('/content/gdrive/My Drive/project_data/final_data.csv')"
      ],
      "execution_count": 0,
      "outputs": []
    },
    {
      "cell_type": "code",
      "metadata": {
        "id": "eSPzsZ0aNATq",
        "colab_type": "code",
        "colab": {
          "base_uri": "https://localhost:8080/",
          "height": 67
        },
        "outputId": "a68d9d16-fd68-4790-bfad-8e1ab335e791"
      },
      "source": [
        "pd.merge(m_df,non_m_df,how='inner',on='address')"
      ],
      "execution_count": 40,
      "outputs": [
        {
          "output_type": "execute_result",
          "data": {
            "text/html": [
              "<div>\n",
              "<style scoped>\n",
              "    .dataframe tbody tr th:only-of-type {\n",
              "        vertical-align: middle;\n",
              "    }\n",
              "\n",
              "    .dataframe tbody tr th {\n",
              "        vertical-align: top;\n",
              "    }\n",
              "\n",
              "    .dataframe thead th {\n",
              "        text-align: right;\n",
              "    }\n",
              "</style>\n",
              "<table border=\"1\" class=\"dataframe\">\n",
              "  <thead>\n",
              "    <tr style=\"text-align: right;\">\n",
              "      <th></th>\n",
              "      <th>address</th>\n",
              "      <th>comment</th>\n",
              "      <th>no_of_out_transactions_x</th>\n",
              "      <th>tot_ether_sent_x</th>\n",
              "      <th>no_of_in_transactions_x</th>\n",
              "      <th>tot_ether_recieved_x</th>\n",
              "      <th>monthly_out_txn_x</th>\n",
              "      <th>monthly_in_txn_x</th>\n",
              "      <th>active_months_x</th>\n",
              "      <th>eth_balance_x</th>\n",
              "      <th>time_b/w_out_txn_x</th>\n",
              "      <th>time_b/w_in_txn_x</th>\n",
              "      <th>tot_token_value_recieved_x</th>\n",
              "      <th>tot_token_value_sent_x</th>\n",
              "      <th>monthly_ether_sent_x</th>\n",
              "      <th>monthly_ether_recieved_x</th>\n",
              "      <th>label</th>\n",
              "      <th>no_of_in_transactions_y</th>\n",
              "      <th>tot_ether_recieved_y</th>\n",
              "      <th>eth_balance_y</th>\n",
              "      <th>no_of_out_transactions_y</th>\n",
              "      <th>tot_ether_sent_y</th>\n",
              "      <th>tot_token_value_recieved_y</th>\n",
              "      <th>tot_token_value_sent_y</th>\n",
              "      <th>time_b/w_in_txn_y</th>\n",
              "      <th>time_b/w_out_txn_y</th>\n",
              "      <th>active_months_y</th>\n",
              "      <th>monthly_out_txn_y</th>\n",
              "      <th>monthly_in_txn_y</th>\n",
              "      <th>monthly_ether_sent_y</th>\n",
              "      <th>monthly_ether_recieved_y</th>\n",
              "    </tr>\n",
              "  </thead>\n",
              "  <tbody>\n",
              "  </tbody>\n",
              "</table>\n",
              "</div>"
            ],
            "text/plain": [
              "Empty DataFrame\n",
              "Columns: [address, comment, no_of_out_transactions_x, tot_ether_sent_x, no_of_in_transactions_x, tot_ether_recieved_x, monthly_out_txn_x, monthly_in_txn_x, active_months_x, eth_balance_x, time_b/w_out_txn_x, time_b/w_in_txn_x, tot_token_value_recieved_x, tot_token_value_sent_x, monthly_ether_sent_x, monthly_ether_recieved_x, label, no_of_in_transactions_y, tot_ether_recieved_y, eth_balance_y, no_of_out_transactions_y, tot_ether_sent_y, tot_token_value_recieved_y, tot_token_value_sent_y, time_b/w_in_txn_y, time_b/w_out_txn_y, active_months_y, monthly_out_txn_y, monthly_in_txn_y, monthly_ether_sent_y, monthly_ether_recieved_y]\n",
              "Index: []"
            ]
          },
          "metadata": {
            "tags": []
          },
          "execution_count": 40
        }
      ]
    },
    {
      "cell_type": "code",
      "metadata": {
        "id": "ao2UqoBWOktx",
        "colab_type": "code",
        "colab": {}
      },
      "source": [
        "nm_df = non_m_df[:len(m_df)].copy()"
      ],
      "execution_count": 0,
      "outputs": []
    },
    {
      "cell_type": "code",
      "metadata": {
        "id": "iRGX9RZ9PKEu",
        "colab_type": "code",
        "colab": {}
      },
      "source": [
        "nm_df['comment'] = 'Non Malicious'\n",
        "nm_df['label'] = 0"
      ],
      "execution_count": 0,
      "outputs": []
    },
    {
      "cell_type": "code",
      "metadata": {
        "id": "nsFsVBqYO8dA",
        "colab_type": "code",
        "colab": {
          "base_uri": "https://localhost:8080/",
          "height": 722
        },
        "outputId": "c8dbc9e1-70cb-405c-9f2b-416ab3e0b019"
      },
      "source": [
        "stats(nm_df)"
      ],
      "execution_count": 45,
      "outputs": [
        {
          "output_type": "stream",
          "text": [
            "shape:  (267, 17)\n",
            "\n",
            "Null values: \n",
            "address                     0\n",
            "no_of_in_transactions       0\n",
            "tot_ether_recieved          0\n",
            "eth_balance                 0\n",
            "no_of_out_transactions      0\n",
            "tot_ether_sent              0\n",
            "tot_token_value_recieved    0\n",
            "tot_token_value_sent        0\n",
            "time_b/w_in_txn             0\n",
            "time_b/w_out_txn            0\n",
            "active_months               0\n",
            "monthly_out_txn             0\n",
            "monthly_in_txn              0\n",
            "monthly_ether_sent          0\n",
            "monthly_ether_recieved      0\n",
            "comment                     0\n",
            "label                       0\n",
            "dtype: int64\n",
            "\n",
            "dtypes: \n",
            "address                      object\n",
            "no_of_in_transactions         int64\n",
            "tot_ether_recieved          float64\n",
            "eth_balance                 float64\n",
            "no_of_out_transactions        int64\n",
            "tot_ether_sent              float64\n",
            "tot_token_value_recieved    float64\n",
            "tot_token_value_sent        float64\n",
            "time_b/w_in_txn             float64\n",
            "time_b/w_out_txn            float64\n",
            "active_months                 int64\n",
            "monthly_out_txn             float64\n",
            "monthly_in_txn              float64\n",
            "monthly_ether_sent          float64\n",
            "monthly_ether_recieved      float64\n",
            "comment                      object\n",
            "label                         int64\n",
            "dtype: object\n",
            "\n"
          ],
          "name": "stdout"
        }
      ]
    },
    {
      "cell_type": "code",
      "metadata": {
        "id": "6VcIGcpPO14B",
        "colab_type": "code",
        "colab": {
          "base_uri": "https://localhost:8080/",
          "height": 215
        },
        "outputId": "48253006-733a-4fb2-ce0e-29dbdc9b1e71"
      },
      "source": [
        "nm_df.head(5)"
      ],
      "execution_count": 42,
      "outputs": [
        {
          "output_type": "execute_result",
          "data": {
            "text/html": [
              "<div>\n",
              "<style scoped>\n",
              "    .dataframe tbody tr th:only-of-type {\n",
              "        vertical-align: middle;\n",
              "    }\n",
              "\n",
              "    .dataframe tbody tr th {\n",
              "        vertical-align: top;\n",
              "    }\n",
              "\n",
              "    .dataframe thead th {\n",
              "        text-align: right;\n",
              "    }\n",
              "</style>\n",
              "<table border=\"1\" class=\"dataframe\">\n",
              "  <thead>\n",
              "    <tr style=\"text-align: right;\">\n",
              "      <th></th>\n",
              "      <th>address</th>\n",
              "      <th>no_of_in_transactions</th>\n",
              "      <th>tot_ether_recieved</th>\n",
              "      <th>eth_balance</th>\n",
              "      <th>no_of_out_transactions</th>\n",
              "      <th>tot_ether_sent</th>\n",
              "      <th>tot_token_value_recieved</th>\n",
              "      <th>tot_token_value_sent</th>\n",
              "      <th>time_b/w_in_txn</th>\n",
              "      <th>time_b/w_out_txn</th>\n",
              "      <th>active_months</th>\n",
              "      <th>monthly_out_txn</th>\n",
              "      <th>monthly_in_txn</th>\n",
              "      <th>monthly_ether_sent</th>\n",
              "      <th>monthly_ether_recieved</th>\n",
              "    </tr>\n",
              "  </thead>\n",
              "  <tbody>\n",
              "    <tr>\n",
              "      <th>0</th>\n",
              "      <td>0xd4f8e83864c80ea703dd148c78b937cbec200243</td>\n",
              "      <td>9</td>\n",
              "      <td>0.027000</td>\n",
              "      <td>4.750000e+15</td>\n",
              "      <td>97</td>\n",
              "      <td>0.019448</td>\n",
              "      <td>9.393942e-12</td>\n",
              "      <td>9.393942e-12</td>\n",
              "      <td>1.156452e+05</td>\n",
              "      <td>1.434797e+04</td>\n",
              "      <td>2</td>\n",
              "      <td>48.500000</td>\n",
              "      <td>9.000000</td>\n",
              "      <td>0.009724</td>\n",
              "      <td>0.013500</td>\n",
              "    </tr>\n",
              "    <tr>\n",
              "      <th>1</th>\n",
              "      <td>0xd9052a62ee61eec200c1972aa2a19fa3d5396b6d</td>\n",
              "      <td>14</td>\n",
              "      <td>0.010342</td>\n",
              "      <td>2.608713e+14</td>\n",
              "      <td>32</td>\n",
              "      <td>0.000000</td>\n",
              "      <td>1.870353e-07</td>\n",
              "      <td>1.870353e-07</td>\n",
              "      <td>1.042143e+06</td>\n",
              "      <td>4.736983e+05</td>\n",
              "      <td>6</td>\n",
              "      <td>5.500000</td>\n",
              "      <td>2.500000</td>\n",
              "      <td>0.000000</td>\n",
              "      <td>0.001724</td>\n",
              "    </tr>\n",
              "    <tr>\n",
              "      <th>2</th>\n",
              "      <td>0xe6b4a32cc822980d652bb185b33db6be69d39a13</td>\n",
              "      <td>17</td>\n",
              "      <td>16.776854</td>\n",
              "      <td>8.531440e+17</td>\n",
              "      <td>86</td>\n",
              "      <td>21.009302</td>\n",
              "      <td>4.639691e+04</td>\n",
              "      <td>4.260856e+04</td>\n",
              "      <td>1.320557e+06</td>\n",
              "      <td>1.653896e+05</td>\n",
              "      <td>5</td>\n",
              "      <td>21.500000</td>\n",
              "      <td>3.400000</td>\n",
              "      <td>4.201860</td>\n",
              "      <td>3.355371</td>\n",
              "    </tr>\n",
              "    <tr>\n",
              "      <th>3</th>\n",
              "      <td>0x9f265a9675dea8f97139015f62c84af1f6d687ae</td>\n",
              "      <td>15</td>\n",
              "      <td>2.100000</td>\n",
              "      <td>6.340620e+14</td>\n",
              "      <td>3</td>\n",
              "      <td>2.099000</td>\n",
              "      <td>2.000000e+02</td>\n",
              "      <td>2.000000e+02</td>\n",
              "      <td>3.701651e+05</td>\n",
              "      <td>1.252319e+06</td>\n",
              "      <td>4</td>\n",
              "      <td>1.500000</td>\n",
              "      <td>5.000000</td>\n",
              "      <td>0.524750</td>\n",
              "      <td>0.525000</td>\n",
              "    </tr>\n",
              "    <tr>\n",
              "      <th>4</th>\n",
              "      <td>0xbad9298ef9a0c40ed1fb299a5e42269589aa15af</td>\n",
              "      <td>142</td>\n",
              "      <td>17.850288</td>\n",
              "      <td>1.078000e+16</td>\n",
              "      <td>57</td>\n",
              "      <td>17.813826</td>\n",
              "      <td>3.000000e+00</td>\n",
              "      <td>1.000000e+02</td>\n",
              "      <td>2.403451e+05</td>\n",
              "      <td>5.987940e+05</td>\n",
              "      <td>14</td>\n",
              "      <td>4.384615</td>\n",
              "      <td>10.923077</td>\n",
              "      <td>1.272416</td>\n",
              "      <td>1.275021</td>\n",
              "    </tr>\n",
              "  </tbody>\n",
              "</table>\n",
              "</div>"
            ],
            "text/plain": [
              "                                      address  ...  monthly_ether_recieved\n",
              "0  0xd4f8e83864c80ea703dd148c78b937cbec200243  ...                0.013500\n",
              "1  0xd9052a62ee61eec200c1972aa2a19fa3d5396b6d  ...                0.001724\n",
              "2  0xe6b4a32cc822980d652bb185b33db6be69d39a13  ...                3.355371\n",
              "3  0x9f265a9675dea8f97139015f62c84af1f6d687ae  ...                0.525000\n",
              "4  0xbad9298ef9a0c40ed1fb299a5e42269589aa15af  ...                1.275021\n",
              "\n",
              "[5 rows x 15 columns]"
            ]
          },
          "metadata": {
            "tags": []
          },
          "execution_count": 42
        }
      ]
    },
    {
      "cell_type": "code",
      "metadata": {
        "id": "Es7xgatMNhYS",
        "colab_type": "code",
        "colab": {}
      },
      "source": [
        "df =m_df.append(nm_df, ignore_index=True)"
      ],
      "execution_count": 0,
      "outputs": []
    },
    {
      "cell_type": "code",
      "metadata": {
        "id": "C9soROe1QRRx",
        "colab_type": "code",
        "colab": {
          "base_uri": "https://localhost:8080/",
          "height": 450
        },
        "outputId": "c793d8de-685f-429d-8132-2c3c75a26778"
      },
      "source": [
        "df.head(5)"
      ],
      "execution_count": 53,
      "outputs": [
        {
          "output_type": "execute_result",
          "data": {
            "text/html": [
              "<div>\n",
              "<style scoped>\n",
              "    .dataframe tbody tr th:only-of-type {\n",
              "        vertical-align: middle;\n",
              "    }\n",
              "\n",
              "    .dataframe tbody tr th {\n",
              "        vertical-align: top;\n",
              "    }\n",
              "\n",
              "    .dataframe thead th {\n",
              "        text-align: right;\n",
              "    }\n",
              "</style>\n",
              "<table border=\"1\" class=\"dataframe\">\n",
              "  <thead>\n",
              "    <tr style=\"text-align: right;\">\n",
              "      <th></th>\n",
              "      <th>address</th>\n",
              "      <th>comment</th>\n",
              "      <th>no_of_out_transactions</th>\n",
              "      <th>tot_ether_sent</th>\n",
              "      <th>no_of_in_transactions</th>\n",
              "      <th>tot_ether_recieved</th>\n",
              "      <th>monthly_out_txn</th>\n",
              "      <th>monthly_in_txn</th>\n",
              "      <th>active_months</th>\n",
              "      <th>eth_balance</th>\n",
              "      <th>time_b/w_out_txn</th>\n",
              "      <th>time_b/w_in_txn</th>\n",
              "      <th>tot_token_value_recieved</th>\n",
              "      <th>tot_token_value_sent</th>\n",
              "      <th>monthly_ether_sent</th>\n",
              "      <th>monthly_ether_recieved</th>\n",
              "      <th>label</th>\n",
              "    </tr>\n",
              "  </thead>\n",
              "  <tbody>\n",
              "    <tr>\n",
              "      <th>0</th>\n",
              "      <td>0x983bda798a24720bb4fe3dba287ec352e7b440fc</td>\n",
              "      <td>Fake BITCAR platform token</td>\n",
              "      <td>0.0</td>\n",
              "      <td>0.000000</td>\n",
              "      <td>7</td>\n",
              "      <td>0.000000</td>\n",
              "      <td>0.000000</td>\n",
              "      <td>3.5</td>\n",
              "      <td>2</td>\n",
              "      <td>0.000000</td>\n",
              "      <td>0.000000</td>\n",
              "      <td>0.000000e+00</td>\n",
              "      <td>0.0</td>\n",
              "      <td>0.0</td>\n",
              "      <td>0.000000</td>\n",
              "      <td>0.000000</td>\n",
              "      <td>1</td>\n",
              "    </tr>\n",
              "    <tr>\n",
              "      <th>1</th>\n",
              "      <td>0x45029af827c652f47b1f678456b2cd009647c8ad</td>\n",
              "      <td>Fake BITCAR platform token</td>\n",
              "      <td>0.0</td>\n",
              "      <td>0.000000</td>\n",
              "      <td>5</td>\n",
              "      <td>0.000000</td>\n",
              "      <td>0.000000</td>\n",
              "      <td>2.5</td>\n",
              "      <td>2</td>\n",
              "      <td>0.000000</td>\n",
              "      <td>0.000000</td>\n",
              "      <td>0.000000e+00</td>\n",
              "      <td>0.0</td>\n",
              "      <td>0.0</td>\n",
              "      <td>0.000000</td>\n",
              "      <td>0.000000</td>\n",
              "      <td>1</td>\n",
              "    </tr>\n",
              "    <tr>\n",
              "      <th>2</th>\n",
              "      <td>0xcc02b920ae227f1be7d01fc241c27e5f74d40436</td>\n",
              "      <td>Fake copy of ROCK2 token</td>\n",
              "      <td>0.0</td>\n",
              "      <td>0.000000</td>\n",
              "      <td>3</td>\n",
              "      <td>0.000000</td>\n",
              "      <td>0.000000</td>\n",
              "      <td>3.0</td>\n",
              "      <td>1</td>\n",
              "      <td>0.000000</td>\n",
              "      <td>0.000000</td>\n",
              "      <td>0.000000e+00</td>\n",
              "      <td>0.0</td>\n",
              "      <td>0.0</td>\n",
              "      <td>0.000000</td>\n",
              "      <td>0.000000</td>\n",
              "      <td>1</td>\n",
              "    </tr>\n",
              "    <tr>\n",
              "      <th>3</th>\n",
              "      <td>0x181c71726f12ce2514e8b93019eb22645a79f966</td>\n",
              "      <td>Fake Whalesburg ICO support</td>\n",
              "      <td>47.0</td>\n",
              "      <td>32.078751</td>\n",
              "      <td>28</td>\n",
              "      <td>32.101368</td>\n",
              "      <td>9.400000</td>\n",
              "      <td>7.0</td>\n",
              "      <td>5</td>\n",
              "      <td>0.000000</td>\n",
              "      <td>229893.021277</td>\n",
              "      <td>3.781516e+05</td>\n",
              "      <td>0.0</td>\n",
              "      <td>0.0</td>\n",
              "      <td>6.415750</td>\n",
              "      <td>6.420274</td>\n",
              "      <td>1</td>\n",
              "    </tr>\n",
              "    <tr>\n",
              "      <th>4</th>\n",
              "      <td>0x2056d2e97cc9ad78cf527b382495a8b9704ce011</td>\n",
              "      <td>Fake Whalesburg ICO support</td>\n",
              "      <td>11.0</td>\n",
              "      <td>1.076784</td>\n",
              "      <td>6</td>\n",
              "      <td>1.082241</td>\n",
              "      <td>3.666667</td>\n",
              "      <td>3.0</td>\n",
              "      <td>3</td>\n",
              "      <td>0.000143</td>\n",
              "      <td>813860.636364</td>\n",
              "      <td>1.322250e+06</td>\n",
              "      <td>0.0</td>\n",
              "      <td>0.0</td>\n",
              "      <td>0.358928</td>\n",
              "      <td>0.360747</td>\n",
              "      <td>1</td>\n",
              "    </tr>\n",
              "  </tbody>\n",
              "</table>\n",
              "</div>"
            ],
            "text/plain": [
              "                                      address  ... label\n",
              "0  0x983bda798a24720bb4fe3dba287ec352e7b440fc  ...     1\n",
              "1  0x45029af827c652f47b1f678456b2cd009647c8ad  ...     1\n",
              "2  0xcc02b920ae227f1be7d01fc241c27e5f74d40436  ...     1\n",
              "3  0x181c71726f12ce2514e8b93019eb22645a79f966  ...     1\n",
              "4  0x2056d2e97cc9ad78cf527b382495a8b9704ce011  ...     1\n",
              "\n",
              "[5 rows x 17 columns]"
            ]
          },
          "metadata": {
            "tags": []
          },
          "execution_count": 53
        }
      ]
    },
    {
      "cell_type": "code",
      "metadata": {
        "id": "4ug_AfdOPxUA",
        "colab_type": "code",
        "colab": {
          "base_uri": "https://localhost:8080/",
          "height": 722
        },
        "outputId": "f7ef8dce-7ef2-4aad-df9a-8f565c63af94"
      },
      "source": [
        "stats(df)"
      ],
      "execution_count": 54,
      "outputs": [
        {
          "output_type": "stream",
          "text": [
            "shape:  (534, 17)\n",
            "\n",
            "Null values: \n",
            "address                     0\n",
            "comment                     0\n",
            "no_of_out_transactions      0\n",
            "tot_ether_sent              0\n",
            "no_of_in_transactions       0\n",
            "tot_ether_recieved          0\n",
            "monthly_out_txn             0\n",
            "monthly_in_txn              0\n",
            "active_months               0\n",
            "eth_balance                 0\n",
            "time_b/w_out_txn            0\n",
            "time_b/w_in_txn             0\n",
            "tot_token_value_recieved    0\n",
            "tot_token_value_sent        0\n",
            "monthly_ether_sent          0\n",
            "monthly_ether_recieved      0\n",
            "label                       0\n",
            "dtype: int64\n",
            "\n",
            "dtypes: \n",
            "address                      object\n",
            "comment                      object\n",
            "no_of_out_transactions      float64\n",
            "tot_ether_sent              float64\n",
            "no_of_in_transactions         int64\n",
            "tot_ether_recieved          float64\n",
            "monthly_out_txn             float64\n",
            "monthly_in_txn              float64\n",
            "active_months                 int64\n",
            "eth_balance                 float64\n",
            "time_b/w_out_txn            float64\n",
            "time_b/w_in_txn             float64\n",
            "tot_token_value_recieved    float64\n",
            "tot_token_value_sent        float64\n",
            "monthly_ether_sent          float64\n",
            "monthly_ether_recieved      float64\n",
            "label                         int64\n",
            "dtype: object\n",
            "\n"
          ],
          "name": "stdout"
        }
      ]
    },
    {
      "cell_type": "code",
      "metadata": {
        "id": "5uB9OUH-DgfO",
        "colab_type": "code",
        "colab": {}
      },
      "source": [
        "df.to_csv(r'/content/gdrive/My Drive/project_data/malicious_prediction_data.csv', index = False)"
      ],
      "execution_count": 0,
      "outputs": []
    },
    {
      "cell_type": "code",
      "metadata": {
        "id": "bMEPEnCHQwYh",
        "colab_type": "code",
        "colab": {}
      },
      "source": [
        ""
      ],
      "execution_count": 0,
      "outputs": []
    }
  ]
}