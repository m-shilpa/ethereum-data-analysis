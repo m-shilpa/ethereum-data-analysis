{
  "nbformat": 4,
  "nbformat_minor": 0,
  "metadata": {
    "colab": {
      "name": "Algorithms-malicious_data.ipynb",
      "provenance": [],
      "collapsed_sections": [],
      "include_colab_link": true
    },
    "kernelspec": {
      "name": "python3",
      "display_name": "Python 3"
    }
  },
  "cells": [
    {
      "cell_type": "markdown",
      "metadata": {
        "id": "view-in-github",
        "colab_type": "text"
      },
      "source": [
        "<a href=\"https://colab.research.google.com/github/mshilpaa/ethereum-data-analysis/blob/master/Malicious_Address_Prediction/Algorithms.ipynb\" target=\"_parent\"><img src=\"https://colab.research.google.com/assets/colab-badge.svg\" alt=\"Open In Colab\"/></a>"
      ]
    },
    {
      "cell_type": "code",
      "metadata": {
        "id": "dNJyXbaXRWt_",
        "colab_type": "code",
        "colab": {}
      },
      "source": [
        "import pandas as pd\n",
        "import numpy as np\n",
        "import matplotlib.pyplot as plt"
      ],
      "execution_count": 0,
      "outputs": []
    },
    {
      "cell_type": "code",
      "metadata": {
        "id": "Ir-37GFURblp",
        "colab_type": "code",
        "outputId": "d2e0ce49-9f26-40fe-931b-9c329606d413",
        "colab": {
          "base_uri": "https://localhost:8080/",
          "height": 34
        }
      },
      "source": [
        "from google.colab import drive\n",
        "drive.mount('/content/gdrive')"
      ],
      "execution_count": 4,
      "outputs": [
        {
          "output_type": "stream",
          "text": [
            "Mounted at /content/gdrive\n"
          ],
          "name": "stdout"
        }
      ]
    },
    {
      "cell_type": "markdown",
      "metadata": {
        "id": "xRtMQjc2bycr",
        "colab_type": "text"
      },
      "source": [
        "**column 'label' has values 1 - malicious , 0 - non-malicious**"
      ]
    },
    {
      "cell_type": "code",
      "metadata": {
        "id": "qtGcCRvJRfYv",
        "colab_type": "code",
        "colab": {}
      },
      "source": [
        "df = pd.read_csv('/content/gdrive/My Drive/project_data/malicious_prediction_data.csv')"
      ],
      "execution_count": 0,
      "outputs": []
    },
    {
      "cell_type": "code",
      "metadata": {
        "id": "eDV30AiJRwKQ",
        "colab_type": "code",
        "outputId": "e9053ed3-19c1-4596-8594-3b46cd6813d9",
        "colab": {
          "base_uri": "https://localhost:8080/",
          "height": 770
        }
      },
      "source": [
        "print(df.shape)\n",
        "print(df.dtypes)\n",
        "df.head(5)"
      ],
      "execution_count": 6,
      "outputs": [
        {
          "output_type": "stream",
          "text": [
            "(534, 17)\n",
            "address                      object\n",
            "comment                      object\n",
            "no_of_out_transactions      float64\n",
            "tot_ether_sent              float64\n",
            "no_of_in_transactions         int64\n",
            "tot_ether_recieved          float64\n",
            "monthly_out_txn             float64\n",
            "monthly_in_txn              float64\n",
            "active_months                 int64\n",
            "eth_balance                 float64\n",
            "time_b/w_out_txn            float64\n",
            "time_b/w_in_txn             float64\n",
            "tot_token_value_recieved    float64\n",
            "tot_token_value_sent        float64\n",
            "monthly_ether_sent          float64\n",
            "monthly_ether_recieved      float64\n",
            "label                         int64\n",
            "dtype: object\n"
          ],
          "name": "stdout"
        },
        {
          "output_type": "execute_result",
          "data": {
            "text/html": [
              "<div>\n",
              "<style scoped>\n",
              "    .dataframe tbody tr th:only-of-type {\n",
              "        vertical-align: middle;\n",
              "    }\n",
              "\n",
              "    .dataframe tbody tr th {\n",
              "        vertical-align: top;\n",
              "    }\n",
              "\n",
              "    .dataframe thead th {\n",
              "        text-align: right;\n",
              "    }\n",
              "</style>\n",
              "<table border=\"1\" class=\"dataframe\">\n",
              "  <thead>\n",
              "    <tr style=\"text-align: right;\">\n",
              "      <th></th>\n",
              "      <th>address</th>\n",
              "      <th>comment</th>\n",
              "      <th>no_of_out_transactions</th>\n",
              "      <th>tot_ether_sent</th>\n",
              "      <th>no_of_in_transactions</th>\n",
              "      <th>tot_ether_recieved</th>\n",
              "      <th>monthly_out_txn</th>\n",
              "      <th>monthly_in_txn</th>\n",
              "      <th>active_months</th>\n",
              "      <th>eth_balance</th>\n",
              "      <th>time_b/w_out_txn</th>\n",
              "      <th>time_b/w_in_txn</th>\n",
              "      <th>tot_token_value_recieved</th>\n",
              "      <th>tot_token_value_sent</th>\n",
              "      <th>monthly_ether_sent</th>\n",
              "      <th>monthly_ether_recieved</th>\n",
              "      <th>label</th>\n",
              "    </tr>\n",
              "  </thead>\n",
              "  <tbody>\n",
              "    <tr>\n",
              "      <th>0</th>\n",
              "      <td>0x983bda798a24720bb4fe3dba287ec352e7b440fc</td>\n",
              "      <td>Fake BITCAR platform token</td>\n",
              "      <td>0.0</td>\n",
              "      <td>0.000000</td>\n",
              "      <td>7</td>\n",
              "      <td>0.000000</td>\n",
              "      <td>0.000000</td>\n",
              "      <td>3.5</td>\n",
              "      <td>2</td>\n",
              "      <td>0.000000</td>\n",
              "      <td>0.000000</td>\n",
              "      <td>0.000000e+00</td>\n",
              "      <td>0.0</td>\n",
              "      <td>0.0</td>\n",
              "      <td>0.000000</td>\n",
              "      <td>0.000000</td>\n",
              "      <td>1</td>\n",
              "    </tr>\n",
              "    <tr>\n",
              "      <th>1</th>\n",
              "      <td>0x45029af827c652f47b1f678456b2cd009647c8ad</td>\n",
              "      <td>Fake BITCAR platform token</td>\n",
              "      <td>0.0</td>\n",
              "      <td>0.000000</td>\n",
              "      <td>5</td>\n",
              "      <td>0.000000</td>\n",
              "      <td>0.000000</td>\n",
              "      <td>2.5</td>\n",
              "      <td>2</td>\n",
              "      <td>0.000000</td>\n",
              "      <td>0.000000</td>\n",
              "      <td>0.000000e+00</td>\n",
              "      <td>0.0</td>\n",
              "      <td>0.0</td>\n",
              "      <td>0.000000</td>\n",
              "      <td>0.000000</td>\n",
              "      <td>1</td>\n",
              "    </tr>\n",
              "    <tr>\n",
              "      <th>2</th>\n",
              "      <td>0xcc02b920ae227f1be7d01fc241c27e5f74d40436</td>\n",
              "      <td>Fake copy of ROCK2 token</td>\n",
              "      <td>0.0</td>\n",
              "      <td>0.000000</td>\n",
              "      <td>3</td>\n",
              "      <td>0.000000</td>\n",
              "      <td>0.000000</td>\n",
              "      <td>3.0</td>\n",
              "      <td>1</td>\n",
              "      <td>0.000000</td>\n",
              "      <td>0.000000</td>\n",
              "      <td>0.000000e+00</td>\n",
              "      <td>0.0</td>\n",
              "      <td>0.0</td>\n",
              "      <td>0.000000</td>\n",
              "      <td>0.000000</td>\n",
              "      <td>1</td>\n",
              "    </tr>\n",
              "    <tr>\n",
              "      <th>3</th>\n",
              "      <td>0x181c71726f12ce2514e8b93019eb22645a79f966</td>\n",
              "      <td>Fake Whalesburg ICO support</td>\n",
              "      <td>47.0</td>\n",
              "      <td>32.078751</td>\n",
              "      <td>28</td>\n",
              "      <td>32.101368</td>\n",
              "      <td>9.400000</td>\n",
              "      <td>7.0</td>\n",
              "      <td>5</td>\n",
              "      <td>0.000000</td>\n",
              "      <td>229893.021277</td>\n",
              "      <td>3.781516e+05</td>\n",
              "      <td>0.0</td>\n",
              "      <td>0.0</td>\n",
              "      <td>6.415750</td>\n",
              "      <td>6.420274</td>\n",
              "      <td>1</td>\n",
              "    </tr>\n",
              "    <tr>\n",
              "      <th>4</th>\n",
              "      <td>0x2056d2e97cc9ad78cf527b382495a8b9704ce011</td>\n",
              "      <td>Fake Whalesburg ICO support</td>\n",
              "      <td>11.0</td>\n",
              "      <td>1.076784</td>\n",
              "      <td>6</td>\n",
              "      <td>1.082241</td>\n",
              "      <td>3.666667</td>\n",
              "      <td>3.0</td>\n",
              "      <td>3</td>\n",
              "      <td>0.000143</td>\n",
              "      <td>813860.636364</td>\n",
              "      <td>1.322250e+06</td>\n",
              "      <td>0.0</td>\n",
              "      <td>0.0</td>\n",
              "      <td>0.358928</td>\n",
              "      <td>0.360747</td>\n",
              "      <td>1</td>\n",
              "    </tr>\n",
              "  </tbody>\n",
              "</table>\n",
              "</div>"
            ],
            "text/plain": [
              "                                      address  ... label\n",
              "0  0x983bda798a24720bb4fe3dba287ec352e7b440fc  ...     1\n",
              "1  0x45029af827c652f47b1f678456b2cd009647c8ad  ...     1\n",
              "2  0xcc02b920ae227f1be7d01fc241c27e5f74d40436  ...     1\n",
              "3  0x181c71726f12ce2514e8b93019eb22645a79f966  ...     1\n",
              "4  0x2056d2e97cc9ad78cf527b382495a8b9704ce011  ...     1\n",
              "\n",
              "[5 rows x 17 columns]"
            ]
          },
          "metadata": {
            "tags": []
          },
          "execution_count": 6
        }
      ]
    },
    {
      "cell_type": "code",
      "metadata": {
        "id": "3W5YgbNOUlRE",
        "colab_type": "code",
        "outputId": "2f9d1dfa-2aff-4ba5-c682-46d9db6e70d7",
        "colab": {
          "base_uri": "https://localhost:8080/",
          "height": 286
        }
      },
      "source": [
        "df.mean()"
      ],
      "execution_count": 7,
      "outputs": [
        {
          "output_type": "execute_result",
          "data": {
            "text/plain": [
              "no_of_out_transactions      1.498427e+02\n",
              "tot_ether_sent              1.859411e+03\n",
              "no_of_in_transactions       6.531648e+01\n",
              "tot_ether_recieved          1.873335e+03\n",
              "monthly_out_txn             1.309968e+01\n",
              "monthly_in_txn              1.601115e+01\n",
              "active_months               5.425094e+00\n",
              "eth_balance                 1.991260e+19\n",
              "time_b/w_out_txn            8.846449e+05\n",
              "time_b/w_in_txn             8.689263e+05\n",
              "tot_token_value_recieved    1.740037e+57\n",
              "tot_token_value_sent        2.170932e+17\n",
              "monthly_ether_sent          1.525014e+02\n",
              "monthly_ether_recieved      2.269928e+02\n",
              "label                       5.000000e-01\n",
              "dtype: float64"
            ]
          },
          "metadata": {
            "tags": []
          },
          "execution_count": 7
        }
      ]
    },
    {
      "cell_type": "code",
      "metadata": {
        "id": "_9YNZT8wU4fG",
        "colab_type": "code",
        "outputId": "48132df0-aada-4d9e-a6a8-c7aa159c50e1",
        "colab": {
          "base_uri": "https://localhost:8080/",
          "height": 286
        }
      },
      "source": [
        "df.std()"
      ],
      "execution_count": 8,
      "outputs": [
        {
          "output_type": "execute_result",
          "data": {
            "text/plain": [
              "no_of_out_transactions      2.486349e+03\n",
              "tot_ether_sent              3.425423e+04\n",
              "no_of_in_transactions       6.382657e+02\n",
              "tot_ether_recieved          3.416540e+04\n",
              "monthly_out_txn             1.004221e+02\n",
              "monthly_in_txn              9.232221e+01\n",
              "active_months               5.410799e+00\n",
              "eth_balance                 2.978806e+20\n",
              "time_b/w_out_txn            1.638365e+06\n",
              "time_b/w_in_txn             1.970095e+06\n",
              "tot_token_value_recieved    2.800965e+58\n",
              "tot_token_value_sent        5.016685e+18\n",
              "monthly_ether_sent          1.510494e+03\n",
              "monthly_ether_recieved      1.698302e+03\n",
              "label                       5.004688e-01\n",
              "dtype: float64"
            ]
          },
          "metadata": {
            "tags": []
          },
          "execution_count": 8
        }
      ]
    },
    {
      "cell_type": "code",
      "metadata": {
        "id": "aE5g5gTQZGvf",
        "colab_type": "code",
        "outputId": "c3cbf46a-a0cc-42cc-ccf9-eeb6ffd4b261",
        "colab": {
          "base_uri": "https://localhost:8080/",
          "height": 118
        }
      },
      "source": [
        "df.columns"
      ],
      "execution_count": 9,
      "outputs": [
        {
          "output_type": "execute_result",
          "data": {
            "text/plain": [
              "Index(['address', 'comment', 'no_of_out_transactions', 'tot_ether_sent',\n",
              "       'no_of_in_transactions', 'tot_ether_recieved', 'monthly_out_txn',\n",
              "       'monthly_in_txn', 'active_months', 'eth_balance', 'time_b/w_out_txn',\n",
              "       'time_b/w_in_txn', 'tot_token_value_recieved', 'tot_token_value_sent',\n",
              "       'monthly_ether_sent', 'monthly_ether_recieved', 'label'],\n",
              "      dtype='object')"
            ]
          },
          "metadata": {
            "tags": []
          },
          "execution_count": 9
        }
      ]
    },
    {
      "cell_type": "code",
      "metadata": {
        "id": "rmf5OwdEaGWW",
        "colab_type": "code",
        "colab": {
          "base_uri": "https://localhost:8080/",
          "height": 218
        },
        "outputId": "e4454268-bdfc-4ab9-a952-d520800b9ec7"
      },
      "source": [
        "df['comment'].value_counts()"
      ],
      "execution_count": 11,
      "outputs": [
        {
          "output_type": "execute_result",
          "data": {
            "text/plain": [
              "Non Malicious                                                             267\n",
              "0                                                                         142\n",
              "Fake admin in Selfllery ICO                                                 8\n",
              "Fake PlayHall support                                                       4\n",
              "Trust trading 0.1ETH for 2ETH                                               4\n",
              "                                                                         ... \n",
              "Fake Bluzelle crowdsale site                                                1\n",
              "Fake Cindicator airdrop site asking for private keys                        1\n",
              "PHISH_Scambots_3                                                            1\n",
              "Ziber.io original contract address, called suicide after about 1000eth      1\n",
              "MultiSigExploit-Hacker_main_2_f                                             1\n",
              "Name: comment, Length: 102, dtype: int64"
            ]
          },
          "metadata": {
            "tags": []
          },
          "execution_count": 11
        }
      ]
    },
    {
      "cell_type": "code",
      "metadata": {
        "id": "_wuaEQ2LZPev",
        "colab_type": "code",
        "colab": {}
      },
      "source": [
        "data = df.loc[:,'no_of_out_transactions':].copy()"
      ],
      "execution_count": 0,
      "outputs": []
    },
    {
      "cell_type": "code",
      "metadata": {
        "id": "eTUXKPVMVHJW",
        "colab_type": "code",
        "colab": {}
      },
      "source": [
        "# normalization\n",
        "\n",
        "from sklearn.preprocessing import StandardScaler\n",
        "sc_X = StandardScaler()\n",
        "X =  pd.DataFrame(sc_X.fit_transform(data.drop([\"label\"],axis = 1),),\n",
        "        columns=['no_of_out_transactions', 'tot_ether_sent',\n",
        "       'no_of_in_transactions', 'tot_ether_recieved', 'monthly_out_txn',\n",
        "       'monthly_in_txn', 'active_months', 'eth_balance', 'time_b/w_out_txn',\n",
        "       'time_b/w_in_txn', 'tot_token_value_recieved', 'tot_token_value_sent',\n",
        "       'monthly_ether_sent', 'monthly_ether_recieved'])"
      ],
      "execution_count": 0,
      "outputs": []
    },
    {
      "cell_type": "code",
      "metadata": {
        "id": "ZgP_umz4aSKc",
        "colab_type": "code",
        "colab": {}
      },
      "source": [
        "y = data['label']"
      ],
      "execution_count": 0,
      "outputs": []
    },
    {
      "cell_type": "code",
      "metadata": {
        "id": "WQVPtQ8lZ4vC",
        "colab_type": "code",
        "colab": {}
      },
      "source": [
        "from sklearn.model_selection import train_test_split\n",
        "X_train,X_test,y_train,y_test = train_test_split(X,y,test_size=1/3,random_state=42,shuffle=True, stratify=y)"
      ],
      "execution_count": 0,
      "outputs": []
    },
    {
      "cell_type": "code",
      "metadata": {
        "id": "gPNqhv4cLzCQ",
        "colab_type": "code",
        "colab": {}
      },
      "source": [
        "def model_evaluation(y_test,y_pred):\n",
        "  from sklearn.metrics import classification_report\n",
        "  print(classification_report(y_test,y_pred))\n",
        "  from sklearn import metrics\n",
        "  import seaborn as sns\n",
        "  cnf_matrix = metrics.confusion_matrix(y_test, y_pred)\n",
        "  p = sns.heatmap(pd.DataFrame(cnf_matrix), annot=True, cmap=\"YlGnBu\" ,fmt='g')\n",
        "  plt.title('Confusion matrix', y=1.1)\n",
        "  plt.ylabel('Actual label')\n",
        "  plt.xlabel('Predicted label')"
      ],
      "execution_count": 0,
      "outputs": []
    },
    {
      "cell_type": "code",
      "metadata": {
        "id": "xjDvmmhdaWRZ",
        "colab_type": "code",
        "colab": {}
      },
      "source": [
        "from sklearn.neighbors import KNeighborsClassifier"
      ],
      "execution_count": 0,
      "outputs": []
    },
    {
      "cell_type": "code",
      "metadata": {
        "id": "eWRrMa7acxFn",
        "colab_type": "code",
        "colab": {
          "base_uri": "https://localhost:8080/",
          "height": 34
        },
        "outputId": "66a5abe5-5e68-41be-cfb3-3874d9675ef9"
      },
      "source": [
        "\n",
        "#Setup a knn classifier with k neighbors\n",
        "knn = KNeighborsClassifier(n_neighbors=2, p=2, metric='euclidean')\n",
        "\n",
        "knn.fit(X_train,y_train)\n",
        "print(knn.score(X_test,y_test))\n",
        "\n",
        "y_pred = knn.predict(X_test)\n"
      ],
      "execution_count": 21,
      "outputs": [
        {
          "output_type": "stream",
          "text": [
            "0.8651685393258427\n"
          ],
          "name": "stdout"
        }
      ]
    },
    {
      "cell_type": "code",
      "metadata": {
        "id": "OqnUwX47MIHZ",
        "colab_type": "code",
        "outputId": "66f6c0d0-d41c-4fd3-80ee-1d506375214f",
        "colab": {
          "base_uri": "https://localhost:8080/",
          "height": 500
        }
      },
      "source": [
        "model_evaluation(y_test,y_pred)"
      ],
      "execution_count": 26,
      "outputs": [
        {
          "output_type": "stream",
          "text": [
            "              precision    recall  f1-score   support\n",
            "\n",
            "           0       0.80      0.97      0.88        89\n",
            "           1       0.96      0.76      0.85        89\n",
            "\n",
            "    accuracy                           0.87       178\n",
            "   macro avg       0.88      0.87      0.86       178\n",
            "weighted avg       0.88      0.87      0.86       178\n",
            "\n"
          ],
          "name": "stdout"
        },
        {
          "output_type": "stream",
          "text": [
            "/usr/local/lib/python3.6/dist-packages/statsmodels/tools/_testing.py:19: FutureWarning: pandas.util.testing is deprecated. Use the functions in the public API at pandas.testing instead.\n",
            "  import pandas.util.testing as tm\n"
          ],
          "name": "stderr"
        },
        {
          "output_type": "display_data",
          "data": {
            "image/png": "[encoded data removed]",
            "text/plain": [
              "<Figure size 432x288 with 2 Axes>"
            ]
          },
          "metadata": {
            "tags": [],
            "needs_background": "light"
          }
        }
      ]
    },
    {
      "cell_type": "code",
      "metadata": {
        "id": "XDQdQglwcUye",
        "colab_type": "code",
        "outputId": "f7f60da4-9ff0-42c0-f727-58168fb09718",
        "colab": {
          "base_uri": "https://localhost:8080/",
          "height": 34
        }
      },
      "source": [
        "data.iloc[0]['label']"
      ],
      "execution_count": 27,
      "outputs": [
        {
          "output_type": "execute_result",
          "data": {
            "text/plain": [
              "1.0"
            ]
          },
          "metadata": {
            "tags": []
          },
          "execution_count": 27
        }
      ]
    },
    {
      "cell_type": "code",
      "metadata": {
        "id": "1VzMcjYMdvKo",
        "colab_type": "code",
        "outputId": "519106fd-d637-4fb9-b909-a0128a4f0af1",
        "colab": {
          "base_uri": "https://localhost:8080/",
          "height": 34
        }
      },
      "source": [
        "knn.predict([data.iloc[0][:'monthly_ether_recieved']])"
      ],
      "execution_count": 29,
      "outputs": [
        {
          "output_type": "execute_result",
          "data": {
            "text/plain": [
              "array([1])"
            ]
          },
          "metadata": {
            "tags": []
          },
          "execution_count": 29
        }
      ]
    },
    {
      "cell_type": "markdown",
      "metadata": {
        "id": "YFhlcV3qO_6d",
        "colab_type": "text"
      },
      "source": [
        "# **Logistic Regression**"
      ]
    },
    {
      "cell_type": "code",
      "metadata": {
        "id": "KjeV6bCG001o",
        "colab_type": "code",
        "colab": {}
      },
      "source": [
        "from sklearn.linear_model import LogisticRegression"
      ],
      "execution_count": 0,
      "outputs": []
    },
    {
      "cell_type": "code",
      "metadata": {
        "id": "KzEZxRzoPiE_",
        "colab_type": "code",
        "colab": {}
      },
      "source": [
        "clf = LogisticRegression(random_state=42).fit(X_train, y_train)"
      ],
      "execution_count": 0,
      "outputs": []
    },
    {
      "cell_type": "code",
      "metadata": {
        "id": "AC4rbLMtWxHC",
        "colab_type": "code",
        "outputId": "3ecdb76e-6389-4408-f83a-4a8233f4e15a",
        "colab": {
          "base_uri": "https://localhost:8080/",
          "height": 101
        }
      },
      "source": [
        "clf"
      ],
      "execution_count": 34,
      "outputs": [
        {
          "output_type": "execute_result",
          "data": {
            "text/plain": [
              "LogisticRegression(C=1.0, class_weight=None, dual=False, fit_intercept=True,\n",
              "                   intercept_scaling=1, l1_ratio=None, max_iter=100,\n",
              "                   multi_class='auto', n_jobs=None, penalty='l2',\n",
              "                   random_state=42, solver='lbfgs', tol=0.0001, verbose=0,\n",
              "                   warm_start=False)"
            ]
          },
          "metadata": {
            "tags": []
          },
          "execution_count": 34
        }
      ]
    },
    {
      "cell_type": "code",
      "metadata": {
        "id": "_EtRyLpORD1D",
        "colab_type": "code",
        "outputId": "2815bba7-fc35-4987-f5ed-96957e03d42b",
        "colab": {
          "base_uri": "https://localhost:8080/",
          "height": 34
        }
      },
      "source": [
        "clf.score(X_test, y_test)"
      ],
      "execution_count": 35,
      "outputs": [
        {
          "output_type": "execute_result",
          "data": {
            "text/plain": [
              "0.8764044943820225"
            ]
          },
          "metadata": {
            "tags": []
          },
          "execution_count": 35
        }
      ]
    },
    {
      "cell_type": "code",
      "metadata": {
        "id": "GpvoUYfAN5gj",
        "colab_type": "code",
        "outputId": "51a4c4ff-1c3c-472a-8955-33d26f5ffccd",
        "colab": {
          "base_uri": "https://localhost:8080/",
          "height": 446
        }
      },
      "source": [
        "y_pred_lr = clf.predict(X_test)\n",
        "model_evaluation(y_test,y_pred_lr)"
      ],
      "execution_count": 36,
      "outputs": [
        {
          "output_type": "stream",
          "text": [
            "              precision    recall  f1-score   support\n",
            "\n",
            "           0       0.89      0.85      0.87        89\n",
            "           1       0.86      0.90      0.88        89\n",
            "\n",
            "    accuracy                           0.88       178\n",
            "   macro avg       0.88      0.88      0.88       178\n",
            "weighted avg       0.88      0.88      0.88       178\n",
            "\n"
          ],
          "name": "stdout"
        },
        {
          "output_type": "display_data",
          "data": {
            "image/png": "[encoded data removed]",
            "text/plain": [
              "<Figure size 432x288 with 2 Axes>"
            ]
          },
          "metadata": {
            "tags": [],
            "needs_background": "light"
          }
        }
      ]
    },
    {
      "cell_type": "markdown",
      "metadata": {
        "id": "uOS5xrgejDoI",
        "colab_type": "text"
      },
      "source": [
        "# **Classification using Multi Layer Perceptron** "
      ]
    },
    {
      "cell_type": "code",
      "metadata": {
        "id": "fAaTFWGUV9Pn",
        "colab_type": "code",
        "colab": {}
      },
      "source": [
        "from sklearn.neural_network import MLPClassifier"
      ],
      "execution_count": 0,
      "outputs": []
    },
    {
      "cell_type": "code",
      "metadata": {
        "id": "TUs5yuRUd5l5",
        "colab_type": "code",
        "outputId": "ab7b2f0b-533e-4a12-e355-e8e6cc6ffa07",
        "colab": {
          "base_uri": "https://localhost:8080/",
          "height": 34
        }
      },
      "source": [
        "mlp = MLPClassifier(solver='lbfgs', # optimiser\n",
        "                    alpha=1e-5,     # L2 regularization\n",
        "                    hidden_layer_sizes=(4, 15), # ( no. of layers, no. of neurons per layer )\n",
        "                    random_state=1)\n",
        "\n",
        "mlp.fit(X_train, y_train)\n",
        "mlp.score(X_test,y_test)"
      ],
      "execution_count": 39,
      "outputs": [
        {
          "output_type": "execute_result",
          "data": {
            "text/plain": [
              "0.9044943820224719"
            ]
          },
          "metadata": {
            "tags": []
          },
          "execution_count": 39
        }
      ]
    },
    {
      "cell_type": "code",
      "metadata": {
        "id": "Ld7MjeE_eNuj",
        "colab_type": "code",
        "outputId": "1eda270c-ab18-4aa9-829a-217606471e6a",
        "colab": {
          "base_uri": "https://localhost:8080/",
          "height": 87
        }
      },
      "source": [
        "mlp = MLPClassifier(solver='sgd', alpha=0,learning_rate_init=0.035,\n",
        "                     hidden_layer_sizes=(6, 20), random_state=1)\n",
        "\n",
        "mlp.fit(X_train, y_train)\n",
        "mlp.score(X_test,y_test)"
      ],
      "execution_count": 40,
      "outputs": [
        {
          "output_type": "stream",
          "text": [
            "/usr/local/lib/python3.6/dist-packages/sklearn/neural_network/_multilayer_perceptron.py:571: ConvergenceWarning: Stochastic Optimizer: Maximum iterations (200) reached and the optimization hasn't converged yet.\n",
            "  % self.max_iter, ConvergenceWarning)\n"
          ],
          "name": "stderr"
        },
        {
          "output_type": "execute_result",
          "data": {
            "text/plain": [
              "0.9044943820224719"
            ]
          },
          "metadata": {
            "tags": []
          },
          "execution_count": 40
        }
      ]
    },
    {
      "cell_type": "code",
      "metadata": {
        "id": "_tX2h_ojkTiH",
        "colab_type": "code",
        "outputId": "c4d874e0-753b-469b-9522-f4e0a2ff8a55",
        "colab": {
          "base_uri": "https://localhost:8080/",
          "height": 87
        }
      },
      "source": [
        "mlp = MLPClassifier(solver='adam', alpha=1e-5,learning_rate_init=0.0034,\n",
        "                     hidden_layer_sizes=(6, 18), random_state=1)\n",
        "\n",
        "mlp.fit(X_train, y_train)\n",
        "mlp.score(X_test,y_test)"
      ],
      "execution_count": 41,
      "outputs": [
        {
          "output_type": "stream",
          "text": [
            "/usr/local/lib/python3.6/dist-packages/sklearn/neural_network/_multilayer_perceptron.py:571: ConvergenceWarning: Stochastic Optimizer: Maximum iterations (200) reached and the optimization hasn't converged yet.\n",
            "  % self.max_iter, ConvergenceWarning)\n"
          ],
          "name": "stderr"
        },
        {
          "output_type": "execute_result",
          "data": {
            "text/plain": [
              "0.9213483146067416"
            ]
          },
          "metadata": {
            "tags": []
          },
          "execution_count": 41
        }
      ]
    },
    {
      "cell_type": "code",
      "metadata": {
        "id": "Cj7ip-KTpFVA",
        "colab_type": "code",
        "outputId": "37be422c-0a25-4ab7-9ca5-f569e8ebe7a2",
        "colab": {
          "base_uri": "https://localhost:8080/",
          "height": 446
        }
      },
      "source": [
        "y_pred = mlp.predict(X_test)\n",
        "model_evaluation(y_test,y_pred)"
      ],
      "execution_count": 42,
      "outputs": [
        {
          "output_type": "stream",
          "text": [
            "              precision    recall  f1-score   support\n",
            "\n",
            "           0       0.89      0.97      0.92        89\n",
            "           1       0.96      0.88      0.92        89\n",
            "\n",
            "    accuracy                           0.92       178\n",
            "   macro avg       0.92      0.92      0.92       178\n",
            "weighted avg       0.92      0.92      0.92       178\n",
            "\n"
          ],
          "name": "stdout"
        },
        {
          "output_type": "display_data",
          "data": {
            "image/png": "[encoded data removed]",
            "text/plain": [
              "<Figure size 432x288 with 2 Axes>"
            ]
          },
          "metadata": {
            "tags": [],
            "needs_background": "light"
          }
        }
      ]
    },
    {
      "cell_type": "markdown",
      "metadata": {
        "id": "TxmuZ_RlLUOU",
        "colab_type": "text"
      },
      "source": [
        "# **Random Forest Classifier**"
      ]
    },
    {
      "cell_type": "code",
      "metadata": {
        "id": "Iwlei1p3pbnR",
        "colab_type": "code",
        "colab": {}
      },
      "source": [
        "from sklearn.ensemble import RandomForestClassifier"
      ],
      "execution_count": 0,
      "outputs": []
    },
    {
      "cell_type": "code",
      "metadata": {
        "id": "eNLz3o7SrrAr",
        "colab_type": "code",
        "outputId": "27a08d50-491a-4c5f-9ad2-95d32332ffe4",
        "colab": {
          "base_uri": "https://localhost:8080/",
          "height": 34
        }
      },
      "source": [
        "rfc = RandomForestClassifier(max_depth=5, random_state=1)\n",
        "rfc.fit(X_train, y_train)\n",
        "rfc.score(X_test,y_test)"
      ],
      "execution_count": 44,
      "outputs": [
        {
          "output_type": "execute_result",
          "data": {
            "text/plain": [
              "0.949438202247191"
            ]
          },
          "metadata": {
            "tags": []
          },
          "execution_count": 44
        }
      ]
    },
    {
      "cell_type": "code",
      "metadata": {
        "id": "H4H6z3_GsXxc",
        "colab_type": "code",
        "outputId": "d7d91355-e2a5-4eab-8204-3318a966a4f0",
        "colab": {
          "base_uri": "https://localhost:8080/",
          "height": 151
        }
      },
      "source": [
        "rfc"
      ],
      "execution_count": 45,
      "outputs": [
        {
          "output_type": "execute_result",
          "data": {
            "text/plain": [
              "RandomForestClassifier(bootstrap=True, ccp_alpha=0.0, class_weight=None,\n",
              "                       criterion='gini', max_depth=5, max_features='auto',\n",
              "                       max_leaf_nodes=None, max_samples=None,\n",
              "                       min_impurity_decrease=0.0, min_impurity_split=None,\n",
              "                       min_samples_leaf=1, min_samples_split=2,\n",
              "                       min_weight_fraction_leaf=0.0, n_estimators=100,\n",
              "                       n_jobs=None, oob_score=False, random_state=1, verbose=0,\n",
              "                       warm_start=False)"
            ]
          },
          "metadata": {
            "tags": []
          },
          "execution_count": 45
        }
      ]
    },
    {
      "cell_type": "code",
      "metadata": {
        "id": "KOt9_n2MOtQQ",
        "colab_type": "code",
        "outputId": "76c82f0e-5777-456c-fa3d-8eb23e8680ea",
        "colab": {
          "base_uri": "https://localhost:8080/",
          "height": 446
        }
      },
      "source": [
        "y_pred = rfc.predict(X_test)\n",
        "model_evaluation(y_test,y_pred)"
      ],
      "execution_count": 46,
      "outputs": [
        {
          "output_type": "stream",
          "text": [
            "              precision    recall  f1-score   support\n",
            "\n",
            "           0       0.93      0.98      0.95        89\n",
            "           1       0.98      0.92      0.95        89\n",
            "\n",
            "    accuracy                           0.95       178\n",
            "   macro avg       0.95      0.95      0.95       178\n",
            "weighted avg       0.95      0.95      0.95       178\n",
            "\n"
          ],
          "name": "stdout"
        },
        {
          "output_type": "display_data",
          "data": {
            "image/png": "[encoded data removed]",
            "text/plain": [
              "<Figure size 432x288 with 2 Axes>"
            ]
          },
          "metadata": {
            "tags": [],
            "needs_background": "light"
          }
        }
      ]
    },
    {
      "cell_type": "code",
      "metadata": {
        "id": "LjkBGz6xeCL6",
        "colab_type": "code",
        "colab": {}
      },
      "source": [
        ""
      ],
      "execution_count": 0,
      "outputs": []
    }
  ]
}