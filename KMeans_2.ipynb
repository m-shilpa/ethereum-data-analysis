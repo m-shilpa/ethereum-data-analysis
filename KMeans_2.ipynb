{
  "nbformat": 4,
  "nbformat_minor": 0,
  "metadata": {
    "colab": {
      "name": "KMeans-2.ipynb",
      "provenance": [],
      "include_colab_link": true
    },
    "kernelspec": {
      "name": "python3",
      "display_name": "Python 3"
    },
    "accelerator": "GPU"
  },
  "cells": [
    {
      "cell_type": "markdown",
      "metadata": {
        "id": "view-in-github",
        "colab_type": "text"
      },
      "source": [
        "<a href=\"https://colab.research.google.com/github/mshilpaa/ethereum-data-analysis/blob/master/KMeans_2.ipynb\" target=\"_parent\"><img src=\"https://colab.research.google.com/assets/colab-badge.svg\" alt=\"Open In Colab\"/></a>"
      ]
    },
    {
      "cell_type": "code",
      "metadata": {
        "id": "LyBVp18JqRZQ",
        "colab_type": "code",
        "outputId": "2321691c-6e5c-4760-efdc-0e907d35a88e",
        "colab": {
          "base_uri": "https://localhost:8080/",
          "height": 122
        }
      },
      "source": [
        "from google.colab import drive\n",
        "drive.mount('/content/gdrive')"
      ],
      "execution_count": 2,
      "outputs": [
        {
          "output_type": "stream",
          "text": [
            "Go to this URL in a browser: https://accounts.google.com/o/oauth2/auth?client_id=947318989803-6bn6qk8qdgf4n4g3pfee6491hc0brc4i.apps.googleusercontent.com&redirect_uri=urn%3aietf%3awg%3aoauth%3a2.0%3aoob&response_type=code&scope=email%20https%3a%2f%2fwww.googleapis.com%2fauth%2fdocs.test%20https%3a%2f%2fwww.googleapis.com%2fauth%2fdrive%20https%3a%2f%2fwww.googleapis.com%2fauth%2fdrive.photos.readonly%20https%3a%2f%2fwww.googleapis.com%2fauth%2fpeopleapi.readonly\n",
            "\n",
            "Enter your authorization code:\n",
            "··········\n",
            "Mounted at /content/gdrive\n"
          ],
          "name": "stdout"
        }
      ]
    },
    {
      "cell_type": "code",
      "metadata": {
        "id": "Ve-kHdvtYjuK",
        "colab_type": "code",
        "colab": {}
      },
      "source": [
        "def sil_scores(X, range_n_clusters ):\n",
        "    result = []\n",
        "    for n_clusters in range_n_clusters:\n",
        "    #     X=data\n",
        "        # Create a subplot with 1 row and 2 columns\n",
        "        fig, (ax1, ax2) = plt.subplots(1, 2)\n",
        "        fig.set_size_inches(18, 7)\n",
        "\n",
        "        # The 1st subplot is the silhouette plot\n",
        "        # The silhouette coefficient can range from -1, 1 but in this example all\n",
        "        # lie within [-0.1, 1]\n",
        "        ax1.set_xlim([-0.1, 1])\n",
        "        # The (n_clusters+1)*10 is for inserting blank space between silhouette\n",
        "        # plots of individual clusters, to demarcate them clearly.\n",
        "        ax1.set_ylim([0, len(X) + (n_clusters + 1) * 10])\n",
        "\n",
        "        # Initialize the clusterer with n_clusters value and a random generator\n",
        "        # seed of 10 for reproducibility.\n",
        "        clusterer = KMeans(n_clusters=n_clusters, n_init=20, max_iter=500)\n",
        "        cluster_labels = clusterer.fit_predict(X)\n",
        "\n",
        "\n",
        "\n",
        "        # The silhouette_score gives the average value for all the samples.\n",
        "        # This gives a perspective into the density and separation of the formed\n",
        "        # clusters\n",
        "        silhouette_avg = silhouette_score(X, cluster_labels)\n",
        "        print(\"For n_clusters =\", n_clusters,\n",
        "              \"The average silhouette_score is :\", silhouette_avg)\n",
        "        result.append(silhouette_avg)\n",
        "    return result\n",
        "\n",
        "def silhouette_plotter(X, range_n_clusters, tsne_X ):\n",
        "    all_scores = []\n",
        "    for n_clusters in range_n_clusters:\n",
        "    #     X=data\n",
        "        # Create a subplot with 1 row and 2 columns\n",
        "        fig, (ax1, ax2) = plt.subplots(1, 2)\n",
        "        fig.set_size_inches(18, 7)\n",
        "\n",
        "        # The 1st subplot is the silhouette plot\n",
        "        # The silhouette coefficient can range from -1, 1 but in this example all\n",
        "        # lie within [-0.1, 1]\n",
        "        ax1.set_xlim([-0.1, 1])\n",
        "        # The (n_clusters+1)*10 is for inserting blank space between silhouette\n",
        "        # plots of individual clusters, to demarcate them clearly.\n",
        "        ax1.set_ylim([0, len(X) + (n_clusters + 1) * 10])\n",
        "\n",
        "        # Initialize the clusterer with n_clusters value and a random generator\n",
        "        # seed of 10 for reproducibility.\n",
        "        clusterer = KMeans(n_clusters=n_clusters, random_state=10)\n",
        "        cluster_labels = clusterer.fit_predict(X)\n",
        "\n",
        "\n",
        "\n",
        "        # The silhouette_score gives the average value for all the samples.\n",
        "        # This gives a perspective into the density and separation of the formed\n",
        "        # clusters\n",
        "        silhouette_avg = silhouette_score(X, cluster_labels)\n",
        "        all_scores.append(silhouette_avg)\n",
        "        print(\"For n_clusters =\", n_clusters,\n",
        "              \"The average silhouette_score is :\", silhouette_avg)\n",
        "\n",
        "\n",
        "        # Compute the silhouette scores for each sample\n",
        "        sample_silhouette_values = silhouette_samples(X, cluster_labels)\n",
        "\n",
        "        y_lower = 10\n",
        "        for i in range(n_clusters):\n",
        "            # Aggregate the silhouette scores for samples belonging to\n",
        "            # cluster i, and sort them\n",
        "            ith_cluster_silhouette_values = \\\n",
        "                sample_silhouette_values[cluster_labels == i]\n",
        "\n",
        "            ith_cluster_silhouette_values.sort()\n",
        "\n",
        "            size_cluster_i = ith_cluster_silhouette_values.shape[0]\n",
        "            y_upper = y_lower + size_cluster_i\n",
        "\n",
        "            color = cm.nipy_spectral(float(i) / 8)\n",
        "            ax1.fill_betweenx(np.arange(y_lower, y_upper),\n",
        "                              0, ith_cluster_silhouette_values,\n",
        "                              facecolor=color, edgecolor=color, alpha=0.7)\n",
        "\n",
        "            # Label the silhouette plots with their cluster numbers at the middle\n",
        "            ax1.text(-0.05, y_lower + 0.5 * size_cluster_i, str(i))\n",
        "\n",
        "            # Compute the new y_lower for next plot\n",
        "            y_lower = y_upper + 10  # 10 for the 0 samples\n",
        "\n",
        "        ax1.set_title(\"The silhouette plot for the various clusters.\")\n",
        "        ax1.set_xlabel(\"The silhouette coefficient values\")\n",
        "        ax1.set_ylabel(\"Cluster label\")\n",
        "\n",
        "        # The vertical line for average silhouette score of all the values\n",
        "        ax1.axvline(x=silhouette_avg, color=\"red\", linestyle=\"--\")\n",
        "\n",
        "        ax1.set_yticks([])  # Clear the yaxis labels / ticks\n",
        "        ax1.set_xticks([-0.1, 0, 0.2, 0.4, 0.6, 0.8, 1])\n",
        "\n",
        "        # 2nd Plot showing the actual clusters formed\n",
        "        colors = cm.nipy_spectral(cluster_labels.astype(float) / 8)\n",
        "        ax2.scatter(tsne_X[:, 0], tsne_X[:, 1], marker='.', s=30, lw=0, alpha=1,\n",
        "                    c=colors, edgecolor='k')\n",
        "\n",
        "            \n",
        "\n",
        "        ax2.set_title(\"The visualization of the clustered data.\")\n",
        "        ax2.set_xlabel(\"Feature space for the 1st feature\")\n",
        "        ax2.set_ylabel(\"Feature space for the 2nd feature\")\n",
        "\n",
        "        #ax2.set_yscale('log')\n",
        "        #ax2.set_xscale('log')\n",
        "        #ax2.set_xlim(.0001,1000)\n",
        "        #ax2.set_ylim(.0001,1000)\n",
        "        plt.suptitle((\"Silhouette analysis for KMeans clustering on sample data \"\n",
        "                      \"with n_clusters = %d\" % n_clusters),\n",
        "                     fontsize=14, fontweight='bold')\n",
        "\n",
        "    plt.show()\n",
        "    return all_scores"
      ],
      "execution_count": 0,
      "outputs": []
    },
    {
      "cell_type": "code",
      "metadata": {
        "id": "UUvUCFpeMbOy",
        "colab_type": "code",
        "outputId": "efa9f5d2-6f4b-4798-f8e4-49c10adae556",
        "colab": {
          "base_uri": "https://localhost:8080/",
          "height": 51
        }
      },
      "source": [
        "import matplotlib.pyplot as plt\n",
        "import numpy as np\n",
        "import pandas as pd\n",
        "from sklearn import cluster\n",
        "from sklearn.metrics import silhouette_score, silhouette_samples\n",
        "from sklearn.preprocessing import StandardScaler, PowerTransformer, FunctionTransformer\n",
        "from sklearn.decomposition import PCA\n",
        "from sklearn.pipeline import Pipeline\n",
        "import random\n",
        "from sklearn.cluster import KMeans\n",
        "import matplotlib.cm as cm\n",
        "%run silhouette_plotter.py\n",
        "%run parse.py\n",
        "from mpl_toolkits.mplot3d import Axes3D"
      ],
      "execution_count": 4,
      "outputs": [
        {
          "output_type": "stream",
          "text": [
            "ERROR:root:File `'silhouette_plotter.py'` not found.\n",
            "ERROR:root:File `'parse.py'` not found.\n"
          ],
          "name": "stderr"
        }
      ]
    },
    {
      "cell_type": "code",
      "metadata": {
        "id": "iDaYlB28OCDw",
        "colab_type": "code",
        "outputId": "67a28f56-21c0-4170-b456-01371bfca68c",
        "colab": {
          "base_uri": "https://localhost:8080/",
          "height": 71
        }
      },
      "source": [
        "dbscan_data = pd.read_csv('/content/gdrive/My Drive/FinalData/final_data.csv')"
      ],
      "execution_count": 5,
      "outputs": [
        {
          "output_type": "stream",
          "text": [
            "/usr/local/lib/python3.6/dist-packages/IPython/core/interactiveshell.py:2718: DtypeWarning: Columns (2) have mixed types. Specify dtype option on import or set low_memory=False.\n",
            "  interactivity=interactivity, compiler=compiler, result=result)\n"
          ],
          "name": "stderr"
        }
      ]
    },
    {
      "cell_type": "code",
      "metadata": {
        "id": "uhKPtug9OL6S",
        "colab_type": "code",
        "outputId": "060b8919-bac4-4398-d67c-aa3407e4b39f",
        "colab": {
          "base_uri": "https://localhost:8080/",
          "height": 224
        }
      },
      "source": [
        "dbscan_data.head(5)"
      ],
      "execution_count": 6,
      "outputs": [
        {
          "output_type": "execute_result",
          "data": {
            "text/html": [
              "<div>\n",
              "<style scoped>\n",
              "    .dataframe tbody tr th:only-of-type {\n",
              "        vertical-align: middle;\n",
              "    }\n",
              "\n",
              "    .dataframe tbody tr th {\n",
              "        vertical-align: top;\n",
              "    }\n",
              "\n",
              "    .dataframe thead th {\n",
              "        text-align: right;\n",
              "    }\n",
              "</style>\n",
              "<table border=\"1\" class=\"dataframe\">\n",
              "  <thead>\n",
              "    <tr style=\"text-align: right;\">\n",
              "      <th></th>\n",
              "      <th>address</th>\n",
              "      <th>no_of_in_transactions</th>\n",
              "      <th>tot_ether_recieved</th>\n",
              "      <th>no_of_out_transactions</th>\n",
              "      <th>tot_ether_sent</th>\n",
              "      <th>tot_token_value_recieved</th>\n",
              "      <th>tot_token_value_sent</th>\n",
              "      <th>time_b/w_out_txn_x</th>\n",
              "      <th>time_b/w_out_txn_y</th>\n",
              "      <th>active_months</th>\n",
              "      <th>monthly_out_txn</th>\n",
              "      <th>monthly_in_txn</th>\n",
              "    </tr>\n",
              "  </thead>\n",
              "  <tbody>\n",
              "    <tr>\n",
              "      <th>0</th>\n",
              "      <td>0xd4f8e83864c80ea703dd148c78b937cbec200243</td>\n",
              "      <td>9</td>\n",
              "      <td>27000000000000000</td>\n",
              "      <td>97</td>\n",
              "      <td>19448289831436946</td>\n",
              "      <td>9.393942e+06</td>\n",
              "      <td>9.393942e+06</td>\n",
              "      <td>1.156452e+05</td>\n",
              "      <td>1.434797e+04</td>\n",
              "      <td>2</td>\n",
              "      <td>48.500000</td>\n",
              "      <td>9.000000</td>\n",
              "    </tr>\n",
              "    <tr>\n",
              "      <th>1</th>\n",
              "      <td>0xd9052a62ee61eec200c1972aa2a19fa3d5396b6d</td>\n",
              "      <td>14</td>\n",
              "      <td>10342497563429364</td>\n",
              "      <td>32</td>\n",
              "      <td>0</td>\n",
              "      <td>1.870353e+11</td>\n",
              "      <td>1.870353e+11</td>\n",
              "      <td>1.042143e+06</td>\n",
              "      <td>4.736983e+05</td>\n",
              "      <td>6</td>\n",
              "      <td>5.500000</td>\n",
              "      <td>2.500000</td>\n",
              "    </tr>\n",
              "    <tr>\n",
              "      <th>2</th>\n",
              "      <td>0xe6b4a32cc822980d652bb185b33db6be69d39a13</td>\n",
              "      <td>17</td>\n",
              "      <td>16776853680000000000</td>\n",
              "      <td>86</td>\n",
              "      <td>21009302000000000000</td>\n",
              "      <td>4.639691e+22</td>\n",
              "      <td>4.260856e+22</td>\n",
              "      <td>1.320557e+06</td>\n",
              "      <td>1.653896e+05</td>\n",
              "      <td>5</td>\n",
              "      <td>21.500000</td>\n",
              "      <td>3.400000</td>\n",
              "    </tr>\n",
              "    <tr>\n",
              "      <th>3</th>\n",
              "      <td>0x9f265a9675dea8f97139015f62c84af1f6d687ae</td>\n",
              "      <td>15</td>\n",
              "      <td>2100000000000000000</td>\n",
              "      <td>3</td>\n",
              "      <td>2099000000000000000</td>\n",
              "      <td>2.000000e+20</td>\n",
              "      <td>2.000000e+20</td>\n",
              "      <td>3.701651e+05</td>\n",
              "      <td>1.252319e+06</td>\n",
              "      <td>4</td>\n",
              "      <td>1.500000</td>\n",
              "      <td>5.000000</td>\n",
              "    </tr>\n",
              "    <tr>\n",
              "      <th>4</th>\n",
              "      <td>0xbad9298ef9a0c40ed1fb299a5e42269589aa15af</td>\n",
              "      <td>142</td>\n",
              "      <td>17850287239292549380</td>\n",
              "      <td>57</td>\n",
              "      <td>17813824239292549380</td>\n",
              "      <td>3.000000e+18</td>\n",
              "      <td>1.000000e+20</td>\n",
              "      <td>2.403451e+05</td>\n",
              "      <td>5.987940e+05</td>\n",
              "      <td>14</td>\n",
              "      <td>4.384615</td>\n",
              "      <td>10.923077</td>\n",
              "    </tr>\n",
              "  </tbody>\n",
              "</table>\n",
              "</div>"
            ],
            "text/plain": [
              "                                      address  ...  monthly_in_txn\n",
              "0  0xd4f8e83864c80ea703dd148c78b937cbec200243  ...        9.000000\n",
              "1  0xd9052a62ee61eec200c1972aa2a19fa3d5396b6d  ...        2.500000\n",
              "2  0xe6b4a32cc822980d652bb185b33db6be69d39a13  ...        3.400000\n",
              "3  0x9f265a9675dea8f97139015f62c84af1f6d687ae  ...        5.000000\n",
              "4  0xbad9298ef9a0c40ed1fb299a5e42269589aa15af  ...       10.923077\n",
              "\n",
              "[5 rows x 12 columns]"
            ]
          },
          "metadata": {
            "tags": []
          },
          "execution_count": 6
        }
      ]
    },
    {
      "cell_type": "code",
      "metadata": {
        "id": "B2M8dKoITOev",
        "colab_type": "code",
        "outputId": "1a5f693f-4b6c-4254-9084-8ccc8718f077",
        "colab": {
          "base_uri": "https://localhost:8080/",
          "height": 34
        }
      },
      "source": [
        "data = dbscan_data.iloc[:,1:]\n",
        "data.shape[1]"
      ],
      "execution_count": 7,
      "outputs": [
        {
          "output_type": "execute_result",
          "data": {
            "text/plain": [
              "11"
            ]
          },
          "metadata": {
            "tags": []
          },
          "execution_count": 7
        }
      ]
    },
    {
      "cell_type": "code",
      "metadata": {
        "id": "HWE4y4vBVUCQ",
        "colab_type": "code",
        "colab": {}
      },
      "source": [
        "\n",
        "#number of PCA features is full reconstruction, for now\n",
        "# num_features = data.shape[1]\n",
        "num_clusters = 4\n",
        "num_features = 11"
      ],
      "execution_count": 0,
      "outputs": []
    },
    {
      "cell_type": "code",
      "metadata": {
        "id": "RSeqcS9tVY8L",
        "colab_type": "code",
        "outputId": "24344020-e03e-418c-dd59-10cba357d173",
        "colab": {
          "base_uri": "https://localhost:8080/",
          "height": 85
        }
      },
      "source": [
        "log = FunctionTransformer(func=np.log1p, inverse_func=np.expm1)\n",
        "power_transform = PowerTransformer(standardize=False)\n",
        "scale = StandardScaler()\n",
        "pca =PCA(n_components=num_features)\n",
        "cl = KMeans(num_clusters)\n",
        "#build pipeline\n",
        "pipe = Pipeline([('log', power_transform ),\n",
        "                 ('scale', scale ),\n",
        "                 ('PCA', pca)])\n",
        "\n",
        "results = pipe.fit_transform(data)"
      ],
      "execution_count": 9,
      "outputs": [
        {
          "output_type": "stream",
          "text": [
            "/usr/local/lib/python3.6/dist-packages/numpy/core/_methods.py:195: RuntimeWarning: overflow encountered in multiply\n",
            "  x = um.multiply(x, x, out=x)\n",
            "/usr/local/lib/python3.6/dist-packages/numpy/core/_methods.py:199: RuntimeWarning: overflow encountered in reduce\n",
            "  ret = umr_sum(x, axis, dtype, out, keepdims)\n"
          ],
          "name": "stderr"
        }
      ]
    },
    {
      "cell_type": "code",
      "metadata": {
        "id": "WexCR6onVjaU",
        "colab_type": "code",
        "outputId": "cfc3da5b-d0e1-486a-c4ec-9a143bd37868",
        "colab": {
          "base_uri": "https://localhost:8080/",
          "height": 295
        }
      },
      "source": [
        "#percent of variance explained by each component\n",
        "\n",
        "plt.plot(np.arange(pca.n_components_) ,np.cumsum(pca.explained_variance_ratio_)*100)\n",
        "plt.grid(b=True)\n",
        "plt.xlabel('principal component')\n",
        "plt.title('Cumulative Percent of Variance explained')\n",
        "plt.show()"
      ],
      "execution_count": 10,
      "outputs": [
        {
          "output_type": "display_data",
          "data": {
            "image/png": "[encoded data removed]",
            "text/plain": [
              "<Figure size 432x288 with 1 Axes>"
            ]
          },
          "metadata": {
            "tags": []
          }
        }
      ]
    },
    {
      "cell_type": "code",
      "metadata": {
        "id": "BVhIeFQbVvgK",
        "colab_type": "code",
        "outputId": "f7055ee8-2444-4bf3-b974-b3b44da22d2e",
        "colab": {
          "base_uri": "https://localhost:8080/",
          "height": 590
        }
      },
      "source": [
        "#scoring metric?\n",
        "from sklearn.metrics import calinski_harabaz_score as ch_score\n",
        "clusters = [3,5,8,10,15,20,30,40]\n",
        "scores = []\n",
        "inertias = []\n",
        "for c in clusters:\n",
        "    cl_n = KMeans(c).fit(results)\n",
        "    score = ch_score(results, cl_n.labels_)\n",
        "    scores.append(score)\n",
        "    inertias.append(cl_n.inertia_)\n",
        "\n",
        "\n",
        "plt.plot(clusters, scores)\n",
        "plt.title('Calinski Harabaz Scores')"
      ],
      "execution_count": 11,
      "outputs": [
        {
          "output_type": "stream",
          "text": [
            "/usr/local/lib/python3.6/dist-packages/sklearn/utils/deprecation.py:87: FutureWarning: Function calinski_harabaz_score is deprecated; Function 'calinski_harabaz_score' has been renamed to 'calinski_harabasz_score' and will be removed in version 0.23.\n",
            "  warnings.warn(msg, category=FutureWarning)\n",
            "/usr/local/lib/python3.6/dist-packages/sklearn/utils/deprecation.py:87: FutureWarning: Function calinski_harabaz_score is deprecated; Function 'calinski_harabaz_score' has been renamed to 'calinski_harabasz_score' and will be removed in version 0.23.\n",
            "  warnings.warn(msg, category=FutureWarning)\n",
            "/usr/local/lib/python3.6/dist-packages/sklearn/utils/deprecation.py:87: FutureWarning: Function calinski_harabaz_score is deprecated; Function 'calinski_harabaz_score' has been renamed to 'calinski_harabasz_score' and will be removed in version 0.23.\n",
            "  warnings.warn(msg, category=FutureWarning)\n",
            "/usr/local/lib/python3.6/dist-packages/sklearn/utils/deprecation.py:87: FutureWarning: Function calinski_harabaz_score is deprecated; Function 'calinski_harabaz_score' has been renamed to 'calinski_harabasz_score' and will be removed in version 0.23.\n",
            "  warnings.warn(msg, category=FutureWarning)\n",
            "/usr/local/lib/python3.6/dist-packages/sklearn/utils/deprecation.py:87: FutureWarning: Function calinski_harabaz_score is deprecated; Function 'calinski_harabaz_score' has been renamed to 'calinski_harabasz_score' and will be removed in version 0.23.\n",
            "  warnings.warn(msg, category=FutureWarning)\n",
            "/usr/local/lib/python3.6/dist-packages/sklearn/utils/deprecation.py:87: FutureWarning: Function calinski_harabaz_score is deprecated; Function 'calinski_harabaz_score' has been renamed to 'calinski_harabasz_score' and will be removed in version 0.23.\n",
            "  warnings.warn(msg, category=FutureWarning)\n",
            "/usr/local/lib/python3.6/dist-packages/sklearn/utils/deprecation.py:87: FutureWarning: Function calinski_harabaz_score is deprecated; Function 'calinski_harabaz_score' has been renamed to 'calinski_harabasz_score' and will be removed in version 0.23.\n",
            "  warnings.warn(msg, category=FutureWarning)\n",
            "/usr/local/lib/python3.6/dist-packages/sklearn/utils/deprecation.py:87: FutureWarning: Function calinski_harabaz_score is deprecated; Function 'calinski_harabaz_score' has been renamed to 'calinski_harabasz_score' and will be removed in version 0.23.\n",
            "  warnings.warn(msg, category=FutureWarning)\n"
          ],
          "name": "stderr"
        },
        {
          "output_type": "execute_result",
          "data": {
            "text/plain": [
              "Text(0.5, 1.0, 'Calinski Harabaz Scores')"
            ]
          },
          "metadata": {
            "tags": []
          },
          "execution_count": 11
        },
        {
          "output_type": "display_data",
          "data": {
            "image/png": "[encoded data removed]",
            "text/plain": [
              "<Figure size 432x288 with 1 Axes>"
            ]
          },
          "metadata": {
            "tags": []
          }
        }
      ]
    },
    {
      "cell_type": "code",
      "metadata": {
        "id": "CmJNEl7MV1Vo",
        "colab_type": "code",
        "outputId": "584ee1e1-3b03-4aaa-d953-14946f737ee3",
        "colab": {
          "base_uri": "https://localhost:8080/",
          "height": 298
        }
      },
      "source": [
        "#elbow plot\n",
        "plt.plot(clusters,inertias)\n",
        "plt.title('Elbow plot')\n",
        "plt.ylabel('within cluster sum of squares')"
      ],
      "execution_count": 12,
      "outputs": [
        {
          "output_type": "execute_result",
          "data": {
            "text/plain": [
              "Text(0, 0.5, 'within cluster sum of squares')"
            ]
          },
          "metadata": {
            "tags": []
          },
          "execution_count": 12
        },
        {
          "output_type": "display_data",
          "data": {
            "image/png": "[encoded data removed]",
            "text/plain": [
              "<Figure size 432x288 with 1 Axes>"
            ]
          },
          "metadata": {
            "tags": []
          }
        }
      ]
    },
    {
      "cell_type": "code",
      "metadata": {
        "id": "pjYtPswgV5Kt",
        "colab_type": "code",
        "outputId": "c170e5b8-64ca-41ae-8889-f7fb72750d21",
        "colab": {
          "base_uri": "https://localhost:8080/",
          "height": 68
        }
      },
      "source": [
        "#optimal number of clusters is around 40\n",
        "cl = KMeans(12)\n",
        "cl.fit(results)"
      ],
      "execution_count": 13,
      "outputs": [
        {
          "output_type": "execute_result",
          "data": {
            "text/plain": [
              "KMeans(algorithm='auto', copy_x=True, init='k-means++', max_iter=300,\n",
              "       n_clusters=12, n_init=10, n_jobs=None, precompute_distances='auto',\n",
              "       random_state=None, tol=0.0001, verbose=0)"
            ]
          },
          "metadata": {
            "tags": []
          },
          "execution_count": 13
        }
      ]
    },
    {
      "cell_type": "code",
      "metadata": {
        "id": "XWgemmLWWVfg",
        "colab_type": "code",
        "colab": {}
      },
      "source": [
        "#outlier removal\n",
        "\n",
        "\n",
        "def remove_outliers(results, cl, threshold):\n",
        "    '''\n",
        "    returns subset of results, and associated labels as a tuple\n",
        "    takes results and a fit KMeans cluster object'''\n",
        "    \n",
        "    new_labels = []\n",
        "    new_results = []\n",
        "    \n",
        "    \n",
        "    #code for deciding what clusters to keep\n",
        "    for i, center in enumerate(cl.cluster_centers_):\n",
        "        within_cluster_results = results[cl.labels_==i]\n",
        "        centroid = cl.cluster_centers_[i]\n",
        "        #calc std vectors\n",
        "        stdev = np.std(within_cluster_results, axis=0)\n",
        "       \n",
        "        keep = np.linalg.norm((centroid - within_cluster_results), axis=1) < threshold*np.linalg.norm(stdev)\n",
        "        new_results.append(within_cluster_results[keep])\n",
        "        #add labels?\n",
        "        new_labels.extend([i for j in range(len(within_cluster_results[keep]))])\n",
        "    return np.vstack(new_results), np.array(new_labels)\n"
      ],
      "execution_count": 0,
      "outputs": []
    },
    {
      "cell_type": "code",
      "metadata": {
        "id": "jMek5kMpWZqR",
        "colab_type": "code",
        "outputId": "061e15e4-563f-4bdc-8be7-9aa5fd4fc801",
        "colab": {
          "base_uri": "https://localhost:8080/",
          "height": 717
        }
      },
      "source": [
        "thresholds = np.linspace(.3,3, 20)\n",
        "\n",
        "test = [remove_outliers(results, cl,t) for t in thresholds]\n",
        "\n",
        "scores= []\n",
        "for (res, labels) in test:\n",
        "    \n",
        "    score = ch_score(res, labels)\n",
        "    scores.append(score)"
      ],
      "execution_count": 15,
      "outputs": [
        {
          "output_type": "stream",
          "text": [
            "/usr/local/lib/python3.6/dist-packages/sklearn/utils/deprecation.py:87: FutureWarning: Function calinski_harabaz_score is deprecated; Function 'calinski_harabaz_score' has been renamed to 'calinski_harabasz_score' and will be removed in version 0.23.\n",
            "  warnings.warn(msg, category=FutureWarning)\n",
            "/usr/local/lib/python3.6/dist-packages/sklearn/utils/deprecation.py:87: FutureWarning: Function calinski_harabaz_score is deprecated; Function 'calinski_harabaz_score' has been renamed to 'calinski_harabasz_score' and will be removed in version 0.23.\n",
            "  warnings.warn(msg, category=FutureWarning)\n",
            "/usr/local/lib/python3.6/dist-packages/sklearn/utils/deprecation.py:87: FutureWarning: Function calinski_harabaz_score is deprecated; Function 'calinski_harabaz_score' has been renamed to 'calinski_harabasz_score' and will be removed in version 0.23.\n",
            "  warnings.warn(msg, category=FutureWarning)\n",
            "/usr/local/lib/python3.6/dist-packages/sklearn/utils/deprecation.py:87: FutureWarning: Function calinski_harabaz_score is deprecated; Function 'calinski_harabaz_score' has been renamed to 'calinski_harabasz_score' and will be removed in version 0.23.\n",
            "  warnings.warn(msg, category=FutureWarning)\n",
            "/usr/local/lib/python3.6/dist-packages/sklearn/utils/deprecation.py:87: FutureWarning: Function calinski_harabaz_score is deprecated; Function 'calinski_harabaz_score' has been renamed to 'calinski_harabasz_score' and will be removed in version 0.23.\n",
            "  warnings.warn(msg, category=FutureWarning)\n",
            "/usr/local/lib/python3.6/dist-packages/sklearn/utils/deprecation.py:87: FutureWarning: Function calinski_harabaz_score is deprecated; Function 'calinski_harabaz_score' has been renamed to 'calinski_harabasz_score' and will be removed in version 0.23.\n",
            "  warnings.warn(msg, category=FutureWarning)\n",
            "/usr/local/lib/python3.6/dist-packages/sklearn/utils/deprecation.py:87: FutureWarning: Function calinski_harabaz_score is deprecated; Function 'calinski_harabaz_score' has been renamed to 'calinski_harabasz_score' and will be removed in version 0.23.\n",
            "  warnings.warn(msg, category=FutureWarning)\n",
            "/usr/local/lib/python3.6/dist-packages/sklearn/utils/deprecation.py:87: FutureWarning: Function calinski_harabaz_score is deprecated; Function 'calinski_harabaz_score' has been renamed to 'calinski_harabasz_score' and will be removed in version 0.23.\n",
            "  warnings.warn(msg, category=FutureWarning)\n",
            "/usr/local/lib/python3.6/dist-packages/sklearn/utils/deprecation.py:87: FutureWarning: Function calinski_harabaz_score is deprecated; Function 'calinski_harabaz_score' has been renamed to 'calinski_harabasz_score' and will be removed in version 0.23.\n",
            "  warnings.warn(msg, category=FutureWarning)\n",
            "/usr/local/lib/python3.6/dist-packages/sklearn/utils/deprecation.py:87: FutureWarning: Function calinski_harabaz_score is deprecated; Function 'calinski_harabaz_score' has been renamed to 'calinski_harabasz_score' and will be removed in version 0.23.\n",
            "  warnings.warn(msg, category=FutureWarning)\n",
            "/usr/local/lib/python3.6/dist-packages/sklearn/utils/deprecation.py:87: FutureWarning: Function calinski_harabaz_score is deprecated; Function 'calinski_harabaz_score' has been renamed to 'calinski_harabasz_score' and will be removed in version 0.23.\n",
            "  warnings.warn(msg, category=FutureWarning)\n",
            "/usr/local/lib/python3.6/dist-packages/sklearn/utils/deprecation.py:87: FutureWarning: Function calinski_harabaz_score is deprecated; Function 'calinski_harabaz_score' has been renamed to 'calinski_harabasz_score' and will be removed in version 0.23.\n",
            "  warnings.warn(msg, category=FutureWarning)\n",
            "/usr/local/lib/python3.6/dist-packages/sklearn/utils/deprecation.py:87: FutureWarning: Function calinski_harabaz_score is deprecated; Function 'calinski_harabaz_score' has been renamed to 'calinski_harabasz_score' and will be removed in version 0.23.\n",
            "  warnings.warn(msg, category=FutureWarning)\n",
            "/usr/local/lib/python3.6/dist-packages/sklearn/utils/deprecation.py:87: FutureWarning: Function calinski_harabaz_score is deprecated; Function 'calinski_harabaz_score' has been renamed to 'calinski_harabasz_score' and will be removed in version 0.23.\n",
            "  warnings.warn(msg, category=FutureWarning)\n",
            "/usr/local/lib/python3.6/dist-packages/sklearn/utils/deprecation.py:87: FutureWarning: Function calinski_harabaz_score is deprecated; Function 'calinski_harabaz_score' has been renamed to 'calinski_harabasz_score' and will be removed in version 0.23.\n",
            "  warnings.warn(msg, category=FutureWarning)\n",
            "/usr/local/lib/python3.6/dist-packages/sklearn/utils/deprecation.py:87: FutureWarning: Function calinski_harabaz_score is deprecated; Function 'calinski_harabaz_score' has been renamed to 'calinski_harabasz_score' and will be removed in version 0.23.\n",
            "  warnings.warn(msg, category=FutureWarning)\n",
            "/usr/local/lib/python3.6/dist-packages/sklearn/utils/deprecation.py:87: FutureWarning: Function calinski_harabaz_score is deprecated; Function 'calinski_harabaz_score' has been renamed to 'calinski_harabasz_score' and will be removed in version 0.23.\n",
            "  warnings.warn(msg, category=FutureWarning)\n",
            "/usr/local/lib/python3.6/dist-packages/sklearn/utils/deprecation.py:87: FutureWarning: Function calinski_harabaz_score is deprecated; Function 'calinski_harabaz_score' has been renamed to 'calinski_harabasz_score' and will be removed in version 0.23.\n",
            "  warnings.warn(msg, category=FutureWarning)\n",
            "/usr/local/lib/python3.6/dist-packages/sklearn/utils/deprecation.py:87: FutureWarning: Function calinski_harabaz_score is deprecated; Function 'calinski_harabaz_score' has been renamed to 'calinski_harabasz_score' and will be removed in version 0.23.\n",
            "  warnings.warn(msg, category=FutureWarning)\n",
            "/usr/local/lib/python3.6/dist-packages/sklearn/utils/deprecation.py:87: FutureWarning: Function calinski_harabaz_score is deprecated; Function 'calinski_harabaz_score' has been renamed to 'calinski_harabasz_score' and will be removed in version 0.23.\n",
            "  warnings.warn(msg, category=FutureWarning)\n"
          ],
          "name": "stderr"
        }
      ]
    },
    {
      "cell_type": "code",
      "metadata": {
        "id": "iJvuTLyzWb2q",
        "colab_type": "code",
        "outputId": "8092c9e4-7fdc-4fd7-c57c-c99815f87b74",
        "colab": {
          "base_uri": "https://localhost:8080/",
          "height": 298
        }
      },
      "source": [
        "plt.plot(thresholds, scores)\n",
        "plt.title('Calinski Harabaz Scores as std threshold changes')"
      ],
      "execution_count": 16,
      "outputs": [
        {
          "output_type": "execute_result",
          "data": {
            "text/plain": [
              "Text(0.5, 1.0, 'Calinski Harabaz Scores as std threshold changes')"
            ]
          },
          "metadata": {
            "tags": []
          },
          "execution_count": 16
        },
        {
          "output_type": "display_data",
          "data": {
            "image/png": "[encoded data removed]",
            "text/plain": [
              "<Figure size 432x288 with 1 Axes>"
            ]
          },
          "metadata": {
            "tags": []
          }
        }
      ]
    },
    {
      "cell_type": "code",
      "metadata": {
        "id": "XBV_ei5WWdos",
        "colab_type": "code",
        "colab": {}
      },
      "source": [
        "#empirical best threshold 1 stdev\n",
        "newresults, labels = remove_outliers(results, cl,1)"
      ],
      "execution_count": 0,
      "outputs": []
    },
    {
      "cell_type": "code",
      "metadata": {
        "id": "PVgy8EBMWfVK",
        "colab_type": "code",
        "colab": {}
      },
      "source": [
        "# silhouette_plotter.py\n",
        "X=results\n",
        "range_n_clusters = [20]\n",
        "if len(newresults) <20000:\n",
        "    silhouette_plotter(X, range_n_clusters)"
      ],
      "execution_count": 0,
      "outputs": []
    },
    {
      "cell_type": "code",
      "metadata": {
        "id": "RwXtp-6EWiD0",
        "colab_type": "code",
        "colab": {}
      },
      "source": [
        "\n",
        "#subset results for tsne\n",
        "max_size = len(results)\n",
        "subset_results = []\n",
        "lbls = []\n",
        "for c in np.unique(cl.labels_):\n",
        "    mask = (cl.labels_==c)\n",
        "    c_size = np.sum(mask)\n",
        "    if c_size < max_size:\n",
        "        lbls.extend(list(cl.labels_[cl.labels_==c]))\n",
        "        subset_results.append(results[mask])\n",
        "lbls=np.array(lbls)\n",
        "subset_results=np.vstack(subset_results)"
      ],
      "execution_count": 0,
      "outputs": []
    },
    {
      "cell_type": "code",
      "metadata": {
        "id": "Q4agMNdcWlvN",
        "colab_type": "code",
        "outputId": "75942cbc-3bc2-4dc6-876c-02bfc183f5a2",
        "colab": {
          "base_uri": "https://localhost:8080/",
          "height": 1000
        }
      },
      "source": [
        "import time\n",
        "from sklearn.manifold import TSNE\n",
        "\n",
        "time_start = time.time()\n",
        "tsne = TSNE(n_components=2, verbose=1, perplexity=40, n_iter=1000)\n",
        "tsne_results = tsne.fit_transform(subset_results)\n",
        "\n",
        "print('t-SNE done! Time elapsed: {} seconds'.format(time.time()-time_start))"
      ],
      "execution_count": 0,
      "outputs": [
        {
          "output_type": "stream",
          "text": [
            "[t-SNE] Computing 121 nearest neighbors...\n",
            "[t-SNE] Indexed 776499 samples in 2.001s...\n",
            "[t-SNE] Computed neighbors for 776499 samples in 135.003s...\n",
            "[t-SNE] Computed conditional probabilities for sample 1000 / 776499\n",
            "[t-SNE] Computed conditional probabilities for sample 2000 / 776499\n",
            "[t-SNE] Computed conditional probabilities for sample 3000 / 776499\n",
            "[t-SNE] Computed conditional probabilities for sample 4000 / 776499\n",
            "[t-SNE] Computed conditional probabilities for sample 5000 / 776499\n",
            "[t-SNE] Computed conditional probabilities for sample 6000 / 776499\n",
            "[t-SNE] Computed conditional probabilities for sample 7000 / 776499\n",
            "[t-SNE] Computed conditional probabilities for sample 8000 / 776499\n",
            "[t-SNE] Computed conditional probabilities for sample 9000 / 776499\n",
            "[t-SNE] Computed conditional probabilities for sample 10000 / 776499\n",
            "[t-SNE] Computed conditional probabilities for sample 11000 / 776499\n",
            "[t-SNE] Computed conditional probabilities for sample 12000 / 776499\n",
            "[t-SNE] Computed conditional probabilities for sample 13000 / 776499\n",
            "[t-SNE] Computed conditional probabilities for sample 14000 / 776499\n",
            "[t-SNE] Computed conditional probabilities for sample 15000 / 776499\n",
            "[t-SNE] Computed conditional probabilities for sample 16000 / 776499\n",
            "[t-SNE] Computed conditional probabilities for sample 17000 / 776499\n",
            "[t-SNE] Computed conditional probabilities for sample 18000 / 776499\n",
            "[t-SNE] Computed conditional probabilities for sample 19000 / 776499\n",
            "[t-SNE] Computed conditional probabilities for sample 20000 / 776499\n",
            "[t-SNE] Computed conditional probabilities for sample 21000 / 776499\n",
            "[t-SNE] Computed conditional probabilities for sample 22000 / 776499\n",
            "[t-SNE] Computed conditional probabilities for sample 23000 / 776499\n",
            "[t-SNE] Computed conditional probabilities for sample 24000 / 776499\n",
            "[t-SNE] Computed conditional probabilities for sample 25000 / 776499\n",
            "[t-SNE] Computed conditional probabilities for sample 26000 / 776499\n",
            "[t-SNE] Computed conditional probabilities for sample 27000 / 776499\n",
            "[t-SNE] Computed conditional probabilities for sample 28000 / 776499\n",
            "[t-SNE] Computed conditional probabilities for sample 29000 / 776499\n",
            "[t-SNE] Computed conditional probabilities for sample 30000 / 776499\n",
            "[t-SNE] Computed conditional probabilities for sample 31000 / 776499\n",
            "[t-SNE] Computed conditional probabilities for sample 32000 / 776499\n",
            "[t-SNE] Computed conditional probabilities for sample 33000 / 776499\n",
            "[t-SNE] Computed conditional probabilities for sample 34000 / 776499\n",
            "[t-SNE] Computed conditional probabilities for sample 35000 / 776499\n",
            "[t-SNE] Computed conditional probabilities for sample 36000 / 776499\n",
            "[t-SNE] Computed conditional probabilities for sample 37000 / 776499\n",
            "[t-SNE] Computed conditional probabilities for sample 38000 / 776499\n",
            "[t-SNE] Computed conditional probabilities for sample 39000 / 776499\n",
            "[t-SNE] Computed conditional probabilities for sample 40000 / 776499\n",
            "[t-SNE] Computed conditional probabilities for sample 41000 / 776499\n",
            "[t-SNE] Computed conditional probabilities for sample 42000 / 776499\n",
            "[t-SNE] Computed conditional probabilities for sample 43000 / 776499\n",
            "[t-SNE] Computed conditional probabilities for sample 44000 / 776499\n",
            "[t-SNE] Computed conditional probabilities for sample 45000 / 776499\n",
            "[t-SNE] Computed conditional probabilities for sample 46000 / 776499\n",
            "[t-SNE] Computed conditional probabilities for sample 47000 / 776499\n",
            "[t-SNE] Computed conditional probabilities for sample 48000 / 776499\n",
            "[t-SNE] Computed conditional probabilities for sample 49000 / 776499\n",
            "[t-SNE] Computed conditional probabilities for sample 50000 / 776499\n",
            "[t-SNE] Computed conditional probabilities for sample 51000 / 776499\n",
            "[t-SNE] Computed conditional probabilities for sample 52000 / 776499\n",
            "[t-SNE] Computed conditional probabilities for sample 53000 / 776499\n",
            "[t-SNE] Computed conditional probabilities for sample 54000 / 776499\n",
            "[t-SNE] Computed conditional probabilities for sample 55000 / 776499\n",
            "[t-SNE] Computed conditional probabilities for sample 56000 / 776499\n",
            "[t-SNE] Computed conditional probabilities for sample 57000 / 776499\n",
            "[t-SNE] Computed conditional probabilities for sample 58000 / 776499\n",
            "[t-SNE] Computed conditional probabilities for sample 59000 / 776499\n",
            "[t-SNE] Computed conditional probabilities for sample 60000 / 776499\n",
            "[t-SNE] Computed conditional probabilities for sample 61000 / 776499\n",
            "[t-SNE] Computed conditional probabilities for sample 62000 / 776499\n",
            "[t-SNE] Computed conditional probabilities for sample 63000 / 776499\n",
            "[t-SNE] Computed conditional probabilities for sample 64000 / 776499\n",
            "[t-SNE] Computed conditional probabilities for sample 65000 / 776499\n",
            "[t-SNE] Computed conditional probabilities for sample 66000 / 776499\n",
            "[t-SNE] Computed conditional probabilities for sample 67000 / 776499\n",
            "[t-SNE] Computed conditional probabilities for sample 68000 / 776499\n",
            "[t-SNE] Computed conditional probabilities for sample 69000 / 776499\n",
            "[t-SNE] Computed conditional probabilities for sample 70000 / 776499\n",
            "[t-SNE] Computed conditional probabilities for sample 71000 / 776499\n",
            "[t-SNE] Computed conditional probabilities for sample 72000 / 776499\n",
            "[t-SNE] Computed conditional probabilities for sample 73000 / 776499\n",
            "[t-SNE] Computed conditional probabilities for sample 74000 / 776499\n",
            "[t-SNE] Computed conditional probabilities for sample 75000 / 776499\n",
            "[t-SNE] Computed conditional probabilities for sample 76000 / 776499\n",
            "[t-SNE] Computed conditional probabilities for sample 77000 / 776499\n",
            "[t-SNE] Computed conditional probabilities for sample 78000 / 776499\n",
            "[t-SNE] Computed conditional probabilities for sample 79000 / 776499\n",
            "[t-SNE] Computed conditional probabilities for sample 80000 / 776499\n",
            "[t-SNE] Computed conditional probabilities for sample 81000 / 776499\n",
            "[t-SNE] Computed conditional probabilities for sample 82000 / 776499\n",
            "[t-SNE] Computed conditional probabilities for sample 83000 / 776499\n",
            "[t-SNE] Computed conditional probabilities for sample 84000 / 776499\n",
            "[t-SNE] Computed conditional probabilities for sample 85000 / 776499\n",
            "[t-SNE] Computed conditional probabilities for sample 86000 / 776499\n",
            "[t-SNE] Computed conditional probabilities for sample 87000 / 776499\n",
            "[t-SNE] Computed conditional probabilities for sample 88000 / 776499\n",
            "[t-SNE] Computed conditional probabilities for sample 89000 / 776499\n",
            "[t-SNE] Computed conditional probabilities for sample 90000 / 776499\n",
            "[t-SNE] Computed conditional probabilities for sample 91000 / 776499\n",
            "[t-SNE] Computed conditional probabilities for sample 92000 / 776499\n",
            "[t-SNE] Computed conditional probabilities for sample 93000 / 776499\n",
            "[t-SNE] Computed conditional probabilities for sample 94000 / 776499\n",
            "[t-SNE] Computed conditional probabilities for sample 95000 / 776499\n",
            "[t-SNE] Computed conditional probabilities for sample 96000 / 776499\n",
            "[t-SNE] Computed conditional probabilities for sample 97000 / 776499\n",
            "[t-SNE] Computed conditional probabilities for sample 98000 / 776499\n",
            "[t-SNE] Computed conditional probabilities for sample 99000 / 776499\n",
            "[t-SNE] Computed conditional probabilities for sample 100000 / 776499\n",
            "[t-SNE] Computed conditional probabilities for sample 101000 / 776499\n",
            "[t-SNE] Computed conditional probabilities for sample 102000 / 776499\n",
            "[t-SNE] Computed conditional probabilities for sample 103000 / 776499\n",
            "[t-SNE] Computed conditional probabilities for sample 104000 / 776499\n",
            "[t-SNE] Computed conditional probabilities for sample 105000 / 776499\n",
            "[t-SNE] Computed conditional probabilities for sample 106000 / 776499\n",
            "[t-SNE] Computed conditional probabilities for sample 107000 / 776499\n",
            "[t-SNE] Computed conditional probabilities for sample 108000 / 776499\n",
            "[t-SNE] Computed conditional probabilities for sample 109000 / 776499\n",
            "[t-SNE] Computed conditional probabilities for sample 110000 / 776499\n",
            "[t-SNE] Computed conditional probabilities for sample 111000 / 776499\n",
            "[t-SNE] Computed conditional probabilities for sample 112000 / 776499\n",
            "[t-SNE] Computed conditional probabilities for sample 113000 / 776499\n",
            "[t-SNE] Computed conditional probabilities for sample 114000 / 776499\n",
            "[t-SNE] Computed conditional probabilities for sample 115000 / 776499\n",
            "[t-SNE] Computed conditional probabilities for sample 116000 / 776499\n",
            "[t-SNE] Computed conditional probabilities for sample 117000 / 776499\n",
            "[t-SNE] Computed conditional probabilities for sample 118000 / 776499\n",
            "[t-SNE] Computed conditional probabilities for sample 119000 / 776499\n",
            "[t-SNE] Computed conditional probabilities for sample 120000 / 776499\n",
            "[t-SNE] Computed conditional probabilities for sample 121000 / 776499\n",
            "[t-SNE] Computed conditional probabilities for sample 122000 / 776499\n",
            "[t-SNE] Computed conditional probabilities for sample 123000 / 776499\n",
            "[t-SNE] Computed conditional probabilities for sample 124000 / 776499\n",
            "[t-SNE] Computed conditional probabilities for sample 125000 / 776499\n",
            "[t-SNE] Computed conditional probabilities for sample 126000 / 776499\n",
            "[t-SNE] Computed conditional probabilities for sample 127000 / 776499\n",
            "[t-SNE] Computed conditional probabilities for sample 128000 / 776499\n",
            "[t-SNE] Computed conditional probabilities for sample 129000 / 776499\n",
            "[t-SNE] Computed conditional probabilities for sample 130000 / 776499\n",
            "[t-SNE] Computed conditional probabilities for sample 131000 / 776499\n",
            "[t-SNE] Computed conditional probabilities for sample 132000 / 776499\n",
            "[t-SNE] Computed conditional probabilities for sample 133000 / 776499\n",
            "[t-SNE] Computed conditional probabilities for sample 134000 / 776499\n",
            "[t-SNE] Computed conditional probabilities for sample 135000 / 776499\n",
            "[t-SNE] Computed conditional probabilities for sample 136000 / 776499\n",
            "[t-SNE] Computed conditional probabilities for sample 137000 / 776499\n",
            "[t-SNE] Computed conditional probabilities for sample 138000 / 776499\n",
            "[t-SNE] Computed conditional probabilities for sample 139000 / 776499\n",
            "[t-SNE] Computed conditional probabilities for sample 140000 / 776499\n",
            "[t-SNE] Computed conditional probabilities for sample 141000 / 776499\n",
            "[t-SNE] Computed conditional probabilities for sample 142000 / 776499\n",
            "[t-SNE] Computed conditional probabilities for sample 143000 / 776499\n",
            "[t-SNE] Computed conditional probabilities for sample 144000 / 776499\n",
            "[t-SNE] Computed conditional probabilities for sample 145000 / 776499\n",
            "[t-SNE] Computed conditional probabilities for sample 146000 / 776499\n",
            "[t-SNE] Computed conditional probabilities for sample 147000 / 776499\n",
            "[t-SNE] Computed conditional probabilities for sample 148000 / 776499\n",
            "[t-SNE] Computed conditional probabilities for sample 149000 / 776499\n",
            "[t-SNE] Computed conditional probabilities for sample 150000 / 776499\n",
            "[t-SNE] Computed conditional probabilities for sample 151000 / 776499\n",
            "[t-SNE] Computed conditional probabilities for sample 152000 / 776499\n",
            "[t-SNE] Computed conditional probabilities for sample 153000 / 776499\n",
            "[t-SNE] Computed conditional probabilities for sample 154000 / 776499\n",
            "[t-SNE] Computed conditional probabilities for sample 155000 / 776499\n",
            "[t-SNE] Computed conditional probabilities for sample 156000 / 776499\n",
            "[t-SNE] Computed conditional probabilities for sample 157000 / 776499\n",
            "[t-SNE] Computed conditional probabilities for sample 158000 / 776499\n",
            "[t-SNE] Computed conditional probabilities for sample 159000 / 776499\n",
            "[t-SNE] Computed conditional probabilities for sample 160000 / 776499\n",
            "[t-SNE] Computed conditional probabilities for sample 161000 / 776499\n",
            "[t-SNE] Computed conditional probabilities for sample 162000 / 776499\n",
            "[t-SNE] Computed conditional probabilities for sample 163000 / 776499\n",
            "[t-SNE] Computed conditional probabilities for sample 164000 / 776499\n",
            "[t-SNE] Computed conditional probabilities for sample 165000 / 776499\n",
            "[t-SNE] Computed conditional probabilities for sample 166000 / 776499\n",
            "[t-SNE] Computed conditional probabilities for sample 167000 / 776499\n",
            "[t-SNE] Computed conditional probabilities for sample 168000 / 776499\n",
            "[t-SNE] Computed conditional probabilities for sample 169000 / 776499\n",
            "[t-SNE] Computed conditional probabilities for sample 170000 / 776499\n",
            "[t-SNE] Computed conditional probabilities for sample 171000 / 776499\n",
            "[t-SNE] Computed conditional probabilities for sample 172000 / 776499\n",
            "[t-SNE] Computed conditional probabilities for sample 173000 / 776499\n",
            "[t-SNE] Computed conditional probabilities for sample 174000 / 776499\n",
            "[t-SNE] Computed conditional probabilities for sample 175000 / 776499\n",
            "[t-SNE] Computed conditional probabilities for sample 176000 / 776499\n",
            "[t-SNE] Computed conditional probabilities for sample 177000 / 776499\n",
            "[t-SNE] Computed conditional probabilities for sample 178000 / 776499\n",
            "[t-SNE] Computed conditional probabilities for sample 179000 / 776499\n",
            "[t-SNE] Computed conditional probabilities for sample 180000 / 776499\n",
            "[t-SNE] Computed conditional probabilities for sample 181000 / 776499\n",
            "[t-SNE] Computed conditional probabilities for sample 182000 / 776499\n",
            "[t-SNE] Computed conditional probabilities for sample 183000 / 776499\n",
            "[t-SNE] Computed conditional probabilities for sample 184000 / 776499\n",
            "[t-SNE] Computed conditional probabilities for sample 185000 / 776499\n",
            "[t-SNE] Computed conditional probabilities for sample 186000 / 776499\n",
            "[t-SNE] Computed conditional probabilities for sample 187000 / 776499\n",
            "[t-SNE] Computed conditional probabilities for sample 188000 / 776499\n",
            "[t-SNE] Computed conditional probabilities for sample 189000 / 776499\n",
            "[t-SNE] Computed conditional probabilities for sample 190000 / 776499\n",
            "[t-SNE] Computed conditional probabilities for sample 191000 / 776499\n",
            "[t-SNE] Computed conditional probabilities for sample 192000 / 776499\n",
            "[t-SNE] Computed conditional probabilities for sample 193000 / 776499\n",
            "[t-SNE] Computed conditional probabilities for sample 194000 / 776499\n",
            "[t-SNE] Computed conditional probabilities for sample 195000 / 776499\n",
            "[t-SNE] Computed conditional probabilities for sample 196000 / 776499\n",
            "[t-SNE] Computed conditional probabilities for sample 197000 / 776499\n",
            "[t-SNE] Computed conditional probabilities for sample 198000 / 776499\n",
            "[t-SNE] Computed conditional probabilities for sample 199000 / 776499\n",
            "[t-SNE] Computed conditional probabilities for sample 200000 / 776499\n",
            "[t-SNE] Computed conditional probabilities for sample 201000 / 776499\n",
            "[t-SNE] Computed conditional probabilities for sample 202000 / 776499\n",
            "[t-SNE] Computed conditional probabilities for sample 203000 / 776499\n",
            "[t-SNE] Computed conditional probabilities for sample 204000 / 776499\n",
            "[t-SNE] Computed conditional probabilities for sample 205000 / 776499\n",
            "[t-SNE] Computed conditional probabilities for sample 206000 / 776499\n",
            "[t-SNE] Computed conditional probabilities for sample 207000 / 776499\n",
            "[t-SNE] Computed conditional probabilities for sample 208000 / 776499\n",
            "[t-SNE] Computed conditional probabilities for sample 209000 / 776499\n",
            "[t-SNE] Computed conditional probabilities for sample 210000 / 776499\n",
            "[t-SNE] Computed conditional probabilities for sample 211000 / 776499\n",
            "[t-SNE] Computed conditional probabilities for sample 212000 / 776499\n",
            "[t-SNE] Computed conditional probabilities for sample 213000 / 776499\n",
            "[t-SNE] Computed conditional probabilities for sample 214000 / 776499\n",
            "[t-SNE] Computed conditional probabilities for sample 215000 / 776499\n",
            "[t-SNE] Computed conditional probabilities for sample 216000 / 776499\n",
            "[t-SNE] Computed conditional probabilities for sample 217000 / 776499\n",
            "[t-SNE] Computed conditional probabilities for sample 218000 / 776499\n",
            "[t-SNE] Computed conditional probabilities for sample 219000 / 776499\n",
            "[t-SNE] Computed conditional probabilities for sample 220000 / 776499\n",
            "[t-SNE] Computed conditional probabilities for sample 221000 / 776499\n",
            "[t-SNE] Computed conditional probabilities for sample 222000 / 776499\n",
            "[t-SNE] Computed conditional probabilities for sample 223000 / 776499\n",
            "[t-SNE] Computed conditional probabilities for sample 224000 / 776499\n",
            "[t-SNE] Computed conditional probabilities for sample 225000 / 776499\n",
            "[t-SNE] Computed conditional probabilities for sample 226000 / 776499\n",
            "[t-SNE] Computed conditional probabilities for sample 227000 / 776499\n",
            "[t-SNE] Computed conditional probabilities for sample 228000 / 776499\n",
            "[t-SNE] Computed conditional probabilities for sample 229000 / 776499\n",
            "[t-SNE] Computed conditional probabilities for sample 230000 / 776499\n",
            "[t-SNE] Computed conditional probabilities for sample 231000 / 776499\n",
            "[t-SNE] Computed conditional probabilities for sample 232000 / 776499\n",
            "[t-SNE] Computed conditional probabilities for sample 233000 / 776499\n",
            "[t-SNE] Computed conditional probabilities for sample 234000 / 776499\n",
            "[t-SNE] Computed conditional probabilities for sample 235000 / 776499\n",
            "[t-SNE] Computed conditional probabilities for sample 236000 / 776499\n",
            "[t-SNE] Computed conditional probabilities for sample 237000 / 776499\n",
            "[t-SNE] Computed conditional probabilities for sample 238000 / 776499\n",
            "[t-SNE] Computed conditional probabilities for sample 239000 / 776499\n",
            "[t-SNE] Computed conditional probabilities for sample 240000 / 776499\n",
            "[t-SNE] Computed conditional probabilities for sample 241000 / 776499\n",
            "[t-SNE] Computed conditional probabilities for sample 242000 / 776499\n",
            "[t-SNE] Computed conditional probabilities for sample 243000 / 776499\n",
            "[t-SNE] Computed conditional probabilities for sample 244000 / 776499\n",
            "[t-SNE] Computed conditional probabilities for sample 245000 / 776499\n",
            "[t-SNE] Computed conditional probabilities for sample 246000 / 776499\n",
            "[t-SNE] Computed conditional probabilities for sample 247000 / 776499\n",
            "[t-SNE] Computed conditional probabilities for sample 248000 / 776499\n",
            "[t-SNE] Computed conditional probabilities for sample 249000 / 776499\n",
            "[t-SNE] Computed conditional probabilities for sample 250000 / 776499\n",
            "[t-SNE] Computed conditional probabilities for sample 251000 / 776499\n",
            "[t-SNE] Computed conditional probabilities for sample 252000 / 776499\n",
            "[t-SNE] Computed conditional probabilities for sample 253000 / 776499\n",
            "[t-SNE] Computed conditional probabilities for sample 254000 / 776499\n",
            "[t-SNE] Computed conditional probabilities for sample 255000 / 776499\n",
            "[t-SNE] Computed conditional probabilities for sample 256000 / 776499\n",
            "[t-SNE] Computed conditional probabilities for sample 257000 / 776499\n",
            "[t-SNE] Computed conditional probabilities for sample 258000 / 776499\n",
            "[t-SNE] Computed conditional probabilities for sample 259000 / 776499\n",
            "[t-SNE] Computed conditional probabilities for sample 260000 / 776499\n",
            "[t-SNE] Computed conditional probabilities for sample 261000 / 776499\n",
            "[t-SNE] Computed conditional probabilities for sample 262000 / 776499\n",
            "[t-SNE] Computed conditional probabilities for sample 263000 / 776499\n",
            "[t-SNE] Computed conditional probabilities for sample 264000 / 776499\n",
            "[t-SNE] Computed conditional probabilities for sample 265000 / 776499\n",
            "[t-SNE] Computed conditional probabilities for sample 266000 / 776499\n",
            "[t-SNE] Computed conditional probabilities for sample 267000 / 776499\n",
            "[t-SNE] Computed conditional probabilities for sample 268000 / 776499\n",
            "[t-SNE] Computed conditional probabilities for sample 269000 / 776499\n",
            "[t-SNE] Computed conditional probabilities for sample 270000 / 776499\n",
            "[t-SNE] Computed conditional probabilities for sample 271000 / 776499\n",
            "[t-SNE] Computed conditional probabilities for sample 272000 / 776499\n",
            "[t-SNE] Computed conditional probabilities for sample 273000 / 776499\n",
            "[t-SNE] Computed conditional probabilities for sample 274000 / 776499\n",
            "[t-SNE] Computed conditional probabilities for sample 275000 / 776499\n",
            "[t-SNE] Computed conditional probabilities for sample 276000 / 776499\n",
            "[t-SNE] Computed conditional probabilities for sample 277000 / 776499\n",
            "[t-SNE] Computed conditional probabilities for sample 278000 / 776499\n",
            "[t-SNE] Computed conditional probabilities for sample 279000 / 776499\n",
            "[t-SNE] Computed conditional probabilities for sample 280000 / 776499\n",
            "[t-SNE] Computed conditional probabilities for sample 281000 / 776499\n",
            "[t-SNE] Computed conditional probabilities for sample 282000 / 776499\n",
            "[t-SNE] Computed conditional probabilities for sample 283000 / 776499\n",
            "[t-SNE] Computed conditional probabilities for sample 284000 / 776499\n",
            "[t-SNE] Computed conditional probabilities for sample 285000 / 776499\n",
            "[t-SNE] Computed conditional probabilities for sample 286000 / 776499\n",
            "[t-SNE] Computed conditional probabilities for sample 287000 / 776499\n",
            "[t-SNE] Computed conditional probabilities for sample 288000 / 776499\n",
            "[t-SNE] Computed conditional probabilities for sample 289000 / 776499\n",
            "[t-SNE] Computed conditional probabilities for sample 290000 / 776499\n",
            "[t-SNE] Computed conditional probabilities for sample 291000 / 776499\n",
            "[t-SNE] Computed conditional probabilities for sample 292000 / 776499\n",
            "[t-SNE] Computed conditional probabilities for sample 293000 / 776499\n",
            "[t-SNE] Computed conditional probabilities for sample 294000 / 776499\n",
            "[t-SNE] Computed conditional probabilities for sample 295000 / 776499\n",
            "[t-SNE] Computed conditional probabilities for sample 296000 / 776499\n",
            "[t-SNE] Computed conditional probabilities for sample 297000 / 776499\n",
            "[t-SNE] Computed conditional probabilities for sample 298000 / 776499\n",
            "[t-SNE] Computed conditional probabilities for sample 299000 / 776499\n",
            "[t-SNE] Computed conditional probabilities for sample 300000 / 776499\n",
            "[t-SNE] Computed conditional probabilities for sample 301000 / 776499\n",
            "[t-SNE] Computed conditional probabilities for sample 302000 / 776499\n",
            "[t-SNE] Computed conditional probabilities for sample 303000 / 776499\n",
            "[t-SNE] Computed conditional probabilities for sample 304000 / 776499\n",
            "[t-SNE] Computed conditional probabilities for sample 305000 / 776499\n",
            "[t-SNE] Computed conditional probabilities for sample 306000 / 776499\n",
            "[t-SNE] Computed conditional probabilities for sample 307000 / 776499\n",
            "[t-SNE] Computed conditional probabilities for sample 308000 / 776499\n",
            "[t-SNE] Computed conditional probabilities for sample 309000 / 776499\n",
            "[t-SNE] Computed conditional probabilities for sample 310000 / 776499\n",
            "[t-SNE] Computed conditional probabilities for sample 311000 / 776499\n",
            "[t-SNE] Computed conditional probabilities for sample 312000 / 776499\n",
            "[t-SNE] Computed conditional probabilities for sample 313000 / 776499\n",
            "[t-SNE] Computed conditional probabilities for sample 314000 / 776499\n",
            "[t-SNE] Computed conditional probabilities for sample 315000 / 776499\n",
            "[t-SNE] Computed conditional probabilities for sample 316000 / 776499\n",
            "[t-SNE] Computed conditional probabilities for sample 317000 / 776499\n",
            "[t-SNE] Computed conditional probabilities for sample 318000 / 776499\n",
            "[t-SNE] Computed conditional probabilities for sample 319000 / 776499\n",
            "[t-SNE] Computed conditional probabilities for sample 320000 / 776499\n",
            "[t-SNE] Computed conditional probabilities for sample 321000 / 776499\n",
            "[t-SNE] Computed conditional probabilities for sample 322000 / 776499\n",
            "[t-SNE] Computed conditional probabilities for sample 323000 / 776499\n",
            "[t-SNE] Computed conditional probabilities for sample 324000 / 776499\n",
            "[t-SNE] Computed conditional probabilities for sample 325000 / 776499\n",
            "[t-SNE] Computed conditional probabilities for sample 326000 / 776499\n",
            "[t-SNE] Computed conditional probabilities for sample 327000 / 776499\n",
            "[t-SNE] Computed conditional probabilities for sample 328000 / 776499\n",
            "[t-SNE] Computed conditional probabilities for sample 329000 / 776499\n",
            "[t-SNE] Computed conditional probabilities for sample 330000 / 776499\n",
            "[t-SNE] Computed conditional probabilities for sample 331000 / 776499\n",
            "[t-SNE] Computed conditional probabilities for sample 332000 / 776499\n",
            "[t-SNE] Computed conditional probabilities for sample 333000 / 776499\n",
            "[t-SNE] Computed conditional probabilities for sample 334000 / 776499\n",
            "[t-SNE] Computed conditional probabilities for sample 335000 / 776499\n",
            "[t-SNE] Computed conditional probabilities for sample 336000 / 776499\n",
            "[t-SNE] Computed conditional probabilities for sample 337000 / 776499\n",
            "[t-SNE] Computed conditional probabilities for sample 338000 / 776499\n",
            "[t-SNE] Computed conditional probabilities for sample 339000 / 776499\n",
            "[t-SNE] Computed conditional probabilities for sample 340000 / 776499\n",
            "[t-SNE] Computed conditional probabilities for sample 341000 / 776499\n",
            "[t-SNE] Computed conditional probabilities for sample 342000 / 776499\n",
            "[t-SNE] Computed conditional probabilities for sample 343000 / 776499\n",
            "[t-SNE] Computed conditional probabilities for sample 344000 / 776499\n",
            "[t-SNE] Computed conditional probabilities for sample 345000 / 776499\n",
            "[t-SNE] Computed conditional probabilities for sample 346000 / 776499\n",
            "[t-SNE] Computed conditional probabilities for sample 347000 / 776499\n",
            "[t-SNE] Computed conditional probabilities for sample 348000 / 776499\n",
            "[t-SNE] Computed conditional probabilities for sample 349000 / 776499\n",
            "[t-SNE] Computed conditional probabilities for sample 350000 / 776499\n",
            "[t-SNE] Computed conditional probabilities for sample 351000 / 776499\n",
            "[t-SNE] Computed conditional probabilities for sample 352000 / 776499\n",
            "[t-SNE] Computed conditional probabilities for sample 353000 / 776499\n",
            "[t-SNE] Computed conditional probabilities for sample 354000 / 776499\n",
            "[t-SNE] Computed conditional probabilities for sample 355000 / 776499\n",
            "[t-SNE] Computed conditional probabilities for sample 356000 / 776499\n",
            "[t-SNE] Computed conditional probabilities for sample 357000 / 776499\n",
            "[t-SNE] Computed conditional probabilities for sample 358000 / 776499\n",
            "[t-SNE] Computed conditional probabilities for sample 359000 / 776499\n",
            "[t-SNE] Computed conditional probabilities for sample 360000 / 776499\n",
            "[t-SNE] Computed conditional probabilities for sample 361000 / 776499\n",
            "[t-SNE] Computed conditional probabilities for sample 362000 / 776499\n",
            "[t-SNE] Computed conditional probabilities for sample 363000 / 776499\n",
            "[t-SNE] Computed conditional probabilities for sample 364000 / 776499\n",
            "[t-SNE] Computed conditional probabilities for sample 365000 / 776499\n",
            "[t-SNE] Computed conditional probabilities for sample 366000 / 776499\n",
            "[t-SNE] Computed conditional probabilities for sample 367000 / 776499\n",
            "[t-SNE] Computed conditional probabilities for sample 368000 / 776499\n",
            "[t-SNE] Computed conditional probabilities for sample 369000 / 776499\n",
            "[t-SNE] Computed conditional probabilities for sample 370000 / 776499\n",
            "[t-SNE] Computed conditional probabilities for sample 371000 / 776499\n",
            "[t-SNE] Computed conditional probabilities for sample 372000 / 776499\n",
            "[t-SNE] Computed conditional probabilities for sample 373000 / 776499\n",
            "[t-SNE] Computed conditional probabilities for sample 374000 / 776499\n",
            "[t-SNE] Computed conditional probabilities for sample 375000 / 776499\n",
            "[t-SNE] Computed conditional probabilities for sample 376000 / 776499\n",
            "[t-SNE] Computed conditional probabilities for sample 377000 / 776499\n",
            "[t-SNE] Computed conditional probabilities for sample 378000 / 776499\n",
            "[t-SNE] Computed conditional probabilities for sample 379000 / 776499\n",
            "[t-SNE] Computed conditional probabilities for sample 380000 / 776499\n",
            "[t-SNE] Computed conditional probabilities for sample 381000 / 776499\n",
            "[t-SNE] Computed conditional probabilities for sample 382000 / 776499\n",
            "[t-SNE] Computed conditional probabilities for sample 383000 / 776499\n",
            "[t-SNE] Computed conditional probabilities for sample 384000 / 776499\n",
            "[t-SNE] Computed conditional probabilities for sample 385000 / 776499\n",
            "[t-SNE] Computed conditional probabilities for sample 386000 / 776499\n",
            "[t-SNE] Computed conditional probabilities for sample 387000 / 776499\n",
            "[t-SNE] Computed conditional probabilities for sample 388000 / 776499\n",
            "[t-SNE] Computed conditional probabilities for sample 389000 / 776499\n",
            "[t-SNE] Computed conditional probabilities for sample 390000 / 776499\n",
            "[t-SNE] Computed conditional probabilities for sample 391000 / 776499\n",
            "[t-SNE] Computed conditional probabilities for sample 392000 / 776499\n",
            "[t-SNE] Computed conditional probabilities for sample 393000 / 776499\n",
            "[t-SNE] Computed conditional probabilities for sample 394000 / 776499\n",
            "[t-SNE] Computed conditional probabilities for sample 395000 / 776499\n",
            "[t-SNE] Computed conditional probabilities for sample 396000 / 776499\n",
            "[t-SNE] Computed conditional probabilities for sample 397000 / 776499\n",
            "[t-SNE] Computed conditional probabilities for sample 398000 / 776499\n",
            "[t-SNE] Computed conditional probabilities for sample 399000 / 776499\n",
            "[t-SNE] Computed conditional probabilities for sample 400000 / 776499\n",
            "[t-SNE] Computed conditional probabilities for sample 401000 / 776499\n",
            "[t-SNE] Computed conditional probabilities for sample 402000 / 776499\n",
            "[t-SNE] Computed conditional probabilities for sample 403000 / 776499\n",
            "[t-SNE] Computed conditional probabilities for sample 404000 / 776499\n",
            "[t-SNE] Computed conditional probabilities for sample 405000 / 776499\n",
            "[t-SNE] Computed conditional probabilities for sample 406000 / 776499\n",
            "[t-SNE] Computed conditional probabilities for sample 407000 / 776499\n",
            "[t-SNE] Computed conditional probabilities for sample 408000 / 776499\n",
            "[t-SNE] Computed conditional probabilities for sample 409000 / 776499\n",
            "[t-SNE] Computed conditional probabilities for sample 410000 / 776499\n",
            "[t-SNE] Computed conditional probabilities for sample 411000 / 776499\n",
            "[t-SNE] Computed conditional probabilities for sample 412000 / 776499\n",
            "[t-SNE] Computed conditional probabilities for sample 413000 / 776499\n",
            "[t-SNE] Computed conditional probabilities for sample 414000 / 776499\n",
            "[t-SNE] Computed conditional probabilities for sample 415000 / 776499\n",
            "[t-SNE] Computed conditional probabilities for sample 416000 / 776499\n",
            "[t-SNE] Computed conditional probabilities for sample 417000 / 776499\n",
            "[t-SNE] Computed conditional probabilities for sample 418000 / 776499\n",
            "[t-SNE] Computed conditional probabilities for sample 419000 / 776499\n",
            "[t-SNE] Computed conditional probabilities for sample 420000 / 776499\n",
            "[t-SNE] Computed conditional probabilities for sample 421000 / 776499\n",
            "[t-SNE] Computed conditional probabilities for sample 422000 / 776499\n",
            "[t-SNE] Computed conditional probabilities for sample 423000 / 776499\n",
            "[t-SNE] Computed conditional probabilities for sample 424000 / 776499\n",
            "[t-SNE] Computed conditional probabilities for sample 425000 / 776499\n",
            "[t-SNE] Computed conditional probabilities for sample 426000 / 776499\n",
            "[t-SNE] Computed conditional probabilities for sample 427000 / 776499\n",
            "[t-SNE] Computed conditional probabilities for sample 428000 / 776499\n",
            "[t-SNE] Computed conditional probabilities for sample 429000 / 776499\n",
            "[t-SNE] Computed conditional probabilities for sample 430000 / 776499\n",
            "[t-SNE] Computed conditional probabilities for sample 431000 / 776499\n",
            "[t-SNE] Computed conditional probabilities for sample 432000 / 776499\n",
            "[t-SNE] Computed conditional probabilities for sample 433000 / 776499\n",
            "[t-SNE] Computed conditional probabilities for sample 434000 / 776499\n",
            "[t-SNE] Computed conditional probabilities for sample 435000 / 776499\n",
            "[t-SNE] Computed conditional probabilities for sample 436000 / 776499\n",
            "[t-SNE] Computed conditional probabilities for sample 437000 / 776499\n",
            "[t-SNE] Computed conditional probabilities for sample 438000 / 776499\n",
            "[t-SNE] Computed conditional probabilities for sample 439000 / 776499\n",
            "[t-SNE] Computed conditional probabilities for sample 440000 / 776499\n",
            "[t-SNE] Computed conditional probabilities for sample 441000 / 776499\n",
            "[t-SNE] Computed conditional probabilities for sample 442000 / 776499\n",
            "[t-SNE] Computed conditional probabilities for sample 443000 / 776499\n",
            "[t-SNE] Computed conditional probabilities for sample 444000 / 776499\n",
            "[t-SNE] Computed conditional probabilities for sample 445000 / 776499\n",
            "[t-SNE] Computed conditional probabilities for sample 446000 / 776499\n",
            "[t-SNE] Computed conditional probabilities for sample 447000 / 776499\n",
            "[t-SNE] Computed conditional probabilities for sample 448000 / 776499\n",
            "[t-SNE] Computed conditional probabilities for sample 449000 / 776499\n",
            "[t-SNE] Computed conditional probabilities for sample 450000 / 776499\n",
            "[t-SNE] Computed conditional probabilities for sample 451000 / 776499\n",
            "[t-SNE] Computed conditional probabilities for sample 452000 / 776499\n",
            "[t-SNE] Computed conditional probabilities for sample 453000 / 776499\n",
            "[t-SNE] Computed conditional probabilities for sample 454000 / 776499\n",
            "[t-SNE] Computed conditional probabilities for sample 455000 / 776499\n",
            "[t-SNE] Computed conditional probabilities for sample 456000 / 776499\n",
            "[t-SNE] Computed conditional probabilities for sample 457000 / 776499\n",
            "[t-SNE] Computed conditional probabilities for sample 458000 / 776499\n",
            "[t-SNE] Computed conditional probabilities for sample 459000 / 776499\n",
            "[t-SNE] Computed conditional probabilities for sample 460000 / 776499\n",
            "[t-SNE] Computed conditional probabilities for sample 461000 / 776499\n",
            "[t-SNE] Computed conditional probabilities for sample 462000 / 776499\n",
            "[t-SNE] Computed conditional probabilities for sample 463000 / 776499\n",
            "[t-SNE] Computed conditional probabilities for sample 464000 / 776499\n",
            "[t-SNE] Computed conditional probabilities for sample 465000 / 776499\n",
            "[t-SNE] Computed conditional probabilities for sample 466000 / 776499\n",
            "[t-SNE] Computed conditional probabilities for sample 467000 / 776499\n",
            "[t-SNE] Computed conditional probabilities for sample 468000 / 776499\n",
            "[t-SNE] Computed conditional probabilities for sample 469000 / 776499\n",
            "[t-SNE] Computed conditional probabilities for sample 470000 / 776499\n",
            "[t-SNE] Computed conditional probabilities for sample 471000 / 776499\n",
            "[t-SNE] Computed conditional probabilities for sample 472000 / 776499\n",
            "[t-SNE] Computed conditional probabilities for sample 473000 / 776499\n",
            "[t-SNE] Computed conditional probabilities for sample 474000 / 776499\n",
            "[t-SNE] Computed conditional probabilities for sample 475000 / 776499\n",
            "[t-SNE] Computed conditional probabilities for sample 476000 / 776499\n",
            "[t-SNE] Computed conditional probabilities for sample 477000 / 776499\n",
            "[t-SNE] Computed conditional probabilities for sample 478000 / 776499\n",
            "[t-SNE] Computed conditional probabilities for sample 479000 / 776499\n",
            "[t-SNE] Computed conditional probabilities for sample 480000 / 776499\n",
            "[t-SNE] Computed conditional probabilities for sample 481000 / 776499\n",
            "[t-SNE] Computed conditional probabilities for sample 482000 / 776499\n",
            "[t-SNE] Computed conditional probabilities for sample 483000 / 776499\n",
            "[t-SNE] Computed conditional probabilities for sample 484000 / 776499\n",
            "[t-SNE] Computed conditional probabilities for sample 485000 / 776499\n",
            "[t-SNE] Computed conditional probabilities for sample 486000 / 776499\n",
            "[t-SNE] Computed conditional probabilities for sample 487000 / 776499\n",
            "[t-SNE] Computed conditional probabilities for sample 488000 / 776499\n",
            "[t-SNE] Computed conditional probabilities for sample 489000 / 776499\n",
            "[t-SNE] Computed conditional probabilities for sample 490000 / 776499\n",
            "[t-SNE] Computed conditional probabilities for sample 491000 / 776499\n",
            "[t-SNE] Computed conditional probabilities for sample 492000 / 776499\n",
            "[t-SNE] Computed conditional probabilities for sample 493000 / 776499\n",
            "[t-SNE] Computed conditional probabilities for sample 494000 / 776499\n",
            "[t-SNE] Computed conditional probabilities for sample 495000 / 776499\n",
            "[t-SNE] Computed conditional probabilities for sample 496000 / 776499\n",
            "[t-SNE] Computed conditional probabilities for sample 497000 / 776499\n",
            "[t-SNE] Computed conditional probabilities for sample 498000 / 776499\n",
            "[t-SNE] Computed conditional probabilities for sample 499000 / 776499\n",
            "[t-SNE] Computed conditional probabilities for sample 500000 / 776499\n",
            "[t-SNE] Computed conditional probabilities for sample 501000 / 776499\n",
            "[t-SNE] Computed conditional probabilities for sample 502000 / 776499\n",
            "[t-SNE] Computed conditional probabilities for sample 503000 / 776499\n",
            "[t-SNE] Computed conditional probabilities for sample 504000 / 776499\n",
            "[t-SNE] Computed conditional probabilities for sample 505000 / 776499\n",
            "[t-SNE] Computed conditional probabilities for sample 506000 / 776499\n",
            "[t-SNE] Computed conditional probabilities for sample 507000 / 776499\n",
            "[t-SNE] Computed conditional probabilities for sample 508000 / 776499\n",
            "[t-SNE] Computed conditional probabilities for sample 509000 / 776499\n",
            "[t-SNE] Computed conditional probabilities for sample 510000 / 776499\n",
            "[t-SNE] Computed conditional probabilities for sample 511000 / 776499\n",
            "[t-SNE] Computed conditional probabilities for sample 512000 / 776499\n",
            "[t-SNE] Computed conditional probabilities for sample 513000 / 776499\n",
            "[t-SNE] Computed conditional probabilities for sample 514000 / 776499\n",
            "[t-SNE] Computed conditional probabilities for sample 515000 / 776499\n",
            "[t-SNE] Computed conditional probabilities for sample 516000 / 776499\n",
            "[t-SNE] Computed conditional probabilities for sample 517000 / 776499\n",
            "[t-SNE] Computed conditional probabilities for sample 518000 / 776499\n",
            "[t-SNE] Computed conditional probabilities for sample 519000 / 776499\n",
            "[t-SNE] Computed conditional probabilities for sample 520000 / 776499\n",
            "[t-SNE] Computed conditional probabilities for sample 521000 / 776499\n",
            "[t-SNE] Computed conditional probabilities for sample 522000 / 776499\n",
            "[t-SNE] Computed conditional probabilities for sample 523000 / 776499\n",
            "[t-SNE] Computed conditional probabilities for sample 524000 / 776499\n",
            "[t-SNE] Computed conditional probabilities for sample 525000 / 776499\n",
            "[t-SNE] Computed conditional probabilities for sample 526000 / 776499\n",
            "[t-SNE] Computed conditional probabilities for sample 527000 / 776499\n",
            "[t-SNE] Computed conditional probabilities for sample 528000 / 776499\n",
            "[t-SNE] Computed conditional probabilities for sample 529000 / 776499\n",
            "[t-SNE] Computed conditional probabilities for sample 530000 / 776499\n",
            "[t-SNE] Computed conditional probabilities for sample 531000 / 776499\n",
            "[t-SNE] Computed conditional probabilities for sample 532000 / 776499\n",
            "[t-SNE] Computed conditional probabilities for sample 533000 / 776499\n",
            "[t-SNE] Computed conditional probabilities for sample 534000 / 776499\n",
            "[t-SNE] Computed conditional probabilities for sample 535000 / 776499\n",
            "[t-SNE] Computed conditional probabilities for sample 536000 / 776499\n",
            "[t-SNE] Computed conditional probabilities for sample 537000 / 776499\n",
            "[t-SNE] Computed conditional probabilities for sample 538000 / 776499\n",
            "[t-SNE] Computed conditional probabilities for sample 539000 / 776499\n",
            "[t-SNE] Computed conditional probabilities for sample 540000 / 776499\n",
            "[t-SNE] Computed conditional probabilities for sample 541000 / 776499\n",
            "[t-SNE] Computed conditional probabilities for sample 542000 / 776499\n",
            "[t-SNE] Computed conditional probabilities for sample 543000 / 776499\n",
            "[t-SNE] Computed conditional probabilities for sample 544000 / 776499\n",
            "[t-SNE] Computed conditional probabilities for sample 545000 / 776499\n",
            "[t-SNE] Computed conditional probabilities for sample 546000 / 776499\n",
            "[t-SNE] Computed conditional probabilities for sample 547000 / 776499\n",
            "[t-SNE] Computed conditional probabilities for sample 548000 / 776499\n",
            "[t-SNE] Computed conditional probabilities for sample 549000 / 776499\n",
            "[t-SNE] Computed conditional probabilities for sample 550000 / 776499\n",
            "[t-SNE] Computed conditional probabilities for sample 551000 / 776499\n",
            "[t-SNE] Computed conditional probabilities for sample 552000 / 776499\n",
            "[t-SNE] Computed conditional probabilities for sample 553000 / 776499\n",
            "[t-SNE] Computed conditional probabilities for sample 554000 / 776499\n",
            "[t-SNE] Computed conditional probabilities for sample 555000 / 776499\n",
            "[t-SNE] Computed conditional probabilities for sample 556000 / 776499\n",
            "[t-SNE] Computed conditional probabilities for sample 557000 / 776499\n",
            "[t-SNE] Computed conditional probabilities for sample 558000 / 776499\n",
            "[t-SNE] Computed conditional probabilities for sample 559000 / 776499\n",
            "[t-SNE] Computed conditional probabilities for sample 560000 / 776499\n",
            "[t-SNE] Computed conditional probabilities for sample 561000 / 776499\n",
            "[t-SNE] Computed conditional probabilities for sample 562000 / 776499\n",
            "[t-SNE] Computed conditional probabilities for sample 563000 / 776499\n",
            "[t-SNE] Computed conditional probabilities for sample 564000 / 776499\n",
            "[t-SNE] Computed conditional probabilities for sample 565000 / 776499\n",
            "[t-SNE] Computed conditional probabilities for sample 566000 / 776499\n",
            "[t-SNE] Computed conditional probabilities for sample 567000 / 776499\n",
            "[t-SNE] Computed conditional probabilities for sample 568000 / 776499\n",
            "[t-SNE] Computed conditional probabilities for sample 569000 / 776499\n",
            "[t-SNE] Computed conditional probabilities for sample 570000 / 776499\n",
            "[t-SNE] Computed conditional probabilities for sample 571000 / 776499\n",
            "[t-SNE] Computed conditional probabilities for sample 572000 / 776499\n",
            "[t-SNE] Computed conditional probabilities for sample 573000 / 776499\n",
            "[t-SNE] Computed conditional probabilities for sample 574000 / 776499\n",
            "[t-SNE] Computed conditional probabilities for sample 575000 / 776499\n",
            "[t-SNE] Computed conditional probabilities for sample 576000 / 776499\n",
            "[t-SNE] Computed conditional probabilities for sample 577000 / 776499\n",
            "[t-SNE] Computed conditional probabilities for sample 578000 / 776499\n",
            "[t-SNE] Computed conditional probabilities for sample 579000 / 776499\n",
            "[t-SNE] Computed conditional probabilities for sample 580000 / 776499\n",
            "[t-SNE] Computed conditional probabilities for sample 581000 / 776499\n",
            "[t-SNE] Computed conditional probabilities for sample 582000 / 776499\n",
            "[t-SNE] Computed conditional probabilities for sample 583000 / 776499\n",
            "[t-SNE] Computed conditional probabilities for sample 584000 / 776499\n",
            "[t-SNE] Computed conditional probabilities for sample 585000 / 776499\n",
            "[t-SNE] Computed conditional probabilities for sample 586000 / 776499\n",
            "[t-SNE] Computed conditional probabilities for sample 587000 / 776499\n",
            "[t-SNE] Computed conditional probabilities for sample 588000 / 776499\n",
            "[t-SNE] Computed conditional probabilities for sample 589000 / 776499\n",
            "[t-SNE] Computed conditional probabilities for sample 590000 / 776499\n",
            "[t-SNE] Computed conditional probabilities for sample 591000 / 776499\n",
            "[t-SNE] Computed conditional probabilities for sample 592000 / 776499\n",
            "[t-SNE] Computed conditional probabilities for sample 593000 / 776499\n",
            "[t-SNE] Computed conditional probabilities for sample 594000 / 776499\n",
            "[t-SNE] Computed conditional probabilities for sample 595000 / 776499\n",
            "[t-SNE] Computed conditional probabilities for sample 596000 / 776499\n",
            "[t-SNE] Computed conditional probabilities for sample 597000 / 776499\n",
            "[t-SNE] Computed conditional probabilities for sample 598000 / 776499\n",
            "[t-SNE] Computed conditional probabilities for sample 599000 / 776499\n",
            "[t-SNE] Computed conditional probabilities for sample 600000 / 776499\n",
            "[t-SNE] Computed conditional probabilities for sample 601000 / 776499\n",
            "[t-SNE] Computed conditional probabilities for sample 602000 / 776499\n",
            "[t-SNE] Computed conditional probabilities for sample 603000 / 776499\n",
            "[t-SNE] Computed conditional probabilities for sample 604000 / 776499\n",
            "[t-SNE] Computed conditional probabilities for sample 605000 / 776499\n",
            "[t-SNE] Computed conditional probabilities for sample 606000 / 776499\n",
            "[t-SNE] Computed conditional probabilities for sample 607000 / 776499\n",
            "[t-SNE] Computed conditional probabilities for sample 608000 / 776499\n",
            "[t-SNE] Computed conditional probabilities for sample 609000 / 776499\n",
            "[t-SNE] Computed conditional probabilities for sample 610000 / 776499\n",
            "[t-SNE] Computed conditional probabilities for sample 611000 / 776499\n",
            "[t-SNE] Computed conditional probabilities for sample 612000 / 776499\n",
            "[t-SNE] Computed conditional probabilities for sample 613000 / 776499\n",
            "[t-SNE] Computed conditional probabilities for sample 614000 / 776499\n",
            "[t-SNE] Computed conditional probabilities for sample 615000 / 776499\n",
            "[t-SNE] Computed conditional probabilities for sample 616000 / 776499\n",
            "[t-SNE] Computed conditional probabilities for sample 617000 / 776499\n",
            "[t-SNE] Computed conditional probabilities for sample 618000 / 776499\n",
            "[t-SNE] Computed conditional probabilities for sample 619000 / 776499\n",
            "[t-SNE] Computed conditional probabilities for sample 620000 / 776499\n",
            "[t-SNE] Computed conditional probabilities for sample 621000 / 776499\n",
            "[t-SNE] Computed conditional probabilities for sample 622000 / 776499\n",
            "[t-SNE] Computed conditional probabilities for sample 623000 / 776499\n",
            "[t-SNE] Computed conditional probabilities for sample 624000 / 776499\n",
            "[t-SNE] Computed conditional probabilities for sample 625000 / 776499\n",
            "[t-SNE] Computed conditional probabilities for sample 626000 / 776499\n",
            "[t-SNE] Computed conditional probabilities for sample 627000 / 776499\n",
            "[t-SNE] Computed conditional probabilities for sample 628000 / 776499\n",
            "[t-SNE] Computed conditional probabilities for sample 629000 / 776499\n",
            "[t-SNE] Computed conditional probabilities for sample 630000 / 776499\n",
            "[t-SNE] Computed conditional probabilities for sample 631000 / 776499\n",
            "[t-SNE] Computed conditional probabilities for sample 632000 / 776499\n",
            "[t-SNE] Computed conditional probabilities for sample 633000 / 776499\n",
            "[t-SNE] Computed conditional probabilities for sample 634000 / 776499\n",
            "[t-SNE] Computed conditional probabilities for sample 635000 / 776499\n",
            "[t-SNE] Computed conditional probabilities for sample 636000 / 776499\n",
            "[t-SNE] Computed conditional probabilities for sample 637000 / 776499\n",
            "[t-SNE] Computed conditional probabilities for sample 638000 / 776499\n",
            "[t-SNE] Computed conditional probabilities for sample 639000 / 776499\n",
            "[t-SNE] Computed conditional probabilities for sample 640000 / 776499\n",
            "[t-SNE] Computed conditional probabilities for sample 641000 / 776499\n",
            "[t-SNE] Computed conditional probabilities for sample 642000 / 776499\n",
            "[t-SNE] Computed conditional probabilities for sample 643000 / 776499\n",
            "[t-SNE] Computed conditional probabilities for sample 644000 / 776499\n",
            "[t-SNE] Computed conditional probabilities for sample 645000 / 776499\n",
            "[t-SNE] Computed conditional probabilities for sample 646000 / 776499\n",
            "[t-SNE] Computed conditional probabilities for sample 647000 / 776499\n",
            "[t-SNE] Computed conditional probabilities for sample 648000 / 776499\n",
            "[t-SNE] Computed conditional probabilities for sample 649000 / 776499\n",
            "[t-SNE] Computed conditional probabilities for sample 650000 / 776499\n",
            "[t-SNE] Computed conditional probabilities for sample 651000 / 776499\n",
            "[t-SNE] Computed conditional probabilities for sample 652000 / 776499\n",
            "[t-SNE] Computed conditional probabilities for sample 653000 / 776499\n",
            "[t-SNE] Computed conditional probabilities for sample 654000 / 776499\n",
            "[t-SNE] Computed conditional probabilities for sample 655000 / 776499\n",
            "[t-SNE] Computed conditional probabilities for sample 656000 / 776499\n",
            "[t-SNE] Computed conditional probabilities for sample 657000 / 776499\n",
            "[t-SNE] Computed conditional probabilities for sample 658000 / 776499\n",
            "[t-SNE] Computed conditional probabilities for sample 659000 / 776499\n",
            "[t-SNE] Computed conditional probabilities for sample 660000 / 776499\n",
            "[t-SNE] Computed conditional probabilities for sample 661000 / 776499\n",
            "[t-SNE] Computed conditional probabilities for sample 662000 / 776499\n",
            "[t-SNE] Computed conditional probabilities for sample 663000 / 776499\n",
            "[t-SNE] Computed conditional probabilities for sample 664000 / 776499\n",
            "[t-SNE] Computed conditional probabilities for sample 665000 / 776499\n",
            "[t-SNE] Computed conditional probabilities for sample 666000 / 776499\n",
            "[t-SNE] Computed conditional probabilities for sample 667000 / 776499\n",
            "[t-SNE] Computed conditional probabilities for sample 668000 / 776499\n",
            "[t-SNE] Computed conditional probabilities for sample 669000 / 776499\n",
            "[t-SNE] Computed conditional probabilities for sample 670000 / 776499\n",
            "[t-SNE] Computed conditional probabilities for sample 671000 / 776499\n",
            "[t-SNE] Computed conditional probabilities for sample 672000 / 776499\n",
            "[t-SNE] Computed conditional probabilities for sample 673000 / 776499\n",
            "[t-SNE] Computed conditional probabilities for sample 674000 / 776499\n",
            "[t-SNE] Computed conditional probabilities for sample 675000 / 776499\n",
            "[t-SNE] Computed conditional probabilities for sample 676000 / 776499\n",
            "[t-SNE] Computed conditional probabilities for sample 677000 / 776499\n",
            "[t-SNE] Computed conditional probabilities for sample 678000 / 776499\n",
            "[t-SNE] Computed conditional probabilities for sample 679000 / 776499\n",
            "[t-SNE] Computed conditional probabilities for sample 680000 / 776499\n",
            "[t-SNE] Computed conditional probabilities for sample 681000 / 776499\n",
            "[t-SNE] Computed conditional probabilities for sample 682000 / 776499\n",
            "[t-SNE] Computed conditional probabilities for sample 683000 / 776499\n",
            "[t-SNE] Computed conditional probabilities for sample 684000 / 776499\n",
            "[t-SNE] Computed conditional probabilities for sample 685000 / 776499\n",
            "[t-SNE] Computed conditional probabilities for sample 686000 / 776499\n",
            "[t-SNE] Computed conditional probabilities for sample 687000 / 776499\n",
            "[t-SNE] Computed conditional probabilities for sample 688000 / 776499\n",
            "[t-SNE] Computed conditional probabilities for sample 689000 / 776499\n",
            "[t-SNE] Computed conditional probabilities for sample 690000 / 776499\n",
            "[t-SNE] Computed conditional probabilities for sample 691000 / 776499\n",
            "[t-SNE] Computed conditional probabilities for sample 692000 / 776499\n",
            "[t-SNE] Computed conditional probabilities for sample 693000 / 776499\n",
            "[t-SNE] Computed conditional probabilities for sample 694000 / 776499\n",
            "[t-SNE] Computed conditional probabilities for sample 695000 / 776499\n",
            "[t-SNE] Computed conditional probabilities for sample 696000 / 776499\n",
            "[t-SNE] Computed conditional probabilities for sample 697000 / 776499\n",
            "[t-SNE] Computed conditional probabilities for sample 698000 / 776499\n",
            "[t-SNE] Computed conditional probabilities for sample 699000 / 776499\n",
            "[t-SNE] Computed conditional probabilities for sample 700000 / 776499\n",
            "[t-SNE] Computed conditional probabilities for sample 701000 / 776499\n",
            "[t-SNE] Computed conditional probabilities for sample 702000 / 776499\n",
            "[t-SNE] Computed conditional probabilities for sample 703000 / 776499\n",
            "[t-SNE] Computed conditional probabilities for sample 704000 / 776499\n",
            "[t-SNE] Computed conditional probabilities for sample 705000 / 776499\n",
            "[t-SNE] Computed conditional probabilities for sample 706000 / 776499\n",
            "[t-SNE] Computed conditional probabilities for sample 707000 / 776499\n",
            "[t-SNE] Computed conditional probabilities for sample 708000 / 776499\n",
            "[t-SNE] Computed conditional probabilities for sample 709000 / 776499\n",
            "[t-SNE] Computed conditional probabilities for sample 710000 / 776499\n",
            "[t-SNE] Computed conditional probabilities for sample 711000 / 776499\n",
            "[t-SNE] Computed conditional probabilities for sample 712000 / 776499\n",
            "[t-SNE] Computed conditional probabilities for sample 713000 / 776499\n",
            "[t-SNE] Computed conditional probabilities for sample 714000 / 776499\n",
            "[t-SNE] Computed conditional probabilities for sample 715000 / 776499\n",
            "[t-SNE] Computed conditional probabilities for sample 716000 / 776499\n",
            "[t-SNE] Computed conditional probabilities for sample 717000 / 776499\n",
            "[t-SNE] Computed conditional probabilities for sample 718000 / 776499\n",
            "[t-SNE] Computed conditional probabilities for sample 719000 / 776499\n",
            "[t-SNE] Computed conditional probabilities for sample 720000 / 776499\n",
            "[t-SNE] Computed conditional probabilities for sample 721000 / 776499\n",
            "[t-SNE] Computed conditional probabilities for sample 722000 / 776499\n",
            "[t-SNE] Computed conditional probabilities for sample 723000 / 776499\n",
            "[t-SNE] Computed conditional probabilities for sample 724000 / 776499\n",
            "[t-SNE] Computed conditional probabilities for sample 725000 / 776499\n",
            "[t-SNE] Computed conditional probabilities for sample 726000 / 776499\n",
            "[t-SNE] Computed conditional probabilities for sample 727000 / 776499\n",
            "[t-SNE] Computed conditional probabilities for sample 728000 / 776499\n",
            "[t-SNE] Computed conditional probabilities for sample 729000 / 776499\n",
            "[t-SNE] Computed conditional probabilities for sample 730000 / 776499\n",
            "[t-SNE] Computed conditional probabilities for sample 731000 / 776499\n",
            "[t-SNE] Computed conditional probabilities for sample 732000 / 776499\n",
            "[t-SNE] Computed conditional probabilities for sample 733000 / 776499\n",
            "[t-SNE] Computed conditional probabilities for sample 734000 / 776499\n",
            "[t-SNE] Computed conditional probabilities for sample 735000 / 776499\n",
            "[t-SNE] Computed conditional probabilities for sample 736000 / 776499\n",
            "[t-SNE] Computed conditional probabilities for sample 737000 / 776499\n",
            "[t-SNE] Computed conditional probabilities for sample 738000 / 776499\n",
            "[t-SNE] Computed conditional probabilities for sample 739000 / 776499\n",
            "[t-SNE] Computed conditional probabilities for sample 740000 / 776499\n",
            "[t-SNE] Computed conditional probabilities for sample 741000 / 776499\n",
            "[t-SNE] Computed conditional probabilities for sample 742000 / 776499\n",
            "[t-SNE] Computed conditional probabilities for sample 743000 / 776499\n",
            "[t-SNE] Computed conditional probabilities for sample 744000 / 776499\n",
            "[t-SNE] Computed conditional probabilities for sample 745000 / 776499\n",
            "[t-SNE] Computed conditional probabilities for sample 746000 / 776499\n",
            "[t-SNE] Computed conditional probabilities for sample 747000 / 776499\n",
            "[t-SNE] Computed conditional probabilities for sample 748000 / 776499\n",
            "[t-SNE] Computed conditional probabilities for sample 749000 / 776499\n",
            "[t-SNE] Computed conditional probabilities for sample 750000 / 776499\n",
            "[t-SNE] Computed conditional probabilities for sample 751000 / 776499\n",
            "[t-SNE] Computed conditional probabilities for sample 752000 / 776499\n",
            "[t-SNE] Computed conditional probabilities for sample 753000 / 776499\n",
            "[t-SNE] Computed conditional probabilities for sample 754000 / 776499\n",
            "[t-SNE] Computed conditional probabilities for sample 755000 / 776499\n",
            "[t-SNE] Computed conditional probabilities for sample 756000 / 776499\n",
            "[t-SNE] Computed conditional probabilities for sample 757000 / 776499\n",
            "[t-SNE] Computed conditional probabilities for sample 758000 / 776499\n",
            "[t-SNE] Computed conditional probabilities for sample 759000 / 776499\n",
            "[t-SNE] Computed conditional probabilities for sample 760000 / 776499\n",
            "[t-SNE] Computed conditional probabilities for sample 761000 / 776499\n",
            "[t-SNE] Computed conditional probabilities for sample 762000 / 776499\n",
            "[t-SNE] Computed conditional probabilities for sample 763000 / 776499\n",
            "[t-SNE] Computed conditional probabilities for sample 764000 / 776499\n",
            "[t-SNE] Computed conditional probabilities for sample 765000 / 776499\n",
            "[t-SNE] Computed conditional probabilities for sample 766000 / 776499\n",
            "[t-SNE] Computed conditional probabilities for sample 767000 / 776499\n",
            "[t-SNE] Computed conditional probabilities for sample 768000 / 776499\n",
            "[t-SNE] Computed conditional probabilities for sample 769000 / 776499\n",
            "[t-SNE] Computed conditional probabilities for sample 770000 / 776499\n",
            "[t-SNE] Computed conditional probabilities for sample 771000 / 776499\n",
            "[t-SNE] Computed conditional probabilities for sample 772000 / 776499\n",
            "[t-SNE] Computed conditional probabilities for sample 773000 / 776499\n",
            "[t-SNE] Computed conditional probabilities for sample 774000 / 776499\n",
            "[t-SNE] Computed conditional probabilities for sample 775000 / 776499\n",
            "[t-SNE] Computed conditional probabilities for sample 776000 / 776499\n",
            "[t-SNE] Computed conditional probabilities for sample 776499 / 776499\n",
            "[t-SNE] Mean sigma: 0.000000\n",
            "[t-SNE] KL divergence after 50 iterations with early exaggeration: 128.226288\n"
          ],
          "name": "stdout"
        }
      ]
    },
    {
      "cell_type": "code",
      "metadata": {
        "id": "a0pV1RqDWpWF",
        "colab_type": "code",
        "colab": {}
      },
      "source": [
        "plt.figure(figsize=(12,8))\n",
        "\n",
        "plt.scatter(tsne_results[:,0], tsne_results[:,1], s=10,c=lbls,cmap='tab20b', alpha=.4)\n",
        "\n",
        "\n",
        "# leg = plt.legend()\n",
        "\n",
        "\n",
        "\n",
        "\n",
        "# for lh in leg.legendHandles: \n",
        "#     lh.set_alpha(1)\n",
        "plt.title('T-SNE')\n",
        "plt.xlabel('first principal component')\n",
        "plt.ylabel('second principal component')\n",
        "plt.show()"
      ],
      "execution_count": 0,
      "outputs": []
    },
    {
      "cell_type": "code",
      "metadata": {
        "id": "oD7NQQucWsMx",
        "colab_type": "code",
        "colab": {}
      },
      "source": [
        "plt.figure(figsize=(12,10))\n",
        "for c in np.unique(lbls):\n",
        "    mask = lbls==c\n",
        "    if np.sum(mask) <0:\n",
        "        lbl = '_nolegend_'\n",
        "    else:\n",
        "        lbl = c\n",
        "    plt.scatter(tsne_results[mask][:,0], tsne_results[mask][:,1], s=15,alpha=.1,label=lbl)\n",
        "leg = plt.legend()\n",
        "for lh in leg.legendHandles: \n",
        "    lh.set_alpha(1)\n",
        "plt.title('T-SNE')\n",
        "plt.xlabel('first principal component')\n",
        "plt.ylabel('second principal component')\n",
        "plt.tight_layout()"
      ],
      "execution_count": 0,
      "outputs": []
    },
    {
      "cell_type": "code",
      "metadata": {
        "id": "xhfCyepCWwf7",
        "colab_type": "code",
        "colab": {}
      },
      "source": [
        "# fig = plt.figure()\n",
        "# ax = fig.add_subplot(111, projection='3d')\n",
        "# for c in np.unique(cl.labels_):\n",
        "#     mask = cl.labels_==c\n",
        "#     if np.sum(mask) <50:\n",
        "#         lbl = '_nolegend_'\n",
        "#     else:\n",
        "#         lbl = c\n",
        "#     ax.scatter(tsne_results[mask][:,0], tsne_results[mask][:,1], tsne_results[mask][:,2], s=10, alpha=.01,label=lbl)\n",
        "# leg = plt.legend()\n",
        "# for lh in leg.legendHandles: \n",
        "#     lh.set_alpha(1)\n",
        "# ax.set_xlabel('first principal component')\n",
        "# ax.set_ylabel('second principal component')\n",
        "# ax.set_zlabel('third principal component')\n",
        "# ax.view_init(elev=30, azim=0)\n",
        "# plt.show()"
      ],
      "execution_count": 0,
      "outputs": []
    },
    {
      "cell_type": "code",
      "metadata": {
        "id": "tRqMNUV4Wy8z",
        "colab_type": "code",
        "colab": {}
      },
      "source": [
        "plt.scatter(newresults[:,0],newresults[:,1],c=labels)\n",
        "# plt.xlim(0,10)\n",
        "# plt.ylim(-10,10)"
      ],
      "execution_count": 0,
      "outputs": []
    },
    {
      "cell_type": "code",
      "metadata": {
        "id": "dLQzdoqlW0tu",
        "colab_type": "code",
        "colab": {}
      },
      "source": [
        "plt.scatter(results[:,0],results[:,1],c=cl.labels_)\n",
        "# plt.xlim(-10,100)\n",
        "# plt.ylim(-15,10)"
      ],
      "execution_count": 0,
      "outputs": []
    },
    {
      "cell_type": "code",
      "metadata": {
        "id": "RvLuT-fjW4JO",
        "colab_type": "code",
        "colab": {}
      },
      "source": [
        "# #recluster after changes\n",
        "# cl = KMeans(20).fit(results)\n",
        "newcl = KMeans(40).fit(newresults)\n"
      ],
      "execution_count": 0,
      "outputs": []
    },
    {
      "cell_type": "code",
      "metadata": {
        "id": "KTXkRup4W6N3",
        "colab_type": "code",
        "colab": {}
      },
      "source": [
        "# %matplotlib widget\n",
        "from mpl_toolkits.mplot3d import Axes3D"
      ],
      "execution_count": 0,
      "outputs": []
    },
    {
      "cell_type": "code",
      "metadata": {
        "id": "dXpJrk4tW8Qh",
        "colab_type": "code",
        "colab": {}
      },
      "source": [
        "# fig = plt.figure()\n",
        "# ax = fig.add_subplot(111, projection='3d')\n",
        "# ax.scatter(results[:,0],results[:,1],results[:,2],c=cl.labels_)"
      ],
      "execution_count": 0,
      "outputs": []
    },
    {
      "cell_type": "code",
      "metadata": {
        "id": "vbLgYYcKW-Kh",
        "colab_type": "code",
        "colab": {}
      },
      "source": [
        "# plt.scatter(newresults[:,0],newresults[:,1],c=newcl.labels_)\n",
        "# plt.xlim(-10,100)\n",
        "# plt.ylim(-15,10)\n",
        "fig = plt.figure()\n",
        "ax = fig.add_subplot(111, projection='3d')\n",
        "ax.scatter(results[:,0],results[:,1],results[:,2],c=cl.labels_)\n",
        "\n",
        "# ax.set_xlim3d(-10,10)\n",
        "# ax.set_ylim3d(-15,10)\n",
        "# fig = plt.figure()\n",
        "# ax = fig.add_subplot(111, projection='3d')\n",
        "# ax.scatter(newresults[:,0],newresults[:,1],newresults[:,2],c=newcl.labels_)"
      ],
      "execution_count": 0,
      "outputs": []
    },
    {
      "cell_type": "code",
      "metadata": {
        "id": "3EFOcXykXAvQ",
        "colab_type": "code",
        "colab": {}
      },
      "source": [
        "# %matplotlib widget\n",
        "fig = plt.figure()\n",
        "ax = fig.add_subplot(111, projection='3d')\n",
        "ax.scatter(newresults[:,0],newresults[:,1],newresults[:,2],c=newcl.labels_)\n",
        "# ax.set_xlim3d(-1,1)\n",
        "# ax.set_ylim3d(-3,3)\n",
        "# ax.view_init(elev=-0, azim=90)\n",
        "# for ii in range(10,360,10):\n",
        "#     ax.view_init(elev=10, azim=ii)\n",
        "#     fig.savefig(\"movie/movie{}.png\".format(ii))"
      ],
      "execution_count": 0,
      "outputs": []
    },
    {
      "cell_type": "code",
      "metadata": {
        "id": "UDbx1B9jXEq-",
        "colab_type": "code",
        "colab": {}
      },
      "source": [
        "c = cl.cluster_centers_\n",
        "#transform back to real numbers\n",
        "centroids = log.inverse_transform(scale.inverse_transform(pca.inverse_transform(c)))\n",
        "df_summary = pd.DataFrame(centroids, columns = data.columns)"
      ],
      "execution_count": 0,
      "outputs": []
    },
    {
      "cell_type": "code",
      "metadata": {
        "id": "8M99rBRMXGas",
        "colab_type": "code",
        "colab": {}
      },
      "source": [
        "cluster_sizes = pd.Series(cl.labels_).value_counts()\n",
        "df_summary['cluster_size'] = cluster_sizes"
      ],
      "execution_count": 0,
      "outputs": []
    },
    {
      "cell_type": "code",
      "metadata": {
        "id": "3lJV-D-OXIe9",
        "colab_type": "code",
        "colab": {}
      },
      "source": [
        "df_summary.sort_values('cluster_size', ascending=False, axis=0, inplace=True)\n",
        "df_summary"
      ],
      "execution_count": 0,
      "outputs": []
    },
    {
      "cell_type": "code",
      "metadata": {
        "id": "zpoa7tzOXLDs",
        "colab_type": "code",
        "colab": {}
      },
      "source": [
        "import seaborn as sns\n",
        "sns.heatmap(df_summary.corr())"
      ],
      "execution_count": 0,
      "outputs": []
    },
    {
      "cell_type": "code",
      "metadata": {
        "id": "x1ooZP-9XOYB",
        "colab_type": "code",
        "colab": {}
      },
      "source": [
        "\n",
        "arr = df_summary.values"
      ],
      "execution_count": 0,
      "outputs": []
    },
    {
      "cell_type": "code",
      "metadata": {
        "id": "4nuL85aGXQHb",
        "colab_type": "code",
        "colab": {}
      },
      "source": [
        "\n",
        "arr.shape"
      ],
      "execution_count": 0,
      "outputs": []
    },
    {
      "cell_type": "code",
      "metadata": {
        "id": "n9DzZzU7XSI8",
        "colab_type": "code",
        "colab": {}
      },
      "source": [
        "sns.heatmap(np.corrcoef(arr, rowvar=True))"
      ],
      "execution_count": 0,
      "outputs": []
    },
    {
      "cell_type": "code",
      "metadata": {
        "id": "dGkN-6rAXUd1",
        "colab_type": "code",
        "colab": {}
      },
      "source": [
        "# for col in df_summary.columns:\n",
        "#     df_summary[col].hist()\n",
        "#     plt.title(col)\n",
        "#     plt.show()"
      ],
      "execution_count": 0,
      "outputs": []
    },
    {
      "cell_type": "code",
      "metadata": {
        "id": "_XVBKsVPXWAW",
        "colab_type": "code",
        "colab": {}
      },
      "source": [
        "p = PCA(n_components=3)"
      ],
      "execution_count": 0,
      "outputs": []
    },
    {
      "cell_type": "code",
      "metadata": {
        "id": "dfAx3Wd3XXgX",
        "colab_type": "code",
        "colab": {}
      },
      "source": [
        "vectors = p.fit_transform(arr[:8,:])"
      ],
      "execution_count": 0,
      "outputs": []
    },
    {
      "cell_type": "code",
      "metadata": {
        "id": "ddvCAIfOXZ0F",
        "colab_type": "code",
        "colab": {}
      },
      "source": [
        "xs = vectors[:,0]\n",
        "ys = vectors[:,1]\n",
        "zs = vectors[:,2]"
      ],
      "execution_count": 0,
      "outputs": []
    },
    {
      "cell_type": "code",
      "metadata": {
        "id": "E2MQQ_HeXb2_",
        "colab_type": "code",
        "colab": {}
      },
      "source": [
        "fig = plt.figure()\n",
        "ax = fig.add_subplot(111, projection='3d')\n",
        "for i,(x,y,z) in enumerate(zip(xs,ys,zs)):\n",
        "    ax.plot([0,x], [0,y],[0,z], label=i)\n",
        "plt.legend()"
      ],
      "execution_count": 0,
      "outputs": []
    },
    {
      "cell_type": "code",
      "metadata": {
        "id": "zJI9lCZ7pdd2",
        "colab_type": "code",
        "colab": {}
      },
      "source": [
        ""
      ],
      "execution_count": 0,
      "outputs": []
    }
  ]
}