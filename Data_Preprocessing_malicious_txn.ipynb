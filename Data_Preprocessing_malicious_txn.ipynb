{
  "nbformat": 4,
  "nbformat_minor": 0,
  "metadata": {
    "colab": {
      "name": "malicious_txn.ipynb",
      "provenance": [],
      "authorship_tag": "ABX9TyMy9q7NySaiQI69DizirQ0O",
      "include_colab_link": true
    },
    "kernelspec": {
      "name": "python3",
      "display_name": "Python 3"
    }
  },
  "cells": [
    {
      "cell_type": "markdown",
      "metadata": {
        "id": "view-in-github",
        "colab_type": "text"
      },
      "source": [
        "<a href=\"https://colab.research.google.com/github/mshilpaa/ethereum-data-analysis/blob/master/Data_Preprocessing_malicious_txn.ipynb\" target=\"_parent\"><img src=\"https://colab.research.google.com/assets/colab-badge.svg\" alt=\"Open In Colab\"/></a>"
      ]
    },
    {
      "cell_type": "code",
      "metadata": {
        "id": "3cs8gW9ywSi8",
        "colab_type": "code",
        "colab": {}
      },
      "source": [
        "import pandas as pd\n",
        "import numpy as np\n",
        "import matplotlib.pyplot as plt"
      ],
      "execution_count": 0,
      "outputs": []
    },
    {
      "cell_type": "code",
      "metadata": {
        "id": "-kBZG61XwNd3",
        "colab_type": "code",
        "outputId": "42682c58-bac9-4033-bf62-bb37d69bacc7",
        "colab": {
          "base_uri": "https://localhost:8080/",
          "height": 34
        }
      },
      "source": [
        "from google.colab import drive\n",
        "drive.mount('/content/gdrive')"
      ],
      "execution_count": 2,
      "outputs": [
        {
          "output_type": "stream",
          "text": [
            "Drive already mounted at /content/gdrive; to attempt to forcibly remount, call drive.mount(\"/content/gdrive\", force_remount=True).\n"
          ],
          "name": "stdout"
        }
      ]
    },
    {
      "cell_type": "code",
      "metadata": {
        "id": "snStYDXcuXJZ",
        "colab_type": "code",
        "colab": {}
      },
      "source": [
        "in_out = pd.read_csv('/content/gdrive/My Drive/project_data/malicious_in_out.csv')\n",
        "balance = pd.read_csv('/content/gdrive/My Drive/project_data/malicious_balance.csv')\n",
        "monthly = pd.read_csv('/content/gdrive/My Drive/project_data/malicious_monthly.csv')\n",
        "active = pd.read_csv('/content/gdrive/My Drive/project_data/malicious_active_months.csv')\n",
        "time_bw_txn = pd.read_csv('/content/gdrive/My Drive/project_data/malicious_time_bw_txn.csv')\n",
        "token = pd.read_csv('/content/gdrive/My Drive/project_data/malicious_token.csv')"
      ],
      "execution_count": 0,
      "outputs": []
    },
    {
      "cell_type": "code",
      "metadata": {
        "id": "qi4Vqj1Oxted",
        "colab_type": "code",
        "outputId": "6c926112-15ce-4d31-f882-9944c77581f3",
        "colab": {
          "base_uri": "https://localhost:8080/",
          "height": 330
        }
      },
      "source": [
        "print(in_out.shape)\n",
        "print(in_out.dtypes)\n",
        "in_out.head(5)"
      ],
      "execution_count": 4,
      "outputs": [
        {
          "output_type": "stream",
          "text": [
            "(256, 6)\n",
            "address1                   object\n",
            "address2                   object\n",
            "no_of_out_transactions    float64\n",
            "tot_ether_sent             object\n",
            "no_of_in_transactions       int64\n",
            "tot_ether_recieved         object\n",
            "dtype: object\n"
          ],
          "name": "stdout"
        },
        {
          "output_type": "execute_result",
          "data": {
            "text/html": [
              "<div>\n",
              "<style scoped>\n",
              "    .dataframe tbody tr th:only-of-type {\n",
              "        vertical-align: middle;\n",
              "    }\n",
              "\n",
              "    .dataframe tbody tr th {\n",
              "        vertical-align: top;\n",
              "    }\n",
              "\n",
              "    .dataframe thead th {\n",
              "        text-align: right;\n",
              "    }\n",
              "</style>\n",
              "<table border=\"1\" class=\"dataframe\">\n",
              "  <thead>\n",
              "    <tr style=\"text-align: right;\">\n",
              "      <th></th>\n",
              "      <th>address1</th>\n",
              "      <th>address2</th>\n",
              "      <th>no_of_out_transactions</th>\n",
              "      <th>tot_ether_sent</th>\n",
              "      <th>no_of_in_transactions</th>\n",
              "      <th>tot_ether_recieved</th>\n",
              "    </tr>\n",
              "  </thead>\n",
              "  <tbody>\n",
              "    <tr>\n",
              "      <th>0</th>\n",
              "      <td>0xbc85a12364c9e375801c00aad17b893fc4c8f5b6</td>\n",
              "      <td>0xbc85a12364c9e375801c00aad17b893fc4c8f5b6</td>\n",
              "      <td>8.0</td>\n",
              "      <td>2811315618099494900</td>\n",
              "      <td>9</td>\n",
              "      <td>2814843618099494913</td>\n",
              "    </tr>\n",
              "    <tr>\n",
              "      <th>1</th>\n",
              "      <td>0xaca33c43bd8deac8e1d144baa51fe9c7dd7b010f</td>\n",
              "      <td>0xaca33c43bd8deac8e1d144baa51fe9c7dd7b010f</td>\n",
              "      <td>42.0</td>\n",
              "      <td>740550000000000000000</td>\n",
              "      <td>2</td>\n",
              "      <td>740700000000000000000</td>\n",
              "    </tr>\n",
              "    <tr>\n",
              "      <th>2</th>\n",
              "      <td>NaN</td>\n",
              "      <td>0xa6ba0996684fcff6167128a13c8b0a1648310e6e</td>\n",
              "      <td>NaN</td>\n",
              "      <td>NaN</td>\n",
              "      <td>5</td>\n",
              "      <td>0</td>\n",
              "    </tr>\n",
              "    <tr>\n",
              "      <th>3</th>\n",
              "      <td>0xe4faeef4002c200d9d4f1d381ccb5fb679d1c437</td>\n",
              "      <td>0xe4faeef4002c200d9d4f1d381ccb5fb679d1c437</td>\n",
              "      <td>6.0</td>\n",
              "      <td>1412854490000000000</td>\n",
              "      <td>6</td>\n",
              "      <td>1418314490000000000</td>\n",
              "    </tr>\n",
              "    <tr>\n",
              "      <th>4</th>\n",
              "      <td>0xc169a0e826f22fc7d37a48aaa346ffb4521c35cd</td>\n",
              "      <td>0xc169a0e826f22fc7d37a48aaa346ffb4521c35cd</td>\n",
              "      <td>1.0</td>\n",
              "      <td>36669223048000000000</td>\n",
              "      <td>11</td>\n",
              "      <td>36669664048000000000</td>\n",
              "    </tr>\n",
              "  </tbody>\n",
              "</table>\n",
              "</div>"
            ],
            "text/plain": [
              "                                     address1  ...     tot_ether_recieved\n",
              "0  0xbc85a12364c9e375801c00aad17b893fc4c8f5b6  ...    2814843618099494913\n",
              "1  0xaca33c43bd8deac8e1d144baa51fe9c7dd7b010f  ...  740700000000000000000\n",
              "2                                         NaN  ...                      0\n",
              "3  0xe4faeef4002c200d9d4f1d381ccb5fb679d1c437  ...    1418314490000000000\n",
              "4  0xc169a0e826f22fc7d37a48aaa346ffb4521c35cd  ...   36669664048000000000\n",
              "\n",
              "[5 rows x 6 columns]"
            ]
          },
          "metadata": {
            "tags": []
          },
          "execution_count": 4
        }
      ]
    },
    {
      "cell_type": "code",
      "metadata": {
        "id": "zMAQux_n2yFk",
        "colab_type": "code",
        "outputId": "9da54239-82db-4057-c265-966d4494c436",
        "colab": {
          "base_uri": "https://localhost:8080/",
          "height": 134
        }
      },
      "source": [
        "in_out.isna().sum()"
      ],
      "execution_count": 5,
      "outputs": [
        {
          "output_type": "execute_result",
          "data": {
            "text/plain": [
              "address1                  133\n",
              "address2                    0\n",
              "no_of_out_transactions    133\n",
              "tot_ether_sent            133\n",
              "no_of_in_transactions       0\n",
              "tot_ether_recieved          0\n",
              "dtype: int64"
            ]
          },
          "metadata": {
            "tags": []
          },
          "execution_count": 5
        }
      ]
    },
    {
      "cell_type": "code",
      "metadata": {
        "id": "gqjrWfJ-2LEl",
        "colab_type": "code",
        "outputId": "d1bffc30-d3c1-449e-aac3-2efe06d06e00",
        "colab": {
          "base_uri": "https://localhost:8080/",
          "height": 262
        }
      },
      "source": [
        "print(balance.shape)\n",
        "print(balance.dtypes)\n",
        "balance.head(5)"
      ],
      "execution_count": 6,
      "outputs": [
        {
          "output_type": "stream",
          "text": [
            "(262, 2)\n",
            "address        object\n",
            "eth_balance    object\n",
            "dtype: object\n"
          ],
          "name": "stdout"
        },
        {
          "output_type": "execute_result",
          "data": {
            "text/html": [
              "<div>\n",
              "<style scoped>\n",
              "    .dataframe tbody tr th:only-of-type {\n",
              "        vertical-align: middle;\n",
              "    }\n",
              "\n",
              "    .dataframe tbody tr th {\n",
              "        vertical-align: top;\n",
              "    }\n",
              "\n",
              "    .dataframe thead th {\n",
              "        text-align: right;\n",
              "    }\n",
              "</style>\n",
              "<table border=\"1\" class=\"dataframe\">\n",
              "  <thead>\n",
              "    <tr style=\"text-align: right;\">\n",
              "      <th></th>\n",
              "      <th>address</th>\n",
              "      <th>eth_balance</th>\n",
              "    </tr>\n",
              "  </thead>\n",
              "  <tbody>\n",
              "    <tr>\n",
              "      <th>0</th>\n",
              "      <td>0xddff022e4befa69cbb5262446a8ae564700bea24</td>\n",
              "      <td>0</td>\n",
              "    </tr>\n",
              "    <tr>\n",
              "      <th>1</th>\n",
              "      <td>0x116574a18659f0063150e0064e4ea00349a1492c</td>\n",
              "      <td>0</td>\n",
              "    </tr>\n",
              "    <tr>\n",
              "      <th>2</th>\n",
              "      <td>0xce52d38539e1e557f184f1073a59f69c9ba95f28</td>\n",
              "      <td>0</td>\n",
              "    </tr>\n",
              "    <tr>\n",
              "      <th>3</th>\n",
              "      <td>0x5b67a30108e1a5f3d5a809d57e76cd16fdfde7a7</td>\n",
              "      <td>6000000000000000</td>\n",
              "    </tr>\n",
              "    <tr>\n",
              "      <th>4</th>\n",
              "      <td>0xa8454096f4a18e0252b411f670b3dd9d21465e75</td>\n",
              "      <td>0</td>\n",
              "    </tr>\n",
              "  </tbody>\n",
              "</table>\n",
              "</div>"
            ],
            "text/plain": [
              "                                      address       eth_balance\n",
              "0  0xddff022e4befa69cbb5262446a8ae564700bea24                 0\n",
              "1  0x116574a18659f0063150e0064e4ea00349a1492c                 0\n",
              "2  0xce52d38539e1e557f184f1073a59f69c9ba95f28                 0\n",
              "3  0x5b67a30108e1a5f3d5a809d57e76cd16fdfde7a7  6000000000000000\n",
              "4  0xa8454096f4a18e0252b411f670b3dd9d21465e75                 0"
            ]
          },
          "metadata": {
            "tags": []
          },
          "execution_count": 6
        }
      ]
    },
    {
      "cell_type": "code",
      "metadata": {
        "id": "w50B2Vaq2-Bx",
        "colab_type": "code",
        "outputId": "5e904e34-6f32-4141-a4f1-007e91c27145",
        "colab": {
          "base_uri": "https://localhost:8080/",
          "height": 67
        }
      },
      "source": [
        "balance.isna().sum()"
      ],
      "execution_count": 7,
      "outputs": [
        {
          "output_type": "execute_result",
          "data": {
            "text/plain": [
              "address        0\n",
              "eth_balance    0\n",
              "dtype: int64"
            ]
          },
          "metadata": {
            "tags": []
          },
          "execution_count": 7
        }
      ]
    },
    {
      "cell_type": "code",
      "metadata": {
        "id": "pqiJSWiY2Nde",
        "colab_type": "code",
        "outputId": "5d4832ec-85e9-4bb5-cf5c-5f0f38bd2586",
        "colab": {
          "base_uri": "https://localhost:8080/",
          "height": 296
        }
      },
      "source": [
        "print(monthly.shape)\n",
        "print(monthly.dtypes)\n",
        "monthly.head(5)"
      ],
      "execution_count": 8,
      "outputs": [
        {
          "output_type": "stream",
          "text": [
            "(256, 4)\n",
            "address1            object\n",
            "address2            object\n",
            "monthly_out_txn    float64\n",
            "monthly_in_txn     float64\n",
            "dtype: object\n"
          ],
          "name": "stdout"
        },
        {
          "output_type": "execute_result",
          "data": {
            "text/html": [
              "<div>\n",
              "<style scoped>\n",
              "    .dataframe tbody tr th:only-of-type {\n",
              "        vertical-align: middle;\n",
              "    }\n",
              "\n",
              "    .dataframe tbody tr th {\n",
              "        vertical-align: top;\n",
              "    }\n",
              "\n",
              "    .dataframe thead th {\n",
              "        text-align: right;\n",
              "    }\n",
              "</style>\n",
              "<table border=\"1\" class=\"dataframe\">\n",
              "  <thead>\n",
              "    <tr style=\"text-align: right;\">\n",
              "      <th></th>\n",
              "      <th>address1</th>\n",
              "      <th>address2</th>\n",
              "      <th>monthly_out_txn</th>\n",
              "      <th>monthly_in_txn</th>\n",
              "    </tr>\n",
              "  </thead>\n",
              "  <tbody>\n",
              "    <tr>\n",
              "      <th>0</th>\n",
              "      <td>0xbc85a12364c9e375801c00aad17b893fc4c8f5b6</td>\n",
              "      <td>0xbc85a12364c9e375801c00aad17b893fc4c8f5b6</td>\n",
              "      <td>2.000000</td>\n",
              "      <td>2.25</td>\n",
              "    </tr>\n",
              "    <tr>\n",
              "      <th>1</th>\n",
              "      <td>0x2056d2e97cc9ad78cf527b382495a8b9704ce011</td>\n",
              "      <td>0x2056d2e97cc9ad78cf527b382495a8b9704ce011</td>\n",
              "      <td>3.666667</td>\n",
              "      <td>3.00</td>\n",
              "    </tr>\n",
              "    <tr>\n",
              "      <th>2</th>\n",
              "      <td>NaN</td>\n",
              "      <td>0x4566b8b849dcdbe04f64bf1909db313cf60d6e41</td>\n",
              "      <td>NaN</td>\n",
              "      <td>2.50</td>\n",
              "    </tr>\n",
              "    <tr>\n",
              "      <th>3</th>\n",
              "      <td>0xf4c87c851d772b0f9e72cca0690327f2bc505015</td>\n",
              "      <td>0xf4c87c851d772b0f9e72cca0690327f2bc505015</td>\n",
              "      <td>3.333333</td>\n",
              "      <td>5.00</td>\n",
              "    </tr>\n",
              "    <tr>\n",
              "      <th>4</th>\n",
              "      <td>0xd3d7c71e4c5b1ff2f42fbb9b4a21f3373aa8b3b0</td>\n",
              "      <td>0xd3d7c71e4c5b1ff2f42fbb9b4a21f3373aa8b3b0</td>\n",
              "      <td>1.000000</td>\n",
              "      <td>2.00</td>\n",
              "    </tr>\n",
              "  </tbody>\n",
              "</table>\n",
              "</div>"
            ],
            "text/plain": [
              "                                     address1  ... monthly_in_txn\n",
              "0  0xbc85a12364c9e375801c00aad17b893fc4c8f5b6  ...           2.25\n",
              "1  0x2056d2e97cc9ad78cf527b382495a8b9704ce011  ...           3.00\n",
              "2                                         NaN  ...           2.50\n",
              "3  0xf4c87c851d772b0f9e72cca0690327f2bc505015  ...           5.00\n",
              "4  0xd3d7c71e4c5b1ff2f42fbb9b4a21f3373aa8b3b0  ...           2.00\n",
              "\n",
              "[5 rows x 4 columns]"
            ]
          },
          "metadata": {
            "tags": []
          },
          "execution_count": 8
        }
      ]
    },
    {
      "cell_type": "code",
      "metadata": {
        "id": "Qdo0godK3CEc",
        "colab_type": "code",
        "outputId": "edfdc172-1cb7-424f-c42b-86175bf68ff9",
        "colab": {
          "base_uri": "https://localhost:8080/",
          "height": 101
        }
      },
      "source": [
        "monthly.isna().sum()"
      ],
      "execution_count": 9,
      "outputs": [
        {
          "output_type": "execute_result",
          "data": {
            "text/plain": [
              "address1           133\n",
              "address2             0\n",
              "monthly_out_txn    133\n",
              "monthly_in_txn       0\n",
              "dtype: int64"
            ]
          },
          "metadata": {
            "tags": []
          },
          "execution_count": 9
        }
      ]
    },
    {
      "cell_type": "code",
      "metadata": {
        "id": "dUxLgjDQ2MX_",
        "colab_type": "code",
        "outputId": "7d68dbcf-b42b-48f3-c1f5-4209ece5d16c",
        "colab": {
          "base_uri": "https://localhost:8080/",
          "height": 262
        }
      },
      "source": [
        "print(active.shape)\n",
        "print(active.dtypes)\n",
        "active.head(5)"
      ],
      "execution_count": 10,
      "outputs": [
        {
          "output_type": "stream",
          "text": [
            "(256, 2)\n",
            "address          object\n",
            "active_months     int64\n",
            "dtype: object\n"
          ],
          "name": "stdout"
        },
        {
          "output_type": "execute_result",
          "data": {
            "text/html": [
              "<div>\n",
              "<style scoped>\n",
              "    .dataframe tbody tr th:only-of-type {\n",
              "        vertical-align: middle;\n",
              "    }\n",
              "\n",
              "    .dataframe tbody tr th {\n",
              "        vertical-align: top;\n",
              "    }\n",
              "\n",
              "    .dataframe thead th {\n",
              "        text-align: right;\n",
              "    }\n",
              "</style>\n",
              "<table border=\"1\" class=\"dataframe\">\n",
              "  <thead>\n",
              "    <tr style=\"text-align: right;\">\n",
              "      <th></th>\n",
              "      <th>address</th>\n",
              "      <th>active_months</th>\n",
              "    </tr>\n",
              "  </thead>\n",
              "  <tbody>\n",
              "    <tr>\n",
              "      <th>0</th>\n",
              "      <td>0x22eb0b23e5ad7ef827aff13b2e40ed63e277844e</td>\n",
              "      <td>7</td>\n",
              "    </tr>\n",
              "    <tr>\n",
              "      <th>1</th>\n",
              "      <td>0x68a91eba9c82b475091077e16357bb2dded479f4</td>\n",
              "      <td>1</td>\n",
              "    </tr>\n",
              "    <tr>\n",
              "      <th>2</th>\n",
              "      <td>0x5bc989f38ec9b913b0fbd8b702858214d428a1bd</td>\n",
              "      <td>2</td>\n",
              "    </tr>\n",
              "    <tr>\n",
              "      <th>3</th>\n",
              "      <td>0xd0cc2b24980cbcca47ef755da88b220a82291407</td>\n",
              "      <td>3</td>\n",
              "    </tr>\n",
              "    <tr>\n",
              "      <th>4</th>\n",
              "      <td>0xe1632e7e0dc135f3bc8991b917e8b682ab340fe1</td>\n",
              "      <td>3</td>\n",
              "    </tr>\n",
              "  </tbody>\n",
              "</table>\n",
              "</div>"
            ],
            "text/plain": [
              "                                      address  active_months\n",
              "0  0x22eb0b23e5ad7ef827aff13b2e40ed63e277844e              7\n",
              "1  0x68a91eba9c82b475091077e16357bb2dded479f4              1\n",
              "2  0x5bc989f38ec9b913b0fbd8b702858214d428a1bd              2\n",
              "3  0xd0cc2b24980cbcca47ef755da88b220a82291407              3\n",
              "4  0xe1632e7e0dc135f3bc8991b917e8b682ab340fe1              3"
            ]
          },
          "metadata": {
            "tags": []
          },
          "execution_count": 10
        }
      ]
    },
    {
      "cell_type": "code",
      "metadata": {
        "id": "OPQpQ9rR3Esj",
        "colab_type": "code",
        "outputId": "d423fd25-60bc-4dbe-a514-6ed10e1afa91",
        "colab": {
          "base_uri": "https://localhost:8080/",
          "height": 67
        }
      },
      "source": [
        "active.isna().sum()"
      ],
      "execution_count": 11,
      "outputs": [
        {
          "output_type": "execute_result",
          "data": {
            "text/plain": [
              "address          0\n",
              "active_months    0\n",
              "dtype: int64"
            ]
          },
          "metadata": {
            "tags": []
          },
          "execution_count": 11
        }
      ]
    },
    {
      "cell_type": "code",
      "metadata": {
        "id": "Ffnp_2y7AFQA",
        "colab_type": "code",
        "outputId": "778af889-a216-40b5-c25b-e9056e14e232",
        "colab": {
          "base_uri": "https://localhost:8080/",
          "height": 330
        }
      },
      "source": [
        "print(time_bw_txn.shape)\n",
        "print(time_bw_txn.dtypes)\n",
        "time_bw_txn.head(5)"
      ],
      "execution_count": 12,
      "outputs": [
        {
          "output_type": "stream",
          "text": [
            "(256, 6)\n",
            "address1            object\n",
            "no_of_in_txn         int64\n",
            "total_count          int64\n",
            "address2            object\n",
            "no_of_out_txn      float64\n",
            "total_out_count    float64\n",
            "dtype: object\n"
          ],
          "name": "stdout"
        },
        {
          "output_type": "execute_result",
          "data": {
            "text/html": [
              "<div>\n",
              "<style scoped>\n",
              "    .dataframe tbody tr th:only-of-type {\n",
              "        vertical-align: middle;\n",
              "    }\n",
              "\n",
              "    .dataframe tbody tr th {\n",
              "        vertical-align: top;\n",
              "    }\n",
              "\n",
              "    .dataframe thead th {\n",
              "        text-align: right;\n",
              "    }\n",
              "</style>\n",
              "<table border=\"1\" class=\"dataframe\">\n",
              "  <thead>\n",
              "    <tr style=\"text-align: right;\">\n",
              "      <th></th>\n",
              "      <th>address1</th>\n",
              "      <th>no_of_in_txn</th>\n",
              "      <th>total_count</th>\n",
              "      <th>address2</th>\n",
              "      <th>no_of_out_txn</th>\n",
              "      <th>total_out_count</th>\n",
              "    </tr>\n",
              "  </thead>\n",
              "  <tbody>\n",
              "    <tr>\n",
              "      <th>0</th>\n",
              "      <td>0x116574a18659f0063150e0064e4ea00349a1492c</td>\n",
              "      <td>11703412</td>\n",
              "      <td>5</td>\n",
              "      <td>NaN</td>\n",
              "      <td>NaN</td>\n",
              "      <td>NaN</td>\n",
              "    </tr>\n",
              "    <tr>\n",
              "      <th>1</th>\n",
              "      <td>0x47dc6f08214f891cc910d6d2abfb504c2584f14f</td>\n",
              "      <td>10820809</td>\n",
              "      <td>5</td>\n",
              "      <td>NaN</td>\n",
              "      <td>NaN</td>\n",
              "      <td>NaN</td>\n",
              "    </tr>\n",
              "    <tr>\n",
              "      <th>2</th>\n",
              "      <td>0xaa1886de3f70a3ef502ea1379a311c5b4e05f3fd</td>\n",
              "      <td>3198368</td>\n",
              "      <td>36</td>\n",
              "      <td>0xaa1886de3f70a3ef502ea1379a311c5b4e05f3fd</td>\n",
              "      <td>9919294.0</td>\n",
              "      <td>28.0</td>\n",
              "    </tr>\n",
              "    <tr>\n",
              "      <th>3</th>\n",
              "      <td>0x0a4392f623faf54de72cbf6f567e1a7808251cd3</td>\n",
              "      <td>4217</td>\n",
              "      <td>2</td>\n",
              "      <td>0x0a4392f623faf54de72cbf6f567e1a7808251cd3</td>\n",
              "      <td>3831782.0</td>\n",
              "      <td>4.0</td>\n",
              "    </tr>\n",
              "    <tr>\n",
              "      <th>4</th>\n",
              "      <td>0x91ef0754d270e67f2ca92595f5a1c0459ec7df89</td>\n",
              "      <td>137913</td>\n",
              "      <td>2</td>\n",
              "      <td>NaN</td>\n",
              "      <td>NaN</td>\n",
              "      <td>NaN</td>\n",
              "    </tr>\n",
              "  </tbody>\n",
              "</table>\n",
              "</div>"
            ],
            "text/plain": [
              "                                     address1  ...  total_out_count\n",
              "0  0x116574a18659f0063150e0064e4ea00349a1492c  ...              NaN\n",
              "1  0x47dc6f08214f891cc910d6d2abfb504c2584f14f  ...              NaN\n",
              "2  0xaa1886de3f70a3ef502ea1379a311c5b4e05f3fd  ...             28.0\n",
              "3  0x0a4392f623faf54de72cbf6f567e1a7808251cd3  ...              4.0\n",
              "4  0x91ef0754d270e67f2ca92595f5a1c0459ec7df89  ...              NaN\n",
              "\n",
              "[5 rows x 6 columns]"
            ]
          },
          "metadata": {
            "tags": []
          },
          "execution_count": 12
        }
      ]
    },
    {
      "cell_type": "code",
      "metadata": {
        "id": "bRnvkfrNH16p",
        "colab_type": "code",
        "colab": {}
      },
      "source": [
        "def drop_columns(df,columns=[]):\n",
        "  for i in columns:\n",
        "    df = df.drop(i,axis=1)\n",
        "  return df"
      ],
      "execution_count": 0,
      "outputs": []
    },
    {
      "cell_type": "code",
      "metadata": {
        "id": "puYoEQYkHoFD",
        "colab_type": "code",
        "colab": {}
      },
      "source": [
        "time_bw_txn['time_b/w_out_txn'] = time_bw_txn['no_of_out_txn'].div(time_bw_txn['total_out_count'])\n",
        "time_bw_txn['time_b/w_in_txn'] = time_bw_txn['no_of_in_txn'].div(time_bw_txn['total_count'])"
      ],
      "execution_count": 0,
      "outputs": []
    },
    {
      "cell_type": "code",
      "metadata": {
        "id": "O8FBnzJ3IKiJ",
        "colab_type": "code",
        "colab": {}
      },
      "source": [
        "time_bw_txn = drop_columns(time_bw_txn,['no_of_in_txn','total_count',\t'no_of_out_txn',\t'total_out_count'])"
      ],
      "execution_count": 0,
      "outputs": []
    },
    {
      "cell_type": "code",
      "metadata": {
        "id": "Zlly1CBICCln",
        "colab_type": "code",
        "outputId": "27a97942-aebc-4db0-f271-0ffbd5898dfb",
        "colab": {
          "base_uri": "https://localhost:8080/",
          "height": 101
        }
      },
      "source": [
        "time_bw_txn.isna().sum()"
      ],
      "execution_count": 16,
      "outputs": [
        {
          "output_type": "execute_result",
          "data": {
            "text/plain": [
              "address1              0\n",
              "address2            133\n",
              "time_b/w_out_txn    133\n",
              "time_b/w_in_txn       0\n",
              "dtype: int64"
            ]
          },
          "metadata": {
            "tags": []
          },
          "execution_count": 16
        }
      ]
    },
    {
      "cell_type": "code",
      "metadata": {
        "id": "tQLrvvKEAGm5",
        "colab_type": "code",
        "outputId": "e17c12f6-ef3c-4024-b1e8-ecce6a1b0887",
        "colab": {
          "base_uri": "https://localhost:8080/",
          "height": 383
        }
      },
      "source": [
        "print(token.shape)\n",
        "print(token.dtypes)\n",
        "token.head(5)"
      ],
      "execution_count": 17,
      "outputs": [
        {
          "output_type": "stream",
          "text": [
            "(103, 8)\n",
            "address1                         object\n",
            "address2                         object\n",
            "tot_distinct_tokens_recieved      int64\n",
            "tot_tokens_recieved               int64\n",
            "tot_token_value_recieved        float64\n",
            "tot_distinct_tokens_sent        float64\n",
            "tot_tokens_sent                 float64\n",
            "tot_token_value_sent            float64\n",
            "dtype: object\n"
          ],
          "name": "stdout"
        },
        {
          "output_type": "execute_result",
          "data": {
            "text/html": [
              "<div>\n",
              "<style scoped>\n",
              "    .dataframe tbody tr th:only-of-type {\n",
              "        vertical-align: middle;\n",
              "    }\n",
              "\n",
              "    .dataframe tbody tr th {\n",
              "        vertical-align: top;\n",
              "    }\n",
              "\n",
              "    .dataframe thead th {\n",
              "        text-align: right;\n",
              "    }\n",
              "</style>\n",
              "<table border=\"1\" class=\"dataframe\">\n",
              "  <thead>\n",
              "    <tr style=\"text-align: right;\">\n",
              "      <th></th>\n",
              "      <th>address1</th>\n",
              "      <th>address2</th>\n",
              "      <th>tot_distinct_tokens_recieved</th>\n",
              "      <th>tot_tokens_recieved</th>\n",
              "      <th>tot_token_value_recieved</th>\n",
              "      <th>tot_distinct_tokens_sent</th>\n",
              "      <th>tot_tokens_sent</th>\n",
              "      <th>tot_token_value_sent</th>\n",
              "    </tr>\n",
              "  </thead>\n",
              "  <tbody>\n",
              "    <tr>\n",
              "      <th>0</th>\n",
              "      <td>0xaca33c43bd8deac8e1d144baa51fe9c7dd7b010f</td>\n",
              "      <td>0xaca33c43bd8deac8e1d144baa51fe9c7dd7b010f</td>\n",
              "      <td>37</td>\n",
              "      <td>50</td>\n",
              "      <td>5.206866e+23</td>\n",
              "      <td>36.0</td>\n",
              "      <td>37.0</td>\n",
              "      <td>5.231796e+23</td>\n",
              "    </tr>\n",
              "    <tr>\n",
              "      <th>1</th>\n",
              "      <td>0x858457daa7e087ad74cdeeceab8419079bc2ca03</td>\n",
              "      <td>0x858457daa7e087ad74cdeeceab8419079bc2ca03</td>\n",
              "      <td>43</td>\n",
              "      <td>148</td>\n",
              "      <td>9.645465e+23</td>\n",
              "      <td>34.0</td>\n",
              "      <td>65.0</td>\n",
              "      <td>9.581459e+23</td>\n",
              "    </tr>\n",
              "    <tr>\n",
              "      <th>2</th>\n",
              "      <td>0xda657e9fa116900fab8178e5580a3a6cedd89f3c</td>\n",
              "      <td>0xda657e9fa116900fab8178e5580a3a6cedd89f3c</td>\n",
              "      <td>55</td>\n",
              "      <td>136</td>\n",
              "      <td>4.285094e+23</td>\n",
              "      <td>34.0</td>\n",
              "      <td>38.0</td>\n",
              "      <td>4.092339e+23</td>\n",
              "    </tr>\n",
              "    <tr>\n",
              "      <th>3</th>\n",
              "      <td>0x4de76b3dfd38292ba71cf2465ca3a1d526dcb567</td>\n",
              "      <td>NaN</td>\n",
              "      <td>59</td>\n",
              "      <td>61</td>\n",
              "      <td>1.157921e+59</td>\n",
              "      <td>NaN</td>\n",
              "      <td>NaN</td>\n",
              "      <td>NaN</td>\n",
              "    </tr>\n",
              "    <tr>\n",
              "      <th>4</th>\n",
              "      <td>0x35ad1cb9a39de486cebcce3cf51661fd6c848193</td>\n",
              "      <td>NaN</td>\n",
              "      <td>1</td>\n",
              "      <td>1</td>\n",
              "      <td>2.273129e+18</td>\n",
              "      <td>NaN</td>\n",
              "      <td>NaN</td>\n",
              "      <td>NaN</td>\n",
              "    </tr>\n",
              "  </tbody>\n",
              "</table>\n",
              "</div>"
            ],
            "text/plain": [
              "                                     address1  ... tot_token_value_sent\n",
              "0  0xaca33c43bd8deac8e1d144baa51fe9c7dd7b010f  ...         5.231796e+23\n",
              "1  0x858457daa7e087ad74cdeeceab8419079bc2ca03  ...         9.581459e+23\n",
              "2  0xda657e9fa116900fab8178e5580a3a6cedd89f3c  ...         4.092339e+23\n",
              "3  0x4de76b3dfd38292ba71cf2465ca3a1d526dcb567  ...                  NaN\n",
              "4  0x35ad1cb9a39de486cebcce3cf51661fd6c848193  ...                  NaN\n",
              "\n",
              "[5 rows x 8 columns]"
            ]
          },
          "metadata": {
            "tags": []
          },
          "execution_count": 17
        }
      ]
    },
    {
      "cell_type": "code",
      "metadata": {
        "id": "y5dx5jGWCIPg",
        "colab_type": "code",
        "outputId": "8cd9653c-ff04-42a8-bda3-8e5405c90344",
        "colab": {
          "base_uri": "https://localhost:8080/",
          "height": 168
        }
      },
      "source": [
        "token.isna().sum()"
      ],
      "execution_count": 18,
      "outputs": [
        {
          "output_type": "execute_result",
          "data": {
            "text/plain": [
              "address1                         0\n",
              "address2                        59\n",
              "tot_distinct_tokens_recieved     0\n",
              "tot_tokens_recieved              0\n",
              "tot_token_value_recieved         0\n",
              "tot_distinct_tokens_sent        59\n",
              "tot_tokens_sent                 59\n",
              "tot_token_value_sent            59\n",
              "dtype: int64"
            ]
          },
          "metadata": {
            "tags": []
          },
          "execution_count": 18
        }
      ]
    },
    {
      "cell_type": "code",
      "metadata": {
        "id": "QgI3TtzayPco",
        "colab_type": "code",
        "colab": {}
      },
      "source": [
        "def combine_columns(df,column1,column2,new_column):\n",
        "  df[new_column] = '' \n",
        "  for i in range(len(df)):\n",
        "    if df[column1].iloc[i] == df[column2].iloc[i] or df[column2].iloc[i] == 'NaN':\n",
        "      df[new_column].iloc[i] = df[column1].iloc[i]\n",
        "    else:\n",
        "      df[new_column].iloc[i] = df[column2].iloc[i]\n",
        "  df = df.drop(column1,axis=1)\n",
        "  df = df.drop(column2,axis=1)\n",
        "  return df\n"
      ],
      "execution_count": 0,
      "outputs": []
    },
    {
      "cell_type": "code",
      "metadata": {
        "id": "QCLXVxoCyWJg",
        "colab_type": "code",
        "outputId": "a9d046c9-a3f4-425e-d2c1-fa54ecabb029",
        "colab": {
          "base_uri": "https://localhost:8080/",
          "height": 101
        }
      },
      "source": [
        "in_out = combine_columns(in_out,'address1','address2','address')\n",
        "monthly= combine_columns(monthly,'address1','address2','address')\n",
        "token = combine_columns(token,'address1','address2','address')\n",
        "time_bw_txn = combine_columns(time_bw_txn,'address1','address2','address')"
      ],
      "execution_count": 20,
      "outputs": [
        {
          "output_type": "stream",
          "text": [
            "/usr/local/lib/python3.6/dist-packages/pandas/core/indexing.py:671: SettingWithCopyWarning: \n",
            "A value is trying to be set on a copy of a slice from a DataFrame\n",
            "\n",
            "See the caveats in the documentation: https://pandas.pydata.org/pandas-docs/stable/user_guide/indexing.html#returning-a-view-versus-a-copy\n",
            "  self._setitem_with_indexer(indexer, value)\n"
          ],
          "name": "stderr"
        }
      ]
    },
    {
      "cell_type": "code",
      "metadata": {
        "id": "ICTwaybC4Ta2",
        "colab_type": "code",
        "colab": {}
      },
      "source": [
        "df = pd.merge(in_out,monthly,how='inner' , on='address')\n",
        "df = pd.merge(df,active,how='inner' , on='address')\n",
        "df = pd.merge(df,balance,how='inner' , on='address')"
      ],
      "execution_count": 0,
      "outputs": []
    },
    {
      "cell_type": "code",
      "metadata": {
        "id": "KMuim65rKjZB",
        "colab_type": "code",
        "colab": {
          "base_uri": "https://localhost:8080/",
          "height": 202
        },
        "outputId": "96b77929-17a5-4473-b18a-62d1ed32191e"
      },
      "source": [
        "print(df.shape)\n",
        "print(df.isna().sum())"
      ],
      "execution_count": 32,
      "outputs": [
        {
          "output_type": "stream",
          "text": [
            "(256, 9)\n",
            "no_of_out_transactions    133\n",
            "tot_ether_sent            133\n",
            "no_of_in_transactions       0\n",
            "tot_ether_recieved          0\n",
            "address                     0\n",
            "monthly_out_txn           133\n",
            "monthly_in_txn              0\n",
            "active_months               0\n",
            "eth_balance                 0\n",
            "dtype: int64\n"
          ],
          "name": "stdout"
        }
      ]
    },
    {
      "cell_type": "code",
      "metadata": {
        "id": "95APwwbpKZIT",
        "colab_type": "code",
        "colab": {}
      },
      "source": [
        "df= pd.merge(df,time_bw_txn,how='left' , on='address')"
      ],
      "execution_count": 0,
      "outputs": []
    },
    {
      "cell_type": "code",
      "metadata": {
        "id": "2uTgjX6lLTqh",
        "colab_type": "code",
        "colab": {
          "base_uri": "https://localhost:8080/",
          "height": 235
        },
        "outputId": "73ac5870-477e-43f5-a2e1-155dda62c054"
      },
      "source": [
        "print(df.shape)\n",
        "print(df.isna().sum())"
      ],
      "execution_count": 34,
      "outputs": [
        {
          "output_type": "stream",
          "text": [
            "(256, 11)\n",
            "no_of_out_transactions    133\n",
            "tot_ether_sent            133\n",
            "no_of_in_transactions       0\n",
            "tot_ether_recieved          0\n",
            "address                     0\n",
            "monthly_out_txn           133\n",
            "monthly_in_txn              0\n",
            "active_months               0\n",
            "eth_balance                 0\n",
            "time_b/w_out_txn          133\n",
            "time_b/w_in_txn           133\n",
            "dtype: int64\n"
          ],
          "name": "stdout"
        }
      ]
    },
    {
      "cell_type": "code",
      "metadata": {
        "id": "8bP9yKQgKN0k",
        "colab_type": "code",
        "colab": {}
      },
      "source": [
        "df = pd.merge(df,token,how='left' , on='address')"
      ],
      "execution_count": 0,
      "outputs": []
    },
    {
      "cell_type": "code",
      "metadata": {
        "id": "IyFnZbjCLstD",
        "colab_type": "code",
        "colab": {
          "base_uri": "https://localhost:8080/",
          "height": 336
        },
        "outputId": "cb1facf7-d70a-4e1d-9326-d52c7c922196"
      },
      "source": [
        "print(df.shape)\n",
        "print(df.isna().sum())"
      ],
      "execution_count": 36,
      "outputs": [
        {
          "output_type": "stream",
          "text": [
            "(256, 17)\n",
            "no_of_out_transactions          133\n",
            "tot_ether_sent                  133\n",
            "no_of_in_transactions             0\n",
            "tot_ether_recieved                0\n",
            "address                           0\n",
            "monthly_out_txn                 133\n",
            "monthly_in_txn                    0\n",
            "active_months                     0\n",
            "eth_balance                       0\n",
            "time_b/w_out_txn                133\n",
            "time_b/w_in_txn                 133\n",
            "tot_distinct_tokens_recieved    212\n",
            "tot_tokens_recieved             212\n",
            "tot_token_value_recieved        212\n",
            "tot_distinct_tokens_sent        212\n",
            "tot_tokens_sent                 212\n",
            "tot_token_value_sent            212\n",
            "dtype: int64\n"
          ],
          "name": "stdout"
        }
      ]
    },
    {
      "cell_type": "code",
      "metadata": {
        "id": "XcjBLAE5D5w6",
        "colab_type": "code",
        "outputId": "4c960088-af2f-4a49-ecab-984aeea967be",
        "colab": {
          "base_uri": "https://localhost:8080/",
          "height": 518
        }
      },
      "source": [
        "print(df.dtypes)\n",
        "df.head(5)"
      ],
      "execution_count": 39,
      "outputs": [
        {
          "output_type": "stream",
          "text": [
            "no_of_out_transactions          float64\n",
            "tot_ether_sent                   object\n",
            "no_of_in_transactions             int64\n",
            "tot_ether_recieved               object\n",
            "address                          object\n",
            "monthly_out_txn                 float64\n",
            "monthly_in_txn                  float64\n",
            "active_months                     int64\n",
            "eth_balance                      object\n",
            "time_b/w_out_txn                float64\n",
            "time_b/w_in_txn                 float64\n",
            "tot_distinct_tokens_recieved    float64\n",
            "tot_tokens_recieved             float64\n",
            "tot_token_value_recieved        float64\n",
            "tot_distinct_tokens_sent        float64\n",
            "tot_tokens_sent                 float64\n",
            "tot_token_value_sent            float64\n",
            "dtype: object\n"
          ],
          "name": "stdout"
        },
        {
          "output_type": "execute_result",
          "data": {
            "text/html": [
              "<div>\n",
              "<style scoped>\n",
              "    .dataframe tbody tr th:only-of-type {\n",
              "        vertical-align: middle;\n",
              "    }\n",
              "\n",
              "    .dataframe tbody tr th {\n",
              "        vertical-align: top;\n",
              "    }\n",
              "\n",
              "    .dataframe thead th {\n",
              "        text-align: right;\n",
              "    }\n",
              "</style>\n",
              "<table border=\"1\" class=\"dataframe\">\n",
              "  <thead>\n",
              "    <tr style=\"text-align: right;\">\n",
              "      <th></th>\n",
              "      <th>no_of_out_transactions</th>\n",
              "      <th>tot_ether_sent</th>\n",
              "      <th>no_of_in_transactions</th>\n",
              "      <th>tot_ether_recieved</th>\n",
              "      <th>address</th>\n",
              "      <th>monthly_out_txn</th>\n",
              "      <th>monthly_in_txn</th>\n",
              "      <th>active_months</th>\n",
              "      <th>eth_balance</th>\n",
              "      <th>time_b/w_out_txn</th>\n",
              "      <th>time_b/w_in_txn</th>\n",
              "      <th>tot_distinct_tokens_recieved</th>\n",
              "      <th>tot_tokens_recieved</th>\n",
              "      <th>tot_token_value_recieved</th>\n",
              "      <th>tot_distinct_tokens_sent</th>\n",
              "      <th>tot_tokens_sent</th>\n",
              "      <th>tot_token_value_sent</th>\n",
              "    </tr>\n",
              "  </thead>\n",
              "  <tbody>\n",
              "    <tr>\n",
              "      <th>0</th>\n",
              "      <td>8.0</td>\n",
              "      <td>2811315618099494900</td>\n",
              "      <td>9</td>\n",
              "      <td>2814843618099494913</td>\n",
              "      <td>0xbc85a12364c9e375801c00aad17b893fc4c8f5b6</td>\n",
              "      <td>2.0</td>\n",
              "      <td>2.250000</td>\n",
              "      <td>4</td>\n",
              "      <td>13</td>\n",
              "      <td>1.023034e+06</td>\n",
              "      <td>919086.000000</td>\n",
              "      <td>NaN</td>\n",
              "      <td>NaN</td>\n",
              "      <td>NaN</td>\n",
              "      <td>NaN</td>\n",
              "      <td>NaN</td>\n",
              "      <td>NaN</td>\n",
              "    </tr>\n",
              "    <tr>\n",
              "      <th>1</th>\n",
              "      <td>42.0</td>\n",
              "      <td>740550000000000000000</td>\n",
              "      <td>2</td>\n",
              "      <td>740700000000000000000</td>\n",
              "      <td>0xaca33c43bd8deac8e1d144baa51fe9c7dd7b010f</td>\n",
              "      <td>42.0</td>\n",
              "      <td>2.000000</td>\n",
              "      <td>1</td>\n",
              "      <td>59454780000000000</td>\n",
              "      <td>1.385895e+04</td>\n",
              "      <td>78321.500000</td>\n",
              "      <td>37.0</td>\n",
              "      <td>50.0</td>\n",
              "      <td>5.206866e+23</td>\n",
              "      <td>36.0</td>\n",
              "      <td>37.0</td>\n",
              "      <td>5.231796e+23</td>\n",
              "    </tr>\n",
              "    <tr>\n",
              "      <th>2</th>\n",
              "      <td>NaN</td>\n",
              "      <td>NaN</td>\n",
              "      <td>5</td>\n",
              "      <td>0</td>\n",
              "      <td>0xa6ba0996684fcff6167128a13c8b0a1648310e6e</td>\n",
              "      <td>NaN</td>\n",
              "      <td>1.666667</td>\n",
              "      <td>3</td>\n",
              "      <td>0</td>\n",
              "      <td>NaN</td>\n",
              "      <td>NaN</td>\n",
              "      <td>NaN</td>\n",
              "      <td>NaN</td>\n",
              "      <td>NaN</td>\n",
              "      <td>NaN</td>\n",
              "      <td>NaN</td>\n",
              "      <td>NaN</td>\n",
              "    </tr>\n",
              "    <tr>\n",
              "      <th>3</th>\n",
              "      <td>6.0</td>\n",
              "      <td>1412854490000000000</td>\n",
              "      <td>6</td>\n",
              "      <td>1418314490000000000</td>\n",
              "      <td>0xe4faeef4002c200d9d4f1d381ccb5fb679d1c437</td>\n",
              "      <td>6.0</td>\n",
              "      <td>6.000000</td>\n",
              "      <td>1</td>\n",
              "      <td>0</td>\n",
              "      <td>1.797197e+05</td>\n",
              "      <td>179742.666667</td>\n",
              "      <td>NaN</td>\n",
              "      <td>NaN</td>\n",
              "      <td>NaN</td>\n",
              "      <td>NaN</td>\n",
              "      <td>NaN</td>\n",
              "      <td>NaN</td>\n",
              "    </tr>\n",
              "    <tr>\n",
              "      <th>4</th>\n",
              "      <td>1.0</td>\n",
              "      <td>36669223048000000000</td>\n",
              "      <td>11</td>\n",
              "      <td>36669664048000000000</td>\n",
              "      <td>0xc169a0e826f22fc7d37a48aaa346ffb4521c35cd</td>\n",
              "      <td>1.0</td>\n",
              "      <td>11.000000</td>\n",
              "      <td>2</td>\n",
              "      <td>0</td>\n",
              "      <td>0.000000e+00</td>\n",
              "      <td>6683.181818</td>\n",
              "      <td>NaN</td>\n",
              "      <td>NaN</td>\n",
              "      <td>NaN</td>\n",
              "      <td>NaN</td>\n",
              "      <td>NaN</td>\n",
              "      <td>NaN</td>\n",
              "    </tr>\n",
              "  </tbody>\n",
              "</table>\n",
              "</div>"
            ],
            "text/plain": [
              "   no_of_out_transactions  ... tot_token_value_sent\n",
              "0                     8.0  ...                  NaN\n",
              "1                    42.0  ...         5.231796e+23\n",
              "2                     NaN  ...                  NaN\n",
              "3                     6.0  ...                  NaN\n",
              "4                     1.0  ...                  NaN\n",
              "\n",
              "[5 rows x 17 columns]"
            ]
          },
          "metadata": {
            "tags": []
          },
          "execution_count": 39
        }
      ]
    },
    {
      "cell_type": "code",
      "metadata": {
        "colab_type": "code",
        "id": "zkO8Wv-YMoP6",
        "colab": {}
      },
      "source": [
        "df = df.fillna(0)"
      ],
      "execution_count": 0,
      "outputs": []
    },
    {
      "cell_type": "code",
      "metadata": {
        "id": "s2xK_NDzDH-B",
        "colab_type": "code",
        "colab": {}
      },
      "source": [
        "df = drop_columns(df,['tot_distinct_tokens_recieved','tot_tokens_recieved','tot_distinct_tokens_sent','tot_tokens_sent'])"
      ],
      "execution_count": 0,
      "outputs": []
    },
    {
      "cell_type": "code",
      "metadata": {
        "id": "vFH_sN_vDSIT",
        "colab_type": "code",
        "colab": {}
      },
      "source": [
        "df['eth_balance'] = pd.to_numeric(df['eth_balance'], downcast=\"float\",errors='coerce')\n",
        "df['monthly_out_txn'] = pd.to_numeric(df['monthly_out_txn'], downcast=\"float\",errors='coerce')\n",
        "df['tot_ether_sent'] = pd.to_numeric(df['tot_ether_sent'], downcast=\"float\",errors='coerce')\n",
        "df['tot_ether_recieved'] = pd.to_numeric(df['tot_ether_recieved'], downcast=\"float\",errors='coerce')"
      ],
      "execution_count": 0,
      "outputs": []
    },
    {
      "cell_type": "code",
      "metadata": {
        "id": "VTihqV-wC6p4",
        "colab_type": "code",
        "colab": {}
      },
      "source": [
        "df['monthly_ether_sent']=0\n",
        "df['monthly_ether_recieved']=0\n",
        "df['monthly_ether_sent']= df['tot_ether_sent' ].div(df['active_months'])\n",
        "df['monthly_ether_recieved']= df['tot_ether_recieved'].div(df['active_months'])"
      ],
      "execution_count": 0,
      "outputs": []
    },
    {
      "cell_type": "code",
      "metadata": {
        "id": "cSfY6ha35YrQ",
        "colab_type": "code",
        "colab": {
          "base_uri": "https://localhost:8080/",
          "height": 363
        },
        "outputId": "9d86c9ce-9fb8-4ecb-ebab-98806fa189df"
      },
      "source": [
        "wei = pow(10,18) \n",
        "attributes = ['eth_balance', 'tot_ether_recieved', 'tot_ether_sent', 'tot_token_value_recieved','tot_token_value_sent', 'monthly_ether_sent', 'monthly_ether_recieved']\n",
        "for attr in attributes:\n",
        "  if df[attr].dtype == 'object':\n",
        "    df[attr] = pd.to_numeric(df[attr], errors='coerce')\n",
        "  df[attr] = df[attr].div(wei)\n",
        "\n",
        "df.head(10)"
      ],
      "execution_count": 44,
      "outputs": [
        {
          "output_type": "execute_result",
          "data": {
            "text/html": [
              "<div>\n",
              "<style scoped>\n",
              "    .dataframe tbody tr th:only-of-type {\n",
              "        vertical-align: middle;\n",
              "    }\n",
              "\n",
              "    .dataframe tbody tr th {\n",
              "        vertical-align: top;\n",
              "    }\n",
              "\n",
              "    .dataframe thead th {\n",
              "        text-align: right;\n",
              "    }\n",
              "</style>\n",
              "<table border=\"1\" class=\"dataframe\">\n",
              "  <thead>\n",
              "    <tr style=\"text-align: right;\">\n",
              "      <th></th>\n",
              "      <th>no_of_out_transactions</th>\n",
              "      <th>tot_ether_sent</th>\n",
              "      <th>no_of_in_transactions</th>\n",
              "      <th>tot_ether_recieved</th>\n",
              "      <th>address</th>\n",
              "      <th>monthly_out_txn</th>\n",
              "      <th>monthly_in_txn</th>\n",
              "      <th>active_months</th>\n",
              "      <th>eth_balance</th>\n",
              "      <th>time_b/w_out_txn</th>\n",
              "      <th>time_b/w_in_txn</th>\n",
              "      <th>tot_token_value_recieved</th>\n",
              "      <th>tot_token_value_sent</th>\n",
              "      <th>monthly_ether_sent</th>\n",
              "      <th>monthly_ether_recieved</th>\n",
              "    </tr>\n",
              "  </thead>\n",
              "  <tbody>\n",
              "    <tr>\n",
              "      <th>0</th>\n",
              "      <td>8.0</td>\n",
              "      <td>2.811316</td>\n",
              "      <td>9</td>\n",
              "      <td>2.814844</td>\n",
              "      <td>0xbc85a12364c9e375801c00aad17b893fc4c8f5b6</td>\n",
              "      <td>2.0</td>\n",
              "      <td>2.250000</td>\n",
              "      <td>4</td>\n",
              "      <td>1.300000e-17</td>\n",
              "      <td>1.023034e+06</td>\n",
              "      <td>9.190860e+05</td>\n",
              "      <td>0.000000</td>\n",
              "      <td>0.000000</td>\n",
              "      <td>0.702829</td>\n",
              "      <td>0.703711</td>\n",
              "    </tr>\n",
              "    <tr>\n",
              "      <th>1</th>\n",
              "      <td>42.0</td>\n",
              "      <td>740.549968</td>\n",
              "      <td>2</td>\n",
              "      <td>740.699994</td>\n",
              "      <td>0xaca33c43bd8deac8e1d144baa51fe9c7dd7b010f</td>\n",
              "      <td>42.0</td>\n",
              "      <td>2.000000</td>\n",
              "      <td>1</td>\n",
              "      <td>5.945478e-02</td>\n",
              "      <td>1.385895e+04</td>\n",
              "      <td>7.832150e+04</td>\n",
              "      <td>520686.550205</td>\n",
              "      <td>523179.550132</td>\n",
              "      <td>740.549968</td>\n",
              "      <td>740.699994</td>\n",
              "    </tr>\n",
              "    <tr>\n",
              "      <th>2</th>\n",
              "      <td>0.0</td>\n",
              "      <td>0.000000</td>\n",
              "      <td>5</td>\n",
              "      <td>0.000000</td>\n",
              "      <td>0xa6ba0996684fcff6167128a13c8b0a1648310e6e</td>\n",
              "      <td>0.0</td>\n",
              "      <td>1.666667</td>\n",
              "      <td>3</td>\n",
              "      <td>0.000000e+00</td>\n",
              "      <td>0.000000e+00</td>\n",
              "      <td>0.000000e+00</td>\n",
              "      <td>0.000000</td>\n",
              "      <td>0.000000</td>\n",
              "      <td>0.000000</td>\n",
              "      <td>0.000000</td>\n",
              "    </tr>\n",
              "    <tr>\n",
              "      <th>3</th>\n",
              "      <td>6.0</td>\n",
              "      <td>1.412854</td>\n",
              "      <td>6</td>\n",
              "      <td>1.418314</td>\n",
              "      <td>0xe4faeef4002c200d9d4f1d381ccb5fb679d1c437</td>\n",
              "      <td>6.0</td>\n",
              "      <td>6.000000</td>\n",
              "      <td>1</td>\n",
              "      <td>0.000000e+00</td>\n",
              "      <td>1.797197e+05</td>\n",
              "      <td>1.797427e+05</td>\n",
              "      <td>0.000000</td>\n",
              "      <td>0.000000</td>\n",
              "      <td>1.412854</td>\n",
              "      <td>1.418314</td>\n",
              "    </tr>\n",
              "    <tr>\n",
              "      <th>4</th>\n",
              "      <td>1.0</td>\n",
              "      <td>36.669223</td>\n",
              "      <td>11</td>\n",
              "      <td>36.669665</td>\n",
              "      <td>0xc169a0e826f22fc7d37a48aaa346ffb4521c35cd</td>\n",
              "      <td>1.0</td>\n",
              "      <td>11.000000</td>\n",
              "      <td>2</td>\n",
              "      <td>0.000000e+00</td>\n",
              "      <td>0.000000e+00</td>\n",
              "      <td>6.683182e+03</td>\n",
              "      <td>0.000000</td>\n",
              "      <td>0.000000</td>\n",
              "      <td>18.334611</td>\n",
              "      <td>18.334832</td>\n",
              "    </tr>\n",
              "    <tr>\n",
              "      <th>5</th>\n",
              "      <td>0.0</td>\n",
              "      <td>0.000000</td>\n",
              "      <td>6</td>\n",
              "      <td>0.000000</td>\n",
              "      <td>0xe824ec0f8384600f3187967f8b098014e31892f2</td>\n",
              "      <td>0.0</td>\n",
              "      <td>2.000000</td>\n",
              "      <td>3</td>\n",
              "      <td>0.000000e+00</td>\n",
              "      <td>0.000000e+00</td>\n",
              "      <td>0.000000e+00</td>\n",
              "      <td>0.000000</td>\n",
              "      <td>0.000000</td>\n",
              "      <td>0.000000</td>\n",
              "      <td>0.000000</td>\n",
              "    </tr>\n",
              "    <tr>\n",
              "      <th>6</th>\n",
              "      <td>2.0</td>\n",
              "      <td>84.199079</td>\n",
              "      <td>39</td>\n",
              "      <td>84.200363</td>\n",
              "      <td>0x0d9786138578fcdcce04435592545ef08422d755</td>\n",
              "      <td>2.0</td>\n",
              "      <td>39.000000</td>\n",
              "      <td>2</td>\n",
              "      <td>0.000000e+00</td>\n",
              "      <td>8.762365e+05</td>\n",
              "      <td>1.309385e+03</td>\n",
              "      <td>0.000000</td>\n",
              "      <td>0.000000</td>\n",
              "      <td>42.099539</td>\n",
              "      <td>42.100181</td>\n",
              "    </tr>\n",
              "    <tr>\n",
              "      <th>7</th>\n",
              "      <td>109.0</td>\n",
              "      <td>1630.570044</td>\n",
              "      <td>111</td>\n",
              "      <td>1630.577362</td>\n",
              "      <td>0x858457daa7e087ad74cdeeceab8419079bc2ca03</td>\n",
              "      <td>54.5</td>\n",
              "      <td>55.500000</td>\n",
              "      <td>2</td>\n",
              "      <td>5.647398e-02</td>\n",
              "      <td>2.782896e+04</td>\n",
              "      <td>2.731745e+04</td>\n",
              "      <td>964546.530340</td>\n",
              "      <td>958145.856340</td>\n",
              "      <td>815.285022</td>\n",
              "      <td>815.288681</td>\n",
              "    </tr>\n",
              "    <tr>\n",
              "      <th>8</th>\n",
              "      <td>0.0</td>\n",
              "      <td>0.000000</td>\n",
              "      <td>5</td>\n",
              "      <td>0.000000</td>\n",
              "      <td>0xac9093198de62e5289163e85bacb53ead596b9f3</td>\n",
              "      <td>0.0</td>\n",
              "      <td>1.666667</td>\n",
              "      <td>3</td>\n",
              "      <td>0.000000e+00</td>\n",
              "      <td>0.000000e+00</td>\n",
              "      <td>0.000000e+00</td>\n",
              "      <td>0.000000</td>\n",
              "      <td>0.000000</td>\n",
              "      <td>0.000000</td>\n",
              "      <td>0.000000</td>\n",
              "    </tr>\n",
              "    <tr>\n",
              "      <th>9</th>\n",
              "      <td>1.0</td>\n",
              "      <td>0.440000</td>\n",
              "      <td>5</td>\n",
              "      <td>0.446000</td>\n",
              "      <td>0x7bb386c33486fe345168d0af94bef03897e16022</td>\n",
              "      <td>1.0</td>\n",
              "      <td>2.500000</td>\n",
              "      <td>2</td>\n",
              "      <td>5.895000e-03</td>\n",
              "      <td>0.000000e+00</td>\n",
              "      <td>1.594796e+06</td>\n",
              "      <td>0.000000</td>\n",
              "      <td>0.000000</td>\n",
              "      <td>0.220000</td>\n",
              "      <td>0.223000</td>\n",
              "    </tr>\n",
              "  </tbody>\n",
              "</table>\n",
              "</div>"
            ],
            "text/plain": [
              "   no_of_out_transactions  ...  monthly_ether_recieved\n",
              "0                     8.0  ...                0.703711\n",
              "1                    42.0  ...              740.699994\n",
              "2                     0.0  ...                0.000000\n",
              "3                     6.0  ...                1.418314\n",
              "4                     1.0  ...               18.334832\n",
              "5                     0.0  ...                0.000000\n",
              "6                     2.0  ...               42.100181\n",
              "7                   109.0  ...              815.288681\n",
              "8                     0.0  ...                0.000000\n",
              "9                     1.0  ...                0.223000\n",
              "\n",
              "[10 rows x 15 columns]"
            ]
          },
          "metadata": {
            "tags": []
          },
          "execution_count": 44
        }
      ]
    },
    {
      "cell_type": "code",
      "metadata": {
        "id": "ZSlsMgaCFigH",
        "colab_type": "code",
        "colab": {
          "base_uri": "https://localhost:8080/",
          "height": 302
        },
        "outputId": "dbfdec07-02e2-44e0-c3cf-f33609412f02"
      },
      "source": [
        "print(df.shape)\n",
        "print(df.dtypes)"
      ],
      "execution_count": 45,
      "outputs": [
        {
          "output_type": "stream",
          "text": [
            "(256, 15)\n",
            "no_of_out_transactions      float64\n",
            "tot_ether_sent              float64\n",
            "no_of_in_transactions         int64\n",
            "tot_ether_recieved          float64\n",
            "address                      object\n",
            "monthly_out_txn             float32\n",
            "monthly_in_txn              float64\n",
            "active_months                 int64\n",
            "eth_balance                 float64\n",
            "time_b/w_out_txn            float64\n",
            "time_b/w_in_txn             float64\n",
            "tot_token_value_recieved    float64\n",
            "tot_token_value_sent        float64\n",
            "monthly_ether_sent          float64\n",
            "monthly_ether_recieved      float64\n",
            "dtype: object\n"
          ],
          "name": "stdout"
        }
      ]
    },
    {
      "cell_type": "code",
      "metadata": {
        "id": "5uB9OUH-DgfO",
        "colab_type": "code",
        "colab": {}
      },
      "source": [
        "df.to_csv(r'/content/gdrive/My Drive/project_data/malicious_txn_data.csv', index = False)"
      ],
      "execution_count": 0,
      "outputs": []
    }
  ]
}